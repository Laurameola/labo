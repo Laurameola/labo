{
 "cells": [
  {
   "cell_type": "code",
   "execution_count": 1,
   "id": "b3ef4c69-0781-4e53-9681-85d813791b32",
   "metadata": {},
   "outputs": [
    {
     "data": {
      "text/html": [
       "<table class=\"dataframe\">\n",
       "<caption>A matrix: 2 × 6 of type dbl</caption>\n",
       "<thead>\n",
       "\t<tr><th></th><th scope=col>used</th><th scope=col>(Mb)</th><th scope=col>gc trigger</th><th scope=col>(Mb)</th><th scope=col>max used</th><th scope=col>(Mb)</th></tr>\n",
       "</thead>\n",
       "<tbody>\n",
       "\t<tr><th scope=row>Ncells</th><td> 613860</td><td>32.8</td><td>1330087</td><td>71.1</td><td>1124984</td><td>60.1</td></tr>\n",
       "\t<tr><th scope=row>Vcells</th><td>1149311</td><td> 8.8</td><td>8388608</td><td>64.0</td><td>1801055</td><td>13.8</td></tr>\n",
       "</tbody>\n",
       "</table>\n"
      ],
      "text/latex": [
       "A matrix: 2 × 6 of type dbl\n",
       "\\begin{tabular}{r|llllll}\n",
       "  & used & (Mb) & gc trigger & (Mb) & max used & (Mb)\\\\\n",
       "\\hline\n",
       "\tNcells &  613860 & 32.8 & 1330087 & 71.1 & 1124984 & 60.1\\\\\n",
       "\tVcells & 1149311 &  8.8 & 8388608 & 64.0 & 1801055 & 13.8\\\\\n",
       "\\end{tabular}\n"
      ],
      "text/markdown": [
       "\n",
       "A matrix: 2 × 6 of type dbl\n",
       "\n",
       "| <!--/--> | used | (Mb) | gc trigger | (Mb) | max used | (Mb) |\n",
       "|---|---|---|---|---|---|---|\n",
       "| Ncells |  613860 | 32.8 | 1330087 | 71.1 | 1124984 | 60.1 |\n",
       "| Vcells | 1149311 |  8.8 | 8388608 | 64.0 | 1801055 | 13.8 |\n",
       "\n"
      ],
      "text/plain": [
       "       used    (Mb) gc trigger (Mb) max used (Mb)\n",
       "Ncells  613860 32.8 1330087    71.1 1124984  60.1\n",
       "Vcells 1149311  8.8 8388608    64.0 1801055  13.8"
      ]
     },
     "metadata": {},
     "output_type": "display_data"
    },
    {
     "name": "stderr",
     "output_type": "stream",
     "text": [
      "Loading required package: data.table\n",
      "\n"
     ]
    }
   ],
   "source": [
    "#limpio la memoria\n",
    "rm( list=ls() )  #remove all objects\n",
    "gc()             #garbage collection\n",
    "\n",
    "require(\"data.table\")"
   ]
  },
  {
   "cell_type": "code",
   "execution_count": 2,
   "id": "7a5d4ae8-58e0-4896-9f68-b6b07d5c37c5",
   "metadata": {},
   "outputs": [],
   "source": [
    "#setwd(\"C:/_MCD/Labo1/code\")  #Establezco el Working Directory\n",
    "setwd(\"~/buckets/b1/\")\n",
    "\n",
    "#cargo el dataset\n",
    "dataset  <- fread(\"./datasets/competencia2_2022.csv.gz\")   #donde entreno"
   ]
  },
  {
   "cell_type": "code",
   "execution_count": 3,
   "id": "2ce79895-53e6-4154-abd0-30c0915f14c8",
   "metadata": {},
   "outputs": [
    {
     "data": {
      "text/html": [
       "4214386"
      ],
      "text/latex": [
       "4214386"
      ],
      "text/markdown": [
       "4214386"
      ],
      "text/plain": [
       "[1] 4214386"
      ]
     },
     "metadata": {},
     "output_type": "display_data"
    }
   ],
   "source": [
    "nrow(dataset)"
   ]
  },
  {
   "cell_type": "code",
   "execution_count": 4,
   "id": "bae71437-0a95-4605-98a7-e3ef9491a4ff",
   "metadata": {},
   "outputs": [],
   "source": [
    "CorregirCampoMes  <- function( pcampo, pmeses )\n",
    "{\n",
    "  tbl <- dataset[  ,  list( \"v1\" = shift( get(pcampo), 1, type=\"lag\" ),\n",
    "                            \"v2\" = shift( get(pcampo), 1, type=\"lead\" )\n",
    "  ), \n",
    "  by=numero_de_cliente ]\n",
    "  \n",
    "  tbl[ , numero_de_cliente := NULL ]\n",
    "  tbl[ , promedio := rowMeans( tbl,  na.rm=TRUE ) ]\n",
    "  \n",
    "  dataset[ ,\n",
    "           paste0(pcampo) := ifelse( !(foto_mes %in% pmeses),\n",
    "                                     get( pcampo),\n",
    "                                     tbl$promedio ) ]\n",
    "}"
   ]
  },
  {
   "cell_type": "code",
   "execution_count": 5,
   "id": "e1f34442-1092-4eb2-acf5-520af88989b9",
   "metadata": {},
   "outputs": [],
   "source": [
    "#------------------------------------------------------------------------------\n",
    "# reemplaza cada variable ROTA  (variable, foto_mes)  con el promedio entre  ( mes_anterior, mes_posterior )\n",
    "\n",
    "Corregir_EstadisticaClasica  <- function( dataset )\n",
    "{\n",
    "  CorregirCampoMes( \"active_quarter\", c(202006) )    \n",
    "    \n",
    "  CorregirCampoMes( \"mrentabilidad\", c(201905, 201910, 202006) )\n",
    "  CorregirCampoMes( \"mrentabilidad_annual\", c(201905, 201910, 202006) )\n",
    "  CorregirCampoMes( \"mcomisiones\", c(201905, 201910, 202006) )\n",
    "  CorregirCampoMes( \"mactivos_margen\", c(201905, 201910, 202006) )\n",
    "  CorregirCampoMes( \"mpasivos_margen\", c(201905, 201910, 202006) )\n",
    "    \n",
    "  CorregirCampoMes( \"mcuentas_saldo\", c(202006) )\n",
    "    \n",
    "  CorregirCampoMes( \"ctarjeta_debito_transacciones\", c(202006) )\n",
    "  CorregirCampoMes( \"mautoservicio\", c(202006) )\n",
    "    \n",
    "  CorregirCampoMes( \"ctarjeta_visa_transacciones\", c(202006) )\n",
    "  CorregirCampoMes( \"mtarjeta_visa_consumo\", c(202006) )\n",
    "    \n",
    "  CorregirCampoMes( \"ctarjeta_master_transacciones\", c(202006) )\n",
    "  CorregirCampoMes( \"mtarjeta_master_consumo\", c(202006) )\n",
    "\n",
    "  CorregirCampoMes( \"ctarjeta_visa_debitos_automaticos\", c(201904) )\n",
    "  CorregirCampoMes( \"mttarjeta_visa_debitos_automaticos\", c(201904) )\n",
    "\n",
    "  CorregirCampoMes( \"cpagodeservicios\", c(201901,201902,201903,201904,201905) )\n",
    "  CorregirCampoMes( \"mpagodeservicios\", c(201901,201902,201903,201904,201905) ) \n",
    "  CorregirCampoMes( \"cpagomiscuentas\", c(201901,201902,201903,201904,201905) ) \n",
    "  CorregirCampoMes( \"mpagomiscuentas\", c(201901,201902,201903,201904,201905) )     \n",
    "    \n",
    "  CorregirCampoMes( \"ccomisiones_mantenimiento\", c(201901) )\n",
    "  CorregirCampoMes( \"mcomisiones_mantenimiento\", c(201901) )    \n",
    "  CorregirCampoMes( \"ccomisiones_otras\", c(201905, 201910, 202006) )\n",
    "  CorregirCampoMes( \"mcomisiones_otras\", c(201905, 201910, 202006) )  \n",
    "\n",
    "  CorregirCampoMes( \"ctransferencias_recibidas\", c(201901,201902,201903,201904,201905) )\n",
    "  CorregirCampoMes( \"mtransferencias_recibidas\", c(201901,201902,201903,201904,201905) )\n",
    "  \n",
    "  CorregirCampoMes( \"cextraccion_autoservicio\", c(202006) )\n",
    "  CorregirCampoMes( \"mextraccion_autoservicio\", c(202006) )    \n",
    "  CorregirCampoMes( \"ccheques_depositados\", c(202006) )\n",
    "  CorregirCampoMes( \"mcheques_depositados\", c(202006) )\n",
    "  CorregirCampoMes( \"mcheques_emitidos\", c(202006) )\n",
    "  CorregirCampoMes( \"mcheques_emitidos\", c(202006) )\n",
    "  CorregirCampoMes( \"ccheques_depositados_rechazados\", c(202006) )\n",
    "  CorregirCampoMes( \"mcheques_depositados_rechazados\", c(202006) )\n",
    "  CorregirCampoMes( \"ccheques_emitidos_rechazados\", c(202006) )\n",
    "  CorregirCampoMes( \"mcheques_emitidos_rechazados\", c(202006) )       \n",
    "  CorregirCampoMes( \"tcallcenter\", c(202006) )\n",
    "  CorregirCampoMes( \"ccallcenter_transacciones\", c(202006) )    \n",
    "  CorregirCampoMes( \"thomebanking\", c(202006) )\n",
    "  CorregirCampoMes( \"chomebanking_transacciones\", c( 201910, 202006) )\n",
    "  CorregirCampoMes( \"ccajas_transacciones\", c(202006) )\n",
    "  CorregirCampoMes( \"ccajas_consultas\", c(202006) )\n",
    "  CorregirCampoMes( \"ccajas_depositos\", c(202006) )\n",
    "  CorregirCampoMes( \"ccajas_extracciones\", c(202006) )\n",
    "  CorregirCampoMes( \"ccajas_otras\", c(202006) )\n",
    "  CorregirCampoMes( \"catm_trx\", c(202006) )\n",
    "  CorregirCampoMes( \"matm\", c(202006) )\n",
    "  CorregirCampoMes( \"catm_trx_other\", c(202006) )\n",
    "  CorregirCampoMes( \"matm_other\", c(202006) )\n",
    "    \n",
    "  CorregirCampoMes( \"cmobile_app_trx\", c(201901,201902,201903,201904,201905,201906,202006) )\n",
    "\n",
    "  CorregirCampoMes( \"Master_mfinanciacion_limite\", c(201904,202104) )\n",
    "    \n",
    "  CorregirCampoMes( \"Master_fultimo_cierre\", c(201907,202009) )\n",
    "\n",
    "  CorregirCampoMes( \"Master_mpagado\", c(202011,202012) )\n",
    "\n",
    " CorregirCampoMes( \"Visa_mfinanciacion_limite\", c(201904) )\n",
    "       \n",
    "  CorregirCampoMes( \"Visa_fultimo_cierre\", c(201907,202009) )\n",
    "  CorregirCampoMes( \"Visa_mpagado\", c(202011,202012) )   \n",
    "}"
   ]
  },
  {
   "cell_type": "code",
   "execution_count": 6,
   "id": "7a9ebb22-e241-42e7-945f-a9acd2491794",
   "metadata": {},
   "outputs": [],
   "source": [
    "#Elimino los campos problematicos\n",
    "#Internet se daño a partir de 202010\n",
    "dataset[  , internet := NULL ]\n",
    "\n",
    "#Internet se daño a partir de 202010\n",
    "dataset[  , tmobile_app := NULL ]\n",
    "\n",
    "#Ordeno para imputar correctamente\n",
    "setorder( dataset, numero_de_cliente, foto_mes )\n",
    "\n",
    "Corregir_EstadisticaClasica( dataset )"
   ]
  },
  {
   "cell_type": "code",
   "execution_count": 7,
   "id": "3917e67a-9550-44a6-bdd2-cb6904a2acbb",
   "metadata": {},
   "outputs": [],
   "source": [
    "fwrite( dataset,\n",
    "        file=\"./datasets/competencia2_2022_reparacEstad.csv.gz\",\n",
    "        logical01= TRUE,\n",
    "        sep= \",\" )"
   ]
  },
  {
   "cell_type": "code",
   "execution_count": 8,
   "id": "f622fadc-926f-4fb5-a509-83f509a36ed7",
   "metadata": {},
   "outputs": [
    {
     "data": {
      "text/html": [
       "<table class=\"dataframe\">\n",
       "<caption>A data.table: 29 × 3</caption>\n",
       "<thead>\n",
       "\t<tr><th scope=col>numero_de_cliente</th><th scope=col>foto_mes</th><th scope=col>ctrx_quarter</th></tr>\n",
       "\t<tr><th scope=col>&lt;int&gt;</th><th scope=col>&lt;int&gt;</th><th scope=col>&lt;dbl&gt;</th></tr>\n",
       "</thead>\n",
       "<tbody>\n",
       "\t<tr><td>35293777</td><td>201901</td><td>21.0</td></tr>\n",
       "\t<tr><td>35293777</td><td>201902</td><td>23.0</td></tr>\n",
       "\t<tr><td>35293777</td><td>201903</td><td>22.0</td></tr>\n",
       "\t<tr><td>35293777</td><td>201904</td><td>24.0</td></tr>\n",
       "\t<tr><td>35293777</td><td>201905</td><td>24.0</td></tr>\n",
       "\t<tr><td>35293777</td><td>201906</td><td>23.0</td></tr>\n",
       "\t<tr><td>35293777</td><td>201907</td><td>24.0</td></tr>\n",
       "\t<tr><td>35293777</td><td>201908</td><td>23.0</td></tr>\n",
       "\t<tr><td>35293777</td><td>201909</td><td>24.0</td></tr>\n",
       "\t<tr><td>35293777</td><td>201910</td><td>24.0</td></tr>\n",
       "\t<tr><td>35293777</td><td>201911</td><td>30.0</td></tr>\n",
       "\t<tr><td>35293777</td><td>201912</td><td>32.0</td></tr>\n",
       "\t<tr><td>35293777</td><td>202001</td><td>34.0</td></tr>\n",
       "\t<tr><td>35293777</td><td>202002</td><td>27.0</td></tr>\n",
       "\t<tr><td>35293777</td><td>202003</td><td>25.0</td></tr>\n",
       "\t<tr><td>35293777</td><td>202004</td><td>28.0</td></tr>\n",
       "\t<tr><td>35293777</td><td>202005</td><td>32.0</td></tr>\n",
       "\t<tr><td>35293777</td><td>202006</td><td>32.5</td></tr>\n",
       "\t<tr><td>35293777</td><td>202007</td><td>33.0</td></tr>\n",
       "\t<tr><td>35293777</td><td>202008</td><td>34.0</td></tr>\n",
       "\t<tr><td>35293777</td><td>202009</td><td>35.0</td></tr>\n",
       "\t<tr><td>35293777</td><td>202010</td><td>35.0</td></tr>\n",
       "\t<tr><td>35293777</td><td>202011</td><td>37.0</td></tr>\n",
       "\t<tr><td>35293777</td><td>202012</td><td>43.0</td></tr>\n",
       "\t<tr><td>35293777</td><td>202101</td><td>52.0</td></tr>\n",
       "\t<tr><td>35293777</td><td>202102</td><td>54.0</td></tr>\n",
       "\t<tr><td>35293777</td><td>202103</td><td>59.0</td></tr>\n",
       "\t<tr><td>35293777</td><td>202104</td><td>57.0</td></tr>\n",
       "\t<tr><td>35293777</td><td>202105</td><td>71.0</td></tr>\n",
       "</tbody>\n",
       "</table>\n"
      ],
      "text/latex": [
       "A data.table: 29 × 3\n",
       "\\begin{tabular}{lll}\n",
       " numero\\_de\\_cliente & foto\\_mes & ctrx\\_quarter\\\\\n",
       " <int> & <int> & <dbl>\\\\\n",
       "\\hline\n",
       "\t 35293777 & 201901 & 21.0\\\\\n",
       "\t 35293777 & 201902 & 23.0\\\\\n",
       "\t 35293777 & 201903 & 22.0\\\\\n",
       "\t 35293777 & 201904 & 24.0\\\\\n",
       "\t 35293777 & 201905 & 24.0\\\\\n",
       "\t 35293777 & 201906 & 23.0\\\\\n",
       "\t 35293777 & 201907 & 24.0\\\\\n",
       "\t 35293777 & 201908 & 23.0\\\\\n",
       "\t 35293777 & 201909 & 24.0\\\\\n",
       "\t 35293777 & 201910 & 24.0\\\\\n",
       "\t 35293777 & 201911 & 30.0\\\\\n",
       "\t 35293777 & 201912 & 32.0\\\\\n",
       "\t 35293777 & 202001 & 34.0\\\\\n",
       "\t 35293777 & 202002 & 27.0\\\\\n",
       "\t 35293777 & 202003 & 25.0\\\\\n",
       "\t 35293777 & 202004 & 28.0\\\\\n",
       "\t 35293777 & 202005 & 32.0\\\\\n",
       "\t 35293777 & 202006 & 32.5\\\\\n",
       "\t 35293777 & 202007 & 33.0\\\\\n",
       "\t 35293777 & 202008 & 34.0\\\\\n",
       "\t 35293777 & 202009 & 35.0\\\\\n",
       "\t 35293777 & 202010 & 35.0\\\\\n",
       "\t 35293777 & 202011 & 37.0\\\\\n",
       "\t 35293777 & 202012 & 43.0\\\\\n",
       "\t 35293777 & 202101 & 52.0\\\\\n",
       "\t 35293777 & 202102 & 54.0\\\\\n",
       "\t 35293777 & 202103 & 59.0\\\\\n",
       "\t 35293777 & 202104 & 57.0\\\\\n",
       "\t 35293777 & 202105 & 71.0\\\\\n",
       "\\end{tabular}\n"
      ],
      "text/markdown": [
       "\n",
       "A data.table: 29 × 3\n",
       "\n",
       "| numero_de_cliente &lt;int&gt; | foto_mes &lt;int&gt; | ctrx_quarter &lt;dbl&gt; |\n",
       "|---|---|---|\n",
       "| 35293777 | 201901 | 21.0 |\n",
       "| 35293777 | 201902 | 23.0 |\n",
       "| 35293777 | 201903 | 22.0 |\n",
       "| 35293777 | 201904 | 24.0 |\n",
       "| 35293777 | 201905 | 24.0 |\n",
       "| 35293777 | 201906 | 23.0 |\n",
       "| 35293777 | 201907 | 24.0 |\n",
       "| 35293777 | 201908 | 23.0 |\n",
       "| 35293777 | 201909 | 24.0 |\n",
       "| 35293777 | 201910 | 24.0 |\n",
       "| 35293777 | 201911 | 30.0 |\n",
       "| 35293777 | 201912 | 32.0 |\n",
       "| 35293777 | 202001 | 34.0 |\n",
       "| 35293777 | 202002 | 27.0 |\n",
       "| 35293777 | 202003 | 25.0 |\n",
       "| 35293777 | 202004 | 28.0 |\n",
       "| 35293777 | 202005 | 32.0 |\n",
       "| 35293777 | 202006 | 32.5 |\n",
       "| 35293777 | 202007 | 33.0 |\n",
       "| 35293777 | 202008 | 34.0 |\n",
       "| 35293777 | 202009 | 35.0 |\n",
       "| 35293777 | 202010 | 35.0 |\n",
       "| 35293777 | 202011 | 37.0 |\n",
       "| 35293777 | 202012 | 43.0 |\n",
       "| 35293777 | 202101 | 52.0 |\n",
       "| 35293777 | 202102 | 54.0 |\n",
       "| 35293777 | 202103 | 59.0 |\n",
       "| 35293777 | 202104 | 57.0 |\n",
       "| 35293777 | 202105 | 71.0 |\n",
       "\n"
      ],
      "text/plain": [
       "   numero_de_cliente foto_mes ctrx_quarter\n",
       "1  35293777          201901   21.0        \n",
       "2  35293777          201902   23.0        \n",
       "3  35293777          201903   22.0        \n",
       "4  35293777          201904   24.0        \n",
       "5  35293777          201905   24.0        \n",
       "6  35293777          201906   23.0        \n",
       "7  35293777          201907   24.0        \n",
       "8  35293777          201908   23.0        \n",
       "9  35293777          201909   24.0        \n",
       "10 35293777          201910   24.0        \n",
       "11 35293777          201911   30.0        \n",
       "12 35293777          201912   32.0        \n",
       "13 35293777          202001   34.0        \n",
       "14 35293777          202002   27.0        \n",
       "15 35293777          202003   25.0        \n",
       "16 35293777          202004   28.0        \n",
       "17 35293777          202005   32.0        \n",
       "18 35293777          202006   32.5        \n",
       "19 35293777          202007   33.0        \n",
       "20 35293777          202008   34.0        \n",
       "21 35293777          202009   35.0        \n",
       "22 35293777          202010   35.0        \n",
       "23 35293777          202011   37.0        \n",
       "24 35293777          202012   43.0        \n",
       "25 35293777          202101   52.0        \n",
       "26 35293777          202102   54.0        \n",
       "27 35293777          202103   59.0        \n",
       "28 35293777          202104   57.0        \n",
       "29 35293777          202105   71.0        "
      ]
     },
     "metadata": {},
     "output_type": "display_data"
    }
   ],
   "source": [
    "dataset[numero_de_cliente %in% c(35293777),list(numero_de_cliente,foto_mes,ctrx_quarter)]"
   ]
  }
 ],
 "metadata": {
  "kernelspec": {
   "display_name": "R",
   "language": "R",
   "name": "ir"
  },
  "language_info": {
   "codemirror_mode": "r",
   "file_extension": ".r",
   "mimetype": "text/x-r-source",
   "name": "R",
   "pygments_lexer": "r",
   "version": "4.2.1"
  }
 },
 "nbformat": 4,
 "nbformat_minor": 5
}
