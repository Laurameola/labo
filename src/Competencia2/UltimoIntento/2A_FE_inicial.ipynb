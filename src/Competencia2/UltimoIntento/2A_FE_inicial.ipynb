{
 "cells": [
  {
   "cell_type": "code",
   "execution_count": 1,
   "id": "52a64b1e-3bd7-45b3-a461-9414cff48788",
   "metadata": {},
   "outputs": [
    {
     "data": {
      "text/html": [
       "<table class=\"dataframe\">\n",
       "<caption>A matrix: 2 × 6 of type dbl</caption>\n",
       "<thead>\n",
       "\t<tr><th></th><th scope=col>used</th><th scope=col>(Mb)</th><th scope=col>gc trigger</th><th scope=col>(Mb)</th><th scope=col>max used</th><th scope=col>(Mb)</th></tr>\n",
       "</thead>\n",
       "<tbody>\n",
       "\t<tr><th scope=row>Ncells</th><td> 613860</td><td>32.8</td><td>1330087</td><td>71.1</td><td>1124983</td><td>60.1</td></tr>\n",
       "\t<tr><th scope=row>Vcells</th><td>1149311</td><td> 8.8</td><td>8388608</td><td>64.0</td><td>1801055</td><td>13.8</td></tr>\n",
       "</tbody>\n",
       "</table>\n"
      ],
      "text/latex": [
       "A matrix: 2 × 6 of type dbl\n",
       "\\begin{tabular}{r|llllll}\n",
       "  & used & (Mb) & gc trigger & (Mb) & max used & (Mb)\\\\\n",
       "\\hline\n",
       "\tNcells &  613860 & 32.8 & 1330087 & 71.1 & 1124983 & 60.1\\\\\n",
       "\tVcells & 1149311 &  8.8 & 8388608 & 64.0 & 1801055 & 13.8\\\\\n",
       "\\end{tabular}\n"
      ],
      "text/markdown": [
       "\n",
       "A matrix: 2 × 6 of type dbl\n",
       "\n",
       "| <!--/--> | used | (Mb) | gc trigger | (Mb) | max used | (Mb) |\n",
       "|---|---|---|---|---|---|---|\n",
       "| Ncells |  613860 | 32.8 | 1330087 | 71.1 | 1124983 | 60.1 |\n",
       "| Vcells | 1149311 |  8.8 | 8388608 | 64.0 | 1801055 | 13.8 |\n",
       "\n"
      ],
      "text/plain": [
       "       used    (Mb) gc trigger (Mb) max used (Mb)\n",
       "Ncells  613860 32.8 1330087    71.1 1124983  60.1\n",
       "Vcells 1149311  8.8 8388608    64.0 1801055  13.8"
      ]
     },
     "metadata": {},
     "output_type": "display_data"
    },
    {
     "name": "stderr",
     "output_type": "stream",
     "text": [
      "Loading required package: data.table\n",
      "\n"
     ]
    }
   ],
   "source": [
    "#limpio la memoria\n",
    "rm( list=ls() )  #remove all objects\n",
    "gc()             #garbage collection\n",
    "\n",
    "require(\"data.table\")"
   ]
  },
  {
   "cell_type": "code",
   "execution_count": 2,
   "id": "9fc36d42-2a05-45f4-b0d0-150d67ad874a",
   "metadata": {},
   "outputs": [],
   "source": [
    "#Parametros del script\n",
    "#setwd(\"C:/_MCD/Labo1/code\")  #Establezco el Working Directory\n",
    "setwd(\"~/buckets/b1/\")\n",
    "\n",
    "#cargo el dataset\n",
    "dataset  <- fread(\"./datasets/alt_c2_reparacNA.csv.gz\")   #donde entreno# FIN Parametros del script"
   ]
  },
  {
   "cell_type": "code",
   "execution_count": 3,
   "id": "652cfc90-1162-4755-acbf-a1946900820c",
   "metadata": {},
   "outputs": [],
   "source": [
    "\n",
    "AgregarVariables  <- function( dataset )\n",
    "{\n",
    "  gc()\n",
    "  #INICIO de la seccion donde se deben hacer cambios con variables nuevas\n",
    "\n",
    "  #creo un ctr_quarter que tenga en cuenta cuando los clientes hace 3 menos meses que estan\n",
    "  dataset[  , ctrx_quarter_normalizado := ctrx_quarter ]\n",
    "  dataset[ cliente_antiguedad==1 , ctrx_quarter_normalizado := ctrx_quarter * 5 ]\n",
    "  dataset[ cliente_antiguedad==2 , ctrx_quarter_normalizado := ctrx_quarter * 2 ]\n",
    "  dataset[ cliente_antiguedad==3 , ctrx_quarter_normalizado := ctrx_quarter * 1.2 ]\n",
    "  \n",
    "  #variable extraida de una tesis de maestria de Irlanda\n",
    "  dataset[  , mpayroll_sobre_edad  := mpayroll / cliente_edad ]\n",
    "  dataset[ , vm_msaldopesos          := rowSums( cbind( Master_msaldopesos,  Visa_msaldopesos) , na.rm=TRUE ) ]\n",
    "  dataset[ , vm_Fvencimiento         := pmin( Master_Fvencimiento, Visa_Fvencimiento, na.rm = TRUE) ]\n",
    "  dataset[ , vm_fechaalta            := pmax( Master_fechaalta, Visa_fechaalta, na.rm = TRUE) ]\n",
    "  dataset[ , vmr_msaldototal         := vm_msaldototal / vm_mlimitecompra ]\n",
    "  dataset[ , vmr_mpagominimo         := vm_mpagominimo  / vm_mlimitecompra ]\n",
    "\n",
    "    #MIAS\n",
    "    dataset[ , mprestamos                 := rowSums( cbind( mprestamos_personales, mprestamos_prendarios, mprestamos_hipotecarios) , na.rm=TRUE ) ]\n",
    "    dataset[ , mdebitos_automaticos                := rowSums( cbind( mcuenta_debitos_automaticos,mttarjeta_visa_debitos_automaticos,mttarjeta_master_debitos_automaticos ) , na.rm=TRUE ) ]\n",
    "    dataset[ , mpago_servicios_total                := rowSums( cbind( mpagodeservicios,mpagomiscuentas ) , na.rm=TRUE ) ]\n",
    "    dataset[ , mtarjeta_credito_consumos    := rowSums( cbind(mtarjeta_visa_consumo,mtarjeta_master_consumo ) , na.rm=TRUE ) ]\n",
    "    dataset[ , cpayroll_total    := rowSums( cbind(cpayroll_trx,cpayroll2_trx ) , na.rm=TRUE ) ]\n",
    "   dataset[ , mpayroll_total    := rowSums( cbind(mpayroll,mpayroll2 ) , na.rm=TRUE ) ]\n",
    "    dataset[ , minversion1                := rowSums( cbind( minversion1_pesos, minversion1_dolares) , na.rm=TRUE ) ]\n",
    "    dataset[ , minversion12                := rowSums( cbind( minversion1, minversion2) , na.rm=TRUE ) ]\n",
    "    dataset[ , minversion_total                := rowSums( cbind( minversion12, mplazo_fijo) , na.rm=TRUE ) ]\n",
    "\n",
    "    dataset[ , mgasto_mensual_estim    := rowSums( cbind(mdebitos_automaticos,mpago_servicios_total,mtransferencias_emitidas,mextraccion_autoservicio,mcheques_emitidos,ccajas_extracciones,mautoservicio,mtarjeta_credito_consumos ) , na.rm=TRUE ) ]\n",
    "    dataset[ , mingreso_mensual_estim    := rowSums( cbind(mtransferencias_recibidas,mcheques_depositados,ccajas_depositos,mpayroll_total ) , na.rm=TRUE ) ]\n",
    "    dataset[ , mcuentas_saldo_mas_invers    := rowSums( cbind(mcuentas_saldo,minversion_total ) , na.rm=TRUE ) ]\n",
    "\n",
    "    # Elimino las intermedias\n",
    "    dataset[ , mdebitos_automaticos  := NULL ]\n",
    "    dataset[ , mpago_servicios_total := NULL ]\n",
    "    dataset[ ,  minversion12         := NULL ]\n",
    "    dataset[ , minversion1           := NULL ]\n",
    "    dataset[ , minversion_total      := NULL ]\n",
    "\n",
    "  \n",
    "  #valvula de seguridad para evitar valores infinitos\n",
    "  #paso los infinitos a NULOS\n",
    "  infinitos      <- lapply(names(dataset),function(.name) dataset[ , sum(is.infinite(get(.name)))])\n",
    "  infinitos_qty  <- sum( unlist( infinitos) )\n",
    "  if( infinitos_qty > 0 )\n",
    "  {\n",
    "    cat( \"ATENCION, hay\", infinitos_qty, \"valores infinitos en tu dataset. Seran pasados a NA\\n\" )\n",
    "    dataset[mapply(is.infinite, dataset)] <<- NA\n",
    "  }\n",
    "\n",
    "\n",
    "  #valvula de seguridad para evitar valores NaN  que es 0/0\n",
    "  #paso los NaN a 0 , decision polemica si las hay\n",
    "  #se invita a asignar un valor razonable segun la semantica del campo creado\n",
    "  nans      <- lapply(names(dataset),function(.name) dataset[ , sum(is.nan(get(.name)))])\n",
    "  nans_qty  <- sum( unlist( nans) )\n",
    "  if( nans_qty > 0 )\n",
    "  {\n",
    "    cat( \"ATENCION, hay\", nans_qty, \"valores NaN 0/0 en tu dataset. Seran pasados arbitrariamente a 0\\n\" )\n",
    "    cat( \"Si no te gusta la decision, modifica a gusto el programa!\\n\\n\")\n",
    "    dataset[mapply(is.nan, dataset)] <<- 0\n",
    "  }\n",
    "\n",
    "}"
   ]
  },
  {
   "cell_type": "code",
   "execution_count": 4,
   "id": "f1788923-2a7e-4a08-b1af-4e8a8d8a5796",
   "metadata": {},
   "outputs": [
    {
     "name": "stderr",
     "output_type": "stream",
     "text": [
      "Warning message in `[.data.table`(dataset, cliente_antiguedad == 3, `:=`(ctrx_quarter_normalizado, :\n",
      "“2.400000 (type 'double') at RHS position 1 truncated (precision lost) when assigning to type 'integer' (column 154 named 'ctrx_quarter_normalizado')”\n"
     ]
    },
    {
     "ename": "ERROR",
     "evalue": "Error in ifelse(mcuentas_saldo == 0, 0, mv_mlimitecompra/mcuentas_saldo): object 'mv_mlimitecompra' not found\n",
     "output_type": "error",
     "traceback": [
      "Error in ifelse(mcuentas_saldo == 0, 0, mv_mlimitecompra/mcuentas_saldo): object 'mv_mlimitecompra' not found\nTraceback:\n",
      "1. AgregarVariables(dataset)",
      "2. dataset[, `:=`(prop_limite_compra_saldo, ifelse(mcuentas_saldo == \n .     0, 0, mv_mlimitecompra/mcuentas_saldo))]   # at line 208 of file <text>",
      "3. `[.data.table`(dataset, , `:=`(prop_limite_compra_saldo, ifelse(mcuentas_saldo == \n .     0, 0, mv_mlimitecompra/mcuentas_saldo)))   # at line 208 of file <text>",
      "4. eval(jsub, SDenv, parent.frame())",
      "5. eval(jsub, SDenv, parent.frame())",
      "6. ifelse(mcuentas_saldo == 0, 0, mv_mlimitecompra/mcuentas_saldo)"
     ]
    }
   ],
   "source": [
    "#primero agrego las variables manuales\n",
    "AgregarVariables( dataset )"
   ]
  },
  {
   "cell_type": "code",
   "execution_count": null,
   "id": "58a4a2fd-6466-4f7f-af10-9257ca802743",
   "metadata": {},
   "outputs": [],
   "source": [
    "fwrite( dataset,\n",
    "        file=\"./datasets/alt_c2_reparacNA_feinicialymio.csv.gz\",\n",
    "        sep= \",\" )"
   ]
  },
  {
   "cell_type": "code",
   "execution_count": null,
   "id": "94b94213-2d89-4a58-ba17-bfc4fb55a700",
   "metadata": {},
   "outputs": [],
   "source": [
    "nrow(dataset)"
   ]
  },
  {
   "cell_type": "code",
   "execution_count": null,
   "id": "b77d54bc-0156-439b-ace3-d2c681003176",
   "metadata": {},
   "outputs": [],
   "source": [
    "ncol(dataset)"
   ]
  }
 ],
 "metadata": {
  "kernelspec": {
   "display_name": "R",
   "language": "R",
   "name": "ir"
  },
  "language_info": {
   "codemirror_mode": "r",
   "file_extension": ".r",
   "mimetype": "text/x-r-source",
   "name": "R",
   "pygments_lexer": "r",
   "version": "4.2.1"
  }
 },
 "nbformat": 4,
 "nbformat_minor": 5
}
