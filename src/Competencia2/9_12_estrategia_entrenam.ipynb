{
 "cells": [
  {
   "cell_type": "code",
   "execution_count": null,
   "id": "3e941f76-6ed5-4d79-8fcc-8ee6494cd20e",
   "metadata": {},
   "outputs": [],
   "source": [
    "#limpio la memoria\n",
    "rm( list=ls() )  #remove all objects\n",
    "gc()             #garbage collection\n",
    "\n",
    "require(\"data.table\")"
   ]
  },
  {
   "cell_type": "code",
   "execution_count": null,
   "id": "0d6a2511-d37f-40f2-bb45-bcf74f612dea",
   "metadata": {},
   "outputs": [],
   "source": [
    "kfuture       <- c( 202105 )\n",
    "\n",
    "kfinal_train  <- c( 202103 )\n",
    "\n",
    "ktraining     <- c( 202103 )\n",
    "kvalidation   <- c( 202103 )\n",
    "ktesting      <- c( 202103 )\n"
   ]
  },
  {
   "cell_type": "code",
   "execution_count": null,
   "id": "0d8d96f6-9fa7-4dd7-8fa5-1849b9df1bd2",
   "metadata": {},
   "outputs": [],
   "source": [
    "setwd(\"C:/_MCD/Labo1/code\")  #Establezco el Working Directory\n",
    "#setwd(\"~/buckets/b1/\")\n",
    "\n",
    "#cargo el dataset\n",
    "dataset  <- fread(\"./datasets/competencia2_2022_fe_avanzado.csv.gz\")  "
   ]
  },
  {
   "cell_type": "code",
   "execution_count": null,
   "id": "1093a7a8-39f8-44c3-9798-f29b46acf07e",
   "metadata": {},
   "outputs": [],
   "source": [
    "setorder( dataset, foto_mes, numero_de_cliente )\n",
    "\n",
    "#grabo los datos del futuro\n",
    "fwrite( dataset[ foto_mes %in% kfuture, ],\n",
    "        file= \"/datasets_train/dataset_future.csv.gz\",\n",
    "        logical01= TRUE,\n",
    "        sep= \",\" )\n",
    "\n",
    "#grabo los datos donde voy a entrenar los Final Models\n",
    "fwrite( dataset[ foto_mes %in% kfuture, ],\n",
    "        file= \"/datasets_train/dataset_train_final.csv.gz\",\n",
    "        logical01= TRUE,\n",
    "        sep= \",\" )\n",
    "\n",
    "\n",
    "#grabo los datos donde voy a hacer el training y la optimizacion de hiperparametros\n",
    "dataset[  , fold_train := 0L ]\n",
    "dataset[ foto_mes %in% ktraining, fold_train := 1L ]\n",
    "\n",
    "dataset[  , fold_validate := 0L ]\n",
    "dataset[ foto_mes %in% kvalidation, fold_validate := 1L ]\n",
    "\n",
    "dataset[  , fold_test := 0L ]\n",
    "dataset[ foto_mes %in% ktesting, fold_test := 1L ]\n",
    "\n",
    "fwrite( dataset[ fold_train + fold_validate + fold_test >= 1 , ],\n",
    "        file= \"/datasets_train/dataset_training.csv.gz\",\n",
    "        logical01= TRUE,\n",
    "        sep= \",\" )"
   ]
  }
 ],
 "metadata": {
  "kernelspec": {
   "display_name": "R",
   "language": "R",
   "name": "ir"
  },
  "language_info": {
   "codemirror_mode": "r",
   "file_extension": ".r",
   "mimetype": "text/x-r-source",
   "name": "R",
   "pygments_lexer": "r",
   "version": "4.2.1"
  }
 },
 "nbformat": 4,
 "nbformat_minor": 5
}
