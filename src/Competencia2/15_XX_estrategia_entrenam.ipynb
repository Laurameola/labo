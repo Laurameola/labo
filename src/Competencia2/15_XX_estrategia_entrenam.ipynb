{
 "cells": [
  {
   "cell_type": "code",
   "execution_count": 1,
   "id": "3e941f76-6ed5-4d79-8fcc-8ee6494cd20e",
   "metadata": {},
   "outputs": [
    {
     "data": {
      "text/html": [
       "<table class=\"dataframe\">\n",
       "<caption>A matrix: 2 × 6 of type dbl</caption>\n",
       "<thead>\n",
       "\t<tr><th></th><th scope=col>used</th><th scope=col>(Mb)</th><th scope=col>gc trigger</th><th scope=col>(Mb)</th><th scope=col>max used</th><th scope=col>(Mb)</th></tr>\n",
       "</thead>\n",
       "<tbody>\n",
       "\t<tr><th scope=row>Ncells</th><td> 613901</td><td>32.8</td><td>1330087</td><td>71.1</td><td>1310563</td><td>70.0</td></tr>\n",
       "\t<tr><th scope=row>Vcells</th><td>1149410</td><td> 8.8</td><td>8388608</td><td>64.0</td><td>1801055</td><td>13.8</td></tr>\n",
       "</tbody>\n",
       "</table>\n"
      ],
      "text/latex": [
       "A matrix: 2 × 6 of type dbl\n",
       "\\begin{tabular}{r|llllll}\n",
       "  & used & (Mb) & gc trigger & (Mb) & max used & (Mb)\\\\\n",
       "\\hline\n",
       "\tNcells &  613901 & 32.8 & 1330087 & 71.1 & 1310563 & 70.0\\\\\n",
       "\tVcells & 1149410 &  8.8 & 8388608 & 64.0 & 1801055 & 13.8\\\\\n",
       "\\end{tabular}\n"
      ],
      "text/markdown": [
       "\n",
       "A matrix: 2 × 6 of type dbl\n",
       "\n",
       "| <!--/--> | used | (Mb) | gc trigger | (Mb) | max used | (Mb) |\n",
       "|---|---|---|---|---|---|---|\n",
       "| Ncells |  613901 | 32.8 | 1330087 | 71.1 | 1310563 | 70.0 |\n",
       "| Vcells | 1149410 |  8.8 | 8388608 | 64.0 | 1801055 | 13.8 |\n",
       "\n"
      ],
      "text/plain": [
       "       used    (Mb) gc trigger (Mb) max used (Mb)\n",
       "Ncells  613901 32.8 1330087    71.1 1310563  70.0\n",
       "Vcells 1149410  8.8 8388608    64.0 1801055  13.8"
      ]
     },
     "metadata": {},
     "output_type": "display_data"
    },
    {
     "name": "stderr",
     "output_type": "stream",
     "text": [
      "Loading required package: data.table\n",
      "\n"
     ]
    }
   ],
   "source": [
    "#limpio la memoria\n",
    "rm( list=ls() )  #remove all objects\n",
    "gc()             #garbage collection\n",
    "\n",
    "require(\"data.table\")"
   ]
  },
  {
   "cell_type": "code",
   "execution_count": 2,
   "id": "64a73896-a46b-4456-bc2a-1cd0aa0be363",
   "metadata": {},
   "outputs": [],
   "source": [
    "#setwd(\"C:/_MCD/Labo1/code\")  #Establezco el Working Directory\n",
    "setwd(\"~/buckets/b1/\")"
   ]
  },
  {
   "cell_type": "code",
   "execution_count": 3,
   "id": "0d6a2511-d37f-40f2-bb45-bcf74f612dea",
   "metadata": {},
   "outputs": [],
   "source": [
    "ktraining <- c( 202010,202011,202101)\n",
    "kvalidation <- c( 202102 )\n",
    "ktesting <- c( 202103 )\n",
    "kfinal_train <- c( 202101,202102,202103 )\n",
    "\n",
    "kfuture <- c( 202105 )\n",
    "\n",
    "kdataset <- \"c2_reparacNA_fe_inicialylag1ylag2ylag3_rank0fijo.csv.gz\"\n",
    "kexperimento <- \"comp2-exp151\""
   ]
  },
  {
   "cell_type": "code",
   "execution_count": 4,
   "id": "0d8d96f6-9fa7-4dd7-8fa5-1849b9df1bd2",
   "metadata": {},
   "outputs": [],
   "source": [
    "#cargo el dataset\n",
    "dataset  <- fread(paste0(\"./datasets/\",kdataset) ) \n",
    "\n",
    "dir.create( paste0(\"./exp/\",kexperimento), showWarnings = FALSE )\n"
   ]
  },
  {
   "cell_type": "code",
   "execution_count": 5,
   "id": "1093a7a8-39f8-44c3-9798-f29b46acf07e",
   "metadata": {},
   "outputs": [],
   "source": [
    "setorder( dataset, foto_mes, numero_de_cliente )\n",
    "\n",
    "#grabo los datos del futuro\n",
    "fwrite( dataset[ foto_mes %in% kfuture, ],\n",
    "        file= paste0(\"./exp/\",kexperimento,\"/dataset_future.csv.gz\"),\n",
    "        logical01= TRUE,\n",
    "        sep= \",\" )\n",
    "\n",
    "#grabo los datos donde voy a entrenar los Final Models\n",
    "fwrite( dataset[ foto_mes %in% kfinal_train, ],\n",
    "        file= paste0(\"./exp/\",kexperimento,\"/dataset_train_final.csv.gz\"),\n",
    "        logical01= TRUE,\n",
    "        sep= \",\" )\n",
    "\n",
    "#grabo los datos donde voy a hacer el training y la optimizacion de hiperparametros\n",
    "dataset[  , fold_train := 0L ]\n",
    "dataset[ foto_mes %in% ktraining, fold_train := 1L ]\n",
    "\n",
    "dataset[  , fold_validate := 0L ]\n",
    "dataset[ foto_mes %in% kvalidation, fold_validate := 1L ]\n",
    "\n",
    "dataset[  , fold_test := 0L ]\n",
    "dataset[ foto_mes %in% ktesting, fold_test := 1L ]\n",
    "\n",
    "fwrite( dataset[ fold_train + fold_validate + fold_test >= 1 , ],\n",
    "        file= paste0(\"./exp/\",kexperimento,\"/dataset_training.csv.gz\"),\n",
    "        logical01= TRUE,\n",
    "        sep= \",\" )"
   ]
  }
 ],
 "metadata": {
  "kernelspec": {
   "display_name": "R",
   "language": "R",
   "name": "ir"
  },
  "language_info": {
   "codemirror_mode": "r",
   "file_extension": ".r",
   "mimetype": "text/x-r-source",
   "name": "R",
   "pygments_lexer": "r",
   "version": "4.2.1"
  }
 },
 "nbformat": 4,
 "nbformat_minor": 5
}
