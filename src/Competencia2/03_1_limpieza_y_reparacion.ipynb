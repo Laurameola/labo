{
 "cells": [
  {
   "cell_type": "code",
   "execution_count": 1,
   "id": "b3ef4c69-0781-4e53-9681-85d813791b32",
   "metadata": {},
   "outputs": [
    {
     "data": {
      "text/html": [
       "<table class=\"dataframe\">\n",
       "<caption>A matrix: 2 × 6 of type dbl</caption>\n",
       "<thead>\n",
       "\t<tr><th></th><th scope=col>used</th><th scope=col>(Mb)</th><th scope=col>gc trigger</th><th scope=col>(Mb)</th><th scope=col>max used</th><th scope=col>(Mb)</th></tr>\n",
       "</thead>\n",
       "<tbody>\n",
       "\t<tr><th scope=row>Ncells</th><td> 604536</td><td>32.3</td><td>1292120</td><td>69.1</td><td>1292120</td><td>69.1</td></tr>\n",
       "\t<tr><th scope=row>Vcells</th><td>1086934</td><td> 8.3</td><td>8388608</td><td>64.0</td><td>1632674</td><td>12.5</td></tr>\n",
       "</tbody>\n",
       "</table>\n"
      ],
      "text/latex": [
       "A matrix: 2 × 6 of type dbl\n",
       "\\begin{tabular}{r|llllll}\n",
       "  & used & (Mb) & gc trigger & (Mb) & max used & (Mb)\\\\\n",
       "\\hline\n",
       "\tNcells &  604536 & 32.3 & 1292120 & 69.1 & 1292120 & 69.1\\\\\n",
       "\tVcells & 1086934 &  8.3 & 8388608 & 64.0 & 1632674 & 12.5\\\\\n",
       "\\end{tabular}\n"
      ],
      "text/markdown": [
       "\n",
       "A matrix: 2 × 6 of type dbl\n",
       "\n",
       "| <!--/--> | used | (Mb) | gc trigger | (Mb) | max used | (Mb) |\n",
       "|---|---|---|---|---|---|---|\n",
       "| Ncells |  604536 | 32.3 | 1292120 | 69.1 | 1292120 | 69.1 |\n",
       "| Vcells | 1086934 |  8.3 | 8388608 | 64.0 | 1632674 | 12.5 |\n",
       "\n"
      ],
      "text/plain": [
       "       used    (Mb) gc trigger (Mb) max used (Mb)\n",
       "Ncells  604536 32.3 1292120    69.1 1292120  69.1\n",
       "Vcells 1086934  8.3 8388608    64.0 1632674  12.5"
      ]
     },
     "metadata": {},
     "output_type": "display_data"
    },
    {
     "name": "stderr",
     "output_type": "stream",
     "text": [
      "Loading required package: data.table\n",
      "\n"
     ]
    }
   ],
   "source": [
    "#limpio la memoria\n",
    "rm( list=ls() )  #remove all objects\n",
    "gc()             #garbage collection\n",
    "\n",
    "require(\"data.table\")"
   ]
  },
  {
   "cell_type": "code",
   "execution_count": 2,
   "id": "7a5d4ae8-58e0-4896-9f68-b6b07d5c37c5",
   "metadata": {},
   "outputs": [],
   "source": [
    "setwd(\"C:/_MCD/Labo1/code\")  #Establezco el Working Directory\n",
    "\n",
    "#cargo el dataset\n",
    "dataset  <- fread(\"./datasets/competencia2_2022.csv.gz\")   #donde entreno\n"
   ]
  },
  {
   "cell_type": "code",
   "execution_count": 3,
   "id": "2ce79895-53e6-4154-abd0-30c0915f14c8",
   "metadata": {},
   "outputs": [
    {
     "data": {
      "text/html": [
       "4214386"
      ],
      "text/latex": [
       "4214386"
      ],
      "text/markdown": [
       "4214386"
      ],
      "text/plain": [
       "[1] 4214386"
      ]
     },
     "metadata": {},
     "output_type": "display_data"
    }
   ],
   "source": [
    "nrow(dataset)"
   ]
  },
  {
   "cell_type": "code",
   "execution_count": 4,
   "id": "e1f34442-1092-4eb2-acf5-520af88989b9",
   "metadata": {},
   "outputs": [],
   "source": [
    "CorregirCampoMes  <- function( pcampo, pmeses )\n",
    "{\n",
    "  tbl <- dataset[  ,  list( \"v1\" = shift( get(pcampo), 1, type=\"lag\" ),\n",
    "                            \"v2\" = shift( get(pcampo), 1, type=\"lead\" )\n",
    "                         ), \n",
    "                   by=numero_de_cliente ]\n",
    "  \n",
    "  tbl[ , numero_de_cliente := NULL ]\n",
    "  tbl[ , promedio := rowMeans( tbl,  na.rm=TRUE ) ]\n",
    "  \n",
    "  dataset[ ,\n",
    "           paste0(pcampo) := ifelse( !(foto_mes %in% pmeses),\n",
    "                                     get( pcampo),\n",
    "                                     tbl$promedio ) ]\n",
    "}\n",
    "#------------------------------------------------------------------------------\n",
    "# reemplaza cada variable ROTA  (variable, foto_mes)  con el promedio entre  ( mes_anterior, mes_posterior )\n",
    "\n",
    "Corregir_EstadisticaClasica  <- function( dataset )\n",
    "{\n",
    "  CorregirCampoMes( \"active_quarter\", c(202006) )\n",
    "  CorregirCampoMes( \"mrentabilidad\", c(201905, 201910, 202006) )\n",
    "  CorregirCampoMes( \"mrentabilidad_annual\", c(201905, 201910, 202006) )\n",
    "  CorregirCampoMes( \"mcomisiones\", c(201905, 201910, 202006) )\n",
    "  CorregirCampoMes( \"mpasivos_margen\", c(201905, 201910, 202006) )\n",
    "  CorregirCampoMes( \"mactivos_margen\", c(201905, 201910, 202006) )\n",
    "  CorregirCampoMes( \"mcuentas_saldo\", c(202006) )\n",
    "  CorregirCampoMes( \"ctarjeta_debito_transacciones\", c(202006) )\n",
    "  CorregirCampoMes( \"mautoservicio\", c(202006) )\n",
    "  CorregirCampoMes( \"ctarjeta_visa_transacciones\", c(202006) )\n",
    "  CorregirCampoMes( \"mtarjeta_visa_consumo\", c(202006) )\n",
    "  CorregirCampoMes( \"ctarjeta_master_transacciones\", c(202006) )\n",
    "  CorregirCampoMes( \"mtarjeta_master_consumo\", c(202006) )\n",
    "  CorregirCampoMes( \"cprestamos_prendarios\", c(202005) )\n",
    "  CorregirCampoMes( \"mprestamos_prendarios\", c(202005) )\n",
    "  CorregirCampoMes( \"cprestamos_hipotecarios\", c(202005) )    \n",
    "  CorregirCampoMes( \"mprestamos_hipotecarios\", c(202005) )\n",
    "  CorregirCampoMes( \"mpayroll2\", c(201901) )\n",
    "  CorregirCampoMes( \"cpayroll2_trx\", c(201901) )\n",
    "  CorregirCampoMes( \"ctarjeta_visa_debitos_automaticos\", c(201904) )\n",
    "  CorregirCampoMes( \"mttarjeta_visa_debitos_automaticos\", c(201904) )\n",
    "  CorregirCampoMes( \"cpagodeservicios\", c(201901,201902,201903,201904,201905) ) #revisar\n",
    "  CorregirCampoMes( \"mpagodeservicios\", c(201901,201902,201903,201904,201905) ) #revisar\n",
    "  CorregirCampoMes( \"cpagomiscuentas\", c(201901,201902,201903,201904,201905) ) #revisar\n",
    "  CorregirCampoMes( \"mpagomiscuentas\", c(201901,201902,201903,201904,201905) ) #revisar\n",
    "  CorregirCampoMes( \"ccajeros_propios_descuentos\", c(201902) )\n",
    "  CorregirCampoMes( \"mcajeros_propios_descuentos\", c(201902) )\n",
    "  CorregirCampoMes( \"ccomisiones_mantenimiento\", c(201901) )\n",
    "  CorregirCampoMes( \"mcomisiones_mantenimiento\", c(201901) )\n",
    "  CorregirCampoMes( \"ccomisiones_otras\", c(201905, 201910, 202006) )\n",
    "  CorregirCampoMes( \"mcomisiones_otras\", c(201905, 201910, 202006) )  \n",
    "  CorregirCampoMes( \"ctransferencias_recibidas\", c(201901,201902,201903,201904,201905) ) #revisar\n",
    "  CorregirCampoMes( \"mtransferencias_recibidas\", c(201901,201902,201903,201904,201905) ) #revisar\n",
    "  CorregirCampoMes( \"cextraccion_autoservicio\", c(202006) )\n",
    "  CorregirCampoMes( \"mextraccion_autoservicio\", c(202006) )\n",
    "  CorregirCampoMes( \"ccheques_depositados\", c(202006) )\n",
    "  CorregirCampoMes( \"mcheques_depositados\", c(202006) )\n",
    "  CorregirCampoMes( \"mcheques_emitidos\", c(202006) )\n",
    "  CorregirCampoMes( \"mcheques_emitidos\", c(202006) )\n",
    "  CorregirCampoMes( \"ccheques_depositados_rechazados\", c(202006) )\n",
    "  CorregirCampoMes( \"mcheques_depositados_rechazados\", c(202006) )\n",
    "  CorregirCampoMes( \"ccheques_emitidos_rechazados\", c(202006) )\n",
    "  CorregirCampoMes( \"mcheques_emitidos_rechazados\", c(202006) )   \n",
    "  CorregirCampoMes( \"tcallcenter\", c(202006) )\n",
    "  CorregirCampoMes( \"ccallcenter_transacciones\", c(202006) )    \n",
    "  CorregirCampoMes( \"thomebanking\", c(202006) )\n",
    "  CorregirCampoMes( \"chomebanking_transacciones\", c( 201910, 202006) )\n",
    "  CorregirCampoMes( \"ccajas_transacciones\", c(202006) )\n",
    "  CorregirCampoMes( \"ccajas_consultas\", c(202006) )\n",
    "  CorregirCampoMes( \"ccajas_depositos\", c(202006) )\n",
    "  CorregirCampoMes( \"ccajas_extracciones\", c(202006) )\n",
    "  CorregirCampoMes( \"ccajas_otras\", c(202006) )\n",
    "  CorregirCampoMes( \"catm_trx\", c(202006) )\n",
    "  CorregirCampoMes( \"matm\", c(202006) )\n",
    "  CorregirCampoMes( \"catm_trx_other\", c(202006) )\n",
    "  CorregirCampoMes( \"matm_other\", c(202006) )\n",
    "  CorregirCampoMes( \"ctrx_quarter\", c(202006) )\n",
    "  CorregirCampoMes( \"cmobile_app_trx\", c(201901,201902,201903,201904,201905,202006) ) #revisar      \n",
    "  CorregirCampoMes( \"Visa_mfinanciacion_limite\", c(202006) )\n",
    "  CorregirCampoMes( \"Master_mfinanciacion_limite\", c(202006) )\n",
    "  CorregirCampoMes( \"Master_fultimo_cierre\", c(201907,202009) )\n",
    "  CorregirCampoMes( \"Visa_fultimo_cierre\", c(201907,202009) )\n",
    "  CorregirCampoMes( \"Master_mpagado\", c(202012) )\n",
    "  CorregirCampoMes( \"Visa_mpagado\", c(202012) )\n",
    "  CorregirCampoMes( \"Visa_status\", c(202011) )\n",
    "\n",
    "\n",
    "    \n",
    "\n",
    "\n",
    "}"
   ]
  },
  {
   "cell_type": "code",
   "execution_count": null,
   "id": "7a9ebb22-e241-42e7-945f-a9acd2491794",
   "metadata": {},
   "outputs": [],
   "source": [
    "#Elimino los campos problematicos\n",
    "#Internet se daño a partir de 202010\n",
    "dataset[  , internet := NULL ]\n",
    "\n",
    "#Internet se daño a partir de 202010\n",
    "dataset[  , tmobile_app := NULL ]\n",
    "\n",
    "Corregir_EstadisticaClasica( dataset )"
   ]
  },
  {
   "cell_type": "code",
   "execution_count": null,
   "id": "3917e67a-9550-44a6-bdd2-cb6904a2acbb",
   "metadata": {},
   "outputs": [],
   "source": [
    "fwrite( dataset,\n",
    "        file=\"./datasets/competencia2_2022_limpieza1.csv.gz\",\n",
    "        logical01= TRUE,\n",
    "        sep= \",\" )"
   ]
  }
 ],
 "metadata": {
  "kernelspec": {
   "display_name": "R",
   "language": "R",
   "name": "ir"
  },
  "language_info": {
   "codemirror_mode": "r",
   "file_extension": ".r",
   "mimetype": "text/x-r-source",
   "name": "R",
   "pygments_lexer": "r",
   "version": "4.2.1"
  }
 },
 "nbformat": 4,
 "nbformat_minor": 5
}
