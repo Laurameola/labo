{
 "cells": [
  {
   "cell_type": "code",
   "execution_count": 1,
   "id": "bbff2245-7e7f-4139-b55d-da174ab7aea0",
   "metadata": {},
   "outputs": [
    {
     "data": {
      "text/html": [
       "<table class=\"dataframe\">\n",
       "<caption>A matrix: 2 × 6 of type dbl</caption>\n",
       "<thead>\n",
       "\t<tr><th></th><th scope=col>used</th><th scope=col>(Mb)</th><th scope=col>gc trigger</th><th scope=col>(Mb)</th><th scope=col>max used</th><th scope=col>(Mb)</th></tr>\n",
       "</thead>\n",
       "<tbody>\n",
       "\t<tr><th scope=row>Ncells</th><td> 604544</td><td>32.3</td><td>1292120</td><td>69.1</td><td>1292120</td><td>69.1</td></tr>\n",
       "\t<tr><th scope=row>Vcells</th><td>1086978</td><td> 8.3</td><td>8388608</td><td>64.0</td><td>1632674</td><td>12.5</td></tr>\n",
       "</tbody>\n",
       "</table>\n"
      ],
      "text/latex": [
       "A matrix: 2 × 6 of type dbl\n",
       "\\begin{tabular}{r|llllll}\n",
       "  & used & (Mb) & gc trigger & (Mb) & max used & (Mb)\\\\\n",
       "\\hline\n",
       "\tNcells &  604544 & 32.3 & 1292120 & 69.1 & 1292120 & 69.1\\\\\n",
       "\tVcells & 1086978 &  8.3 & 8388608 & 64.0 & 1632674 & 12.5\\\\\n",
       "\\end{tabular}\n"
      ],
      "text/markdown": [
       "\n",
       "A matrix: 2 × 6 of type dbl\n",
       "\n",
       "| <!--/--> | used | (Mb) | gc trigger | (Mb) | max used | (Mb) |\n",
       "|---|---|---|---|---|---|---|\n",
       "| Ncells |  604544 | 32.3 | 1292120 | 69.1 | 1292120 | 69.1 |\n",
       "| Vcells | 1086978 |  8.3 | 8388608 | 64.0 | 1632674 | 12.5 |\n",
       "\n"
      ],
      "text/plain": [
       "       used    (Mb) gc trigger (Mb) max used (Mb)\n",
       "Ncells  604544 32.3 1292120    69.1 1292120  69.1\n",
       "Vcells 1086978  8.3 8388608    64.0 1632674  12.5"
      ]
     },
     "metadata": {},
     "output_type": "display_data"
    },
    {
     "name": "stderr",
     "output_type": "stream",
     "text": [
      "Loading required package: data.table\n",
      "\n",
      "Loading required package: lightgbm\n",
      "\n",
      "Loading required package: R6\n",
      "\n"
     ]
    }
   ],
   "source": [
    "rm( list=ls() )  #remove all objects\n",
    "gc()             #garbage collection\n",
    "\n",
    "require(\"data.table\")\n",
    "require(\"lightgbm\")"
   ]
  },
  {
   "cell_type": "code",
   "execution_count": 2,
   "id": "b95c27e6-33d5-41ab-ada4-35d233445409",
   "metadata": {},
   "outputs": [],
   "source": [
    "#setwd(\"C:/_MCD/Labo1/code\")  #Establezco el Working Directory\n",
    "setwd( \"~/buckets/b1\" )\n",
    "\n",
    "kdataset       <- \"./datasets/competencia2_2022_limpieza1.csv.gz\"\n",
    "ksemilla_azar  <- 100019\n",
    "ktraining      <- c( 202001,202002,202003,202004,202005,202007,202008,202009,202010,202011,202012,202101,202102,202103 )   #periodos en donde entreno\n",
    "kfuture        <- c( 202105 )   #periodo donde aplico el modelo final\n",
    "\n"
   ]
  },
  {
   "cell_type": "code",
   "execution_count": 3,
   "id": "1273c5a1-57f5-4a12-8732-cae0a23ea71b",
   "metadata": {},
   "outputs": [],
   "source": [
    "kexperimento   <- \"XG_PRED_DC\"\n",
    "\n",
    "#kmax_bin           <-    31\n",
    "#klearning_rate     <-     0.0687538981\n",
    "#knum_iterations    <-   418\n",
    "#knum_leaves        <-   925\n",
    "#kmin_data_in_leaf  <-  4730\n",
    "#kfeature_fraction  <-     0.2759150797\n",
    "\n",
    "kmax_bin           <-    31\n",
    "klearning_rate     <-     0.0283731427609622\n",
    "knum_iterations    <-   321\n",
    "knum_leaves        <-   744\n",
    "kmin_data_in_leaf  <-  2667\n",
    "kfeature_fraction  <-     0.933723231292524"
   ]
  },
  {
   "cell_type": "code",
   "execution_count": 4,
   "id": "60ee3f58-766a-4d5f-9a30-db27801dc31f",
   "metadata": {},
   "outputs": [
    {
     "ename": "ERROR",
     "evalue": "Error: no se puede ubicar un vector de tamaño  2.5 Gb\n",
     "output_type": "error",
     "traceback": [
      "Error: no se puede ubicar un vector de tamaño  2.5 Gb\nTraceback:\n",
      "1. lgb.Dataset(data = data.matrix(dataset[train == 1L, campos_buenos, \n .     with = FALSE]), label = dataset[train == 1L, clase01])",
      "2. Dataset$new(data = data, params = params, reference = reference, \n .     colnames = colnames, categorical_feature = categorical_feature, \n .     predictor = NULL, free_raw_data = free_raw_data, used_indices = NULL, \n .     info = info, label = label, weight = weight, group = group, \n .     init_score = init_score)",
      "3. initialize(...)",
      "4. data.matrix(dataset[train == 1L, campos_buenos, with = FALSE])",
      "5. matrix(if (intOK) NA_integer_ else NA_real_, nrow = d[1L], ncol = d[2L], \n .     dimnames = list(rn, names(frame)))"
     ]
    }
   ],
   "source": [
    "#cargo el dataset donde voy a entrenar\n",
    "dataset  <- fread(kdataset, stringsAsFactors= TRUE)\n",
    "\n",
    "#paso la clase a binaria que tome valores {0,1}  enteros\n",
    "#set trabaja con la clase  POS = { BAJA+1, BAJA+2 } \n",
    "#esta estrategia es MUY importante\n",
    "dataset[ , clase01 := ifelse( clase_ternaria %in%  c(\"BAJA+2\",\"BAJA+1\"), 1L, 0L) ]\n",
    "\n",
    "#los campos que se van a utilizar\n",
    "campos_buenos  <- setdiff( colnames(dataset), c(\"clase_ternaria\",\"clase01\",\"foto_mes\") )\n",
    "\n",
    "#establezco donde entreno\n",
    "dataset[ , train  := 0L ]\n",
    "dataset[ foto_mes %in% ktraining, train  := 1L ]\n",
    "\n",
    "#creo las carpetas donde van los resultados\n",
    "#creo la carpeta donde va el experimento\n",
    "# HT  representa  Hiperparameter Tuning\n",
    "dir.create( \"./exp/\",  showWarnings = FALSE ) \n",
    "dir.create( paste0(\"./exp/\", kexperimento, \"/\" ), showWarnings = FALSE )\n",
    "setwd( paste0(\"./exp/\", kexperimento, \"/\" ) )   #Establezco el Working Directory DEL EXPERIMENTO\n",
    "\n",
    "\n",
    "#dejo los datos en el formato que necesita LightGBM\n",
    "dtrain  <- lgb.Dataset( data= data.matrix(  dataset[ train==1L, campos_buenos, with=FALSE]),\n",
    "                        label= dataset[ train==1L, clase01] )\n",
    "\n",
    "#aplico el modelo a los datos sin clase\n",
    "dapply  <- dataset[ foto_mes== kfuture ]"
   ]
  },
  {
   "cell_type": "code",
   "execution_count": null,
   "id": "6ef21a08-2fa4-4414-ab56-521e1bc548ff",
   "metadata": {},
   "outputs": [],
   "source": [
    "dapply[,foto_mes:=NULL]"
   ]
  },
  {
   "cell_type": "code",
   "execution_count": null,
   "id": "a5db00bd-3507-4cb7-981e-f049e7aa8e94",
   "metadata": {},
   "outputs": [],
   "source": [
    "#genero el modelo\n",
    "#estos hiperparametros  salieron de una laaarga Optmizacion Bayesiana\n",
    "modelo  <- lgb.train( data= dtrain,\n",
    "                      param= list( objective=          \"binary\",\n",
    "                                   max_bin=            kmax_bin,\n",
    "                                   learning_rate=      klearning_rate,\n",
    "                                   num_iterations=     knum_iterations,\n",
    "                                   num_leaves=         knum_leaves,\n",
    "                                   min_data_in_leaf=   kmin_data_in_leaf,\n",
    "                                   feature_fraction=   kfeature_fraction,\n",
    "                                   seed=               ksemilla_azar\n",
    "                                  )\n",
    "                    )"
   ]
  },
  {
   "cell_type": "code",
   "execution_count": null,
   "id": "6aa48251-b321-4d6e-bd58-ebeb1a236f0f",
   "metadata": {},
   "outputs": [],
   "source": [
    "#--------------------------------------\n",
    "#ahora imprimo la importancia de variables\n",
    "tb_importancia  <-  as.data.table( lgb.importance(modelo) ) \n",
    "archivo_importancia  <- \"impo.csv\"\n",
    "\n",
    "fwrite( tb_importancia, \n",
    "        file= archivo_importancia, \n",
    "        sep= \"\\t\" )"
   ]
  },
  {
   "cell_type": "code",
   "execution_count": null,
   "id": "3e528158-5ade-415e-a999-214b7a1485cd",
   "metadata": {},
   "outputs": [],
   "source": [
    "#aplico el modelo a los datos nuevos\n",
    "prediccion  <- predict( modelo, \n",
    "                        data.matrix( dapply[, campos_buenos, with=FALSE ])                                 )\n",
    "\n",
    "#genero la tabla de entrega\n",
    "tb_entrega  <-  dapply[ , list( numero_de_cliente ) ]\n",
    "tb_entrega[  , prob := prediccion ]\n",
    "\n",
    "#grabo las probabilidad del modelo\n",
    "#fwrite( tb_entrega,\n",
    "#        file= \"prediccion.txt\",\n",
    "#        sep= \"\\t\" )\n",
    "\n",
    "#ordeno por probabilidad descendente\n",
    "setorder( tb_entrega, -prob )\n",
    "\n",
    "\n",
    "#genero archivos con los  \"envios\" mejores\n",
    "#deben subirse \"inteligentemente\" a Kaggle para no malgastar submits\n",
    "#cortes <- seq( 3000, 15000, by=500 )\n",
    "#for( envios  in  cortes )\n",
    "#{\n",
    "#  tb_entrega[  , Predicted := 0L ]\n",
    "#  tb_entrega[ 1:envios, Predicted := 1L ]\n",
    "\n",
    "#  fwrite( tb_entrega[ , list(numero_de_cliente, Predicted)], \n",
    "#          file= paste0(  kexperimento, \"_\", envios, \".csv\" ),\n",
    "#          sep= \",\" )\n",
    "#}"
   ]
  },
  {
   "cell_type": "code",
   "execution_count": null,
   "id": "c0b5ba06-8708-4588-a52d-aaef9eca8088",
   "metadata": {},
   "outputs": [],
   "source": [
    "prob_corte <- 0.0372744903634901\n",
    "tb_entrega[  , Predicted := 0L ]\n",
    "tb_entrega[ prob >= prob_corte, Predicted := 1L ]\n",
    "\n",
    "  fwrite( tb_entrega[ , list(numero_de_cliente, Predicted)], \n",
    "          file= paste0(  kexperimento, \"_prob_corte.csv\" ),\n",
    "          sep= \",\" )\n"
   ]
  }
 ],
 "metadata": {
  "kernelspec": {
   "display_name": "R",
   "language": "R",
   "name": "ir"
  },
  "language_info": {
   "codemirror_mode": "r",
   "file_extension": ".r",
   "mimetype": "text/x-r-source",
   "name": "R",
   "pygments_lexer": "r",
   "version": "4.2.1"
  }
 },
 "nbformat": 4,
 "nbformat_minor": 5
}
