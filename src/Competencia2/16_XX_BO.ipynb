{
 "cells": [
  {
   "cell_type": "code",
   "execution_count": 1,
   "id": "c4bc76ca-445f-4d39-916d-d1378f46684b",
   "metadata": {},
   "outputs": [
    {
     "data": {
      "text/html": [
       "<table class=\"dataframe\">\n",
       "<caption>A matrix: 2 × 6 of type dbl</caption>\n",
       "<thead>\n",
       "\t<tr><th></th><th scope=col>used</th><th scope=col>(Mb)</th><th scope=col>gc trigger</th><th scope=col>(Mb)</th><th scope=col>max used</th><th scope=col>(Mb)</th></tr>\n",
       "</thead>\n",
       "<tbody>\n",
       "\t<tr><th scope=row>Ncells</th><td> 613996</td><td>32.8</td><td>1330087</td><td>71.1</td><td>1150170</td><td>61.5</td></tr>\n",
       "\t<tr><th scope=row>Vcells</th><td>1150114</td><td> 8.8</td><td>8388608</td><td>64.0</td><td>1801055</td><td>13.8</td></tr>\n",
       "</tbody>\n",
       "</table>\n"
      ],
      "text/latex": [
       "A matrix: 2 × 6 of type dbl\n",
       "\\begin{tabular}{r|llllll}\n",
       "  & used & (Mb) & gc trigger & (Mb) & max used & (Mb)\\\\\n",
       "\\hline\n",
       "\tNcells &  613996 & 32.8 & 1330087 & 71.1 & 1150170 & 61.5\\\\\n",
       "\tVcells & 1150114 &  8.8 & 8388608 & 64.0 & 1801055 & 13.8\\\\\n",
       "\\end{tabular}\n"
      ],
      "text/markdown": [
       "\n",
       "A matrix: 2 × 6 of type dbl\n",
       "\n",
       "| <!--/--> | used | (Mb) | gc trigger | (Mb) | max used | (Mb) |\n",
       "|---|---|---|---|---|---|---|\n",
       "| Ncells |  613996 | 32.8 | 1330087 | 71.1 | 1150170 | 61.5 |\n",
       "| Vcells | 1150114 |  8.8 | 8388608 | 64.0 | 1801055 | 13.8 |\n",
       "\n"
      ],
      "text/plain": [
       "       used    (Mb) gc trigger (Mb) max used (Mb)\n",
       "Ncells  613996 32.8 1330087    71.1 1150170  61.5\n",
       "Vcells 1150114  8.8 8388608    64.0 1801055  13.8"
      ]
     },
     "metadata": {},
     "output_type": "display_data"
    },
    {
     "name": "stderr",
     "output_type": "stream",
     "text": [
      "Loading required package: data.table\n",
      "\n",
      "Loading required package: rlist\n",
      "\n",
      "Loading required package: lightgbm\n",
      "\n",
      "Loading required package: DiceKriging\n",
      "\n",
      "Loading required package: mlrMBO\n",
      "\n",
      "Loading required package: mlr\n",
      "\n",
      "Loading required package: ParamHelpers\n",
      "\n",
      "Warning message: 'mlr' is in 'maintenance-only' mode since July 2019.\n",
      "Future development will only happen in 'mlr3'\n",
      "(<https://mlr3.mlr-org.com>). Due to the focus on 'mlr3' there might be\n",
      "uncaught bugs meanwhile in {mlr} - please consider switching.\n",
      "\n",
      "Loading required package: smoof\n",
      "\n",
      "Loading required package: checkmate\n",
      "\n",
      "\n",
      "Attaching package: ‘checkmate’\n",
      "\n",
      "\n",
      "The following object is masked from ‘package:DiceKriging’:\n",
      "\n",
      "    checkNames\n",
      "\n",
      "\n",
      "Warning message:\n",
      "“no DISPLAY variable so Tk is not available”\n"
     ]
    }
   ],
   "source": [
    "#limpio la memoria\n",
    "rm( list=ls() )  #remove all objects\n",
    "gc()             #garbage collection\n",
    "\n",
    "require(\"data.table\")\n",
    "require(\"rlist\")\n",
    "\n",
    "require(\"lightgbm\")\n",
    "\n",
    "#paquetes necesarios para la Bayesian Optimization\n",
    "require(\"DiceKriging\")\n",
    "require(\"mlrMBO\")\n",
    "\n",
    "#------------------------------------------------------------------------------\n",
    "options(error = function() { \n",
    "  traceback(20); \n",
    "  options(error = NULL); \n",
    "  stop(\"exiting after script error\") \n",
    "})\n",
    "#------------------------------------------------------------------------------"
   ]
  },
  {
   "cell_type": "code",
   "execution_count": 2,
   "id": "974471d1-785e-4d6c-b2f7-a6aae5a8015e",
   "metadata": {},
   "outputs": [],
   "source": [
    "#Parametros del script\n",
    "kexperimento  <- \"comp2-exp100\"\n",
    "# FIN Parametros del script\n",
    "\n",
    "ksemilla  <- 100019\n",
    "kBO_iteraciones  <- 50  #iteraciones de la Optimizacion Bayesiana"
   ]
  },
  {
   "cell_type": "code",
   "execution_count": 3,
   "id": "709fee66-650b-40cf-aa04-4a501163e5b9",
   "metadata": {},
   "outputs": [],
   "source": [
    "kcrossvalidation_folds  <- 5  #En caso que se haga cross validation, se usa esta cantidad de folds\n",
    "\n",
    "#Hiperparametros FIJOS de  lightgbm\n",
    "param_lgb_basicos  <- list( \n",
    "   boosting= \"gbdt\",          #puede ir  dart  , ni pruebe random_forest\n",
    "   objective= \"binary\",\n",
    "   metric= \"custom\",\n",
    "   first_metric_only= TRUE,\n",
    "   boost_from_average= TRUE,\n",
    "   feature_pre_filter= FALSE,\n",
    "   force_row_wise= TRUE,      #para que los alumnos no se atemoricen con tantos warning\n",
    "   verbosity= -100,\n",
    "   max_depth=  -1,            # -1 significa no limitar,  por ahora lo dejo fijo\n",
    "   min_gain_to_split= 0.0,    #por ahora, lo dejo fijo\n",
    "   lambda_l1= 0.0,            #por ahora, lo dejo fijo\n",
    "   lambda_l2= 0.0,            #por ahora, lo dejo fijo\n",
    "   max_bin= 31,               #por ahora, lo dejo fijo\n",
    "   num_iterations= 9999,      #un numero muy grande, lo limita early_stopping_rounds\n",
    "\n",
    "   bagging_fraction= 1.0,     #por ahora, lo dejo fijo\n",
    "   pos_bagging_fraction= 1.0, #por ahora, lo dejo fijo\n",
    "   neg_bagging_fraction= 1.0, #por ahora, lo dejo fijo\n",
    "\n",
    "   drop_rate=  0.1,           #solo se activa en  dart\n",
    "   max_drop= 50,              #solo se activa en  dart\n",
    "   skip_drop= 0.5,            #solo se activa en  dart\n",
    "\n",
    "   extra_trees= FALSE,\n",
    "\n",
    "   seed=  ksemilla\n",
    "   )"
   ]
  },
  {
   "cell_type": "code",
   "execution_count": 4,
   "id": "f946c6cc-5062-49b1-b0ec-8eeb73186914",
   "metadata": {},
   "outputs": [],
   "source": [
    "#Aqui se cargan los hiperparametros que se optimizan en la Bayesian Optimization\n",
    "hs <- makeParamSet( \n",
    "         makeNumericParam(\"learning_rate\",    lower=    0.005, upper=    0.3),\n",
    "         makeNumericParam(\"feature_fraction\", lower=    0.2  , upper=    1.0),\n",
    "         makeIntegerParam(\"min_data_in_leaf\", lower=    0L   , upper=  8000L),\n",
    "         makeIntegerParam(\"num_leaves\",       lower=   16L   , upper=  2048L)\n",
    "        )"
   ]
  },
  {
   "cell_type": "code",
   "execution_count": 5,
   "id": "8701cb41-54da-42f1-8c02-a98fac55ae8a",
   "metadata": {},
   "outputs": [],
   "source": [
    "#------------------------------------------------------------------------------\n",
    "#graba a un archivo los componentes de lista\n",
    "#para el primer registro, escribe antes los titulos\n",
    "\n",
    "exp_log  <- function( reg, arch=NA, folder=\"./exp/\", ext=\".txt\", verbose=TRUE )\n",
    "{\n",
    "  archivo  <- arch\n",
    "  if( is.na(arch) )  archivo  <- paste0(  folder, substitute( reg), ext )\n",
    "\n",
    "  if( !file.exists( archivo ) )  #Escribo los titulos\n",
    "  {\n",
    "    linea  <- paste0( \"fecha\\t\", \n",
    "                      paste( list.names(reg), collapse=\"\\t\" ), \"\\n\" )\n",
    "\n",
    "    cat( linea, file=archivo )\n",
    "  }\n",
    "\n",
    "  linea  <- paste0( format(Sys.time(), \"%Y%m%d %H%M%S\"),  \"\\t\",     #la fecha y hora\n",
    "                    gsub( \", \", \"\\t\", toString( reg ) ),  \"\\n\" )\n",
    "\n",
    "  cat( linea, file=archivo, append=TRUE )  #grabo al archivo\n",
    "\n",
    "  if( verbose )  cat( linea )   #imprimo por pantalla\n",
    "}\n",
    "\n",
    "#------------------------------------------------------------------------------\n",
    "\n",
    "vprob_optima  <- c()\n",
    "\n",
    "fganancia_lgbm_meseta  <- function( probs, datos) \n",
    "{\n",
    "  vlabels  <- get_field(datos, \"label\")\n",
    "\n",
    "  tbl  <- as.data.table( list( \"prob\"= probs, \n",
    "                               \"gan\" = ifelse( vlabels==1 , 78000, -2000  ) ) )\n",
    "\n",
    "  setorder( tbl, -prob )\n",
    "  tbl[ , posicion := .I ]\n",
    "  tbl[ , gan_acum :=  cumsum( gan ) ]\n",
    "\n",
    "  gan  <-  tbl[ , max(gan_acum) ]\n",
    "\n",
    "  pos  <- which.max(  tbl[ , gan_acum ] ) \n",
    "  vprob_optima  <<- c( vprob_optima, tbl[ pos, prob ] )\n",
    "\n",
    "  rm( tbl )\n",
    "  return( list( \"name\"= \"ganancia\", \n",
    "                \"value\"=  gan,\n",
    "                \"higher_better\"= TRUE ) )\n",
    "}\n",
    "#------------------------------------------------------------------------------\n",
    "\n",
    "EstimarGanancia_lightgbm  <- function( x )\n",
    "{\n",
    "  gc()\n",
    "  GLOBAL_iteracion  <<- GLOBAL_iteracion + 1\n",
    "\n",
    "  param_completo  <- c( param_lgb_basicos,  x )\n",
    "\n",
    "  param_completo$early_stopping_rounds  <- as.integer(200 + 4/param_completo$learning_rate )\n",
    "\n",
    "  vprob_optima  <<- c()\n",
    "  set.seed( param_completo$seed )\n",
    "  modelo_train  <- lgb.train( data= dtrain,\n",
    "                              valids= list( valid= dvalidate ),\n",
    "                              eval=   fganancia_lgbm_meseta,\n",
    "                              param=  param_completo,\n",
    "                              verbose= -100 )\n",
    "\n",
    "  prob_corte  <- vprob_optima[ modelo_train$best_iter ]\n",
    "\n",
    "  #aplico el modelo a testing y calculo la ganancia\n",
    "  prediccion  <- predict( modelo_train, \n",
    "                          data.matrix( dataset_test[ , campos_buenos, with=FALSE]) )\n",
    "\n",
    "  tbl  <- dataset_test[ , list(clase_ternaria) ]\n",
    "  tbl[ , prob := prediccion ]\n",
    "  ganancia_test  <- tbl[ prob >= prob_corte, \n",
    "                         sum( ifelse(clase_ternaria==\"BAJA+2\", 78000, -2000 ) )]\n",
    "\n",
    "  cantidad_test_normalizada  <- tbl[ prob >= prob_corte, .N ]\n",
    "\n",
    "  rm( tbl )\n",
    "  gc()\n",
    "\n",
    "  ganancia_test_normalizada  <- ganancia_test\n",
    "\n",
    "\n",
    "  #voy grabando las mejores column importance\n",
    "  if( ganancia_test_normalizada >  GLOBAL_ganancia )\n",
    "  {\n",
    "    GLOBAL_ganancia  <<- ganancia_test_normalizada\n",
    "    tb_importancia    <- as.data.table( lgb.importance( modelo_train ) )\n",
    "\n",
    "    fwrite( tb_importancia,\n",
    "            file= paste0( \"impo_\", GLOBAL_iteracion, \".txt\" ),\n",
    "            sep= \"\\t\" )\n",
    "\n",
    "    rm( tb_importancia )\n",
    "  }\n",
    "\n",
    "\n",
    "  #logueo final\n",
    "  ds  <- list( \"cols\"= ncol(dtrain),  \"rows\"= nrow(dtrain) )\n",
    "  xx  <- c( ds, copy(param_completo) )\n",
    "\n",
    "  xx$early_stopping_rounds  <- NULL\n",
    "  xx$num_iterations  <- modelo_train$best_iter\n",
    "  xx$prob_corte  <- prob_corte\n",
    "  xx$estimulos  <- cantidad_test_normalizada\n",
    "  xx$ganancia  <- ganancia_test_normalizada\n",
    "  xx$iteracion_bayesiana  <- GLOBAL_iteracion\n",
    "\n",
    "  exp_log( xx,  arch= \"BO_log.txt\" )\n",
    "\n",
    "  return( ganancia_test_normalizada )\n",
    "}\n",
    "#------------------------------------------------------------------------------\n",
    "#esta es la funcion mas mistica de toda la asignatura\n",
    "# sera explicada en  Laboratorio de Implementacion III\n",
    "\n",
    "vprob_optima  <- c()\n",
    "vpos_optima   <- c()\n",
    "\n",
    "fganancia_lgbm_mesetaCV  <- function( probs, datos) \n",
    "{\n",
    "  vlabels  <- get_field(datos, \"label\")\n",
    "  vpesos   <- get_field(datos, \"weight\")\n",
    "\n",
    "  tbl  <- as.data.table( list( \"prob\"= probs, \n",
    "                               \"gan\" = ifelse( vlabels==1 & vpesos > 1,\n",
    "                                               78000,\n",
    "                                               -2000  ) ) )\n",
    "\n",
    "  setorder( tbl, -prob )\n",
    "  tbl[ , posicion := .I ]\n",
    "  tbl[ , gan_acum :=  cumsum( gan ) ]\n",
    "\n",
    "  gan  <-  tbl[ , max(gan_acum) ]\n",
    "\n",
    "  pos  <- which.max(  tbl[ , gan_acum ] ) \n",
    "  vpos_optima   <<- c( vpos_optima, pos )\n",
    "  vprob_optima  <<- c( vprob_optima, tbl[ pos, prob ] )\n",
    "\n",
    "  rm( tbl )\n",
    "  return( list( \"name\"= \"ganancia\", \n",
    "                \"value\"=  gan,\n",
    "                \"higher_better\"= TRUE ) )\n",
    "}\n",
    "#------------------------------------------------------------------------------\n",
    "\n",
    "EstimarGanancia_lightgbmCV  <- function( x )\n",
    "{\n",
    "  gc()\n",
    "  GLOBAL_iteracion  <<- GLOBAL_iteracion + 1\n",
    "\n",
    "  param_completo  <- c(param_lgb_basicos,  x )\n",
    "\n",
    "  param_completo$early_stopping_rounds  <- as.integer(200 + 4/param_completo$learning_rate )\n",
    "\n",
    "  vprob_optima  <<- c()\n",
    "  vpos_optima   <<- c()\n",
    "\n",
    "  set.seed( param_completo$seed )\n",
    "  modelocv  <- lgb.cv( data= dtrain,\n",
    "                       eval=   fganancia_lgbm_mesetaCV,\n",
    "                       param=  param_completo,\n",
    "                       stratified= TRUE,                   #sobre el cross validation\n",
    "                       nfold= kcrossvalidation_folds,\n",
    "                       verbose= -100 )\n",
    "\n",
    "  desde  <- (modelocv$best_iter-1)*kcrossvalidation_folds + 1\n",
    "  hasta  <- desde + kcrossvalidation_folds -1\n",
    "\n",
    "  prob_corte            <-  mean( vprob_optima[ desde:hasta ] )\n",
    "  cantidad_normalizada  <-  mean( vpos_optima[ desde:hasta ] ) * kcrossvalidation_folds\n",
    "\n",
    "  ganancia  <- unlist(modelocv$record_evals$valid$ganancia$eval)[ modelocv$best_iter ]\n",
    "  ganancia_normalizada  <- ganancia * kcrossvalidation_folds\n",
    "\n",
    "\n",
    "  #voy grabando las mejores column importance\n",
    "  if( ganancia_normalizada >  GLOBAL_ganancia )\n",
    "  {\n",
    "    GLOBAL_ganancia  <<- ganancia_normalizada\n",
    "\n",
    "    param_impo <-  copy( param_completo )\n",
    "    param_impo$early_stopping_rounds  <- 0\n",
    "    param_impo$num_iterations  <- modelocv$best_iter\n",
    "\n",
    "    modelo  <- lgb.train( data= dtrain,\n",
    "                       param=  param_impo,\n",
    "                       verbose= -100 )\n",
    "\n",
    "    tb_importancia    <- as.data.table( lgb.importance( modelo ) )\n",
    "\n",
    "    fwrite( tb_importancia,\n",
    "            file= paste0( \"impo_\", GLOBAL_iteracion, \".txt\" ),\n",
    "            sep= \"\\t\" )\n",
    "    \n",
    "    rm( tb_importancia )\n",
    "  }\n",
    "\n",
    "\n",
    "  #logueo final\n",
    "  ds  <- list( \"cols\"= ncol(dtrain),  \"rows\"= nrow(dtrain) )\n",
    "  xx  <- c( ds, copy(param_completo) )\n",
    "\n",
    "  xx$early_stopping_rounds  <- NULL\n",
    "  xx$num_iterations  <- modelocv$best_iter\n",
    "  xx$prob_corte  <-  prob_corte\n",
    "  xx$estimulos   <-  cantidad_normalizada\n",
    "  xx$ganancia  <- ganancia_normalizada\n",
    "  xx$iteracion_bayesiana  <- GLOBAL_iteracion\n",
    "\n",
    "  exp_log( xx,  arch= \"BO_log.txt\" )\n",
    "\n",
    "  return( ganancia_normalizada )\n",
    "}\n"
   ]
  },
  {
   "cell_type": "code",
   "execution_count": null,
   "id": "adae6c46-b53a-452c-b616-cad237a81ec1",
   "metadata": {},
   "outputs": [
    {
     "data": {
      "text/html": [
       "<table class=\"dataframe\">\n",
       "<caption>A matrix: 2 × 6 of type dbl</caption>\n",
       "<thead>\n",
       "\t<tr><th></th><th scope=col>used</th><th scope=col>(Mb)</th><th scope=col>gc trigger</th><th scope=col>(Mb)</th><th scope=col>max used</th><th scope=col>(Mb)</th></tr>\n",
       "</thead>\n",
       "<tbody>\n",
       "\t<tr><th scope=row>Ncells</th><td>  2230196</td><td>119.2</td><td>  4427470</td><td> 236.5</td><td>  2787660</td><td> 148.9</td></tr>\n",
       "\t<tr><th scope=row>Vcells</th><td>122564028</td><td>935.1</td><td>329872562</td><td>2516.8</td><td>274800398</td><td>2096.6</td></tr>\n",
       "</tbody>\n",
       "</table>\n"
      ],
      "text/latex": [
       "A matrix: 2 × 6 of type dbl\n",
       "\\begin{tabular}{r|llllll}\n",
       "  & used & (Mb) & gc trigger & (Mb) & max used & (Mb)\\\\\n",
       "\\hline\n",
       "\tNcells &   2230196 & 119.2 &   4427470 &  236.5 &   2787660 &  148.9\\\\\n",
       "\tVcells & 122564028 & 935.1 & 329872562 & 2516.8 & 274800398 & 2096.6\\\\\n",
       "\\end{tabular}\n"
      ],
      "text/markdown": [
       "\n",
       "A matrix: 2 × 6 of type dbl\n",
       "\n",
       "| <!--/--> | used | (Mb) | gc trigger | (Mb) | max used | (Mb) |\n",
       "|---|---|---|---|---|---|---|\n",
       "| Ncells |   2230196 | 119.2 |   4427470 |  236.5 |   2787660 |  148.9 |\n",
       "| Vcells | 122564028 | 935.1 | 329872562 | 2516.8 | 274800398 | 2096.6 |\n",
       "\n"
      ],
      "text/plain": [
       "       used      (Mb)  gc trigger (Mb)   max used  (Mb)  \n",
       "Ncells   2230196 119.2   4427470   236.5   2787660  148.9\n",
       "Vcells 122564028 935.1 329872562  2516.8 274800398 2096.6"
      ]
     },
     "metadata": {},
     "output_type": "display_data"
    },
    {
     "name": "stderr",
     "output_type": "stream",
     "text": [
      "Computing y column(s) for design. Not provided.\n",
      "\n"
     ]
    },
    {
     "name": "stdout",
     "output_type": "stream",
     "text": [
      "20221016 203528\t154\t480355\tgbdt\tbinary\tcustom\tTRUE\tTRUE\tFALSE\tTRUE\t-100\t-1\t0\t0\t0\t31\t655\t1\t1\t1\t0.1\t50\t0.5\tFALSE\t100019\t0.191289524449094\t0.367606929480098\t6483\t491\t0.00252360919360988\t12954\t21612000\t1\n",
      "20221016 203728\t154\t480355\tgbdt\tbinary\tcustom\tTRUE\tTRUE\tFALSE\tTRUE\t-100\t-1\t0\t0\t0\t31\t834\t1\t1\t1\t0.1\t50\t0.5\tFALSE\t100019\t0.0702372890371043\t0.841137736616656\t5897\t1297\t0.0113646314457862\t10647\t23746000\t2\n",
      "20221016 203854\t154\t480355\tgbdt\tbinary\tcustom\tTRUE\tTRUE\tFALSE\tTRUE\t-100\t-1\t0\t0\t0\t31\t677\t1\t1\t1\t0.1\t50\t0.5\tFALSE\t100019\t0.245102375623464\t0.645683627517428\t2692\t822\t4.95517360450822e-06\t12212\t21416000\t3\n",
      "20221016 203941\t154\t480355\tgbdt\tbinary\tcustom\tTRUE\tTRUE\tFALSE\tTRUE\t-100\t-1\t0\t0\t0\t31\t283\t1\t1\t1\t0.1\t50\t0.5\tFALSE\t100019\t0.236582367759402\t0.339633598166984\t4569\t699\t0.00588567230622915\t12215\t22370000\t4\n",
      "20221016 204101\t154\t480355\tgbdt\tbinary\tcustom\tTRUE\tTRUE\tFALSE\tTRUE\t-100\t-1\t0\t0\t0\t31\t397\t1\t1\t1\t0.1\t50\t0.5\tFALSE\t100019\t0.120760421855084\t0.882468094816431\t929\t2044\t4.37606073706556e-05\t11934\t22372000\t5\n",
      "20221016 204807\t154\t480355\tgbdt\tbinary\tcustom\tTRUE\tTRUE\tFALSE\tTRUE\t-100\t-1\t0\t0\t0\t31\t1687\t1\t1\t1\t0.1\t50\t0.5\tFALSE\t100019\t0.0271065108235052\t0.98835042626597\t1944\t978\t0.00134409819864096\t10542\t24836000\t6\n",
      "20221016 204911\t154\t480355\tgbdt\tbinary\tcustom\tTRUE\tTRUE\tFALSE\tTRUE\t-100\t-1\t0\t0\t0\t31\t570\t1\t1\t1\t0.1\t50\t0.5\tFALSE\t100019\t0.222419631941229\t0.688582930201665\t6576\t1639\t0.00229575848620194\t11840\t21440000\t7\n",
      "20221016 205018\t154\t480355\tgbdt\tbinary\tcustom\tTRUE\tTRUE\tFALSE\tTRUE\t-100\t-1\t0\t0\t0\t31\t552\t1\t1\t1\t0.1\t50\t0.5\tFALSE\t100019\t0.0598771518388094\t0.767308655520901\t5415\t396\t0.0123934450575048\t13713\t23454000\t8\n",
      "20221016 205109\t154\t480355\tgbdt\tbinary\tcustom\tTRUE\tTRUE\tFALSE\tTRUE\t-100\t-1\t0\t0\t0\t31\t363\t1\t1\t1\t0.1\t50\t0.5\tFALSE\t100019\t0.187601753105409\t0.285983920737635\t7934\t1802\t0.0142604557158994\t12174\t23092000\t9\n",
      "20221016 205805\t154\t480355\tgbdt\tbinary\tcustom\tTRUE\tTRUE\tFALSE\tTRUE\t-100\t-1\t0\t0\t0\t31\t4758\t1\t1\t1\t0.1\t50\t0.5\tFALSE\t100019\t0.0211374792578135\t0.47304570407141\t2108\t26\t0.0101803772378521\t13241\t24078000\t10\n",
      "20221016 205841\t154\t480355\tgbdt\tbinary\tcustom\tTRUE\tTRUE\tFALSE\tTRUE\t-100\t-1\t0\t0\t0\t31\t174\t1\t1\t1\t0.1\t50\t0.5\tFALSE\t100019\t0.142598317670636\t0.243186280142982\t3371\t1157\t0.0177612955360838\t11380\t24280000\t11\n",
      "20221016 205943\t154\t480355\tgbdt\tbinary\tcustom\tTRUE\tTRUE\tFALSE\tTRUE\t-100\t-1\t0\t0\t0\t31\t477\t1\t1\t1\t0.1\t50\t0.5\tFALSE\t100019\t0.112007186387054\t0.700428487360478\t4456\t1510\t0.00557378000911182\t12453\t24614000\t12\n",
      "20221016 210011\t154\t480355\tgbdt\tbinary\tcustom\tTRUE\tTRUE\tFALSE\tTRUE\t-100\t-1\t0\t0\t0\t31\t114\t1\t1\t1\t0.1\t50\t0.5\tFALSE\t100019\t0.273804733943252\t0.927041518641636\t3685\t1212\t0.0102608897175048\t12202\t22876000\t13\n",
      "20221016 210132\t154\t480355\tgbdt\tbinary\tcustom\tTRUE\tTRUE\tFALSE\tTRUE\t-100\t-1\t0\t0\t0\t31\t486\t1\t1\t1\t0.1\t50\t0.5\tFALSE\t100019\t0.170690582858006\t0.579228782653809\t1035\t222\t6.19753502263966e-05\t10539\t20922000\t14\n",
      "20221016 210200\t154\t480355\tgbdt\tbinary\tcustom\tTRUE\tTRUE\tFALSE\tTRUE\t-100\t-1\t0\t0\t0\t31\t37\t1\t1\t1\t0.1\t50\t0.5\tFALSE\t100019\t0.291071993215737\t0.411193369107787\t83\t1729\t0.00014298546662581\t14694\t16372000\t15\n",
      "20221016 210322\t154\t480355\tgbdt\tbinary\tcustom\tTRUE\tTRUE\tFALSE\tTRUE\t-100\t-1\t0\t0\t0\t31\t591\t1\t1\t1\t0.1\t50\t0.5\tFALSE\t100019\t0.0922114551389677\t0.535916982486378\t7409\t550\t0.010420525625942\t13993\t22654000\t16\n"
     ]
    },
    {
     "name": "stderr",
     "output_type": "stream",
     "text": [
      "[mbo] 0: learning_rate=0.191; feature_fraction=0.368; min_data_in_leaf=6483; num_leaves=491 : y = 2.16e+07 : 109.6 secs : initdesign\n",
      "\n",
      "[mbo] 0: learning_rate=0.0702; feature_fraction=0.841; min_data_in_leaf=5897; num_leaves=1297 : y = 2.37e+07 : 119.8 secs : initdesign\n",
      "\n",
      "[mbo] 0: learning_rate=0.245; feature_fraction=0.646; min_data_in_leaf=2692; num_leaves=822 : y = 2.14e+07 : 85.7 secs : initdesign\n",
      "\n",
      "[mbo] 0: learning_rate=0.237; feature_fraction=0.34; min_data_in_leaf=4569; num_leaves=699 : y = 2.24e+07 : 47.1 secs : initdesign\n",
      "\n",
      "[mbo] 0: learning_rate=0.121; feature_fraction=0.882; min_data_in_leaf=929; num_leaves=2044 : y = 2.24e+07 : 80.4 secs : initdesign\n",
      "\n",
      "[mbo] 0: learning_rate=0.0271; feature_fraction=0.988; min_data_in_leaf=1944; num_leaves=978 : y = 2.48e+07 : 425.5 secs : initdesign\n",
      "\n",
      "[mbo] 0: learning_rate=0.222; feature_fraction=0.689; min_data_in_leaf=6576; num_leaves=1639 : y = 2.14e+07 : 63.8 secs : initdesign\n",
      "\n",
      "[mbo] 0: learning_rate=0.0599; feature_fraction=0.767; min_data_in_leaf=5415; num_leaves=396 : y = 2.35e+07 : 67.0 secs : initdesign\n",
      "\n",
      "[mbo] 0: learning_rate=0.188; feature_fraction=0.286; min_data_in_leaf=7934; num_leaves=1802 : y = 2.31e+07 : 51.5 secs : initdesign\n",
      "\n",
      "[mbo] 0: learning_rate=0.0211; feature_fraction=0.473; min_data_in_leaf=2108; num_leaves=26 : y = 2.41e+07 : 415.9 secs : initdesign\n",
      "\n",
      "[mbo] 0: learning_rate=0.143; feature_fraction=0.243; min_data_in_leaf=3371; num_leaves=1157 : y = 2.43e+07 : 36.2 secs : initdesign\n",
      "\n",
      "[mbo] 0: learning_rate=0.112; feature_fraction=0.7; min_data_in_leaf=4456; num_leaves=1510 : y = 2.46e+07 : 61.9 secs : initdesign\n",
      "\n",
      "[mbo] 0: learning_rate=0.274; feature_fraction=0.927; min_data_in_leaf=3685; num_leaves=1212 : y = 2.29e+07 : 28.4 secs : initdesign\n",
      "\n",
      "[mbo] 0: learning_rate=0.171; feature_fraction=0.579; min_data_in_leaf=1035; num_leaves=222 : y = 2.09e+07 : 80.2 secs : initdesign\n",
      "\n",
      "[mbo] 0: learning_rate=0.291; feature_fraction=0.411; min_data_in_leaf=83; num_leaves=1729 : y = 1.64e+07 : 28.0 secs : initdesign\n",
      "\n",
      "[mbo] 0: learning_rate=0.0922; feature_fraction=0.536; min_data_in_leaf=7409; num_leaves=550 : y = 2.27e+07 : 82.3 secs : initdesign\n",
      "\n",
      "Saved the current state after iteration 1 in the file bayesiana.RDATA.\n",
      "\n"
     ]
    },
    {
     "name": "stdout",
     "output_type": "stream",
     "text": [
      "20221016 210445\t154\t480355\tgbdt\tbinary\tcustom\tTRUE\tTRUE\tFALSE\tTRUE\t-100\t-1\t0\t0\t0\t31\t558\t1\t1\t1\t0.1\t50\t0.5\tFALSE\t100019\t0.0395506724653946\t0.999979737669564\t3452\t1487\t0.0117143302990324\t13629\t24022000\t17\n"
     ]
    },
    {
     "name": "stderr",
     "output_type": "stream",
     "text": [
      "[mbo] 1: learning_rate=0.0396; feature_fraction=1; min_data_in_leaf=3452; num_leaves=1487 : y = 2.4e+07 : 81.4 secs : infill_ei\n",
      "\n"
     ]
    },
    {
     "name": "stdout",
     "output_type": "stream",
     "text": [
      "20221016 210621\t154\t480355\tgbdt\tbinary\tcustom\tTRUE\tTRUE\tFALSE\tTRUE\t-100\t-1\t0\t0\t0\t31\t832\t1\t1\t1\t0.1\t50\t0.5\tFALSE\t100019\t0.0871820304052454\t0.200240213662824\t4479\t2030\t0.00591401000941074\t12293\t22774000\t18\n"
     ]
    },
    {
     "name": "stderr",
     "output_type": "stream",
     "text": [
      "[mbo] 2: learning_rate=0.0872; feature_fraction=0.2; min_data_in_leaf=4479; num_leaves=2030 : y = 2.28e+07 : 95.3 secs : infill_ei\n",
      "\n"
     ]
    },
    {
     "name": "stdout",
     "output_type": "stream",
     "text": [
      "20221016 210748\t154\t480355\tgbdt\tbinary\tcustom\tTRUE\tTRUE\tFALSE\tTRUE\t-100\t-1\t0\t0\t0\t31\t732\t1\t1\t1\t0.1\t50\t0.5\tFALSE\t100019\t0.126447786078312\t0.99918923740052\t3706\t998\t0.000585462353155923\t11959\t22962000\t19\n"
     ]
    },
    {
     "name": "stderr",
     "output_type": "stream",
     "text": [
      "[mbo] 3: learning_rate=0.126; feature_fraction=0.999; min_data_in_leaf=3706; num_leaves=998 : y = 2.3e+07 : 86.8 secs : infill_ei\n",
      "\n"
     ]
    },
    {
     "name": "stdout",
     "output_type": "stream",
     "text": [
      "20221016 210959\t154\t480355\tgbdt\tbinary\tcustom\tTRUE\tTRUE\tFALSE\tTRUE\t-100\t-1\t0\t0\t0\t31\t923\t1\t1\t1\t0.1\t50\t0.5\tFALSE\t100019\t0.0230525782573442\t0.726040224753774\t2336\t1282\t0.0108318538346537\t12306\t24668000\t20\n"
     ]
    },
    {
     "name": "stderr",
     "output_type": "stream",
     "text": [
      "[mbo] 4: learning_rate=0.0231; feature_fraction=0.726; min_data_in_leaf=2336; num_leaves=1282 : y = 2.47e+07 : 130.4 secs : infill_ei\n",
      "\n"
     ]
    },
    {
     "name": "stdout",
     "output_type": "stream",
     "text": [
      "20221016 212806\t154\t480355\tgbdt\tbinary\tcustom\tTRUE\tTRUE\tFALSE\tTRUE\t-100\t-1\t0\t0\t0\t31\t7583\t1\t1\t1\t0.1\t50\t0.5\tFALSE\t100019\t0.00501241930124364\t0.894199542458539\t1275\t755\t0.000498216382391839\t12268\t24344000\t21\n"
     ]
    },
    {
     "name": "stderr",
     "output_type": "stream",
     "text": [
      "[mbo] 5: learning_rate=0.00501; feature_fraction=0.894; min_data_in_leaf=1275; num_leaves=755 : y = 2.43e+07 : 1086.1 secs : infill_ei\n",
      "\n",
      "Saved the current state after iteration 6 in the file bayesiana.RDATA.\n",
      "\n"
     ]
    },
    {
     "name": "stdout",
     "output_type": "stream",
     "text": [
      "20221016 212915\t154\t480355\tgbdt\tbinary\tcustom\tTRUE\tTRUE\tFALSE\tTRUE\t-100\t-1\t0\t0\t0\t31\t394\t1\t1\t1\t0.1\t50\t0.5\tFALSE\t100019\t0.0775618320710434\t0.605572866544745\t3026\t1093\t0.00771136262594356\t13025\t23390000\t22\n"
     ]
    },
    {
     "name": "stderr",
     "output_type": "stream",
     "text": [
      "[mbo] 6: learning_rate=0.0776; feature_fraction=0.606; min_data_in_leaf=3026; num_leaves=1093 : y = 2.34e+07 : 67.0 secs : infill_ei\n",
      "\n"
     ]
    },
    {
     "name": "stdout",
     "output_type": "stream",
     "text": [
      "20221016 213636\t154\t480355\tgbdt\tbinary\tcustom\tTRUE\tTRUE\tFALSE\tTRUE\t-100\t-1\t0\t0\t0\t31\t3199\t1\t1\t1\t0.1\t50\t0.5\tFALSE\t100019\t0.00504324686920138\t0.992406360023883\t2086\t1888\t0.0113329555848236\t13046\t24068000\t23\n"
     ]
    },
    {
     "name": "stderr",
     "output_type": "stream",
     "text": [
      "[mbo] 7: learning_rate=0.00504; feature_fraction=0.992; min_data_in_leaf=2086; num_leaves=1888 : y = 2.41e+07 : 440.2 secs : infill_ei\n",
      "\n"
     ]
    },
    {
     "name": "stdout",
     "output_type": "stream",
     "text": [
      "20221016 213731\t154\t480355\tgbdt\tbinary\tcustom\tTRUE\tTRUE\tFALSE\tTRUE\t-100\t-1\t0\t0\t0\t31\t298\t1\t1\t1\t0.1\t50\t0.5\tFALSE\t100019\t0.141703976162015\t0.518142275224545\t4683\t2041\t0.0112320872342573\t11882\t23916000\t24\n"
     ]
    },
    {
     "name": "stderr",
     "output_type": "stream",
     "text": [
      "[mbo] 8: learning_rate=0.142; feature_fraction=0.518; min_data_in_leaf=4683; num_leaves=2041 : y = 2.39e+07 : 55.0 secs : infill_ei\n",
      "\n"
     ]
    },
    {
     "name": "stdout",
     "output_type": "stream",
     "text": [
      "20221016 214036\t154\t480355\tgbdt\tbinary\tcustom\tTRUE\tTRUE\tFALSE\tTRUE\t-100\t-1\t0\t0\t0\t31\t1471\t1\t1\t1\t0.1\t50\t0.5\tFALSE\t100019\t0.0190596910300049\t0.918624574466682\t2344\t169\t0.00641497243480043\t12062\t24356000\t25\n"
     ]
    },
    {
     "name": "stderr",
     "output_type": "stream",
     "text": [
      "[mbo] 9: learning_rate=0.0191; feature_fraction=0.919; min_data_in_leaf=2344; num_leaves=169 : y = 2.44e+07 : 184.9 secs : infill_ei\n",
      "\n",
      "Saved the current state after iteration 10 in the file bayesiana.RDATA.\n",
      "\n"
     ]
    },
    {
     "name": "stdout",
     "output_type": "stream",
     "text": [
      "20221016 214259\t154\t480355\tgbdt\tbinary\tcustom\tTRUE\tTRUE\tFALSE\tTRUE\t-100\t-1\t0\t0\t0\t31\t893\t1\t1\t1\t0.1\t50\t0.5\tFALSE\t100019\t0.0316942721900034\t0.828933325521332\t1532\t1298\t0.00307228137122855\t11358\t24084000\t26\n"
     ]
    },
    {
     "name": "stderr",
     "output_type": "stream",
     "text": [
      "[mbo] 10: learning_rate=0.0317; feature_fraction=0.829; min_data_in_leaf=1532; num_leaves=1298 : y = 2.41e+07 : 140.6 secs : infill_ei\n",
      "\n"
     ]
    },
    {
     "name": "stdout",
     "output_type": "stream",
     "text": [
      "20221016 215058\t154\t480355\tgbdt\tbinary\tcustom\tTRUE\tTRUE\tFALSE\tTRUE\t-100\t-1\t0\t0\t0\t31\t4803\t1\t1\t1\t0.1\t50\t0.5\tFALSE\t100019\t0.00827319637928787\t0.704286726477696\t4484\t1068\t0.0113360010358461\t11688\t24784000\t27\n"
     ]
    },
    {
     "name": "stderr",
     "output_type": "stream",
     "text": [
      "[mbo] 11: learning_rate=0.00827; feature_fraction=0.704; min_data_in_leaf=4484; num_leaves=1068 : y = 2.48e+07 : 478.8 secs : infill_ei\n",
      "\n",
      "Saved the current state after iteration 12 in the file bayesiana.RDATA.\n",
      "\n"
     ]
    },
    {
     "name": "stdout",
     "output_type": "stream",
     "text": [
      "20221016 220812\t154\t480355\tgbdt\tbinary\tcustom\tTRUE\tTRUE\tFALSE\tTRUE\t-100\t-1\t0\t0\t0\t31\t5747\t1\t1\t1\t0.1\t50\t0.5\tFALSE\t100019\t0.00501027235013408\t0.683202843161932\t3206\t941\t0.0103299700668377\t12320\t25120000\t28\n"
     ]
    },
    {
     "name": "stderr",
     "output_type": "stream",
     "text": [
      "[mbo] 12: learning_rate=0.00501; feature_fraction=0.683; min_data_in_leaf=3206; num_leaves=941 : y = 2.51e+07 : 1032.2 secs : infill_ei\n",
      "\n",
      "Saved the current state after iteration 13 in the file bayesiana.RDATA.\n",
      "\n"
     ]
    },
    {
     "name": "stdout",
     "output_type": "stream",
     "text": [
      "20221016 221953\t154\t480355\tgbdt\tbinary\tcustom\tTRUE\tTRUE\tFALSE\tTRUE\t-100\t-1\t0\t0\t0\t31\t5631\t1\t1\t1\t0.1\t50\t0.5\tFALSE\t100019\t0.00504305378361882\t0.374999812783549\t3348\t970\t0.0115761628678746\t12809\t24462000\t29\n"
     ]
    },
    {
     "name": "stderr",
     "output_type": "stream",
     "text": [
      "[mbo] 13: learning_rate=0.00504; feature_fraction=0.375; min_data_in_leaf=3348; num_leaves=970 : y = 2.45e+07 : 698.3 secs : infill_ei\n",
      "\n",
      "Saved the current state after iteration 14 in the file bayesiana.RDATA.\n",
      "\n"
     ]
    },
    {
     "name": "stdout",
     "output_type": "stream",
     "text": [
      "20221016 222922\t154\t480355\tgbdt\tbinary\tcustom\tTRUE\tTRUE\tFALSE\tTRUE\t-100\t-1\t0\t0\t0\t31\t4872\t1\t1\t1\t0.1\t50\t0.5\tFALSE\t100019\t0.00503644881797996\t0.833323201391628\t2848\t929\t0.0104218135648981\t12443\t24634000\t30\n"
     ]
    },
    {
     "name": "stderr",
     "output_type": "stream",
     "text": [
      "[mbo] 14: learning_rate=0.00504; feature_fraction=0.833; min_data_in_leaf=2848; num_leaves=929 : y = 2.46e+07 : 567.5 secs : infill_ei\n",
      "\n"
     ]
    },
    {
     "name": "stdout",
     "output_type": "stream",
     "text": [
      "20221016 223219\t154\t480355\tgbdt\tbinary\tcustom\tTRUE\tTRUE\tFALSE\tTRUE\t-100\t-1\t0\t0\t0\t31\t1471\t1\t1\t1\t0.1\t50\t0.5\tFALSE\t100019\t0.016230911707327\t0.650826952689583\t3651\t955\t0.0108403746119925\t14471\t23298000\t31\n"
     ]
    },
    {
     "name": "stderr",
     "output_type": "stream",
     "text": [
      "[mbo] 15: learning_rate=0.0162; feature_fraction=0.651; min_data_in_leaf=3651; num_leaves=955 : y = 2.33e+07 : 176.2 secs : infill_ei\n",
      "\n",
      "Saved the current state after iteration 16 in the file bayesiana.RDATA.\n",
      "\n"
     ]
    },
    {
     "name": "stdout",
     "output_type": "stream",
     "text": [
      "20221016 224031\t154\t480355\tgbdt\tbinary\tcustom\tTRUE\tTRUE\tFALSE\tTRUE\t-100\t-1\t0\t0\t0\t31\t4818\t1\t1\t1\t0.1\t50\t0.5\tFALSE\t100019\t0.00603668086907054\t0.999259762580218\t4756\t1454\t0.0139880525688011\t12610\t24540000\t32\n"
     ]
    },
    {
     "name": "stderr",
     "output_type": "stream",
     "text": [
      "[mbo] 16: learning_rate=0.00604; feature_fraction=0.999; min_data_in_leaf=4756; num_leaves=1454 : y = 2.45e+07 : 490.1 secs : infill_ei\n",
      "\n"
     ]
    },
    {
     "name": "stdout",
     "output_type": "stream",
     "text": [
      "20221016 225005\t154\t480355\tgbdt\tbinary\tcustom\tTRUE\tTRUE\tFALSE\tTRUE\t-100\t-1\t0\t0\t0\t31\t5042\t1\t1\t1\t0.1\t50\t0.5\tFALSE\t100019\t0.00518038164799165\t0.710326134281373\t3194\t1550\t0.0114318048730158\t12360\t24800000\t33\n"
     ]
    },
    {
     "name": "stderr",
     "output_type": "stream",
     "text": [
      "[mbo] 17: learning_rate=0.00518; feature_fraction=0.71; min_data_in_leaf=3194; num_leaves=1550 : y = 2.48e+07 : 574.0 secs : infill_ei\n",
      "\n",
      "Saved the current state after iteration 18 in the file bayesiana.RDATA.\n",
      "\n"
     ]
    },
    {
     "name": "stdout",
     "output_type": "stream",
     "text": [
      "20221016 230041\t154\t480355\tgbdt\tbinary\tcustom\tTRUE\tTRUE\tFALSE\tTRUE\t-100\t-1\t0\t0\t0\t31\t6433\t1\t1\t1\t0.1\t50\t0.5\tFALSE\t100019\t0.00544779505561428\t0.999238294303817\t4516\t157\t0.0115047031450979\t12259\t24522000\t34\n"
     ]
    },
    {
     "name": "stderr",
     "output_type": "stream",
     "text": [
      "[mbo] 18: learning_rate=0.00545; feature_fraction=0.999; min_data_in_leaf=4516; num_leaves=157 : y = 2.45e+07 : 633.3 secs : infill_ei\n",
      "\n",
      "Saved the current state after iteration 19 in the file bayesiana.RDATA.\n",
      "\n"
     ]
    },
    {
     "name": "stdout",
     "output_type": "stream",
     "text": [
      "20221016 230149\t154\t480355\tgbdt\tbinary\tcustom\tTRUE\tTRUE\tFALSE\tTRUE\t-100\t-1\t0\t0\t0\t31\t524\t1\t1\t1\t0.1\t50\t0.5\tFALSE\t100019\t0.111125630206072\t0.995256513787488\t4715\t1085\t0.00343280874340795\t14212\t21656000\t35\n"
     ]
    },
    {
     "name": "stderr",
     "output_type": "stream",
     "text": [
      "[mbo] 19: learning_rate=0.111; feature_fraction=0.995; min_data_in_leaf=4715; num_leaves=1085 : y = 2.17e+07 : 65.7 secs : infill_ei\n",
      "\n"
     ]
    },
    {
     "name": "stdout",
     "output_type": "stream",
     "text": [
      "20221016 230303\t154\t480355\tgbdt\tbinary\tcustom\tTRUE\tTRUE\tFALSE\tTRUE\t-100\t-1\t0\t0\t0\t31\t496\t1\t1\t1\t0.1\t50\t0.5\tFALSE\t100019\t0.142777084517426\t0.605890312170563\t4117\t1753\t0.00211315766256186\t13120\t21840000\t36\n"
     ]
    },
    {
     "name": "stderr",
     "output_type": "stream",
     "text": [
      "[mbo] 20: learning_rate=0.143; feature_fraction=0.606; min_data_in_leaf=4117; num_leaves=1753 : y = 2.18e+07 : 73.2 secs : infill_ei\n",
      "\n"
     ]
    },
    {
     "name": "stdout",
     "output_type": "stream",
     "text": [
      "20221016 230856\t154\t480355\tgbdt\tbinary\tcustom\tTRUE\tTRUE\tFALSE\tTRUE\t-100\t-1\t0\t0\t0\t31\t3268\t1\t1\t1\t0.1\t50\t0.5\tFALSE\t100019\t0.00661276902203865\t0.893664050700352\t4496\t2048\t0.0132437831714428\t14656\t23168000\t37\n"
     ]
    },
    {
     "name": "stderr",
     "output_type": "stream",
     "text": [
      "[mbo] 21: learning_rate=0.00661; feature_fraction=0.894; min_data_in_leaf=4496; num_leaves=2048 : y = 2.32e+07 : 353.3 secs : infill_ei\n",
      "\n"
     ]
    },
    {
     "name": "stdout",
     "output_type": "stream",
     "text": [
      "20221016 231602\t154\t480355\tgbdt\tbinary\tcustom\tTRUE\tTRUE\tFALSE\tTRUE\t-100\t-1\t0\t0\t0\t31\t4089\t1\t1\t1\t0.1\t50\t0.5\tFALSE\t100019\t0.00545348947261629\t0.701603676637194\t4748\t257\t0.0138967621131148\t14444\t22952000\t38\n"
     ]
    },
    {
     "name": "stderr",
     "output_type": "stream",
     "text": [
      "[mbo] 22: learning_rate=0.00545; feature_fraction=0.702; min_data_in_leaf=4748; num_leaves=257 : y = 2.3e+07 : 424.8 secs : infill_ei\n",
      "\n",
      "Saved the current state after iteration 23 in the file bayesiana.RDATA.\n",
      "\n"
     ]
    },
    {
     "name": "stdout",
     "output_type": "stream",
     "text": [
      "20221016 232145\t154\t480355\tgbdt\tbinary\tcustom\tTRUE\tTRUE\tFALSE\tTRUE\t-100\t-1\t0\t0\t0\t31\t2555\t1\t1\t1\t0.1\t50\t0.5\tFALSE\t100019\t0.00850384461739938\t0.791974648040358\t1975\t519\t0.00748090597388062\t12592\t24736000\t39\n"
     ]
    },
    {
     "name": "stderr",
     "output_type": "stream",
     "text": [
      "[mbo] 23: learning_rate=0.0085; feature_fraction=0.792; min_data_in_leaf=1975; num_leaves=519 : y = 2.47e+07 : 341.1 secs : infill_ei\n",
      "\n"
     ]
    },
    {
     "name": "stdout",
     "output_type": "stream",
     "text": [
      "20221016 233012\t154\t480355\tgbdt\tbinary\tcustom\tTRUE\tTRUE\tFALSE\tTRUE\t-100\t-1\t0\t0\t0\t31\t4567\t1\t1\t1\t0.1\t50\t0.5\tFALSE\t100019\t0.00596760341396353\t0.838691849635381\t3212\t393\t0.00965550019957045\t12906\t24188000\t40\n"
     ]
    },
    {
     "name": "stderr",
     "output_type": "stream",
     "text": [
      "[mbo] 24: learning_rate=0.00597; feature_fraction=0.839; min_data_in_leaf=3212; num_leaves=393 : y = 2.42e+07 : 506.6 secs : infill_ei\n",
      "\n",
      "Saved the current state after iteration 25 in the file bayesiana.RDATA.\n",
      "\n"
     ]
    },
    {
     "name": "stdout",
     "output_type": "stream",
     "text": [
      "20221016 233135\t154\t480355\tgbdt\tbinary\tcustom\tTRUE\tTRUE\tFALSE\tTRUE\t-100\t-1\t0\t0\t0\t31\t626\t1\t1\t1\t0.1\t50\t0.5\tFALSE\t100019\t0.0589325412894891\t0.658694579572335\t4454\t1114\t0.0113483145667513\t12401\t24318000\t41\n"
     ]
    },
    {
     "name": "stderr",
     "output_type": "stream",
     "text": [
      "[mbo] 25: learning_rate=0.0589; feature_fraction=0.659; min_data_in_leaf=4454; num_leaves=1114 : y = 2.43e+07 : 80.4 secs : infill_ei\n",
      "\n"
     ]
    },
    {
     "name": "stdout",
     "output_type": "stream",
     "text": [
      "20221016 234134\t154\t480355\tgbdt\tbinary\tcustom\tTRUE\tTRUE\tFALSE\tTRUE\t-100\t-1\t0\t0\t0\t31\t4875\t1\t1\t1\t0.1\t50\t0.5\tFALSE\t100019\t0.00508995863944785\t0.638220463581628\t2729\t712\t0.010264374051567\t12513\t24894000\t42\n"
     ]
    },
    {
     "name": "stderr",
     "output_type": "stream",
     "text": [
      "[mbo] 26: learning_rate=0.00509; feature_fraction=0.638; min_data_in_leaf=2729; num_leaves=712 : y = 2.49e+07 : 599.1 secs : infill_ei\n",
      "\n",
      "Saved the current state after iteration 27 in the file bayesiana.RDATA.\n",
      "\n"
     ]
    },
    {
     "name": "stdout",
     "output_type": "stream",
     "text": [
      "20221016 235334\t154\t480355\tgbdt\tbinary\tcustom\tTRUE\tTRUE\tFALSE\tTRUE\t-100\t-1\t0\t0\t0\t31\t5389\t1\t1\t1\t0.1\t50\t0.5\tFALSE\t100019\t0.00504921306958716\t0.559192300536782\t3054\t826\t0.0101644455153097\t12708\t24824000\t43\n"
     ]
    },
    {
     "name": "stderr",
     "output_type": "stream",
     "text": [
      "[mbo] 27: learning_rate=0.00505; feature_fraction=0.559; min_data_in_leaf=3054; num_leaves=826 : y = 2.48e+07 : 717.7 secs : infill_ei\n",
      "\n",
      "Saved the current state after iteration 28 in the file bayesiana.RDATA.\n",
      "\n"
     ]
    },
    {
     "name": "stdout",
     "output_type": "stream",
     "text": [
      "20221017 000725\t154\t480355\tgbdt\tbinary\tcustom\tTRUE\tTRUE\tFALSE\tTRUE\t-100\t-1\t0\t0\t0\t31\t6403\t1\t1\t1\t0.1\t50\t0.5\tFALSE\t100019\t0.00558586412088808\t0.995164502973943\t1722\t322\t0.00150679811515973\t12092\t24216000\t44\n"
     ]
    },
    {
     "name": "stderr",
     "output_type": "stream",
     "text": [
      "[mbo] 28: learning_rate=0.00559; feature_fraction=0.995; min_data_in_leaf=1722; num_leaves=322 : y = 2.42e+07 : 828.9 secs : infill_ei\n",
      "\n",
      "Saved the current state after iteration 29 in the file bayesiana.RDATA.\n",
      "\n"
     ]
    },
    {
     "name": "stdout",
     "output_type": "stream",
     "text": [
      "20221017 000840\t154\t480355\tgbdt\tbinary\tcustom\tTRUE\tTRUE\tFALSE\tTRUE\t-100\t-1\t0\t0\t0\t31\t438\t1\t1\t1\t0.1\t50\t0.5\tFALSE\t100019\t0.05469936710591\t0.845527262146884\t2081\t776\t0.00731255829612226\t12006\t23908000\t45\n"
     ]
    },
    {
     "name": "stderr",
     "output_type": "stream",
     "text": [
      "[mbo] 29: learning_rate=0.0547; feature_fraction=0.846; min_data_in_leaf=2081; num_leaves=776 : y = 2.39e+07 : 72.5 secs : infill_ei\n",
      "\n"
     ]
    },
    {
     "name": "stdout",
     "output_type": "stream",
     "text": [
      "20221017 001750\t154\t480355\tgbdt\tbinary\tcustom\tTRUE\tTRUE\tFALSE\tTRUE\t-100\t-1\t0\t0\t0\t31\t4545\t1\t1\t1\t0.1\t50\t0.5\tFALSE\t100019\t0.00515625579988036\t0.721180127300171\t2536\t897\t0.00890042011900534\t13145\t24430000\t46\n"
     ]
    },
    {
     "name": "stderr",
     "output_type": "stream",
     "text": [
      "[mbo] 30: learning_rate=0.00516; feature_fraction=0.721; min_data_in_leaf=2536; num_leaves=897 : y = 2.44e+07 : 550.3 secs : infill_ei\n",
      "\n",
      "Saved the current state after iteration 31 in the file bayesiana.RDATA.\n",
      "\n"
     ]
    },
    {
     "name": "stdout",
     "output_type": "stream",
     "text": [
      "20221017 002146\t154\t480355\tgbdt\tbinary\tcustom\tTRUE\tTRUE\tFALSE\tTRUE\t-100\t-1\t0\t0\t0\t31\t1968\t1\t1\t1\t0.1\t50\t0.5\tFALSE\t100019\t0.0239557893321871\t0.618249460155462\t3246\t1006\t0.00387128956163699\t12513\t23774000\t47\n"
     ]
    },
    {
     "name": "stderr",
     "output_type": "stream",
     "text": [
      "[mbo] 31: learning_rate=0.024; feature_fraction=0.618; min_data_in_leaf=3246; num_leaves=1006 : y = 2.38e+07 : 233.9 secs : infill_ei\n",
      "\n"
     ]
    },
    {
     "name": "stdout",
     "output_type": "stream",
     "text": [
      "20221017 002958\t154\t480355\tgbdt\tbinary\tcustom\tTRUE\tTRUE\tFALSE\tTRUE\t-100\t-1\t0\t0\t0\t31\t4742\t1\t1\t1\t0.1\t50\t0.5\tFALSE\t100019\t0.00502213644757066\t0.62778997817602\t5825\t997\t0.0128714791356983\t15709\t22662000\t48\n"
     ]
    },
    {
     "name": "stderr",
     "output_type": "stream",
     "text": [
      "[mbo] 32: learning_rate=0.00502; feature_fraction=0.628; min_data_in_leaf=5825; num_leaves=997 : y = 2.27e+07 : 491.4 secs : infill_ei\n",
      "\n",
      "Saved the current state after iteration 33 in the file bayesiana.RDATA.\n",
      "\n"
     ]
    },
    {
     "name": "stdout",
     "output_type": "stream",
     "text": [
      "20221017 003157\t154\t480355\tgbdt\tbinary\tcustom\tTRUE\tTRUE\tFALSE\tTRUE\t-100\t-1\t0\t0\t0\t31\t1006\t1\t1\t1\t0.1\t50\t0.5\tFALSE\t100019\t0.0339832677780177\t0.799600928524161\t4441\t1387\t0.0102677250113845\t13056\t23808000\t49\n"
     ]
    },
    {
     "name": "stderr",
     "output_type": "stream",
     "text": [
      "[mbo] 33: learning_rate=0.034; feature_fraction=0.8; min_data_in_leaf=4441; num_leaves=1387 : y = 2.38e+07 : 116.9 secs : infill_ei\n",
      "\n"
     ]
    },
    {
     "name": "stdout",
     "output_type": "stream",
     "text": [
      "20221017 004710\t154\t480355\tgbdt\tbinary\tcustom\tTRUE\tTRUE\tFALSE\tTRUE\t-100\t-1\t0\t0\t0\t31\t4848\t1\t1\t1\t0.1\t50\t0.5\tFALSE\t100019\t0.00517692664096977\t0.68284002041379\t2967\t811\t0.0125605719255622\t11724\t25512000\t50\n"
     ]
    },
    {
     "name": "stderr",
     "output_type": "stream",
     "text": [
      "[mbo] 34: learning_rate=0.00518; feature_fraction=0.683; min_data_in_leaf=2967; num_leaves=811 : y = 2.55e+07 : 911.9 secs : infill_ei\n",
      "\n",
      "Saved the current state after iteration 35 in the file bayesiana.RDATA.\n",
      "\n"
     ]
    },
    {
     "name": "stdout",
     "output_type": "stream",
     "text": [
      "20221017 005335\t154\t480355\tgbdt\tbinary\tcustom\tTRUE\tTRUE\tFALSE\tTRUE\t-100\t-1\t0\t0\t0\t31\t2769\t1\t1\t1\t0.1\t50\t0.5\tFALSE\t100019\t0.00506735364243694\t0.311892179117782\t2891\t1009\t0.0141789094329976\t14829\t23222000\t51\n"
     ]
    },
    {
     "name": "stderr",
     "output_type": "stream",
     "text": [
      "[mbo] 35: learning_rate=0.00507; feature_fraction=0.312; min_data_in_leaf=2891; num_leaves=1009 : y = 2.32e+07 : 383.1 secs : infill_ei\n",
      "\n"
     ]
    },
    {
     "name": "stdout",
     "output_type": "stream",
     "text": [
      "20221017 010258\t154\t480355\tgbdt\tbinary\tcustom\tTRUE\tTRUE\tFALSE\tTRUE\t-100\t-1\t0\t0\t0\t31\t4787\t1\t1\t1\t0.1\t50\t0.5\tFALSE\t100019\t0.00527035841085155\t0.644306537760732\t3026\t395\t0.011257626520046\t12500\t24760000\t52\n"
     ]
    },
    {
     "name": "stderr",
     "output_type": "stream",
     "text": [
      "[mbo] 36: learning_rate=0.00527; feature_fraction=0.644; min_data_in_leaf=3026; num_leaves=395 : y = 2.48e+07 : 561.7 secs : infill_ei\n",
      "\n",
      "Saved the current state after iteration 37 in the file bayesiana.RDATA.\n",
      "\n"
     ]
    },
    {
     "name": "stdout",
     "output_type": "stream",
     "text": [
      "20221017 011339\t154\t480355\tgbdt\tbinary\tcustom\tTRUE\tTRUE\tFALSE\tTRUE\t-100\t-1\t0\t0\t0\t31\t5527\t1\t1\t1\t0.1\t50\t0.5\tFALSE\t100019\t0.00537075899058416\t0.679166745245759\t2874\t1755\t0.00788768577184948\t12631\t24418000\t53\n"
     ]
    },
    {
     "name": "stderr",
     "output_type": "stream",
     "text": [
      "[mbo] 37: learning_rate=0.00537; feature_fraction=0.679; min_data_in_leaf=2874; num_leaves=1755 : y = 2.44e+07 : 638.7 secs : infill_ei\n",
      "\n",
      "Saved the current state after iteration 38 in the file bayesiana.RDATA.\n",
      "\n"
     ]
    },
    {
     "name": "stdout",
     "output_type": "stream",
     "text": [
      "20221017 012417\t154\t480355\tgbdt\tbinary\tcustom\tTRUE\tTRUE\tFALSE\tTRUE\t-100\t-1\t0\t0\t0\t31\t4875\t1\t1\t1\t0.1\t50\t0.5\tFALSE\t100019\t0.00503421068360174\t0.489247310859419\t4350\t1007\t0.0106837465529028\t15832\t21856000\t54\n"
     ]
    },
    {
     "name": "stderr",
     "output_type": "stream",
     "text": [
      "[mbo] 38: learning_rate=0.00503; feature_fraction=0.489; min_data_in_leaf=4350; num_leaves=1007 : y = 2.19e+07 : 635.5 secs : infill_ei\n",
      "\n",
      "Saved the current state after iteration 39 in the file bayesiana.RDATA.\n",
      "\n"
     ]
    },
    {
     "name": "stdout",
     "output_type": "stream",
     "text": [
      "20221017 013430\t154\t480355\tgbdt\tbinary\tcustom\tTRUE\tTRUE\tFALSE\tTRUE\t-100\t-1\t0\t0\t0\t31\t4559\t1\t1\t1\t0.1\t50\t0.5\tFALSE\t100019\t0.00578752180356481\t0.640127326633793\t2019\t1073\t0.00636428940040574\t11934\t24692000\t55\n"
     ]
    },
    {
     "name": "stderr",
     "output_type": "stream",
     "text": [
      "[mbo] 39: learning_rate=0.00579; feature_fraction=0.64; min_data_in_leaf=2019; num_leaves=1073 : y = 2.47e+07 : 610.8 secs : infill_ei\n",
      "\n",
      "Saved the current state after iteration 40 in the file bayesiana.RDATA.\n",
      "\n"
     ]
    },
    {
     "name": "stdout",
     "output_type": "stream",
     "text": [
      "20221017 013547\t154\t480355\tgbdt\tbinary\tcustom\tTRUE\tTRUE\tFALSE\tTRUE\t-100\t-1\t0\t0\t0\t31\t611\t1\t1\t1\t0.1\t50\t0.5\tFALSE\t100019\t0.0714229090451421\t0.698485755952797\t4954\t2042\t0.00702053988510941\t14593\t22734000\t56\n"
     ]
    },
    {
     "name": "stderr",
     "output_type": "stream",
     "text": [
      "[mbo] 40: learning_rate=0.0714; feature_fraction=0.698; min_data_in_leaf=4954; num_leaves=2042 : y = 2.27e+07 : 75.0 secs : infill_ei\n",
      "\n"
     ]
    },
    {
     "name": "stdout",
     "output_type": "stream",
     "text": [
      "20221017 014843\t154\t480355\tgbdt\tbinary\tcustom\tTRUE\tTRUE\tFALSE\tTRUE\t-100\t-1\t0\t0\t0\t31\t7100\t1\t1\t1\t0.1\t50\t0.5\tFALSE\t100019\t0.00511065983743807\t0.720506773989345\t3034\t875\t0.00705560789220748\t11648\t24464000\t57\n"
     ]
    },
    {
     "name": "stderr",
     "output_type": "stream",
     "text": [
      "[mbo] 41: learning_rate=0.00511; feature_fraction=0.721; min_data_in_leaf=3034; num_leaves=875 : y = 2.45e+07 : 776.0 secs : infill_ei\n",
      "\n",
      "Saved the current state after iteration 42 in the file bayesiana.RDATA.\n",
      "\n"
     ]
    },
    {
     "name": "stdout",
     "output_type": "stream",
     "text": [
      "20221017 015743\t154\t480355\tgbdt\tbinary\tcustom\tTRUE\tTRUE\tFALSE\tTRUE\t-100\t-1\t0\t0\t0\t31\t4397\t1\t1\t1\t0.1\t50\t0.5\tFALSE\t100019\t0.00526273550820614\t0.679510482367549\t2255\t177\t0.00869670097650605\t12563\t24714000\t58\n"
     ]
    },
    {
     "name": "stderr",
     "output_type": "stream",
     "text": [
      "[mbo] 42: learning_rate=0.00526; feature_fraction=0.68; min_data_in_leaf=2255; num_leaves=177 : y = 2.47e+07 : 537.3 secs : infill_ei\n",
      "\n"
     ]
    },
    {
     "name": "stdout",
     "output_type": "stream",
     "text": [
      "20221017 021411\t154\t480355\tgbdt\tbinary\tcustom\tTRUE\tTRUE\tFALSE\tTRUE\t-100\t-1\t0\t0\t0\t31\t7535\t1\t1\t1\t0.1\t50\t0.5\tFALSE\t100019\t0.00500985526437458\t0.49454315380347\t2877\t559\t0.0066917654489758\t11643\t24714000\t59\n"
     ]
    },
    {
     "name": "stderr",
     "output_type": "stream",
     "text": [
      "[mbo] 43: learning_rate=0.00501; feature_fraction=0.495; min_data_in_leaf=2877; num_leaves=559 : y = 2.47e+07 : 987.7 secs : infill_ei\n",
      "\n",
      "Saved the current state after iteration 44 in the file bayesiana.RDATA.\n",
      "\n"
     ]
    },
    {
     "name": "stdout",
     "output_type": "stream",
     "text": [
      "20221017 021754\t154\t480355\tgbdt\tbinary\tcustom\tTRUE\tTRUE\tFALSE\tTRUE\t-100\t-1\t0\t0\t0\t31\t1868\t1\t1\t1\t0.1\t50\t0.5\tFALSE\t100019\t0.0148891063082458\t0.682814297389024\t2865\t181\t0.00875065711134628\t12599\t24482000\t60\n"
     ]
    },
    {
     "name": "stderr",
     "output_type": "stream",
     "text": [
      "[mbo] 44: learning_rate=0.0149; feature_fraction=0.683; min_data_in_leaf=2865; num_leaves=181 : y = 2.45e+07 : 221.3 secs : infill_ei\n",
      "\n"
     ]
    }
   ],
   "source": [
    "#------------------------------------------------------------------------------\n",
    "#------------------------------------------------------------------------------\n",
    "#Aqui empieza el programa\n",
    "\n",
    "setwd(\"~/buckets/b1/\")\n",
    "kexp_input  <- kexperimento\n",
    "#cargo el dataset donde voy a entrenar\n",
    "#esta en la carpeta del exp_input y siempre se llama  dataset_training.csv.gz\n",
    "dataset_input  <- paste0( \"./exp/\", kexp_input, \"/dataset_training.csv.gz\" )\n",
    "dataset  <- fread( dataset_input )\n",
    "\n",
    "#Verificaciones\n",
    "if( ! (\"fold_train\"    %in% colnames(dataset) ) ) stop(\"Error, el dataset no tiene el campo fold_train \\n\")\n",
    "if( ! (\"fold_validate\" %in% colnames(dataset) ) ) stop(\"Error, el dataset no tiene el campo fold_validate \\n\")\n",
    "if( ! (\"fold_test\"     %in% colnames(dataset) ) ) stop(\"Error, el dataset no tiene el campo fold_test  \\n\")\n",
    "if( dataset[ fold_train==1, .N ] == 0 ) stop(\"Error, en el dataset no hay fold_train==1 \\n\")\n",
    "\n",
    "#creo la carpeta donde va el experimento\n",
    "dir.create( paste0( \"./exp/\", kexperimento, \"/\"), showWarnings = FALSE )\n",
    "setwd(paste0( \"./exp/\", kexperimento, \"/\"))   #Establezco el Working Directory DEL EXPERIMENTO\n",
    "\n",
    "cat( kexp_input,\n",
    "     file= \"TrainingStrategy.txt\",\n",
    "     append= FALSE )\n",
    "\n",
    "#defino la clase binaria clase01\n",
    "dataset[  , clase01 := ifelse( clase_ternaria==\"CONTINUA\", 0L, 1L ) ]\n",
    "\n",
    "\n",
    "#los campos que se pueden utilizar para la prediccion\n",
    "campos_buenos  <- setdiff( copy(colnames( dataset )), c( \"clase01\", \"clase_ternaria\", \"fold_train\", \"fold_validate\", \"fold_test\" ) )\n",
    "\n",
    "#la particion de train siempre va\n",
    "dtrain  <- lgb.Dataset( data=    data.matrix( dataset[ fold_train==1, campos_buenos, with=FALSE] ),\n",
    "                        label=   dataset[ fold_train==1, clase01 ],\n",
    "                        weight=  dataset[ fold_train==1, ifelse( clase_ternaria == \"BAJA+2\", 1.0000001, 1.0) ],\n",
    "                        free_raw_data= FALSE\n",
    "                      )\n",
    "\n",
    "\n",
    "kvalidate  <- FALSE\n",
    "ktest  <- FALSE\n",
    "kcrossvalidation  <- TRUE\n",
    "\n",
    "#Si hay que hacer validacion\n",
    "if( dataset[ fold_train==0 & fold_test==0 & fold_validate==1, .N ] > 0 )\n",
    "{\n",
    "  kcrossvalidation  <- FALSE\n",
    "  kvalidate  <- TRUE\n",
    "  dvalidate  <- lgb.Dataset( data=  data.matrix( dataset[ fold_validate==1, campos_buenos, with=FALSE] ),\n",
    "                             label= dataset[ fold_validate==1, clase01 ],\n",
    "                             free_raw_data= FALSE  )\n",
    "\n",
    "}\n",
    "\n",
    "#Si hay que hacer testing\n",
    "if( dataset[ fold_train==0 & fold_validate==0 & fold_test==1, .N ] > 0 )\n",
    "{\n",
    "  ktest  <- TRUE\n",
    "  kcrossvalidation  <- FALSE\n",
    "  dataset_test  <- dataset[ fold_test== 1 ]\n",
    "}\n",
    "\n",
    "\n",
    "#Si hay testing, sin validation,  STOP !!\n",
    "if( kvalidate== FALSE & ktest== TRUE ) stop(\"Error, si hay testing, debe haber validation \\n\") \n",
    "\n",
    "\n",
    "rm( dataset )\n",
    "gc()\n",
    "\n",
    "\n",
    "#si ya existe el archivo log, traigo hasta donde procese\n",
    "if( file.exists( \"BO_log.txt\" ) )\n",
    "{\n",
    "  tabla_log  <- fread( \"BO_log.txt\" )\n",
    "  GLOBAL_iteracion  <- nrow( tabla_log )\n",
    "  GLOBAL_ganancia   <- tabla_log[ , max(ganancia) ]\n",
    "  rm(tabla_log)\n",
    "} else  {\n",
    "  GLOBAL_iteracion  <- 0\n",
    "  GLOBAL_ganancia   <- -Inf\n",
    "}\n",
    "\n",
    "\n",
    "#Aqui comienza la configuracion de mlrMBO\n",
    "\n",
    "#deobo hacer cross validation o  Train/Validate/Test\n",
    "if( kcrossvalidation ) {\n",
    "  funcion_optimizar  <- EstimarGanancia_lightgbmCV\n",
    "} else {\n",
    "  funcion_optimizar  <- EstimarGanancia_lightgbm\n",
    "}\n",
    "\n",
    "\n",
    "configureMlr( show.learner.output= FALSE)\n",
    "\n",
    "#configuro la busqueda bayesiana,  los hiperparametros que se van a optimizar\n",
    "#por favor, no desesperarse por lo complejo\n",
    "obj.fun  <- makeSingleObjectiveFunction(\n",
    "              fn=       funcion_optimizar, #la funcion que voy a maximizar\n",
    "              minimize= FALSE,   #estoy Maximizando la ganancia\n",
    "              noisy=    TRUE,\n",
    "              par.set=  hs,     #definido al comienzo del programa\n",
    "              has.simple.signature = FALSE   #paso los parametros en una lista\n",
    "             )\n",
    "\n",
    "#archivo donde se graba y cada cuantos segundos\n",
    "ctrl  <- makeMBOControl( save.on.disk.at.time= 600,  \n",
    "                         save.file.path=       \"bayesiana.RDATA\" )\n",
    "                         \n",
    "ctrl  <- setMBOControlTermination( ctrl, \n",
    "                                   iters= kBO_iteraciones )   #cantidad de iteraciones\n",
    "                                   \n",
    "ctrl  <- setMBOControlInfill(ctrl, crit= makeMBOInfillCritEI() )\n",
    "\n",
    "#establezco la funcion que busca el maximo\n",
    "surr.km  <- makeLearner(\"regr.km\",\n",
    "                        predict.type= \"se\",\n",
    "                        covtype= \"matern3_2\",\n",
    "                        control= list(trace= TRUE) )\n",
    "\n",
    "\n",
    "\n",
    "#Aqui inicio la optimizacion bayesiana\n",
    "if( !file.exists( \"bayesiana.RDATA\" ) ) {\n",
    "\n",
    "  run  <- mbo(obj.fun, learner= surr.km, control= ctrl)\n",
    "\n",
    "} else {\n",
    "  #si ya existe el archivo RDATA, debo continuar desde el punto hasta donde llegue\n",
    "  #  usado para cuando se corta la virtual machine\n",
    "  run  <- mboContinue( \"bayesiana.RDATA\" )   #retomo en caso que ya exista\n",
    "}"
   ]
  }
 ],
 "metadata": {
  "kernelspec": {
   "display_name": "R",
   "language": "R",
   "name": "ir"
  },
  "language_info": {
   "codemirror_mode": "r",
   "file_extension": ".r",
   "mimetype": "text/x-r-source",
   "name": "R",
   "pygments_lexer": "r",
   "version": "4.2.1"
  }
 },
 "nbformat": 4,
 "nbformat_minor": 5
}
