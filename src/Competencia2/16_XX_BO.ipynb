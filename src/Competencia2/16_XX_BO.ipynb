{
 "cells": [
  {
   "cell_type": "code",
   "execution_count": 1,
   "id": "c4bc76ca-445f-4d39-916d-d1378f46684b",
   "metadata": {},
   "outputs": [
    {
     "data": {
      "text/html": [
       "<table class=\"dataframe\">\n",
       "<caption>A matrix: 2 × 6 of type dbl</caption>\n",
       "<thead>\n",
       "\t<tr><th></th><th scope=col>used</th><th scope=col>(Mb)</th><th scope=col>gc trigger</th><th scope=col>(Mb)</th><th scope=col>max used</th><th scope=col>(Mb)</th></tr>\n",
       "</thead>\n",
       "<tbody>\n",
       "\t<tr><th scope=row>Ncells</th><td> 613999</td><td>32.8</td><td>1330087</td><td>71.1</td><td>1190224</td><td>63.6</td></tr>\n",
       "\t<tr><th scope=row>Vcells</th><td>1150119</td><td> 8.8</td><td>8388608</td><td>64.0</td><td>1801055</td><td>13.8</td></tr>\n",
       "</tbody>\n",
       "</table>\n"
      ],
      "text/latex": [
       "A matrix: 2 × 6 of type dbl\n",
       "\\begin{tabular}{r|llllll}\n",
       "  & used & (Mb) & gc trigger & (Mb) & max used & (Mb)\\\\\n",
       "\\hline\n",
       "\tNcells &  613999 & 32.8 & 1330087 & 71.1 & 1190224 & 63.6\\\\\n",
       "\tVcells & 1150119 &  8.8 & 8388608 & 64.0 & 1801055 & 13.8\\\\\n",
       "\\end{tabular}\n"
      ],
      "text/markdown": [
       "\n",
       "A matrix: 2 × 6 of type dbl\n",
       "\n",
       "| <!--/--> | used | (Mb) | gc trigger | (Mb) | max used | (Mb) |\n",
       "|---|---|---|---|---|---|---|\n",
       "| Ncells |  613999 | 32.8 | 1330087 | 71.1 | 1190224 | 63.6 |\n",
       "| Vcells | 1150119 |  8.8 | 8388608 | 64.0 | 1801055 | 13.8 |\n",
       "\n"
      ],
      "text/plain": [
       "       used    (Mb) gc trigger (Mb) max used (Mb)\n",
       "Ncells  613999 32.8 1330087    71.1 1190224  63.6\n",
       "Vcells 1150119  8.8 8388608    64.0 1801055  13.8"
      ]
     },
     "metadata": {},
     "output_type": "display_data"
    },
    {
     "name": "stderr",
     "output_type": "stream",
     "text": [
      "Loading required package: data.table\n",
      "\n",
      "Loading required package: rlist\n",
      "\n",
      "Loading required package: lightgbm\n",
      "\n",
      "Loading required package: DiceKriging\n",
      "\n",
      "Loading required package: mlrMBO\n",
      "\n",
      "Loading required package: mlr\n",
      "\n",
      "Loading required package: ParamHelpers\n",
      "\n",
      "Warning message: 'mlr' is in 'maintenance-only' mode since July 2019.\n",
      "Future development will only happen in 'mlr3'\n",
      "(<https://mlr3.mlr-org.com>). Due to the focus on 'mlr3' there might be\n",
      "uncaught bugs meanwhile in {mlr} - please consider switching.\n",
      "\n",
      "Loading required package: smoof\n",
      "\n",
      "Loading required package: checkmate\n",
      "\n",
      "\n",
      "Attaching package: ‘checkmate’\n",
      "\n",
      "\n",
      "The following object is masked from ‘package:DiceKriging’:\n",
      "\n",
      "    checkNames\n",
      "\n",
      "\n",
      "Warning message:\n",
      "“no DISPLAY variable so Tk is not available”\n"
     ]
    }
   ],
   "source": [
    "#limpio la memoria\n",
    "rm( list=ls() )  #remove all objects\n",
    "gc()             #garbage collection\n",
    "\n",
    "require(\"data.table\")\n",
    "require(\"rlist\")\n",
    "\n",
    "require(\"lightgbm\")\n",
    "\n",
    "#paquetes necesarios para la Bayesian Optimization\n",
    "require(\"DiceKriging\")\n",
    "require(\"mlrMBO\")\n",
    "\n",
    "#------------------------------------------------------------------------------\n",
    "options(error = function() { \n",
    "  traceback(20); \n",
    "  options(error = NULL); \n",
    "  stop(\"exiting after script error\") \n",
    "})\n",
    "#------------------------------------------------------------------------------"
   ]
  },
  {
   "cell_type": "code",
   "execution_count": 2,
   "id": "974471d1-785e-4d6c-b2f7-a6aae5a8015e",
   "metadata": {},
   "outputs": [],
   "source": [
    "#Parametros del script\n",
    "kexperimento  <- \"comp2-exp21\"\n",
    "# FIN Parametros del script\n",
    "\n",
    "ksemilla  <- 100019\n",
    "kBO_iteraciones  <- 50  #iteraciones de la Optimizacion Bayesiana"
   ]
  },
  {
   "cell_type": "code",
   "execution_count": 3,
   "id": "709fee66-650b-40cf-aa04-4a501163e5b9",
   "metadata": {},
   "outputs": [],
   "source": [
    "kcrossvalidation_folds  <- 5  #En caso que se haga cross validation, se usa esta cantidad de folds\n",
    "\n",
    "#Hiperparametros FIJOS de  lightgbm\n",
    "param_lgb_basicos  <- list( \n",
    "   boosting= \"gbdt\",          #puede ir  dart  , ni pruebe random_forest\n",
    "   objective= \"binary\",\n",
    "   metric= \"custom\",\n",
    "   first_metric_only= TRUE,\n",
    "   boost_from_average= TRUE,\n",
    "   feature_pre_filter= FALSE,\n",
    "   force_row_wise= TRUE,      #para que los alumnos no se atemoricen con tantos warning\n",
    "   verbosity= -100,\n",
    "   max_depth=  -1,            # -1 significa no limitar,  por ahora lo dejo fijo\n",
    "   min_gain_to_split= 0.0,    #por ahora, lo dejo fijo\n",
    "   lambda_l1= 0.0,            #por ahora, lo dejo fijo\n",
    "   lambda_l2= 0.0,            #por ahora, lo dejo fijo\n",
    "   max_bin= 31,               #por ahora, lo dejo fijo\n",
    "   num_iterations= 9999,      #un numero muy grande, lo limita early_stopping_rounds\n",
    "\n",
    "   bagging_fraction= 1.0,     #por ahora, lo dejo fijo\n",
    "   pos_bagging_fraction= 1.0, #por ahora, lo dejo fijo\n",
    "   neg_bagging_fraction= 1.0, #por ahora, lo dejo fijo\n",
    "\n",
    "   drop_rate=  0.1,           #solo se activa en  dart\n",
    "   max_drop= 50,              #solo se activa en  dart\n",
    "   skip_drop= 0.5,            #solo se activa en  dart\n",
    "\n",
    "   extra_trees= FALSE,\n",
    "\n",
    "   seed=  ksemilla\n",
    "   )"
   ]
  },
  {
   "cell_type": "code",
   "execution_count": 4,
   "id": "f946c6cc-5062-49b1-b0ec-8eeb73186914",
   "metadata": {},
   "outputs": [],
   "source": [
    "#Aqui se cargan los hiperparametros que se optimizan en la Bayesian Optimization\n",
    "hs <- makeParamSet( \n",
    "         makeNumericParam(\"learning_rate\",    lower=    0.005, upper=    0.3),\n",
    "         makeNumericParam(\"feature_fraction\", lower=    0.2  , upper=    1.0),\n",
    "         makeIntegerParam(\"min_data_in_leaf\", lower=    0L   , upper=  8000L),\n",
    "         makeIntegerParam(\"num_leaves\",       lower=   16L   , upper=  2048L)\n",
    "        )"
   ]
  },
  {
   "cell_type": "code",
   "execution_count": 5,
   "id": "8701cb41-54da-42f1-8c02-a98fac55ae8a",
   "metadata": {},
   "outputs": [],
   "source": [
    "#------------------------------------------------------------------------------\n",
    "#graba a un archivo los componentes de lista\n",
    "#para el primer registro, escribe antes los titulos\n",
    "\n",
    "exp_log  <- function( reg, arch=NA, folder=\"./exp/\", ext=\".txt\", verbose=TRUE )\n",
    "{\n",
    "  archivo  <- arch\n",
    "  if( is.na(arch) )  archivo  <- paste0(  folder, substitute( reg), ext )\n",
    "\n",
    "  if( !file.exists( archivo ) )  #Escribo los titulos\n",
    "  {\n",
    "    linea  <- paste0( \"fecha\\t\", \n",
    "                      paste( list.names(reg), collapse=\"\\t\" ), \"\\n\" )\n",
    "\n",
    "    cat( linea, file=archivo )\n",
    "  }\n",
    "\n",
    "  linea  <- paste0( format(Sys.time(), \"%Y%m%d %H%M%S\"),  \"\\t\",     #la fecha y hora\n",
    "                    gsub( \", \", \"\\t\", toString( reg ) ),  \"\\n\" )\n",
    "\n",
    "  cat( linea, file=archivo, append=TRUE )  #grabo al archivo\n",
    "\n",
    "  if( verbose )  cat( linea )   #imprimo por pantalla\n",
    "}\n",
    "\n",
    "#------------------------------------------------------------------------------\n",
    "\n",
    "vprob_optima  <- c()\n",
    "\n",
    "fganancia_lgbm_meseta  <- function( probs, datos) \n",
    "{\n",
    "  vlabels  <- get_field(datos, \"label\")\n",
    "\n",
    "  tbl  <- as.data.table( list( \"prob\"= probs, \n",
    "                               \"gan\" = ifelse( vlabels==1 , 78000, -2000  ) ) )\n",
    "\n",
    "  setorder( tbl, -prob )\n",
    "  tbl[ , posicion := .I ]\n",
    "  tbl[ , gan_acum :=  cumsum( gan ) ]\n",
    "\n",
    "  gan  <-  tbl[ , max(gan_acum) ]\n",
    "\n",
    "  pos  <- which.max(  tbl[ , gan_acum ] ) \n",
    "  vprob_optima  <<- c( vprob_optima, tbl[ pos, prob ] )\n",
    "\n",
    "  rm( tbl )\n",
    "  return( list( \"name\"= \"ganancia\", \n",
    "                \"value\"=  gan,\n",
    "                \"higher_better\"= TRUE ) )\n",
    "}\n",
    "#------------------------------------------------------------------------------\n",
    "\n",
    "EstimarGanancia_lightgbm  <- function( x )\n",
    "{\n",
    "  gc()\n",
    "  GLOBAL_iteracion  <<- GLOBAL_iteracion + 1\n",
    "\n",
    "  param_completo  <- c( param_lgb_basicos,  x )\n",
    "\n",
    "  param_completo$early_stopping_rounds  <- as.integer(200 + 4/param_completo$learning_rate )\n",
    "\n",
    "  vprob_optima  <<- c()\n",
    "  set.seed( param_completo$seed )\n",
    "  modelo_train  <- lgb.train( data= dtrain,\n",
    "                              valids= list( valid= dvalidate ),\n",
    "                              eval=   fganancia_lgbm_meseta,\n",
    "                              param=  param_completo,\n",
    "                              verbose= -100 )\n",
    "\n",
    "  prob_corte  <- vprob_optima[ modelo_train$best_iter ]\n",
    "\n",
    "  #aplico el modelo a testing y calculo la ganancia\n",
    "  prediccion  <- predict( modelo_train, \n",
    "                          data.matrix( dataset_test[ , campos_buenos, with=FALSE]) )\n",
    "\n",
    "  tbl  <- dataset_test[ , list(clase_ternaria) ]\n",
    "  tbl[ , prob := prediccion ]\n",
    "  ganancia_test  <- tbl[ prob >= prob_corte, \n",
    "                         sum( ifelse(clase_ternaria==\"BAJA+2\", 78000, -2000 ) )]\n",
    "\n",
    "  cantidad_test_normalizada  <- tbl[ prob >= prob_corte, .N ]\n",
    "\n",
    "  rm( tbl )\n",
    "  gc()\n",
    "\n",
    "  ganancia_test_normalizada  <- ganancia_test\n",
    "\n",
    "\n",
    "  #voy grabando las mejores column importance\n",
    "  if( ganancia_test_normalizada >  GLOBAL_ganancia )\n",
    "  {\n",
    "    GLOBAL_ganancia  <<- ganancia_test_normalizada\n",
    "    tb_importancia    <- as.data.table( lgb.importance( modelo_train ) )\n",
    "\n",
    "    fwrite( tb_importancia,\n",
    "            file= paste0( \"impo_\", GLOBAL_iteracion, \".txt\" ),\n",
    "            sep= \"\\t\" )\n",
    "\n",
    "    rm( tb_importancia )\n",
    "  }\n",
    "\n",
    "\n",
    "  #logueo final\n",
    "  ds  <- list( \"cols\"= ncol(dtrain),  \"rows\"= nrow(dtrain) )\n",
    "  xx  <- c( ds, copy(param_completo) )\n",
    "\n",
    "  xx$early_stopping_rounds  <- NULL\n",
    "  xx$num_iterations  <- modelo_train$best_iter\n",
    "  xx$prob_corte  <- prob_corte\n",
    "  xx$estimulos  <- cantidad_test_normalizada\n",
    "  xx$ganancia  <- ganancia_test_normalizada\n",
    "  xx$iteracion_bayesiana  <- GLOBAL_iteracion\n",
    "\n",
    "  exp_log( xx,  arch= \"BO_log.txt\" )\n",
    "\n",
    "  return( ganancia_test_normalizada )\n",
    "}\n",
    "#------------------------------------------------------------------------------\n",
    "#esta es la funcion mas mistica de toda la asignatura\n",
    "# sera explicada en  Laboratorio de Implementacion III\n",
    "\n",
    "vprob_optima  <- c()\n",
    "vpos_optima   <- c()\n",
    "\n",
    "fganancia_lgbm_mesetaCV  <- function( probs, datos) \n",
    "{\n",
    "  vlabels  <- get_field(datos, \"label\")\n",
    "  vpesos   <- get_field(datos, \"weight\")\n",
    "\n",
    "  tbl  <- as.data.table( list( \"prob\"= probs, \n",
    "                               \"gan\" = ifelse( vlabels==1 & vpesos > 1,\n",
    "                                               78000,\n",
    "                                               -2000  ) ) )\n",
    "\n",
    "  setorder( tbl, -prob )\n",
    "  tbl[ , posicion := .I ]\n",
    "  tbl[ , gan_acum :=  cumsum( gan ) ]\n",
    "\n",
    "  gan  <-  tbl[ , max(gan_acum) ]\n",
    "\n",
    "  pos  <- which.max(  tbl[ , gan_acum ] ) \n",
    "  vpos_optima   <<- c( vpos_optima, pos )\n",
    "  vprob_optima  <<- c( vprob_optima, tbl[ pos, prob ] )\n",
    "\n",
    "  rm( tbl )\n",
    "  return( list( \"name\"= \"ganancia\", \n",
    "                \"value\"=  gan,\n",
    "                \"higher_better\"= TRUE ) )\n",
    "}\n",
    "#------------------------------------------------------------------------------\n",
    "\n",
    "EstimarGanancia_lightgbmCV  <- function( x )\n",
    "{\n",
    "  gc()\n",
    "  GLOBAL_iteracion  <<- GLOBAL_iteracion + 1\n",
    "\n",
    "  param_completo  <- c(param_lgb_basicos,  x )\n",
    "\n",
    "  param_completo$early_stopping_rounds  <- as.integer(200 + 4/param_completo$learning_rate )\n",
    "\n",
    "  vprob_optima  <<- c()\n",
    "  vpos_optima   <<- c()\n",
    "\n",
    "  set.seed( param_completo$seed )\n",
    "  modelocv  <- lgb.cv( data= dtrain,\n",
    "                       eval=   fganancia_lgbm_mesetaCV,\n",
    "                       param=  param_completo,\n",
    "                       stratified= TRUE,                   #sobre el cross validation\n",
    "                       nfold= kcrossvalidation_folds,\n",
    "                       verbose= -100 )\n",
    "\n",
    "  desde  <- (modelocv$best_iter-1)*kcrossvalidation_folds + 1\n",
    "  hasta  <- desde + kcrossvalidation_folds -1\n",
    "\n",
    "  prob_corte            <-  mean( vprob_optima[ desde:hasta ] )\n",
    "  cantidad_normalizada  <-  mean( vpos_optima[ desde:hasta ] ) * kcrossvalidation_folds\n",
    "\n",
    "  ganancia  <- unlist(modelocv$record_evals$valid$ganancia$eval)[ modelocv$best_iter ]\n",
    "  ganancia_normalizada  <- ganancia * kcrossvalidation_folds\n",
    "\n",
    "\n",
    "  #voy grabando las mejores column importance\n",
    "  if( ganancia_normalizada >  GLOBAL_ganancia )\n",
    "  {\n",
    "    GLOBAL_ganancia  <<- ganancia_normalizada\n",
    "\n",
    "    param_impo <-  copy( param_completo )\n",
    "    param_impo$early_stopping_rounds  <- 0\n",
    "    param_impo$num_iterations  <- modelocv$best_iter\n",
    "\n",
    "    modelo  <- lgb.train( data= dtrain,\n",
    "                       param=  param_impo,\n",
    "                       verbose= -100 )\n",
    "\n",
    "    tb_importancia    <- as.data.table( lgb.importance( modelo ) )\n",
    "\n",
    "    fwrite( tb_importancia,\n",
    "            file= paste0( \"impo_\", GLOBAL_iteracion, \".txt\" ),\n",
    "            sep= \"\\t\" )\n",
    "    \n",
    "    rm( tb_importancia )\n",
    "  }\n",
    "\n",
    "\n",
    "  #logueo final\n",
    "  ds  <- list( \"cols\"= ncol(dtrain),  \"rows\"= nrow(dtrain) )\n",
    "  xx  <- c( ds, copy(param_completo) )\n",
    "\n",
    "  xx$early_stopping_rounds  <- NULL\n",
    "  xx$num_iterations  <- modelocv$best_iter\n",
    "  xx$prob_corte  <-  prob_corte\n",
    "  xx$estimulos   <-  cantidad_normalizada\n",
    "  xx$ganancia  <- ganancia_normalizada\n",
    "  xx$iteracion_bayesiana  <- GLOBAL_iteracion\n",
    "\n",
    "  exp_log( xx,  arch= \"BO_log.txt\" )\n",
    "\n",
    "  return( ganancia_normalizada )\n",
    "}\n"
   ]
  },
  {
   "cell_type": "code",
   "execution_count": 6,
   "id": "adae6c46-b53a-452c-b616-cad237a81ec1",
   "metadata": {},
   "outputs": [
    {
     "data": {
      "text/html": [
       "<table class=\"dataframe\">\n",
       "<caption>A matrix: 2 × 6 of type dbl</caption>\n",
       "<thead>\n",
       "\t<tr><th></th><th scope=col>used</th><th scope=col>(Mb)</th><th scope=col>gc trigger</th><th scope=col>(Mb)</th><th scope=col>max used</th><th scope=col>(Mb)</th></tr>\n",
       "</thead>\n",
       "<tbody>\n",
       "\t<tr><th scope=row>Ncells</th><td>  2230360</td><td> 119.2</td><td>  4427431</td><td> 236.5</td><td>  2787965</td><td> 148.9</td></tr>\n",
       "\t<tr><th scope=row>Vcells</th><td>155134094</td><td>1183.6</td><td>426235330</td><td>3252.0</td><td>355110711</td><td>2709.3</td></tr>\n",
       "</tbody>\n",
       "</table>\n"
      ],
      "text/latex": [
       "A matrix: 2 × 6 of type dbl\n",
       "\\begin{tabular}{r|llllll}\n",
       "  & used & (Mb) & gc trigger & (Mb) & max used & (Mb)\\\\\n",
       "\\hline\n",
       "\tNcells &   2230360 &  119.2 &   4427431 &  236.5 &   2787965 &  148.9\\\\\n",
       "\tVcells & 155134094 & 1183.6 & 426235330 & 3252.0 & 355110711 & 2709.3\\\\\n",
       "\\end{tabular}\n"
      ],
      "text/markdown": [
       "\n",
       "A matrix: 2 × 6 of type dbl\n",
       "\n",
       "| <!--/--> | used | (Mb) | gc trigger | (Mb) | max used | (Mb) |\n",
       "|---|---|---|---|---|---|---|\n",
       "| Ncells |   2230360 |  119.2 |   4427431 |  236.5 |   2787965 |  148.9 |\n",
       "| Vcells | 155134094 | 1183.6 | 426235330 | 3252.0 | 355110711 | 2709.3 |\n",
       "\n"
      ],
      "text/plain": [
       "       used      (Mb)   gc trigger (Mb)   max used  (Mb)  \n",
       "Ncells   2230360  119.2   4427431   236.5   2787965  148.9\n",
       "Vcells 155134094 1183.6 426235330  3252.0 355110711 2709.3"
      ]
     },
     "metadata": {},
     "output_type": "display_data"
    },
    {
     "name": "stderr",
     "output_type": "stream",
     "text": [
      "Computing y column(s) for design. Not provided.\n",
      "\n"
     ]
    },
    {
     "name": "stdout",
     "output_type": "stream",
     "text": [
      "20221013 172740\t195\t482248\tgbdt\tbinary\tcustom\tTRUE\tTRUE\tFALSE\tTRUE\t-100\t-1\t0\t0\t0\t31\t187\t1\t1\t1\t0.1\t50\t0.5\tFALSE\t100019\t0.101967151069257\t0.498226139531471\t2612\t1464\t0.0117085831541431\t13787\t22826000\t1\n",
      "20221013 172843\t195\t482248\tgbdt\tbinary\tcustom\tTRUE\tTRUE\tFALSE\tTRUE\t-100\t-1\t0\t0\t0\t31\t324\t1\t1\t1\t0.1\t50\t0.5\tFALSE\t100019\t0.184392951087721\t0.634017614810727\t2333\t450\t0.000510988817738629\t13186\t20908000\t2\n",
      "20221013 173000\t195\t482248\tgbdt\tbinary\tcustom\tTRUE\tTRUE\tFALSE\tTRUE\t-100\t-1\t0\t0\t0\t31\t316\t1\t1\t1\t0.1\t50\t0.5\tFALSE\t100019\t0.0424951383323787\t0.76982573333662\t1680\t1566\t0.010356594547857\t14406\t22228000\t3\n",
      "20221013 173134\t195\t482248\tgbdt\tbinary\tcustom\tTRUE\tTRUE\tFALSE\tTRUE\t-100\t-1\t0\t0\t0\t31\t726\t1\t1\t1\t0.1\t50\t0.5\tFALSE\t100019\t0.262627324487985\t0.256631223508157\t6397\t1074\t0.000760900614648859\t12641\t19678000\t4\n",
      "20221013 173226\t195\t482248\tgbdt\tbinary\tcustom\tTRUE\tTRUE\tFALSE\tTRUE\t-100\t-1\t0\t0\t0\t31\t273\t1\t1\t1\t0.1\t50\t0.5\tFALSE\t100019\t0.192314361694589\t0.907233818329405\t3206\t1389\t0.00242251648156201\t12227\t21786000\t5\n",
      "20221013 173535\t195\t482248\tgbdt\tbinary\tcustom\tTRUE\tTRUE\tFALSE\tTRUE\t-100\t-1\t0\t0\t0\t31\t399\t1\t1\t1\t0.1\t50\t0.5\tFALSE\t100019\t0.166110738922216\t0.517798694304656\t980\t1222\t1.53136000323912e-05\t10947\t22986000\t6\n",
      "20221013 173835\t195\t482248\tgbdt\tbinary\tcustom\tTRUE\tTRUE\tFALSE\tTRUE\t-100\t-1\t0\t0\t0\t31\t1315\t1\t1\t1\t0.1\t50\t0.5\tFALSE\t100019\t0.0351284753070649\t0.378857912134845\t5928\t1745\t0.00979042110256461\t14462\t22436000\t7\n",
      "20221013 173926\t195\t482248\tgbdt\tbinary\tcustom\tTRUE\tTRUE\tFALSE\tTRUE\t-100\t-1\t0\t0\t0\t31\t273\t1\t1\t1\t0.1\t50\t0.5\tFALSE\t100019\t0.227009403011689\t0.340081688482314\t6875\t79\t0.00910731950186697\t14102\t21236000\t8\n",
      "20221013 174100\t195\t482248\tgbdt\tbinary\tcustom\tTRUE\tTRUE\tFALSE\tTRUE\t-100\t-1\t0\t0\t0\t31\t752\t1\t1\t1\t0.1\t50\t0.5\tFALSE\t100019\t0.115920078473791\t0.72074863165617\t4823\t169\t0.002766369295458\t10700\t22600000\t9\n",
      "20221013 174332\t195\t482248\tgbdt\tbinary\tcustom\tTRUE\tTRUE\tFALSE\tTRUE\t-100\t-1\t0\t0\t0\t31\t1098\t1\t1\t1\t0.1\t50\t0.5\tFALSE\t100019\t0.209337435214475\t0.412659225135576\t5248\t1992\t7.12969456168925e-05\t12612\t19976000\t10\n",
      "20221013 174430\t195\t482248\tgbdt\tbinary\tcustom\tTRUE\tTRUE\tFALSE\tTRUE\t-100\t-1\t0\t0\t0\t31\t255\t1\t1\t1\t0.1\t50\t0.5\tFALSE\t100019\t0.283045313130715\t0.827673769649118\t1072\t890\t6.61033121593144e-06\t11428\t20344000\t11\n",
      "20221013 175324\t195\t482248\tgbdt\tbinary\tcustom\tTRUE\tTRUE\tFALSE\tTRUE\t-100\t-1\t0\t0\t0\t31\t3452\t1\t1\t1\t0.1\t50\t0.5\tFALSE\t100019\t0.0138597610410216\t0.566647301660851\t7616\t678\t0.0142450288723884\t13074\t23212000\t12\n",
      "20221013 175435\t195\t482248\tgbdt\tbinary\tcustom\tTRUE\tTRUE\tFALSE\tTRUE\t-100\t-1\t0\t0\t0\t31\t559\t1\t1\t1\t0.1\t50\t0.5\tFALSE\t100019\t0.279274918710944\t0.683356049819849\t7372\t969\t0.00225474022770576\t10668\t21384000\t13\n",
      "20221013 175646\t195\t482248\tgbdt\tbinary\tcustom\tTRUE\tTRUE\tFALSE\tTRUE\t-100\t-1\t0\t0\t0\t31\t867\t1\t1\t1\t0.1\t50\t0.5\tFALSE\t100019\t0.0633401380817668\t0.980977227597032\t229\t322\t2.09610357613829e-05\t10405\t22630000\t14\n",
      "20221013 175815\t195\t482248\tgbdt\tbinary\tcustom\tTRUE\tTRUE\tFALSE\tTRUE\t-100\t-1\t0\t0\t0\t31\t415\t1\t1\t1\t0.1\t50\t0.5\tFALSE\t100019\t0.0944973208860756\t0.898455937311519\t4426\t1825\t0.0126494535470013\t10675\t24010000\t15\n",
      "20221013 175901\t195\t482248\tgbdt\tbinary\tcustom\tTRUE\tTRUE\tFALSE\tTRUE\t-100\t-1\t0\t0\t0\t31\t211\t1\t1\t1\t0.1\t50\t0.5\tFALSE\t100019\t0.150244616965501\t0.214196737494785\t3655\t593\t0.0125098443405098\t13013\t23334000\t16\n"
     ]
    },
    {
     "name": "stderr",
     "output_type": "stream",
     "text": [
      "[mbo] 0: learning_rate=0.102; feature_fraction=0.498; min_data_in_leaf=2612; num_leaves=1464 : y = 2.28e+07 : 75.5 secs : initdesign\n",
      "\n",
      "[mbo] 0: learning_rate=0.184; feature_fraction=0.634; min_data_in_leaf=2333; num_leaves=450 : y = 2.09e+07 : 62.6 secs : initdesign\n",
      "\n",
      "[mbo] 0: learning_rate=0.0425; feature_fraction=0.77; min_data_in_leaf=1680; num_leaves=1566 : y = 2.22e+07 : 77.3 secs : initdesign\n",
      "\n",
      "[mbo] 0: learning_rate=0.263; feature_fraction=0.257; min_data_in_leaf=6397; num_leaves=1074 : y = 1.97e+07 : 94.4 secs : initdesign\n",
      "\n",
      "[mbo] 0: learning_rate=0.192; feature_fraction=0.907; min_data_in_leaf=3206; num_leaves=1389 : y = 2.18e+07 : 51.4 secs : initdesign\n",
      "\n",
      "[mbo] 0: learning_rate=0.166; feature_fraction=0.518; min_data_in_leaf=980; num_leaves=1222 : y = 2.3e+07 : 189.7 secs : initdesign\n",
      "\n",
      "[mbo] 0: learning_rate=0.0351; feature_fraction=0.379; min_data_in_leaf=5928; num_leaves=1745 : y = 2.24e+07 : 179.2 secs : initdesign\n",
      "\n",
      "[mbo] 0: learning_rate=0.227; feature_fraction=0.34; min_data_in_leaf=6875; num_leaves=79 : y = 2.12e+07 : 51.9 secs : initdesign\n",
      "\n",
      "[mbo] 0: learning_rate=0.116; feature_fraction=0.721; min_data_in_leaf=4823; num_leaves=169 : y = 2.26e+07 : 94.0 secs : initdesign\n",
      "\n",
      "[mbo] 0: learning_rate=0.209; feature_fraction=0.413; min_data_in_leaf=5248; num_leaves=1992 : y = 2e+07 : 151.0 secs : initdesign\n",
      "\n",
      "[mbo] 0: learning_rate=0.283; feature_fraction=0.828; min_data_in_leaf=1072; num_leaves=890 : y = 2.03e+07 : 58.9 secs : initdesign\n",
      "\n",
      "[mbo] 0: learning_rate=0.0139; feature_fraction=0.567; min_data_in_leaf=7616; num_leaves=678 : y = 2.32e+07 : 534.0 secs : initdesign\n",
      "\n",
      "[mbo] 0: learning_rate=0.279; feature_fraction=0.683; min_data_in_leaf=7372; num_leaves=969 : y = 2.14e+07 : 70.7 secs : initdesign\n",
      "\n",
      "[mbo] 0: learning_rate=0.0633; feature_fraction=0.981; min_data_in_leaf=229; num_leaves=322 : y = 2.26e+07 : 131.1 secs : initdesign\n",
      "\n",
      "[mbo] 0: learning_rate=0.0945; feature_fraction=0.898; min_data_in_leaf=4426; num_leaves=1825 : y = 2.4e+07 : 89.3 secs : initdesign\n",
      "\n",
      "[mbo] 0: learning_rate=0.15; feature_fraction=0.214; min_data_in_leaf=3655; num_leaves=593 : y = 2.33e+07 : 45.6 secs : initdesign\n",
      "\n",
      "Saved the current state after iteration 1 in the file bayesiana.RDATA.\n",
      "\n"
     ]
    },
    {
     "name": "stdout",
     "output_type": "stream",
     "text": [
      "20221013 180203\t195\t482248\tgbdt\tbinary\tcustom\tTRUE\tTRUE\tFALSE\tTRUE\t-100\t-1\t0\t0\t0\t31\t1437\t1\t1\t1\t0.1\t50\t0.5\tFALSE\t100019\t0.0856755616080256\t0.999535747618591\t3846\t1647\t0.00015647897045004\t12019\t21402000\t17\n"
     ]
    },
    {
     "name": "stderr",
     "output_type": "stream",
     "text": [
      "[mbo] 1: learning_rate=0.0857; feature_fraction=1; min_data_in_leaf=3846; num_leaves=1647 : y = 2.14e+07 : 177.2 secs : infill_ei\n",
      "\n"
     ]
    },
    {
     "name": "stdout",
     "output_type": "stream",
     "text": [
      "20221013 180251\t195\t482248\tgbdt\tbinary\tcustom\tTRUE\tTRUE\tFALSE\tTRUE\t-100\t-1\t0\t0\t0\t31\t202\t1\t1\t1\t0.1\t50\t0.5\tFALSE\t100019\t0.0965315227287707\t0.657225730076775\t3027\t1808\t0.013198930548047\t13446\t22708000\t18\n"
     ]
    },
    {
     "name": "stderr",
     "output_type": "stream",
     "text": [
      "[mbo] 2: learning_rate=0.0965; feature_fraction=0.657; min_data_in_leaf=3027; num_leaves=1808 : y = 2.27e+07 : 47.6 secs : infill_ei\n",
      "\n"
     ]
    },
    {
     "name": "stdout",
     "output_type": "stream",
     "text": [
      "20221013 180341\t195\t482248\tgbdt\tbinary\tcustom\tTRUE\tTRUE\tFALSE\tTRUE\t-100\t-1\t0\t0\t0\t31\t201\t1\t1\t1\t0.1\t50\t0.5\tFALSE\t100019\t0.093598105250143\t0.820823047656914\t2848\t1865\t0.0147077832634158\t12628\t23864000\t19\n"
     ]
    },
    {
     "name": "stderr",
     "output_type": "stream",
     "text": [
      "[mbo] 3: learning_rate=0.0936; feature_fraction=0.821; min_data_in_leaf=2848; num_leaves=1865 : y = 2.39e+07 : 49.9 secs : infill_ei\n",
      "\n"
     ]
    },
    {
     "name": "stdout",
     "output_type": "stream",
     "text": [
      "20221013 180446\t195\t482248\tgbdt\tbinary\tcustom\tTRUE\tTRUE\tFALSE\tTRUE\t-100\t-1\t0\t0\t0\t31\t466\t1\t1\t1\t0.1\t50\t0.5\tFALSE\t100019\t0.0938229167923093\t0.99951656706156\t7602\t1834\t0.015711602042872\t12281\t23598000\t20\n"
     ]
    },
    {
     "name": "stderr",
     "output_type": "stream",
     "text": [
      "[mbo] 4: learning_rate=0.0938; feature_fraction=1; min_data_in_leaf=7602; num_leaves=1834 : y = 2.36e+07 : 64.5 secs : infill_ei\n",
      "\n"
     ]
    },
    {
     "name": "stdout",
     "output_type": "stream",
     "text": [
      "20221013 180657\t195\t482248\tgbdt\tbinary\tcustom\tTRUE\tTRUE\tFALSE\tTRUE\t-100\t-1\t0\t0\t0\t31\t1010\t1\t1\t1\t0.1\t50\t0.5\tFALSE\t100019\t0.094492468152278\t0.991392061668959\t4151\t1959\t0.000750175352998245\t11891\t22618000\t21\n"
     ]
    },
    {
     "name": "stderr",
     "output_type": "stream",
     "text": [
      "[mbo] 5: learning_rate=0.0945; feature_fraction=0.991; min_data_in_leaf=4151; num_leaves=1959 : y = 2.26e+07 : 130.8 secs : infill_ei\n",
      "\n"
     ]
    },
    {
     "name": "stdout",
     "output_type": "stream",
     "text": [
      "20221013 180746\t195\t482248\tgbdt\tbinary\tcustom\tTRUE\tTRUE\tFALSE\tTRUE\t-100\t-1\t0\t0\t0\t31\t207\t1\t1\t1\t0.1\t50\t0.5\tFALSE\t100019\t0.0939259918084231\t0.747705564475854\t2978\t1746\t0.0139582837375816\t12870\t23540000\t22\n"
     ]
    },
    {
     "name": "stderr",
     "output_type": "stream",
     "text": [
      "[mbo] 6: learning_rate=0.0939; feature_fraction=0.748; min_data_in_leaf=2978; num_leaves=1746 : y = 2.35e+07 : 47.8 secs : infill_ei\n",
      "\n"
     ]
    },
    {
     "name": "stdout",
     "output_type": "stream",
     "text": [
      "20221013 181027\t195\t482248\tgbdt\tbinary\tcustom\tTRUE\tTRUE\tFALSE\tTRUE\t-100\t-1\t0\t0\t0\t31\t1481\t1\t1\t1\t0.1\t50\t0.5\tFALSE\t100019\t0.0935184687882937\t0.852061147159272\t6643\t1804\t0.00131003095957899\t12169\t21502000\t23\n"
     ]
    },
    {
     "name": "stderr",
     "output_type": "stream",
     "text": [
      "[mbo] 7: learning_rate=0.0935; feature_fraction=0.852; min_data_in_leaf=6643; num_leaves=1804 : y = 2.15e+07 : 161.1 secs : infill_ei\n",
      "\n",
      "Saved the current state after iteration 8 in the file bayesiana.RDATA.\n",
      "\n"
     ]
    },
    {
     "name": "stdout",
     "output_type": "stream",
     "text": [
      "20221013 181126\t195\t482248\tgbdt\tbinary\tcustom\tTRUE\tTRUE\tFALSE\tTRUE\t-100\t-1\t0\t0\t0\t31\t300\t1\t1\t1\t0.1\t50\t0.5\tFALSE\t100019\t0.101843418655044\t0.87526111914533\t4559\t1950\t0.012148457089262\t13076\t22728000\t24\n"
     ]
    },
    {
     "name": "stderr",
     "output_type": "stream",
     "text": [
      "[mbo] 8: learning_rate=0.102; feature_fraction=0.875; min_data_in_leaf=4559; num_leaves=1950 : y = 2.27e+07 : 54.1 secs : infill_ei\n",
      "\n"
     ]
    },
    {
     "name": "stdout",
     "output_type": "stream",
     "text": [
      "20221013 181242\t195\t482248\tgbdt\tbinary\tcustom\tTRUE\tTRUE\tFALSE\tTRUE\t-100\t-1\t0\t0\t0\t31\t774\t1\t1\t1\t0.1\t50\t0.5\tFALSE\t100019\t0.188435407984639\t0.997907903232612\t1227\t71\t0.000465723348741312\t10151\t20738000\t25\n"
     ]
    },
    {
     "name": "stderr",
     "output_type": "stream",
     "text": [
      "[mbo] 9: learning_rate=0.188; feature_fraction=0.998; min_data_in_leaf=1227; num_leaves=71 : y = 2.07e+07 : 75.8 secs : infill_ei\n",
      "\n"
     ]
    },
    {
     "name": "stdout",
     "output_type": "stream",
     "text": [
      "20221013 181449\t195\t482248\tgbdt\tbinary\tcustom\tTRUE\tTRUE\tFALSE\tTRUE\t-100\t-1\t0\t0\t0\t31\t949\t1\t1\t1\t0.1\t50\t0.5\tFALSE\t100019\t0.116381164318195\t0.203015958664753\t2555\t1022\t0.000127763274756975\t13286\t21588000\t26\n"
     ]
    },
    {
     "name": "stderr",
     "output_type": "stream",
     "text": [
      "[mbo] 10: learning_rate=0.116; feature_fraction=0.203; min_data_in_leaf=2555; num_leaves=1022 : y = 2.16e+07 : 125.9 secs : infill_ei\n",
      "\n"
     ]
    },
    {
     "name": "stdout",
     "output_type": "stream",
     "text": [
      "20221013 181524\t195\t482248\tgbdt\tbinary\tcustom\tTRUE\tTRUE\tFALSE\tTRUE\t-100\t-1\t0\t0\t0\t31\t143\t1\t1\t1\t0.1\t50\t0.5\tFALSE\t100019\t0.255928923239046\t0.727738747585192\t4404\t2016\t0.00850888900378566\t13703\t21314000\t27\n"
     ]
    },
    {
     "name": "stderr",
     "output_type": "stream",
     "text": [
      "[mbo] 11: learning_rate=0.256; feature_fraction=0.728; min_data_in_leaf=4404; num_leaves=2016 : y = 2.13e+07 : 35.2 secs : infill_ei\n",
      "\n"
     ]
    },
    {
     "name": "stdout",
     "output_type": "stream",
     "text": [
      "20221013 181806\t195\t482248\tgbdt\tbinary\tcustom\tTRUE\tTRUE\tFALSE\tTRUE\t-100\t-1\t0\t0\t0\t31\t1422\t1\t1\t1\t0.1\t50\t0.5\tFALSE\t100019\t0.169826519844349\t0.226512464584969\t7372\t711\t0.000725621734885998\t12908\t19944000\t28\n"
     ]
    },
    {
     "name": "stderr",
     "output_type": "stream",
     "text": [
      "[mbo] 12: learning_rate=0.17; feature_fraction=0.227; min_data_in_leaf=7372; num_leaves=711 : y = 1.99e+07 : 161.8 secs : infill_ei\n",
      "\n"
     ]
    },
    {
     "name": "stdout",
     "output_type": "stream",
     "text": [
      "20221013 181915\t195\t482248\tgbdt\tbinary\tcustom\tTRUE\tTRUE\tFALSE\tTRUE\t-100\t-1\t0\t0\t0\t31\t503\t1\t1\t1\t0.1\t50\t0.5\tFALSE\t100019\t0.135102331150138\t0.847027216791175\t6740\t1125\t0.00894187596502127\t11571\t22458000\t29\n"
     ]
    },
    {
     "name": "stderr",
     "output_type": "stream",
     "text": [
      "[mbo] 13: learning_rate=0.135; feature_fraction=0.847; min_data_in_leaf=6740; num_leaves=1125 : y = 2.25e+07 : 68.3 secs : infill_ei\n",
      "\n"
     ]
    },
    {
     "name": "stdout",
     "output_type": "stream",
     "text": [
      "20221013 182020\t195\t482248\tgbdt\tbinary\tcustom\tTRUE\tTRUE\tFALSE\tTRUE\t-100\t-1\t0\t0\t0\t31\t170\t1\t1\t1\t0.1\t50\t0.5\tFALSE\t100019\t0.199426223197695\t0.382154324879125\t135\t2044\t2.05290370804512e-06\t11657\t20686000\t30\n"
     ]
    },
    {
     "name": "stderr",
     "output_type": "stream",
     "text": [
      "[mbo] 14: learning_rate=0.199; feature_fraction=0.382; min_data_in_leaf=135; num_leaves=2044 : y = 2.07e+07 : 64.9 secs : infill_ei\n",
      "\n"
     ]
    },
    {
     "name": "stdout",
     "output_type": "stream",
     "text": [
      "20221013 182140\t195\t482248\tgbdt\tbinary\tcustom\tTRUE\tTRUE\tFALSE\tTRUE\t-100\t-1\t0\t0\t0\t31\t469\t1\t1\t1\t0.1\t50\t0.5\tFALSE\t100019\t0.257862879338703\t0.668173416866548\t2271\t1609\t1.28715640444717e-05\t11446\t20628000\t31\n"
     ]
    },
    {
     "name": "stderr",
     "output_type": "stream",
     "text": [
      "[mbo] 15: learning_rate=0.258; feature_fraction=0.668; min_data_in_leaf=2271; num_leaves=1609 : y = 2.06e+07 : 79.3 secs : infill_ei\n",
      "\n",
      "Saved the current state after iteration 16 in the file bayesiana.RDATA.\n",
      "\n"
     ]
    },
    {
     "name": "stdout",
     "output_type": "stream",
     "text": [
      "20221013 182648\t195\t482248\tgbdt\tbinary\tcustom\tTRUE\tTRUE\tFALSE\tTRUE\t-100\t-1\t0\t0\t0\t31\t1245\t1\t1\t1\t0.1\t50\t0.5\tFALSE\t100019\t0.0288105463889218\t0.753626911454275\t263\t1277\t2.43645462153264e-06\t13106\t23308000\t32\n"
     ]
    },
    {
     "name": "stderr",
     "output_type": "stream",
     "text": [
      "[mbo] 16: learning_rate=0.0288; feature_fraction=0.754; min_data_in_leaf=263; num_leaves=1277 : y = 2.33e+07 : 303.1 secs : infill_ei\n",
      "\n"
     ]
    },
    {
     "name": "stdout",
     "output_type": "stream",
     "text": [
      "20221013 182752\t195\t482248\tgbdt\tbinary\tcustom\tTRUE\tTRUE\tFALSE\tTRUE\t-100\t-1\t0\t0\t0\t31\t276\t1\t1\t1\t0.1\t50\t0.5\tFALSE\t100019\t0.0703619062324974\t0.804993492499553\t2061\t1391\t0.0088271808573262\t13127\t22786000\t33\n"
     ]
    },
    {
     "name": "stderr",
     "output_type": "stream",
     "text": [
      "[mbo] 17: learning_rate=0.0704; feature_fraction=0.805; min_data_in_leaf=2061; num_leaves=1391 : y = 2.28e+07 : 63.8 secs : infill_ei\n",
      "\n"
     ]
    },
    {
     "name": "stdout",
     "output_type": "stream",
     "text": [
      "20221013 182904\t195\t482248\tgbdt\tbinary\tcustom\tTRUE\tTRUE\tFALSE\tTRUE\t-100\t-1\t0\t0\t0\t31\t443\t1\t1\t1\t0.1\t50\t0.5\tFALSE\t100019\t0.269698321026228\t0.283794068685547\t3742\t611\t0.000549764492522652\t11479\t19842000\t34\n"
     ]
    },
    {
     "name": "stderr",
     "output_type": "stream",
     "text": [
      "[mbo] 18: learning_rate=0.27; feature_fraction=0.284; min_data_in_leaf=3742; num_leaves=611 : y = 1.98e+07 : 71.4 secs : infill_ei\n",
      "\n"
     ]
    },
    {
     "name": "stdout",
     "output_type": "stream",
     "text": [
      "20221013 183032\t195\t482248\tgbdt\tbinary\tcustom\tTRUE\tTRUE\tFALSE\tTRUE\t-100\t-1\t0\t0\t0\t31\t674\t1\t1\t1\t0.1\t50\t0.5\tFALSE\t100019\t0.126755383487111\t0.729755120292679\t4515\t701\t0.00241606827593221\t10529\t22222000\t35\n"
     ]
    },
    {
     "name": "stderr",
     "output_type": "stream",
     "text": [
      "[mbo] 19: learning_rate=0.127; feature_fraction=0.73; min_data_in_leaf=4515; num_leaves=701 : y = 2.22e+07 : 87.4 secs : infill_ei\n",
      "\n"
     ]
    },
    {
     "name": "stdout",
     "output_type": "stream",
     "text": [
      "20221013 183933\t195\t482248\tgbdt\tbinary\tcustom\tTRUE\tTRUE\tFALSE\tTRUE\t-100\t-1\t0\t0\t0\t31\t4735\t1\t1\t1\t0.1\t50\t0.5\tFALSE\t100019\t0.00958816232581506\t0.618613854062557\t5468\t1483\t0.0119833634388506\t11810\t23020000\t36\n"
     ]
    },
    {
     "name": "stderr",
     "output_type": "stream",
     "text": [
      "[mbo] 20: learning_rate=0.00959; feature_fraction=0.619; min_data_in_leaf=5468; num_leaves=1483 : y = 2.3e+07 : 540.7 secs : infill_ei\n",
      "\n",
      "Saved the current state after iteration 21 in the file bayesiana.RDATA.\n",
      "\n"
     ]
    },
    {
     "name": "stdout",
     "output_type": "stream",
     "text": [
      "20221013 184221\t195\t482248\tgbdt\tbinary\tcustom\tTRUE\tTRUE\tFALSE\tTRUE\t-100\t-1\t0\t0\t0\t31\t1471\t1\t1\t1\t0.1\t50\t0.5\tFALSE\t100019\t0.0357653376617213\t0.778004652667418\t6248\t2031\t0.0113866457279317\t11796\t23608000\t37\n"
     ]
    },
    {
     "name": "stderr",
     "output_type": "stream",
     "text": [
      "[mbo] 21: learning_rate=0.0358; feature_fraction=0.778; min_data_in_leaf=6248; num_leaves=2031 : y = 2.36e+07 : 163.6 secs : infill_ei\n",
      "\n"
     ]
    },
    {
     "name": "stdout",
     "output_type": "stream",
     "text": [
      "20221013 184429\t195\t482248\tgbdt\tbinary\tcustom\tTRUE\tTRUE\tFALSE\tTRUE\t-100\t-1\t0\t0\t0\t31\t647\t1\t1\t1\t0.1\t50\t0.5\tFALSE\t100019\t0.0893264602155657\t0.969097073429264\t988\t1081\t2.03736774146562e-05\t10702\t22836000\t38\n"
     ]
    },
    {
     "name": "stderr",
     "output_type": "stream",
     "text": [
      "[mbo] 22: learning_rate=0.0893; feature_fraction=0.969; min_data_in_leaf=988; num_leaves=1081 : y = 2.28e+07 : 126.8 secs : infill_ei\n",
      "\n"
     ]
    },
    {
     "name": "stdout",
     "output_type": "stream",
     "text": [
      "20221013 184556\t195\t482248\tgbdt\tbinary\tcustom\tTRUE\tTRUE\tFALSE\tTRUE\t-100\t-1\t0\t0\t0\t31\t485\t1\t1\t1\t0.1\t50\t0.5\tFALSE\t100019\t0.27939678521727\t0.587954067696445\t3163\t1369\t4.09734461450993e-05\t12469\t19702000\t39\n"
     ]
    },
    {
     "name": "stderr",
     "output_type": "stream",
     "text": [
      "[mbo] 23: learning_rate=0.279; feature_fraction=0.588; min_data_in_leaf=3163; num_leaves=1369 : y = 1.97e+07 : 86.8 secs : infill_ei\n",
      "\n"
     ]
    },
    {
     "name": "stdout",
     "output_type": "stream",
     "text": [
      "20221013 184727\t195\t482248\tgbdt\tbinary\tcustom\tTRUE\tTRUE\tFALSE\tTRUE\t-100\t-1\t0\t0\t0\t31\t535\t1\t1\t1\t0.1\t50\t0.5\tFALSE\t100019\t0.172657081268704\t0.230607351907156\t1427\t1383\t2.60075005126781e-05\t11704\t21632000\t40\n"
     ]
    },
    {
     "name": "stderr",
     "output_type": "stream",
     "text": [
      "[mbo] 24: learning_rate=0.173; feature_fraction=0.231; min_data_in_leaf=1427; num_leaves=1383 : y = 2.16e+07 : 91.3 secs : infill_ei\n",
      "\n"
     ]
    },
    {
     "name": "stdout",
     "output_type": "stream",
     "text": [
      "20221013 184815\t195\t482248\tgbdt\tbinary\tcustom\tTRUE\tTRUE\tFALSE\tTRUE\t-100\t-1\t0\t0\t0\t31\t253\t1\t1\t1\t0.1\t50\t0.5\tFALSE\t100019\t0.262490928610116\t0.218916609417275\t4102\t1421\t0.00424093043284234\t12940\t21880000\t41\n"
     ]
    },
    {
     "name": "stderr",
     "output_type": "stream",
     "text": [
      "[mbo] 25: learning_rate=0.262; feature_fraction=0.219; min_data_in_leaf=4102; num_leaves=1421 : y = 2.19e+07 : 46.8 secs : infill_ei\n",
      "\n"
     ]
    },
    {
     "name": "stdout",
     "output_type": "stream",
     "text": [
      "20221013 184938\t195\t482248\tgbdt\tbinary\tcustom\tTRUE\tTRUE\tFALSE\tTRUE\t-100\t-1\t0\t0\t0\t31\t453\t1\t1\t1\t0.1\t50\t0.5\tFALSE\t100019\t0.0543674122776499\t0.206620149758458\t1806\t1661\t0.00663205053227868\t13967\t22546000\t42\n"
     ]
    },
    {
     "name": "stderr",
     "output_type": "stream",
     "text": [
      "[mbo] 26: learning_rate=0.0544; feature_fraction=0.207; min_data_in_leaf=1806; num_leaves=1661 : y = 2.25e+07 : 82.7 secs : infill_ei\n",
      "\n",
      "Saved the current state after iteration 27 in the file bayesiana.RDATA.\n",
      "\n"
     ]
    },
    {
     "name": "stdout",
     "output_type": "stream",
     "text": [
      "20221013 185103\t195\t482248\tgbdt\tbinary\tcustom\tTRUE\tTRUE\tFALSE\tTRUE\t-100\t-1\t0\t0\t0\t31\t408\t1\t1\t1\t0.1\t50\t0.5\tFALSE\t100019\t0.167699947859827\t0.776605645638891\t1634\t1495\t5.98493860862993e-05\t12229\t22022000\t43\n"
     ]
    },
    {
     "name": "stderr",
     "output_type": "stream",
     "text": [
      "[mbo] 27: learning_rate=0.168; feature_fraction=0.777; min_data_in_leaf=1634; num_leaves=1495 : y = 2.2e+07 : 80.8 secs : infill_ei\n",
      "\n"
     ]
    },
    {
     "name": "stdout",
     "output_type": "stream",
     "text": [
      "20221013 185321\t195\t482248\tgbdt\tbinary\tcustom\tTRUE\tTRUE\tFALSE\tTRUE\t-100\t-1\t0\t0\t0\t31\t1004\t1\t1\t1\t0.1\t50\t0.5\tFALSE\t100019\t0.0785160669077083\t0.581044979447126\t7685\t745\t0.00683954634373685\t13720\t21680000\t44\n"
     ]
    },
    {
     "name": "stderr",
     "output_type": "stream",
     "text": [
      "[mbo] 28: learning_rate=0.0785; feature_fraction=0.581; min_data_in_leaf=7685; num_leaves=745 : y = 2.17e+07 : 137.1 secs : infill_ei\n",
      "\n"
     ]
    },
    {
     "name": "stdout",
     "output_type": "stream",
     "text": [
      "20221013 185516\t195\t482248\tgbdt\tbinary\tcustom\tTRUE\tTRUE\tFALSE\tTRUE\t-100\t-1\t0\t0\t0\t31\t390\t1\t1\t1\t0.1\t50\t0.5\tFALSE\t100019\t0.0225331749856391\t0.863723600271158\t1027\t1311\t0.0127795886851916\t13798\t22804000\t45\n"
     ]
    },
    {
     "name": "stderr",
     "output_type": "stream",
     "text": [
      "[mbo] 29: learning_rate=0.0225; feature_fraction=0.864; min_data_in_leaf=1027; num_leaves=1311 : y = 2.28e+07 : 115.0 secs : infill_ei\n",
      "\n"
     ]
    },
    {
     "name": "stdout",
     "output_type": "stream",
     "text": [
      "20221013 185708\t195\t482248\tgbdt\tbinary\tcustom\tTRUE\tTRUE\tFALSE\tTRUE\t-100\t-1\t0\t0\t0\t31\t877\t1\t1\t1\t0.1\t50\t0.5\tFALSE\t100019\t0.047781669574735\t0.793113620310091\t5716\t1522\t0.0125476736770172\t12192\t23216000\t46\n"
     ]
    },
    {
     "name": "stderr",
     "output_type": "stream",
     "text": [
      "[mbo] 30: learning_rate=0.0478; feature_fraction=0.793; min_data_in_leaf=5716; num_leaves=1522 : y = 2.32e+07 : 112.2 secs : infill_ei\n",
      "\n"
     ]
    },
    {
     "name": "stdout",
     "output_type": "stream",
     "text": [
      "20221013 185824\t195\t482248\tgbdt\tbinary\tcustom\tTRUE\tTRUE\tFALSE\tTRUE\t-100\t-1\t0\t0\t0\t31\t569\t1\t1\t1\t0.1\t50\t0.5\tFALSE\t100019\t0.218208284831456\t0.702534255959839\t5959\t379\t0.00142161861055983\t11699\t21962000\t47\n"
     ]
    },
    {
     "name": "stderr",
     "output_type": "stream",
     "text": [
      "[mbo] 31: learning_rate=0.218; feature_fraction=0.703; min_data_in_leaf=5959; num_leaves=379 : y = 2.2e+07 : 74.9 secs : infill_ei\n",
      "\n"
     ]
    },
    {
     "name": "stdout",
     "output_type": "stream",
     "text": [
      "20221013 185917\t195\t482248\tgbdt\tbinary\tcustom\tTRUE\tTRUE\tFALSE\tTRUE\t-100\t-1\t0\t0\t0\t31\t127\t1\t1\t1\t0.1\t50\t0.5\tFALSE\t100019\t0.230454278479181\t0.825496492193081\t190\t1378\t3.96074459978599e-06\t11674\t20252000\t48\n"
     ]
    },
    {
     "name": "stderr",
     "output_type": "stream",
     "text": [
      "[mbo] 32: learning_rate=0.23; feature_fraction=0.825; min_data_in_leaf=190; num_leaves=1378 : y = 2.03e+07 : 52.2 secs : infill_ei\n",
      "\n"
     ]
    },
    {
     "name": "stdout",
     "output_type": "stream",
     "text": [
      "20221013 190201\t195\t482248\tgbdt\tbinary\tcustom\tTRUE\tTRUE\tFALSE\tTRUE\t-100\t-1\t0\t0\t0\t31\t1344\t1\t1\t1\t0.1\t50\t0.5\tFALSE\t100019\t0.124302348286377\t0.288650140102394\t5853\t93\t0.00177014879636857\t9603\t21994000\t49\n"
     ]
    },
    {
     "name": "stderr",
     "output_type": "stream",
     "text": [
      "[mbo] 33: learning_rate=0.124; feature_fraction=0.289; min_data_in_leaf=5853; num_leaves=93 : y = 2.2e+07 : 163.4 secs : infill_ei\n",
      "\n",
      "Saved the current state after iteration 34 in the file bayesiana.RDATA.\n",
      "\n"
     ]
    },
    {
     "name": "stdout",
     "output_type": "stream",
     "text": [
      "20221013 190310\t195\t482248\tgbdt\tbinary\tcustom\tTRUE\tTRUE\tFALSE\tTRUE\t-100\t-1\t0\t0\t0\t31\t360\t1\t1\t1\t0.1\t50\t0.5\tFALSE\t100019\t0.175707621747761\t0.468265998876095\t7709\t529\t0.00913265235922459\t14202\t20796000\t50\n"
     ]
    },
    {
     "name": "stderr",
     "output_type": "stream",
     "text": [
      "[mbo] 34: learning_rate=0.176; feature_fraction=0.468; min_data_in_leaf=7709; num_leaves=529 : y = 2.08e+07 : 64.1 secs : infill_ei\n",
      "\n"
     ]
    },
    {
     "name": "stdout",
     "output_type": "stream",
     "text": [
      "20221013 190444\t195\t482248\tgbdt\tbinary\tcustom\tTRUE\tTRUE\tFALSE\tTRUE\t-100\t-1\t0\t0\t0\t31\t697\t1\t1\t1\t0.1\t50\t0.5\tFALSE\t100019\t0.133849336537629\t0.250366849085316\t5869\t321\t0.00474594864028954\t12635\t21930000\t51\n"
     ]
    },
    {
     "name": "stderr",
     "output_type": "stream",
     "text": [
      "[mbo] 35: learning_rate=0.134; feature_fraction=0.25; min_data_in_leaf=5869; num_leaves=321 : y = 2.19e+07 : 93.2 secs : infill_ei\n",
      "\n"
     ]
    },
    {
     "name": "stdout",
     "output_type": "stream",
     "text": [
      "20221013 190753\t195\t482248\tgbdt\tbinary\tcustom\tTRUE\tTRUE\tFALSE\tTRUE\t-100\t-1\t0\t0\t0\t31\t1625\t1\t1\t1\t0.1\t50\t0.5\tFALSE\t100019\t0.0841182762235141\t0.885932756491332\t4392\t1127\t0.000158128636599822\t13184\t21152000\t52\n"
     ]
    },
    {
     "name": "stderr",
     "output_type": "stream",
     "text": [
      "[mbo] 36: learning_rate=0.0841; feature_fraction=0.886; min_data_in_leaf=4392; num_leaves=1127 : y = 2.12e+07 : 189.0 secs : infill_ei\n",
      "\n"
     ]
    },
    {
     "name": "stdout",
     "output_type": "stream",
     "text": [
      "20221013 191438\t195\t482248\tgbdt\tbinary\tcustom\tTRUE\tTRUE\tFALSE\tTRUE\t-100\t-1\t0\t0\t0\t31\t3034\t1\t1\t1\t0.1\t50\t0.5\tFALSE\t100019\t0.00741801759112976\t0.932697023215145\t2952\t187\t0.0129037289454176\t11967\t23986000\t53\n"
     ]
    },
    {
     "name": "stderr",
     "output_type": "stream",
     "text": [
      "[mbo] 37: learning_rate=0.00742; feature_fraction=0.933; min_data_in_leaf=2952; num_leaves=187 : y = 2.4e+07 : 404.2 secs : infill_ei\n",
      "\n",
      "Saved the current state after iteration 38 in the file bayesiana.RDATA.\n",
      "\n"
     ]
    },
    {
     "name": "stdout",
     "output_type": "stream",
     "text": [
      "20221013 191610\t195\t482248\tgbdt\tbinary\tcustom\tTRUE\tTRUE\tFALSE\tTRUE\t-100\t-1\t0\t0\t0\t31\t496\t1\t1\t1\t0.1\t50\t0.5\tFALSE\t100019\t0.204606044430006\t0.94827965365015\t1519\t320\t4.90897776494937e-06\t10254\t21412000\t54\n"
     ]
    },
    {
     "name": "stderr",
     "output_type": "stream",
     "text": [
      "[mbo] 38: learning_rate=0.205; feature_fraction=0.948; min_data_in_leaf=1519; num_leaves=320 : y = 2.14e+07 : 87.5 secs : infill_ei\n",
      "\n"
     ]
    },
    {
     "name": "stdout",
     "output_type": "stream",
     "text": [
      "20221013 191714\t195\t482248\tgbdt\tbinary\tcustom\tTRUE\tTRUE\tFALSE\tTRUE\t-100\t-1\t0\t0\t0\t31\t418\t1\t1\t1\t0.1\t50\t0.5\tFALSE\t100019\t0.177240358257591\t0.658366340069473\t5296\t1939\t0.00405323690869284\t12079\t21362000\t55\n"
     ]
    },
    {
     "name": "stderr",
     "output_type": "stream",
     "text": [
      "[mbo] 39: learning_rate=0.177; feature_fraction=0.658; min_data_in_leaf=5296; num_leaves=1939 : y = 2.14e+07 : 63.5 secs : infill_ei\n",
      "\n"
     ]
    },
    {
     "name": "stdout",
     "output_type": "stream",
     "text": [
      "20221013 191847\t195\t482248\tgbdt\tbinary\tcustom\tTRUE\tTRUE\tFALSE\tTRUE\t-100\t-1\t0\t0\t0\t31\t682\t1\t1\t1\t0.1\t50\t0.5\tFALSE\t100019\t0.274215222350078\t0.907000984611921\t4252\t1313\t2.96821230393911e-05\t11804\t19752000\t56\n"
     ]
    },
    {
     "name": "stderr",
     "output_type": "stream",
     "text": [
      "[mbo] 40: learning_rate=0.274; feature_fraction=0.907; min_data_in_leaf=4252; num_leaves=1313 : y = 1.98e+07 : 92.8 secs : infill_ei\n",
      "\n"
     ]
    },
    {
     "name": "stdout",
     "output_type": "stream",
     "text": [
      "20221013 192024\t195\t482248\tgbdt\tbinary\tcustom\tTRUE\tTRUE\tFALSE\tTRUE\t-100\t-1\t0\t0\t0\t31\t633\t1\t1\t1\t0.1\t50\t0.5\tFALSE\t100019\t0.2436423019025\t0.262781816520728\t2370\t1634\t1.69418341808939e-05\t11374\t21252000\t57\n"
     ]
    },
    {
     "name": "stderr",
     "output_type": "stream",
     "text": [
      "[mbo] 41: learning_rate=0.244; feature_fraction=0.263; min_data_in_leaf=2370; num_leaves=1634 : y = 2.13e+07 : 96.0 secs : infill_ei\n",
      "\n"
     ]
    },
    {
     "name": "stdout",
     "output_type": "stream",
     "text": [
      "20221013 192128\t195\t482248\tgbdt\tbinary\tcustom\tTRUE\tTRUE\tFALSE\tTRUE\t-100\t-1\t0\t0\t0\t31\t242\t1\t1\t1\t0.1\t50\t0.5\tFALSE\t100019\t0.268117909955136\t0.327028696464188\t962\t1340\t1.76444561602377e-05\t12076\t20728000\t58\n"
     ]
    },
    {
     "name": "stderr",
     "output_type": "stream",
     "text": [
      "[mbo] 42: learning_rate=0.268; feature_fraction=0.327; min_data_in_leaf=962; num_leaves=1340 : y = 2.07e+07 : 63.9 secs : infill_ei\n",
      "\n"
     ]
    },
    {
     "name": "stdout",
     "output_type": "stream",
     "text": [
      "20221013 192352\t195\t482248\tgbdt\tbinary\tcustom\tTRUE\tTRUE\tFALSE\tTRUE\t-100\t-1\t0\t0\t0\t31\t785\t1\t1\t1\t0.1\t50\t0.5\tFALSE\t100019\t0.0425322336449672\t0.993298913448863\t4717\t594\t0.0128420412414109\t12095\t24130000\t59\n"
     ]
    },
    {
     "name": "stderr",
     "output_type": "stream",
     "text": [
      "[mbo] 43: learning_rate=0.0425; feature_fraction=0.993; min_data_in_leaf=4717; num_leaves=594 : y = 2.41e+07 : 143.2 secs : infill_ei\n",
      "\n"
     ]
    },
    {
     "name": "stdout",
     "output_type": "stream",
     "text": [
      "20221013 192438\t195\t482248\tgbdt\tbinary\tcustom\tTRUE\tTRUE\tFALSE\tTRUE\t-100\t-1\t0\t0\t0\t31\t175\t1\t1\t1\t0.1\t50\t0.5\tFALSE\t100019\t0.298171177874142\t0.494568683813512\t5825\t269\t0.00948855538185189\t12816\t20608000\t60\n"
     ]
    },
    {
     "name": "stderr",
     "output_type": "stream",
     "text": [
      "[mbo] 44: learning_rate=0.298; feature_fraction=0.495; min_data_in_leaf=5825; num_leaves=269 : y = 2.06e+07 : 45.7 secs : infill_ei\n",
      "\n"
     ]
    },
    {
     "name": "stdout",
     "output_type": "stream",
     "text": [
      "20221013 192556\t195\t482248\tgbdt\tbinary\tcustom\tTRUE\tTRUE\tFALSE\tTRUE\t-100\t-1\t0\t0\t0\t31\t257\t1\t1\t1\t0.1\t50\t0.5\tFALSE\t100019\t0.196767898372714\t0.455876919078268\t537\t1631\t5.01465940055716e-06\t12378\t21484000\t61\n"
     ]
    },
    {
     "name": "stderr",
     "output_type": "stream",
     "text": [
      "[mbo] 45: learning_rate=0.197; feature_fraction=0.456; min_data_in_leaf=537; num_leaves=1631 : y = 2.15e+07 : 78.1 secs : infill_ei\n",
      "\n",
      "Saved the current state after iteration 46 in the file bayesiana.RDATA.\n",
      "\n"
     ]
    },
    {
     "name": "stdout",
     "output_type": "stream",
     "text": [
      "20221013 192823\t195\t482248\tgbdt\tbinary\tcustom\tTRUE\tTRUE\tFALSE\tTRUE\t-100\t-1\t0\t0\t0\t31\t853\t1\t1\t1\t0.1\t50\t0.5\tFALSE\t100019\t0.0349866077382816\t0.431565944149159\t3520\t277\t0.0114209508562508\t12503\t23634000\t62\n"
     ]
    },
    {
     "name": "stderr",
     "output_type": "stream",
     "text": [
      "[mbo] 46: learning_rate=0.035; feature_fraction=0.432; min_data_in_leaf=3520; num_leaves=277 : y = 2.36e+07 : 141.4 secs : infill_ei\n",
      "\n"
     ]
    },
    {
     "name": "stdout",
     "output_type": "stream",
     "text": [
      "20221013 192914\t195\t482248\tgbdt\tbinary\tcustom\tTRUE\tTRUE\tFALSE\tTRUE\t-100\t-1\t0\t0\t0\t31\t255\t1\t1\t1\t0.1\t50\t0.5\tFALSE\t100019\t0.218962660076349\t0.619698362954706\t4687\t844\t0.00617757042704535\t12119\t21762000\t63\n"
     ]
    },
    {
     "name": "stderr",
     "output_type": "stream",
     "text": [
      "[mbo] 47: learning_rate=0.219; feature_fraction=0.62; min_data_in_leaf=4687; num_leaves=844 : y = 2.18e+07 : 50.6 secs : infill_ei\n",
      "\n"
     ]
    },
    {
     "name": "stdout",
     "output_type": "stream",
     "text": [
      "20221013 193039\t195\t482248\tgbdt\tbinary\tcustom\tTRUE\tTRUE\tFALSE\tTRUE\t-100\t-1\t0\t0\t0\t31\t604\t1\t1\t1\t0.1\t50\t0.5\tFALSE\t100019\t0.173240920277911\t0.61323527580481\t7312\t1164\t0.00551279278020014\t11271\t21058000\t64\n"
     ]
    },
    {
     "name": "stderr",
     "output_type": "stream",
     "text": [
      "[mbo] 48: learning_rate=0.173; feature_fraction=0.613; min_data_in_leaf=7312; num_leaves=1164 : y = 2.11e+07 : 84.4 secs : infill_ei\n",
      "\n"
     ]
    },
    {
     "name": "stdout",
     "output_type": "stream",
     "text": [
      "20221013 193134\t195\t482248\tgbdt\tbinary\tcustom\tTRUE\tTRUE\tFALSE\tTRUE\t-100\t-1\t0\t0\t0\t31\t171\t1\t1\t1\t0.1\t50\t0.5\tFALSE\t100019\t0.254740019124155\t0.753207390602306\t993\t1335\t9.12947280535412e-05\t12693\t21334000\t65\n"
     ]
    },
    {
     "name": "stderr",
     "output_type": "stream",
     "text": [
      "[mbo] 49: learning_rate=0.255; feature_fraction=0.753; min_data_in_leaf=993; num_leaves=1335 : y = 2.13e+07 : 54.0 secs : infill_ei\n",
      "\n"
     ]
    },
    {
     "name": "stdout",
     "output_type": "stream",
     "text": [
      "20221013 193309\t195\t482248\tgbdt\tbinary\tcustom\tTRUE\tTRUE\tFALSE\tTRUE\t-100\t-1\t0\t0\t0\t31\t460\t1\t1\t1\t0.1\t50\t0.5\tFALSE\t100019\t0.220655714571013\t0.56149590298608\t2498\t485\t7.83313141721839e-05\t12153\t21694000\t66\n"
     ]
    },
    {
     "name": "stderr",
     "output_type": "stream",
     "text": [
      "[mbo] 50: learning_rate=0.221; feature_fraction=0.561; min_data_in_leaf=2498; num_leaves=485 : y = 2.17e+07 : 94.9 secs : infill_ei\n",
      "\n",
      "Saved the final state in the file bayesiana.RDATA\n",
      "\n"
     ]
    }
   ],
   "source": [
    "#------------------------------------------------------------------------------\n",
    "#------------------------------------------------------------------------------\n",
    "#Aqui empieza el programa\n",
    "\n",
    "setwd(\"~/buckets/b1/\")\n",
    "kexp_input  <- kexperimento\n",
    "#cargo el dataset donde voy a entrenar\n",
    "#esta en la carpeta del exp_input y siempre se llama  dataset_training.csv.gz\n",
    "dataset_input  <- paste0( \"./exp/\", kexp_input, \"/dataset_training.csv.gz\" )\n",
    "dataset  <- fread( dataset_input )\n",
    "\n",
    "#Verificaciones\n",
    "if( ! (\"fold_train\"    %in% colnames(dataset) ) ) stop(\"Error, el dataset no tiene el campo fold_train \\n\")\n",
    "if( ! (\"fold_validate\" %in% colnames(dataset) ) ) stop(\"Error, el dataset no tiene el campo fold_validate \\n\")\n",
    "if( ! (\"fold_test\"     %in% colnames(dataset) ) ) stop(\"Error, el dataset no tiene el campo fold_test  \\n\")\n",
    "if( dataset[ fold_train==1, .N ] == 0 ) stop(\"Error, en el dataset no hay fold_train==1 \\n\")\n",
    "\n",
    "#creo la carpeta donde va el experimento\n",
    "dir.create( paste0( \"./exp/\", kexperimento, \"/\"), showWarnings = FALSE )\n",
    "setwd(paste0( \"./exp/\", kexperimento, \"/\"))   #Establezco el Working Directory DEL EXPERIMENTO\n",
    "\n",
    "cat( kexp_input,\n",
    "     file= \"TrainingStrategy.txt\",\n",
    "     append= FALSE )\n",
    "\n",
    "#defino la clase binaria clase01\n",
    "dataset[  , clase01 := ifelse( clase_ternaria==\"CONTINUA\", 0L, 1L ) ]\n",
    "\n",
    "\n",
    "#los campos que se pueden utilizar para la prediccion\n",
    "campos_buenos  <- setdiff( copy(colnames( dataset )), c( \"clase01\", \"clase_ternaria\", \"fold_train\", \"fold_validate\", \"fold_test\" ) )\n",
    "\n",
    "#la particion de train siempre va\n",
    "dtrain  <- lgb.Dataset( data=    data.matrix( dataset[ fold_train==1, campos_buenos, with=FALSE] ),\n",
    "                        label=   dataset[ fold_train==1, clase01 ],\n",
    "                        weight=  dataset[ fold_train==1, ifelse( clase_ternaria == \"BAJA+2\", 1.0000001, 1.0) ],\n",
    "                        free_raw_data= FALSE\n",
    "                      )\n",
    "\n",
    "\n",
    "kvalidate  <- FALSE\n",
    "ktest  <- FALSE\n",
    "kcrossvalidation  <- TRUE\n",
    "\n",
    "#Si hay que hacer validacion\n",
    "if( dataset[ fold_train==0 & fold_test==0 & fold_validate==1, .N ] > 0 )\n",
    "{\n",
    "  kcrossvalidation  <- FALSE\n",
    "  kvalidate  <- TRUE\n",
    "  dvalidate  <- lgb.Dataset( data=  data.matrix( dataset[ fold_validate==1, campos_buenos, with=FALSE] ),\n",
    "                             label= dataset[ fold_validate==1, clase01 ],\n",
    "                             free_raw_data= FALSE  )\n",
    "\n",
    "}\n",
    "\n",
    "#Si hay que hacer testing\n",
    "if( dataset[ fold_train==0 & fold_validate==0 & fold_test==1, .N ] > 0 )\n",
    "{\n",
    "  ktest  <- TRUE\n",
    "  kcrossvalidation  <- FALSE\n",
    "  dataset_test  <- dataset[ fold_test== 1 ]\n",
    "}\n",
    "\n",
    "\n",
    "#Si hay testing, sin validation,  STOP !!\n",
    "if( kvalidate== FALSE & ktest== TRUE ) stop(\"Error, si hay testing, debe haber validation \\n\") \n",
    "\n",
    "\n",
    "rm( dataset )\n",
    "gc()\n",
    "\n",
    "\n",
    "#si ya existe el archivo log, traigo hasta donde procese\n",
    "if( file.exists( \"BO_log.txt\" ) )\n",
    "{\n",
    "  tabla_log  <- fread( \"BO_log.txt\" )\n",
    "  GLOBAL_iteracion  <- nrow( tabla_log )\n",
    "  GLOBAL_ganancia   <- tabla_log[ , max(ganancia) ]\n",
    "  rm(tabla_log)\n",
    "} else  {\n",
    "  GLOBAL_iteracion  <- 0\n",
    "  GLOBAL_ganancia   <- -Inf\n",
    "}\n",
    "\n",
    "\n",
    "#Aqui comienza la configuracion de mlrMBO\n",
    "\n",
    "#deobo hacer cross validation o  Train/Validate/Test\n",
    "if( kcrossvalidation ) {\n",
    "  funcion_optimizar  <- EstimarGanancia_lightgbmCV\n",
    "} else {\n",
    "  funcion_optimizar  <- EstimarGanancia_lightgbm\n",
    "}\n",
    "\n",
    "\n",
    "configureMlr( show.learner.output= FALSE)\n",
    "\n",
    "#configuro la busqueda bayesiana,  los hiperparametros que se van a optimizar\n",
    "#por favor, no desesperarse por lo complejo\n",
    "obj.fun  <- makeSingleObjectiveFunction(\n",
    "              fn=       funcion_optimizar, #la funcion que voy a maximizar\n",
    "              minimize= FALSE,   #estoy Maximizando la ganancia\n",
    "              noisy=    TRUE,\n",
    "              par.set=  hs,     #definido al comienzo del programa\n",
    "              has.simple.signature = FALSE   #paso los parametros en una lista\n",
    "             )\n",
    "\n",
    "#archivo donde se graba y cada cuantos segundos\n",
    "ctrl  <- makeMBOControl( save.on.disk.at.time= 600,  \n",
    "                         save.file.path=       \"bayesiana.RDATA\" )\n",
    "                         \n",
    "ctrl  <- setMBOControlTermination( ctrl, \n",
    "                                   iters= kBO_iteraciones )   #cantidad de iteraciones\n",
    "                                   \n",
    "ctrl  <- setMBOControlInfill(ctrl, crit= makeMBOInfillCritEI() )\n",
    "\n",
    "#establezco la funcion que busca el maximo\n",
    "surr.km  <- makeLearner(\"regr.km\",\n",
    "                        predict.type= \"se\",\n",
    "                        covtype= \"matern3_2\",\n",
    "                        control= list(trace= TRUE) )\n",
    "\n",
    "\n",
    "\n",
    "#Aqui inicio la optimizacion bayesiana\n",
    "if( !file.exists( \"bayesiana.RDATA\" ) ) {\n",
    "\n",
    "  run  <- mbo(obj.fun, learner= surr.km, control= ctrl)\n",
    "\n",
    "} else {\n",
    "  #si ya existe el archivo RDATA, debo continuar desde el punto hasta donde llegue\n",
    "  #  usado para cuando se corta la virtual machine\n",
    "  run  <- mboContinue( \"bayesiana.RDATA\" )   #retomo en caso que ya exista\n",
    "}"
   ]
  }
 ],
 "metadata": {
  "kernelspec": {
   "display_name": "R",
   "language": "R",
   "name": "ir"
  },
  "language_info": {
   "codemirror_mode": "r",
   "file_extension": ".r",
   "mimetype": "text/x-r-source",
   "name": "R",
   "pygments_lexer": "r",
   "version": "4.2.1"
  }
 },
 "nbformat": 4,
 "nbformat_minor": 5
}
