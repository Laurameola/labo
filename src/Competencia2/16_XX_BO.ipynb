{
 "cells": [
  {
   "cell_type": "code",
   "execution_count": 1,
   "id": "c4bc76ca-445f-4d39-916d-d1378f46684b",
   "metadata": {},
   "outputs": [
    {
     "data": {
      "text/html": [
       "<table class=\"dataframe\">\n",
       "<caption>A matrix: 2 × 6 of type dbl</caption>\n",
       "<thead>\n",
       "\t<tr><th></th><th scope=col>used</th><th scope=col>(Mb)</th><th scope=col>gc trigger</th><th scope=col>(Mb)</th><th scope=col>max used</th><th scope=col>(Mb)</th></tr>\n",
       "</thead>\n",
       "<tbody>\n",
       "\t<tr><th scope=row>Ncells</th><td> 614022</td><td>32.8</td><td>1330087</td><td>71.1</td><td>1330087</td><td>71.1</td></tr>\n",
       "\t<tr><th scope=row>Vcells</th><td>1150188</td><td> 8.8</td><td>8388608</td><td>64.0</td><td>1801055</td><td>13.8</td></tr>\n",
       "</tbody>\n",
       "</table>\n"
      ],
      "text/latex": [
       "A matrix: 2 × 6 of type dbl\n",
       "\\begin{tabular}{r|llllll}\n",
       "  & used & (Mb) & gc trigger & (Mb) & max used & (Mb)\\\\\n",
       "\\hline\n",
       "\tNcells &  614022 & 32.8 & 1330087 & 71.1 & 1330087 & 71.1\\\\\n",
       "\tVcells & 1150188 &  8.8 & 8388608 & 64.0 & 1801055 & 13.8\\\\\n",
       "\\end{tabular}\n"
      ],
      "text/markdown": [
       "\n",
       "A matrix: 2 × 6 of type dbl\n",
       "\n",
       "| <!--/--> | used | (Mb) | gc trigger | (Mb) | max used | (Mb) |\n",
       "|---|---|---|---|---|---|---|\n",
       "| Ncells |  614022 | 32.8 | 1330087 | 71.1 | 1330087 | 71.1 |\n",
       "| Vcells | 1150188 |  8.8 | 8388608 | 64.0 | 1801055 | 13.8 |\n",
       "\n"
      ],
      "text/plain": [
       "       used    (Mb) gc trigger (Mb) max used (Mb)\n",
       "Ncells  614022 32.8 1330087    71.1 1330087  71.1\n",
       "Vcells 1150188  8.8 8388608    64.0 1801055  13.8"
      ]
     },
     "metadata": {},
     "output_type": "display_data"
    },
    {
     "name": "stderr",
     "output_type": "stream",
     "text": [
      "Loading required package: data.table\n",
      "\n",
      "Loading required package: rlist\n",
      "\n",
      "Loading required package: lightgbm\n",
      "\n",
      "Loading required package: DiceKriging\n",
      "\n",
      "Loading required package: mlrMBO\n",
      "\n",
      "Loading required package: mlr\n",
      "\n",
      "Loading required package: ParamHelpers\n",
      "\n",
      "Warning message: 'mlr' is in 'maintenance-only' mode since July 2019.\n",
      "Future development will only happen in 'mlr3'\n",
      "(<https://mlr3.mlr-org.com>). Due to the focus on 'mlr3' there might be\n",
      "uncaught bugs meanwhile in {mlr} - please consider switching.\n",
      "\n",
      "Loading required package: smoof\n",
      "\n",
      "Loading required package: checkmate\n",
      "\n",
      "\n",
      "Attaching package: ‘checkmate’\n",
      "\n",
      "\n",
      "The following object is masked from ‘package:DiceKriging’:\n",
      "\n",
      "    checkNames\n",
      "\n",
      "\n",
      "Warning message:\n",
      "“no DISPLAY variable so Tk is not available”\n"
     ]
    }
   ],
   "source": [
    "#limpio la memoria\n",
    "rm( list=ls() )  #remove all objects\n",
    "gc()             #garbage collection\n",
    "\n",
    "require(\"data.table\")\n",
    "require(\"rlist\")\n",
    "\n",
    "require(\"lightgbm\")\n",
    "\n",
    "#paquetes necesarios para la Bayesian Optimization\n",
    "require(\"DiceKriging\")\n",
    "require(\"mlrMBO\")\n",
    "\n",
    "#------------------------------------------------------------------------------\n",
    "options(error = function() { \n",
    "  traceback(20); \n",
    "  options(error = NULL); \n",
    "  stop(\"exiting after script error\") \n",
    "})\n",
    "#------------------------------------------------------------------------------"
   ]
  },
  {
   "cell_type": "code",
   "execution_count": 2,
   "id": "974471d1-785e-4d6c-b2f7-a6aae5a8015e",
   "metadata": {},
   "outputs": [],
   "source": [
    "#Parametros del script\n",
    "kexperimento  <- \"comp2-exp151\"\n",
    "# FIN Parametros del script\n",
    "\n",
    "ksemilla  <- 100019\n",
    "kBO_iteraciones  <- 50  #iteraciones de la Optimizacion Bayesiana"
   ]
  },
  {
   "cell_type": "code",
   "execution_count": 3,
   "id": "709fee66-650b-40cf-aa04-4a501163e5b9",
   "metadata": {},
   "outputs": [],
   "source": [
    "kcrossvalidation_folds  <- 5  #En caso que se haga cross validation, se usa esta cantidad de folds\n",
    "\n",
    "#Hiperparametros FIJOS de  lightgbm\n",
    "param_lgb_basicos  <- list( \n",
    "   boosting= \"gbdt\",          #puede ir  dart  , ni pruebe random_forest\n",
    "   objective= \"binary\",\n",
    "   metric= \"custom\",\n",
    "   first_metric_only= TRUE,\n",
    "   boost_from_average= TRUE,\n",
    "   feature_pre_filter= FALSE,\n",
    "   force_row_wise= TRUE,      #para que los alumnos no se atemoricen con tantos warning\n",
    "   verbosity= -100,\n",
    "   max_depth=  -1,            # -1 significa no limitar,  por ahora lo dejo fijo\n",
    "   min_gain_to_split= 0.0,    #por ahora, lo dejo fijo\n",
    "   lambda_l1= 0.0,            #por ahora, lo dejo fijo\n",
    "   lambda_l2= 0.0,            #por ahora, lo dejo fijo\n",
    "   max_bin= 31,               #por ahora, lo dejo fijo\n",
    "   num_iterations= 9999,      #un numero muy grande, lo limita early_stopping_rounds\n",
    "\n",
    "   bagging_fraction= 1.0,     #por ahora, lo dejo fijo\n",
    "   pos_bagging_fraction= 1.0, #por ahora, lo dejo fijo\n",
    "   neg_bagging_fraction= 1.0, #por ahora, lo dejo fijo\n",
    "\n",
    "   drop_rate=  0.1,           #solo se activa en  dart\n",
    "   max_drop= 50,              #solo se activa en  dart\n",
    "   skip_drop= 0.5,            #solo se activa en  dart\n",
    "\n",
    "   extra_trees= FALSE,\n",
    "\n",
    "   seed=  ksemilla\n",
    "   )"
   ]
  },
  {
   "cell_type": "code",
   "execution_count": 4,
   "id": "f946c6cc-5062-49b1-b0ec-8eeb73186914",
   "metadata": {},
   "outputs": [],
   "source": [
    "#Aqui se cargan los hiperparametros que se optimizan en la Bayesian Optimization\n",
    "hs <- makeParamSet( \n",
    "         makeNumericParam(\"learning_rate\",    lower=    0.005, upper=    0.3),\n",
    "         makeNumericParam(\"feature_fraction\", lower=    0.2  , upper=    1.0),\n",
    "         makeIntegerParam(\"min_data_in_leaf\", lower=    0L   , upper=  8000L),\n",
    "         makeIntegerParam(\"num_leaves\",       lower=   16L   , upper=  2048L)\n",
    "        )"
   ]
  },
  {
   "cell_type": "code",
   "execution_count": 5,
   "id": "8701cb41-54da-42f1-8c02-a98fac55ae8a",
   "metadata": {},
   "outputs": [],
   "source": [
    "#------------------------------------------------------------------------------\n",
    "#graba a un archivo los componentes de lista\n",
    "#para el primer registro, escribe antes los titulos\n",
    "\n",
    "exp_log  <- function( reg, arch=NA, folder=\"./exp/\", ext=\".txt\", verbose=TRUE )\n",
    "{\n",
    "  archivo  <- arch\n",
    "  if( is.na(arch) )  archivo  <- paste0(  folder, substitute( reg), ext )\n",
    "\n",
    "  if( !file.exists( archivo ) )  #Escribo los titulos\n",
    "  {\n",
    "    linea  <- paste0( \"fecha\\t\", \n",
    "                      paste( list.names(reg), collapse=\"\\t\" ), \"\\n\" )\n",
    "\n",
    "    cat( linea, file=archivo )\n",
    "  }\n",
    "\n",
    "  linea  <- paste0( format(Sys.time(), \"%Y%m%d %H%M%S\"),  \"\\t\",     #la fecha y hora\n",
    "                    gsub( \", \", \"\\t\", toString( reg ) ),  \"\\n\" )\n",
    "\n",
    "  cat( linea, file=archivo, append=TRUE )  #grabo al archivo\n",
    "\n",
    "  if( verbose )  cat( linea )   #imprimo por pantalla\n",
    "}\n",
    "\n",
    "#------------------------------------------------------------------------------\n",
    "\n",
    "vprob_optima  <- c()\n",
    "\n",
    "fganancia_lgbm_meseta  <- function( probs, datos) \n",
    "{\n",
    "  vlabels  <- get_field(datos, \"label\")\n",
    "\n",
    "  tbl  <- as.data.table( list( \"prob\"= probs, \n",
    "                               \"gan\" = ifelse( vlabels==1 , 78000, -2000  ) ) )\n",
    "\n",
    "  setorder( tbl, -prob )\n",
    "  tbl[ , posicion := .I ]\n",
    "  tbl[ , gan_acum :=  cumsum( gan ) ]\n",
    "\n",
    "  gan  <-  tbl[ , max(gan_acum) ]\n",
    "\n",
    "  pos  <- which.max(  tbl[ , gan_acum ] ) \n",
    "  vprob_optima  <<- c( vprob_optima, tbl[ pos, prob ] )\n",
    "\n",
    "  rm( tbl )\n",
    "  return( list( \"name\"= \"ganancia\", \n",
    "                \"value\"=  gan,\n",
    "                \"higher_better\"= TRUE ) )\n",
    "}\n",
    "#------------------------------------------------------------------------------\n",
    "\n",
    "EstimarGanancia_lightgbm  <- function( x )\n",
    "{\n",
    "  gc()\n",
    "  GLOBAL_iteracion  <<- GLOBAL_iteracion + 1\n",
    "\n",
    "  param_completo  <- c( param_lgb_basicos,  x )\n",
    "\n",
    "  param_completo$early_stopping_rounds  <- as.integer(200 + 4/param_completo$learning_rate )\n",
    "\n",
    "  vprob_optima  <<- c()\n",
    "  set.seed( param_completo$seed )\n",
    "  modelo_train  <- lgb.train( data= dtrain,\n",
    "                              valids= list( valid= dvalidate ),\n",
    "                              eval=   fganancia_lgbm_meseta,\n",
    "                              param=  param_completo,\n",
    "                              verbose= -100 )\n",
    "\n",
    "  prob_corte  <- vprob_optima[ modelo_train$best_iter ]\n",
    "\n",
    "  #aplico el modelo a testing y calculo la ganancia\n",
    "  prediccion  <- predict( modelo_train, \n",
    "                          data.matrix( dataset_test[ , campos_buenos, with=FALSE]) )\n",
    "\n",
    "  tbl  <- dataset_test[ , list(clase_ternaria) ]\n",
    "  tbl[ , prob := prediccion ]\n",
    "  ganancia_test  <- tbl[ prob >= prob_corte, \n",
    "                         sum( ifelse(clase_ternaria==\"BAJA+2\", 78000, -2000 ) )]\n",
    "\n",
    "  cantidad_test_normalizada  <- tbl[ prob >= prob_corte, .N ]\n",
    "\n",
    "  rm( tbl )\n",
    "  gc()\n",
    "\n",
    "  ganancia_test_normalizada  <- ganancia_test\n",
    "\n",
    "\n",
    "  #voy grabando las mejores column importance\n",
    "  if( ganancia_test_normalizada >  GLOBAL_ganancia )\n",
    "  {\n",
    "    GLOBAL_ganancia  <<- ganancia_test_normalizada\n",
    "    tb_importancia    <- as.data.table( lgb.importance( modelo_train ) )\n",
    "\n",
    "    fwrite( tb_importancia,\n",
    "            file= paste0( \"impo_\", GLOBAL_iteracion, \".txt\" ),\n",
    "            sep= \"\\t\" )\n",
    "\n",
    "    rm( tb_importancia )\n",
    "  }\n",
    "\n",
    "\n",
    "  #logueo final\n",
    "  ds  <- list( \"cols\"= ncol(dtrain),  \"rows\"= nrow(dtrain) )\n",
    "  xx  <- c( ds, copy(param_completo) )\n",
    "\n",
    "  xx$early_stopping_rounds  <- NULL\n",
    "  xx$num_iterations  <- modelo_train$best_iter\n",
    "  xx$prob_corte  <- prob_corte\n",
    "  xx$estimulos  <- cantidad_test_normalizada\n",
    "  xx$ganancia  <- ganancia_test_normalizada\n",
    "  xx$iteracion_bayesiana  <- GLOBAL_iteracion\n",
    "\n",
    "  exp_log( xx,  arch= \"BO_log.txt\" )\n",
    "\n",
    "  return( ganancia_test_normalizada )\n",
    "}\n",
    "#------------------------------------------------------------------------------\n",
    "#esta es la funcion mas mistica de toda la asignatura\n",
    "# sera explicada en  Laboratorio de Implementacion III\n",
    "\n",
    "vprob_optima  <- c()\n",
    "vpos_optima   <- c()\n",
    "\n",
    "fganancia_lgbm_mesetaCV  <- function( probs, datos) \n",
    "{\n",
    "  vlabels  <- get_field(datos, \"label\")\n",
    "  vpesos   <- get_field(datos, \"weight\")\n",
    "\n",
    "  tbl  <- as.data.table( list( \"prob\"= probs, \n",
    "                               \"gan\" = ifelse( vlabels==1 & vpesos > 1,\n",
    "                                               78000,\n",
    "                                               -2000  ) ) )\n",
    "\n",
    "  setorder( tbl, -prob )\n",
    "  tbl[ , posicion := .I ]\n",
    "  tbl[ , gan_acum :=  cumsum( gan ) ]\n",
    "\n",
    "  gan  <-  tbl[ , max(gan_acum) ]\n",
    "\n",
    "  pos  <- which.max(  tbl[ , gan_acum ] ) \n",
    "  vpos_optima   <<- c( vpos_optima, pos )\n",
    "  vprob_optima  <<- c( vprob_optima, tbl[ pos, prob ] )\n",
    "\n",
    "  rm( tbl )\n",
    "  return( list( \"name\"= \"ganancia\", \n",
    "                \"value\"=  gan,\n",
    "                \"higher_better\"= TRUE ) )\n",
    "}\n",
    "#------------------------------------------------------------------------------\n",
    "\n",
    "EstimarGanancia_lightgbmCV  <- function( x )\n",
    "{\n",
    "  gc()\n",
    "  GLOBAL_iteracion  <<- GLOBAL_iteracion + 1\n",
    "\n",
    "  param_completo  <- c(param_lgb_basicos,  x )\n",
    "\n",
    "  param_completo$early_stopping_rounds  <- as.integer(200 + 4/param_completo$learning_rate )\n",
    "\n",
    "  vprob_optima  <<- c()\n",
    "  vpos_optima   <<- c()\n",
    "\n",
    "  set.seed( param_completo$seed )\n",
    "  modelocv  <- lgb.cv( data= dtrain,\n",
    "                       eval=   fganancia_lgbm_mesetaCV,\n",
    "                       param=  param_completo,\n",
    "                       stratified= TRUE,                   #sobre el cross validation\n",
    "                       nfold= kcrossvalidation_folds,\n",
    "                       verbose= -100 )\n",
    "\n",
    "  desde  <- (modelocv$best_iter-1)*kcrossvalidation_folds + 1\n",
    "  hasta  <- desde + kcrossvalidation_folds -1\n",
    "\n",
    "  prob_corte            <-  mean( vprob_optima[ desde:hasta ] )\n",
    "  cantidad_normalizada  <-  mean( vpos_optima[ desde:hasta ] ) * kcrossvalidation_folds\n",
    "\n",
    "  ganancia  <- unlist(modelocv$record_evals$valid$ganancia$eval)[ modelocv$best_iter ]\n",
    "  ganancia_normalizada  <- ganancia * kcrossvalidation_folds\n",
    "\n",
    "\n",
    "  #voy grabando las mejores column importance\n",
    "  if( ganancia_normalizada >  GLOBAL_ganancia )\n",
    "  {\n",
    "    GLOBAL_ganancia  <<- ganancia_normalizada\n",
    "\n",
    "    param_impo <-  copy( param_completo )\n",
    "    param_impo$early_stopping_rounds  <- 0\n",
    "    param_impo$num_iterations  <- modelocv$best_iter\n",
    "\n",
    "    modelo  <- lgb.train( data= dtrain,\n",
    "                       param=  param_impo,\n",
    "                       verbose= -100 )\n",
    "\n",
    "    tb_importancia    <- as.data.table( lgb.importance( modelo ) )\n",
    "\n",
    "    fwrite( tb_importancia,\n",
    "            file= paste0( \"impo_\", GLOBAL_iteracion, \".txt\" ),\n",
    "            sep= \"\\t\" )\n",
    "    \n",
    "    rm( tb_importancia )\n",
    "  }\n",
    "\n",
    "\n",
    "  #logueo final\n",
    "  ds  <- list( \"cols\"= ncol(dtrain),  \"rows\"= nrow(dtrain) )\n",
    "  xx  <- c( ds, copy(param_completo) )\n",
    "\n",
    "  xx$early_stopping_rounds  <- NULL\n",
    "  xx$num_iterations  <- modelocv$best_iter\n",
    "  xx$prob_corte  <-  prob_corte\n",
    "  xx$estimulos   <-  cantidad_normalizada\n",
    "  xx$ganancia  <- ganancia_normalizada\n",
    "  xx$iteracion_bayesiana  <- GLOBAL_iteracion\n",
    "\n",
    "  exp_log( xx,  arch= \"BO_log.txt\" )\n",
    "\n",
    "  return( ganancia_normalizada )\n",
    "}\n"
   ]
  },
  {
   "cell_type": "code",
   "execution_count": 6,
   "id": "adae6c46-b53a-452c-b616-cad237a81ec1",
   "metadata": {},
   "outputs": [
    {
     "data": {
      "text/html": [
       "<table class=\"dataframe\">\n",
       "<caption>A matrix: 2 × 6 of type dbl</caption>\n",
       "<thead>\n",
       "\t<tr><th></th><th scope=col>used</th><th scope=col>(Mb)</th><th scope=col>gc trigger</th><th scope=col>(Mb)</th><th scope=col>max used</th><th scope=col>(Mb)</th></tr>\n",
       "</thead>\n",
       "<tbody>\n",
       "\t<tr><th scope=row>Ncells</th><td>   2235027</td><td> 119.4</td><td>   4424544</td><td>  236.3</td><td>   2787425</td><td>  148.9</td></tr>\n",
       "\t<tr><th scope=row>Vcells</th><td>1044244436</td><td>7967.0</td><td>2881834313</td><td>21986.7</td><td>2401452982</td><td>18321.7</td></tr>\n",
       "</tbody>\n",
       "</table>\n"
      ],
      "text/latex": [
       "A matrix: 2 × 6 of type dbl\n",
       "\\begin{tabular}{r|llllll}\n",
       "  & used & (Mb) & gc trigger & (Mb) & max used & (Mb)\\\\\n",
       "\\hline\n",
       "\tNcells &    2235027 &  119.4 &    4424544 &   236.3 &    2787425 &   148.9\\\\\n",
       "\tVcells & 1044244436 & 7967.0 & 2881834313 & 21986.7 & 2401452982 & 18321.7\\\\\n",
       "\\end{tabular}\n"
      ],
      "text/markdown": [
       "\n",
       "A matrix: 2 × 6 of type dbl\n",
       "\n",
       "| <!--/--> | used | (Mb) | gc trigger | (Mb) | max used | (Mb) |\n",
       "|---|---|---|---|---|---|---|\n",
       "| Ncells |    2235027 |  119.4 |    4424544 |   236.3 |    2787425 |   148.9 |\n",
       "| Vcells | 1044244436 | 7967.0 | 2881834313 | 21986.7 | 2401452982 | 18321.7 |\n",
       "\n"
      ],
      "text/plain": [
       "       used       (Mb)   gc trigger (Mb)    max used   (Mb)   \n",
       "Ncells    2235027  119.4    4424544   236.3    2787425   148.9\n",
       "Vcells 1044244436 7967.0 2881834313 21986.7 2401452982 18321.7"
      ]
     },
     "metadata": {},
     "output_type": "display_data"
    },
    {
     "name": "stderr",
     "output_type": "stream",
     "text": [
      "Computing y column(s) for design. Not provided.\n",
      "\n"
     ]
    },
    {
     "name": "stdout",
     "output_type": "stream",
     "text": [
      "20221019 032523\t1353\t480355\tgbdt\tbinary\tcustom\tTRUE\tTRUE\tFALSE\tTRUE\t-100\t-1\t0\t0\t0\t31\t263\t1\t1\t1\t0.1\t50\t0.5\tFALSE\t100019\t0.0743736332754634\t0.612177562911529\t7064\t1088\t0.0134166745766147\t16758\t21364000\t1\n",
      "20221019 032825\t1353\t480355\tgbdt\tbinary\tcustom\tTRUE\tTRUE\tFALSE\tTRUE\t-100\t-1\t0\t0\t0\t31\t33\t1\t1\t1\t0.1\t50\t0.5\tFALSE\t100019\t0.148950392499028\t0.438937555323355\t2582\t958\t0.0163846797126241\t14953\t24414000\t2\n",
      "20221019 033621\t1353\t480355\tgbdt\tbinary\tcustom\tTRUE\tTRUE\tFALSE\tTRUE\t-100\t-1\t0\t0\t0\t31\t494\t1\t1\t1\t0.1\t50\t0.5\tFALSE\t100019\t0.196201849567587\t0.468144948326517\t4669\t1633\t0.000188674682997428\t16850\t18540000\t3\n",
      "20221019 033954\t1353\t480355\tgbdt\tbinary\tcustom\tTRUE\tTRUE\tFALSE\tTRUE\t-100\t-1\t0\t0\t0\t31\t282\t1\t1\t1\t0.1\t50\t0.5\tFALSE\t100019\t0.157647207469563\t0.210152825131081\t3270\t25\t0.0115698897281913\t15584\t21712000\t4\n",
      "20221019 035005\t1353\t480355\tgbdt\tbinary\tcustom\tTRUE\tTRUE\tFALSE\tTRUE\t-100\t-1\t0\t0\t0\t31\t1158\t1\t1\t1\t0.1\t50\t0.5\tFALSE\t100019\t0.11404815215159\t0.715388333261944\t3632\t1237\t2.86812709674891e-06\t17420\t19800000\t5\n",
      "20221019 035610\t1353\t480355\tgbdt\tbinary\tcustom\tTRUE\tTRUE\tFALSE\tTRUE\t-100\t-1\t0\t0\t0\t31\t251\t1\t1\t1\t0.1\t50\t0.5\tFALSE\t100019\t0.228980710022879\t0.546498525841162\t1362\t498\t4.33888636340522e-06\t16112\t19296000\t6\n",
      "20221019 035942\t1353\t480355\tgbdt\tbinary\tcustom\tTRUE\tTRUE\tFALSE\tTRUE\t-100\t-1\t0\t0\t0\t31\t229\t1\t1\t1\t0.1\t50\t0.5\tFALSE\t100019\t0.0521726443165244\t0.655734822992236\t6400\t235\t0.0153356451501784\t16073\t23054000\t7\n",
      "20221019 040227\t1353\t480355\tgbdt\tbinary\tcustom\tTRUE\tTRUE\tFALSE\tTRUE\t-100\t-1\t0\t0\t0\t31\t59\t1\t1\t1\t0.1\t50\t0.5\tFALSE\t100019\t0.281511791779703\t0.29116205542814\t1644\t1762\t0.00480335383990184\t14915\t21050000\t8\n",
      "20221019 041420\t1353\t480355\tgbdt\tbinary\tcustom\tTRUE\tTRUE\tFALSE\tTRUE\t-100\t-1\t0\t0\t0\t31\t1223\t1\t1\t1\t0.1\t50\t0.5\tFALSE\t100019\t0.0222057900639629\t0.986735903541557\t4423\t582\t0.00563580145481026\t16943\t20674000\t9\n",
      "20221019 041747\t1353\t480355\tgbdt\tbinary\tcustom\tTRUE\tTRUE\tFALSE\tTRUE\t-100\t-1\t0\t0\t0\t31\t69\t1\t1\t1\t0.1\t50\t0.5\tFALSE\t100019\t0.22468768139428\t0.843376077851281\t359\t1332\t0.000157820251697575\t14678\t21044000\t10\n",
      "20221019 042147\t1353\t480355\tgbdt\tbinary\tcustom\tTRUE\tTRUE\tFALSE\tTRUE\t-100\t-1\t0\t0\t0\t31\t103\t1\t1\t1\t0.1\t50\t0.5\tFALSE\t100019\t0.0846193204158044\t0.57326721114805\t7671\t1536\t0.0167245452562281\t15725\t23990000\t11\n",
      "20221019 042418\t1353\t480355\tgbdt\tbinary\tcustom\tTRUE\tTRUE\tFALSE\tTRUE\t-100\t-1\t0\t0\t0\t31\t37\t1\t1\t1\t0.1\t50\t0.5\tFALSE\t100019\t0.261899290994334\t0.365485216293018\t5596\t810\t0.0126142832853209\t18854\t18372000\t12\n",
      "20221019 044033\t1353\t480355\tgbdt\tbinary\tcustom\tTRUE\tTRUE\tFALSE\tTRUE\t-100\t-1\t0\t0\t0\t31\t1487\t1\t1\t1\t0.1\t50\t0.5\tFALSE\t100019\t0.0247292850228405\t0.774548587237951\t2322\t1938\t0.000726412463724085\t14847\t22306000\t13\n",
      "20221019 044234\t1353\t480355\tgbdt\tbinary\tcustom\tTRUE\tTRUE\tFALSE\tTRUE\t-100\t-1\t0\t0\t0\t31\t68\t1\t1\t1\t0.1\t50\t0.5\tFALSE\t100019\t0.171748876908387\t0.893685480533168\t6627\t365\t0.0165748860003132\t15812\t22456000\t14\n",
      "20221019 044534\t1353\t480355\tgbdt\tbinary\tcustom\tTRUE\tTRUE\tFALSE\tTRUE\t-100\t-1\t0\t0\t0\t31\t194\t1\t1\t1\t0.1\t50\t0.5\tFALSE\t100019\t0.29749188840804\t0.929483603592962\t5298\t1812\t0.00187506903254705\t15144\t20512000\t15\n",
      "20221019 045106\t1353\t480355\tgbdt\tbinary\tcustom\tTRUE\tTRUE\tFALSE\tTRUE\t-100\t-1\t0\t0\t0\t31\t254\t1\t1\t1\t0.1\t50\t0.5\tFALSE\t100019\t0.117246061760816\t0.316928046231624\t698\t762\t3.1546164804521e-05\t15857\t21246000\t16\n"
     ]
    },
    {
     "name": "stderr",
     "output_type": "stream",
     "text": [
      "[mbo] 0: learning_rate=0.0744; feature_fraction=0.612; min_data_in_leaf=7064; num_leaves=1088 : y = 2.14e+07 : 263.8 secs : initdesign\n",
      "\n",
      "[mbo] 0: learning_rate=0.149; feature_fraction=0.439; min_data_in_leaf=2582; num_leaves=958 : y = 2.44e+07 : 182.3 secs : initdesign\n",
      "\n",
      "[mbo] 0: learning_rate=0.196; feature_fraction=0.468; min_data_in_leaf=4669; num_leaves=1633 : y = 1.85e+07 : 476.1 secs : initdesign\n",
      "\n",
      "[mbo] 0: learning_rate=0.158; feature_fraction=0.21; min_data_in_leaf=3270; num_leaves=25 : y = 2.17e+07 : 212.7 secs : initdesign\n",
      "\n",
      "[mbo] 0: learning_rate=0.114; feature_fraction=0.715; min_data_in_leaf=3632; num_leaves=1237 : y = 1.98e+07 : 611.1 secs : initdesign\n",
      "\n",
      "[mbo] 0: learning_rate=0.229; feature_fraction=0.546; min_data_in_leaf=1362; num_leaves=498 : y = 1.93e+07 : 364.8 secs : initdesign\n",
      "\n",
      "[mbo] 0: learning_rate=0.0522; feature_fraction=0.656; min_data_in_leaf=6400; num_leaves=235 : y = 2.31e+07 : 212.0 secs : initdesign\n",
      "\n",
      "[mbo] 0: learning_rate=0.282; feature_fraction=0.291; min_data_in_leaf=1644; num_leaves=1762 : y = 2.1e+07 : 164.7 secs : initdesign\n",
      "\n",
      "[mbo] 0: learning_rate=0.0222; feature_fraction=0.987; min_data_in_leaf=4423; num_leaves=582 : y = 2.07e+07 : 713.2 secs : initdesign\n",
      "\n",
      "[mbo] 0: learning_rate=0.225; feature_fraction=0.843; min_data_in_leaf=359; num_leaves=1332 : y = 2.1e+07 : 207.2 secs : initdesign\n",
      "\n",
      "[mbo] 0: learning_rate=0.0846; feature_fraction=0.573; min_data_in_leaf=7671; num_leaves=1536 : y = 2.4e+07 : 239.6 secs : initdesign\n",
      "\n",
      "[mbo] 0: learning_rate=0.262; feature_fraction=0.365; min_data_in_leaf=5596; num_leaves=810 : y = 1.84e+07 : 151.2 secs : initdesign\n",
      "\n",
      "[mbo] 0: learning_rate=0.0247; feature_fraction=0.775; min_data_in_leaf=2322; num_leaves=1938 : y = 2.23e+07 : 975.3 secs : initdesign\n",
      "\n",
      "[mbo] 0: learning_rate=0.172; feature_fraction=0.894; min_data_in_leaf=6627; num_leaves=365 : y = 2.25e+07 : 121.2 secs : initdesign\n",
      "\n",
      "[mbo] 0: learning_rate=0.297; feature_fraction=0.929; min_data_in_leaf=5298; num_leaves=1812 : y = 2.05e+07 : 179.8 secs : initdesign\n",
      "\n",
      "[mbo] 0: learning_rate=0.117; feature_fraction=0.317; min_data_in_leaf=698; num_leaves=762 : y = 2.12e+07 : 331.9 secs : initdesign\n",
      "\n",
      "Saved the current state after iteration 1 in the file bayesiana.RDATA.\n",
      "\n"
     ]
    },
    {
     "name": "stdout",
     "output_type": "stream",
     "text": [
      "20221019 045543\t1353\t480355\tgbdt\tbinary\tcustom\tTRUE\tTRUE\tFALSE\tTRUE\t-100\t-1\t0\t0\t0\t31\t298\t1\t1\t1\t0.1\t50\t0.5\tFALSE\t100019\t0.221095154911371\t0.248567605368074\t2592\t453\t0.000159094290911654\t14503\t20034000\t17\n"
     ]
    },
    {
     "name": "stderr",
     "output_type": "stream",
     "text": [
      "[mbo] 1: learning_rate=0.221; feature_fraction=0.249; min_data_in_leaf=2592; num_leaves=453 : y = 2e+07 : 274.7 secs : infill_ei\n",
      "\n"
     ]
    },
    {
     "name": "stdout",
     "output_type": "stream",
     "text": [
      "20221019 050037\t1353\t480355\tgbdt\tbinary\tcustom\tTRUE\tTRUE\tFALSE\tTRUE\t-100\t-1\t0\t0\t0\t31\t599\t1\t1\t1\t0.1\t50\t0.5\tFALSE\t100019\t0.188435407984639\t0.997907903232612\t1227\t71\t0.00011934229454381\t14748\t20584000\t18\n"
     ]
    },
    {
     "name": "stderr",
     "output_type": "stream",
     "text": [
      "[mbo] 2: learning_rate=0.188; feature_fraction=0.998; min_data_in_leaf=1227; num_leaves=71 : y = 2.06e+07 : 293.8 secs : infill_ei\n",
      "\n"
     ]
    },
    {
     "name": "stdout",
     "output_type": "stream",
     "text": [
      "20221019 050917\t1353\t480355\tgbdt\tbinary\tcustom\tTRUE\tTRUE\tFALSE\tTRUE\t-100\t-1\t0\t0\t0\t31\t856\t1\t1\t1\t0.1\t50\t0.5\tFALSE\t100019\t0.116381164318195\t0.203015958664753\t2555\t1022\t8.12111879031193e-06\t17213\t19334000\t19\n"
     ]
    },
    {
     "name": "stderr",
     "output_type": "stream",
     "text": [
      "[mbo] 3: learning_rate=0.116; feature_fraction=0.203; min_data_in_leaf=2555; num_leaves=1022 : y = 1.93e+07 : 519.0 secs : infill_ei\n",
      "\n",
      "Saved the current state after iteration 4 in the file bayesiana.RDATA.\n",
      "\n"
     ]
    },
    {
     "name": "stdout",
     "output_type": "stream",
     "text": [
      "20221019 051148\t1353\t480355\tgbdt\tbinary\tcustom\tTRUE\tTRUE\tFALSE\tTRUE\t-100\t-1\t0\t0\t0\t31\t116\t1\t1\t1\t0.1\t50\t0.5\tFALSE\t100019\t0.255928923239046\t0.727738747585192\t4404\t2016\t0.00714297980313866\t13920\t2.2e+07\t20\n"
     ]
    },
    {
     "name": "stderr",
     "output_type": "stream",
     "text": [
      "[mbo] 4: learning_rate=0.256; feature_fraction=0.728; min_data_in_leaf=4404; num_leaves=2016 : y = 2.2e+07 : 149.6 secs : infill_ei\n",
      "\n"
     ]
    },
    {
     "name": "stdout",
     "output_type": "stream",
     "text": [
      "20221019 051401\t1353\t480355\tgbdt\tbinary\tcustom\tTRUE\tTRUE\tFALSE\tTRUE\t-100\t-1\t0\t0\t0\t31\t57\t1\t1\t1\t0.1\t50\t0.5\tFALSE\t100019\t0.169826519844349\t0.226512464584969\t7372\t711\t0.0146518045577932\t16171\t22058000\t21\n"
     ]
    },
    {
     "name": "stderr",
     "output_type": "stream",
     "text": [
      "[mbo] 5: learning_rate=0.17; feature_fraction=0.227; min_data_in_leaf=7372; num_leaves=711 : y = 2.21e+07 : 132.1 secs : infill_ei\n",
      "\n"
     ]
    },
    {
     "name": "stdout",
     "output_type": "stream",
     "text": [
      "20221019 051614\t1353\t480355\tgbdt\tbinary\tcustom\tTRUE\tTRUE\tFALSE\tTRUE\t-100\t-1\t0\t0\t0\t31\t83\t1\t1\t1\t0.1\t50\t0.5\tFALSE\t100019\t0.135102331150138\t0.847027216791175\t6740\t1125\t0.0164317199166924\t15660\t22520000\t22\n"
     ]
    },
    {
     "name": "stderr",
     "output_type": "stream",
     "text": [
      "[mbo] 6: learning_rate=0.135; feature_fraction=0.847; min_data_in_leaf=6740; num_leaves=1125 : y = 2.25e+07 : 132.6 secs : infill_ei\n",
      "\n"
     ]
    },
    {
     "name": "stdout",
     "output_type": "stream",
     "text": [
      "20221019 052239\t1353\t480355\tgbdt\tbinary\tcustom\tTRUE\tTRUE\tFALSE\tTRUE\t-100\t-1\t0\t0\t0\t31\t347\t1\t1\t1\t0.1\t50\t0.5\tFALSE\t100019\t0.199426223197695\t0.382154324879125\t135\t2044\t1.82728634450893e-07\t14716\t19448000\t23\n"
     ]
    },
    {
     "name": "stderr",
     "output_type": "stream",
     "text": [
      "[mbo] 7: learning_rate=0.199; feature_fraction=0.382; min_data_in_leaf=135; num_leaves=2044 : y = 1.94e+07 : 384.3 secs : infill_ei\n",
      "\n",
      "Saved the current state after iteration 8 in the file bayesiana.RDATA.\n",
      "\n"
     ]
    },
    {
     "name": "stdout",
     "output_type": "stream",
     "text": [
      "20221019 052700\t1353\t480355\tgbdt\tbinary\tcustom\tTRUE\tTRUE\tFALSE\tTRUE\t-100\t-1\t0\t0\t0\t31\t285\t1\t1\t1\t0.1\t50\t0.5\tFALSE\t100019\t0.257862879338703\t0.668173416866548\t2271\t1609\t1.40484269575093e-05\t15896\t19488000\t24\n"
     ]
    },
    {
     "name": "stderr",
     "output_type": "stream",
     "text": [
      "[mbo] 8: learning_rate=0.258; feature_fraction=0.668; min_data_in_leaf=2271; num_leaves=1609 : y = 1.95e+07 : 258.8 secs : infill_ei\n",
      "\n"
     ]
    },
    {
     "name": "stdout",
     "output_type": "stream",
     "text": [
      "20221019 054909\t1353\t480355\tgbdt\tbinary\tcustom\tTRUE\tTRUE\tFALSE\tTRUE\t-100\t-1\t0\t0\t0\t31\t1471\t1\t1\t1\t0.1\t50\t0.5\tFALSE\t100019\t0.0288105463889218\t0.753626911454275\t263\t1277\t6.14428626236354e-07\t14167\t23266000\t25\n"
     ]
    },
    {
     "name": "stderr",
     "output_type": "stream",
     "text": [
      "[mbo] 9: learning_rate=0.0288; feature_fraction=0.754; min_data_in_leaf=263; num_leaves=1277 : y = 2.33e+07 : 1329.1 secs : infill_ei\n",
      "\n",
      "Saved the current state after iteration 10 in the file bayesiana.RDATA.\n",
      "\n"
     ]
    },
    {
     "name": "stdout",
     "output_type": "stream",
     "text": [
      "20221019 055319\t1353\t480355\tgbdt\tbinary\tcustom\tTRUE\tTRUE\tFALSE\tTRUE\t-100\t-1\t0\t0\t0\t31\t220\t1\t1\t1\t0.1\t50\t0.5\tFALSE\t100019\t0.0703619062324974\t0.804993492499553\t2061\t1391\t0.00667141482859565\t14999\t21922000\t26\n"
     ]
    },
    {
     "name": "stderr",
     "output_type": "stream",
     "text": [
      "[mbo] 10: learning_rate=0.0704; feature_fraction=0.805; min_data_in_leaf=2061; num_leaves=1391 : y = 2.19e+07 : 248.4 secs : infill_ei\n",
      "\n"
     ]
    },
    {
     "name": "stdout",
     "output_type": "stream",
     "text": [
      "20221019 055638\t1353\t480355\tgbdt\tbinary\tcustom\tTRUE\tTRUE\tFALSE\tTRUE\t-100\t-1\t0\t0\t0\t31\t148\t1\t1\t1\t0.1\t50\t0.5\tFALSE\t100019\t0.269698321026228\t0.283794068685547\t3742\t611\t0.00260725156851019\t15461\t20038000\t27\n"
     ]
    },
    {
     "name": "stderr",
     "output_type": "stream",
     "text": [
      "[mbo] 11: learning_rate=0.27; feature_fraction=0.284; min_data_in_leaf=3742; num_leaves=611 : y = 2e+07 : 197.8 secs : infill_ei\n",
      "\n"
     ]
    },
    {
     "name": "stdout",
     "output_type": "stream",
     "text": [
      "20221019 055915\t1353\t480355\tgbdt\tbinary\tcustom\tTRUE\tTRUE\tFALSE\tTRUE\t-100\t-1\t0\t0\t0\t31\t110\t1\t1\t1\t0.1\t50\t0.5\tFALSE\t100019\t0.126755383487111\t0.729755120292679\t4515\t701\t0.0109414643428201\t17779\t20602000\t28\n"
     ]
    },
    {
     "name": "stderr",
     "output_type": "stream",
     "text": [
      "[mbo] 12: learning_rate=0.127; feature_fraction=0.73; min_data_in_leaf=4515; num_leaves=701 : y = 2.06e+07 : 156.7 secs : infill_ei\n",
      "\n",
      "Saved the current state after iteration 13 in the file bayesiana.RDATA.\n",
      "\n"
     ]
    },
    {
     "name": "stdout",
     "output_type": "stream",
     "text": [
      "20221019 061847\t1353\t480355\tgbdt\tbinary\tcustom\tTRUE\tTRUE\tFALSE\tTRUE\t-100\t-1\t0\t0\t0\t31\t2055\t1\t1\t1\t0.1\t50\t0.5\tFALSE\t100019\t0.00958816232581506\t0.618613854062557\t5468\t1483\t0.0153641055434583\t13812\t24696000\t29\n"
     ]
    },
    {
     "name": "stderr",
     "output_type": "stream",
     "text": [
      "[mbo] 13: learning_rate=0.00959; feature_fraction=0.619; min_data_in_leaf=5468; num_leaves=1483 : y = 2.47e+07 : 1169.9 secs : infill_ei\n",
      "\n",
      "Saved the current state after iteration 14 in the file bayesiana.RDATA.\n",
      "\n"
     ]
    },
    {
     "name": "stdout",
     "output_type": "stream",
     "text": [
      "20221019 062356\t1353\t480355\tgbdt\tbinary\tcustom\tTRUE\tTRUE\tFALSE\tTRUE\t-100\t-1\t0\t0\t0\t31\t487\t1\t1\t1\t0.1\t50\t0.5\tFALSE\t100019\t0.0357653376617213\t0.778004652667418\t6248\t2031\t0.0156439345100655\t14944\t23392000\t30\n"
     ]
    },
    {
     "name": "stderr",
     "output_type": "stream",
     "text": [
      "[mbo] 14: learning_rate=0.0358; feature_fraction=0.778; min_data_in_leaf=6248; num_leaves=2031 : y = 2.34e+07 : 307.4 secs : infill_ei\n",
      "\n"
     ]
    },
    {
     "name": "stdout",
     "output_type": "stream",
     "text": [
      "20221019 063554\t1353\t480355\tgbdt\tbinary\tcustom\tTRUE\tTRUE\tFALSE\tTRUE\t-100\t-1\t0\t0\t0\t31\t1270\t1\t1\t1\t0.1\t50\t0.5\tFALSE\t100019\t0.0152551658695038\t0.620694358704198\t4641\t1427\t0.0114292957040136\t15455\t22850000\t31\n"
     ]
    },
    {
     "name": "stderr",
     "output_type": "stream",
     "text": [
      "[mbo] 15: learning_rate=0.0153; feature_fraction=0.621; min_data_in_leaf=4641; num_leaves=1427 : y = 2.28e+07 : 716.9 secs : infill_ei\n",
      "\n",
      "Saved the current state after iteration 16 in the file bayesiana.RDATA.\n",
      "\n"
     ]
    },
    {
     "name": "stdout",
     "output_type": "stream",
     "text": [
      "20221019 070320\t1353\t480355\tgbdt\tbinary\tcustom\tTRUE\tTRUE\tFALSE\tTRUE\t-100\t-1\t0\t0\t0\t31\t3048\t1\t1\t1\t0.1\t50\t0.5\tFALSE\t100019\t0.00679975289684933\t0.773314260127904\t6427\t1534\t0.0179211368192512\t12967\t25106000\t32\n"
     ]
    },
    {
     "name": "stderr",
     "output_type": "stream",
     "text": [
      "[mbo] 16: learning_rate=0.0068; feature_fraction=0.773; min_data_in_leaf=6427; num_leaves=1534 : y = 2.51e+07 : 1644.4 secs : infill_ei\n",
      "\n",
      "Saved the current state after iteration 17 in the file bayesiana.RDATA.\n",
      "\n"
     ]
    },
    {
     "name": "stdout",
     "output_type": "stream",
     "text": [
      "20221019 075805\t1353\t480355\tgbdt\tbinary\tcustom\tTRUE\tTRUE\tFALSE\tTRUE\t-100\t-1\t0\t0\t0\t31\t5107\t1\t1\t1\t0.1\t50\t0.5\tFALSE\t100019\t0.00510931242061165\t0.326390272228018\t7379\t1522\t0.0104906099706557\t17829\t21222000\t33\n"
     ]
    },
    {
     "name": "stderr",
     "output_type": "stream",
     "text": [
      "[mbo] 17: learning_rate=0.00511; feature_fraction=0.326; min_data_in_leaf=7379; num_leaves=1522 : y = 2.12e+07 : 3282.5 secs : infill_ei\n",
      "\n",
      "Saved the current state after iteration 18 in the file bayesiana.RDATA.\n",
      "\n"
     ]
    },
    {
     "name": "stdout",
     "output_type": "stream",
     "text": [
      "20221019 081300\t1353\t480355\tgbdt\tbinary\tcustom\tTRUE\tTRUE\tFALSE\tTRUE\t-100\t-1\t0\t0\t0\t31\t1530\t1\t1\t1\t0.1\t50\t0.5\tFALSE\t100019\t0.00877683699503039\t0.752569459205144\t4225\t1510\t0.011916136640743\t16954\t22092000\t34\n"
     ]
    },
    {
     "name": "stderr",
     "output_type": "stream",
     "text": [
      "[mbo] 18: learning_rate=0.00878; feature_fraction=0.753; min_data_in_leaf=4225; num_leaves=1510 : y = 2.21e+07 : 893.0 secs : infill_ei\n",
      "\n",
      "Saved the current state after iteration 19 in the file bayesiana.RDATA.\n",
      "\n"
     ]
    },
    {
     "name": "stdout",
     "output_type": "stream",
     "text": [
      "20221019 084643\t1353\t480355\tgbdt\tbinary\tcustom\tTRUE\tTRUE\tFALSE\tTRUE\t-100\t-1\t0\t0\t0\t31\t2274\t1\t1\t1\t0.1\t50\t0.5\tFALSE\t100019\t0.00694785638749515\t0.537848903948627\t7517\t1550\t0.0139874684549327\t16786\t22988000\t35\n"
     ]
    },
    {
     "name": "stderr",
     "output_type": "stream",
     "text": [
      "[mbo] 19: learning_rate=0.00695; feature_fraction=0.538; min_data_in_leaf=7517; num_leaves=1550 : y = 2.3e+07 : 2020.5 secs : infill_ei\n",
      "\n",
      "Saved the current state after iteration 20 in the file bayesiana.RDATA.\n",
      "\n"
     ]
    },
    {
     "name": "stdout",
     "output_type": "stream",
     "text": [
      "20221019 085127\t1353\t480355\tgbdt\tbinary\tcustom\tTRUE\tTRUE\tFALSE\tTRUE\t-100\t-1\t0\t0\t0\t31\t279\t1\t1\t1\t0.1\t50\t0.5\tFALSE\t100019\t0.148918059128852\t0.760433381094021\t1556\t1111\t8.18068545600568e-05\t15337\t20606000\t36\n"
     ]
    },
    {
     "name": "stderr",
     "output_type": "stream",
     "text": [
      "[mbo] 20: learning_rate=0.149; feature_fraction=0.76; min_data_in_leaf=1556; num_leaves=1111 : y = 2.06e+07 : 281.5 secs : infill_ei\n",
      "\n"
     ]
    },
    {
     "name": "stdout",
     "output_type": "stream",
     "text": [
      "20221019 085935\t1353\t480355\tgbdt\tbinary\tcustom\tTRUE\tTRUE\tFALSE\tTRUE\t-100\t-1\t0\t0\t0\t31\t590\t1\t1\t1\t0.1\t50\t0.5\tFALSE\t100019\t0.0893264602155657\t0.969097073429264\t988\t1081\t1.37067748357354e-06\t16193\t20574000\t37\n"
     ]
    },
    {
     "name": "stderr",
     "output_type": "stream",
     "text": [
      "[mbo] 21: learning_rate=0.0893; feature_fraction=0.969; min_data_in_leaf=988; num_leaves=1081 : y = 2.06e+07 : 487.3 secs : infill_ei\n",
      "\n",
      "Saved the current state after iteration 22 in the file bayesiana.RDATA.\n",
      "\n"
     ]
    },
    {
     "name": "stdout",
     "output_type": "stream",
     "text": [
      "20221019 090650\t1353\t480355\tgbdt\tbinary\tcustom\tTRUE\tTRUE\tFALSE\tTRUE\t-100\t-1\t0\t0\t0\t31\t411\t1\t1\t1\t0.1\t50\t0.5\tFALSE\t100019\t0.27939678521727\t0.587954067696445\t3163\t1369\t4.88514262627072e-06\t15803\t19674000\t38\n"
     ]
    },
    {
     "name": "stderr",
     "output_type": "stream",
     "text": [
      "[mbo] 22: learning_rate=0.279; feature_fraction=0.588; min_data_in_leaf=3163; num_leaves=1369 : y = 1.97e+07 : 432.9 secs : infill_ei\n",
      "\n"
     ]
    },
    {
     "name": "stdout",
     "output_type": "stream",
     "text": [
      "20221019 091211\t1353\t480355\tgbdt\tbinary\tcustom\tTRUE\tTRUE\tFALSE\tTRUE\t-100\t-1\t0\t0\t0\t31\t378\t1\t1\t1\t0.1\t50\t0.5\tFALSE\t100019\t0.172657081268704\t0.230607351907156\t1427\t1383\t4.32035233815242e-06\t16471\t20098000\t39\n"
     ]
    },
    {
     "name": "stderr",
     "output_type": "stream",
     "text": [
      "[mbo] 23: learning_rate=0.173; feature_fraction=0.231; min_data_in_leaf=1427; num_leaves=1383 : y = 2.01e+07 : 320.8 secs : infill_ei\n",
      "\n",
      "Saved the current state after iteration 24 in the file bayesiana.RDATA.\n",
      "\n"
     ]
    },
    {
     "name": "stdout",
     "output_type": "stream",
     "text": [
      "20221019 091558\t1353\t480355\tgbdt\tbinary\tcustom\tTRUE\tTRUE\tFALSE\tTRUE\t-100\t-1\t0\t0\t0\t31\t252\t1\t1\t1\t0.1\t50\t0.5\tFALSE\t100019\t0.262490928610116\t0.218916609417275\t4102\t1421\t0.000938835990594592\t15073\t19614000\t40\n"
     ]
    },
    {
     "name": "stderr",
     "output_type": "stream",
     "text": [
      "[mbo] 24: learning_rate=0.262; feature_fraction=0.219; min_data_in_leaf=4102; num_leaves=1421 : y = 1.96e+07 : 225.3 secs : infill_ei\n",
      "\n"
     ]
    },
    {
     "name": "stdout",
     "output_type": "stream",
     "text": [
      "20221019 093726\t1353\t480355\tgbdt\tbinary\tcustom\tTRUE\tTRUE\tFALSE\tTRUE\t-100\t-1\t0\t0\t0\t31\t2413\t1\t1\t1\t0.1\t50\t0.5\tFALSE\t100019\t0.0543674122776499\t0.206620149758458\t1806\t1661\t4.1614710702849e-07\t15041\t20958000\t41\n"
     ]
    },
    {
     "name": "stderr",
     "output_type": "stream",
     "text": [
      "[mbo] 25: learning_rate=0.0544; feature_fraction=0.207; min_data_in_leaf=1806; num_leaves=1661 : y = 2.1e+07 : 1287.0 secs : infill_ei\n",
      "\n",
      "Saved the current state after iteration 26 in the file bayesiana.RDATA.\n",
      "\n"
     ]
    },
    {
     "name": "stdout",
     "output_type": "stream",
     "text": [
      "20221019 093954\t1353\t480355\tgbdt\tbinary\tcustom\tTRUE\tTRUE\tFALSE\tTRUE\t-100\t-1\t0\t0\t0\t31\t38\t1\t1\t1\t0.1\t50\t0.5\tFALSE\t100019\t0.167699947859827\t0.776605645638891\t1634\t1495\t0.014139094228023\t15773\t21814000\t42\n"
     ]
    },
    {
     "name": "stderr",
     "output_type": "stream",
     "text": [
      "[mbo] 26: learning_rate=0.168; feature_fraction=0.777; min_data_in_leaf=1634; num_leaves=1495 : y = 2.18e+07 : 146.2 secs : infill_ei\n",
      "\n"
     ]
    },
    {
     "name": "stdout",
     "output_type": "stream",
     "text": [
      "20221019 094426\t1353\t480355\tgbdt\tbinary\tcustom\tTRUE\tTRUE\tFALSE\tTRUE\t-100\t-1\t0\t0\t0\t31\t154\t1\t1\t1\t0.1\t50\t0.5\tFALSE\t100019\t0.0785160669077083\t0.581044979447126\t7685\t745\t0.0142850510649513\t17610\t21580000\t43\n"
     ]
    },
    {
     "name": "stderr",
     "output_type": "stream",
     "text": [
      "[mbo] 27: learning_rate=0.0785; feature_fraction=0.581; min_data_in_leaf=7685; num_leaves=745 : y = 2.16e+07 : 271.2 secs : infill_ei\n",
      "\n"
     ]
    },
    {
     "name": "stdout",
     "output_type": "stream",
     "text": [
      "20221019 095124\t1353\t480355\tgbdt\tbinary\tcustom\tTRUE\tTRUE\tFALSE\tTRUE\t-100\t-1\t0\t0\t0\t31\t274\t1\t1\t1\t0.1\t50\t0.5\tFALSE\t100019\t0.0225331749856391\t0.863723600271158\t1027\t1311\t0.0152695164697484\t13160\t25040000\t44\n"
     ]
    },
    {
     "name": "stderr",
     "output_type": "stream",
     "text": [
      "[mbo] 28: learning_rate=0.0225; feature_fraction=0.864; min_data_in_leaf=1027; num_leaves=1311 : y = 2.5e+07 : 417.7 secs : infill_ei\n",
      "\n",
      "Saved the current state after iteration 29 in the file bayesiana.RDATA.\n",
      "\n"
     ]
    },
    {
     "name": "stdout",
     "output_type": "stream",
     "text": [
      "20221019 095533\t1353\t480355\tgbdt\tbinary\tcustom\tTRUE\tTRUE\tFALSE\tTRUE\t-100\t-1\t0\t0\t0\t31\t347\t1\t1\t1\t0.1\t50\t0.5\tFALSE\t100019\t0.047781669574735\t0.793113620310091\t5716\t1522\t0.0179737095155638\t13418\t24284000\t45\n"
     ]
    },
    {
     "name": "stderr",
     "output_type": "stream",
     "text": [
      "[mbo] 29: learning_rate=0.0478; feature_fraction=0.793; min_data_in_leaf=5716; num_leaves=1522 : y = 2.43e+07 : 247.2 secs : infill_ei\n",
      "\n"
     ]
    },
    {
     "name": "stdout",
     "output_type": "stream",
     "text": [
      "20221019 095735\t1353\t480355\tgbdt\tbinary\tcustom\tTRUE\tTRUE\tFALSE\tTRUE\t-100\t-1\t0\t0\t0\t31\t77\t1\t1\t1\t0.1\t50\t0.5\tFALSE\t100019\t0.218208284831456\t0.702534255959839\t5959\t379\t0.0132321329400024\t16870\t19860000\t46\n"
     ]
    },
    {
     "name": "stderr",
     "output_type": "stream",
     "text": [
      "[mbo] 30: learning_rate=0.218; feature_fraction=0.703; min_data_in_leaf=5959; num_leaves=379 : y = 1.99e+07 : 121.0 secs : infill_ei\n",
      "\n"
     ]
    },
    {
     "name": "stdout",
     "output_type": "stream",
     "text": [
      "20221019 100341\t1353\t480355\tgbdt\tbinary\tcustom\tTRUE\tTRUE\tFALSE\tTRUE\t-100\t-1\t0\t0\t0\t31\t673\t1\t1\t1\t0.1\t50\t0.5\tFALSE\t100019\t0.230454278479181\t0.825496492193081\t190\t1378\t7.25602140111158e-08\t15142\t19396000\t47\n"
     ]
    },
    {
     "name": "stderr",
     "output_type": "stream",
     "text": [
      "[mbo] 31: learning_rate=0.23; feature_fraction=0.825; min_data_in_leaf=190; num_leaves=1378 : y = 1.94e+07 : 365.7 secs : infill_ei\n",
      "\n",
      "Saved the current state after iteration 32 in the file bayesiana.RDATA.\n",
      "\n"
     ]
    },
    {
     "name": "stdout",
     "output_type": "stream",
     "text": [
      "20221019 100814\t1353\t480355\tgbdt\tbinary\tcustom\tTRUE\tTRUE\tFALSE\tTRUE\t-100\t-1\t0\t0\t0\t31\t279\t1\t1\t1\t0.1\t50\t0.5\tFALSE\t100019\t0.124302348286377\t0.288650140102394\t5853\t93\t0.00875619247836172\t15182\t21396000\t48\n"
     ]
    },
    {
     "name": "stderr",
     "output_type": "stream",
     "text": [
      "[mbo] 32: learning_rate=0.124; feature_fraction=0.289; min_data_in_leaf=5853; num_leaves=93 : y = 2.14e+07 : 270.8 secs : infill_ei\n",
      "\n"
     ]
    },
    {
     "name": "stdout",
     "output_type": "stream",
     "text": [
      "20221019 101108\t1353\t480355\tgbdt\tbinary\tcustom\tTRUE\tTRUE\tFALSE\tTRUE\t-100\t-1\t0\t0\t0\t31\t43\t1\t1\t1\t0.1\t50\t0.5\tFALSE\t100019\t0.175707621747761\t0.468265998876095\t7709\t529\t0.0196307540928198\t14045\t24390000\t49\n"
     ]
    },
    {
     "name": "stderr",
     "output_type": "stream",
     "text": [
      "[mbo] 33: learning_rate=0.176; feature_fraction=0.468; min_data_in_leaf=7709; num_leaves=529 : y = 2.44e+07 : 173.4 secs : infill_ei\n",
      "\n"
     ]
    },
    {
     "name": "stdout",
     "output_type": "stream",
     "text": [
      "20221019 101349\t1353\t480355\tgbdt\tbinary\tcustom\tTRUE\tTRUE\tFALSE\tTRUE\t-100\t-1\t0\t0\t0\t31\t92\t1\t1\t1\t0.1\t50\t0.5\tFALSE\t100019\t0.133849336537629\t0.250366849085316\t5869\t321\t0.0129832021527455\t17625\t20510000\t50\n"
     ]
    },
    {
     "name": "stderr",
     "output_type": "stream",
     "text": [
      "[mbo] 34: learning_rate=0.134; feature_fraction=0.25; min_data_in_leaf=5869; num_leaves=321 : y = 2.05e+07 : 160.4 secs : infill_ei\n",
      "\n",
      "Saved the current state after iteration 35 in the file bayesiana.RDATA.\n",
      "\n"
     ]
    },
    {
     "name": "stdout",
     "output_type": "stream",
     "text": [
      "20221019 103123\t1353\t480355\tgbdt\tbinary\tcustom\tTRUE\tTRUE\tFALSE\tTRUE\t-100\t-1\t0\t0\t0\t31\t1602\t1\t1\t1\t0.1\t50\t0.5\tFALSE\t100019\t0.00741801759112976\t0.932697023215145\t2952\t187\t0.0100067847243115\t17258\t21004000\t51\n"
     ]
    },
    {
     "name": "stderr",
     "output_type": "stream",
     "text": [
      "[mbo] 35: learning_rate=0.00742; feature_fraction=0.933; min_data_in_leaf=2952; num_leaves=187 : y = 2.1e+07 : 1052.0 secs : infill_ei\n",
      "\n",
      "Saved the current state after iteration 36 in the file bayesiana.RDATA.\n",
      "\n"
     ]
    },
    {
     "name": "stdout",
     "output_type": "stream",
     "text": [
      "20221019 103411\t1353\t480355\tgbdt\tbinary\tcustom\tTRUE\tTRUE\tFALSE\tTRUE\t-100\t-1\t0\t0\t0\t31\t65\t1\t1\t1\t0.1\t50\t0.5\tFALSE\t100019\t0.204606044430006\t0.94827965365015\t1519\t320\t0.00434672556580049\t16620\t19320000\t52\n"
     ]
    },
    {
     "name": "stderr",
     "output_type": "stream",
     "text": [
      "[mbo] 36: learning_rate=0.205; feature_fraction=0.948; min_data_in_leaf=1519; num_leaves=320 : y = 1.93e+07 : 165.9 secs : infill_ei\n",
      "\n"
     ]
    },
    {
     "name": "stdout",
     "output_type": "stream",
     "text": [
      "20221019 103611\t1353\t480355\tgbdt\tbinary\tcustom\tTRUE\tTRUE\tFALSE\tTRUE\t-100\t-1\t0\t0\t0\t31\t60\t1\t1\t1\t0.1\t50\t0.5\tFALSE\t100019\t0.177240358257591\t0.658366340069473\t5296\t1939\t0.0152090278956475\t16285\t22070000\t53\n"
     ]
    },
    {
     "name": "stderr",
     "output_type": "stream",
     "text": [
      "[mbo] 37: learning_rate=0.177; feature_fraction=0.658; min_data_in_leaf=5296; num_leaves=1939 : y = 2.21e+07 : 120.0 secs : infill_ei\n",
      "\n"
     ]
    },
    {
     "name": "stdout",
     "output_type": "stream",
     "text": [
      "20221019 104116\t1353\t480355\tgbdt\tbinary\tcustom\tTRUE\tTRUE\tFALSE\tTRUE\t-100\t-1\t0\t0\t0\t31\t491\t1\t1\t1\t0.1\t50\t0.5\tFALSE\t100019\t0.274215222350078\t0.907000984611921\t4252\t1313\t1.37992023530296e-05\t14521\t19998000\t54\n"
     ]
    },
    {
     "name": "stderr",
     "output_type": "stream",
     "text": [
      "[mbo] 38: learning_rate=0.274; feature_fraction=0.907; min_data_in_leaf=4252; num_leaves=1313 : y = 2e+07 : 304.4 secs : infill_ei\n",
      "\n"
     ]
    },
    {
     "name": "stdout",
     "output_type": "stream",
     "text": [
      "20221019 104416\t1353\t480355\tgbdt\tbinary\tcustom\tTRUE\tTRUE\tFALSE\tTRUE\t-100\t-1\t0\t0\t0\t31\t110\t1\t1\t1\t0.1\t50\t0.5\tFALSE\t100019\t0.2436423019025\t0.262781816520728\t2370\t1634\t0.00194962162830647\t17802\t17276000\t55\n"
     ]
    },
    {
     "name": "stderr",
     "output_type": "stream",
     "text": [
      "[mbo] 39: learning_rate=0.244; feature_fraction=0.263; min_data_in_leaf=2370; num_leaves=1634 : y = 1.73e+07 : 179.1 secs : infill_ei\n",
      "\n",
      "Saved the current state after iteration 40 in the file bayesiana.RDATA.\n",
      "\n"
     ]
    },
    {
     "name": "stdout",
     "output_type": "stream",
     "text": [
      "20221019 104842\t1353\t480355\tgbdt\tbinary\tcustom\tTRUE\tTRUE\tFALSE\tTRUE\t-100\t-1\t0\t0\t0\t31\t205\t1\t1\t1\t0.1\t50\t0.5\tFALSE\t100019\t0.268117909955136\t0.327028696464188\t962\t1340\t1.49223775643836e-06\t16772\t17416000\t56\n"
     ]
    },
    {
     "name": "stderr",
     "output_type": "stream",
     "text": [
      "[mbo] 40: learning_rate=0.268; feature_fraction=0.327; min_data_in_leaf=962; num_leaves=1340 : y = 1.74e+07 : 263.2 secs : infill_ei\n",
      "\n"
     ]
    },
    {
     "name": "stdout",
     "output_type": "stream",
     "text": [
      "20221019 105333\t1353\t480355\tgbdt\tbinary\tcustom\tTRUE\tTRUE\tFALSE\tTRUE\t-100\t-1\t0\t0\t0\t31\t410\t1\t1\t1\t0.1\t50\t0.5\tFALSE\t100019\t0.0425322336449672\t0.993298913448863\t4717\t594\t0.0147111910177003\t13897\t23886000\t57\n"
     ]
    },
    {
     "name": "stderr",
     "output_type": "stream",
     "text": [
      "[mbo] 41: learning_rate=0.0425; feature_fraction=0.993; min_data_in_leaf=4717; num_leaves=594 : y = 2.39e+07 : 290.6 secs : infill_ei\n",
      "\n"
     ]
    },
    {
     "name": "stdout",
     "output_type": "stream",
     "text": [
      "20221019 105710\t1353\t480355\tgbdt\tbinary\tcustom\tTRUE\tTRUE\tFALSE\tTRUE\t-100\t-1\t0\t0\t0\t31\t104\t1\t1\t1\t0.1\t50\t0.5\tFALSE\t100019\t0.298171177874142\t0.494568683813512\t5825\t269\t0.00895920891853368\t15460\t20520000\t58\n"
     ]
    },
    {
     "name": "stderr",
     "output_type": "stream",
     "text": [
      "[mbo] 42: learning_rate=0.298; feature_fraction=0.495; min_data_in_leaf=5825; num_leaves=269 : y = 2.05e+07 : 217.3 secs : infill_ei\n",
      "\n",
      "Saved the current state after iteration 43 in the file bayesiana.RDATA.\n",
      "\n"
     ]
    },
    {
     "name": "stdout",
     "output_type": "stream",
     "text": [
      "20221019 110120\t1353\t480355\tgbdt\tbinary\tcustom\tTRUE\tTRUE\tFALSE\tTRUE\t-100\t-1\t0\t0\t0\t31\t74\t1\t1\t1\t0.1\t50\t0.5\tFALSE\t100019\t0.196767898372714\t0.455876919078268\t537\t1631\t0.000645901552731242\t14846\t21108000\t59\n"
     ]
    },
    {
     "name": "stderr",
     "output_type": "stream",
     "text": [
      "[mbo] 43: learning_rate=0.197; feature_fraction=0.456; min_data_in_leaf=537; num_leaves=1631 : y = 2.11e+07 : 247.5 secs : infill_ei\n",
      "\n"
     ]
    },
    {
     "name": "stdout",
     "output_type": "stream",
     "text": [
      "20221019 110834\t1353\t480355\tgbdt\tbinary\tcustom\tTRUE\tTRUE\tFALSE\tTRUE\t-100\t-1\t0\t0\t0\t31\t347\t1\t1\t1\t0.1\t50\t0.5\tFALSE\t100019\t0.0349866077382816\t0.431565944149159\t3520\t277\t0.0114873741179757\t17051\t21338000\t60\n"
     ]
    },
    {
     "name": "stderr",
     "output_type": "stream",
     "text": [
      "[mbo] 44: learning_rate=0.035; feature_fraction=0.432; min_data_in_leaf=3520; num_leaves=277 : y = 2.13e+07 : 433.0 secs : infill_ei\n",
      "\n",
      "Saved the current state after iteration 45 in the file bayesiana.RDATA.\n",
      "\n"
     ]
    },
    {
     "name": "stdout",
     "output_type": "stream",
     "text": [
      "20221019 111244\t1353\t480355\tgbdt\tbinary\tcustom\tTRUE\tTRUE\tFALSE\tTRUE\t-100\t-1\t0\t0\t0\t31\t352\t1\t1\t1\t0.1\t50\t0.5\tFALSE\t100019\t0.218962660076349\t0.619698362954706\t4687\t844\t0.00063355426553545\t14395\t20890000\t61\n"
     ]
    },
    {
     "name": "stderr",
     "output_type": "stream",
     "text": [
      "[mbo] 45: learning_rate=0.219; feature_fraction=0.62; min_data_in_leaf=4687; num_leaves=844 : y = 2.09e+07 : 248.3 secs : infill_ei\n",
      "\n"
     ]
    },
    {
     "name": "stdout",
     "output_type": "stream",
     "text": [
      "20221019 111502\t1353\t480355\tgbdt\tbinary\tcustom\tTRUE\tTRUE\tFALSE\tTRUE\t-100\t-1\t0\t0\t0\t31\t93\t1\t1\t1\t0.1\t50\t0.5\tFALSE\t100019\t0.173240920277911\t0.61323527580481\t7312\t1164\t0.0125895438389334\t18503\t18354000\t62\n"
     ]
    },
    {
     "name": "stderr",
     "output_type": "stream",
     "text": [
      "[mbo] 46: learning_rate=0.173; feature_fraction=0.613; min_data_in_leaf=7312; num_leaves=1164 : y = 1.84e+07 : 136.8 secs : infill_ei\n",
      "\n"
     ]
    },
    {
     "name": "stdout",
     "output_type": "stream",
     "text": [
      "20221019 111754\t1353\t480355\tgbdt\tbinary\tcustom\tTRUE\tTRUE\tFALSE\tTRUE\t-100\t-1\t0\t0\t0\t31\t70\t1\t1\t1\t0.1\t50\t0.5\tFALSE\t100019\t0.254740019124155\t0.753207390602306\t993\t1335\t0.0011454391857549\t15450\t19900000\t63\n"
     ]
    },
    {
     "name": "stderr",
     "output_type": "stream",
     "text": [
      "[mbo] 47: learning_rate=0.255; feature_fraction=0.753; min_data_in_leaf=993; num_leaves=1335 : y = 1.99e+07 : 171.7 secs : infill_ei\n",
      "\n"
     ]
    },
    {
     "name": "stdout",
     "output_type": "stream",
     "text": [
      "20221019 112128\t1353\t480355\tgbdt\tbinary\tcustom\tTRUE\tTRUE\tFALSE\tTRUE\t-100\t-1\t0\t0\t0\t31\t57\t1\t1\t1\t0.1\t50\t0.5\tFALSE\t100019\t0.220655714571013\t0.56149590298608\t2498\t485\t0.0114791294553566\t14896\t22208000\t64\n"
     ]
    },
    {
     "name": "stderr",
     "output_type": "stream",
     "text": [
      "[mbo] 48: learning_rate=0.221; feature_fraction=0.561; min_data_in_leaf=2498; num_leaves=485 : y = 2.22e+07 : 214.1 secs : infill_ei\n",
      "\n",
      "Saved the current state after iteration 49 in the file bayesiana.RDATA.\n",
      "\n"
     ]
    },
    {
     "name": "stdout",
     "output_type": "stream",
     "text": [
      "20221019 113523\t1353\t480355\tgbdt\tbinary\tcustom\tTRUE\tTRUE\tFALSE\tTRUE\t-100\t-1\t0\t0\t0\t31\t1084\t1\t1\t1\t0.1\t50\t0.5\tFALSE\t100019\t0.0833284193213133\t0.412770642417297\t4992\t652\t0.000527183964276349\t14748\t22584000\t65\n"
     ]
    },
    {
     "name": "stderr",
     "output_type": "stream",
     "text": [
      "[mbo] 49: learning_rate=0.0833; feature_fraction=0.413; min_data_in_leaf=4992; num_leaves=652 : y = 2.26e+07 : 832.7 secs : infill_ei\n",
      "\n",
      "Saved the current state after iteration 50 in the file bayesiana.RDATA.\n",
      "\n"
     ]
    },
    {
     "name": "stdout",
     "output_type": "stream",
     "text": [
      "20221019 114142\t1353\t480355\tgbdt\tbinary\tcustom\tTRUE\tTRUE\tFALSE\tTRUE\t-100\t-1\t0\t0\t0\t31\t258\t1\t1\t1\t0.1\t50\t0.5\tFALSE\t100019\t0.155012084714873\t0.462907090449519\t619\t695\t2.35533718614078e-06\t14928\t20624000\t66\n"
     ]
    },
    {
     "name": "stderr",
     "output_type": "stream",
     "text": [
      "[mbo] 50: learning_rate=0.155; feature_fraction=0.463; min_data_in_leaf=619; num_leaves=695 : y = 2.06e+07 : 375.9 secs : infill_ei\n",
      "\n",
      "Saved the final state in the file bayesiana.RDATA\n",
      "\n"
     ]
    }
   ],
   "source": [
    "#------------------------------------------------------------------------------\n",
    "#------------------------------------------------------------------------------\n",
    "#Aqui empieza el programa\n",
    "\n",
    "setwd(\"~/buckets/b1/\")\n",
    "kexp_input  <- kexperimento\n",
    "#cargo el dataset donde voy a entrenar\n",
    "#esta en la carpeta del exp_input y siempre se llama  dataset_training.csv.gz\n",
    "dataset_input  <- paste0( \"./exp/\", kexp_input, \"/dataset_training.csv.gz\" )\n",
    "dataset  <- fread( dataset_input )\n",
    "\n",
    "#Verificaciones\n",
    "if( ! (\"fold_train\"    %in% colnames(dataset) ) ) stop(\"Error, el dataset no tiene el campo fold_train \\n\")\n",
    "if( ! (\"fold_validate\" %in% colnames(dataset) ) ) stop(\"Error, el dataset no tiene el campo fold_validate \\n\")\n",
    "if( ! (\"fold_test\"     %in% colnames(dataset) ) ) stop(\"Error, el dataset no tiene el campo fold_test  \\n\")\n",
    "if( dataset[ fold_train==1, .N ] == 0 ) stop(\"Error, en el dataset no hay fold_train==1 \\n\")\n",
    "\n",
    "#creo la carpeta donde va el experimento\n",
    "dir.create( paste0( \"./exp/\", kexperimento, \"/\"), showWarnings = FALSE )\n",
    "setwd(paste0( \"./exp/\", kexperimento, \"/\"))   #Establezco el Working Directory DEL EXPERIMENTO\n",
    "\n",
    "cat( kexp_input,\n",
    "     file= \"TrainingStrategy.txt\",\n",
    "     append= FALSE )\n",
    "\n",
    "#defino la clase binaria clase01\n",
    "dataset[  , clase01 := ifelse( clase_ternaria==\"CONTINUA\", 0L, 1L ) ]\n",
    "\n",
    "\n",
    "#los campos que se pueden utilizar para la prediccion\n",
    "campos_buenos  <- setdiff( copy(colnames( dataset )), c( \"clase01\", \"clase_ternaria\", \"fold_train\", \"fold_validate\", \"fold_test\" ) )\n",
    "\n",
    "#la particion de train siempre va\n",
    "dtrain  <- lgb.Dataset( data=    data.matrix( dataset[ fold_train==1, campos_buenos, with=FALSE] ),\n",
    "                        label=   dataset[ fold_train==1, clase01 ],\n",
    "                        weight=  dataset[ fold_train==1, ifelse( clase_ternaria == \"BAJA+2\", 1.0000001, 1.0) ],\n",
    "                        free_raw_data= FALSE\n",
    "                      )\n",
    "\n",
    "\n",
    "kvalidate  <- FALSE\n",
    "ktest  <- FALSE\n",
    "kcrossvalidation  <- TRUE\n",
    "\n",
    "#Si hay que hacer validacion\n",
    "if( dataset[ fold_train==0 & fold_test==0 & fold_validate==1, .N ] > 0 )\n",
    "{\n",
    "  kcrossvalidation  <- FALSE\n",
    "  kvalidate  <- TRUE\n",
    "  dvalidate  <- lgb.Dataset( data=  data.matrix( dataset[ fold_validate==1, campos_buenos, with=FALSE] ),\n",
    "                             label= dataset[ fold_validate==1, clase01 ],\n",
    "                             free_raw_data= FALSE  )\n",
    "\n",
    "}\n",
    "\n",
    "#Si hay que hacer testing\n",
    "if( dataset[ fold_train==0 & fold_validate==0 & fold_test==1, .N ] > 0 )\n",
    "{\n",
    "  ktest  <- TRUE\n",
    "  kcrossvalidation  <- FALSE\n",
    "  dataset_test  <- dataset[ fold_test== 1 ]\n",
    "}\n",
    "\n",
    "\n",
    "#Si hay testing, sin validation,  STOP !!\n",
    "if( kvalidate== FALSE & ktest== TRUE ) stop(\"Error, si hay testing, debe haber validation \\n\") \n",
    "\n",
    "\n",
    "rm( dataset )\n",
    "gc()\n",
    "\n",
    "\n",
    "#si ya existe el archivo log, traigo hasta donde procese\n",
    "if( file.exists( \"BO_log.txt\" ) )\n",
    "{\n",
    "  tabla_log  <- fread( \"BO_log.txt\" )\n",
    "  GLOBAL_iteracion  <- nrow( tabla_log )\n",
    "  GLOBAL_ganancia   <- tabla_log[ , max(ganancia) ]\n",
    "  rm(tabla_log)\n",
    "} else  {\n",
    "  GLOBAL_iteracion  <- 0\n",
    "  GLOBAL_ganancia   <- -Inf\n",
    "}\n",
    "\n",
    "\n",
    "#Aqui comienza la configuracion de mlrMBO\n",
    "\n",
    "#deobo hacer cross validation o  Train/Validate/Test\n",
    "if( kcrossvalidation ) {\n",
    "  funcion_optimizar  <- EstimarGanancia_lightgbmCV\n",
    "} else {\n",
    "  funcion_optimizar  <- EstimarGanancia_lightgbm\n",
    "}\n",
    "\n",
    "\n",
    "configureMlr( show.learner.output= FALSE)\n",
    "\n",
    "#configuro la busqueda bayesiana,  los hiperparametros que se van a optimizar\n",
    "#por favor, no desesperarse por lo complejo\n",
    "obj.fun  <- makeSingleObjectiveFunction(\n",
    "              fn=       funcion_optimizar, #la funcion que voy a maximizar\n",
    "              minimize= FALSE,   #estoy Maximizando la ganancia\n",
    "              noisy=    TRUE,\n",
    "              par.set=  hs,     #definido al comienzo del programa\n",
    "              has.simple.signature = FALSE   #paso los parametros en una lista\n",
    "             )\n",
    "\n",
    "#archivo donde se graba y cada cuantos segundos\n",
    "ctrl  <- makeMBOControl( save.on.disk.at.time= 600,  \n",
    "                         save.file.path=       \"bayesiana.RDATA\" )\n",
    "                         \n",
    "ctrl  <- setMBOControlTermination( ctrl, \n",
    "                                   iters= kBO_iteraciones )   #cantidad de iteraciones\n",
    "                                   \n",
    "ctrl  <- setMBOControlInfill(ctrl, crit= makeMBOInfillCritEI() )\n",
    "\n",
    "#establezco la funcion que busca el maximo\n",
    "surr.km  <- makeLearner(\"regr.km\",\n",
    "                        predict.type= \"se\",\n",
    "                        covtype= \"matern3_2\",\n",
    "                        control= list(trace= TRUE) )\n",
    "\n",
    "\n",
    "\n",
    "#Aqui inicio la optimizacion bayesiana\n",
    "if( !file.exists( \"bayesiana.RDATA\" ) ) {\n",
    "\n",
    "  run  <- mbo(obj.fun, learner= surr.km, control= ctrl)\n",
    "\n",
    "} else {\n",
    "  #si ya existe el archivo RDATA, debo continuar desde el punto hasta donde llegue\n",
    "  #  usado para cuando se corta la virtual machine\n",
    "  run  <- mboContinue( \"bayesiana.RDATA\" )   #retomo en caso que ya exista\n",
    "}"
   ]
  }
 ],
 "metadata": {
  "kernelspec": {
   "display_name": "R",
   "language": "R",
   "name": "ir"
  },
  "language_info": {
   "codemirror_mode": "r",
   "file_extension": ".r",
   "mimetype": "text/x-r-source",
   "name": "R",
   "pygments_lexer": "r",
   "version": "4.2.1"
  }
 },
 "nbformat": 4,
 "nbformat_minor": 5
}
