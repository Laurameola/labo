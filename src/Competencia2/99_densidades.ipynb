{
 "cells": [
  {
   "cell_type": "code",
   "execution_count": 40,
   "id": "4360d714-798c-4fbe-8233-f6a441e27406",
   "metadata": {},
   "outputs": [
    {
     "data": {
      "text/html": [
       "<table class=\"dataframe\">\n",
       "<caption>A matrix: 2 × 6 of type dbl</caption>\n",
       "<thead>\n",
       "\t<tr><th></th><th scope=col>used</th><th scope=col>(Mb)</th><th scope=col>gc trigger</th><th scope=col>(Mb)</th><th scope=col>max used</th><th scope=col>(Mb)</th></tr>\n",
       "</thead>\n",
       "<tbody>\n",
       "\t<tr><th scope=row>Ncells</th><td>1881015</td><td>100.5</td><td>   3463728</td><td> 185.0</td><td>   3330034</td><td>  177.9</td></tr>\n",
       "\t<tr><th scope=row>Vcells</th><td>3366675</td><td> 25.7</td><td>1005865578</td><td>7674.2</td><td>1455372754</td><td>11103.7</td></tr>\n",
       "</tbody>\n",
       "</table>\n"
      ],
      "text/latex": [
       "A matrix: 2 × 6 of type dbl\n",
       "\\begin{tabular}{r|llllll}\n",
       "  & used & (Mb) & gc trigger & (Mb) & max used & (Mb)\\\\\n",
       "\\hline\n",
       "\tNcells & 1881015 & 100.5 &    3463728 &  185.0 &    3330034 &   177.9\\\\\n",
       "\tVcells & 3366675 &  25.7 & 1005865578 & 7674.2 & 1455372754 & 11103.7\\\\\n",
       "\\end{tabular}\n"
      ],
      "text/markdown": [
       "\n",
       "A matrix: 2 × 6 of type dbl\n",
       "\n",
       "| <!--/--> | used | (Mb) | gc trigger | (Mb) | max used | (Mb) |\n",
       "|---|---|---|---|---|---|---|\n",
       "| Ncells | 1881015 | 100.5 |    3463728 |  185.0 |    3330034 |   177.9 |\n",
       "| Vcells | 3366675 |  25.7 | 1005865578 | 7674.2 | 1455372754 | 11103.7 |\n",
       "\n"
      ],
      "text/plain": [
       "       used    (Mb)  gc trigger (Mb)   max used   (Mb)   \n",
       "Ncells 1881015 100.5    3463728  185.0    3330034   177.9\n",
       "Vcells 3366675  25.7 1005865578 7674.2 1455372754 11103.7"
      ]
     },
     "metadata": {},
     "output_type": "display_data"
    }
   ],
   "source": [
    "#limpio la memoria\n",
    "rm( list=ls() )  #remove all objects\n",
    "gc()             #garbage collection\n",
    "\n",
    "require(\"data.table\")\n",
    "require(\"scales\")\n",
    "require(\"lightgbm\")"
   ]
  },
  {
   "cell_type": "code",
   "execution_count": 41,
   "id": "82178bb1-15cd-4b5b-8b30-1d0b074605ff",
   "metadata": {},
   "outputs": [],
   "source": [
    "#Parametros del script\n",
    "#setwd(\"C:/_MCD/Labo1/code\")  #Establezco el Working Directory\n",
    "setwd(\"~/buckets/b1/\")\n",
    "\n",
    "#cargo el dataset\n",
    "dataset  <- fread(\"./datasets/c2_reparacNA_fe_inicial_deflacion.csv.gz\")   #donde entreno# FIN Parametros del script\n",
    "nombre_base_pdf <- \"densidades\""
   ]
  },
  {
   "cell_type": "code",
   "execution_count": 42,
   "id": "0d097741-d9fd-4c67-bc21-5b2d630d4122",
   "metadata": {},
   "outputs": [],
   "source": [
    "kexperimento <- \"comp2-EDA\"\n",
    "#creo la carpeta donde va el experimento\n",
    "dir.create( paste0( \"./exp/\", kexperimento, \"/\"), showWarnings = FALSE )\n",
    "setwd(paste0( \"./exp/\", kexperimento, \"/\"))   #Establezco el Working Directory DEL EXPERIMENTO\n"
   ]
  },
  {
   "cell_type": "code",
   "execution_count": 43,
   "id": "9a1716ad-4cb3-4d67-828d-33e3ded916ba",
   "metadata": {},
   "outputs": [],
   "source": [
    "#creo la clase_binaria SI={ BAJA+1, BAJA+2 }    NO={ CONTINUA }\n",
    "dataset[ foto_mes<=202103, \n",
    "         clase01 :=  ifelse( clase_ternaria==\"CONTINUA\", 0, 1 ) ]\n",
    "\n",
    "dataset[  , foto_mes := as.character( foto_mes ) ]"
   ]
  },
  {
   "cell_type": "code",
   "execution_count": 44,
   "id": "29c59012-2bfb-43ff-b1c8-b1c7754ec81c",
   "metadata": {},
   "outputs": [],
   "source": [
    "#campos_ordenados <- c(\"ctrx_quarter\",\"mcuentas_saldo\",\"mcaja_ahorro\", \"mcuenta_corriente\",\"cpayroll_trx\",\"mpayroll\",\"mprestamos_personales\",\"cprestamos_personales\",\"mpasivos_margen\",\"mrentabilidad\",\"mrentabilidad_annual\",\"mcomisiones_mantenimiento\",\"mactivos_margen\",\"cliente_edad\",\"mtarjeta_visa_consumo\",\"ctarjeta_visa_transacciones\",\"Master_Fvencimiento\",\"Master_fechaalta\",\"Visa_Fvencimiento\",\"Visa_fechaalta\",\"ctarjeta_visa_transacciones\")\n",
    "campos_ordenados <- c(\"ctrx_quarter_normalizado\",\"mcuentas_saldo\",\"mcaja_ahorro\", \"mcuenta_corriente\",\"cpayroll_trx\",\"mpayroll\",\"mprestamos_personales\",\"cprestamos_personales\",\"mpasivos_margen\",\"mrentabilidad\",\"mrentabilidad_annual\",\"mcomisiones_mantenimiento\",\"mactivos_margen\",\"cliente_edad\",\"mtarjeta_visa_consumo\",\"ctarjeta_visa_transacciones\",\"Master_Fvencimiento\",\"Master_fechaalta\",\"Visa_Fvencimiento\",\"Visa_fechaalta\",\"ctarjeta_visa_transacciones\")\n"
   ]
  },
  {
   "cell_type": "code",
   "execution_count": 45,
   "id": "0a72879e-b7a8-4023-b5af-946cde0cf6c3",
   "metadata": {},
   "outputs": [],
   "source": [
    "meses  <- c(\"202010\",\"202011\",\"202012\",\"202101\", \"202102\", \"202103\",\"202104\", \"202105\")\n",
    "\n",
    "GLOBAL_colores <-  viridis_pal()(length(meses))"
   ]
  },
  {
   "cell_type": "code",
   "execution_count": 46,
   "id": "c3430404-6afe-4a61-887b-358f89593a17",
   "metadata": {},
   "outputs": [],
   "source": [
    "graficar_campo  <- function( campo, periodos_analisis )\n",
    "{\n",
    "\n",
    "  #quito de grafico las colas del 5% de las densidades\n",
    "\n",
    "  tb_quantiles  <- data.table( qmin= numeric(),  qmax= numeric() )\n",
    "\n",
    "  for( periodo in periodos_analisis )\n",
    "  {\n",
    "    qu  <- quantile(  dataset[ foto_mes==periodo , get(campo) ] , prob= c(0.05, 0.95), na.rm=TRUE )\n",
    "    tb_quantiles  <- rbind( tb_quantiles, use.names=FALSE, as.list(qu) )\n",
    "  }\n",
    "\n",
    "  xxmin  <- tb_quantiles[ , min( qmin ) ]\n",
    "  xxmax  <- tb_quantiles[ , max( qmax ) ]\n",
    "\n",
    "  yymax  <- 0\n",
    "  for( per in periodos_analisis )\n",
    "  {\n",
    "    den  <- density( dataset[ foto_mes==per, get(campo) ],\n",
    "                     kernel=\"gaussian\", na.rm=TRUE )\n",
    "\n",
    "    mayor  <- max( den$y )\n",
    "    if( mayor > yymax ) yymax <- mayor \n",
    "  }\n",
    "\n",
    "  densidad_A  <- density( dataset[ foto_mes==periodos_analisis[1], get(campo) ],\n",
    "                          kernel=\"gaussian\", na.rm=TRUE )\n",
    "\n",
    "\n",
    "  plot( densidad_A,\n",
    "        col= GLOBAL_colores[1],\n",
    "        xlim= c( xxmin, xxmax ),\n",
    "        ylim= c( 0, yymax ),\n",
    "        main= paste0( campo  ) \n",
    "      )\n",
    "\n",
    "  for( per in 2:length(periodos_analisis) )\n",
    "  {\n",
    "    densidad_B  <- density( dataset[ foto_mes==periodos_analisis[ per ], get(campo) ],\n",
    "                            kernel=\"gaussian\", na.rm=TRUE )\n",
    "\n",
    "    lines(densidad_B, col= GLOBAL_colores[per], lty=1)\n",
    "  }\n",
    "  \n",
    "  legend(  \"topright\",  \n",
    "           legend= periodos_analisis,\n",
    "           col=GLOBAL_colores, lty=1 )\n",
    "\n",
    "}"
   ]
  },
  {
   "cell_type": "code",
   "execution_count": 47,
   "id": "8b159a7c-dc63-4305-a37f-66e6677c0a12",
   "metadata": {},
   "outputs": [
    {
     "name": "stdout",
     "output_type": "stream",
     "text": [
      "ctrx_quarter_normalizado   mcuentas_saldo   mcaja_ahorro   mcuenta_corriente   cpayroll_trx   mpayroll   mprestamos_personales   cprestamos_personales   mpasivos_margen   mrentabilidad   mrentabilidad_annual   mcomisiones_mantenimiento   mactivos_margen   cliente_edad   mtarjeta_visa_consumo   ctarjeta_visa_transacciones   Master_Fvencimiento   Master_fechaalta   Visa_Fvencimiento   Visa_fechaalta   ctarjeta_visa_transacciones   "
     ]
    },
    {
     "data": {
      "text/html": [
       "<strong>png:</strong> 2"
      ],
      "text/latex": [
       "\\textbf{png:} 2"
      ],
      "text/markdown": [
       "**png:** 2"
      ],
      "text/plain": [
       "png \n",
       "  2 "
      ]
     },
     "metadata": {},
     "output_type": "display_data"
    }
   ],
   "source": [
    "pdf(paste0(nombre_base_pdf,\"_desde202010.pdf\"))\n",
    "\n",
    "for( campo in  campos_ordenados )\n",
    "{\n",
    "  cat( campo, \"  \" )\n",
    "\n",
    "  graficar_campo( campo, meses )\n",
    "}\n",
    "\n",
    "dev.off()"
   ]
  },
  {
   "cell_type": "code",
   "execution_count": 48,
   "id": "9de2da2d-35ce-4124-b301-f2044590237f",
   "metadata": {},
   "outputs": [
    {
     "data": {
      "image/png": "[encoded data removed]",
      "text/plain": [
       "Plot with title “Master_Fvencimiento”"
      ]
     },
     "metadata": {
      "image/png": {
       "height": 420,
       "width": 420
      }
     },
     "output_type": "display_data"
    }
   ],
   "source": [
    "densidad_A  <- density( dataset[ foto_mes==\"202012\", get(\"Master_Fvencimiento\" )],\n",
    "                          kernel=\"gaussian\", na.rm=TRUE )\n",
    "\n",
    "\n",
    "  plot( densidad_A,\n",
    "        \n",
    "        main= \"Master_Fvencimiento\"\n",
    "      )\n"
   ]
  }
 ],
 "metadata": {
  "kernelspec": {
   "display_name": "R",
   "language": "R",
   "name": "ir"
  },
  "language_info": {
   "codemirror_mode": "r",
   "file_extension": ".r",
   "mimetype": "text/x-r-source",
   "name": "R",
   "pygments_lexer": "r",
   "version": "4.2.1"
  }
 },
 "nbformat": 4,
 "nbformat_minor": 5
}
