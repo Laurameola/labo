{
 "cells": [
  {
   "cell_type": "code",
   "execution_count": 1,
   "id": "4360d714-798c-4fbe-8233-f6a441e27406",
   "metadata": {},
   "outputs": [
    {
     "data": {
      "text/html": [
       "<table class=\"dataframe\">\n",
       "<caption>A matrix: 2 × 6 of type dbl</caption>\n",
       "<thead>\n",
       "\t<tr><th></th><th scope=col>used</th><th scope=col>(Mb)</th><th scope=col>gc trigger</th><th scope=col>(Mb)</th><th scope=col>max used</th><th scope=col>(Mb)</th></tr>\n",
       "</thead>\n",
       "<tbody>\n",
       "\t<tr><th scope=row>Ncells</th><td> 613895</td><td>32.8</td><td>1330087</td><td>71.1</td><td>1171448</td><td>62.6</td></tr>\n",
       "\t<tr><th scope=row>Vcells</th><td>1149448</td><td> 8.8</td><td>8388608</td><td>64.0</td><td>1801055</td><td>13.8</td></tr>\n",
       "</tbody>\n",
       "</table>\n"
      ],
      "text/latex": [
       "A matrix: 2 × 6 of type dbl\n",
       "\\begin{tabular}{r|llllll}\n",
       "  & used & (Mb) & gc trigger & (Mb) & max used & (Mb)\\\\\n",
       "\\hline\n",
       "\tNcells &  613895 & 32.8 & 1330087 & 71.1 & 1171448 & 62.6\\\\\n",
       "\tVcells & 1149448 &  8.8 & 8388608 & 64.0 & 1801055 & 13.8\\\\\n",
       "\\end{tabular}\n"
      ],
      "text/markdown": [
       "\n",
       "A matrix: 2 × 6 of type dbl\n",
       "\n",
       "| <!--/--> | used | (Mb) | gc trigger | (Mb) | max used | (Mb) |\n",
       "|---|---|---|---|---|---|---|\n",
       "| Ncells |  613895 | 32.8 | 1330087 | 71.1 | 1171448 | 62.6 |\n",
       "| Vcells | 1149448 |  8.8 | 8388608 | 64.0 | 1801055 | 13.8 |\n",
       "\n"
      ],
      "text/plain": [
       "       used    (Mb) gc trigger (Mb) max used (Mb)\n",
       "Ncells  613895 32.8 1330087    71.1 1171448  62.6\n",
       "Vcells 1149448  8.8 8388608    64.0 1801055  13.8"
      ]
     },
     "metadata": {},
     "output_type": "display_data"
    },
    {
     "name": "stderr",
     "output_type": "stream",
     "text": [
      "Loading required package: data.table\n",
      "\n",
      "Loading required package: scales\n",
      "\n",
      "Loading required package: lightgbm\n",
      "\n"
     ]
    }
   ],
   "source": [
    "#limpio la memoria\n",
    "rm( list=ls() )  #remove all objects\n",
    "gc()             #garbage collection\n",
    "\n",
    "require(\"data.table\")\n",
    "require(\"scales\")\n",
    "require(\"lightgbm\")"
   ]
  },
  {
   "cell_type": "code",
   "execution_count": 2,
   "id": "82178bb1-15cd-4b5b-8b30-1d0b074605ff",
   "metadata": {},
   "outputs": [],
   "source": [
    "#Parametros del script\n",
    "#setwd(\"C:/_MCD/Labo1/code\")  #Establezco el Working Directory\n",
    "setwd(\"~/buckets/b1/\")\n",
    "\n",
    "#cargo el dataset\n",
    "dataset  <- fread(\"./datasets/c2_reparacEstad_fe_inicial_rank0fijo.csv.gz\")   #donde entreno# FIN Parametros del script\n",
    "nombre_base_pdf <- \"densidades_reparacEstad_fe_inicial_rank0fijo\""
   ]
  },
  {
   "cell_type": "code",
   "execution_count": 3,
   "id": "0d097741-d9fd-4c67-bc21-5b2d630d4122",
   "metadata": {},
   "outputs": [],
   "source": [
    "kexperimento <- \"comp2-EDA\"\n",
    "#creo la carpeta donde va el experimento\n",
    "dir.create( paste0( \"./exp/\", kexperimento, \"/\"), showWarnings = FALSE )\n",
    "setwd(paste0( \"./exp/\", kexperimento, \"/\"))   #Establezco el Working Directory DEL EXPERIMENTO\n"
   ]
  },
  {
   "cell_type": "code",
   "execution_count": 4,
   "id": "9a1716ad-4cb3-4d67-828d-33e3ded916ba",
   "metadata": {},
   "outputs": [],
   "source": [
    "#creo la clase_binaria SI={ BAJA+1, BAJA+2 }    NO={ CONTINUA }\n",
    "dataset[ foto_mes<=202103, \n",
    "         clase01 :=  ifelse( clase_ternaria==\"CONTINUA\", 0, 1 ) ]\n",
    "\n",
    "dataset[  , foto_mes := as.character( foto_mes ) ]"
   ]
  },
  {
   "cell_type": "code",
   "execution_count": 5,
   "id": "29c59012-2bfb-43ff-b1c8-b1c7754ec81c",
   "metadata": {},
   "outputs": [],
   "source": [
    "campos_ordenados <- setdiff( colnames( dataset), \n",
    "                           c(\"numero_de_cliente\",\"foto_mes\",\"clase_ternaria\" ) )\n"
   ]
  },
  {
   "cell_type": "code",
   "execution_count": 6,
   "id": "0a72879e-b7a8-4023-b5af-946cde0cf6c3",
   "metadata": {},
   "outputs": [],
   "source": [
    "v_2019  <- c(\"201901\",\"201902\",\"201903\",\"201904\",\"201905\",\"201906\",\"201907\",\"201908\",\"201909\",\"201910\",\"201911\",\"201912\")\n",
    "v_2020  <- c(\"202001\",\"202002\",\"202003\",\"202004\",\"202005\",\"202006\",\"202007\",\"202008\",\"202009\",\"202010\",\"202011\",\"202012\")\n",
    "v_2021  <- c(\"202101\", \"202102\", \"202103\",\"202104\", \"202105\")\n",
    "\n",
    "GLOBAL_colores <-  viridis_pal()(length(v_2019)+length(v_2020)+length(v_2021) )"
   ]
  },
  {
   "cell_type": "code",
   "execution_count": 7,
   "id": "c3430404-6afe-4a61-887b-358f89593a17",
   "metadata": {},
   "outputs": [],
   "source": [
    "graficar_campo  <- function( campo, periodos_analisis )\n",
    "{\n",
    "\n",
    "  #quito de grafico las colas del 5% de las densidades\n",
    "\n",
    "  tb_quantiles  <- data.table( qmin= numeric(),  qmax= numeric() )\n",
    "\n",
    "  for( periodo in periodos_analisis )\n",
    "  {\n",
    "    qu  <- quantile(  dataset[ foto_mes==periodo , get(campo) ] , prob= c(0.05, 0.95), na.rm=TRUE )\n",
    "    tb_quantiles  <- rbind( tb_quantiles, use.names=FALSE, as.list(qu) )\n",
    "  }\n",
    "\n",
    "  xxmin  <- tb_quantiles[ , min( qmin ) ]\n",
    "  xxmax  <- tb_quantiles[ , max( qmax ) ]\n",
    "\n",
    "  yymax  <- 0\n",
    "  for( per in periodos_analisis )\n",
    "  {\n",
    "    den  <- density( dataset[ foto_mes==per, get(campo) ],\n",
    "                     kernel=\"gaussian\", na.rm=TRUE )\n",
    "\n",
    "    mayor  <- max( den$y )\n",
    "    if( mayor > yymax ) yymax <- mayor \n",
    "  }\n",
    "\n",
    "  densidad_A  <- density( dataset[ foto_mes==periodos_analisis[1], get(campo) ],\n",
    "                          kernel=\"gaussian\", na.rm=TRUE )\n",
    "\n",
    "\n",
    "  plot( densidad_A,\n",
    "        col= GLOBAL_colores[1],\n",
    "        xlim= c( xxmin, xxmax ),\n",
    "        ylim= c( 0, yymax ),\n",
    "        main= paste0( campo  ) \n",
    "      )\n",
    "\n",
    "  for( per in 2:length(periodos_analisis) )\n",
    "  {\n",
    "    densidad_B  <- density( dataset[ foto_mes==periodos_analisis[ per ], get(campo) ],\n",
    "                            kernel=\"gaussian\", na.rm=TRUE )\n",
    "\n",
    "    lines(densidad_B, col= GLOBAL_colores[per], lty=1)\n",
    "  }\n",
    "  \n",
    "  legend(  \"topright\",  \n",
    "           legend= periodos_analisis,\n",
    "           col=GLOBAL_colores, lty=1 )\n",
    "\n",
    "}"
   ]
  },
  {
   "cell_type": "code",
   "execution_count": 8,
   "id": "8b159a7c-dc63-4305-a37f-66e6677c0a12",
   "metadata": {},
   "outputs": [
    {
     "name": "stdout",
     "output_type": "stream",
     "text": [
      "active_quarter   cliente_vip   cliente_edad   cliente_antiguedad   cproductos   tcuentas   ccuenta_corriente   ccaja_ahorro   cdescubierto_preacordado   ctarjeta_debito   ctarjeta_debito_transacciones   ctarjeta_visa   ctarjeta_visa_transacciones   ctarjeta_master   ctarjeta_master_transacciones   cprestamos_personales   cprestamos_prendarios   cprestamos_hipotecarios   cplazo_fijo   cinversion1   cinversion2   cseguro_vida   cseguro_auto   cseguro_vivienda   cseguro_accidentes_personales   ccaja_seguridad   cpayroll_trx   cpayroll2_trx   ccuenta_debitos_automaticos   ctarjeta_visa_debitos_automaticos   ctarjeta_master_debitos_automaticos   cpagodeservicios   cpagomiscuentas   ccajeros_propios_descuentos   ctarjeta_visa_descuentos   ctarjeta_master_descuentos   ccomisiones_mantenimiento   ccomisiones_otras   cforex   cforex_buy   cforex_sell   ctransferencias_recibidas   ctransferencias_emitidas   cextraccion_autoservicio   ccheques_depositados   ccheques_emitidos   ccheques_depositados_rechazados   ccheques_emitidos_rechazados   tcallcenter   ccallcenter_transacciones   thomebanking   chomebanking_transacciones   ccajas_transacciones   ccajas_consultas   ccajas_depositos   ccajas_extracciones   ccajas_otras   catm_trx   catm_trx_other   Master_delinquency   Master_status   Master_Fvencimiento   Master_Finiciomora   Master_fultimo_cierre   Master_fechaalta   Master_cconsumos   Master_cadelantosefectivo   Visa_delinquency   Visa_status   Visa_Fvencimiento   Visa_Finiciomora   Visa_fultimo_cierre   Visa_fechaalta   Visa_cconsumos   Visa_cadelantosefectivo   ctrx_quarter_normalizado   vm_status01   vm_status02   vm_status03   vm_status04   vm_status05   vm_status06   vm_Fvencimiento   vm_Finiciomora   vm_fultimo_cierre   vm_fechaalta   vm_cconsumos   vm_cadelantosefectivo   vmr_Master_mlimitecompra   vmr_Visa_mlimitecompra   vmr_msaldototal   vmr_msaldopesos   vmr_msaldopesos2   vmr_msaldodolares   vmr_msaldodolares2   vmr_mconsumospesos   vmr_mconsumosdolares   vmr_madelantopesos   vmr_madelantodolares   vmr_mpagado   vmr_mpagospesos   vmr_mpagosdolares   vmr_mconsumototal   vmr_mpagominimo   mrentabilidad_rank   mrentabilidad_annual_rank   mcomisiones_rank   mactivos_margen_rank   mpasivos_margen_rank   mcuenta_corriente_adicional_rank   mcuenta_corriente_rank   mcaja_ahorro_rank   mcaja_ahorro_adicional_rank   mcaja_ahorro_dolares_rank   mcuentas_saldo_rank   mautoservicio_rank   mtarjeta_visa_consumo_rank   mtarjeta_master_consumo_rank   mprestamos_personales_rank   mprestamos_prendarios_rank   mprestamos_hipotecarios_rank   mplazo_fijo_dolares_rank   mplazo_fijo_pesos_rank   minversion1_pesos_rank   minversion1_dolares_rank   minversion2_rank   mpayroll_rank   mpayroll2_rank   mcuenta_debitos_automaticos_rank   mttarjeta_visa_debitos_automaticos_rank   mttarjeta_master_debitos_automaticos_rank   mpagodeservicios_rank   mpagomiscuentas_rank   mcajeros_propios_descuentos_rank   mtarjeta_visa_descuentos_rank   mtarjeta_master_descuentos_rank   mcomisiones_mantenimiento_rank   mcomisiones_otras_rank   mforex_buy_rank   mforex_sell_rank   mtransferencias_recibidas_rank   mtransferencias_emitidas_rank   mextraccion_autoservicio_rank   mcheques_depositados_rank   mcheques_emitidos_rank   mcheques_depositados_rechazados_rank   mcheques_emitidos_rechazados_rank   matm_rank   matm_other_rank   Master_mfinanciacion_limite_rank   Master_msaldototal_rank   Master_msaldopesos_rank   Master_msaldodolares_rank   Master_mconsumospesos_rank   Master_mconsumosdolares_rank   Master_mlimitecompra_rank   Master_madelantopesos_rank   Master_madelantodolares_rank   Master_mpagado_rank   Master_mpagospesos_rank   Master_mpagosdolares_rank   Master_mconsumototal_rank   Master_mpagominimo_rank   Visa_mfinanciacion_limite_rank   Visa_msaldototal_rank   Visa_msaldopesos_rank   Visa_msaldodolares_rank   Visa_mconsumospesos_rank   Visa_mconsumosdolares_rank   Visa_mlimitecompra_rank   Visa_madelantopesos_rank   Visa_madelantodolares_rank   Visa_mpagado_rank   Visa_mpagospesos_rank   Visa_mpagosdolares_rank   Visa_mconsumototal_rank   Visa_mpagominimo_rank   mpayroll_sobre_edad_rank   mv_status07_rank   vm_mfinanciacion_limite_rank   vm_msaldototal_rank   vm_msaldopesos_rank   vm_msaldodolares_rank   vm_mconsumospesos_rank   vm_mconsumosdolares_rank   vm_mlimitecompra_rank   vm_madelantopesos_rank   vm_madelantodolares_rank   vm_mpagado_rank   vm_mpagospesos_rank   vm_mpagosdolares_rank   vm_mconsumototal_rank   vm_mpagominimo_rank   clase01   "
     ]
    },
    {
     "ename": "ERROR",
     "evalue": "Error in density.default(dataset[foto_mes == per, get(campo)], kernel = \"gaussian\", : need at least 2 points to select a bandwidth automatically\n",
     "output_type": "error",
     "traceback": [
      "Error in density.default(dataset[foto_mes == per, get(campo)], kernel = \"gaussian\", : need at least 2 points to select a bandwidth automatically\nTraceback:\n",
      "1. graficar_campo(campo, append(append(v_2019, v_2020), v_2021))",
      "2. density(dataset[foto_mes == per, get(campo)], kernel = \"gaussian\", \n .     na.rm = TRUE)   # at line 20-21 of file <text>",
      "3. density.default(dataset[foto_mes == per, get(campo)], kernel = \"gaussian\", \n .     na.rm = TRUE)",
      "4. stop(\"need at least 2 points to select a bandwidth automatically\")"
     ]
    }
   ],
   "source": [
    "pdf(paste0(nombre_base_pdf,\"_todo.pdf\"))\n",
    "\n",
    "for( campo in  campos_ordenados )\n",
    "{\n",
    "  cat( campo, \"  \" )\n",
    "\n",
    "  graficar_campo( campo, append(append(v_2019,v_2020),v_2021) )\n",
    "}\n",
    "\n",
    "dev.off()"
   ]
  },
  {
   "cell_type": "code",
   "execution_count": null,
   "id": "f8489a7a-f3ad-4940-8620-ea59dc2cce84",
   "metadata": {},
   "outputs": [],
   "source": [
    "pdf(paste0(nombre_base_pdf,\"_2020y2021.pdf\")\n",
    "\n",
    "for( campo in  campos_ordenados )\n",
    "{\n",
    "  cat( campo, \"  \" )\n",
    "\n",
    "  graficar_campo( campo, append(v_2020,v_2021) )\n",
    "}\n",
    "\n",
    "dev.off()"
   ]
  },
  {
   "cell_type": "code",
   "execution_count": null,
   "id": "e3ee18a5-05a0-4871-ad53-26bea9115d56",
   "metadata": {},
   "outputs": [],
   "source": [
    "pdf(paste0(nombre_base_pdf,\"_2021.pdf\")\n",
    "\n",
    "for( campo in  campos_ordenados )\n",
    "{\n",
    "  cat( campo, \"  \" )\n",
    "\n",
    "  graficar_campo( campo, v_2021 )\n",
    "}\n",
    "\n",
    "dev.off()"
   ]
  },
  {
   "cell_type": "code",
   "execution_count": null,
   "id": "90ff3898-3d72-4166-a662-2755e9e35d51",
   "metadata": {},
   "outputs": [],
   "source": [
    "pdf(paste0(nombre_base_pdf,\"_desde202007.pdf\")\n",
    "\n",
    "for( campo in  campos_ordenados )\n",
    "{\n",
    "  cat( campo, \"  \" )\n",
    "\n",
    "  graficar_campo( campo, append(c(\"202007\",\"202008\",\"202009\",\"202010\",\"202011\",\"202012\"),v_2021) )\n",
    "}\n",
    "\n",
    "dev.off()"
   ]
  }
 ],
 "metadata": {
  "kernelspec": {
   "display_name": "R",
   "language": "R",
   "name": "ir"
  },
  "language_info": {
   "codemirror_mode": "r",
   "file_extension": ".r",
   "mimetype": "text/x-r-source",
   "name": "R",
   "pygments_lexer": "r",
   "version": "4.2.1"
  }
 },
 "nbformat": 4,
 "nbformat_minor": 5
}
