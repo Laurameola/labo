{
 "cells": [
  {
   "cell_type": "code",
   "execution_count": null,
   "id": "bbff2245-7e7f-4139-b55d-da174ab7aea0",
   "metadata": {},
   "outputs": [],
   "source": [
    "rm( list=ls() )  #remove all objects\n",
    "gc()             #garbage collection\n",
    "\n",
    "require(\"data.table\")\n",
    "require(\"lightgbm\")\n",
    "require(\"ggplot2\")"
   ]
  },
  {
   "cell_type": "code",
   "execution_count": null,
   "id": "b95c27e6-33d5-41ab-ada4-35d233445409",
   "metadata": {},
   "outputs": [],
   "source": [
    "#setwd(\"C:/_MCD/Labo1/code\")  #Establezco el Working Directory\n",
    "setwd( \"~/buckets/b1\" )\n",
    "\n",
    "kexperimento  <- \"comp2-exp1\"\n",
    "ksubexperimento <- \"A\"\n",
    "ksemilla_azar  <- 100019"
   ]
  },
  {
   "cell_type": "code",
   "execution_count": null,
   "id": "7425dc12-129b-42d4-a1d9-f4a23e41dd58",
   "metadata": {},
   "outputs": [],
   "source": [
    "dataset_finalTrain  <- fread( paste0( \"./exp/\", kexperimento, \"/dataset_train_final.csv.gz\" ) )\n",
    "\n",
    "dataset_future  <- fread( paste0( \"./exp/\", kexperimento, \"/dataset_future.csv.gz\" ) )"
   ]
  },
  {
   "cell_type": "code",
   "execution_count": null,
   "id": "1273c5a1-57f5-4a12-8732-cae0a23ea71b",
   "metadata": {},
   "outputs": [],
   "source": [
    "kmax_bin           <-    31\n",
    "klearning_rate     <-    0.0108108249652133\n",
    " \n",
    "\n",
    "knum_iterations    <- 502   \n",
    "\n",
    "knum_leaves        <-   66\n",
    "\n",
    "kmin_data_in_leaf  <-  2\n",
    "\n",
    "kfeature_fraction  <-    0.245281560621268\n",
    "\n",
    " "
   ]
  },
  {
   "cell_type": "code",
   "execution_count": null,
   "id": "60ee3f58-766a-4d5f-9a30-db27801dc31f",
   "metadata": {},
   "outputs": [],
   "source": [
    "#dataset  <- fread(kdataset, stringsAsFactors= TRUE)\n",
    "\n",
    "#paso la clase a binaria que tome valores {0,1}  enteros\n",
    "#set trabaja con la clase  POS = { BAJA+1, BAJA+2 } \n",
    "#esta estrategia es MUY importante\n",
    "dataset_finalTrain[ , clase01 := ifelse( clase_ternaria %in%  c(\"BAJA+2\",\"BAJA+1\"), 1L, 0L) ]\n",
    "\n",
    "#los campos que se van a utilizar\n",
    "campos_buenos  <- setdiff( colnames(dataset_finalTrain), c(\"clase_ternaria\",\"clase01\",\"foto_mes\") )\n",
    "\n",
    "#creo las carpetas donde van los resultados\n",
    "#creo la carpeta donde va el experimento\n",
    "# HT  representa  Hiperparameter Tuning\n",
    "dir.create( \"./exp/\",  showWarnings = FALSE ) \n",
    "dir.create( paste0(\"./exp/\", kexperimento, \"/\" ), showWarnings = FALSE )\n",
    "setwd( paste0(\"./exp/\", kexperimento, \"/\" ) )   #Establezco el Working Directory DEL EXPERIMENTO\n",
    "\n",
    "\n",
    "#dejo los datos en el formato que necesita LightGBM\n",
    "dtrain  <- lgb.Dataset( data= data.matrix(  dataset_finalTrain[, campos_buenos, with=FALSE]),\n",
    "                        label= dataset_finalTrain[ , clase01] )\n",
    "\n",
    "#aplico el modelo a los datos sin clase\n",
    "dapply  <- dataset_future"
   ]
  },
  {
   "cell_type": "code",
   "execution_count": null,
   "id": "6ef21a08-2fa4-4414-ab56-521e1bc548ff",
   "metadata": {},
   "outputs": [],
   "source": [
    "dapply[,foto_mes:=NULL]"
   ]
  },
  {
   "cell_type": "code",
   "execution_count": null,
   "id": "a5db00bd-3507-4cb7-981e-f049e7aa8e94",
   "metadata": {},
   "outputs": [],
   "source": [
    "#genero el modelo\n",
    "#estos hiperparametros  salieron de una laaarga Optmizacion Bayesiana\n",
    "modelo  <- lgb.train( data= dtrain,\n",
    "                      param= list( objective=          \"binary\",\n",
    "                                   max_bin=            kmax_bin,\n",
    "                                   learning_rate=      klearning_rate,\n",
    "                                   num_iterations=     knum_iterations,\n",
    "                                   num_leaves=         knum_leaves,\n",
    "                                   min_data_in_leaf=   kmin_data_in_leaf,\n",
    "                                   feature_fraction=   kfeature_fraction,\n",
    "                                   seed=               ksemilla_azar\n",
    "                                  )\n",
    "                    )"
   ]
  },
  {
   "cell_type": "code",
   "execution_count": null,
   "id": "6aa48251-b321-4d6e-bd58-ebeb1a236f0f",
   "metadata": {},
   "outputs": [],
   "source": [
    "#--------------------------------------\n",
    "#ahora imprimo la importancia de variables\n",
    "tb_importancia  <-  as.data.table( lgb.importance(modelo) ) \n",
    "archivo_importancia  <- \"predDC_impo.csv\"\n",
    "\n",
    "fwrite( tb_importancia, \n",
    "        file= archivo_importancia, \n",
    "        sep= \"\\t\" )"
   ]
  },
  {
   "cell_type": "code",
   "execution_count": null,
   "id": "3e528158-5ade-415e-a999-214b7a1485cd",
   "metadata": {},
   "outputs": [],
   "source": [
    "#aplico el modelo a los datos nuevos\n",
    "prediccion  <- predict( modelo, \n",
    "                        data.matrix( dapply[, campos_buenos, with=FALSE ])                                 )\n",
    "\n",
    "#genero la tabla de entrega\n",
    "tb_entrega  <-  dapply[ , list( numero_de_cliente ) ]\n",
    "tb_entrega[  , prob := prediccion ]\n",
    "\n",
    "#grabo las probabilidad del modelo\n",
    "#fwrite( tb_entrega,\n",
    "#        file= \"prediccion.txt\",\n",
    "#        sep= \"\\t\" )\n",
    "\n",
    "#ordeno por probabilidad descendente\n",
    "setorder( tb_entrega, -prob )"
   ]
  },
  {
   "cell_type": "code",
   "execution_count": null,
   "id": "c0b5ba06-8708-4588-a52d-aaef9eca8088",
   "metadata": {},
   "outputs": [],
   "source": [
    "#prob_corte <- 0.0372744903634901\n",
    "#tb_entrega[  , Predicted := 0L ]\n",
    "#tb_entrega[ prob >= prob_corte, Predicted := 1L ]\n",
    "\n",
    "#  fwrite( tb_entrega[ , list(numero_de_cliente, Predicted)], \n",
    "#          file= paste0(  kexperimento, \"_prob_corte.csv\" ),\n",
    "#          sep= \",\" )"
   ]
  },
  {
   "cell_type": "code",
   "execution_count": null,
   "id": "78fb6f6d-136e-41c4-8541-991607fd0e56",
   "metadata": {},
   "outputs": [],
   "source": [
    "#genero archivos con los  \"envios\" mejores\n",
    "#deben subirse \"inteligentemente\" a Kaggle para no malgastar submits\n",
    "cortes <- seq( 8000, 11000, by=500 )\n",
    "for( envios  in  cortes )\n",
    "{\n",
    "  tb_entrega[  , Predicted := 0L ]\n",
    "  tb_entrega[ 1:envios, Predicted := 1L ]\n",
    "\n",
    "  fwrite( tb_entrega[ , list(numero_de_cliente, Predicted)], \n",
    "          file= paste0(  \"pred_\",ksubexperimento,\"_\",kexperimento, \"_\", envios, \".csv\" ),\n",
    "          sep= \",\" )\n",
    "}"
   ]
  },
  {
   "cell_type": "code",
   "execution_count": null,
   "id": "fa522f7e-2568-4395-b964-0473e5e3b8f9",
   "metadata": {},
   "outputs": [],
   "source": [
    "prediccion  <- predict( modelo, \n",
    "                        data.matrix( dataset_finalTrain[, campos_buenos, with=FALSE ])                                 )\n",
    "\n",
    "dataset_finalTrain[  , prob_baja2 := prediccion ]\n",
    "\n",
    "#Dibujo las curvas de ganancia\n",
    "setorder( dataset_finalTrain,  -prob_baja2 )\n",
    "\n",
    "#agrego una columna que es la de las ganancias\n",
    "dataset_finalTrain[ , gan :=  ifelse( clase_ternaria==\"BAJA+2\", 78000, -2000 ) ]\n",
    "dataset_finalTrain[ , ganancia_acumulada := cumsum( gan ) ]\n",
    "dataset_finalTrain[ , pos := sequence(.N) ]\n"
   ]
  },
  {
   "cell_type": "code",
   "execution_count": null,
   "id": "7cd580f5-bc68-48d7-b3cc-0e235fac12b7",
   "metadata": {},
   "outputs": [],
   "source": [
    "options(scipen=999)\n",
    "\n",
    "##segundo grafico\n",
    "ggplot(data = dataset_finalTrain[ pos <= 10000], aes(x = pos, y = ganancia_acumulada) ) +\n",
    "    geom_line()"
   ]
  },
  {
   "cell_type": "code",
   "execution_count": null,
   "id": "784013c8-beeb-4824-9bed-1d4b2f37f50a",
   "metadata": {},
   "outputs": [],
   "source": [
    "\n"
   ]
  }
 ],
 "metadata": {
  "kernelspec": {
   "display_name": "R",
   "language": "R",
   "name": "ir"
  },
  "language_info": {
   "codemirror_mode": "r",
   "file_extension": ".r",
   "mimetype": "text/x-r-source",
   "name": "R",
   "pygments_lexer": "r",
   "version": "4.2.1"
  }
 },
 "nbformat": 4,
 "nbformat_minor": 5
}
