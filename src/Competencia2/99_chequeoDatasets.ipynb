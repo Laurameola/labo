{
 "cells": [
  {
   "cell_type": "code",
   "execution_count": 2,
   "id": "478cba89-68a5-45bf-bfcf-fe5e5c2d206f",
   "metadata": {},
   "outputs": [
    {
     "data": {
      "text/html": [
       "<table class=\"dataframe\">\n",
       "<caption>A matrix: 2 × 6 of type dbl</caption>\n",
       "<thead>\n",
       "\t<tr><th></th><th scope=col>used</th><th scope=col>(Mb)</th><th scope=col>gc trigger</th><th scope=col>(Mb)</th><th scope=col>max used</th><th scope=col>(Mb)</th></tr>\n",
       "</thead>\n",
       "<tbody>\n",
       "\t<tr><th scope=row>Ncells</th><td> 641468</td><td>34.3</td><td>1330087</td><td>71.1</td><td>1330087</td><td>71.1</td></tr>\n",
       "\t<tr><th scope=row>Vcells</th><td>1192096</td><td> 9.1</td><td>8388608</td><td>64.0</td><td>1801055</td><td>13.8</td></tr>\n",
       "</tbody>\n",
       "</table>\n"
      ],
      "text/latex": [
       "A matrix: 2 × 6 of type dbl\n",
       "\\begin{tabular}{r|llllll}\n",
       "  & used & (Mb) & gc trigger & (Mb) & max used & (Mb)\\\\\n",
       "\\hline\n",
       "\tNcells &  641468 & 34.3 & 1330087 & 71.1 & 1330087 & 71.1\\\\\n",
       "\tVcells & 1192096 &  9.1 & 8388608 & 64.0 & 1801055 & 13.8\\\\\n",
       "\\end{tabular}\n"
      ],
      "text/markdown": [
       "\n",
       "A matrix: 2 × 6 of type dbl\n",
       "\n",
       "| <!--/--> | used | (Mb) | gc trigger | (Mb) | max used | (Mb) |\n",
       "|---|---|---|---|---|---|---|\n",
       "| Ncells |  641468 | 34.3 | 1330087 | 71.1 | 1330087 | 71.1 |\n",
       "| Vcells | 1192096 |  9.1 | 8388608 | 64.0 | 1801055 | 13.8 |\n",
       "\n"
      ],
      "text/plain": [
       "       used    (Mb) gc trigger (Mb) max used (Mb)\n",
       "Ncells  641468 34.3 1330087    71.1 1330087  71.1\n",
       "Vcells 1192096  9.1 8388608    64.0 1801055  13.8"
      ]
     },
     "metadata": {},
     "output_type": "display_data"
    }
   ],
   "source": [
    "#limpio la memoria\n",
    "rm( list=ls() )  #remove all objects\n",
    "gc()             #garbage collection\n",
    "\n",
    "require(\"data.table\")"
   ]
  },
  {
   "cell_type": "markdown",
   "id": "01d19169-7a61-4e97-b11e-65a98e932cab",
   "metadata": {},
   "source": [
    "# Inicial"
   ]
  },
  {
   "cell_type": "code",
   "execution_count": 3,
   "id": "7a92628f-43f5-4bbc-a9de-2c592c515463",
   "metadata": {},
   "outputs": [],
   "source": [
    "#Parametros del script\n",
    "#setwd(\"C:/_MCD/Labo1/code\")  #Establezco el Working Directory\n",
    "setwd(\"~/buckets/b1/\")\n",
    "\n",
    "#cargo el dataset\n",
    "dataset  <- fread(\"./datasets/competencia2_2022.csv.gz\")   #donde entreno# FIN Parametros del script"
   ]
  },
  {
   "cell_type": "code",
   "execution_count": 5,
   "id": "b76005d7-7a8c-4cac-ae3c-1061efd0dd21",
   "metadata": {},
   "outputs": [
    {
     "data": {
      "text/html": [
       "4214386"
      ],
      "text/latex": [
       "4214386"
      ],
      "text/markdown": [
       "4214386"
      ],
      "text/plain": [
       "[1] 4214386"
      ]
     },
     "metadata": {},
     "output_type": "display_data"
    }
   ],
   "source": [
    "nrow(dataset)"
   ]
  },
  {
   "cell_type": "code",
   "execution_count": null,
   "id": "c62a6118-e06a-4f34-9f02-74d635827474",
   "metadata": {},
   "outputs": [],
   "source": [
    "ncol(dataset)"
   ]
  },
  {
   "cell_type": "markdown",
   "id": "cbd6aa14-39ac-4207-b554-9177a7a876fc",
   "metadata": {},
   "source": [
    "# Reparación"
   ]
  },
  {
   "cell_type": "code",
   "execution_count": 6,
   "id": "5f37a75e-4e9e-4754-8521-46d34836d8a4",
   "metadata": {},
   "outputs": [],
   "source": [
    "#Parametros del script\n",
    "#setwd(\"C:/_MCD/Labo1/code\")  #Establezco el Working Directory\n",
    "setwd(\"~/buckets/b1/\")\n",
    "\n",
    "#cargo el dataset\n",
    "dataset  <- fread(\"./datasets/competencia2_2022_reparacEstad.csv.gz\")   #donde entreno# FIN Parametros del script"
   ]
  },
  {
   "cell_type": "code",
   "execution_count": 7,
   "id": "bedbaab6-46d7-47f2-8cce-e58c9964b126",
   "metadata": {},
   "outputs": [
    {
     "data": {
      "text/html": [
       "4214386"
      ],
      "text/latex": [
       "4214386"
      ],
      "text/markdown": [
       "4214386"
      ],
      "text/plain": [
       "[1] 4214386"
      ]
     },
     "metadata": {},
     "output_type": "display_data"
    }
   ],
   "source": [
    "nrow(dataset)"
   ]
  },
  {
   "cell_type": "code",
   "execution_count": 8,
   "id": "7e43d0d8-1e9e-43b3-ab71-bbda7c861571",
   "metadata": {},
   "outputs": [
    {
     "data": {
      "text/html": [
       "152"
      ],
      "text/latex": [
       "152"
      ],
      "text/markdown": [
       "152"
      ],
      "text/plain": [
       "[1] 152"
      ]
     },
     "metadata": {},
     "output_type": "display_data"
    }
   ],
   "source": [
    "ncol(dataset)"
   ]
  },
  {
   "cell_type": "code",
   "execution_count": 10,
   "id": "4ef6681b-1a5e-445d-8130-db8558429572",
   "metadata": {},
   "outputs": [],
   "source": [
    "#Parametros del script\n",
    "#setwd(\"C:/_MCD/Labo1/code\")  #Establezco el Working Directory\n",
    "setwd(\"~/buckets/b1/\")\n",
    "\n",
    "#cargo el dataset\n",
    "dataset  <- fread(\"./datasets/competencia2_2022_reparacNA.csv.gz\")   #donde entreno# FIN Parametros del script"
   ]
  },
  {
   "cell_type": "code",
   "execution_count": 11,
   "id": "e544ab41-5bf9-4716-8575-455165fb7f43",
   "metadata": {},
   "outputs": [
    {
     "data": {
      "text/html": [
       "4214386"
      ],
      "text/latex": [
       "4214386"
      ],
      "text/markdown": [
       "4214386"
      ],
      "text/plain": [
       "[1] 4214386"
      ]
     },
     "metadata": {},
     "output_type": "display_data"
    }
   ],
   "source": [
    "nrow(dataset)"
   ]
  },
  {
   "cell_type": "code",
   "execution_count": 12,
   "id": "a4ce2728-5283-4009-aaea-a95b82f10e26",
   "metadata": {},
   "outputs": [
    {
     "data": {
      "text/html": [
       "152"
      ],
      "text/latex": [
       "152"
      ],
      "text/markdown": [
       "152"
      ],
      "text/plain": [
       "[1] 152"
      ]
     },
     "metadata": {},
     "output_type": "display_data"
    }
   ],
   "source": [
    "ncol(dataset)"
   ]
  },
  {
   "cell_type": "markdown",
   "id": "f0549d05-b78a-4f6e-a314-ffaa3d950939",
   "metadata": {},
   "source": [
    "# FE Inicial"
   ]
  },
  {
   "cell_type": "code",
   "execution_count": 13,
   "id": "c97ca575-e4e6-4f27-b186-78c26aefc0c1",
   "metadata": {},
   "outputs": [],
   "source": [
    "#Parametros del script\n",
    "#setwd(\"C:/_MCD/Labo1/code\")  #Establezco el Working Directory\n",
    "setwd(\"~/buckets/b1/\")\n",
    "\n",
    "#cargo el dataset\n",
    "dataset  <- fread(\"./datasets/c2_reparacEstad_fe_inicial.csv.gz\")   #donde entreno# FIN Parametros del script"
   ]
  },
  {
   "cell_type": "code",
   "execution_count": 14,
   "id": "561169e0-aa41-43f1-b28a-8ce63ea5714d",
   "metadata": {},
   "outputs": [
    {
     "data": {
      "text/html": [
       "4214386"
      ],
      "text/latex": [
       "4214386"
      ],
      "text/markdown": [
       "4214386"
      ],
      "text/plain": [
       "[1] 4214386"
      ]
     },
     "metadata": {},
     "output_type": "display_data"
    }
   ],
   "source": [
    "nrow(dataset)"
   ]
  },
  {
   "cell_type": "code",
   "execution_count": 15,
   "id": "fc3ad37b-e39f-4e0e-8b51-79905a2fd6fc",
   "metadata": {},
   "outputs": [
    {
     "data": {
      "text/html": [
       "196"
      ],
      "text/latex": [
       "196"
      ],
      "text/markdown": [
       "196"
      ],
      "text/plain": [
       "[1] 196"
      ]
     },
     "metadata": {},
     "output_type": "display_data"
    }
   ],
   "source": [
    "ncol(dataset)"
   ]
  },
  {
   "cell_type": "code",
   "execution_count": 16,
   "id": "06492a81-b01a-4fd5-bee8-27c925a2572f",
   "metadata": {},
   "outputs": [],
   "source": [
    "#Parametros del script\n",
    "#setwd(\"C:/_MCD/Labo1/code\")  #Establezco el Working Directory\n",
    "setwd(\"~/buckets/b1/\")\n",
    "\n",
    "#cargo el dataset\n",
    "dataset  <- fread(\"./datasets/c2_reparacNA_fe_inicial.csv.gz\")   #donde entreno# FIN Parametros del script"
   ]
  },
  {
   "cell_type": "code",
   "execution_count": 19,
   "id": "3f268049-ab04-43ec-8f0f-bd964077b988",
   "metadata": {},
   "outputs": [
    {
     "data": {
      "text/html": [
       "4214386"
      ],
      "text/latex": [
       "4214386"
      ],
      "text/markdown": [
       "4214386"
      ],
      "text/plain": [
       "[1] 4214386"
      ]
     },
     "metadata": {},
     "output_type": "display_data"
    },
    {
     "data": {
      "text/html": [
       "196"
      ],
      "text/latex": [
       "196"
      ],
      "text/markdown": [
       "196"
      ],
      "text/plain": [
       "[1] 196"
      ]
     },
     "metadata": {},
     "output_type": "display_data"
    }
   ],
   "source": [
    "nrow(dataset)\n",
    "ncol(dataset)"
   ]
  },
  {
   "cell_type": "markdown",
   "id": "ec906f87-84eb-428f-aaa6-c106de070d52",
   "metadata": {},
   "source": [
    "# Drifting"
   ]
  },
  {
   "cell_type": "code",
   "execution_count": null,
   "id": "654f26dc-41e2-45d1-b2c9-31164fed780d",
   "metadata": {},
   "outputs": [],
   "source": [
    "#limpio la memoria\n",
    "rm( list=ls() )  #remove all objects\n",
    "gc()             #garbage collection\n",
    "\n",
    "require(\"data.table\")"
   ]
  },
  {
   "cell_type": "code",
   "execution_count": null,
   "id": "1f59d9a0-5c74-432a-a137-61a5ca360973",
   "metadata": {},
   "outputs": [],
   "source": [
    "#Parametros del script\n",
    "#setwd(\"C:/_MCD/Labo1/code\")  #Establezco el Working Directory\n",
    "setwd(\"~/buckets/b1/\")\n",
    "\n",
    "#cargo el dataset\n",
    "dataset  <- fread(\"./datasets/c2_reparacEstad_fe_inicial_rank0simple.csv.gz\")   #donde entreno# FIN Parametros del script"
   ]
  },
  {
   "cell_type": "code",
   "execution_count": null,
   "id": "98a0cde8-ce39-4065-9f2d-29229997d8f7",
   "metadata": {},
   "outputs": [],
   "source": [
    "nrow(dataset)\n",
    "ncol(dataset)"
   ]
  },
  {
   "cell_type": "code",
   "execution_count": null,
   "id": "e3541517-bda0-49ea-9a13-070445e1bd71",
   "metadata": {},
   "outputs": [],
   "source": [
    "#Parametros del script\n",
    "#setwd(\"C:/_MCD/Labo1/code\")  #Establezco el Working Directory\n",
    "setwd(\"~/buckets/b1/\")\n",
    "\n",
    "#cargo el dataset\n",
    "dataset  <- fread(\"./datasets/c2_reparacEstad_fe_inicial_rank0fijo.csv.gz\")   #donde entreno# FIN Parametros del script"
   ]
  },
  {
   "cell_type": "code",
   "execution_count": null,
   "id": "05de9ea3-3f3c-4b20-a8a4-4e0e7c3732e4",
   "metadata": {},
   "outputs": [],
   "source": [
    "nrow(dataset)\n",
    "ncol(dataset)"
   ]
  },
  {
   "cell_type": "code",
   "execution_count": null,
   "id": "7047cdbb-f72d-43b1-979c-ebbc41ff1634",
   "metadata": {},
   "outputs": [],
   "source": [
    "#Parametros del script\n",
    "#setwd(\"C:/_MCD/Labo1/code\")  #Establezco el Working Directory\n",
    "setwd(\"~/buckets/b1/\")\n",
    "\n",
    "#cargo el dataset\n",
    "dataset  <- fread(\"./datasets/c2_reparacEstad_fe_inicial_deflacion.csv.gz\")   #donde entreno# FIN Parametros del script"
   ]
  },
  {
   "cell_type": "code",
   "execution_count": null,
   "id": "0187e6d1-db8a-4e38-b5ae-1d3067e332ac",
   "metadata": {},
   "outputs": [],
   "source": []
  },
  {
   "cell_type": "code",
   "execution_count": null,
   "id": "5cefea6f-f21c-4dcc-82a5-addbaa6fa344",
   "metadata": {},
   "outputs": [],
   "source": []
  },
  {
   "cell_type": "code",
   "execution_count": null,
   "id": "9df44961-999b-4c2c-b9f3-969965897aca",
   "metadata": {},
   "outputs": [],
   "source": []
  },
  {
   "cell_type": "code",
   "execution_count": null,
   "id": "82c48d77-6ea8-45bd-a071-b000fc3838c5",
   "metadata": {},
   "outputs": [],
   "source": []
  },
  {
   "cell_type": "code",
   "execution_count": null,
   "id": "b8ee1173-b3bd-4071-b000-286440b96721",
   "metadata": {},
   "outputs": [],
   "source": []
  },
  {
   "cell_type": "code",
   "execution_count": null,
   "id": "93138976-2731-4514-9d1a-c101b09a1f72",
   "metadata": {},
   "outputs": [],
   "source": []
  },
  {
   "cell_type": "code",
   "execution_count": null,
   "id": "e4feca57-8e3a-4a16-9981-e962ff9c1bab",
   "metadata": {},
   "outputs": [],
   "source": []
  },
  {
   "cell_type": "code",
   "execution_count": null,
   "id": "7540ec1e-6880-43bb-9aee-04c4658bd9c9",
   "metadata": {},
   "outputs": [],
   "source": []
  },
  {
   "cell_type": "code",
   "execution_count": null,
   "id": "f3857c64-9c7a-43b5-8d1c-4432f835757a",
   "metadata": {},
   "outputs": [],
   "source": []
  },
  {
   "cell_type": "code",
   "execution_count": null,
   "id": "f4acce50-a333-47c2-9f56-f6bd107667d0",
   "metadata": {},
   "outputs": [],
   "source": []
  },
  {
   "cell_type": "code",
   "execution_count": null,
   "id": "e5de44fd-3013-48a1-b104-8a693c9b0c5f",
   "metadata": {},
   "outputs": [],
   "source": []
  },
  {
   "cell_type": "code",
   "execution_count": null,
   "id": "6c79bdbb-a5f1-4f7e-896e-b8351d356f8c",
   "metadata": {},
   "outputs": [],
   "source": []
  },
  {
   "cell_type": "code",
   "execution_count": null,
   "id": "747b743b-77b2-41f0-862a-1ca0ebfdb919",
   "metadata": {},
   "outputs": [],
   "source": []
  },
  {
   "cell_type": "code",
   "execution_count": null,
   "id": "b312477c-0653-4543-b21c-3430503ece30",
   "metadata": {},
   "outputs": [],
   "source": []
  },
  {
   "cell_type": "code",
   "execution_count": null,
   "id": "e8f50193-bf25-4b01-aa0d-5f44690351a7",
   "metadata": {},
   "outputs": [],
   "source": []
  },
  {
   "cell_type": "code",
   "execution_count": null,
   "id": "dcd28404-1637-486f-84fe-050e1532e176",
   "metadata": {},
   "outputs": [],
   "source": []
  },
  {
   "cell_type": "code",
   "execution_count": null,
   "id": "0f85abe6-d51d-486e-9b32-11f8e3d3216e",
   "metadata": {},
   "outputs": [],
   "source": []
  },
  {
   "cell_type": "code",
   "execution_count": null,
   "id": "ae13be02-1665-4055-ae8c-b1a13861d020",
   "metadata": {},
   "outputs": [],
   "source": []
  },
  {
   "cell_type": "code",
   "execution_count": null,
   "id": "f9d485ff-63ac-42ee-9c82-b061f965f099",
   "metadata": {},
   "outputs": [],
   "source": []
  },
  {
   "cell_type": "code",
   "execution_count": null,
   "id": "2e6e3a80-c381-4b41-ba46-bccea8d653fb",
   "metadata": {},
   "outputs": [],
   "source": []
  },
  {
   "cell_type": "code",
   "execution_count": null,
   "id": "e90755a7-0f3a-4b7e-9bff-eec1d15df022",
   "metadata": {},
   "outputs": [],
   "source": []
  }
 ],
 "metadata": {
  "kernelspec": {
   "display_name": "R",
   "language": "R",
   "name": "ir"
  },
  "language_info": {
   "codemirror_mode": "r",
   "file_extension": ".r",
   "mimetype": "text/x-r-source",
   "name": "R",
   "pygments_lexer": "r",
   "version": "4.2.1"
  }
 },
 "nbformat": 4,
 "nbformat_minor": 5
}
