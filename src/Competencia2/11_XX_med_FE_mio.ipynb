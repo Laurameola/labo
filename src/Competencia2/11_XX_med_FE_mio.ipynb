{
 "cells": [
  {
   "cell_type": "code",
   "execution_count": 6,
   "id": "52a64b1e-3bd7-45b3-a461-9414cff48788",
   "metadata": {},
   "outputs": [
    {
     "data": {
      "text/html": [
       "<table class=\"dataframe\">\n",
       "<caption>A matrix: 2 × 6 of type dbl</caption>\n",
       "<thead>\n",
       "\t<tr><th></th><th scope=col>used</th><th scope=col>(Mb)</th><th scope=col>gc trigger</th><th scope=col>(Mb)</th><th scope=col>max used</th><th scope=col>(Mb)</th></tr>\n",
       "</thead>\n",
       "<tbody>\n",
       "\t<tr><th scope=row>Ncells</th><td> 731602</td><td>39.1</td><td>   1330087</td><td>  71.1</td><td>   1330087</td><td>   71.1</td></tr>\n",
       "\t<tr><th scope=row>Vcells</th><td>1561685</td><td>12.0</td><td>1181718638</td><td>9015.8</td><td>1386353168</td><td>10577.1</td></tr>\n",
       "</tbody>\n",
       "</table>\n"
      ],
      "text/latex": [
       "A matrix: 2 × 6 of type dbl\n",
       "\\begin{tabular}{r|llllll}\n",
       "  & used & (Mb) & gc trigger & (Mb) & max used & (Mb)\\\\\n",
       "\\hline\n",
       "\tNcells &  731602 & 39.1 &    1330087 &   71.1 &    1330087 &    71.1\\\\\n",
       "\tVcells & 1561685 & 12.0 & 1181718638 & 9015.8 & 1386353168 & 10577.1\\\\\n",
       "\\end{tabular}\n"
      ],
      "text/markdown": [
       "\n",
       "A matrix: 2 × 6 of type dbl\n",
       "\n",
       "| <!--/--> | used | (Mb) | gc trigger | (Mb) | max used | (Mb) |\n",
       "|---|---|---|---|---|---|---|\n",
       "| Ncells |  731602 | 39.1 |    1330087 |   71.1 |    1330087 |    71.1 |\n",
       "| Vcells | 1561685 | 12.0 | 1181718638 | 9015.8 | 1386353168 | 10577.1 |\n",
       "\n"
      ],
      "text/plain": [
       "       used    (Mb) gc trigger (Mb)   max used   (Mb)   \n",
       "Ncells  731602 39.1    1330087   71.1    1330087    71.1\n",
       "Vcells 1561685 12.0 1181718638 9015.8 1386353168 10577.1"
      ]
     },
     "metadata": {},
     "output_type": "display_data"
    }
   ],
   "source": [
    "#limpio la memoria\n",
    "rm( list=ls() )  #remove all objects\n",
    "gc()             #garbage collection\n",
    "\n",
    "require(\"data.table\")\n",
    "library(\"stringr\")\n"
   ]
  },
  {
   "cell_type": "code",
   "execution_count": 7,
   "id": "40ece1dd-4d52-410a-b452-5f8d85e0cc00",
   "metadata": {},
   "outputs": [],
   "source": [
    "kdatasetinput <- \"c2_reparacEstad_fe_inicial.csv.gz\"\n",
    "kdatasetoutput <- \"c2_reparacEstad_fe_inicialymiomed.csv.gz\""
   ]
  },
  {
   "cell_type": "code",
   "execution_count": 8,
   "id": "9fc36d42-2a05-45f4-b0d0-150d67ad874a",
   "metadata": {},
   "outputs": [],
   "source": [
    "setwd(\"~/buckets/b1/\")\n",
    "\n",
    "#cargo el dataset\n",
    "dataset  <- fread(paste0(\"./datasets/\",kdatasetinput))   #donde entreno# FIN Parametros del script"
   ]
  },
  {
   "cell_type": "code",
   "execution_count": 9,
   "id": "652cfc90-1162-4755-acbf-a1946900820c",
   "metadata": {},
   "outputs": [],
   "source": [
    "\n",
    "AgregarVariables  <- function( dataset )\n",
    "{\n",
    "  gc()\n",
    " \n",
    "############# FE 1 ####################\n",
    "   \n",
    "  #Aqui debe usted agregar sus propias nuevas variables           \n",
    "    dataset[ , prop_vida_en_banco          := cliente_antiguedad/(12*cliente_edad)]\n",
    "    \n",
    "   \n",
    "    #Prestamos\n",
    "    dataset[ , cprestamos                 := rowSums( cbind( cprestamos_personales, cprestamos_prendarios, cprestamos_hipotecarios) , na.rm=TRUE ) ]\n",
    "    dataset[ , mprestamos                 := rowSums( cbind( mprestamos_personales, mprestamos_prendarios, mprestamos_hipotecarios) , na.rm=TRUE ) ]\n",
    "    \n",
    "    #Plazos Fijos\n",
    "    dataset[ , mplazo_fijo                := rowSums( cbind( mplazo_fijo_pesos, mplazo_fijo_dolares) , na.rm=TRUE ) ]\n",
    "\n",
    "    #Inversiones\n",
    "    dataset[ , minversion1                := rowSums( cbind( minversion1_pesos, minversion1_dolares) , na.rm=TRUE ) ]\n",
    "    dataset[ , cinversion12                := rowSums( cbind( cinversion1, cinversion2) , na.rm=TRUE ) ]\n",
    "    dataset[ , minversion12                := rowSums( cbind( minversion1, minversion2) , na.rm=TRUE ) ]\n",
    "    dataset[ , cinversion_total                := rowSums( cbind( cinversion12, cplazo_fijo) , na.rm=TRUE ) ]\n",
    "    dataset[ , minversion_total                := rowSums( cbind( minversion12, mplazo_fijo) , na.rm=TRUE ) ]\n",
    "\n",
    "    #Seguros\n",
    "    dataset[ , cseguro                := rowSums( cbind( cseguro_vida, cseguro_auto,cseguro_vivienda,cseguro_accidentes_personales) , na.rm=TRUE ) ]\n",
    "\n",
    "    #Debitos automaticos\n",
    "    dataset[ , cdebitos_automaticos                := rowSums( cbind( ccuenta_debitos_automaticos,ctarjeta_visa_debitos_automaticos,ctarjeta_master_debitos_automaticos ) , na.rm=TRUE ) ]\n",
    "    dataset[ , mdebitos_automaticos                := rowSums( cbind( mcuenta_debitos_automaticos,mttarjeta_visa_debitos_automaticos,mttarjeta_master_debitos_automaticos ) , na.rm=TRUE ) ]\n",
    "\n",
    "    #Servicios\n",
    "    dataset[ , cpago_servicios_total                := rowSums( cbind( cpagodeservicios,cpagomiscuentas ) , na.rm=TRUE ) ]\n",
    "    dataset[ , mpago_servicios_total                := rowSums( cbind( mpagodeservicios,mpagomiscuentas ) , na.rm=TRUE ) ]\n",
    "\n",
    " \n",
    "    #Comisiones\n",
    "    dataset[ , ccomisiones                := rowSums( cbind( ccomisiones_mantenimiento,ccomisiones_otras ) , na.rm=TRUE ) ]\n",
    "    dataset[ , mcomisiones                := rowSums( cbind( mcomisiones_mantenimiento,mcomisiones_otras ) , na.rm=TRUE ) ]\n",
    "\n",
    "\n",
    "    #Cheques\n",
    "    dataset[ , ccheques                := rowSums( cbind( ccheques_depositados,ccheques_emitidos ) , na.rm=TRUE ) ]\n",
    "    dataset[ , mcheques                := rowSums( cbind( mcheques_depositados,mcheques_emitidos ) , na.rm=TRUE ) ]\n",
    "  \n",
    "    #Cajeros\n",
    "    dataset[ , catm_total_trx                := rowSums( cbind(catm_trx,catm_trx_other ) , na.rm=TRUE ) ]\n",
    "    dataset[ , matm_total_trx                := rowSums( cbind(matm,matm_other ) , na.rm=TRUE ) ]\n",
    "    \n",
    "    dataset[ , ccualquier_cajero_trx                := rowSums( cbind(catm_total_trx,cextraccion_autoservicio ) , na.rm=TRUE ) ]\n",
    "    dataset[ , mcualquier_cajero_trx                := rowSums( cbind(matm_total_trx,mextraccion_autoservicio ) , na.rm=TRUE ) ]\n",
    "    dataset[ , usa_cualquier_cajero             := ifelse(ccualquier_cajero_trx > 0,1,0)]\n",
    "\n",
    "     #Payroll\n",
    "   dataset[ , cpayroll_total    := rowSums( cbind(cpayroll_trx,cpayroll2_trx ) , na.rm=TRUE ) ]\n",
    "   dataset[ , mpayroll_total    := rowSums( cbind(mpayroll,mpayroll2 ) , na.rm=TRUE ) ]\n",
    "    dataset[ , acredita_sueldo  := ifelse(cpayroll_total > 0,1,0)]\n",
    "\n",
    "  \n",
    "  \n",
    "    #Rentabilidad y productos\n",
    "    dataset[ , mmargen    := rowSums( cbind(mactivos_margen,mpasivos_margen ) , na.rm=TRUE ) ]\n",
    "\n",
    "   \n",
    "    #Debito y credito\n",
    "    dataset[ , ctarjeta_credito    := rowSums( cbind(ctarjeta_visa,ctarjeta_master ) , na.rm=TRUE ) ]\n",
    "    dataset[ , ctarjeta_credito_transacciones    := rowSums( cbind(ctarjeta_visa_transacciones,ctarjeta_master_transacciones ) , na.rm=TRUE ) ]\n",
    "    dataset[ , mtarjeta_credito_consumos    := rowSums( cbind(mtarjeta_visa_consumo,mtarjeta_master_consumo ) , na.rm=TRUE ) ]\n",
    "\n",
    "    dataset[ , usa_tarjeta_credito  := ifelse(ctarjeta_credito_transacciones > 0,1,0)]\n",
    "    dataset[ , usa_tarjeta_debito  := ifelse(ctarjeta_debito_transacciones > 0,1,0)]\n",
    "\n",
    "    dataset[ , prop_tarj_debito_credito    := ifelse(ctarjeta_credito_transacciones==0,0,ctarjeta_debito_transacciones/ctarjeta_credito_transacciones) ]\n",
    "\n",
    "    #Saldo\n",
    "    dataset[ , prop_dolares_saldo   := ifelse(mcuentas_saldo==0,0,mcaja_ahorro_dolares/mcuentas_saldo) ]\n",
    "    dataset[ , prop_plazos_fijos_saldo   := ifelse(mcuentas_saldo==0,0,mplazo_fijo/mcuentas_saldo) ]\n",
    "    dataset[ , prop_inversion12_saldo   := ifelse(mcuentas_saldo==0,0,minversion12/mcuentas_saldo) ]\n",
    "    dataset[ , prop_consumos_tarj_cred_saldo    := ifelse(mcuentas_saldo==0,0,mtarjeta_credito_consumos/mcuentas_saldo) ]\n",
    "    dataset[ , prop_rent_mes_saldo   := ifelse(mcuentas_saldo==0,0,mrentabilidad/mcuentas_saldo) ]\n",
    "\n",
    "    dataset[ , mcuentas_saldo_mas_invers    := rowSums( cbind(mcuentas_saldo,minversion_total ) , na.rm=TRUE ) ]\n",
    "    dataset[ , mcuentas_saldo_mas_invers_mas_caja_seg    := ifelse(ccaja_seguridad==1,1000000,0) + mcuentas_saldo_mas_invers ]\n",
    "    dataset[ , mgasto_mensual_estim    := rowSums( cbind(mdebitos_automaticos,mpago_servicios_total,mtransferencias_emitidas,mextraccion_autoservicio,mcheques_emitidos,ccajas_extracciones,mautoservicio,mtarjeta_credito_consumos ) , na.rm=TRUE ) ]\n",
    "    dataset[ , mingreso_mensual_estim    := rowSums( cbind(mtransferencias_recibidas,mcheques_depositados,ccajas_depositos,mpayroll_total ) , na.rm=TRUE ) ]\n",
    "    \n",
    "    dataset[ , prop_gasto_saldo   := ifelse(mcuentas_saldo==0,0,mgasto_mensual_estim/mcuentas_saldo) ]\n",
    "    dataset[ , prop_ingreso_saldo   := ifelse(mcuentas_saldo==0,0,mingreso_mensual_estim/mcuentas_saldo) ]\n",
    "\n",
    "      #Mes\n",
    "    dataset[ , mes   := str_sub(foto_mes, start=-2)  ]\n",
    "\n",
    "    \n",
    "############# FIN FE 1 ####################\n",
    "    \n",
    "    \n",
    "    \n",
    "    \n",
    "    \n",
    "    \n",
    "    \n",
    "    \n",
    "    \n",
    "    \n",
    "    \n",
    "    \n",
    "    \n",
    "    \n",
    "  #valvula de seguridad para evitar valores infinitos\n",
    "  #paso los infinitos a NULOS\n",
    "  infinitos      <- lapply(names(dataset),function(.name) dataset[ , sum(is.infinite(get(.name)))])\n",
    "  infinitos_qty  <- sum( unlist( infinitos) )\n",
    "  if( infinitos_qty > 0 )\n",
    "  {\n",
    "    cat( \"ATENCION, hay\", infinitos_qty, \"valores infinitos en tu dataset. Seran pasados a NA\\n\" )\n",
    "    dataset[mapply(is.infinite, dataset)] <<- NA\n",
    "  }\n",
    "\n",
    "\n",
    "  #valvula de seguridad para evitar valores NaN  que es 0/0\n",
    "  #paso los NaN a 0 , decision polemica si las hay\n",
    "  #se invita a asignar un valor razonable segun la semantica del campo creado\n",
    "  nans      <- lapply(names(dataset),function(.name) dataset[ , sum(is.nan(get(.name)))])\n",
    "  nans_qty  <- sum( unlist( nans) )\n",
    "  if( nans_qty > 0 )\n",
    "  {\n",
    "    cat( \"ATENCION, hay\", nans_qty, \"valores NaN 0/0 en tu dataset. Seran pasados arbitrariamente a 0\\n\" )\n",
    "    cat( \"Si no te gusta la decision, modifica a gusto el programa!\\n\\n\")\n",
    "    dataset[mapply(is.nan, dataset)] <<- 0\n",
    "  }\n",
    "\n",
    "}"
   ]
  },
  {
   "cell_type": "code",
   "execution_count": 10,
   "id": "f1788923-2a7e-4a08-b1af-4e8a8d8a5796",
   "metadata": {},
   "outputs": [
    {
     "name": "stdout",
     "output_type": "stream",
     "text": [
      "ATENCION, hay 91 valores infinitos en tu dataset. Seran pasados a NA\n"
     ]
    }
   ],
   "source": [
    "#primero agrego las variables manuales\n",
    "AgregarVariables( dataset )"
   ]
  },
  {
   "cell_type": "code",
   "execution_count": 11,
   "id": "58a4a2fd-6466-4f7f-af10-9257ca802743",
   "metadata": {},
   "outputs": [],
   "source": [
    "fwrite( dataset,\n",
    "        file=paste0(\"./datasets/\",kdatasetoutput),\n",
    "        sep= \",\" )"
   ]
  },
  {
   "cell_type": "code",
   "execution_count": 12,
   "id": "92d35cb2-3ec7-4880-8d5f-87292def83fe",
   "metadata": {},
   "outputs": [
    {
     "data": {
      "text/html": [
       "240"
      ],
      "text/latex": [
       "240"
      ],
      "text/markdown": [
       "240"
      ],
      "text/plain": [
       "[1] 240"
      ]
     },
     "metadata": {},
     "output_type": "display_data"
    }
   ],
   "source": [
    "ncol(dataset)"
   ]
  },
  {
   "cell_type": "code",
   "execution_count": 13,
   "id": "73dc767e-90b7-484a-bbb8-8517718ae0bd",
   "metadata": {},
   "outputs": [
    {
     "data": {
      "text/html": [
       "4214386"
      ],
      "text/latex": [
       "4214386"
      ],
      "text/markdown": [
       "4214386"
      ],
      "text/plain": [
       "[1] 4214386"
      ]
     },
     "metadata": {},
     "output_type": "display_data"
    }
   ],
   "source": [
    "nrow(dataset)"
   ]
  }
 ],
 "metadata": {
  "kernelspec": {
   "display_name": "R",
   "language": "R",
   "name": "ir"
  },
  "language_info": {
   "codemirror_mode": "r",
   "file_extension": ".r",
   "mimetype": "text/x-r-source",
   "name": "R",
   "pygments_lexer": "r",
   "version": "4.2.1"
  }
 },
 "nbformat": 4,
 "nbformat_minor": 5
}
