{
 "cells": [
  {
   "cell_type": "code",
   "execution_count": 6,
   "id": "52a64b1e-3bd7-45b3-a461-9414cff48788",
   "metadata": {},
   "outputs": [
    {
     "data": {
      "text/html": [
       "<table class=\"dataframe\">\n",
       "<caption>A matrix: 2 × 6 of type dbl</caption>\n",
       "<thead>\n",
       "\t<tr><th></th><th scope=col>used</th><th scope=col>(Mb)</th><th scope=col>gc trigger</th><th scope=col>(Mb)</th><th scope=col>max used</th><th scope=col>(Mb)</th></tr>\n",
       "</thead>\n",
       "<tbody>\n",
       "\t<tr><th scope=row>Ncells</th><td> 677297</td><td>36.2</td><td>  1292120</td><td>  69.1</td><td>  1292120</td><td>  69.1</td></tr>\n",
       "\t<tr><th scope=row>Vcells</th><td>1265154</td><td> 9.7</td><td>145310501</td><td>1108.7</td><td>181583174</td><td>1385.4</td></tr>\n",
       "</tbody>\n",
       "</table>\n"
      ],
      "text/latex": [
       "A matrix: 2 × 6 of type dbl\n",
       "\\begin{tabular}{r|llllll}\n",
       "  & used & (Mb) & gc trigger & (Mb) & max used & (Mb)\\\\\n",
       "\\hline\n",
       "\tNcells &  677297 & 36.2 &   1292120 &   69.1 &   1292120 &   69.1\\\\\n",
       "\tVcells & 1265154 &  9.7 & 145310501 & 1108.7 & 181583174 & 1385.4\\\\\n",
       "\\end{tabular}\n"
      ],
      "text/markdown": [
       "\n",
       "A matrix: 2 × 6 of type dbl\n",
       "\n",
       "| <!--/--> | used | (Mb) | gc trigger | (Mb) | max used | (Mb) |\n",
       "|---|---|---|---|---|---|---|\n",
       "| Ncells |  677297 | 36.2 |   1292120 |   69.1 |   1292120 |   69.1 |\n",
       "| Vcells | 1265154 |  9.7 | 145310501 | 1108.7 | 181583174 | 1385.4 |\n",
       "\n"
      ],
      "text/plain": [
       "       used    (Mb) gc trigger (Mb)   max used  (Mb)  \n",
       "Ncells  677297 36.2   1292120    69.1   1292120   69.1\n",
       "Vcells 1265154  9.7 145310501  1108.7 181583174 1385.4"
      ]
     },
     "metadata": {},
     "output_type": "display_data"
    }
   ],
   "source": [
    "#limpio la memoria\n",
    "rm( list=ls() )  #remove all objects\n",
    "gc()             #garbage collection\n",
    "\n",
    "require(\"data.table\")"
   ]
  },
  {
   "cell_type": "code",
   "execution_count": 7,
   "id": "9fc36d42-2a05-45f4-b0d0-150d67ad874a",
   "metadata": {},
   "outputs": [],
   "source": [
    "setwd(\"C:/_MCD/Labo1/code\")  #Establezco el Working Directory\n",
    "#setwd(\"~/buckets/b1/\")\n",
    "\n",
    "#cargo el dataset\n",
    "dataset  <- fread(\"./datasets/comp1/competencia1_2022.csv\")   #donde entreno# FIN Parametros del script"
   ]
  },
  {
   "cell_type": "code",
   "execution_count": 8,
   "id": "652cfc90-1162-4755-acbf-a1946900820c",
   "metadata": {},
   "outputs": [],
   "source": [
    "\n",
    "AgregarVariables  <- function( dataset )\n",
    "{\n",
    "  gc()\n",
    "  #INICIO de la seccion donde se deben hacer cambios con variables nuevas\n",
    "\n",
    "  #creo un ctr_quarter que tenga en cuenta cuando los clientes hace 3 menos meses que estan\n",
    "  dataset[  , ctrx_quarter_normalizado := ctrx_quarter ]\n",
    "  dataset[ cliente_antiguedad==1 , ctrx_quarter_normalizado := ctrx_quarter * 5 ]\n",
    "  dataset[ cliente_antiguedad==2 , ctrx_quarter_normalizado := ctrx_quarter * 2 ]\n",
    "  dataset[ cliente_antiguedad==3 , ctrx_quarter_normalizado := ctrx_quarter * 1.2 ]\n",
    "\n",
    "#ELIMINO la variable original (genera ruido)    \n",
    "    dataset[,ctrx_quarter:=NULL]\n",
    "    \n",
    "  #variable extraida de una tesis de maestria de Irlanda\n",
    "  dataset[  , mpayroll_sobre_edad  := mpayroll / cliente_edad ]\n",
    "\n",
    "  #se crean los nuevos campos para MasterCard  y Visa, teniendo en cuenta los NA's\n",
    "  #varias formas de combinar Visa_status y Master_status\n",
    "  dataset[ , vm_status01       := pmax( Master_status,  Visa_status, na.rm = TRUE) ]\n",
    "  dataset[ , vm_status02       := Master_status +  Visa_status ]\n",
    "  dataset[ , vm_status03       := pmax( ifelse( is.na(Master_status), 10, Master_status) , ifelse( is.na(Visa_status), 10, Visa_status) ) ]\n",
    "  dataset[ , vm_status04       := ifelse( is.na(Master_status), 10, Master_status)  +  ifelse( is.na(Visa_status), 10, Visa_status)  ]\n",
    "  dataset[ , vm_status05       := ifelse( is.na(Master_status), 10, Master_status)  +  100*ifelse( is.na(Visa_status), 10, Visa_status)  ]\n",
    "\n",
    "  dataset[ , vm_status06       := ifelse( is.na(Visa_status), \n",
    "                                          ifelse( is.na(Master_status), 10, Master_status), \n",
    "                                          Visa_status)  ]\n",
    "\n",
    "  dataset[ , mv_status07       := ifelse( is.na(Master_status), \n",
    "                                          ifelse( is.na(Visa_status), 10, Visa_status), \n",
    "                                          Master_status)  ]\n",
    "\n",
    "\n",
    "  #combino MasterCard y Visa\n",
    "  dataset[ , vm_mfinanciacion_limite := rowSums( cbind( Master_mfinanciacion_limite,  Visa_mfinanciacion_limite) , na.rm=TRUE ) ]\n",
    "\n",
    "  dataset[ , vm_Fvencimiento         := pmin( Master_Fvencimiento, Visa_Fvencimiento, na.rm = TRUE) ]\n",
    "  dataset[ , vm_Finiciomora          := pmin( Master_Finiciomora, Visa_Finiciomora, na.rm = TRUE) ]\n",
    "  dataset[ , vm_msaldototal          := rowSums( cbind( Master_msaldototal,  Visa_msaldototal) , na.rm=TRUE ) ]\n",
    "  dataset[ , vm_msaldopesos          := rowSums( cbind( Master_msaldopesos,  Visa_msaldopesos) , na.rm=TRUE ) ]\n",
    "  dataset[ , vm_msaldodolares        := rowSums( cbind( Master_msaldodolares,  Visa_msaldodolares) , na.rm=TRUE ) ]\n",
    "  dataset[ , vm_mconsumospesos       := rowSums( cbind( Master_mconsumospesos,  Visa_mconsumospesos) , na.rm=TRUE ) ]\n",
    "  dataset[ , vm_mconsumosdolares     := rowSums( cbind( Master_mconsumosdolares,  Visa_mconsumosdolares) , na.rm=TRUE ) ]\n",
    "  dataset[ , vm_mlimitecompra        := rowSums( cbind( Master_mlimitecompra,  Visa_mlimitecompra) , na.rm=TRUE ) ]\n",
    "  dataset[ , vm_madelantopesos       := rowSums( cbind( Master_madelantopesos,  Visa_madelantopesos) , na.rm=TRUE ) ]\n",
    "  dataset[ , vm_madelantodolares     := rowSums( cbind( Master_madelantodolares,  Visa_madelantodolares) , na.rm=TRUE ) ]\n",
    "  dataset[ , vm_fultimo_cierre       := pmax( Master_fultimo_cierre, Visa_fultimo_cierre, na.rm = TRUE) ]\n",
    "  dataset[ , vm_mpagado              := rowSums( cbind( Master_mpagado,  Visa_mpagado) , na.rm=TRUE ) ]\n",
    "  dataset[ , vm_mpagospesos          := rowSums( cbind( Master_mpagospesos,  Visa_mpagospesos) , na.rm=TRUE ) ]\n",
    "  dataset[ , vm_mpagosdolares        := rowSums( cbind( Master_mpagosdolares,  Visa_mpagosdolares) , na.rm=TRUE ) ]\n",
    "  dataset[ , vm_fechaalta            := pmax( Master_fechaalta, Visa_fechaalta, na.rm = TRUE) ]\n",
    "  dataset[ , vm_mconsumototal        := rowSums( cbind( Master_mconsumototal,  Visa_mconsumototal) , na.rm=TRUE ) ]\n",
    "  dataset[ , vm_cconsumos            := rowSums( cbind( Master_cconsumos,  Visa_cconsumos) , na.rm=TRUE ) ]\n",
    "  dataset[ , vm_cadelantosefectivo   := rowSums( cbind( Master_cadelantosefectivo,  Visa_cadelantosefectivo) , na.rm=TRUE ) ]\n",
    "  dataset[ , vm_mpagominimo          := rowSums( cbind( Master_mpagominimo,  Visa_mpagominimo) , na.rm=TRUE ) ]\n",
    "\n",
    "  #a partir de aqui juego con la suma de Mastercard y Visa\n",
    "  dataset[ , vmr_Master_mlimitecompra:= Master_mlimitecompra / vm_mlimitecompra ]\n",
    "  dataset[ , vmr_Visa_mlimitecompra  := Visa_mlimitecompra / vm_mlimitecompra ]\n",
    "  dataset[ , vmr_msaldototal         := vm_msaldototal / vm_mlimitecompra ]\n",
    "  dataset[ , vmr_msaldopesos         := vm_msaldopesos / vm_mlimitecompra ]\n",
    "  dataset[ , vmr_msaldopesos2        := vm_msaldopesos / vm_msaldototal ]\n",
    "  dataset[ , vmr_msaldodolares       := vm_msaldodolares / vm_mlimitecompra ]\n",
    "  dataset[ , vmr_msaldodolares2      := vm_msaldodolares / vm_msaldototal ]\n",
    "  dataset[ , vmr_mconsumospesos      := vm_mconsumospesos / vm_mlimitecompra ]\n",
    "  dataset[ , vmr_mconsumosdolares    := vm_mconsumosdolares / vm_mlimitecompra ]\n",
    "  dataset[ , vmr_madelantopesos      := vm_madelantopesos / vm_mlimitecompra ]\n",
    "  dataset[ , vmr_madelantodolares    := vm_madelantodolares / vm_mlimitecompra ]\n",
    "  dataset[ , vmr_mpagado             := vm_mpagado / vm_mlimitecompra ]\n",
    "  dataset[ , vmr_mpagospesos         := vm_mpagospesos / vm_mlimitecompra ]\n",
    "  dataset[ , vmr_mpagosdolares       := vm_mpagosdolares / vm_mlimitecompra ]\n",
    "  dataset[ , vmr_mconsumototal       := vm_mconsumototal  / vm_mlimitecompra ]\n",
    "  dataset[ , vmr_mpagominimo         := vm_mpagominimo  / vm_mlimitecompra ]\n",
    "\n",
    "  #Aqui debe usted agregar sus propias nuevas variables\n",
    "\n",
    "  #valvula de seguridad para evitar valores infinitos\n",
    "  #paso los infinitos a NULOS\n",
    "  infinitos      <- lapply(names(dataset),function(.name) dataset[ , sum(is.infinite(get(.name)))])\n",
    "  infinitos_qty  <- sum( unlist( infinitos) )\n",
    "  if( infinitos_qty > 0 )\n",
    "  {\n",
    "    cat( \"ATENCION, hay\", infinitos_qty, \"valores infinitos en tu dataset. Seran pasados a NA\\n\" )\n",
    "    dataset[mapply(is.infinite, dataset)] <<- NA\n",
    "  }\n",
    "\n",
    "\n",
    "  #valvula de seguridad para evitar valores NaN  que es 0/0\n",
    "  #paso los NaN a 0 , decision polemica si las hay\n",
    "  #se invita a asignar un valor razonable segun la semantica del campo creado\n",
    "  nans      <- lapply(names(dataset),function(.name) dataset[ , sum(is.nan(get(.name)))])\n",
    "  nans_qty  <- sum( unlist( nans) )\n",
    "  if( nans_qty > 0 )\n",
    "  {\n",
    "    cat( \"ATENCION, hay\", nans_qty, \"valores NaN 0/0 en tu dataset. Seran pasados arbitrariamente a 0\\n\" )\n",
    "    cat( \"Si no te gusta la decision, modifica a gusto el programa!\\n\\n\")\n",
    "    dataset[mapply(is.nan, dataset)] <<- 0\n",
    "  }\n",
    "\n",
    "}"
   ]
  },
  {
   "cell_type": "code",
   "execution_count": 9,
   "id": "f1788923-2a7e-4a08-b1af-4e8a8d8a5796",
   "metadata": {},
   "outputs": [
    {
     "name": "stderr",
     "output_type": "stream",
     "text": [
      "Warning message in `[.data.table`(dataset, cliente_antiguedad == 3, `:=`(ctrx_quarter_normalizado, :\n",
      "\"44.400000 (type 'double') at RHS position 1 truncated (precision lost) when assigning to type 'integer' (column 156 named 'ctrx_quarter_normalizado')\"\n"
     ]
    },
    {
     "name": "stdout",
     "output_type": "stream",
     "text": [
      "ATENCION, hay 1 valores infinitos en tu dataset. Seran pasados a NA\n",
      "ATENCION, hay 236919 valores NaN 0/0 en tu dataset. Seran pasados arbitrariamente a 0\n",
      "Si no te gusta la decision, modifica a gusto el programa!\n",
      "\n"
     ]
    }
   ],
   "source": [
    "#primero agrego las variables manuales\n",
    "AgregarVariables( dataset )"
   ]
  },
  {
   "cell_type": "code",
   "execution_count": 10,
   "id": "58a4a2fd-6466-4f7f-af10-9257ca802743",
   "metadata": {},
   "outputs": [],
   "source": [
    "fwrite( dataset,\n",
    "        file=\"./datasets/comp1/competencia1_2022_fe_inicial.csv\",\n",
    "        sep= \",\" )"
   ]
  }
 ],
 "metadata": {
  "kernelspec": {
   "display_name": "R",
   "language": "R",
   "name": "ir"
  },
  "language_info": {
   "codemirror_mode": "r",
   "file_extension": ".r",
   "mimetype": "text/x-r-source",
   "name": "R",
   "pygments_lexer": "r",
   "version": "4.2.1"
  }
 },
 "nbformat": 4,
 "nbformat_minor": 5
}
