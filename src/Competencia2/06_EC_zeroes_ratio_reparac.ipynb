{
 "cells": [
  {
   "cell_type": "code",
   "execution_count": 1,
   "id": "f6b84a42-df58-435e-ae8a-785ebf56886f",
   "metadata": {},
   "outputs": [
    {
     "data": {
      "text/html": [
       "<table class=\"dataframe\">\n",
       "<caption>A matrix: 2 × 6 of type dbl</caption>\n",
       "<thead>\n",
       "\t<tr><th></th><th scope=col>used</th><th scope=col>(Mb)</th><th scope=col>gc trigger</th><th scope=col>(Mb)</th><th scope=col>max used</th><th scope=col>(Mb)</th></tr>\n",
       "</thead>\n",
       "<tbody>\n",
       "\t<tr><th scope=row>Ncells</th><td> 613855</td><td>32.8</td><td>1330087</td><td>71.1</td><td>1162568</td><td>62.1</td></tr>\n",
       "\t<tr><th scope=row>Vcells</th><td>1149279</td><td> 8.8</td><td>8388608</td><td>64.0</td><td>1801055</td><td>13.8</td></tr>\n",
       "</tbody>\n",
       "</table>\n"
      ],
      "text/latex": [
       "A matrix: 2 × 6 of type dbl\n",
       "\\begin{tabular}{r|llllll}\n",
       "  & used & (Mb) & gc trigger & (Mb) & max used & (Mb)\\\\\n",
       "\\hline\n",
       "\tNcells &  613855 & 32.8 & 1330087 & 71.1 & 1162568 & 62.1\\\\\n",
       "\tVcells & 1149279 &  8.8 & 8388608 & 64.0 & 1801055 & 13.8\\\\\n",
       "\\end{tabular}\n"
      ],
      "text/markdown": [
       "\n",
       "A matrix: 2 × 6 of type dbl\n",
       "\n",
       "| <!--/--> | used | (Mb) | gc trigger | (Mb) | max used | (Mb) |\n",
       "|---|---|---|---|---|---|---|\n",
       "| Ncells |  613855 | 32.8 | 1330087 | 71.1 | 1162568 | 62.1 |\n",
       "| Vcells | 1149279 |  8.8 | 8388608 | 64.0 | 1801055 | 13.8 |\n",
       "\n"
      ],
      "text/plain": [
       "       used    (Mb) gc trigger (Mb) max used (Mb)\n",
       "Ncells  613855 32.8 1330087    71.1 1162568  62.1\n",
       "Vcells 1149279  8.8 8388608    64.0 1801055  13.8"
      ]
     },
     "metadata": {},
     "output_type": "display_data"
    },
    {
     "name": "stderr",
     "output_type": "stream",
     "text": [
      "Loading required package: data.table\n",
      "\n"
     ]
    }
   ],
   "source": [
    "rm( list=ls() )  #remove all objects\n",
    "gc()             #garbage collection\n",
    "\n",
    "require(\"data.table\")"
   ]
  },
  {
   "cell_type": "code",
   "execution_count": 2,
   "id": "eaadaf0d-822a-4b4d-aa74-4f197ab16c1b",
   "metadata": {},
   "outputs": [],
   "source": [
    "#setwd(\"C:/_MCD/Labo1/code\")  #Establezco el Working Directory\n",
    "setwd(\"~/buckets/b1/\")\n",
    "\n",
    "#cargo el dataset\n",
    "dataset  <- fread(\"./datasets/competencia2_2022_reparacEstad.csv.gz\")   #donde entreno\n",
    "\n",
    "#creo la carpeta donde va el experimento\n",
    "# DA  representa  Exploratory Data Analysis\n",
    "dir.create( \"./exp/comp2-EDA/\", showWarnings = FALSE )\n",
    "setwd(\"./exp/comp2-EDA/\")   #Establezco el Working Directory DEL EXPERIMENTO\n",
    "\n",
    "#ordeno el dataset\n",
    "setorder( dataset,  foto_mes )\n",
    "\n",
    "campos_buenos  <- setdiff( colnames( dataset), \n",
    "                           c(\"numero_de_cliente\",\"foto_mes\",\"clase_ternaria\" ) )\n",
    "\n"
   ]
  },
  {
   "cell_type": "code",
   "execution_count": 3,
   "id": "7a07ce31-3a42-4b8d-9833-a654dd90b796",
   "metadata": {},
   "outputs": [
    {
     "data": {
      "text/html": [
       "<strong>png:</strong> 2"
      ],
      "text/latex": [
       "\\textbf{png:} 2"
      ],
      "text/markdown": [
       "**png:** 2"
      ],
      "text/plain": [
       "png \n",
       "  2 "
      ]
     },
     "metadata": {},
     "output_type": "display_data"
    }
   ],
   "source": [
    "pdf(\"zeroes_ratio_reparacEstad.pdf\")\n",
    "\n",
    "for( campo in  campos_buenos )\n",
    "{\n",
    "  tbl <- dataset[ foto_mes<=202105,\n",
    "                  list( \"zero_ratio\" = sum(get(campo)==0, na.rm=TRUE)/.N ) ,\n",
    "                  foto_mes ]\n",
    "\n",
    "  #ymin <-  min( tbl$zero_ratio )\n",
    "  #ymax <-  max( tbl$zero_ratio )\n",
    "    ymin <- 0\n",
    "    ymax <- 1\n",
    "  if( ymin == 0 )  ymin <- -0.1\n",
    "  if( ymax == 0 )  ymax <-  0.1\n",
    "\n",
    "  plot(x= 1:nrow(tbl),\n",
    "       y= tbl$zero_ratio,\n",
    "       type= \"o\",\n",
    "       main= paste0(\"Zeroes ratio  -  \",  campo),\n",
    "       xlab= \"Periodo\",\n",
    "       ylab= \"Zeroes  ratio\",\n",
    "       ylim= c( ymin, ymax ),\n",
    "       xaxt= \"n\"\n",
    "     )\n",
    "\n",
    "  axis(1, at=1:nrow(tbl), labels=tbl$foto_mes)\n",
    "\n",
    "  abline(v=c(1,13,25), col=c(\"green\",\"green\",\"green\"), lty=c(1,1,1), lwd=c(1,1,1))\n",
    "  abline(v=c(7,19,31), col=c(\"green\",\"green\",\"green\"), lty=c(3,3,3), lwd=c(1,1,1))\n",
    "}\n",
    "\n",
    "dev.off()"
   ]
  },
  {
   "cell_type": "code",
   "execution_count": 4,
   "id": "a9a6e738-8767-41e3-a10a-c31fe7a8254e",
   "metadata": {},
   "outputs": [],
   "source": [
    "#dejo la marca final\n",
    "cat( format(Sys.time(), \"%Y%m%d %H%M%S\"),\"\\n\",\n",
    "     file= \"zRend.txt\",\n",
    "     append= TRUE  )"
   ]
  }
 ],
 "metadata": {
  "kernelspec": {
   "display_name": "R",
   "language": "R",
   "name": "ir"
  },
  "language_info": {
   "codemirror_mode": "r",
   "file_extension": ".r",
   "mimetype": "text/x-r-source",
   "name": "R",
   "pygments_lexer": "r",
   "version": "4.2.1"
  }
 },
 "nbformat": 4,
 "nbformat_minor": 5
}
