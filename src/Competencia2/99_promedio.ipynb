{
 "cells": [
  {
   "cell_type": "code",
   "execution_count": 4,
   "id": "f6b84a42-df58-435e-ae8a-785ebf56886f",
   "metadata": {},
   "outputs": [
    {
     "data": {
      "text/html": [
       "<table class=\"dataframe\">\n",
       "<caption>A matrix: 2 × 6 of type dbl</caption>\n",
       "<thead>\n",
       "\t<tr><th></th><th scope=col>used</th><th scope=col>(Mb)</th><th scope=col>gc trigger</th><th scope=col>(Mb)</th><th scope=col>max used</th><th scope=col>(Mb)</th></tr>\n",
       "</thead>\n",
       "<tbody>\n",
       "\t<tr><th scope=row>Ncells</th><td> 728593</td><td>39.0</td><td>  1330087</td><td>  71.1</td><td>  1330087</td><td>  71.1</td></tr>\n",
       "\t<tr><th scope=row>Vcells</th><td>2133637</td><td>16.3</td><td>752223301</td><td>5739.1</td><td>940257924</td><td>7173.6</td></tr>\n",
       "</tbody>\n",
       "</table>\n"
      ],
      "text/latex": [
       "A matrix: 2 × 6 of type dbl\n",
       "\\begin{tabular}{r|llllll}\n",
       "  & used & (Mb) & gc trigger & (Mb) & max used & (Mb)\\\\\n",
       "\\hline\n",
       "\tNcells &  728593 & 39.0 &   1330087 &   71.1 &   1330087 &   71.1\\\\\n",
       "\tVcells & 2133637 & 16.3 & 752223301 & 5739.1 & 940257924 & 7173.6\\\\\n",
       "\\end{tabular}\n"
      ],
      "text/markdown": [
       "\n",
       "A matrix: 2 × 6 of type dbl\n",
       "\n",
       "| <!--/--> | used | (Mb) | gc trigger | (Mb) | max used | (Mb) |\n",
       "|---|---|---|---|---|---|---|\n",
       "| Ncells |  728593 | 39.0 |   1330087 |   71.1 |   1330087 |   71.1 |\n",
       "| Vcells | 2133637 | 16.3 | 752223301 | 5739.1 | 940257924 | 7173.6 |\n",
       "\n"
      ],
      "text/plain": [
       "       used    (Mb) gc trigger (Mb)   max used  (Mb)  \n",
       "Ncells  728593 39.0   1330087    71.1   1330087   71.1\n",
       "Vcells 2133637 16.3 752223301  5739.1 940257924 7173.6"
      ]
     },
     "metadata": {},
     "output_type": "display_data"
    }
   ],
   "source": [
    "rm( list=ls() )  #remove all objects\n",
    "gc()             #garbage collection\n",
    "\n",
    "require(\"data.table\")"
   ]
  },
  {
   "cell_type": "code",
   "execution_count": 5,
   "id": "eaadaf0d-822a-4b4d-aa74-4f197ab16c1b",
   "metadata": {},
   "outputs": [],
   "source": [
    "#setwd(\"C:/_MCD/Labo1/code\")  #Establezco el Working Directory\n",
    "setwd(\"~/buckets/b1/\")\n",
    "\n",
    "#cargo el dataset\n",
    "dataset  <- fread(\"./datasets/competencia2_2022.csv.gz\")   #donde entreno\n",
    "\n",
    "#creo la carpeta donde va el experimento\n",
    "# DA  representa  Exploratory Data Analysis\n",
    "dir.create( \"./exp/comp2-EDA/\", showWarnings = FALSE )\n",
    "setwd(\"./exp/comp2-EDA/\")   #Establezco el Working Directory DEL EXPERIMENTO\n",
    "\n",
    "#ordeno el dataset\n",
    "setorder( dataset,  foto_mes )\n",
    "\n",
    "campos_buenos <- c(\"ctrx_quarter\",\"mcuentas_saldo\",\"mcaja_ahorro\", \"mcuenta_corriente\",\"cpayroll_trx\",\"mpayroll\",\"mprestamos_personales\",\"cprestamos_personales\",\"mpasivos_margen\",\"mrentabilidad\",\"mrentabilidad_annual\",\"mcomisiones_mantenimiento\",\"mactivos_margen\",\"cliente_edad\",\"mtarjeta_visa_consumo\",\"ctarjeta_visa_transacciones\",\"Master_Fvencimiento\",\"Master_fechaalta\",\"Visa_Fvencimiento\",\"Visa_fechaalta\",\"ctarjeta_visa_transacciones\")"
   ]
  },
  {
   "cell_type": "code",
   "execution_count": 6,
   "id": "7a07ce31-3a42-4b8d-9833-a654dd90b796",
   "metadata": {},
   "outputs": [
    {
     "data": {
      "text/html": [
       "<strong>png:</strong> 2"
      ],
      "text/latex": [
       "\\textbf{png:} 2"
      ],
      "text/markdown": [
       "**png:** 2"
      ],
      "text/plain": [
       "png \n",
       "  2 "
      ]
     },
     "metadata": {},
     "output_type": "display_data"
    }
   ],
   "source": [
    "pdf(\"promedios_desde202010.pdf\")\n",
    "\n",
    "for( campo in  campos_buenos )\n",
    "{\n",
    "  tbl   <- dataset[ foto_mes<=202105 & foto_mes>=202010,\n",
    "                    list( \"promedio\" = mean( get(campo), na.rm=TRUE)) ,\n",
    "                    foto_mes ]\n",
    "\n",
    "  ceros <- dataset[ foto_mes<=202105 ,\n",
    "                    list( \"zero_ratio\" = sum(get(campo)==0, na.rm=TRUE)/.N ) ,\n",
    "                    foto_mes ]\n",
    "  \n",
    "  plot(x= 1:nrow(tbl),\n",
    "       y= tbl$promedio,\n",
    "       type= \"o\",\n",
    "       main= paste0(\"Promedios  -  \",  campo),\n",
    "       xlab= \"Periodo\",\n",
    "       ylab= \"Promedio\",\n",
    "       xaxt= \"n\"\n",
    "     )\n",
    "\n",
    "  axis(1, at=1:nrow(tbl), labels=tbl$foto_mes)\n",
    "\n",
    "  abline(v=c(1,13,25), col=c(\"green\",\"green\",\"green\"), lty=c(1,1,1), lwd=c(1,1,1))\n",
    "  \n",
    "  for( i in 1:nrow(tbl) )\n",
    "  {\n",
    "    if( ceros[ i, zero_ratio]> 0.99 &  median(ceros[ , zero_ratio]) < 0.99 )\n",
    "    {\n",
    "      abline(v=c(i), col=c(\"red\"), lty=c(1), lwd=c(1))\n",
    "    }\n",
    "  }\n",
    "}\n",
    "\n",
    "dev.off()"
   ]
  },
  {
   "cell_type": "code",
   "execution_count": 7,
   "id": "d53acf17-831d-4a49-92f5-bffaa9792ba0",
   "metadata": {},
   "outputs": [
    {
     "data": {
      "text/html": [
       "<strong>png:</strong> 2"
      ],
      "text/latex": [
       "\\textbf{png:} 2"
      ],
      "text/markdown": [
       "**png:** 2"
      ],
      "text/plain": [
       "png \n",
       "  2 "
      ]
     },
     "metadata": {},
     "output_type": "display_data"
    }
   ],
   "source": [
    "pdf(\"promedios_nocero_desde202010.pdf\")\n",
    "\n",
    "for( campo in  campos_buenos )\n",
    "{\n",
    "  tbl   <- dataset[ foto_mes<=202105 & get(campo)!=0,\n",
    "           list( \"promedio\" = mean( get(campo), na.rm=TRUE)) ,\n",
    "           foto_mes ]\n",
    "\n",
    "  ceros <- dataset[ foto_mes<=202105 ,\n",
    "                    list( \"zero_ratio\" = sum(get(campo)==0, na.rm=TRUE)/.N ) ,\n",
    "                    foto_mes ]\n",
    "  \n",
    "  plot(x= 1:nrow(tbl),\n",
    "       y= tbl$promedio,\n",
    "       type= \"o\",\n",
    "       main= paste0(\"Promedios NO cero -  \",  campo),\n",
    "       xlab= \"Periodo\",\n",
    "       ylab= \"Promedio valores no cero\",\n",
    "       xaxt= \"n\"\n",
    "     )\n",
    "\n",
    "  axis(1, at=1:nrow(tbl), labels=tbl$foto_mes)\n",
    "\n",
    "  abline(v=c(1,13,25), col=c(\"green\",\"green\",\"green\"), lty=c(1,1,1), lwd=c(1,1,1))\n",
    "  \n",
    "  for( i in 1:nrow(tbl) )\n",
    "  {\n",
    "    if( ceros[ i, zero_ratio]> 0.99 &  median(ceros[ , zero_ratio]) < 0.99 )\n",
    "    {\n",
    "      abline(v=c(i), col=c(\"red\"), lty=c(1), lwd=c(1))\n",
    "    }\n",
    "  }\n",
    "}\n",
    "\n",
    "dev.off()"
   ]
  },
  {
   "cell_type": "code",
   "execution_count": 8,
   "id": "a9a6e738-8767-41e3-a10a-c31fe7a8254e",
   "metadata": {},
   "outputs": [],
   "source": [
    "#dejo la marca final\n",
    "cat( format(Sys.time(), \"%Y%m%d %H%M%S\"),\"\\n\",\n",
    "     file= \"zRend.txt\",\n",
    "     append= TRUE  )"
   ]
  }
 ],
 "metadata": {
  "kernelspec": {
   "display_name": "R",
   "language": "R",
   "name": "ir"
  },
  "language_info": {
   "codemirror_mode": "r",
   "file_extension": ".r",
   "mimetype": "text/x-r-source",
   "name": "R",
   "pygments_lexer": "r",
   "version": "4.2.1"
  }
 },
 "nbformat": 4,
 "nbformat_minor": 5
}
