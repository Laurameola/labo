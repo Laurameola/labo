{
 "cells": [
  {
   "cell_type": "code",
   "execution_count": 1,
   "id": "df6fd0c7-4920-45b2-88b3-7658c28eb919",
   "metadata": {},
   "outputs": [
    {
     "data": {
      "text/html": [
       "<table class=\"dataframe\">\n",
       "<caption>A matrix: 2 × 6 of type dbl</caption>\n",
       "<thead>\n",
       "\t<tr><th></th><th scope=col>used</th><th scope=col>(Mb)</th><th scope=col>gc trigger</th><th scope=col>(Mb)</th><th scope=col>max used</th><th scope=col>(Mb)</th></tr>\n",
       "</thead>\n",
       "<tbody>\n",
       "\t<tr><th scope=row>Ncells</th><td> 604709</td><td>32.3</td><td>1292120</td><td>69.1</td><td>1292120</td><td>69.1</td></tr>\n",
       "\t<tr><th scope=row>Vcells</th><td>1087513</td><td> 8.3</td><td>8388608</td><td>64.0</td><td>1632674</td><td>12.5</td></tr>\n",
       "</tbody>\n",
       "</table>\n"
      ],
      "text/latex": [
       "A matrix: 2 × 6 of type dbl\n",
       "\\begin{tabular}{r|llllll}\n",
       "  & used & (Mb) & gc trigger & (Mb) & max used & (Mb)\\\\\n",
       "\\hline\n",
       "\tNcells &  604709 & 32.3 & 1292120 & 69.1 & 1292120 & 69.1\\\\\n",
       "\tVcells & 1087513 &  8.3 & 8388608 & 64.0 & 1632674 & 12.5\\\\\n",
       "\\end{tabular}\n"
      ],
      "text/markdown": [
       "\n",
       "A matrix: 2 × 6 of type dbl\n",
       "\n",
       "| <!--/--> | used | (Mb) | gc trigger | (Mb) | max used | (Mb) |\n",
       "|---|---|---|---|---|---|---|\n",
       "| Ncells |  604709 | 32.3 | 1292120 | 69.1 | 1292120 | 69.1 |\n",
       "| Vcells | 1087513 |  8.3 | 8388608 | 64.0 | 1632674 | 12.5 |\n",
       "\n"
      ],
      "text/plain": [
       "       used    (Mb) gc trigger (Mb) max used (Mb)\n",
       "Ncells  604709 32.3 1292120    69.1 1292120  69.1\n",
       "Vcells 1087513  8.3 8388608    64.0 1632674  12.5"
      ]
     },
     "metadata": {},
     "output_type": "display_data"
    },
    {
     "name": "stderr",
     "output_type": "stream",
     "text": [
      "Loading required package: data.table\n",
      "\n",
      "Loading required package: Rcpp\n",
      "\n",
      "Loading required package: ranger\n",
      "\n",
      "Loading required package: randomForest\n",
      "\n",
      "randomForest 4.7-1.1\n",
      "\n",
      "Type rfNews() to see new features/changes/bug fixes.\n",
      "\n",
      "\n",
      "Attaching package: 'randomForest'\n",
      "\n",
      "\n",
      "The following object is masked from 'package:ranger':\n",
      "\n",
      "    importance\n",
      "\n",
      "\n",
      "Loading required package: lightgbm\n",
      "\n",
      "Loading required package: R6\n",
      "\n"
     ]
    }
   ],
   "source": [
    "#limpio la memoria\n",
    "rm( list=ls() )  #remove all objects\n",
    "gc()             #garbage collection\n",
    "\n",
    "require(\"data.table\")\n",
    "require(\"Rcpp\")\n",
    "\n",
    "require(\"ranger\")\n",
    "require(\"randomForest\")  #solo se usa para imputar nulos\n",
    "\n",
    "require(\"lightgbm\")\n"
   ]
  },
  {
   "cell_type": "code",
   "execution_count": 2,
   "id": "5c85a456-26cd-4a9b-a946-494f35588a8b",
   "metadata": {},
   "outputs": [],
   "source": [
    "#------------------------------------------------------------------------------\n",
    "\n",
    "options(error = function() { \n",
    "  traceback(20); \n",
    "  options(error = NULL); \n",
    "  stop(\"exiting after script error\") \n",
    "})"
   ]
  },
  {
   "cell_type": "code",
   "execution_count": 3,
   "id": "a9c80243-354b-4b36-bde6-74759f9a6d65",
   "metadata": {},
   "outputs": [],
   "source": [
    "setwd(\"C:/_MCD/Labo1/code\")  #Establezco el Working Directory\n",
    "#setwd(\"~/buckets/b1/\")\n",
    "\n",
    "#cargo el dataset\n",
    "dataset  <- fread(\"./datasets/comp1/competencia1_2022_fe_alternativo1_rank0simple.csv\")   #donde entreno# FIN Parametros del script"
   ]
  },
  {
   "cell_type": "code",
   "execution_count": 6,
   "id": "6fc21082-0470-4017-a84d-f90a473e136f",
   "metadata": {},
   "outputs": [],
   "source": [
    "#------------------------------------------------------------------------------\n",
    "VPOS_CORTE  <- c()\n",
    "\n",
    "fganancia_lgbm_meseta  <- function(probs, datos) \n",
    "{\n",
    "  vlabels  <- get_field(datos, \"label\")\n",
    "  vpesos   <- get_field(datos, \"weight\")\n",
    "\n",
    "  tbl  <- as.data.table( list( \"prob\"=probs, \"gan\"= ifelse( vlabels==1 & vpesos > 1, 78000, -2000 ) ) )\n",
    "\n",
    "  setorder( tbl, -prob )\n",
    "  tbl[ , posicion := .I ]\n",
    "  tbl[ , gan_acum :=  cumsum( gan ) ]\n",
    "  setorder( tbl, -gan_acum )   #voy por la meseta\n",
    "\n",
    "  gan  <- mean( tbl[ 1:500,  gan_acum] )  #meseta de tamaño 500\n",
    "\n",
    "  pos_meseta  <- tbl[ 1:500,  median(posicion)]\n",
    "  VPOS_CORTE  <<- c( VPOS_CORTE, pos_meseta )\n",
    "\n",
    "  return( list( \"name\"= \"ganancia\", \n",
    "                \"value\"=  gan,\n",
    "                \"higher_better\"= TRUE ) )\n",
    "}\n",
    "#------------------------------------------------------------------------------\n",
    "#Elimina del dataset las variables que estan por debajo de la capa geologica de canaritos\n",
    "#se llama varias veces, luego de agregar muchas variables nuevas, para ir reduciendo la cantidad de variables\n",
    "# y así hacer lugar a nuevas variables importantes\n",
    "\n",
    "GVEZ <- 1 \n",
    "\n",
    "CanaritosAsesinos  <- function( canaritos_ratio=0.2 )\n",
    "{\n",
    "  gc()\n",
    "  dataset[ , clase01:= ifelse( clase_ternaria==\"CONTINUA\", 0, 1 ) ]\n",
    "\n",
    "  for( i  in 1:(ncol(dataset)*canaritos_ratio))  dataset[ , paste0(\"canarito\", i ) :=  runif( nrow(dataset))]\n",
    "\n",
    "  campos_buenos  <- setdiff( colnames(dataset), c(\"clase_ternaria\",\"clase01\", \"foto_mes\" ) )\n",
    "\n",
    "  azar  <- runif( nrow(dataset) )\n",
    "  dataset[ , entrenamiento := foto_mes>= 202010 &  foto_mes<= 202101  & ( clase01==1 | azar < 0.10 ) ]\n",
    "\n",
    "  dtrain  <- lgb.Dataset( data=    data.matrix(  dataset[ entrenamiento==TRUE, campos_buenos, with=FALSE]),\n",
    "                          label=   dataset[ entrenamiento==TRUE, clase01],\n",
    "                          weight=  dataset[ entrenamiento==TRUE, ifelse(clase_ternaria==\"BAJA+2\", 1.0000001, 1.0)],\n",
    "                          free_raw_data= FALSE\n",
    "                        )\n",
    "\n",
    "  dvalid  <- lgb.Dataset( data=    data.matrix(  dataset[ foto_mes==202103, campos_buenos, with=FALSE]),\n",
    "                          label=   dataset[ foto_mes==202103, clase01],\n",
    "                          weight=  dataset[ foto_mes==202103, ifelse(clase_ternaria==\"BAJA+2\", 1.0000001, 1.0)],\n",
    "                          free_raw_data= FALSE\n",
    "                          )\n",
    "\n",
    "\n",
    "  param <- list( objective= \"binary\",\n",
    "                 metric= \"custom\",\n",
    "                 first_metric_only= TRUE,\n",
    "                 boost_from_average= TRUE,\n",
    "                 feature_pre_filter= FALSE,\n",
    "                 verbosity= -100,\n",
    "                 seed= 999983,\n",
    "                 max_depth=  -1,         # -1 significa no limitar,  por ahora lo dejo fijo\n",
    "                 min_gain_to_split= 0.0, #por ahora, lo dejo fijo\n",
    "                 lambda_l1= 0.0,         #por ahora, lo dejo fijo\n",
    "                 lambda_l2= 0.0,         #por ahora, lo dejo fijo\n",
    "                 max_bin= 31,            #por ahora, lo dejo fijo\n",
    "                 num_iterations= 9999,   #un numero muy grande, lo limita early_stopping_rounds\n",
    "                 force_row_wise= TRUE,    #para que los alumnos no se atemoricen con tantos warning\n",
    "                 learning_rate= 0.065, \n",
    "                 feature_fraction= 1.0,   #lo seteo en 1 para que las primeras variables del dataset no se vean opacadas\n",
    "                 min_data_in_leaf= 260,\n",
    "                 num_leaves= 60,\n",
    "                 early_stopping_rounds= 200 )\n",
    "\n",
    "  modelo  <- lgb.train( data= dtrain,\n",
    "                        valids= list( valid= dvalid ),\n",
    "                        eval= fganancia_lgbm_meseta,\n",
    "                        param= param,\n",
    "                        verbose= -100 )\n",
    "\n",
    "  tb_importancia  <- lgb.importance( model= modelo )\n",
    "  tb_importancia[  , pos := .I ]\n",
    "\n",
    "  fwrite( tb_importancia, \n",
    "          file= paste0( \"impo_\", GVEZ ,\".txt\"),\n",
    "          sep= \"\\t\" )\n",
    "\n",
    "  GVEZ  <<- GVEZ + 1\n",
    "\n",
    "  umbral  <- tb_importancia[ Feature %like% \"canarito\", median(pos) + 2*sd(pos) ]  #Atencion corto en la mediana mas DOS desvios!!\n",
    "\n",
    "  col_utiles  <- tb_importancia[ pos < umbral & !( Feature %like% \"canarito\"),  Feature ]\n",
    "  col_utiles  <-  unique( c( col_utiles,  c(\"numero_de_cliente\",\"foto_mes\",\"clase_ternaria\",\"mes\") ) )\n",
    "  col_inutiles  <- setdiff( colnames(dataset), col_utiles )\n",
    "\n",
    "  dataset[  ,  (col_inutiles) := NULL ]\n",
    "\n",
    "}\n",
    "#------------------------------------------------------------------------------\n",
    "#agrega para cada columna de cols una nueva variable _rank  que es un numero entre 0 y 1  del ranking de esa variable ese mes\n",
    "\n",
    "Rankeador  <- function( cols )\n",
    "{\n",
    "  gc()\n",
    "  sufijo  <- \"_rank\" \n",
    "\n",
    "  for( vcol in cols )\n",
    "  {\n",
    "     dataset[ , paste0( vcol, sufijo) := frank( get(vcol), ties.method= \"random\")/ .N, \n",
    "                by= foto_mes ]\n",
    "  }\n",
    "}"
   ]
  },
  {
   "cell_type": "code",
   "execution_count": 7,
   "id": "dd5909e1-f7ec-42c3-93fd-71a075324371",
   "metadata": {},
   "outputs": [
    {
     "name": "stdout",
     "output_type": "stream",
     "text": [
      "[LightGBM] [Warning] verbosity is set=-100, verbose=-100 will be ignored. Current value: verbosity=-100\n"
     ]
    },
    {
     "data": {
      "text/html": [
       "30"
      ],
      "text/latex": [
       "30"
      ],
      "text/markdown": [
       "30"
      ],
      "text/plain": [
       "[1] 30"
      ]
     },
     "metadata": {},
     "output_type": "display_data"
    }
   ],
   "source": [
    "kCanaritosAsesinos <- TRUE\n",
    "\n",
    "#ordeno el dataset por <numero_de_cliente, foto_mes> para poder hacer lags\n",
    "#  es MUY  importante esta linea\n",
    "setorder( dataset, numero_de_cliente, foto_mes )\n",
    "\n",
    "\n",
    "#Elimino las variables que no son tan importantes en el dataset\n",
    "# with great power comes grest responsability\n",
    "\n",
    "if( kCanaritosAsesinos )\n",
    "{\n",
    "  ncol( dataset )\n",
    "  CanaritosAsesinos( canaritos_ratio = 0.3 )\n",
    "  ncol( dataset )\n",
    "}\n",
    "\n"
   ]
  },
  {
   "cell_type": "code",
   "execution_count": 8,
   "id": "3e36e903-e337-4fe9-9019-7e3d400f0594",
   "metadata": {},
   "outputs": [],
   "source": [
    "fwrite( dataset,\n",
    "        file=\"./datasets/comp1/competencia1_2022_fe_alternativo1_rank0simple_optim.csv\",\n",
    "        sep= \",\" )"
   ]
  }
 ],
 "metadata": {
  "kernelspec": {
   "display_name": "R",
   "language": "R",
   "name": "ir"
  },
  "language_info": {
   "codemirror_mode": "r",
   "file_extension": ".r",
   "mimetype": "text/x-r-source",
   "name": "R",
   "pygments_lexer": "r",
   "version": "4.2.1"
  }
 },
 "nbformat": 4,
 "nbformat_minor": 5
}
