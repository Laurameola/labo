{
 "cells": [
  {
   "cell_type": "code",
   "execution_count": 1,
   "id": "7a589686-3473-4cfe-9ddb-ab065d18bd0c",
   "metadata": {},
   "outputs": [
    {
     "data": {
      "text/html": [
       "<table class=\"dataframe\">\n",
       "<caption>A matrix: 2 × 6 of type dbl</caption>\n",
       "<thead>\n",
       "\t<tr><th></th><th scope=col>used</th><th scope=col>(Mb)</th><th scope=col>gc trigger</th><th scope=col>(Mb)</th><th scope=col>max used</th><th scope=col>(Mb)</th></tr>\n",
       "</thead>\n",
       "<tbody>\n",
       "\t<tr><th scope=row>Ncells</th><td> 604528</td><td>32.3</td><td>1292120</td><td>69.1</td><td>1292120</td><td>69.1</td></tr>\n",
       "\t<tr><th scope=row>Vcells</th><td>1086897</td><td> 8.3</td><td>8388608</td><td>64.0</td><td>1632674</td><td>12.5</td></tr>\n",
       "</tbody>\n",
       "</table>\n"
      ],
      "text/latex": [
       "A matrix: 2 × 6 of type dbl\n",
       "\\begin{tabular}{r|llllll}\n",
       "  & used & (Mb) & gc trigger & (Mb) & max used & (Mb)\\\\\n",
       "\\hline\n",
       "\tNcells &  604528 & 32.3 & 1292120 & 69.1 & 1292120 & 69.1\\\\\n",
       "\tVcells & 1086897 &  8.3 & 8388608 & 64.0 & 1632674 & 12.5\\\\\n",
       "\\end{tabular}\n"
      ],
      "text/markdown": [
       "\n",
       "A matrix: 2 × 6 of type dbl\n",
       "\n",
       "| <!--/--> | used | (Mb) | gc trigger | (Mb) | max used | (Mb) |\n",
       "|---|---|---|---|---|---|---|\n",
       "| Ncells |  604528 | 32.3 | 1292120 | 69.1 | 1292120 | 69.1 |\n",
       "| Vcells | 1086897 |  8.3 | 8388608 | 64.0 | 1632674 | 12.5 |\n",
       "\n"
      ],
      "text/plain": [
       "       used    (Mb) gc trigger (Mb) max used (Mb)\n",
       "Ncells  604528 32.3 1292120    69.1 1292120  69.1\n",
       "Vcells 1086897  8.3 8388608    64.0 1632674  12.5"
      ]
     },
     "metadata": {},
     "output_type": "display_data"
    },
    {
     "name": "stderr",
     "output_type": "stream",
     "text": [
      "Loading required package: data.table\n",
      "\n"
     ]
    }
   ],
   "source": [
    "rm( list=ls() )  #remove all objects\n",
    "gc()             #garbage collection\n",
    "\n",
    "require(\"data.table\")"
   ]
  },
  {
   "cell_type": "code",
   "execution_count": 2,
   "id": "7fb07c06-1c14-4f19-87e5-bcdb9089db77",
   "metadata": {},
   "outputs": [],
   "source": [
    "setwd(\"C:/_MCD/Labo1/code\")  #Establezco el Working Directory"
   ]
  },
  {
   "cell_type": "code",
   "execution_count": 3,
   "id": "58cbb6a4-a668-4c94-9fe5-754f0b07bd78",
   "metadata": {},
   "outputs": [],
   "source": [
    "#cargo el dataset\n",
    "dataset  <- fread(\"./datasets/competencia2_2022_limpieza1.csv.gz\")   #donde entreno\n",
    "\n",
    "#ordeno el dataset\n",
    "setorder( dataset,  foto_mes )\n"
   ]
  },
  {
   "cell_type": "markdown",
   "id": "59da8d65-22e0-4c8d-b7d4-f875afc63e1b",
   "metadata": {},
   "source": [
    "# ctrx_quarter"
   ]
  },
  {
   "cell_type": "code",
   "execution_count": 4,
   "id": "921a2365-a78a-4ad8-a655-1d4fb5a9b0a6",
   "metadata": {},
   "outputs": [],
   "source": [
    "promMes <- dataset[ , .(prom_ctrx_quarter=mean(ctrx_quarter)), by = .(foto_mes)]"
   ]
  },
  {
   "cell_type": "code",
   "execution_count": 5,
   "id": "f20a7c06-bbb8-42d5-9ba1-971cd5d116ee",
   "metadata": {},
   "outputs": [
    {
     "data": {
      "text/html": [
       "<table class=\"dataframe\">\n",
       "<caption>A data.table: 3 × 154</caption>\n",
       "<thead>\n",
       "\t<tr><th scope=col>foto_mes</th><th scope=col>numero_de_cliente</th><th scope=col>active_quarter</th><th scope=col>cliente_vip</th><th scope=col>cliente_edad</th><th scope=col>cliente_antiguedad</th><th scope=col>mrentabilidad</th><th scope=col>mrentabilidad_annual</th><th scope=col>mcomisiones</th><th scope=col>mactivos_margen</th><th scope=col>⋯</th><th scope=col>Visa_mpagado</th><th scope=col>Visa_mpagospesos</th><th scope=col>Visa_mpagosdolares</th><th scope=col>Visa_fechaalta</th><th scope=col>Visa_mconsumototal</th><th scope=col>Visa_cconsumos</th><th scope=col>Visa_cadelantosefectivo</th><th scope=col>Visa_mpagominimo</th><th scope=col>clase_ternaria</th><th scope=col>prom_ctrx_quarter</th></tr>\n",
       "\t<tr><th scope=col>&lt;int&gt;</th><th scope=col>&lt;int&gt;</th><th scope=col>&lt;int&gt;</th><th scope=col>&lt;int&gt;</th><th scope=col>&lt;int&gt;</th><th scope=col>&lt;int&gt;</th><th scope=col>&lt;dbl&gt;</th><th scope=col>&lt;dbl&gt;</th><th scope=col>&lt;dbl&gt;</th><th scope=col>&lt;dbl&gt;</th><th scope=col>⋯</th><th scope=col>&lt;dbl&gt;</th><th scope=col>&lt;dbl&gt;</th><th scope=col>&lt;dbl&gt;</th><th scope=col>&lt;int&gt;</th><th scope=col>&lt;dbl&gt;</th><th scope=col>&lt;int&gt;</th><th scope=col>&lt;int&gt;</th><th scope=col>&lt;dbl&gt;</th><th scope=col>&lt;chr&gt;</th><th scope=col>&lt;dbl&gt;</th></tr>\n",
       "</thead>\n",
       "<tbody>\n",
       "\t<tr><td>202001</td><td>112986945</td><td>1</td><td>0</td><td>51</td><td> 38</td><td>7063.40</td><td>85281.11</td><td>276.13</td><td>-619.99</td><td>⋯</td><td>0</td><td> -2017.03</td><td> 0</td><td> 766</td><td>    0.00</td><td> 0</td><td> 0</td><td> 222.87</td><td>CONTINUA</td><td>116.01508</td></tr>\n",
       "\t<tr><td>202007</td><td>120390875</td><td>1</td><td>0</td><td>51</td><td> 21</td><td> 100.81</td><td> 7911.70</td><td>  0.00</td><td>   0.00</td><td>⋯</td><td>0</td><td>       NA</td><td>NA</td><td> 631</td><td>      NA</td><td>NA</td><td>NA</td><td>   0.00</td><td>CONTINUA</td><td>101.99869</td></tr>\n",
       "\t<tr><td>202004</td><td>115899702</td><td>1</td><td>0</td><td>48</td><td>122</td><td>2706.95</td><td>34700.76</td><td>470.56</td><td>-355.49</td><td>⋯</td><td>0</td><td>-43455.20</td><td> 0</td><td>1124</td><td>41716.38</td><td> 1</td><td> 0</td><td>2123.13</td><td>CONTINUA</td><td> 99.93116</td></tr>\n",
       "</tbody>\n",
       "</table>\n"
      ],
      "text/latex": [
       "A data.table: 3 × 154\n",
       "\\begin{tabular}{lllllllllllllllllllll}\n",
       " foto\\_mes & numero\\_de\\_cliente & active\\_quarter & cliente\\_vip & cliente\\_edad & cliente\\_antiguedad & mrentabilidad & mrentabilidad\\_annual & mcomisiones & mactivos\\_margen & ⋯ & Visa\\_mpagado & Visa\\_mpagospesos & Visa\\_mpagosdolares & Visa\\_fechaalta & Visa\\_mconsumototal & Visa\\_cconsumos & Visa\\_cadelantosefectivo & Visa\\_mpagominimo & clase\\_ternaria & prom\\_ctrx\\_quarter\\\\\n",
       " <int> & <int> & <int> & <int> & <int> & <int> & <dbl> & <dbl> & <dbl> & <dbl> & ⋯ & <dbl> & <dbl> & <dbl> & <int> & <dbl> & <int> & <int> & <dbl> & <chr> & <dbl>\\\\\n",
       "\\hline\n",
       "\t 202001 & 112986945 & 1 & 0 & 51 &  38 & 7063.40 & 85281.11 & 276.13 & -619.99 & ⋯ & 0 &  -2017.03 &  0 &  766 &     0.00 &  0 &  0 &  222.87 & CONTINUA & 116.01508\\\\\n",
       "\t 202007 & 120390875 & 1 & 0 & 51 &  21 &  100.81 &  7911.70 &   0.00 &    0.00 & ⋯ & 0 &        NA & NA &  631 &       NA & NA & NA &    0.00 & CONTINUA & 101.99869\\\\\n",
       "\t 202004 & 115899702 & 1 & 0 & 48 & 122 & 2706.95 & 34700.76 & 470.56 & -355.49 & ⋯ & 0 & -43455.20 &  0 & 1124 & 41716.38 &  1 &  0 & 2123.13 & CONTINUA &  99.93116\\\\\n",
       "\\end{tabular}\n"
      ],
      "text/markdown": [
       "\n",
       "A data.table: 3 × 154\n",
       "\n",
       "| foto_mes &lt;int&gt; | numero_de_cliente &lt;int&gt; | active_quarter &lt;int&gt; | cliente_vip &lt;int&gt; | cliente_edad &lt;int&gt; | cliente_antiguedad &lt;int&gt; | mrentabilidad &lt;dbl&gt; | mrentabilidad_annual &lt;dbl&gt; | mcomisiones &lt;dbl&gt; | mactivos_margen &lt;dbl&gt; | ⋯ ⋯ | Visa_mpagado &lt;dbl&gt; | Visa_mpagospesos &lt;dbl&gt; | Visa_mpagosdolares &lt;dbl&gt; | Visa_fechaalta &lt;int&gt; | Visa_mconsumototal &lt;dbl&gt; | Visa_cconsumos &lt;int&gt; | Visa_cadelantosefectivo &lt;int&gt; | Visa_mpagominimo &lt;dbl&gt; | clase_ternaria &lt;chr&gt; | prom_ctrx_quarter &lt;dbl&gt; |\n",
       "|---|---|---|---|---|---|---|---|---|---|---|---|---|---|---|---|---|---|---|---|---|\n",
       "| 202001 | 112986945 | 1 | 0 | 51 |  38 | 7063.40 | 85281.11 | 276.13 | -619.99 | ⋯ | 0 |  -2017.03 |  0 |  766 |     0.00 |  0 |  0 |  222.87 | CONTINUA | 116.01508 |\n",
       "| 202007 | 120390875 | 1 | 0 | 51 |  21 |  100.81 |  7911.70 |   0.00 |    0.00 | ⋯ | 0 |        NA | NA |  631 |       NA | NA | NA |    0.00 | CONTINUA | 101.99869 |\n",
       "| 202004 | 115899702 | 1 | 0 | 48 | 122 | 2706.95 | 34700.76 | 470.56 | -355.49 | ⋯ | 0 | -43455.20 |  0 | 1124 | 41716.38 |  1 |  0 | 2123.13 | CONTINUA |  99.93116 |\n",
       "\n"
      ],
      "text/plain": [
       "  foto_mes numero_de_cliente active_quarter cliente_vip cliente_edad\n",
       "1 202001   112986945         1              0           51          \n",
       "2 202007   120390875         1              0           51          \n",
       "3 202004   115899702         1              0           48          \n",
       "  cliente_antiguedad mrentabilidad mrentabilidad_annual mcomisiones\n",
       "1  38                7063.40       85281.11             276.13     \n",
       "2  21                 100.81        7911.70               0.00     \n",
       "3 122                2706.95       34700.76             470.56     \n",
       "  mactivos_margen ⋯ Visa_mpagado Visa_mpagospesos Visa_mpagosdolares\n",
       "1 -619.99         ⋯ 0             -2017.03         0                \n",
       "2    0.00         ⋯ 0                   NA        NA                \n",
       "3 -355.49         ⋯ 0            -43455.20         0                \n",
       "  Visa_fechaalta Visa_mconsumototal Visa_cconsumos Visa_cadelantosefectivo\n",
       "1  766               0.00            0              0                     \n",
       "2  631                 NA           NA             NA                     \n",
       "3 1124           41716.38            1              0                     \n",
       "  Visa_mpagominimo clase_ternaria prom_ctrx_quarter\n",
       "1  222.87          CONTINUA       116.01508        \n",
       "2    0.00          CONTINUA       101.99869        \n",
       "3 2123.13          CONTINUA        99.93116        "
      ]
     },
     "metadata": {},
     "output_type": "display_data"
    }
   ],
   "source": [
    "dataset_nuevo <- merge(dataset,promMes)\n",
    "dataset_nuevo[sample(.N, 3)] "
   ]
  },
  {
   "cell_type": "code",
   "execution_count": 6,
   "id": "ddd1fd01-0610-4754-996f-92d9d31996cc",
   "metadata": {},
   "outputs": [
    {
     "data": {
      "text/html": [
       "<table class=\"dataframe\">\n",
       "<caption>A data.table: 3 × 155</caption>\n",
       "<thead>\n",
       "\t<tr><th scope=col>foto_mes</th><th scope=col>numero_de_cliente</th><th scope=col>active_quarter</th><th scope=col>cliente_vip</th><th scope=col>cliente_edad</th><th scope=col>cliente_antiguedad</th><th scope=col>mrentabilidad</th><th scope=col>mrentabilidad_annual</th><th scope=col>mcomisiones</th><th scope=col>mactivos_margen</th><th scope=col>⋯</th><th scope=col>Visa_mpagospesos</th><th scope=col>Visa_mpagosdolares</th><th scope=col>Visa_fechaalta</th><th scope=col>Visa_mconsumototal</th><th scope=col>Visa_cconsumos</th><th scope=col>Visa_cadelantosefectivo</th><th scope=col>Visa_mpagominimo</th><th scope=col>clase_ternaria</th><th scope=col>prom_ctrx_quarter</th><th scope=col>ctrx_quarter_estandar</th></tr>\n",
       "\t<tr><th scope=col>&lt;int&gt;</th><th scope=col>&lt;int&gt;</th><th scope=col>&lt;int&gt;</th><th scope=col>&lt;int&gt;</th><th scope=col>&lt;int&gt;</th><th scope=col>&lt;int&gt;</th><th scope=col>&lt;dbl&gt;</th><th scope=col>&lt;dbl&gt;</th><th scope=col>&lt;dbl&gt;</th><th scope=col>&lt;dbl&gt;</th><th scope=col>⋯</th><th scope=col>&lt;dbl&gt;</th><th scope=col>&lt;dbl&gt;</th><th scope=col>&lt;int&gt;</th><th scope=col>&lt;dbl&gt;</th><th scope=col>&lt;int&gt;</th><th scope=col>&lt;int&gt;</th><th scope=col>&lt;dbl&gt;</th><th scope=col>&lt;chr&gt;</th><th scope=col>&lt;dbl&gt;</th><th scope=col>&lt;dbl&gt;</th></tr>\n",
       "</thead>\n",
       "<tbody>\n",
       "\t<tr><td>202010</td><td>106869182</td><td>1</td><td>0</td><td>45</td><td>150</td><td>2125.32</td><td>53905.36</td><td>2841.40</td><td>-2870.36</td><td>⋯</td><td> -28236.15</td><td>45.11</td><td>4113</td><td> 27133.69</td><td>11</td><td>0</td><td> 1407.60</td><td>CONTINUA</td><td>107.1745</td><td>1.278289</td></tr>\n",
       "\t<tr><td>202105</td><td> 92162702</td><td>1</td><td>0</td><td>34</td><td>174</td><td>2965.81</td><td>19261.83</td><td>1330.93</td><td>  727.01</td><td>⋯</td><td> -64515.00</td><td> 0.00</td><td>4754</td><td> 48279.46</td><td>41</td><td>0</td><td>14779.80</td><td>        </td><td>119.2678</td><td>2.297351</td></tr>\n",
       "\t<tr><td>202102</td><td> 93669850</td><td>1</td><td>0</td><td>39</td><td>115</td><td> 199.71</td><td>16768.82</td><td>1084.25</td><td>-2221.18</td><td>⋯</td><td>-193227.75</td><td> 0.00</td><td>3440</td><td>109304.96</td><td>63</td><td>0</td><td> 6381.12</td><td>CONTINUA</td><td>119.6463</td><td>3.568854</td></tr>\n",
       "</tbody>\n",
       "</table>\n"
      ],
      "text/latex": [
       "A data.table: 3 × 155\n",
       "\\begin{tabular}{lllllllllllllllllllll}\n",
       " foto\\_mes & numero\\_de\\_cliente & active\\_quarter & cliente\\_vip & cliente\\_edad & cliente\\_antiguedad & mrentabilidad & mrentabilidad\\_annual & mcomisiones & mactivos\\_margen & ⋯ & Visa\\_mpagospesos & Visa\\_mpagosdolares & Visa\\_fechaalta & Visa\\_mconsumototal & Visa\\_cconsumos & Visa\\_cadelantosefectivo & Visa\\_mpagominimo & clase\\_ternaria & prom\\_ctrx\\_quarter & ctrx\\_quarter\\_estandar\\\\\n",
       " <int> & <int> & <int> & <int> & <int> & <int> & <dbl> & <dbl> & <dbl> & <dbl> & ⋯ & <dbl> & <dbl> & <int> & <dbl> & <int> & <int> & <dbl> & <chr> & <dbl> & <dbl>\\\\\n",
       "\\hline\n",
       "\t 202010 & 106869182 & 1 & 0 & 45 & 150 & 2125.32 & 53905.36 & 2841.40 & -2870.36 & ⋯ &  -28236.15 & 45.11 & 4113 &  27133.69 & 11 & 0 &  1407.60 & CONTINUA & 107.1745 & 1.278289\\\\\n",
       "\t 202105 &  92162702 & 1 & 0 & 34 & 174 & 2965.81 & 19261.83 & 1330.93 &   727.01 & ⋯ &  -64515.00 &  0.00 & 4754 &  48279.46 & 41 & 0 & 14779.80 &          & 119.2678 & 2.297351\\\\\n",
       "\t 202102 &  93669850 & 1 & 0 & 39 & 115 &  199.71 & 16768.82 & 1084.25 & -2221.18 & ⋯ & -193227.75 &  0.00 & 3440 & 109304.96 & 63 & 0 &  6381.12 & CONTINUA & 119.6463 & 3.568854\\\\\n",
       "\\end{tabular}\n"
      ],
      "text/markdown": [
       "\n",
       "A data.table: 3 × 155\n",
       "\n",
       "| foto_mes &lt;int&gt; | numero_de_cliente &lt;int&gt; | active_quarter &lt;int&gt; | cliente_vip &lt;int&gt; | cliente_edad &lt;int&gt; | cliente_antiguedad &lt;int&gt; | mrentabilidad &lt;dbl&gt; | mrentabilidad_annual &lt;dbl&gt; | mcomisiones &lt;dbl&gt; | mactivos_margen &lt;dbl&gt; | ⋯ ⋯ | Visa_mpagospesos &lt;dbl&gt; | Visa_mpagosdolares &lt;dbl&gt; | Visa_fechaalta &lt;int&gt; | Visa_mconsumototal &lt;dbl&gt; | Visa_cconsumos &lt;int&gt; | Visa_cadelantosefectivo &lt;int&gt; | Visa_mpagominimo &lt;dbl&gt; | clase_ternaria &lt;chr&gt; | prom_ctrx_quarter &lt;dbl&gt; | ctrx_quarter_estandar &lt;dbl&gt; |\n",
       "|---|---|---|---|---|---|---|---|---|---|---|---|---|---|---|---|---|---|---|---|---|\n",
       "| 202010 | 106869182 | 1 | 0 | 45 | 150 | 2125.32 | 53905.36 | 2841.40 | -2870.36 | ⋯ |  -28236.15 | 45.11 | 4113 |  27133.69 | 11 | 0 |  1407.60 | CONTINUA | 107.1745 | 1.278289 |\n",
       "| 202105 |  92162702 | 1 | 0 | 34 | 174 | 2965.81 | 19261.83 | 1330.93 |   727.01 | ⋯ |  -64515.00 |  0.00 | 4754 |  48279.46 | 41 | 0 | 14779.80 | <!----> | 119.2678 | 2.297351 |\n",
       "| 202102 |  93669850 | 1 | 0 | 39 | 115 |  199.71 | 16768.82 | 1084.25 | -2221.18 | ⋯ | -193227.75 |  0.00 | 3440 | 109304.96 | 63 | 0 |  6381.12 | CONTINUA | 119.6463 | 3.568854 |\n",
       "\n"
      ],
      "text/plain": [
       "  foto_mes numero_de_cliente active_quarter cliente_vip cliente_edad\n",
       "1 202010   106869182         1              0           45          \n",
       "2 202105    92162702         1              0           34          \n",
       "3 202102    93669850         1              0           39          \n",
       "  cliente_antiguedad mrentabilidad mrentabilidad_annual mcomisiones\n",
       "1 150                2125.32       53905.36             2841.40    \n",
       "2 174                2965.81       19261.83             1330.93    \n",
       "3 115                 199.71       16768.82             1084.25    \n",
       "  mactivos_margen ⋯ Visa_mpagospesos Visa_mpagosdolares Visa_fechaalta\n",
       "1 -2870.36        ⋯  -28236.15       45.11              4113          \n",
       "2   727.01        ⋯  -64515.00        0.00              4754          \n",
       "3 -2221.18        ⋯ -193227.75        0.00              3440          \n",
       "  Visa_mconsumototal Visa_cconsumos Visa_cadelantosefectivo Visa_mpagominimo\n",
       "1  27133.69          11             0                        1407.60        \n",
       "2  48279.46          41             0                       14779.80        \n",
       "3 109304.96          63             0                        6381.12        \n",
       "  clase_ternaria prom_ctrx_quarter ctrx_quarter_estandar\n",
       "1 CONTINUA       107.1745          1.278289             \n",
       "2                119.2678          2.297351             \n",
       "3 CONTINUA       119.6463          3.568854             "
      ]
     },
     "metadata": {},
     "output_type": "display_data"
    }
   ],
   "source": [
    "dataset_nuevo[,ctrx_quarter_estandar:=(ctrx_quarter/prom_ctrx_quarter)]\n",
    "dataset_nuevo[sample(.N, 3)] "
   ]
  },
  {
   "cell_type": "code",
   "execution_count": 7,
   "id": "4f9f6e3c-f8d7-4c6d-a26a-d30265171cae",
   "metadata": {},
   "outputs": [],
   "source": [
    "v <- c(\"ctrx_quarter\",\"ctrx_quarter_norm\",\"prom_ctrx_quarter\")\n",
    "#dataset_nuevo[, ..v]"
   ]
  },
  {
   "cell_type": "markdown",
   "id": "14a3a94f-fe82-46be-b189-a1071e643ac0",
   "metadata": {},
   "source": [
    "# mcuentas_saldo"
   ]
  },
  {
   "cell_type": "code",
   "execution_count": 8,
   "id": "79d392bb-6356-450a-b6b4-0f0d2e373cdf",
   "metadata": {},
   "outputs": [],
   "source": [
    "dataset_ipc  <- fread(\"./datasets/IPC_al_202105.csv\")"
   ]
  },
  {
   "cell_type": "code",
   "execution_count": 9,
   "id": "b6e01aa1-2396-4ec1-9a37-9133f9b91601",
   "metadata": {},
   "outputs": [
    {
     "data": {
      "text/html": [
       "<table class=\"dataframe\">\n",
       "<caption>A data.table: 6 × 4</caption>\n",
       "<thead>\n",
       "\t<tr><th scope=col>foto_mes</th><th scope=col>IPC_porc</th><th scope=col>IPC_dec</th><th scope=col>IPC_acum_actual</th></tr>\n",
       "\t<tr><th scope=col>&lt;int&gt;</th><th scope=col>&lt;dbl&gt;</th><th scope=col>&lt;dbl&gt;</th><th scope=col>&lt;dbl&gt;</th></tr>\n",
       "</thead>\n",
       "<tbody>\n",
       "\t<tr><td>201901</td><td>2.8</td><td>0.028</td><td>2.397943</td></tr>\n",
       "\t<tr><td>201902</td><td>3.8</td><td>0.038</td><td>2.332629</td></tr>\n",
       "\t<tr><td>201903</td><td>4.8</td><td>0.048</td><td>2.247235</td></tr>\n",
       "\t<tr><td>201904</td><td>3.2</td><td>0.032</td><td>2.144308</td></tr>\n",
       "\t<tr><td>201905</td><td>3.0</td><td>0.030</td><td>2.077818</td></tr>\n",
       "\t<tr><td>201906</td><td>2.6</td><td>0.026</td><td>2.017299</td></tr>\n",
       "</tbody>\n",
       "</table>\n"
      ],
      "text/latex": [
       "A data.table: 6 × 4\n",
       "\\begin{tabular}{llll}\n",
       " foto\\_mes & IPC\\_porc & IPC\\_dec & IPC\\_acum\\_actual\\\\\n",
       " <int> & <dbl> & <dbl> & <dbl>\\\\\n",
       "\\hline\n",
       "\t 201901 & 2.8 & 0.028 & 2.397943\\\\\n",
       "\t 201902 & 3.8 & 0.038 & 2.332629\\\\\n",
       "\t 201903 & 4.8 & 0.048 & 2.247235\\\\\n",
       "\t 201904 & 3.2 & 0.032 & 2.144308\\\\\n",
       "\t 201905 & 3.0 & 0.030 & 2.077818\\\\\n",
       "\t 201906 & 2.6 & 0.026 & 2.017299\\\\\n",
       "\\end{tabular}\n"
      ],
      "text/markdown": [
       "\n",
       "A data.table: 6 × 4\n",
       "\n",
       "| foto_mes &lt;int&gt; | IPC_porc &lt;dbl&gt; | IPC_dec &lt;dbl&gt; | IPC_acum_actual &lt;dbl&gt; |\n",
       "|---|---|---|---|\n",
       "| 201901 | 2.8 | 0.028 | 2.397943 |\n",
       "| 201902 | 3.8 | 0.038 | 2.332629 |\n",
       "| 201903 | 4.8 | 0.048 | 2.247235 |\n",
       "| 201904 | 3.2 | 0.032 | 2.144308 |\n",
       "| 201905 | 3.0 | 0.030 | 2.077818 |\n",
       "| 201906 | 2.6 | 0.026 | 2.017299 |\n",
       "\n"
      ],
      "text/plain": [
       "  foto_mes IPC_porc IPC_dec IPC_acum_actual\n",
       "1 201901   2.8      0.028   2.397943       \n",
       "2 201902   3.8      0.038   2.332629       \n",
       "3 201903   4.8      0.048   2.247235       \n",
       "4 201904   3.2      0.032   2.144308       \n",
       "5 201905   3.0      0.030   2.077818       \n",
       "6 201906   2.6      0.026   2.017299       "
      ]
     },
     "metadata": {},
     "output_type": "display_data"
    }
   ],
   "source": [
    "head(dataset_ipc)"
   ]
  },
  {
   "cell_type": "code",
   "execution_count": 10,
   "id": "432e3468-a97c-4f6c-b718-f93c990a67c4",
   "metadata": {},
   "outputs": [
    {
     "data": {
      "text/html": [
       "<table class=\"dataframe\">\n",
       "<caption>A data.table: 3 × 161</caption>\n",
       "<thead>\n",
       "\t<tr><th scope=col>foto_mes</th><th scope=col>numero_de_cliente</th><th scope=col>active_quarter</th><th scope=col>cliente_vip</th><th scope=col>cliente_edad</th><th scope=col>cliente_antiguedad</th><th scope=col>mrentabilidad</th><th scope=col>mrentabilidad_annual</th><th scope=col>mcomisiones</th><th scope=col>mactivos_margen</th><th scope=col>⋯</th><th scope=col>Visa_mpagominimo</th><th scope=col>clase_ternaria</th><th scope=col>prom_ctrx_quarter</th><th scope=col>ctrx_quarter_estandar</th><th scope=col>IPC_porc</th><th scope=col>IPC_dec</th><th scope=col>IPC_acum_actual</th><th scope=col>mcuentas_saldo_ipc</th><th scope=col>mcuentas_saldo_ipc_log</th><th scope=col>mcuentas_saldo_ipc_plus</th></tr>\n",
       "\t<tr><th scope=col>&lt;int&gt;</th><th scope=col>&lt;int&gt;</th><th scope=col>&lt;int&gt;</th><th scope=col>&lt;int&gt;</th><th scope=col>&lt;int&gt;</th><th scope=col>&lt;int&gt;</th><th scope=col>&lt;dbl&gt;</th><th scope=col>&lt;dbl&gt;</th><th scope=col>&lt;dbl&gt;</th><th scope=col>&lt;dbl&gt;</th><th scope=col>⋯</th><th scope=col>&lt;dbl&gt;</th><th scope=col>&lt;chr&gt;</th><th scope=col>&lt;dbl&gt;</th><th scope=col>&lt;dbl&gt;</th><th scope=col>&lt;dbl&gt;</th><th scope=col>&lt;dbl&gt;</th><th scope=col>&lt;dbl&gt;</th><th scope=col>&lt;dbl&gt;</th><th scope=col>&lt;dbl&gt;</th><th scope=col>&lt;dbl&gt;</th></tr>\n",
       "</thead>\n",
       "<tbody>\n",
       "\t<tr><td>202011</td><td> 36402884</td><td>1</td><td>0</td><td>48</td><td>279</td><td>2943.30</td><td>21068.0</td><td> 182.63</td><td>    0.00</td><td>⋯</td><td>   0.00</td><td>CONTINUA</td><td>108.9607</td><td>1.0921371</td><td>3.0</td><td>0.030</td><td>1.251822</td><td>232677.078</td><td>15.72248</td><td>204457.836</td></tr>\n",
       "\t<tr><td>202001</td><td>133837717</td><td>1</td><td>0</td><td>34</td><td> 86</td><td>1660.97</td><td> 7775.3</td><td>1336.77</td><td> -150.46</td><td>⋯</td><td> 363.63</td><td>CONTINUA</td><td>116.0151</td><td>0.6292286</td><td>1.9</td><td>0.019</td><td>1.570971</td><td> 94180.813</td><td>15.70170</td><td> 65945.781</td></tr>\n",
       "\t<tr><td>202011</td><td>102315011</td><td>1</td><td>0</td><td>51</td><td>158</td><td> 234.35</td><td>-2927.3</td><td>1615.27</td><td>-1765.27</td><td>⋯</td><td>5841.54</td><td>CONTINUA</td><td>108.9607</td><td>0.5231245</td><td>3.0</td><td>0.030</td><td>1.251822</td><td>  9924.994</td><td>15.68884</td><td>  8721.284</td></tr>\n",
       "</tbody>\n",
       "</table>\n"
      ],
      "text/latex": [
       "A data.table: 3 × 161\n",
       "\\begin{tabular}{lllllllllllllllllllll}\n",
       " foto\\_mes & numero\\_de\\_cliente & active\\_quarter & cliente\\_vip & cliente\\_edad & cliente\\_antiguedad & mrentabilidad & mrentabilidad\\_annual & mcomisiones & mactivos\\_margen & ⋯ & Visa\\_mpagominimo & clase\\_ternaria & prom\\_ctrx\\_quarter & ctrx\\_quarter\\_estandar & IPC\\_porc & IPC\\_dec & IPC\\_acum\\_actual & mcuentas\\_saldo\\_ipc & mcuentas\\_saldo\\_ipc\\_log & mcuentas\\_saldo\\_ipc\\_plus\\\\\n",
       " <int> & <int> & <int> & <int> & <int> & <int> & <dbl> & <dbl> & <dbl> & <dbl> & ⋯ & <dbl> & <chr> & <dbl> & <dbl> & <dbl> & <dbl> & <dbl> & <dbl> & <dbl> & <dbl>\\\\\n",
       "\\hline\n",
       "\t 202011 &  36402884 & 1 & 0 & 48 & 279 & 2943.30 & 21068.0 &  182.63 &     0.00 & ⋯ &    0.00 & CONTINUA & 108.9607 & 1.0921371 & 3.0 & 0.030 & 1.251822 & 232677.078 & 15.72248 & 204457.836\\\\\n",
       "\t 202001 & 133837717 & 1 & 0 & 34 &  86 & 1660.97 &  7775.3 & 1336.77 &  -150.46 & ⋯ &  363.63 & CONTINUA & 116.0151 & 0.6292286 & 1.9 & 0.019 & 1.570971 &  94180.813 & 15.70170 &  65945.781\\\\\n",
       "\t 202011 & 102315011 & 1 & 0 & 51 & 158 &  234.35 & -2927.3 & 1615.27 & -1765.27 & ⋯ & 5841.54 & CONTINUA & 108.9607 & 0.5231245 & 3.0 & 0.030 & 1.251822 &   9924.994 & 15.68884 &   8721.284\\\\\n",
       "\\end{tabular}\n"
      ],
      "text/markdown": [
       "\n",
       "A data.table: 3 × 161\n",
       "\n",
       "| foto_mes &lt;int&gt; | numero_de_cliente &lt;int&gt; | active_quarter &lt;int&gt; | cliente_vip &lt;int&gt; | cliente_edad &lt;int&gt; | cliente_antiguedad &lt;int&gt; | mrentabilidad &lt;dbl&gt; | mrentabilidad_annual &lt;dbl&gt; | mcomisiones &lt;dbl&gt; | mactivos_margen &lt;dbl&gt; | ⋯ ⋯ | Visa_mpagominimo &lt;dbl&gt; | clase_ternaria &lt;chr&gt; | prom_ctrx_quarter &lt;dbl&gt; | ctrx_quarter_estandar &lt;dbl&gt; | IPC_porc &lt;dbl&gt; | IPC_dec &lt;dbl&gt; | IPC_acum_actual &lt;dbl&gt; | mcuentas_saldo_ipc &lt;dbl&gt; | mcuentas_saldo_ipc_log &lt;dbl&gt; | mcuentas_saldo_ipc_plus &lt;dbl&gt; |\n",
       "|---|---|---|---|---|---|---|---|---|---|---|---|---|---|---|---|---|---|---|---|---|\n",
       "| 202011 |  36402884 | 1 | 0 | 48 | 279 | 2943.30 | 21068.0 |  182.63 |     0.00 | ⋯ |    0.00 | CONTINUA | 108.9607 | 1.0921371 | 3.0 | 0.030 | 1.251822 | 232677.078 | 15.72248 | 204457.836 |\n",
       "| 202001 | 133837717 | 1 | 0 | 34 |  86 | 1660.97 |  7775.3 | 1336.77 |  -150.46 | ⋯ |  363.63 | CONTINUA | 116.0151 | 0.6292286 | 1.9 | 0.019 | 1.570971 |  94180.813 | 15.70170 |  65945.781 |\n",
       "| 202011 | 102315011 | 1 | 0 | 51 | 158 |  234.35 | -2927.3 | 1615.27 | -1765.27 | ⋯ | 5841.54 | CONTINUA | 108.9607 | 0.5231245 | 3.0 | 0.030 | 1.251822 |   9924.994 | 15.68884 |   8721.284 |\n",
       "\n"
      ],
      "text/plain": [
       "  foto_mes numero_de_cliente active_quarter cliente_vip cliente_edad\n",
       "1 202011    36402884         1              0           48          \n",
       "2 202001   133837717         1              0           34          \n",
       "3 202011   102315011         1              0           51          \n",
       "  cliente_antiguedad mrentabilidad mrentabilidad_annual mcomisiones\n",
       "1 279                2943.30       21068.0               182.63    \n",
       "2  86                1660.97        7775.3              1336.77    \n",
       "3 158                 234.35       -2927.3              1615.27    \n",
       "  mactivos_margen ⋯ Visa_mpagominimo clase_ternaria prom_ctrx_quarter\n",
       "1     0.00        ⋯    0.00          CONTINUA       108.9607         \n",
       "2  -150.46        ⋯  363.63          CONTINUA       116.0151         \n",
       "3 -1765.27        ⋯ 5841.54          CONTINUA       108.9607         \n",
       "  ctrx_quarter_estandar IPC_porc IPC_dec IPC_acum_actual mcuentas_saldo_ipc\n",
       "1 1.0921371             3.0      0.030   1.251822        232677.078        \n",
       "2 0.6292286             1.9      0.019   1.570971         94180.813        \n",
       "3 0.5231245             3.0      0.030   1.251822          9924.994        \n",
       "  mcuentas_saldo_ipc_log mcuentas_saldo_ipc_plus\n",
       "1 15.72248               204457.836             \n",
       "2 15.70170                65945.781             \n",
       "3 15.68884                 8721.284             "
      ]
     },
     "metadata": {},
     "output_type": "display_data"
    }
   ],
   "source": [
    "dataset_nuevo <- merge(dataset_nuevo,dataset_ipc)\n",
    "dataset_nuevo[,mcuentas_saldo_ipc := mcuentas_saldo*IPC_acum_actual]\n",
    "\n",
    "dataset_nuevo[,mcuentas_saldo_ipc_log := log(mcuentas_saldo_ipc+6500000)]\n",
    "dataset_nuevo[,mcuentas_saldo_ipc_plus := ifelse(foto_mes==202105,mcuentas_saldo_ipc,mcuentas_saldo*1.1)]\n",
    "\n",
    "\n",
    "dataset_nuevo[sample(.N, 3)] "
   ]
  },
  {
   "cell_type": "code",
   "execution_count": 11,
   "id": "6dc3dd8a-ba31-4982-91a9-b5692f5de32a",
   "metadata": {},
   "outputs": [
    {
     "data": {
      "text/html": [
       "-6337313.00169292"
      ],
      "text/latex": [
       "-6337313.00169292"
      ],
      "text/markdown": [
       "-6337313.00169292"
      ],
      "text/plain": [
       "[1] -6337313"
      ]
     },
     "metadata": {},
     "output_type": "display_data"
    }
   ],
   "source": [
    "min(dataset_nuevo[,list(mcuentas_saldo_ipc)])"
   ]
  },
  {
   "cell_type": "code",
   "execution_count": 12,
   "id": "0a440ad1-1fef-4a30-b702-34acafe80a41",
   "metadata": {},
   "outputs": [],
   "source": [
    "#Estandarizar el saldo no funciono\n",
    "#promSdMes <- dataset_nuevo[ , .(prom_saldo_ipc=mean(mcuentas_saldo_ipc),sd_saldo_ipc=sd(mcuentas_saldo_ipc)), by = .(foto_mes)]\n",
    "#dataset_nuevo <- merge(dataset_nuevo,promSdMes)\n",
    "#dataset_nuevo[,mcuentas_saldo_ipc_estand := (mcuentas_saldo_ipc-prom_saldo_ipc)/sd_saldo_ipc]"
   ]
  },
  {
   "cell_type": "markdown",
   "id": "817ee2da-d5be-42a9-8863-0c6fa8f808e4",
   "metadata": {},
   "source": [
    "# cprestamos_personales"
   ]
  },
  {
   "cell_type": "code",
   "execution_count": 16,
   "id": "383747f3-c6ed-48dc-9607-a49d1b891c0b",
   "metadata": {},
   "outputs": [
    {
     "data": {
      "text/html": [
       "<table class=\"dataframe\">\n",
       "<caption>A data.table: 3 × 162</caption>\n",
       "<thead>\n",
       "\t<tr><th scope=col>foto_mes</th><th scope=col>numero_de_cliente</th><th scope=col>active_quarter</th><th scope=col>cliente_vip</th><th scope=col>cliente_edad</th><th scope=col>cliente_antiguedad</th><th scope=col>mrentabilidad</th><th scope=col>mrentabilidad_annual</th><th scope=col>mcomisiones</th><th scope=col>mactivos_margen</th><th scope=col>⋯</th><th scope=col>clase_ternaria</th><th scope=col>prom_ctrx_quarter</th><th scope=col>ctrx_quarter_estandar</th><th scope=col>IPC_porc</th><th scope=col>IPC_dec</th><th scope=col>IPC_acum_actual</th><th scope=col>mcuentas_saldo_ipc</th><th scope=col>mcuentas_saldo_ipc_log</th><th scope=col>mcuentas_saldo_ipc_plus</th><th scope=col>cprestamos_personales_log</th></tr>\n",
       "\t<tr><th scope=col>&lt;int&gt;</th><th scope=col>&lt;int&gt;</th><th scope=col>&lt;int&gt;</th><th scope=col>&lt;int&gt;</th><th scope=col>&lt;int&gt;</th><th scope=col>&lt;int&gt;</th><th scope=col>&lt;dbl&gt;</th><th scope=col>&lt;dbl&gt;</th><th scope=col>&lt;dbl&gt;</th><th scope=col>&lt;dbl&gt;</th><th scope=col>⋯</th><th scope=col>&lt;chr&gt;</th><th scope=col>&lt;dbl&gt;</th><th scope=col>&lt;dbl&gt;</th><th scope=col>&lt;dbl&gt;</th><th scope=col>&lt;dbl&gt;</th><th scope=col>&lt;dbl&gt;</th><th scope=col>&lt;dbl&gt;</th><th scope=col>&lt;dbl&gt;</th><th scope=col>&lt;dbl&gt;</th><th scope=col>&lt;dbl&gt;</th></tr>\n",
       "</thead>\n",
       "<tbody>\n",
       "\t<tr><td>202001</td><td>113967915</td><td>1</td><td>0</td><td>67</td><td>123</td><td>7184.61</td><td>105977.18</td><td> 318.19</td><td> -21.52</td><td>⋯</td><td>CONTINUA</td><td>116.0151</td><td>0.2672066</td><td>1.9</td><td>0.019</td><td>1.570971</td><td> 46206.48</td><td>15.69440</td><td> 32353.96</td><td> 0.09531018</td></tr>\n",
       "\t<tr><td>202105</td><td> 61004964</td><td>1</td><td>0</td><td>47</td><td>245</td><td>2664.85</td><td> 26345.16</td><td>1899.29</td><td> 481.76</td><td>⋯</td><td>        </td><td>119.2678</td><td>0.5617609</td><td>0.0</td><td>0.000</td><td>1.000000</td><td> -4584.96</td><td>15.68661</td><td> -4584.96</td><td>-2.30258509</td></tr>\n",
       "\t<tr><td>202009</td><td> 63486538</td><td>1</td><td>0</td><td>61</td><td>229</td><td>1741.17</td><td> 22493.74</td><td> 209.19</td><td>-135.74</td><td>⋯</td><td>CONTINUA</td><td>106.4139</td><td>0.8833436</td><td>2.8</td><td>0.028</td><td>1.333200</td><td>126816.05</td><td>15.70664</td><td>104633.68</td><td>-2.30258509</td></tr>\n",
       "</tbody>\n",
       "</table>\n"
      ],
      "text/latex": [
       "A data.table: 3 × 162\n",
       "\\begin{tabular}{lllllllllllllllllllll}\n",
       " foto\\_mes & numero\\_de\\_cliente & active\\_quarter & cliente\\_vip & cliente\\_edad & cliente\\_antiguedad & mrentabilidad & mrentabilidad\\_annual & mcomisiones & mactivos\\_margen & ⋯ & clase\\_ternaria & prom\\_ctrx\\_quarter & ctrx\\_quarter\\_estandar & IPC\\_porc & IPC\\_dec & IPC\\_acum\\_actual & mcuentas\\_saldo\\_ipc & mcuentas\\_saldo\\_ipc\\_log & mcuentas\\_saldo\\_ipc\\_plus & cprestamos\\_personales\\_log\\\\\n",
       " <int> & <int> & <int> & <int> & <int> & <int> & <dbl> & <dbl> & <dbl> & <dbl> & ⋯ & <chr> & <dbl> & <dbl> & <dbl> & <dbl> & <dbl> & <dbl> & <dbl> & <dbl> & <dbl>\\\\\n",
       "\\hline\n",
       "\t 202001 & 113967915 & 1 & 0 & 67 & 123 & 7184.61 & 105977.18 &  318.19 &  -21.52 & ⋯ & CONTINUA & 116.0151 & 0.2672066 & 1.9 & 0.019 & 1.570971 &  46206.48 & 15.69440 &  32353.96 &  0.09531018\\\\\n",
       "\t 202105 &  61004964 & 1 & 0 & 47 & 245 & 2664.85 &  26345.16 & 1899.29 &  481.76 & ⋯ &          & 119.2678 & 0.5617609 & 0.0 & 0.000 & 1.000000 &  -4584.96 & 15.68661 &  -4584.96 & -2.30258509\\\\\n",
       "\t 202009 &  63486538 & 1 & 0 & 61 & 229 & 1741.17 &  22493.74 &  209.19 & -135.74 & ⋯ & CONTINUA & 106.4139 & 0.8833436 & 2.8 & 0.028 & 1.333200 & 126816.05 & 15.70664 & 104633.68 & -2.30258509\\\\\n",
       "\\end{tabular}\n"
      ],
      "text/markdown": [
       "\n",
       "A data.table: 3 × 162\n",
       "\n",
       "| foto_mes &lt;int&gt; | numero_de_cliente &lt;int&gt; | active_quarter &lt;int&gt; | cliente_vip &lt;int&gt; | cliente_edad &lt;int&gt; | cliente_antiguedad &lt;int&gt; | mrentabilidad &lt;dbl&gt; | mrentabilidad_annual &lt;dbl&gt; | mcomisiones &lt;dbl&gt; | mactivos_margen &lt;dbl&gt; | ⋯ ⋯ | clase_ternaria &lt;chr&gt; | prom_ctrx_quarter &lt;dbl&gt; | ctrx_quarter_estandar &lt;dbl&gt; | IPC_porc &lt;dbl&gt; | IPC_dec &lt;dbl&gt; | IPC_acum_actual &lt;dbl&gt; | mcuentas_saldo_ipc &lt;dbl&gt; | mcuentas_saldo_ipc_log &lt;dbl&gt; | mcuentas_saldo_ipc_plus &lt;dbl&gt; | cprestamos_personales_log &lt;dbl&gt; |\n",
       "|---|---|---|---|---|---|---|---|---|---|---|---|---|---|---|---|---|---|---|---|---|\n",
       "| 202001 | 113967915 | 1 | 0 | 67 | 123 | 7184.61 | 105977.18 |  318.19 |  -21.52 | ⋯ | CONTINUA | 116.0151 | 0.2672066 | 1.9 | 0.019 | 1.570971 |  46206.48 | 15.69440 |  32353.96 |  0.09531018 |\n",
       "| 202105 |  61004964 | 1 | 0 | 47 | 245 | 2664.85 |  26345.16 | 1899.29 |  481.76 | ⋯ | <!----> | 119.2678 | 0.5617609 | 0.0 | 0.000 | 1.000000 |  -4584.96 | 15.68661 |  -4584.96 | -2.30258509 |\n",
       "| 202009 |  63486538 | 1 | 0 | 61 | 229 | 1741.17 |  22493.74 |  209.19 | -135.74 | ⋯ | CONTINUA | 106.4139 | 0.8833436 | 2.8 | 0.028 | 1.333200 | 126816.05 | 15.70664 | 104633.68 | -2.30258509 |\n",
       "\n"
      ],
      "text/plain": [
       "  foto_mes numero_de_cliente active_quarter cliente_vip cliente_edad\n",
       "1 202001   113967915         1              0           67          \n",
       "2 202105    61004964         1              0           47          \n",
       "3 202009    63486538         1              0           61          \n",
       "  cliente_antiguedad mrentabilidad mrentabilidad_annual mcomisiones\n",
       "1 123                7184.61       105977.18             318.19    \n",
       "2 245                2664.85        26345.16            1899.29    \n",
       "3 229                1741.17        22493.74             209.19    \n",
       "  mactivos_margen ⋯ clase_ternaria prom_ctrx_quarter ctrx_quarter_estandar\n",
       "1  -21.52         ⋯ CONTINUA       116.0151          0.2672066            \n",
       "2  481.76         ⋯                119.2678          0.5617609            \n",
       "3 -135.74         ⋯ CONTINUA       106.4139          0.8833436            \n",
       "  IPC_porc IPC_dec IPC_acum_actual mcuentas_saldo_ipc mcuentas_saldo_ipc_log\n",
       "1 1.9      0.019   1.570971         46206.48          15.69440              \n",
       "2 0.0      0.000   1.000000         -4584.96          15.68661              \n",
       "3 2.8      0.028   1.333200        126816.05          15.70664              \n",
       "  mcuentas_saldo_ipc_plus cprestamos_personales_log\n",
       "1  32353.96                0.09531018              \n",
       "2  -4584.96               -2.30258509              \n",
       "3 104633.68               -2.30258509              "
      ]
     },
     "metadata": {},
     "output_type": "display_data"
    }
   ],
   "source": [
    "dataset_nuevo[,cprestamos_personales_log:=log(cprestamos_personales+0.1)]\n",
    "dataset_nuevo[sample(.N, 3)] "
   ]
  },
  {
   "cell_type": "markdown",
   "id": "e2ffedaa-4dd2-4421-bd6f-9a05a4c20016",
   "metadata": {},
   "source": [
    "### Guardado Final"
   ]
  },
  {
   "cell_type": "code",
   "execution_count": 17,
   "id": "d5b9c9d7-02b9-4fb3-9256-eb03fad7c6b8",
   "metadata": {},
   "outputs": [],
   "source": [
    "fwrite( dataset_nuevo,\n",
    "        file=\"./datasets/competencia2_2022_limpieza2.csv.gz\",\n",
    "        sep= \",\" )"
   ]
  }
 ],
 "metadata": {
  "kernelspec": {
   "display_name": "R",
   "language": "R",
   "name": "ir"
  },
  "language_info": {
   "codemirror_mode": "r",
   "file_extension": ".r",
   "mimetype": "text/x-r-source",
   "name": "R",
   "pygments_lexer": "r",
   "version": "4.2.1"
  }
 },
 "nbformat": 4,
 "nbformat_minor": 5
}
