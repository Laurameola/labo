{
 "cells": [
  {
   "cell_type": "code",
   "execution_count": 1,
   "id": "52a64b1e-3bd7-45b3-a461-9414cff48788",
   "metadata": {},
   "outputs": [
    {
     "data": {
      "text/html": [
       "<table class=\"dataframe\">\n",
       "<caption>A matrix: 2 × 6 of type dbl</caption>\n",
       "<thead>\n",
       "\t<tr><th></th><th scope=col>used</th><th scope=col>(Mb)</th><th scope=col>gc trigger</th><th scope=col>(Mb)</th><th scope=col>max used</th><th scope=col>(Mb)</th></tr>\n",
       "</thead>\n",
       "<tbody>\n",
       "\t<tr><th scope=row>Ncells</th><td> 613876</td><td>32.8</td><td>1330087</td><td>71.1</td><td>1130880</td><td>60.4</td></tr>\n",
       "\t<tr><th scope=row>Vcells</th><td>1149379</td><td> 8.8</td><td>8388608</td><td>64.0</td><td>1801055</td><td>13.8</td></tr>\n",
       "</tbody>\n",
       "</table>\n"
      ],
      "text/latex": [
       "A matrix: 2 × 6 of type dbl\n",
       "\\begin{tabular}{r|llllll}\n",
       "  & used & (Mb) & gc trigger & (Mb) & max used & (Mb)\\\\\n",
       "\\hline\n",
       "\tNcells &  613876 & 32.8 & 1330087 & 71.1 & 1130880 & 60.4\\\\\n",
       "\tVcells & 1149379 &  8.8 & 8388608 & 64.0 & 1801055 & 13.8\\\\\n",
       "\\end{tabular}\n"
      ],
      "text/markdown": [
       "\n",
       "A matrix: 2 × 6 of type dbl\n",
       "\n",
       "| <!--/--> | used | (Mb) | gc trigger | (Mb) | max used | (Mb) |\n",
       "|---|---|---|---|---|---|---|\n",
       "| Ncells |  613876 | 32.8 | 1330087 | 71.1 | 1130880 | 60.4 |\n",
       "| Vcells | 1149379 |  8.8 | 8388608 | 64.0 | 1801055 | 13.8 |\n",
       "\n"
      ],
      "text/plain": [
       "       used    (Mb) gc trigger (Mb) max used (Mb)\n",
       "Ncells  613876 32.8 1330087    71.1 1130880  60.4\n",
       "Vcells 1149379  8.8 8388608    64.0 1801055  13.8"
      ]
     },
     "metadata": {},
     "output_type": "display_data"
    },
    {
     "name": "stderr",
     "output_type": "stream",
     "text": [
      "Loading required package: data.table\n",
      "\n"
     ]
    }
   ],
   "source": [
    "#limpio la memoria\n",
    "rm( list=ls() )  #remove all objects\n",
    "gc()             #garbage collection\n",
    "\n",
    "require(\"data.table\")\n",
    "library(\"stringr\")\n"
   ]
  },
  {
   "cell_type": "code",
   "execution_count": 2,
   "id": "40ece1dd-4d52-410a-b452-5f8d85e0cc00",
   "metadata": {},
   "outputs": [],
   "source": [
    "kdatasetinput <- \"c2_reparacNA_fe_inicial.csv.gz\"\n",
    "kdatasetoutput <- \"c2_reparacNA_fe_inicialymin.csv.gz\""
   ]
  },
  {
   "cell_type": "code",
   "execution_count": 3,
   "id": "9fc36d42-2a05-45f4-b0d0-150d67ad874a",
   "metadata": {},
   "outputs": [],
   "source": [
    "setwd(\"~/buckets/b1/\")\n",
    "\n",
    "#cargo el dataset\n",
    "dataset  <- fread(paste0(\"./datasets/\",kdatasetinput))   #donde entreno# FIN Parametros del script"
   ]
  },
  {
   "cell_type": "code",
   "execution_count": 8,
   "id": "652cfc90-1162-4755-acbf-a1946900820c",
   "metadata": {},
   "outputs": [],
   "source": [
    "\n",
    "AgregarVariables  <- function( dataset )\n",
    "{\n",
    "  gc()\n",
    " \n",
    "############# FE 1 ####################\n",
    "   \n",
    "  #Aqui debe usted agregar sus propias nuevas variables           \n",
    "    dataset[ , prop_vida_en_banco          := cliente_antiguedad/(12*cliente_edad)]\n",
    "       \n",
    "    #Prestamos\n",
    "    dataset[ , cprestamos                 := rowSums( cbind( cprestamos_personales, cprestamos_prendarios, cprestamos_hipotecarios) , na.rm=TRUE ) ]\n",
    "    dataset[ , mprestamos                 := rowSums( cbind( mprestamos_personales, mprestamos_prendarios, mprestamos_hipotecarios) , na.rm=TRUE ) ]\n",
    "       \n",
    "    #Comisiones\n",
    "    dataset[ , ccomisiones                := rowSums( cbind( ccomisiones_mantenimiento,ccomisiones_otras ) , na.rm=TRUE ) ]\n",
    "    dataset[ , mcomisiones                := rowSums( cbind( mcomisiones_mantenimiento,mcomisiones_otras ) , na.rm=TRUE ) ]\n",
    "    dataset[ , paga_comisiones             := ifelse(ccomisiones > 0,1,0)]\n",
    "\n",
    "   \n",
    "      #Payroll\n",
    "   dataset[ , cpayroll_total    := rowSums( cbind(cpayroll_trx,cpayroll2_trx ) , na.rm=TRUE ) ]\n",
    "   dataset[ , mpayroll_total    := rowSums( cbind(mpayroll,mpayroll2 ) , na.rm=TRUE ) ]\n",
    "    dataset[ , acredita_sueldo  := ifelse(cpayroll_total > 0,1,0)]\n",
    "\n",
    "   \n",
    "    #Mes\n",
    "    dataset[ , mes   := str_sub(foto_mes, start=-2)  ]\n",
    "\n",
    "     #ctrx_normalizada\n",
    "    dataset[ , ctrx_quarter_normalizado_log   := log(ctrx_quarter_normalizado+1)  ]\n",
    "    dataset[ , ctrx_quarter_normalizado_pow2   := ctrx_quarter_normalizado^2  ]\n",
    "\n",
    "############# FIN FE 1 ####################\n",
    "    \n",
    "    \n",
    "    \n",
    "    \n",
    "    \n",
    "    \n",
    "    \n",
    "    \n",
    "    \n",
    "    \n",
    "    \n",
    "    \n",
    "    \n",
    "    \n",
    "  #valvula de seguridad para evitar valores infinitos\n",
    "  #paso los infinitos a NULOS\n",
    "  infinitos      <- lapply(names(dataset),function(.name) dataset[ , sum(is.infinite(get(.name)))])\n",
    "  infinitos_qty  <- sum( unlist( infinitos) )\n",
    "  if( infinitos_qty > 0 )\n",
    "  {\n",
    "    cat( \"ATENCION, hay\", infinitos_qty, \"valores infinitos en tu dataset. Seran pasados a NA\\n\" )\n",
    "    dataset[mapply(is.infinite, dataset)] <<- NA\n",
    "  }\n",
    "\n",
    "\n",
    "  #valvula de seguridad para evitar valores NaN  que es 0/0\n",
    "  #paso los NaN a 0 , decision polemica si las hay\n",
    "  #se invita a asignar un valor razonable segun la semantica del campo creado\n",
    "  nans      <- lapply(names(dataset),function(.name) dataset[ , sum(is.nan(get(.name)))])\n",
    "  nans_qty  <- sum( unlist( nans) )\n",
    "  if( nans_qty > 0 )\n",
    "  {\n",
    "    cat( \"ATENCION, hay\", nans_qty, \"valores NaN 0/0 en tu dataset. Seran pasados arbitrariamente a 0\\n\" )\n",
    "    cat( \"Si no te gusta la decision, modifica a gusto el programa!\\n\\n\")\n",
    "    dataset[mapply(is.nan, dataset)] <<- 0\n",
    "  }\n",
    "\n",
    "}"
   ]
  },
  {
   "cell_type": "code",
   "execution_count": 9,
   "id": "f1788923-2a7e-4a08-b1af-4e8a8d8a5796",
   "metadata": {},
   "outputs": [
    {
     "name": "stdout",
     "output_type": "stream",
     "text": [
      "ATENCION, hay 91 valores infinitos en tu dataset. Seran pasados a NA\n"
     ]
    }
   ],
   "source": [
    "#primero agrego las variables manuales\n",
    "AgregarVariables( dataset )"
   ]
  },
  {
   "cell_type": "code",
   "execution_count": 10,
   "id": "58a4a2fd-6466-4f7f-af10-9257ca802743",
   "metadata": {},
   "outputs": [],
   "source": [
    "fwrite( dataset,\n",
    "        file=paste0(\"./datasets/\",kdatasetoutput),\n",
    "        sep= \",\" )"
   ]
  },
  {
   "cell_type": "code",
   "execution_count": 11,
   "id": "92d35cb2-3ec7-4880-8d5f-87292def83fe",
   "metadata": {},
   "outputs": [
    {
     "data": {
      "text/html": [
       "207"
      ],
      "text/latex": [
       "207"
      ],
      "text/markdown": [
       "207"
      ],
      "text/plain": [
       "[1] 207"
      ]
     },
     "metadata": {},
     "output_type": "display_data"
    }
   ],
   "source": [
    "ncol(dataset)"
   ]
  },
  {
   "cell_type": "code",
   "execution_count": 12,
   "id": "73dc767e-90b7-484a-bbb8-8517718ae0bd",
   "metadata": {},
   "outputs": [
    {
     "data": {
      "text/html": [
       "4214386"
      ],
      "text/latex": [
       "4214386"
      ],
      "text/markdown": [
       "4214386"
      ],
      "text/plain": [
       "[1] 4214386"
      ]
     },
     "metadata": {},
     "output_type": "display_data"
    }
   ],
   "source": [
    "nrow(dataset)"
   ]
  }
 ],
 "metadata": {
  "kernelspec": {
   "display_name": "R",
   "language": "R",
   "name": "ir"
  },
  "language_info": {
   "codemirror_mode": "r",
   "file_extension": ".r",
   "mimetype": "text/x-r-source",
   "name": "R",
   "pygments_lexer": "r",
   "version": "4.2.1"
  }
 },
 "nbformat": 4,
 "nbformat_minor": 5
}
