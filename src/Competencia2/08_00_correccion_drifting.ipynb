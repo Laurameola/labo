{
 "cells": [
  {
   "cell_type": "code",
   "execution_count": 22,
   "id": "337acfd2-ec4b-450b-8540-e7131134877c",
   "metadata": {},
   "outputs": [
    {
     "data": {
      "text/html": [
       "<table class=\"dataframe\">\n",
       "<caption>A matrix: 2 × 6 of type dbl</caption>\n",
       "<thead>\n",
       "\t<tr><th></th><th scope=col>used</th><th scope=col>(Mb)</th><th scope=col>gc trigger</th><th scope=col>(Mb)</th><th scope=col>max used</th><th scope=col>(Mb)</th></tr>\n",
       "</thead>\n",
       "<tbody>\n",
       "\t<tr><th scope=row>Ncells</th><td> 679468</td><td>36.3</td><td>  1292165</td><td> 69.1</td><td>  1292165</td><td>  69.1</td></tr>\n",
       "\t<tr><th scope=row>Vcells</th><td>1283732</td><td> 9.8</td><td>121587244</td><td>927.7</td><td>189838875</td><td>1448.4</td></tr>\n",
       "</tbody>\n",
       "</table>\n"
      ],
      "text/latex": [
       "A matrix: 2 × 6 of type dbl\n",
       "\\begin{tabular}{r|llllll}\n",
       "  & used & (Mb) & gc trigger & (Mb) & max used & (Mb)\\\\\n",
       "\\hline\n",
       "\tNcells &  679468 & 36.3 &   1292165 &  69.1 &   1292165 &   69.1\\\\\n",
       "\tVcells & 1283732 &  9.8 & 121587244 & 927.7 & 189838875 & 1448.4\\\\\n",
       "\\end{tabular}\n"
      ],
      "text/markdown": [
       "\n",
       "A matrix: 2 × 6 of type dbl\n",
       "\n",
       "| <!--/--> | used | (Mb) | gc trigger | (Mb) | max used | (Mb) |\n",
       "|---|---|---|---|---|---|---|\n",
       "| Ncells |  679468 | 36.3 |   1292165 |  69.1 |   1292165 |   69.1 |\n",
       "| Vcells | 1283732 |  9.8 | 121587244 | 927.7 | 189838875 | 1448.4 |\n",
       "\n"
      ],
      "text/plain": [
       "       used    (Mb) gc trigger (Mb)  max used  (Mb)  \n",
       "Ncells  679468 36.3   1292165   69.1   1292165   69.1\n",
       "Vcells 1283732  9.8 121587244  927.7 189838875 1448.4"
      ]
     },
     "metadata": {},
     "output_type": "display_data"
    }
   ],
   "source": [
    "#limpio la memoria\n",
    "rm( list=ls() )  #remove all objects\n",
    "gc()             #garbage collection\n",
    "\n",
    "require(\"data.table\")"
   ]
  },
  {
   "cell_type": "code",
   "execution_count": 23,
   "id": "5555028a-767a-4f25-a761-99f17c5a86c3",
   "metadata": {},
   "outputs": [],
   "source": [
    "setwd(\"C:/_MCD/Labo1/code\")  #Establezco el Working Directory\n",
    "#setwd(\"~/buckets/b1/\")\n",
    "\n",
    "#cargo el dataset\n",
    "dataset  <- fread(\"./datasets/comp1/competencia1_2022_fe_inicial.csv\")  "
   ]
  },
  {
   "cell_type": "code",
   "execution_count": 24,
   "id": "532e3258-2516-46da-a99e-95a9321be2b9",
   "metadata": {},
   "outputs": [],
   "source": [
    "#------------------------------------------------------------------------------\n",
    "#deflaciona por IPC\n",
    "#momento 1.0  31-dic-2020 a las 23:59\n",
    "\n",
    "drift_deflacion  <- function( campos_monetarios )\n",
    "{\n",
    "  vfoto_mes <- c( 201901, 201902, 201903, 201904, 201905, 201906,\n",
    "                  201907, 201908, 201909, 201910, 201911, 201912,\n",
    "                  202001, 202002, 202003, 202004, 202005, 202006,\n",
    "                  202007, 202008, 202009, 202010, 202011, 202012,\n",
    "                  202101, 202102, 202103, 202104, 202105 )\n",
    "\n",
    "  vIPC  <- c( 1.9903030878, 1.9174403544, 1.8296186587,\n",
    "              1.7728862972, 1.7212488323, 1.6776304408,\n",
    "              1.6431248196, 1.5814483345, 1.4947526791,\n",
    "              1.4484037589, 1.3913580777, 1.3404220402,\n",
    "              1.3154288912, 1.2921698342, 1.2472681797,\n",
    "              1.2300475145, 1.2118694724, 1.1881073259,\n",
    "              1.1693969743, 1.1375456949, 1.1065619600,\n",
    "              1.0681100000, 1.0370000000, 1.0000000000,\n",
    "              0.9680542110, 0.9344152616, 0.8882274350,\n",
    "              0.8532444140, 0.8251880213 )\n",
    "\n",
    "  tb_IPC  <- data.table( \"foto_mes\"= vfoto_mes,\n",
    "                         \"IPC\" = vIPC )\n",
    "\n",
    "  dataset[ tb_IPC,\n",
    "           on= c(\"foto_mes\"),\n",
    "           (campos_monetarios) :=  .SD * i.IPC ,\n",
    "           .SDcols = campos_monetarios ]\n",
    "\n",
    "}"
   ]
  },
  {
   "cell_type": "code",
   "execution_count": 25,
   "id": "7a92cc6d-90ca-4256-9b05-aa4625177222",
   "metadata": {},
   "outputs": [],
   "source": [
    "#------------------------------------------------------------------------------\n",
    "\n",
    "drift_rank_simple  <- function( campos_drift )\n",
    "{\n",
    "  for( campo in campos_drift )\n",
    "  {\n",
    "    cat( campo, \" \" )\n",
    "    dataset[ , paste0(campo,\"_rank\") :=  (frank( get(campo), ties.method=\"random\") - 1) / ( .N -1 ), by= foto_mes]\n",
    "    dataset[ , (campo) := NULL ]\n",
    "  }\n",
    "}\n"
   ]
  },
  {
   "cell_type": "code",
   "execution_count": 26,
   "id": "9f3d3dec-a5cb-4aa4-916f-1dab76cb0fab",
   "metadata": {},
   "outputs": [],
   "source": [
    "#------------------------------------------------------------------------------\n",
    "#El cero se transforma en cero\n",
    "#los positivos se rankean por su lado\n",
    "#los negativos se rankean por su lado\n",
    "\n",
    "drift_rank_cero_fijo  <- function( campos_drift )\n",
    "{\n",
    "  for( campo in campos_drift )\n",
    "  {\n",
    "    cat( campo, \" \" )\n",
    "    dataset[ get(campo) ==0, paste0(campo,\"_rank\") := 0 ]\n",
    "    dataset[ get(campo) > 0, paste0(campo,\"_rank\") :=   frank(  get(campo), ties.method=\"random\")  / .N, by= foto_mes ]\n",
    "    dataset[ get(campo) < 0, paste0(campo,\"_rank\") :=  -frank( -get(campo), ties.method=\"random\")  / .N, by= foto_mes ]\n",
    "    dataset[ , (campo) := NULL ]\n",
    "  }\n",
    "}\n"
   ]
  },
  {
   "cell_type": "code",
   "execution_count": 27,
   "id": "b5e3f93f-a228-4cce-9af0-e6af12e8cb03",
   "metadata": {},
   "outputs": [
    {
     "name": "stdout",
     "output_type": "stream",
     "text": [
      "mrentabilidad  mrentabilidad_annual  mcomisiones  mactivos_margen  mpasivos_margen  mcuenta_corriente_adicional  mcuenta_corriente  mcaja_ahorro  mcaja_ahorro_adicional  mcaja_ahorro_dolares  mcuentas_saldo  mautoservicio  mtarjeta_visa_consumo  mtarjeta_master_consumo  mprestamos_personales  mprestamos_prendarios  mprestamos_hipotecarios  mplazo_fijo_dolares  mplazo_fijo_pesos  minversion1_pesos  minversion1_dolares  minversion2  mpayroll  mpayroll2  mcuenta_debitos_automaticos  mttarjeta_visa_debitos_automaticos  mttarjeta_master_debitos_automaticos  mpagodeservicios  mpagomiscuentas  mcajeros_propios_descuentos  mtarjeta_visa_descuentos  mtarjeta_master_descuentos  mcomisiones_mantenimiento  mcomisiones_otras  mforex_buy  mforex_sell  mtransferencias_recibidas  mtransferencias_emitidas  mextraccion_autoservicio  mcheques_depositados  mcheques_emitidos  mcheques_depositados_rechazados  mcheques_emitidos_rechazados  matm  matm_other  Master_mfinanciacion_limite  Master_msaldototal  Master_msaldopesos  Master_msaldodolares  Master_mconsumospesos  Master_mconsumosdolares  Master_mlimitecompra  Master_madelantopesos  Master_madelantodolares  Master_mpagado  Master_mpagospesos  Master_mpagosdolares  Master_mconsumototal  Master_mpagominimo  Visa_mfinanciacion_limite  Visa_msaldototal  Visa_msaldopesos  Visa_msaldodolares  Visa_mconsumospesos  Visa_mconsumosdolares  Visa_mlimitecompra  Visa_madelantopesos  Visa_madelantodolares  Visa_mpagado  Visa_mpagospesos  Visa_mpagosdolares  Visa_mconsumototal  Visa_mpagominimo  mpayroll_sobre_edad  mv_status07  vm_mfinanciacion_limite  vm_msaldototal  vm_msaldopesos  vm_msaldodolares  vm_mconsumospesos  vm_mconsumosdolares  vm_mlimitecompra  vm_madelantopesos  vm_madelantodolares  vm_mpagado  vm_mpagospesos  vm_mpagosdolares  vm_mconsumototal  vm_mpagominimo  "
     ]
    }
   ],
   "source": [
    "setorder( dataset, foto_mes, numero_de_cliente )\n",
    "\n",
    "#por como armé los nombres de campos, estos son los campos que expresan variables monetarias\n",
    "campos_monetarios  <- colnames(dataset)\n",
    "campos_monetarios  <- campos_monetarios[campos_monetarios %like% \"^(m|Visa_m|Master_m|vm_m)\"]\n",
    "\n",
    "#aqui aplico un metodo para atacar el data drifting\n",
    "#hay que probar experimentalmente cual funciona mejor\n",
    "\n",
    "drift_rank_simple( campos_monetarios )\n",
    "#drift_rank_cero_fijo( campos_monetarios )\n",
    "#drift_deflacion( campos_monetarios ) \n"
   ]
  },
  {
   "cell_type": "code",
   "execution_count": 28,
   "id": "f07835ff-54e4-49e3-8c6e-2ac1e1cc07ce",
   "metadata": {},
   "outputs": [],
   "source": [
    "fwrite( dataset,\n",
    "        file=\"./datasets/comp1/competencia1_2022_fe_inicial_rank0simple.csv\",\n",
    "        sep= \",\" )"
   ]
  }
 ],
 "metadata": {
  "kernelspec": {
   "display_name": "R",
   "language": "R",
   "name": "ir"
  },
  "language_info": {
   "codemirror_mode": "r",
   "file_extension": ".r",
   "mimetype": "text/x-r-source",
   "name": "R",
   "pygments_lexer": "r",
   "version": "4.2.1"
  }
 },
 "nbformat": 4,
 "nbformat_minor": 5
}
