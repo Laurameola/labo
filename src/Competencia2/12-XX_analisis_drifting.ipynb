{
 "cells": [
  {
   "cell_type": "code",
   "execution_count": 1,
   "id": "4360d714-798c-4fbe-8233-f6a441e27406",
   "metadata": {},
   "outputs": [
    {
     "data": {
      "text/html": [
       "<table class=\"dataframe\">\n",
       "<caption>A matrix: 2 × 6 of type dbl</caption>\n",
       "<thead>\n",
       "\t<tr><th></th><th scope=col>used</th><th scope=col>(Mb)</th><th scope=col>gc trigger</th><th scope=col>(Mb)</th><th scope=col>max used</th><th scope=col>(Mb)</th></tr>\n",
       "</thead>\n",
       "<tbody>\n",
       "\t<tr><th scope=row>Ncells</th><td> 613895</td><td>32.8</td><td>1330087</td><td>71.1</td><td>1171448</td><td>62.6</td></tr>\n",
       "\t<tr><th scope=row>Vcells</th><td>1149448</td><td> 8.8</td><td>8388608</td><td>64.0</td><td>1801055</td><td>13.8</td></tr>\n",
       "</tbody>\n",
       "</table>\n"
      ],
      "text/latex": [
       "A matrix: 2 × 6 of type dbl\n",
       "\\begin{tabular}{r|llllll}\n",
       "  & used & (Mb) & gc trigger & (Mb) & max used & (Mb)\\\\\n",
       "\\hline\n",
       "\tNcells &  613895 & 32.8 & 1330087 & 71.1 & 1171448 & 62.6\\\\\n",
       "\tVcells & 1149448 &  8.8 & 8388608 & 64.0 & 1801055 & 13.8\\\\\n",
       "\\end{tabular}\n"
      ],
      "text/markdown": [
       "\n",
       "A matrix: 2 × 6 of type dbl\n",
       "\n",
       "| <!--/--> | used | (Mb) | gc trigger | (Mb) | max used | (Mb) |\n",
       "|---|---|---|---|---|---|---|\n",
       "| Ncells |  613895 | 32.8 | 1330087 | 71.1 | 1171448 | 62.6 |\n",
       "| Vcells | 1149448 |  8.8 | 8388608 | 64.0 | 1801055 | 13.8 |\n",
       "\n"
      ],
      "text/plain": [
       "       used    (Mb) gc trigger (Mb) max used (Mb)\n",
       "Ncells  613895 32.8 1330087    71.1 1171448  62.6\n",
       "Vcells 1149448  8.8 8388608    64.0 1801055  13.8"
      ]
     },
     "metadata": {},
     "output_type": "display_data"
    },
    {
     "name": "stderr",
     "output_type": "stream",
     "text": [
      "Loading required package: data.table\n",
      "\n",
      "Loading required package: scales\n",
      "\n",
      "Loading required package: lightgbm\n",
      "\n"
     ]
    }
   ],
   "source": [
    "#limpio la memoria\n",
    "rm( list=ls() )  #remove all objects\n",
    "gc()             #garbage collection\n",
    "\n",
    "require(\"data.table\")\n",
    "require(\"scales\")\n",
    "require(\"lightgbm\")"
   ]
  },
  {
   "cell_type": "code",
   "execution_count": null,
   "id": "82178bb1-15cd-4b5b-8b30-1d0b074605ff",
   "metadata": {},
   "outputs": [],
   "source": [
    "#Parametros del script\n",
    "#setwd(\"C:/_MCD/Labo1/code\")  #Establezco el Working Directory\n",
    "setwd(\"~/buckets/b1/\")\n",
    "\n",
    "#cargo el dataset\n",
    "dataset  <- fread(\"./datasets/c2_reparacEstad_fe_inicial_rank0fijo.csv.gz\")   #donde entreno# FIN Parametros del script\n",
    "nombre_base_pdf <- \"densidades_reparacEstad_fe_inicial_rank0fijo\""
   ]
  },
  {
   "cell_type": "code",
   "execution_count": null,
   "id": "0d097741-d9fd-4c67-bc21-5b2d630d4122",
   "metadata": {},
   "outputs": [],
   "source": [
    "kexperimento <- \"comp2-EDA\"\n",
    "#creo la carpeta donde va el experimento\n",
    "dir.create( paste0( \"./exp/\", kexperimento, \"/\"), showWarnings = FALSE )\n",
    "setwd(paste0( \"./exp/\", kexperimento, \"/\"))   #Establezco el Working Directory DEL EXPERIMENTO\n"
   ]
  },
  {
   "cell_type": "code",
   "execution_count": null,
   "id": "9a1716ad-4cb3-4d67-828d-33e3ded916ba",
   "metadata": {},
   "outputs": [],
   "source": [
    "#creo la clase_binaria SI={ BAJA+1, BAJA+2 }    NO={ CONTINUA }\n",
    "dataset[ foto_mes<=202103, \n",
    "         clase01 :=  ifelse( clase_ternaria==\"CONTINUA\", 0, 1 ) ]\n",
    "\n",
    "dataset[  , foto_mes := as.character( foto_mes ) ]"
   ]
  },
  {
   "cell_type": "code",
   "execution_count": null,
   "id": "29c59012-2bfb-43ff-b1c8-b1c7754ec81c",
   "metadata": {},
   "outputs": [],
   "source": [
    "campos_ordenados <- setdiff( colnames( dataset), \n",
    "                           c(\"numero_de_cliente\",\"foto_mes\",\"clase_ternaria\" ) )\n"
   ]
  },
  {
   "cell_type": "code",
   "execution_count": null,
   "id": "0a72879e-b7a8-4023-b5af-946cde0cf6c3",
   "metadata": {},
   "outputs": [],
   "source": [
    "v_2019  <- c(\"201901\",\"201902\",\"201903\",\"201904\",\"201905\",\"201906\",\"201907\",\"201908\",\"201909\",\"201910\",\"201911\",\"201912\")\n",
    "v_2020  <- c(\"202001\",\"202002\",\"202003\",\"202004\",\"202005\",\"202006\",\"202007\",\"202008\",\"202009\",\"202010\",\"202011\",\"202012\")\n",
    "v_2021  <- c(\"202101\", \"202102\", \"202103\",\"202104\", \"202105\")\n",
    "\n",
    "GLOBAL_colores <-  viridis_pal()(length(v_2019)+length(v_2020)+length(v_2021) )"
   ]
  },
  {
   "cell_type": "code",
   "execution_count": null,
   "id": "c3430404-6afe-4a61-887b-358f89593a17",
   "metadata": {},
   "outputs": [],
   "source": [
    "graficar_campo  <- function( campo, periodos_analisis )\n",
    "{\n",
    "\n",
    "  #quito de grafico las colas del 5% de las densidades\n",
    "\n",
    "  tb_quantiles  <- data.table( qmin= numeric(),  qmax= numeric() )\n",
    "\n",
    "  for( periodo in periodos_analisis )\n",
    "  {\n",
    "    qu  <- quantile(  dataset[ foto_mes==periodo , get(campo) ] , prob= c(0.05, 0.95), na.rm=TRUE )\n",
    "    tb_quantiles  <- rbind( tb_quantiles, use.names=FALSE, as.list(qu) )\n",
    "  }\n",
    "\n",
    "  xxmin  <- tb_quantiles[ , min( qmin ) ]\n",
    "  xxmax  <- tb_quantiles[ , max( qmax ) ]\n",
    "\n",
    "  yymax  <- 0\n",
    "  for( per in periodos_analisis )\n",
    "  {\n",
    "    den  <- density( dataset[ foto_mes==per, get(campo) ],\n",
    "                     kernel=\"gaussian\", na.rm=TRUE )\n",
    "\n",
    "    mayor  <- max( den$y )\n",
    "    if( mayor > yymax ) yymax <- mayor \n",
    "  }\n",
    "\n",
    "  densidad_A  <- density( dataset[ foto_mes==periodos_analisis[1], get(campo) ],\n",
    "                          kernel=\"gaussian\", na.rm=TRUE )\n",
    "\n",
    "\n",
    "  plot( densidad_A,\n",
    "        col= GLOBAL_colores[1],\n",
    "        xlim= c( xxmin, xxmax ),\n",
    "        ylim= c( 0, yymax ),\n",
    "        main= paste0( campo  ) \n",
    "      )\n",
    "\n",
    "  for( per in 2:length(periodos_analisis) )\n",
    "  {\n",
    "    densidad_B  <- density( dataset[ foto_mes==periodos_analisis[ per ], get(campo) ],\n",
    "                            kernel=\"gaussian\", na.rm=TRUE )\n",
    "\n",
    "    lines(densidad_B, col= GLOBAL_colores[per], lty=1)\n",
    "  }\n",
    "  \n",
    "  legend(  \"topright\",  \n",
    "           legend= periodos_analisis,\n",
    "           col=GLOBAL_colores, lty=1 )\n",
    "\n",
    "}"
   ]
  },
  {
   "cell_type": "code",
   "execution_count": null,
   "id": "8b159a7c-dc63-4305-a37f-66e6677c0a12",
   "metadata": {},
   "outputs": [],
   "source": [
    "pdf(paste0(nombre_base_pdf,\"_todo.pdf\"))\n",
    "\n",
    "for( campo in  campos_ordenados )\n",
    "{\n",
    "  cat( campo, \"  \" )\n",
    "\n",
    "  graficar_campo( campo, append(append(v_2019,v_2020),v_2021) )\n",
    "}\n",
    "\n",
    "dev.off()"
   ]
  },
  {
   "cell_type": "code",
   "execution_count": null,
   "id": "f8489a7a-f3ad-4940-8620-ea59dc2cce84",
   "metadata": {},
   "outputs": [],
   "source": [
    "pdf(paste0(nombre_base_pdf,\"_2020y2021.pdf\")\n",
    "\n",
    "for( campo in  campos_ordenados )\n",
    "{\n",
    "  cat( campo, \"  \" )\n",
    "\n",
    "  graficar_campo( campo, append(v_2020,v_2021) )\n",
    "}\n",
    "\n",
    "dev.off()"
   ]
  },
  {
   "cell_type": "code",
   "execution_count": null,
   "id": "e3ee18a5-05a0-4871-ad53-26bea9115d56",
   "metadata": {},
   "outputs": [],
   "source": [
    "pdf(paste0(nombre_base_pdf,\"_2021.pdf\")\n",
    "\n",
    "for( campo in  campos_ordenados )\n",
    "{\n",
    "  cat( campo, \"  \" )\n",
    "\n",
    "  graficar_campo( campo, v_2021 )\n",
    "}\n",
    "\n",
    "dev.off()"
   ]
  },
  {
   "cell_type": "code",
   "execution_count": null,
   "id": "90ff3898-3d72-4166-a662-2755e9e35d51",
   "metadata": {},
   "outputs": [],
   "source": [
    "pdf(paste0(nombre_base_pdf,\"_desde202007.pdf\")\n",
    "\n",
    "for( campo in  campos_ordenados )\n",
    "{\n",
    "  cat( campo, \"  \" )\n",
    "\n",
    "  graficar_campo( campo, append(c(\"202007\",\"202008\",\"202009\",\"202010\",\"202011\",\"202012\"),v_2021) )\n",
    "}\n",
    "\n",
    "dev.off()"
   ]
  }
 ],
 "metadata": {
  "kernelspec": {
   "display_name": "R",
   "language": "R",
   "name": "ir"
  },
  "language_info": {
   "codemirror_mode": "r",
   "file_extension": ".r",
   "mimetype": "text/x-r-source",
   "name": "R",
   "pygments_lexer": "r",
   "version": "4.2.1"
  }
 },
 "nbformat": 4,
 "nbformat_minor": 5
}
