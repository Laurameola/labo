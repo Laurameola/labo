{
 "cells": [
  {
   "cell_type": "code",
   "execution_count": null,
   "id": "4360d714-798c-4fbe-8233-f6a441e27406",
   "metadata": {},
   "outputs": [],
   "source": [
    "#limpio la memoria\n",
    "rm( list=ls() )  #remove all objects\n",
    "gc()             #garbage collection\n",
    "\n",
    "require(\"data.table\")\n",
    "require(\"scales\")\n",
    "require(\"lightgbm\")"
   ]
  },
  {
   "cell_type": "code",
   "execution_count": null,
   "id": "82178bb1-15cd-4b5b-8b30-1d0b074605ff",
   "metadata": {},
   "outputs": [],
   "source": [
    "#Parametros del script\n",
    "setwd(\"C:/_MCD/Labo1/code\")  #Establezco el Working Directory\n",
    "#setwd(\"~/buckets/b1/\")\n",
    "\n",
    "#cargo el dataset\n",
    "dataset  <- fread(\"./datasets/competencia2_2022_limpieza1.csv.gz\")   #donde entreno# FIN Parametros del script"
   ]
  },
  {
   "cell_type": "code",
   "execution_count": null,
   "id": "c3430404-6afe-4a61-887b-358f89593a17",
   "metadata": {},
   "outputs": [],
   "source": [
    "graficar_campo  <- function( campo, periodos_analisis )\n",
    "{\n",
    "\n",
    "  #quito de grafico las colas del 5% de las densidades\n",
    "\n",
    "  tb_quantiles  <- data.table( qmin= numeric(),  qmax= numeric() )\n",
    "\n",
    "  for( periodo in periodos_analisis )\n",
    "  {\n",
    "    qu  <- quantile(  dataset[ foto_mes==periodo , get(campo) ] , prob= c(0.05, 0.95), na.rm=TRUE )\n",
    "    tb_quantiles  <- rbind( tb_quantiles, use.names=FALSE, as.list(qu) )\n",
    "  }\n",
    "\n",
    "  xxmin  <- tb_quantiles[ , min( qmin ) ]\n",
    "  xxmax  <- tb_quantiles[ , max( qmax ) ]\n",
    "\n",
    "  yymax  <- 0\n",
    "  for( per in periodos_analisis )\n",
    "  {\n",
    "    den  <- density( dataset[ foto_mes==per, get(campo) ],\n",
    "                     kernel=\"gaussian\", na.rm=TRUE )\n",
    "\n",
    "    mayor  <- max( den$y )\n",
    "    if( mayor > yymax ) yymax <- mayor \n",
    "  }\n",
    "\n",
    "  densidad_A  <- density( dataset[ foto_mes==periodos_analisis[1], get(campo) ],\n",
    "                          kernel=\"gaussian\", na.rm=TRUE )\n",
    "\n",
    "\n",
    "  plot( densidad_A,\n",
    "        col= GLOBAL_colores[1],\n",
    "        xlim= c( xxmin, xxmax ),\n",
    "        ylim= c( 0, yymax ),\n",
    "        main= paste0( campo  ) \n",
    "      )\n",
    "\n",
    "  for( per in 2:length(periodos_analisis) )\n",
    "  {\n",
    "    densidad_B  <- density( dataset[ foto_mes==periodos_analisis[ per ], get(campo) ],\n",
    "                            kernel=\"gaussian\", na.rm=TRUE )\n",
    "\n",
    "    lines(densidad_B, col= GLOBAL_colores[per], lty=1)\n",
    "  }\n",
    "  \n",
    "  legend(  \"topright\",  \n",
    "           legend= periodos_analisis,\n",
    "           col=GLOBAL_colores, lty=1 )\n",
    "\n",
    "}"
   ]
  },
  {
   "cell_type": "code",
   "execution_count": null,
   "id": "0d097741-d9fd-4c67-bc21-5b2d630d4122",
   "metadata": {},
   "outputs": [],
   "source": [
    "\n",
    "#creo la carpeta donde va el experimento\n",
    "dir.create( paste0( \"./exp/\", kexperimento, \"/\"), showWarnings = FALSE )\n",
    "setwd(paste0( \"./exp/\", kexperimento, \"/\"))   #Establezco el Working Directory DEL EXPERIMENTO\n"
   ]
  },
  {
   "cell_type": "code",
   "execution_count": null,
   "id": "9a1716ad-4cb3-4d67-828d-33e3ded916ba",
   "metadata": {},
   "outputs": [],
   "source": [
    "#creo la clase_binaria SI={ BAJA+1, BAJA+2 }    NO={ CONTINUA }\n",
    "dataset[ foto_mes<=202103, \n",
    "         clase01 :=  ifelse( clase_ternaria==\"CONTINUA\", 0, 1 ) ]\n",
    "\n",
    "\n",
    "campos_buenos  <- setdiff( colnames(dataset), c(\"clase_ternaria\",\"clase01\") )\n",
    "#dejo los datos en el formato que necesita LightGBM\n",
    "dtrain  <- lgb.Dataset( data= data.matrix(  dataset[ foto_mes %in% c( 202101, 202102, 202103), campos_buenos, with=FALSE]),\n",
    "                        label= dataset[foto_mes %in% c( 202101, 202102, 202103), clase01] )\n"
   ]
  },
  {
   "cell_type": "code",
   "execution_count": null,
   "id": "f1177d5a-7473-471a-b81e-bbea8696ff09",
   "metadata": {},
   "outputs": [],
   "source": [
    "#genero el modelo\n",
    "#estos hiperparametros  salieron de una laaarga Optmizacion Bayesiana\n",
    "modelo  <- lgb.train( data= dtrain,\n",
    "                      param= list( objective=          \"binary\",\n",
    "                                   max_bin=             31,\n",
    "                                   learning_rate=        0.018,\n",
    "                                   num_iterations=     526,\n",
    "                                   num_leaves=        1608,\n",
    "                                   min_data_in_leaf=  5200,\n",
    "                                   feature_fraction=     0.6,\n",
    "                                   seed=              102191\n",
    "                                  )\n",
    "                    )"
   ]
  },
  {
   "cell_type": "code",
   "execution_count": null,
   "id": "0a72879e-b7a8-4023-b5af-946cde0cf6c3",
   "metadata": {},
   "outputs": [],
   "source": [
    "tb_importancia  <-  as.data.table( lgb.importance(modelo) ) \n",
    "campos_ordenados  <- c( tb_importancia$Feature,  setdiff( colnames(dataset), tb_importancia$Feature ) )\n",
    "campos_ordenados  <-  setdiff(  campos_ordenados,  c( \"foto_mes\",\"clase_ternaria\",\"clase01\" ) )\n",
    "\n",
    "\n",
    "\n",
    "dataset[  , foto_mes := as.character( foto_mes ) ]\n",
    "\n",
    "\n",
    "periodos_analisis  <- c( 202101, 202102, 202103, 202105 )\n",
    "GLOBAL_colores <-  viridis_pal()(length( periodos_analisis ) )"
   ]
  },
  {
   "cell_type": "code",
   "execution_count": null,
   "id": "8b159a7c-dc63-4305-a37f-66e6677c0a12",
   "metadata": {},
   "outputs": [],
   "source": [
    "pdf(\"densidades_orignales_limpieza1.pdf\")\n",
    "\n",
    "for( campo in  campos_ordenados )\n",
    "{\n",
    "  cat( campo, \"  \" )\n",
    "\n",
    "  graficar_campo( campo, periodos_analisis )\n",
    "}\n",
    "\n",
    "dev.off()"
   ]
  }
 ],
 "metadata": {
  "kernelspec": {
   "display_name": "R",
   "language": "R",
   "name": "ir"
  },
  "language_info": {
   "codemirror_mode": "r",
   "file_extension": ".r",
   "mimetype": "text/x-r-source",
   "name": "R",
   "pygments_lexer": "r",
   "version": "4.2.1"
  }
 },
 "nbformat": 4,
 "nbformat_minor": 5
}
