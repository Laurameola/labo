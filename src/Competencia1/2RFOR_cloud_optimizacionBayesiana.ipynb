{
 "cells": [
  {
   "cell_type": "code",
   "execution_count": 1,
   "id": "02c15ad2-9ff6-45f4-a511-0b13ef4c1a2a",
   "metadata": {},
   "outputs": [
    {
     "data": {
      "text/html": [
       "<table class=\"dataframe\">\n",
       "<caption>A matrix: 2 × 6 of type dbl</caption>\n",
       "<thead>\n",
       "\t<tr><th></th><th scope=col>used</th><th scope=col>(Mb)</th><th scope=col>gc trigger</th><th scope=col>(Mb)</th><th scope=col>max used</th><th scope=col>(Mb)</th></tr>\n",
       "</thead>\n",
       "<tbody>\n",
       "\t<tr><th scope=row>Ncells</th><td> 604532</td><td>32.3</td><td>1292165</td><td>69.1</td><td>1292165</td><td>69.1</td></tr>\n",
       "\t<tr><th scope=row>Vcells</th><td>1086868</td><td> 8.3</td><td>8388608</td><td>64.0</td><td>1632674</td><td>12.5</td></tr>\n",
       "</tbody>\n",
       "</table>\n"
      ],
      "text/latex": [
       "A matrix: 2 × 6 of type dbl\n",
       "\\begin{tabular}{r|llllll}\n",
       "  & used & (Mb) & gc trigger & (Mb) & max used & (Mb)\\\\\n",
       "\\hline\n",
       "\tNcells &  604532 & 32.3 & 1292165 & 69.1 & 1292165 & 69.1\\\\\n",
       "\tVcells & 1086868 &  8.3 & 8388608 & 64.0 & 1632674 & 12.5\\\\\n",
       "\\end{tabular}\n"
      ],
      "text/markdown": [
       "\n",
       "A matrix: 2 × 6 of type dbl\n",
       "\n",
       "| <!--/--> | used | (Mb) | gc trigger | (Mb) | max used | (Mb) |\n",
       "|---|---|---|---|---|---|---|\n",
       "| Ncells |  604532 | 32.3 | 1292165 | 69.1 | 1292165 | 69.1 |\n",
       "| Vcells | 1086868 |  8.3 | 8388608 | 64.0 | 1632674 | 12.5 |\n",
       "\n"
      ],
      "text/plain": [
       "       used    (Mb) gc trigger (Mb) max used (Mb)\n",
       "Ncells  604532 32.3 1292165    69.1 1292165  69.1\n",
       "Vcells 1086868  8.3 8388608    64.0 1632674  12.5"
      ]
     },
     "metadata": {},
     "output_type": "display_data"
    }
   ],
   "source": [
    "#limpio la memoria\n",
    "rm( list=ls() )  #remove all objects\n",
    "gc()             #garbage collection"
   ]
  },
  {
   "cell_type": "code",
   "execution_count": 2,
   "id": "abad13d1-f3f9-44dc-a71d-e48b2b80a1fd",
   "metadata": {},
   "outputs": [],
   "source": [
    "semilla <- 100019\n",
    "set.seed(semilla)"
   ]
  },
  {
   "cell_type": "code",
   "execution_count": 3,
   "id": "2092837f",
   "metadata": {
    "vscode": {
     "languageId": "r"
    }
   },
   "outputs": [
    {
     "name": "stderr",
     "output_type": "stream",
     "text": [
      "Loading required package: mlr\n",
      "\n",
      "Loading required package: ParamHelpers\n",
      "\n",
      "Warning message: 'mlr' is in 'maintenance-only' mode since July 2019.\n",
      "Future development will only happen in 'mlr3'\n",
      "(<https://mlr3.mlr-org.com>). Due to the focus on 'mlr3' there might be\n",
      "uncaught bugs meanwhile in {mlr} - please consider switching.\n",
      "\n",
      "Loading required package: smoof\n",
      "\n",
      "Loading required package: checkmate\n",
      "\n",
      "\n",
      "Attaching package: 'checkmate'\n",
      "\n",
      "\n",
      "The following object is masked from 'package:DiceKriging':\n",
      "\n",
      "    checkNames\n",
      "\n",
      "\n"
     ]
    }
   ],
   "source": [
    "#Optimizacion Bayesiana de hiperparametros de  rpart\n",
    "#funciona automaticamente con EXPERIMENTOS\n",
    "#va generando incrementalmente salidas para kaggle\n",
    "\n",
    "library(\"data.table\")\n",
    "library(\"rlist\")\n",
    "library(\"yaml\")\n",
    "\n",
    "library(\"ranger\")\n",
    "library(\"parallel\")\n",
    "\n",
    "#paquetes necesarios para la Bayesian Optimization\n",
    "library(\"DiceKriging\")\n",
    "library(\"mlrMBO\")\n",
    "\n",
    "library(stringr)\n"
   ]
  },
  {
   "cell_type": "code",
   "execution_count": 4,
   "id": "cdbf9f90",
   "metadata": {
    "vscode": {
     "languageId": "r"
    }
   },
   "outputs": [],
   "source": [
    "#para poder usarlo en la PC y en la nube\n",
    "switch ( Sys.info()[['sysname']],\n",
    "         Windows = { directory.root   <-  \"M:\\\\\" },   #Microsoft Windows\n",
    "         Darwin  = { directory.root   <-  \"~/dm/\" },  #Apple MAC\n",
    "#         Linux   = { directory.root   <-  \"~/buckets/b1/\" }  #Entorno Google Cloud\n",
    "         Linux   = { directory.root   <-  \"~/\" }  #Hay un problema en el almacenamiento en cloud del BO por el momento se graba en el usuario\n",
    "       )\n",
    "#defino la carpeta donde trabajo\n",
    "\n",
    "#Hay un error en el almacenamiento \n",
    "\n",
    "#setwd( directory.root )"
   ]
  },
  {
   "cell_type": "code",
   "execution_count": 5,
   "id": "0b489a50",
   "metadata": {
    "vscode": {
     "languageId": "r"
    }
   },
   "outputs": [],
   "source": [
    "kexperimento  <- NA   #NA si se corre la primera vez, un valor concreto si es para continuar procesando\n",
    "\n",
    "kscript           <- \"BO Ranger\"\n",
    "kBO_iter    <-  150   #cantidad de iteraciones de la Optimizacion Bayesiana\n",
    "\n",
    "#kcarpeta_datasets    <- \"./buckets/b1/datasets/\"                          #VM o Ubuntu\n",
    "\n",
    "setwd(\"C:/_MCD/Labo1/code\")  #Establezco el Working Directory\n",
    "kcarpeta_datasets    <- \"./datasets/\"                          #VM o Ubuntu\n",
    "\n",
    "\n",
    "#Archivo con datos etiquetados para entrenamiento\n",
    "karchivo_entrada      <-  paste0(kcarpeta_datasets, \"competencia1_2022_FE_DC2.csv\")\n",
    "\n",
    "\n",
    "#Ganancia por TP\n",
    "kTPGain               <-  78000\n",
    "\n",
    "#Pérdida por FP\n",
    "kFPGain               <-  -2000\n",
    "\n",
    "\n",
    "hs  <- makeParamSet(\n",
    "          makeNumericParam(\"alpha\"       , lower= -1   , upper=    0.1),\n",
    "          makeIntegerParam(\"num.trees\" , lower=  100L  , upper=   1500L),\n",
    "          makeIntegerParam(\"min.node.size\" , lower=  5L  , upper=   1000L),\n",
    "          makeIntegerParam(\"max.depth\" , lower=  3L  , upper=   20L),\n",
    "          makeIntegerParam(\"mtry\" , lower=  5L  , upper=   100L)\n",
    "        )\n",
    "\n",
    "ksemilla_azar  <- semilla"
   ]
  },
  {
   "cell_type": "markdown",
   "id": "426b9b91-0ff7-45dd-8245-a32801ff5b76",
   "metadata": {
    "vscode": {
     "languageId": "r"
    }
   },
   "source": [
    "#------------------------------------------------------------------------------\n",
    "#Funcion que lleva el registro de los experimentos\n",
    "\n",
    "get_experimento  <- function()\n",
    "{\n",
    "  if( !file.exists( \"./maestro.yaml\" ) )  cat( file=\"./maestro.yaml\", \"experimento: 1000\" )\n",
    "\n",
    "  exp  <- read_yaml( \"./maestro.yaml\" )\n",
    "  experimento_actual  <- exp$experimento\n",
    "\n",
    "  exp$experimento  <- as.integer(exp$experimento + 1)\n",
    "  Sys.chmod( \"./maestro.yaml\", mode = \"0644\", use_umask = TRUE)\n",
    "  write_yaml( exp, \"./maestro.yaml\" )\n",
    "  Sys.chmod( \"./maestro.yaml\", mode = \"0444\", use_umask = TRUE) #dejo el archivo readonly\n",
    "\n",
    "  return( experimento_actual )\n",
    "}"
   ]
  },
  {
   "cell_type": "code",
   "execution_count": 6,
   "id": "d2e38325-19a3-4e59-8b0a-26471a2c4fd5",
   "metadata": {
    "vscode": {
     "languageId": "r"
    }
   },
   "outputs": [],
   "source": [
    "#------------------------------------------------------------------------------\n",
    "#Funcion que lleva el registro de los experimentos\n",
    "\n",
    "get_experimento  <- function()\n",
    "{\n",
    "  if( !file.exists( \"./maestro.yaml\" ) )  cat( file=\"./maestro.yaml\", \"experimento: 1000\" )\n",
    "\n",
    "  exp  <- read_yaml( \"./maestro.yaml\" )\n",
    "  experimento_actual  <- exp$experimento\n",
    "\n",
    "  exp$experimento  <- as.integer(exp$experimento + 1)\n",
    "  Sys.chmod( \"./maestro.yaml\", mode = \"0644\", use_umask = TRUE)\n",
    "  write_yaml( exp, \"./maestro.yaml\" )\n",
    "  Sys.chmod( \"./maestro.yaml\", mode = \"0444\", use_umask = TRUE) #dejo el archivo readonly\n",
    "\n",
    "  return( experimento_actual )\n",
    "}"
   ]
  },
  {
   "cell_type": "code",
   "execution_count": 7,
   "id": "1e9841a2",
   "metadata": {
    "vscode": {
     "languageId": "r"
    }
   },
   "outputs": [],
   "source": [
    "#------------------------------------------------------------------------------\n",
    "#funcion para particionar, es la que Andres reemplaza con caret\n",
    "\n",
    "particionar  <- function( data, division, agrupa=\"\", campo=\"fold\", start=1, seed=NA )\n",
    "{\n",
    "  if( !is.na( seed)  )   set.seed( seed )\n",
    "\n",
    "  bloque  <- unlist( mapply(  function(x,y) { rep( y, x ) }, division, seq( from=start, length.out=length(division) )  ) )\n",
    "\n",
    "  data[ , (campo) :=  sample( rep( bloque, ceiling(.N/length(bloque))) )[1:.N],\n",
    "           by= agrupa ]\n",
    "}\n",
    "#------------------------------------------------------------------------------"
   ]
  },
  {
   "cell_type": "code",
   "execution_count": 8,
   "id": "c1e1901e",
   "metadata": {
    "vscode": {
     "languageId": "r"
    }
   },
   "outputs": [],
   "source": [
    "RFSimple  <- function( fold_test, data, param )\n",
    "{\n",
    "    formula_obj  <-  formula(paste(\"clase ~ .\"))\n",
    "    \n",
    "    modelo  <- ranger(\n",
    "                    data= data[ fold != fold_test, ],\n",
    "                   formula_obj,  \n",
    "                   probability=TRUE,\n",
    "                    splitrule=\"gini\",\n",
    "                    alpha = param$alpha,\n",
    "                    num.trees=param$num.trees,\n",
    "                      min.node.size=param$min.node.size,\n",
    "                  max.depth=param$max.depth,\n",
    "                  mtry=param$mtry,\n",
    "                    seed=semilla\n",
    "                 ) \n",
    "\n",
    "dtest <- data[ fold==fold_test, ]\n",
    "dtest$score <- predict(modelo, dtest, type = 'response')$predictions[,2]\n",
    "dtest$Predicted <- dtest$score > 1/40\n",
    "    \n",
    "\n",
    "  ganancia_testing  <- 3*sum(dtest$Predicted*dtest[,clase]*kTPGain + \n",
    "                                     dtest$Predicted * (0 == dtest[,clase]) * kFPGain)\n",
    "\n",
    "  return( ganancia_testing )\n",
    "}"
   ]
  },
  {
   "cell_type": "code",
   "execution_count": 9,
   "id": "3f25f951",
   "metadata": {
    "vscode": {
     "languageId": "r"
    }
   },
   "outputs": [],
   "source": [
    "#------------------------------------------------------------------------------\n",
    "\n",
    "RFCrossValidation  <- function( data, param, qfolds, pagrupa, semilla )\n",
    "{\n",
    "  divi  <- rep( 1, qfolds )\n",
    "  particionar( data, divi, seed=semilla, agrupa=pagrupa )\n",
    "\n",
    "  ganancias  <- mcmapply( RFSimple, \n",
    "                          seq(qfolds), # 1 2 3 4 5  \n",
    "                          MoreArgs= list( data, param), \n",
    "                          SIMPLIFY= FALSE,\n",
    "                          mc.cores= 1 )   #se puede subir a 5 si posee Linux o Mac OS\n",
    "\n",
    "  data[ , fold := NULL ]\n",
    "  #devuelvo la primer ganancia y el promedio\n",
    "  return( mean( unlist( ganancias )) *  qfolds )   #aqui normalizo la ganancia\n",
    "}"
   ]
  },
  {
   "cell_type": "code",
   "execution_count": 10,
   "id": "6ba36867",
   "metadata": {
    "vscode": {
     "languageId": "r"
    }
   },
   "outputs": [],
   "source": [
    "#------------------------------------------------------------------------------\n",
    "#esta funcion solo puede recibir los parametros que se estan optimizando\n",
    "#el resto de los parametros se pasan como variables globales\n",
    "\n",
    "EstimarGanancia  <- function( x )\n",
    "{\n",
    "   GLOBAL_iteracion  <<-  GLOBAL_iteracion + 1\n",
    "\n",
    "   xval_folds  <- 5\n",
    "   ganancia  <-  RFCrossValidation( dtrain, param=x, qfolds= xval_folds, pagrupa=\"clase\", semilla=ksemilla_azar )\n",
    "\n",
    "   #si tengo una ganancia superadora, genero el archivo para Kaggle\n",
    "   if(  ganancia > GLOBAL_ganancia_max )\n",
    "   {\n",
    "     GLOBAL_ganancia_max <<-  ganancia  #asigno la nueva maxima ganancia\n",
    "    \n",
    "     fwrite( x, \n",
    "             file= paste0(kkaggle, str_pad(GLOBAL_iteracion, 5, pad = \"0\"), \"_params.txt\" ),\n",
    "             sep=  \",\" )\n",
    "   write.table(ganancia, file = paste0(kkaggle, str_pad(GLOBAL_iteracion, 5, pad = \"0\"), \"_ganancia.txt\" ), sep = \"\\t\",\n",
    "            col.names = c(\"ganancia\"), row.names=FALSE)\n",
    "   }\n",
    "    write.table(ganancia, file = paste0(kkaggle, str_pad(GLOBAL_iteracion, 5, pad = \"0\"), \"_iteracion.txt\" ), sep = \"\\t\",\n",
    "            col.names = c(\"iteracion_ganancia\"), row.names=FALSE)\n",
    "   return( ganancia )\n",
    "}\n",
    "#------------------------------------------------------------------------------"
   ]
  },
  {
   "cell_type": "code",
   "execution_count": 11,
   "id": "3bdbd4cb",
   "metadata": {
    "vscode": {
     "languageId": "r"
    }
   },
   "outputs": [],
   "source": [
    "#Aqui empieza el programa\n",
    "\n",
    "if( is.na(kexperimento ) )   kexperimento <- get_experimento()  #creo el experimento"
   ]
  },
  {
   "cell_type": "code",
   "execution_count": 12,
   "id": "57f2a412",
   "metadata": {
    "vscode": {
     "languageId": "r"
    }
   },
   "outputs": [],
   "source": [
    "#en estos archivos quedan los resultados\n",
    "kbayesiana  <- paste0(\"./E\",  kexperimento, \"_rf.RDATA\" )\n",
    "kkaggle     <- paste0(\"./E\",kexperimento, \"_rf_kaggle_\" )"
   ]
  },
  {
   "cell_type": "code",
   "execution_count": 13,
   "id": "a555476f",
   "metadata": {
    "vscode": {
     "languageId": "r"
    }
   },
   "outputs": [],
   "source": [
    "GLOBAL_ganancia_max  <-  -Inf\n",
    "GLOBAL_iteracion  <- 0"
   ]
  },
  {
   "cell_type": "code",
   "execution_count": 14,
   "id": "81cc80f4",
   "metadata": {
    "vscode": {
     "languageId": "r"
    }
   },
   "outputs": [],
   "source": [
    "#cargo los datos\n",
    "dataset <- fread(karchivo_entrada)\n",
    "\n",
    "#Para hacer pruebas rapidas puedo reducir el dataset a una fraccion\n",
    "#subsample <- sample(1:nrow(dataset), .1 * nrow(dataset))\n",
    "#dataset <- dataset[subsample,]\n",
    "\n",
    "dataset[is.na(dataset)] <- 0\n",
    "dataset[,'clase' := as.integer(dataset[,'clase_ternaria'] == 'BAJA+2')]\n",
    "dataset[ ,  'clase_ternaria' := NULL    ] \n",
    "\n",
    "dtrain  <- dataset[ foto_mes==202101 ]  #defino donde voy a entrenar\n",
    "\n",
    "dapply  <- dataset[ foto_mes==202103 ]  #defino donde voy a aplicar el modelo"
   ]
  },
  {
   "cell_type": "code",
   "execution_count": 15,
   "id": "a5462da6-b8a4-4d09-ad0d-5d8a1c753583",
   "metadata": {},
   "outputs": [
    {
     "data": {
      "text/html": [
       "<table class=\"dataframe\">\n",
       "<caption>A data.table: 6 × 270</caption>\n",
       "<thead>\n",
       "\t<tr><th scope=col>numero_de_cliente</th><th scope=col>foto_mes</th><th scope=col>active_quarter</th><th scope=col>cliente_vip</th><th scope=col>internet</th><th scope=col>cliente_edad</th><th scope=col>cliente_antiguedad</th><th scope=col>mrentabilidad</th><th scope=col>mrentabilidad_annual</th><th scope=col>mcomisiones</th><th scope=col>⋯</th><th scope=col>tarj_credito_mconsumototal</th><th scope=col>tarj_credito_cconsumos</th><th scope=col>tarj_credito_cadelantosefectivo</th><th scope=col>tarj_credito_mpagominimo</th><th scope=col>prop_limite_compra_saldo</th><th scope=col>prop_limite_compra_gastos</th><th scope=col>prop_limite_compra_ingresos</th><th scope=col>prop_limite_compra_saldo_estim</th><th scope=col>cant_prod_dif_desvinc</th><th scope=col>clase</th></tr>\n",
       "\t<tr><th scope=col>&lt;int&gt;</th><th scope=col>&lt;int&gt;</th><th scope=col>&lt;int&gt;</th><th scope=col>&lt;int&gt;</th><th scope=col>&lt;int&gt;</th><th scope=col>&lt;int&gt;</th><th scope=col>&lt;int&gt;</th><th scope=col>&lt;dbl&gt;</th><th scope=col>&lt;dbl&gt;</th><th scope=col>&lt;dbl&gt;</th><th scope=col>⋯</th><th scope=col>&lt;dbl&gt;</th><th scope=col>&lt;int&gt;</th><th scope=col>&lt;int&gt;</th><th scope=col>&lt;dbl&gt;</th><th scope=col>&lt;dbl&gt;</th><th scope=col>&lt;dbl&gt;</th><th scope=col>&lt;dbl&gt;</th><th scope=col>&lt;dbl&gt;</th><th scope=col>&lt;int&gt;</th><th scope=col>&lt;int&gt;</th></tr>\n",
       "</thead>\n",
       "<tbody>\n",
       "\t<tr><td>31115668</td><td>202101</td><td>1</td><td>0</td><td>0</td><td>56</td><td>132</td><td> 1897.12</td><td> 24324.75</td><td> 940.32</td><td>⋯</td><td>18435.59</td><td> 1</td><td>0</td><td> 1337.22</td><td> 1.118721</td><td> 1.804695</td><td> 0.6512564</td><td> 1.118721</td><td> 4</td><td>0</td></tr>\n",
       "\t<tr><td>31115678</td><td>202101</td><td>1</td><td>0</td><td>0</td><td>48</td><td>100</td><td> -384.72</td><td> 33860.45</td><td>-515.53</td><td>⋯</td><td>    0.00</td><td> 0</td><td>0</td><td>    0.00</td><td> 0.000000</td><td> 0.000000</td><td> 0.0000000</td><td> 0.000000</td><td> 2</td><td>0</td></tr>\n",
       "\t<tr><td>31117415</td><td>202101</td><td>1</td><td>0</td><td>0</td><td>60</td><td> 53</td><td>-3622.66</td><td>-21310.32</td><td>4064.85</td><td>⋯</td><td>21182.80</td><td> 6</td><td>0</td><td>20152.14</td><td> 1.642494</td><td> 1.780312</td><td> 1.1214953</td><td> 1.642494</td><td> 2</td><td>0</td></tr>\n",
       "\t<tr><td>31117711</td><td>202101</td><td>1</td><td>0</td><td>0</td><td>46</td><td>273</td><td>14542.05</td><td>125727.99</td><td>1037.77</td><td>⋯</td><td>  758.21</td><td> 3</td><td>0</td><td> 1302.03</td><td> 4.238328</td><td>14.654054</td><td>12.1098966</td><td> 4.238328</td><td> 9</td><td>0</td></tr>\n",
       "\t<tr><td>31118145</td><td>202101</td><td>1</td><td>0</td><td>0</td><td>47</td><td>192</td><td> 1868.27</td><td> 37305.29</td><td>2861.62</td><td>⋯</td><td> 6316.13</td><td> 1</td><td>0</td><td> 4680.27</td><td>14.582133</td><td> 3.086385</td><td>16.7739531</td><td>14.582133</td><td> 0</td><td>0</td></tr>\n",
       "\t<tr><td>31118204</td><td>202101</td><td>1</td><td>0</td><td>0</td><td>68</td><td>258</td><td> 2301.86</td><td> 60781.98</td><td>5169.05</td><td>⋯</td><td>37036.92</td><td>17</td><td>0</td><td> 4093.77</td><td>18.133433</td><td> 4.933004</td><td> 8.3994629</td><td>18.133433</td><td>23</td><td>0</td></tr>\n",
       "</tbody>\n",
       "</table>\n"
      ],
      "text/latex": [
       "A data.table: 6 × 270\n",
       "\\begin{tabular}{lllllllllllllllllllll}\n",
       " numero\\_de\\_cliente & foto\\_mes & active\\_quarter & cliente\\_vip & internet & cliente\\_edad & cliente\\_antiguedad & mrentabilidad & mrentabilidad\\_annual & mcomisiones & ⋯ & tarj\\_credito\\_mconsumototal & tarj\\_credito\\_cconsumos & tarj\\_credito\\_cadelantosefectivo & tarj\\_credito\\_mpagominimo & prop\\_limite\\_compra\\_saldo & prop\\_limite\\_compra\\_gastos & prop\\_limite\\_compra\\_ingresos & prop\\_limite\\_compra\\_saldo\\_estim & cant\\_prod\\_dif\\_desvinc & clase\\\\\n",
       " <int> & <int> & <int> & <int> & <int> & <int> & <int> & <dbl> & <dbl> & <dbl> & ⋯ & <dbl> & <int> & <int> & <dbl> & <dbl> & <dbl> & <dbl> & <dbl> & <int> & <int>\\\\\n",
       "\\hline\n",
       "\t 31115668 & 202101 & 1 & 0 & 0 & 56 & 132 &  1897.12 &  24324.75 &  940.32 & ⋯ & 18435.59 &  1 & 0 &  1337.22 &  1.118721 &  1.804695 &  0.6512564 &  1.118721 &  4 & 0\\\\\n",
       "\t 31115678 & 202101 & 1 & 0 & 0 & 48 & 100 &  -384.72 &  33860.45 & -515.53 & ⋯ &     0.00 &  0 & 0 &     0.00 &  0.000000 &  0.000000 &  0.0000000 &  0.000000 &  2 & 0\\\\\n",
       "\t 31117415 & 202101 & 1 & 0 & 0 & 60 &  53 & -3622.66 & -21310.32 & 4064.85 & ⋯ & 21182.80 &  6 & 0 & 20152.14 &  1.642494 &  1.780312 &  1.1214953 &  1.642494 &  2 & 0\\\\\n",
       "\t 31117711 & 202101 & 1 & 0 & 0 & 46 & 273 & 14542.05 & 125727.99 & 1037.77 & ⋯ &   758.21 &  3 & 0 &  1302.03 &  4.238328 & 14.654054 & 12.1098966 &  4.238328 &  9 & 0\\\\\n",
       "\t 31118145 & 202101 & 1 & 0 & 0 & 47 & 192 &  1868.27 &  37305.29 & 2861.62 & ⋯ &  6316.13 &  1 & 0 &  4680.27 & 14.582133 &  3.086385 & 16.7739531 & 14.582133 &  0 & 0\\\\\n",
       "\t 31118204 & 202101 & 1 & 0 & 0 & 68 & 258 &  2301.86 &  60781.98 & 5169.05 & ⋯ & 37036.92 & 17 & 0 &  4093.77 & 18.133433 &  4.933004 &  8.3994629 & 18.133433 & 23 & 0\\\\\n",
       "\\end{tabular}\n"
      ],
      "text/markdown": [
       "\n",
       "A data.table: 6 × 270\n",
       "\n",
       "| numero_de_cliente &lt;int&gt; | foto_mes &lt;int&gt; | active_quarter &lt;int&gt; | cliente_vip &lt;int&gt; | internet &lt;int&gt; | cliente_edad &lt;int&gt; | cliente_antiguedad &lt;int&gt; | mrentabilidad &lt;dbl&gt; | mrentabilidad_annual &lt;dbl&gt; | mcomisiones &lt;dbl&gt; | ⋯ ⋯ | tarj_credito_mconsumototal &lt;dbl&gt; | tarj_credito_cconsumos &lt;int&gt; | tarj_credito_cadelantosefectivo &lt;int&gt; | tarj_credito_mpagominimo &lt;dbl&gt; | prop_limite_compra_saldo &lt;dbl&gt; | prop_limite_compra_gastos &lt;dbl&gt; | prop_limite_compra_ingresos &lt;dbl&gt; | prop_limite_compra_saldo_estim &lt;dbl&gt; | cant_prod_dif_desvinc &lt;int&gt; | clase &lt;int&gt; |\n",
       "|---|---|---|---|---|---|---|---|---|---|---|---|---|---|---|---|---|---|---|---|---|\n",
       "| 31115668 | 202101 | 1 | 0 | 0 | 56 | 132 |  1897.12 |  24324.75 |  940.32 | ⋯ | 18435.59 |  1 | 0 |  1337.22 |  1.118721 |  1.804695 |  0.6512564 |  1.118721 |  4 | 0 |\n",
       "| 31115678 | 202101 | 1 | 0 | 0 | 48 | 100 |  -384.72 |  33860.45 | -515.53 | ⋯ |     0.00 |  0 | 0 |     0.00 |  0.000000 |  0.000000 |  0.0000000 |  0.000000 |  2 | 0 |\n",
       "| 31117415 | 202101 | 1 | 0 | 0 | 60 |  53 | -3622.66 | -21310.32 | 4064.85 | ⋯ | 21182.80 |  6 | 0 | 20152.14 |  1.642494 |  1.780312 |  1.1214953 |  1.642494 |  2 | 0 |\n",
       "| 31117711 | 202101 | 1 | 0 | 0 | 46 | 273 | 14542.05 | 125727.99 | 1037.77 | ⋯ |   758.21 |  3 | 0 |  1302.03 |  4.238328 | 14.654054 | 12.1098966 |  4.238328 |  9 | 0 |\n",
       "| 31118145 | 202101 | 1 | 0 | 0 | 47 | 192 |  1868.27 |  37305.29 | 2861.62 | ⋯ |  6316.13 |  1 | 0 |  4680.27 | 14.582133 |  3.086385 | 16.7739531 | 14.582133 |  0 | 0 |\n",
       "| 31118204 | 202101 | 1 | 0 | 0 | 68 | 258 |  2301.86 |  60781.98 | 5169.05 | ⋯ | 37036.92 | 17 | 0 |  4093.77 | 18.133433 |  4.933004 |  8.3994629 | 18.133433 | 23 | 0 |\n",
       "\n"
      ],
      "text/plain": [
       "  numero_de_cliente foto_mes active_quarter cliente_vip internet cliente_edad\n",
       "1 31115668          202101   1              0           0        56          \n",
       "2 31115678          202101   1              0           0        48          \n",
       "3 31117415          202101   1              0           0        60          \n",
       "4 31117711          202101   1              0           0        46          \n",
       "5 31118145          202101   1              0           0        47          \n",
       "6 31118204          202101   1              0           0        68          \n",
       "  cliente_antiguedad mrentabilidad mrentabilidad_annual mcomisiones ⋯\n",
       "1 132                 1897.12       24324.75             940.32     ⋯\n",
       "2 100                 -384.72       33860.45            -515.53     ⋯\n",
       "3  53                -3622.66      -21310.32            4064.85     ⋯\n",
       "4 273                14542.05      125727.99            1037.77     ⋯\n",
       "5 192                 1868.27       37305.29            2861.62     ⋯\n",
       "6 258                 2301.86       60781.98            5169.05     ⋯\n",
       "  tarj_credito_mconsumototal tarj_credito_cconsumos\n",
       "1 18435.59                    1                    \n",
       "2     0.00                    0                    \n",
       "3 21182.80                    6                    \n",
       "4   758.21                    3                    \n",
       "5  6316.13                    1                    \n",
       "6 37036.92                   17                    \n",
       "  tarj_credito_cadelantosefectivo tarj_credito_mpagominimo\n",
       "1 0                                1337.22                \n",
       "2 0                                   0.00                \n",
       "3 0                               20152.14                \n",
       "4 0                                1302.03                \n",
       "5 0                                4680.27                \n",
       "6 0                                4093.77                \n",
       "  prop_limite_compra_saldo prop_limite_compra_gastos\n",
       "1  1.118721                 1.804695                \n",
       "2  0.000000                 0.000000                \n",
       "3  1.642494                 1.780312                \n",
       "4  4.238328                14.654054                \n",
       "5 14.582133                 3.086385                \n",
       "6 18.133433                 4.933004                \n",
       "  prop_limite_compra_ingresos prop_limite_compra_saldo_estim\n",
       "1  0.6512564                   1.118721                     \n",
       "2  0.0000000                   0.000000                     \n",
       "3  1.1214953                   1.642494                     \n",
       "4 12.1098966                   4.238328                     \n",
       "5 16.7739531                  14.582133                     \n",
       "6  8.3994629                  18.133433                     \n",
       "  cant_prod_dif_desvinc clase\n",
       "1  4                    0    \n",
       "2  2                    0    \n",
       "3  2                    0    \n",
       "4  9                    0    \n",
       "5  0                    0    \n",
       "6 23                    0    "
      ]
     },
     "metadata": {},
     "output_type": "display_data"
    }
   ],
   "source": [
    "head(dataset)"
   ]
  },
  {
   "cell_type": "code",
   "execution_count": 16,
   "id": "c81db6a6",
   "metadata": {
    "vscode": {
     "languageId": "r"
    }
   },
   "outputs": [],
   "source": [
    "#Aqui comienza la configuracion de la Bayesian Optimization\n",
    "\n",
    "configureMlr( show.learner.output = FALSE)\n",
    "\n",
    "funcion_optimizar  <- EstimarGanancia\n",
    "\n",
    "#configuro la busqueda bayesiana,  los hiperparametros que se van a optimizar\n",
    "#por favor, no desesperarse por lo complejo\n",
    "obj.fun  <- makeSingleObjectiveFunction(\n",
    "              fn=       funcion_optimizar,\n",
    "              minimize= FALSE,   #estoy Maximizando la ganancia\n",
    "              noisy=    TRUE,\n",
    "              par.set=  hs,\n",
    "              has.simple.signature = FALSE\n",
    "             )\n",
    "\n",
    "ctrl  <- makeMBOControl( save.on.disk.at.time= 60,  save.file.path= kbayesiana)\n",
    "ctrl  <- setMBOControlTermination(ctrl, iters= kBO_iter )\n",
    "ctrl  <- setMBOControlInfill(ctrl, crit= makeMBOInfillCritEI())\n",
    "\n",
    "surr.km  <-  makeLearner(\"regr.km\", predict.type= \"se\", covtype= \"matern3_2\", control= list(trace= TRUE))"
   ]
  },
  {
   "cell_type": "code",
   "execution_count": null,
   "id": "9383ca74",
   "metadata": {
    "vscode": {
     "languageId": "r"
    }
   },
   "outputs": [
    {
     "name": "stderr",
     "output_type": "stream",
     "text": [
      "Computing y column(s) for design. Not provided.\n",
      "\n"
     ]
    }
   ],
   "source": [
    "#inicio la optimizacion bayesiana\n",
    "if(!file.exists(kbayesiana)) {\n",
    "  run  <- mbo(obj.fun, learner = surr.km, control = ctrl)\n",
    "} else  run  <- mboContinue( kbayesiana )   #retomo en caso que ya exista"
   ]
  },
  {
   "cell_type": "code",
   "execution_count": null,
   "id": "fd592624",
   "metadata": {
    "vscode": {
     "languageId": "r"
    }
   },
   "outputs": [],
   "source": [
    "quit( save=\"no\" )"
   ]
  }
 ],
 "metadata": {
  "kernelspec": {
   "display_name": "R",
   "language": "R",
   "name": "ir"
  },
  "language_info": {
   "codemirror_mode": "r",
   "file_extension": ".r",
   "mimetype": "text/x-r-source",
   "name": "R",
   "pygments_lexer": "r",
   "version": "4.2.1"
  },
  "vscode": {
   "interpreter": {
    "hash": "0b87cd2a2c92c59199cd604023601109306b45cac2bd778b8aa97bbc69631231"
   }
  }
 },
 "nbformat": 4,
 "nbformat_minor": 5
}
