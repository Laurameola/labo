{
 "cells": [
  {
   "cell_type": "markdown",
   "metadata": {},
   "source": [
    "## Generador de Prediccion Estandar"
   ]
  },
  {
   "cell_type": "code",
   "execution_count": 76,
   "metadata": {},
   "outputs": [
    {
     "data": {
      "text/html": [
       "<table class=\"dataframe\">\n",
       "<caption>A matrix: 2 × 6 of type dbl</caption>\n",
       "<thead>\n",
       "\t<tr><th></th><th scope=col>used</th><th scope=col>(Mb)</th><th scope=col>gc trigger</th><th scope=col>(Mb)</th><th scope=col>max used</th><th scope=col>(Mb)</th></tr>\n",
       "</thead>\n",
       "<tbody>\n",
       "\t<tr><th scope=row>Ncells</th><td>2404562</td><td>128.5</td><td>  4767548</td><td> 254.7</td><td>  4767548</td><td> 254.7</td></tr>\n",
       "\t<tr><th scope=row>Vcells</th><td>4108769</td><td> 31.4</td><td>179629085</td><td>1370.5</td><td>224448902</td><td>1712.5</td></tr>\n",
       "</tbody>\n",
       "</table>\n"
      ],
      "text/latex": [
       "A matrix: 2 × 6 of type dbl\n",
       "\\begin{tabular}{r|llllll}\n",
       "  & used & (Mb) & gc trigger & (Mb) & max used & (Mb)\\\\\n",
       "\\hline\n",
       "\tNcells & 2404562 & 128.5 &   4767548 &  254.7 &   4767548 &  254.7\\\\\n",
       "\tVcells & 4108769 &  31.4 & 179629085 & 1370.5 & 224448902 & 1712.5\\\\\n",
       "\\end{tabular}\n"
      ],
      "text/markdown": [
       "\n",
       "A matrix: 2 × 6 of type dbl\n",
       "\n",
       "| <!--/--> | used | (Mb) | gc trigger | (Mb) | max used | (Mb) |\n",
       "|---|---|---|---|---|---|---|\n",
       "| Ncells | 2404562 | 128.5 |   4767548 |  254.7 |   4767548 |  254.7 |\n",
       "| Vcells | 4108769 |  31.4 | 179629085 | 1370.5 | 224448902 | 1712.5 |\n",
       "\n"
      ],
      "text/plain": [
       "       used    (Mb)  gc trigger (Mb)   max used  (Mb)  \n",
       "Ncells 2404562 128.5   4767548   254.7   4767548  254.7\n",
       "Vcells 4108769  31.4 179629085  1370.5 224448902 1712.5"
      ]
     },
     "metadata": {},
     "output_type": "display_data"
    }
   ],
   "source": [
    "#Se limpia la memoria\n",
    "rm(list=ls())\n",
    "gc()"
   ]
  },
  {
   "cell_type": "code",
   "execution_count": 77,
   "metadata": {},
   "outputs": [],
   "source": [
    "semilla <- 100019\n",
    "set.seed(semilla)"
   ]
  },
  {
   "cell_type": "code",
   "execution_count": 78,
   "metadata": {},
   "outputs": [],
   "source": [
    "#cargo las librerias que necesito\n",
    "require(\"data.table\")\n",
    "require(\"rpart\")\n",
    "require(\"rpart.plot\")\n",
    "#Contiene funciones para evaluar performance de la clasificación\n",
    "library(\"ROCR\")\n",
    "\n",
    "library(\"caret\")\n",
    "library(\"ranger\")"
   ]
  },
  {
   "cell_type": "code",
   "execution_count": 79,
   "metadata": {},
   "outputs": [],
   "source": [
    "setwd(\"C:/_MCD/Labo1/code\")  #Establezco el Working Directory"
   ]
  },
  {
   "cell_type": "code",
   "execution_count": 80,
   "metadata": {},
   "outputs": [],
   "source": [
    "dataset  <- fread(\"./datasets/competencia1_2022.csv\")"
   ]
  },
  {
   "cell_type": "code",
   "execution_count": 81,
   "metadata": {},
   "outputs": [],
   "source": [
    "dtrain  <- dataset[ foto_mes==202101 ]  #defino donde voy a entrenar\n",
    "dapply  <- dataset[ foto_mes==202103 ]  #defino donde voy a aplicar el modelo"
   ]
  },
  {
   "cell_type": "code",
   "execution_count": 82,
   "metadata": {},
   "outputs": [],
   "source": [
    "modelo  <- rpart(formula=    \"clase_ternaria ~ .\", #quiero predecir clase_ternaria a partir de el resto de las variables\n",
    "                 data =      dtrain,  #los datos donde voy a entrenar\n",
    "                 xval=       0,\n",
    "             cp=           -0.5,\n",
    "                 minsplit=    1340,\n",
    "                 minbucket=   600,\n",
    "                 maxdepth=      6   )\n"
   ]
  },
  {
   "cell_type": "markdown",
   "metadata": {},
   "source": [
    "Ahora grafico el arbol, va a ser muy frondoso porque la profundidad es de 10"
   ]
  },
  {
   "cell_type": "code",
   "execution_count": 83,
   "metadata": {},
   "outputs": [],
   "source": [
    "#prp(modelo, extra=101, digits=5, branch=1, type=4, varlen=0, faclen=0)"
   ]
  },
  {
   "cell_type": "markdown",
   "metadata": {},
   "source": [
    "Ahora aplico al modelo  a los datos muevos  y genero la salida para kaggle"
   ]
  },
  {
   "cell_type": "markdown",
   "metadata": {},
   "source": [
    "aplico el modelo a los datos nuevos"
   ]
  },
  {
   "cell_type": "code",
   "execution_count": 84,
   "metadata": {},
   "outputs": [],
   "source": [
    "prediccion  <- predict( modelo, dapply , type = \"prob\") #aplico el modelo"
   ]
  },
  {
   "cell_type": "markdown",
   "metadata": {},
   "source": [
    "prediccion es una matriz con TRES columnas, llamadas \"BAJA+1\", \"BAJA+2\"  y \"CONTINUA\"\n",
    "cada columna es el vector de probabilidades "
   ]
  },
  {
   "cell_type": "markdown",
   "metadata": {},
   "source": [
    "agrego a dapply una columna nueva que es la probabilidad de BAJA+2"
   ]
  },
  {
   "cell_type": "code",
   "execution_count": 85,
   "metadata": {},
   "outputs": [],
   "source": [
    "dapply[ , prob_baja2 := prediccion[, \"BAJA+2\"] ]"
   ]
  },
  {
   "cell_type": "markdown",
   "metadata": {},
   "source": [
    "solo le envio estimulo a los registros con probabilidad de BAJA+2 mayor  a  1/40"
   ]
  },
  {
   "cell_type": "code",
   "execution_count": 86,
   "metadata": {},
   "outputs": [
    {
     "data": {
      "text/html": [
       "<table class=\"dataframe\">\n",
       "<caption>A data.table: 6 × 156</caption>\n",
       "<thead>\n",
       "\t<tr><th scope=col>numero_de_cliente</th><th scope=col>foto_mes</th><th scope=col>active_quarter</th><th scope=col>cliente_vip</th><th scope=col>internet</th><th scope=col>cliente_edad</th><th scope=col>cliente_antiguedad</th><th scope=col>mrentabilidad</th><th scope=col>mrentabilidad_annual</th><th scope=col>mcomisiones</th><th scope=col>⋯</th><th scope=col>Visa_mpagado</th><th scope=col>Visa_mpagospesos</th><th scope=col>Visa_mpagosdolares</th><th scope=col>Visa_fechaalta</th><th scope=col>Visa_mconsumototal</th><th scope=col>Visa_cconsumos</th><th scope=col>Visa_cadelantosefectivo</th><th scope=col>Visa_mpagominimo</th><th scope=col>clase_ternaria</th><th scope=col>prob_baja2</th></tr>\n",
       "\t<tr><th scope=col>&lt;int&gt;</th><th scope=col>&lt;int&gt;</th><th scope=col>&lt;int&gt;</th><th scope=col>&lt;int&gt;</th><th scope=col>&lt;int&gt;</th><th scope=col>&lt;int&gt;</th><th scope=col>&lt;int&gt;</th><th scope=col>&lt;dbl&gt;</th><th scope=col>&lt;dbl&gt;</th><th scope=col>&lt;dbl&gt;</th><th scope=col>⋯</th><th scope=col>&lt;dbl&gt;</th><th scope=col>&lt;dbl&gt;</th><th scope=col>&lt;dbl&gt;</th><th scope=col>&lt;int&gt;</th><th scope=col>&lt;dbl&gt;</th><th scope=col>&lt;int&gt;</th><th scope=col>&lt;int&gt;</th><th scope=col>&lt;dbl&gt;</th><th scope=col>&lt;chr&gt;</th><th scope=col>&lt;dbl&gt;</th></tr>\n",
       "</thead>\n",
       "<tbody>\n",
       "\t<tr><td>31115668</td><td>202103</td><td>1</td><td>0</td><td>0</td><td>56</td><td>134</td><td>  688.41</td><td> 26701.84</td><td>   98.82</td><td>⋯</td><td> 0</td><td>-16247.77</td><td> 0</td><td>4056</td><td>15732.34</td><td> 1</td><td> 0</td><td> 1137.81</td><td></td><td>0.0003144439</td></tr>\n",
       "\t<tr><td>31115678</td><td>202103</td><td>1</td><td>0</td><td>0</td><td>48</td><td>102</td><td>   78.43</td><td> 24418.75</td><td>  -73.62</td><td>⋯</td><td>NA</td><td>       NA</td><td>NA</td><td>  NA</td><td>      NA</td><td>NA</td><td>NA</td><td>      NA</td><td></td><td>0.0003144439</td></tr>\n",
       "\t<tr><td>31117415</td><td>202103</td><td>1</td><td>0</td><td>0</td><td>60</td><td> 55</td><td> 8101.55</td><td>  3162.23</td><td>13399.50</td><td>⋯</td><td> 0</td><td>-31103.23</td><td> 0</td><td>1632</td><td> 2860.54</td><td> 2</td><td> 0</td><td>19858.89</td><td></td><td>0.0033441208</td></tr>\n",
       "\t<tr><td>31117711</td><td>202103</td><td>1</td><td>0</td><td>0</td><td>46</td><td>275</td><td>14825.78</td><td>138050.05</td><td> 1146.27</td><td>⋯</td><td> 0</td><td>-13733.44</td><td> 0</td><td>2122</td><td> 1419.36</td><td> 3</td><td> 0</td><td> 1231.65</td><td></td><td>0.0003144439</td></tr>\n",
       "\t<tr><td>31118145</td><td>202103</td><td>1</td><td>0</td><td>0</td><td>47</td><td>194</td><td> 2015.61</td><td> 31240.49</td><td> 1791.25</td><td>⋯</td><td> 0</td><td>     0.00</td><td> 0</td><td>5901</td><td> 1286.93</td><td> 1</td><td> 0</td><td>   82.11</td><td></td><td>0.0047378395</td></tr>\n",
       "\t<tr><td>31118204</td><td>202103</td><td>1</td><td>0</td><td>0</td><td>68</td><td>260</td><td>14424.33</td><td> 71750.45</td><td> 3694.07</td><td>⋯</td><td> 0</td><td>-55168.01</td><td> 0</td><td>3180</td><td>35363.16</td><td>18</td><td> 0</td><td> 5114.28</td><td></td><td>0.0033441208</td></tr>\n",
       "</tbody>\n",
       "</table>\n"
      ],
      "text/latex": [
       "A data.table: 6 × 156\n",
       "\\begin{tabular}{lllllllllllllllllllll}\n",
       " numero\\_de\\_cliente & foto\\_mes & active\\_quarter & cliente\\_vip & internet & cliente\\_edad & cliente\\_antiguedad & mrentabilidad & mrentabilidad\\_annual & mcomisiones & ⋯ & Visa\\_mpagado & Visa\\_mpagospesos & Visa\\_mpagosdolares & Visa\\_fechaalta & Visa\\_mconsumototal & Visa\\_cconsumos & Visa\\_cadelantosefectivo & Visa\\_mpagominimo & clase\\_ternaria & prob\\_baja2\\\\\n",
       " <int> & <int> & <int> & <int> & <int> & <int> & <int> & <dbl> & <dbl> & <dbl> & ⋯ & <dbl> & <dbl> & <dbl> & <int> & <dbl> & <int> & <int> & <dbl> & <chr> & <dbl>\\\\\n",
       "\\hline\n",
       "\t 31115668 & 202103 & 1 & 0 & 0 & 56 & 134 &   688.41 &  26701.84 &    98.82 & ⋯ &  0 & -16247.77 &  0 & 4056 & 15732.34 &  1 &  0 &  1137.81 &  & 0.0003144439\\\\\n",
       "\t 31115678 & 202103 & 1 & 0 & 0 & 48 & 102 &    78.43 &  24418.75 &   -73.62 & ⋯ & NA &        NA & NA &   NA &       NA & NA & NA &       NA &  & 0.0003144439\\\\\n",
       "\t 31117415 & 202103 & 1 & 0 & 0 & 60 &  55 &  8101.55 &   3162.23 & 13399.50 & ⋯ &  0 & -31103.23 &  0 & 1632 &  2860.54 &  2 &  0 & 19858.89 &  & 0.0033441208\\\\\n",
       "\t 31117711 & 202103 & 1 & 0 & 0 & 46 & 275 & 14825.78 & 138050.05 &  1146.27 & ⋯ &  0 & -13733.44 &  0 & 2122 &  1419.36 &  3 &  0 &  1231.65 &  & 0.0003144439\\\\\n",
       "\t 31118145 & 202103 & 1 & 0 & 0 & 47 & 194 &  2015.61 &  31240.49 &  1791.25 & ⋯ &  0 &      0.00 &  0 & 5901 &  1286.93 &  1 &  0 &    82.11 &  & 0.0047378395\\\\\n",
       "\t 31118204 & 202103 & 1 & 0 & 0 & 68 & 260 & 14424.33 &  71750.45 &  3694.07 & ⋯ &  0 & -55168.01 &  0 & 3180 & 35363.16 & 18 &  0 &  5114.28 &  & 0.0033441208\\\\\n",
       "\\end{tabular}\n"
      ],
      "text/markdown": [
       "\n",
       "A data.table: 6 × 156\n",
       "\n",
       "| numero_de_cliente &lt;int&gt; | foto_mes &lt;int&gt; | active_quarter &lt;int&gt; | cliente_vip &lt;int&gt; | internet &lt;int&gt; | cliente_edad &lt;int&gt; | cliente_antiguedad &lt;int&gt; | mrentabilidad &lt;dbl&gt; | mrentabilidad_annual &lt;dbl&gt; | mcomisiones &lt;dbl&gt; | ⋯ ⋯ | Visa_mpagado &lt;dbl&gt; | Visa_mpagospesos &lt;dbl&gt; | Visa_mpagosdolares &lt;dbl&gt; | Visa_fechaalta &lt;int&gt; | Visa_mconsumototal &lt;dbl&gt; | Visa_cconsumos &lt;int&gt; | Visa_cadelantosefectivo &lt;int&gt; | Visa_mpagominimo &lt;dbl&gt; | clase_ternaria &lt;chr&gt; | prob_baja2 &lt;dbl&gt; |\n",
       "|---|---|---|---|---|---|---|---|---|---|---|---|---|---|---|---|---|---|---|---|---|\n",
       "| 31115668 | 202103 | 1 | 0 | 0 | 56 | 134 |   688.41 |  26701.84 |    98.82 | ⋯ |  0 | -16247.77 |  0 | 4056 | 15732.34 |  1 |  0 |  1137.81 | <!----> | 0.0003144439 |\n",
       "| 31115678 | 202103 | 1 | 0 | 0 | 48 | 102 |    78.43 |  24418.75 |   -73.62 | ⋯ | NA |        NA | NA |   NA |       NA | NA | NA |       NA | <!----> | 0.0003144439 |\n",
       "| 31117415 | 202103 | 1 | 0 | 0 | 60 |  55 |  8101.55 |   3162.23 | 13399.50 | ⋯ |  0 | -31103.23 |  0 | 1632 |  2860.54 |  2 |  0 | 19858.89 | <!----> | 0.0033441208 |\n",
       "| 31117711 | 202103 | 1 | 0 | 0 | 46 | 275 | 14825.78 | 138050.05 |  1146.27 | ⋯ |  0 | -13733.44 |  0 | 2122 |  1419.36 |  3 |  0 |  1231.65 | <!----> | 0.0003144439 |\n",
       "| 31118145 | 202103 | 1 | 0 | 0 | 47 | 194 |  2015.61 |  31240.49 |  1791.25 | ⋯ |  0 |      0.00 |  0 | 5901 |  1286.93 |  1 |  0 |    82.11 | <!----> | 0.0047378395 |\n",
       "| 31118204 | 202103 | 1 | 0 | 0 | 68 | 260 | 14424.33 |  71750.45 |  3694.07 | ⋯ |  0 | -55168.01 |  0 | 3180 | 35363.16 | 18 |  0 |  5114.28 | <!----> | 0.0033441208 |\n",
       "\n"
      ],
      "text/plain": [
       "  numero_de_cliente foto_mes active_quarter cliente_vip internet cliente_edad\n",
       "1 31115668          202103   1              0           0        56          \n",
       "2 31115678          202103   1              0           0        48          \n",
       "3 31117415          202103   1              0           0        60          \n",
       "4 31117711          202103   1              0           0        46          \n",
       "5 31118145          202103   1              0           0        47          \n",
       "6 31118204          202103   1              0           0        68          \n",
       "  cliente_antiguedad mrentabilidad mrentabilidad_annual mcomisiones ⋯\n",
       "1 134                  688.41       26701.84               98.82    ⋯\n",
       "2 102                   78.43       24418.75              -73.62    ⋯\n",
       "3  55                 8101.55        3162.23            13399.50    ⋯\n",
       "4 275                14825.78      138050.05             1146.27    ⋯\n",
       "5 194                 2015.61       31240.49             1791.25    ⋯\n",
       "6 260                14424.33       71750.45             3694.07    ⋯\n",
       "  Visa_mpagado Visa_mpagospesos Visa_mpagosdolares Visa_fechaalta\n",
       "1  0           -16247.77         0                 4056          \n",
       "2 NA                  NA        NA                   NA          \n",
       "3  0           -31103.23         0                 1632          \n",
       "4  0           -13733.44         0                 2122          \n",
       "5  0                0.00         0                 5901          \n",
       "6  0           -55168.01         0                 3180          \n",
       "  Visa_mconsumototal Visa_cconsumos Visa_cadelantosefectivo Visa_mpagominimo\n",
       "1 15732.34            1              0                       1137.81        \n",
       "2       NA           NA             NA                            NA        \n",
       "3  2860.54            2              0                      19858.89        \n",
       "4  1419.36            3              0                       1231.65        \n",
       "5  1286.93            1              0                         82.11        \n",
       "6 35363.16           18              0                       5114.28        \n",
       "  clase_ternaria prob_baja2  \n",
       "1                0.0003144439\n",
       "2                0.0003144439\n",
       "3                0.0033441208\n",
       "4                0.0003144439\n",
       "5                0.0047378395\n",
       "6                0.0033441208"
      ]
     },
     "metadata": {},
     "output_type": "display_data"
    }
   ],
   "source": [
    "head(dapply)"
   ]
  },
  {
   "cell_type": "code",
   "execution_count": 87,
   "metadata": {},
   "outputs": [
    {
     "data": {
      "text/html": [
       "162900"
      ],
      "text/latex": [
       "162900"
      ],
      "text/markdown": [
       "162900"
      ],
      "text/plain": [
       "[1] 162900"
      ]
     },
     "metadata": {},
     "output_type": "display_data"
    }
   ],
   "source": [
    "nrow(dapply)"
   ]
  },
  {
   "cell_type": "code",
   "execution_count": 88,
   "metadata": {},
   "outputs": [],
   "source": [
    "dapply[ , Predicted  := as.numeric(prob_baja2 > 1/40) ]"
   ]
  },
  {
   "cell_type": "code",
   "execution_count": 89,
   "metadata": {},
   "outputs": [],
   "source": [
    "fwrite( dapply[,list(numero_de_cliente, Predicted)],\n",
    "        file= \"normal.csv\", \n",
    "        sep= \",\" )"
   ]
  },
  {
   "cell_type": "markdown",
   "metadata": {},
   "source": [
    "creo la carpeta donde va el experimento"
   ]
  },
  {
   "cell_type": "code",
   "execution_count": 90,
   "metadata": {},
   "outputs": [],
   "source": [
    "#dir.create( \"./exp/competencia1\" ) "
   ]
  },
  {
   "cell_type": "markdown",
   "metadata": {},
   "source": [
    "Hago lo mismo con train para evaluar en entrenamiento"
   ]
  },
  {
   "cell_type": "code",
   "execution_count": 91,
   "metadata": {},
   "outputs": [],
   "source": [
    "prediccion  <- predict( modelo, dtrain , type = \"prob\") #aplico el modelo\n",
    "dtrain[ , prob_baja2 := prediccion[, \"BAJA+2\"] ]\n",
    "dtrain[ , Predicted  := as.numeric(prob_baja2 > 1/40) ]"
   ]
  },
  {
   "cell_type": "markdown",
   "metadata": {},
   "source": [
    "### Curva ROC"
   ]
  },
  {
   "cell_type": "code",
   "execution_count": 92,
   "metadata": {},
   "outputs": [],
   "source": [
    "dtrain[, clase := 0]\n",
    "dtrain[ clase_ternaria=='BAJA+2' ,   clase:= 1]"
   ]
  },
  {
   "cell_type": "code",
   "execution_count": 93,
   "metadata": {},
   "outputs": [],
   "source": [
    "#Calculo las metricas\n",
    "pred <- prediction(dtrain$Predicted, dtrain$clase)\n",
    "\n",
    "#Calculo las metricas\n",
    "perf <- performance(pred, measure = \"tpr\", x.measure = \"fpr\")\n",
    "\n",
    "#Grafico la ROC\n",
    "#plot(perf, col=rainbow(10))\n",
    "\n",
    "#Determino AUC\n",
    "#performance( pred,\"auc\")@y.values"
   ]
  },
  {
   "cell_type": "markdown",
   "metadata": {},
   "source": [
    "### Ganancia"
   ]
  },
  {
   "cell_type": "code",
   "execution_count": 94,
   "metadata": {},
   "outputs": [
    {
     "data": {
      "text/html": [
       "-254684000"
      ],
      "text/latex": [
       "-254684000"
      ],
      "text/markdown": [
       "-254684000"
      ],
      "text/plain": [
       "[1] -254684000"
      ]
     },
     "metadata": {},
     "output_type": "display_data"
    },
    {
     "name": "stdout",
     "output_type": "stream",
     "text": [
      "[1] \"La Ganancia es: 22880000\"\n",
      "[1] \"TP: 463\"\n",
      "[1] \"Incentivados: 7080\"\n"
     ]
    }
   ],
   "source": [
    "#Ganancia por TP\n",
    "kTPGain               <-  78000\n",
    "\n",
    "#Pérdida por FP\n",
    "kFPGain               <-  -2000\n",
    "\n",
    "#Calculo la ganancia\n",
    "dtrain[  , ganancia:= kFPGain ] #-1250\n",
    "dtrain[ clase_ternaria=='BAJA+2' ,   ganancia:= kTPGain] #48750\n",
    "sum( dtrain$ganancia )\n",
    "\n",
    "gan <- sum( dtrain[ dtrain$Predicted==1, ganancia] )\n",
    "\n",
    "#TP\n",
    "truepositive <- sum(dtrain$Predicted*dtrain[,clase])\n",
    "\n",
    "#Incentivados Totales\n",
    "incentivados <- sum(dtrain$Predicted)\n",
    "\n",
    "print(paste(\"La Ganancia es:\", gan))\n",
    "print(paste(\"TP:\", truepositive))\n",
    "print(paste(\"Incentivados:\",incentivados))"
   ]
  },
  {
   "cell_type": "markdown",
   "metadata": {},
   "source": [
    "grabo el dataset"
   ]
  },
  {
   "cell_type": "code",
   "execution_count": 95,
   "metadata": {},
   "outputs": [],
   "source": [
    "nombre_archivo_salida <- \"./exp/competencia1/cv8_E1001_rpart_kaggle_00004_pred.csv\""
   ]
  },
  {
   "cell_type": "code",
   "execution_count": 96,
   "metadata": {},
   "outputs": [],
   "source": [
    "fwrite( dapply[ , list(numero_de_cliente, Predicted) ], #solo los campos para Kaggle\n",
    "        file= nombre_archivo_salida, \n",
    "        sep= \",\" )"
   ]
  },
  {
   "cell_type": "code",
   "execution_count": 97,
   "metadata": {},
   "outputs": [],
   "source": [
    "options(scipen=999)"
   ]
  },
  {
   "cell_type": "code",
   "execution_count": 98,
   "metadata": {},
   "outputs": [
    {
     "data": {
      "text/plain": [
       "n= 161342 \n",
       "\n",
       "node), split, n, loss, yval, (yprob)\n",
       "      * denotes terminal node\n",
       "\n",
       "  1) root 161342 1514 CONTINUA (0.0041154814 0.0052683120 0.9906162066)  \n",
       "    2) ctrx_quarter< 13.5 8400  711 CONTINUA (0.0347619048 0.0498809524 0.9153571429)  \n",
       "      4) mcuentas_saldo< -1256.1 2928  416 CONTINUA (0.0618169399 0.0802595628 0.8579234973)  \n",
       "        8) cprestamos_personales< 1.5 2328  396 CONTINUA (0.0743127148 0.0957903780 0.8298969072)  \n",
       "         16) ctrx_quarter< 5.5 1362  278 CONTINUA (0.0837004405 0.1204111601 0.7958883994)  \n",
       "           32) mactivos_margen< 121.6 600  152 CONTINUA (0.1233333333 0.1300000000 0.7466666667) *\n",
       "           33) mactivos_margen>=121.6 762  126 CONTINUA (0.0524934383 0.1128608924 0.8346456693) *\n",
       "         17) ctrx_quarter>=5.5 966  118 CONTINUA (0.0610766046 0.0610766046 0.8778467909) *\n",
       "        9) cprestamos_personales>=1.5 600   20 CONTINUA (0.0133333333 0.0200000000 0.9666666667) *\n",
       "      5) mcuentas_saldo>=-1256.1 5472  295 CONTINUA (0.0202850877 0.0336257310 0.9460891813)  \n",
       "       10) mcaja_ahorro< 2601.125 3371  236 CONTINUA (0.0252150697 0.0447938297 0.9299911006)  \n",
       "         20) mactivos_margen>=-66.025 2599  212 CONTINUA (0.0280877260 0.0534821085 0.9184301654)  \n",
       "           40) Master_fechaalta>=367.5 1868  185 CONTINUA (0.0321199143 0.0669164882 0.9009635974)  \n",
       "             80) mcuentas_saldo< 465.85 1204  140 CONTINUA (0.0365448505 0.0797342193 0.8837209302) *\n",
       "             81) mcuentas_saldo>=465.85 664   45 CONTINUA (0.0240963855 0.0436746988 0.9322289157) *\n",
       "           41) Master_fechaalta< 367.5 731   27 CONTINUA (0.0177838577 0.0191518468 0.9630642955) *\n",
       "         21) mactivos_margen< -66.025 772   24 CONTINUA (0.0155440415 0.0155440415 0.9689119171) *\n",
       "       11) mcaja_ahorro>=2601.125 2101   59 CONTINUA (0.0123750595 0.0157068063 0.9719181342)  \n",
       "         22) Master_fechaalta>=582.5 1409   56 CONTINUA (0.0170333570 0.0227111427 0.9602555004)  \n",
       "           44) numero_de_cliente>=9.992623e+07 644   35 CONTINUA (0.0248447205 0.0295031056 0.9456521739) *\n",
       "           45) numero_de_cliente< 9.992623e+07 765   21 CONTINUA (0.0104575163 0.0169934641 0.9725490196) *\n",
       "         23) Master_fechaalta< 582.5 692    3 CONTINUA (0.0028901734 0.0014450867 0.9956647399) *\n",
       "    3) ctrx_quarter>=13.5 152942  803 CONTINUA (0.0024322946 0.0028180617 0.9947496437)  \n",
       "      6) ctrx_quarter< 29.5 10241  325 CONTINUA (0.0153305341 0.0164046480 0.9682648179)  \n",
       "       12) mcaja_ahorro< 2604.25 4767  252 CONTINUA (0.0247535137 0.0281099224 0.9471365639)  \n",
       "         24) Visa_msaldototal< 1624.09 2207  163 CONTINUA (0.0357951971 0.0380607159 0.9261440870)  \n",
       "           48) mprestamos_personales< 14858.41 1534  153 CONTINUA (0.0501955671 0.0495436767 0.9002607562)  \n",
       "             96) mpasivos_margen< 12.565 691   92 CONTINUA (0.0723589001 0.0607814761 0.8668596237) *\n",
       "             97) mpasivos_margen>=12.565 843   61 CONTINUA (0.0320284698 0.0403321471 0.9276393832) *\n",
       "           49) mprestamos_personales>=14858.41 673   10 CONTINUA (0.0029717682 0.0118870728 0.9851411590) *\n",
       "         25) Visa_msaldototal>=1624.09 2560   89 CONTINUA (0.0152343750 0.0195312500 0.9652343750)  \n",
       "           50) chomebanking_transacciones>=21.5 706   39 CONTINUA (0.0269121813 0.0283286119 0.9447592068) *\n",
       "           51) chomebanking_transacciones< 21.5 1854   50 CONTINUA (0.0107874865 0.0161812298 0.9730312837)  \n",
       "            102) Visa_mpagospesos>=-10911.97 1137   44 CONTINUA (0.0158311346 0.0228671944 0.9613016711) *\n",
       "            103) Visa_mpagospesos< -10911.97 717    6 CONTINUA (0.0027894003 0.0055788006 0.9916317992) *\n",
       "       13) mcaja_ahorro>=2604.25 5474   73 CONTINUA (0.0071245890 0.0062111801 0.9866642309)  \n",
       "         26) mtarjeta_visa_consumo< 3747.525 3042   65 CONTINUA (0.0118343195 0.0095332018 0.9786324786)  \n",
       "           52) cpayroll_trx< 0.5 2020   62 CONTINUA (0.0168316832 0.0138613861 0.9693069307)  \n",
       "            104) mrentabilidad_annual< 25418.68 1345   57 CONTINUA (0.0245353160 0.0178438662 0.9576208178) *\n",
       "            105) mrentabilidad_annual>=25418.68 675    5 CONTINUA (0.0014814815 0.0059259259 0.9925925926) *\n",
       "           53) cpayroll_trx>=0.5 1022    3 CONTINUA (0.0019569472 0.0009784736 0.9970645793) *\n",
       "         27) mtarjeta_visa_consumo>=3747.525 2432    8 CONTINUA (0.0012335526 0.0020559211 0.9967105263)  \n",
       "           54) mrentabilidad_annual< 3901.355 841    6 CONTINUA (0.0011890606 0.0059453032 0.9928656361) *\n",
       "           55) mrentabilidad_annual>=3901.355 1591    2 CONTINUA (0.0012570710 0.0000000000 0.9987429290)  \n",
       "            110) mrentabilidad_annual>=21632.09 600    2 CONTINUA (0.0033333333 0.0000000000 0.9966666667) *\n",
       "            111) mrentabilidad_annual< 21632.09 991    0 CONTINUA (0.0000000000 0.0000000000 1.0000000000) *\n",
       "      7) ctrx_quarter>=29.5 142701  478 CONTINUA (0.0015066468 0.0018430144 0.9966503388)  \n",
       "       14) ctrx_quarter< 48.5 13974  185 CONTINUA (0.0060827251 0.0071561471 0.9867611278)  \n",
       "         28) mcaja_ahorro< 573.32 2712   78 CONTINUA (0.0136430678 0.0151179941 0.9712389381)  \n",
       "           56) mtarjeta_visa_consumo< 4188.025 931   48 CONTINUA (0.0279269603 0.0236305048 0.9484425349) *\n",
       "           57) mtarjeta_visa_consumo>=4188.025 1781   30 CONTINUA (0.0061763054 0.0106681640 0.9831555306)  \n",
       "            114) mcuentas_saldo< -3243.045 692   18 CONTINUA (0.0086705202 0.0173410405 0.9739884393) *\n",
       "            115) mcuentas_saldo>=-3243.045 1089   12 CONTINUA (0.0045913682 0.0064279155 0.9889807163) *\n",
       "         29) mcaja_ahorro>=573.32 11262  107 CONTINUA (0.0042621204 0.0052388563 0.9904990233)  \n",
       "           58) tcallcenter>=0.5 791   24 CONTINUA (0.0202275601 0.0101137800 0.9696586599) *\n",
       "           59) tcallcenter< 0.5 10471   83 CONTINUA (0.0030560596 0.0048705950 0.9920733454)  \n",
       "            118) mpasivos_margen< 138.59 2224   34 CONTINUA (0.0049460432 0.0103417266 0.9847122302) *\n",
       "            119) mpasivos_margen>=138.59 8247   49 CONTINUA (0.0025463805 0.0033951740 0.9940584455) *\n",
       "       15) ctrx_quarter>=48.5 128727  293 CONTINUA (0.0010098891 0.0012662456 0.9977238652)  \n",
       "         30) mpayroll< 7043.48 51914  238 CONTINUA (0.0020225758 0.0025619293 0.9954154949)  \n",
       "           60) mtarjeta_visa_consumo< 2130.445 5004   88 CONTINUA (0.0083932854 0.0091926459 0.9824140687)  \n",
       "            120) mcuentas_saldo< 10785.39 1838   59 CONTINUA (0.0152339499 0.0168661589 0.9678998912) *\n",
       "            121) mcuentas_saldo>=10785.39 3166   29 CONTINUA (0.0044219836 0.0047378395 0.9908401769) *\n",
       "           61) mtarjeta_visa_consumo>=2130.445 46910  150 CONTINUA (0.0013429972 0.0018546152 0.9968023876)  \n",
       "            122) mpasivos_margen< 698.5 18540  102 CONTINUA (0.0021574973 0.0033441208 0.9944983819) *\n",
       "            123) mpasivos_margen>=698.5 28370   48 CONTINUA (0.0008107155 0.0008812125 0.9983080719) *\n",
       "         31) mpayroll>=7043.48 76813   55 CONTINUA (0.0003254657 0.0003905589 0.9992839754)  \n",
       "           62) ccaja_ahorro>=3.5 2981   13 CONTINUA (0.0020127474 0.0023482053 0.9956390473)  \n",
       "            124) mtarjeta_visa_consumo< 5103.235 612   12 CONTINUA (0.0081699346 0.0114379085 0.9803921569) *\n",
       "            125) mtarjeta_visa_consumo>=5103.235 2369    1 CONTINUA (0.0004221190 0.0000000000 0.9995778810) *\n",
       "           63) ccaja_ahorro< 3.5 73832   42 CONTINUA (0.0002573410 0.0003115180 0.9994311410)  \n",
       "            126) mpayroll>=677585.3 687    4 CONTINUA (0.0058224163 0.0000000000 0.9941775837) *\n",
       "            127) mpayroll< 677585.3 73145   38 CONTINUA (0.0002050721 0.0003144439 0.9994804840) *"
      ]
     },
     "metadata": {},
     "output_type": "display_data"
    }
   ],
   "source": [
    "modelo"
   ]
  },
  {
   "cell_type": "code",
   "execution_count": 99,
   "metadata": {},
   "outputs": [
    {
     "name": "stderr",
     "output_type": "stream",
     "text": [
      "Warning message:\n",
      "\"labs do not fit even at cex 0.15, there may be some overplotting\"\n"
     ]
    },
    {
     "data": {
      "image/png": "[encoded data removed]",
      "text/plain": [
       "plot without title"
      ]
     },
     "metadata": {
      "image/png": {
       "height": 900,
       "width": 900
      }
     },
     "output_type": "display_data"
    }
   ],
   "source": [
    "#Arbol generado\n",
    "options(repr.plot.width=15, repr.plot.height=15)\n",
    "prp(modelo, extra=101, digits=5, branch=1, type=4, varlen=0, faclen=0, tweak=1.3)"
   ]
  },
  {
   "cell_type": "code",
   "execution_count": 100,
   "metadata": {},
   "outputs": [
    {
     "data": {
      "image/png": "[encoded data removed]",
      "text/plain": [
       "plot without title"
      ]
     },
     "metadata": {
      "image/png": {
       "height": 900,
       "width": 900
      }
     },
     "output_type": "display_data"
    }
   ],
   "source": [
    "par(las=2,mar=c(5,15,4,2))\n",
    "barplot(sort(modelo$variable.importance,decreasing=TRUE)[1:15],horiz=TRUE)"
   ]
  }
 ],
 "metadata": {
  "kernelspec": {
   "display_name": "R",
   "language": "R",
   "name": "ir"
  },
  "language_info": {
   "codemirror_mode": "r",
   "file_extension": ".r",
   "mimetype": "text/x-r-source",
   "name": "R",
   "pygments_lexer": "r",
   "version": "4.2.1"
  }
 },
 "nbformat": 4,
 "nbformat_minor": 4
}
