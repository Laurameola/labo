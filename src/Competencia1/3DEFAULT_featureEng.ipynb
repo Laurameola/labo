{
 "cells": [
  {
   "cell_type": "code",
   "execution_count": 1,
   "id": "ef3a7418-9cf9-41d3-80f5-6cf6679c1875",
   "metadata": {},
   "outputs": [
    {
     "data": {
      "text/html": [
       "<table class=\"dataframe\">\n",
       "<caption>A matrix: 2 × 6 of type dbl</caption>\n",
       "<thead>\n",
       "\t<tr><th></th><th scope=col>used</th><th scope=col>(Mb)</th><th scope=col>gc trigger</th><th scope=col>(Mb)</th><th scope=col>max used</th><th scope=col>(Mb)</th></tr>\n",
       "</thead>\n",
       "<tbody>\n",
       "\t<tr><th scope=row>Ncells</th><td> 604520</td><td>32.3</td><td>1292120</td><td>69.1</td><td>1292120</td><td>69.1</td></tr>\n",
       "\t<tr><th scope=row>Vcells</th><td>1086848</td><td> 8.3</td><td>8388608</td><td>64.0</td><td>1632674</td><td>12.5</td></tr>\n",
       "</tbody>\n",
       "</table>\n"
      ],
      "text/latex": [
       "A matrix: 2 × 6 of type dbl\n",
       "\\begin{tabular}{r|llllll}\n",
       "  & used & (Mb) & gc trigger & (Mb) & max used & (Mb)\\\\\n",
       "\\hline\n",
       "\tNcells &  604520 & 32.3 & 1292120 & 69.1 & 1292120 & 69.1\\\\\n",
       "\tVcells & 1086848 &  8.3 & 8388608 & 64.0 & 1632674 & 12.5\\\\\n",
       "\\end{tabular}\n"
      ],
      "text/markdown": [
       "\n",
       "A matrix: 2 × 6 of type dbl\n",
       "\n",
       "| <!--/--> | used | (Mb) | gc trigger | (Mb) | max used | (Mb) |\n",
       "|---|---|---|---|---|---|---|\n",
       "| Ncells |  604520 | 32.3 | 1292120 | 69.1 | 1292120 | 69.1 |\n",
       "| Vcells | 1086848 |  8.3 | 8388608 | 64.0 | 1632674 | 12.5 |\n",
       "\n"
      ],
      "text/plain": [
       "       used    (Mb) gc trigger (Mb) max used (Mb)\n",
       "Ncells  604520 32.3 1292120    69.1 1292120  69.1\n",
       "Vcells 1086848  8.3 8388608    64.0 1632674  12.5"
      ]
     },
     "metadata": {},
     "output_type": "display_data"
    }
   ],
   "source": [
    "#limpio la memoria\n",
    "rm( list=ls() )  #remove all objects\n",
    "gc()             #garbage collection"
   ]
  },
  {
   "cell_type": "code",
   "execution_count": 2,
   "id": "fee0fcbd-50e2-4893-8bc1-a2648e60d232",
   "metadata": {},
   "outputs": [],
   "source": [
    "semilla <- 100019\n",
    "set.seed(semilla)"
   ]
  },
  {
   "cell_type": "code",
   "execution_count": 3,
   "id": "de356078-5789-4244-93a9-f169fa0a8f86",
   "metadata": {},
   "outputs": [
    {
     "name": "stderr",
     "output_type": "stream",
     "text": [
      "Loading required package: data.table\n",
      "\n"
     ]
    }
   ],
   "source": [
    "#Feature Engineering\n",
    "#creo nuevas variables dentro del mismo mes\n",
    "#Condimentar a gusto con nuevas variables\n",
    "\n",
    "require(\"data.table\")\n",
    "\n",
    "#Establezco el Working Directory\n",
    "setwd(\"C:/_MCD/Labo1/code\")  #Establezco el Working Directory\n",
    "\n",
    "kcarpeta_datasets    <- \"./datasets/\"   #KAGGLE\n",
    "#kcarpeta_datasets    <- \"./buckets/b1/datasets/\"                          #VM o Ubuntu\n",
    "\n",
    "#Archivo con datos etiquetados para entrenamiento\n",
    "karchivo_entrada      <-  paste0(kcarpeta_datasets, \"competencia1_2022.csv\")\n",
    "karchivo_salida      <-  paste0(kcarpeta_datasets, \"competencia1_2022_FE_default.csv\")\n",
    "\n",
    "\n",
    "\n",
    "#lectura rapida del dataset  usando fread  de la libreria  data.table\n",
    "dataset_orig  <- fread(karchivo_entrada)\n",
    "\n"
   ]
  },
  {
   "cell_type": "code",
   "execution_count": 4,
   "id": "1069511e-1627-45a0-b841-d5c742f4dbe4",
   "metadata": {
    "vscode": {
     "languageId": "r"
    }
   },
   "outputs": [],
   "source": [
    "EnriquecerDataset <- function( dataset )\n",
    "{\n",
    "  columnas_originales <-  copy(colnames( dataset ))\n",
    "\n",
    "  #INICIO de la seccion donde se deben hacer cambios con variables nuevas\n",
    "  #se crean los nuevos campos para MasterCard  y Visa, teniendo en cuenta los NA's\n",
    "  #varias formas de combinar Visa_status y Master_status\n",
    "  dataset[ , mv_status01       := pmax( Master_status,  Visa_status, na.rm = TRUE) ]\n",
    "  dataset[ , mv_status02       := Master_status +  Visa_status ]\n",
    "  dataset[ , mv_status03       := pmax( ifelse( is.na(Master_status), 10, Master_status) , ifelse( is.na(Visa_status), 10, Visa_status) ) ]\n",
    "  dataset[ , mv_status04       := ifelse( is.na(Master_status), 10, Master_status)  +  ifelse( is.na(Visa_status), 10, Visa_status)  ]\n",
    "  dataset[ , mv_status05       := ifelse( is.na(Master_status), 10, Master_status)  +  100*ifelse( is.na(Visa_status), 10, Visa_status)  ]\n",
    "\n",
    "  dataset[ , mv_status06       := ifelse( is.na(Visa_status), \n",
    "                                          ifelse( is.na(Master_status), 10, Master_status), \n",
    "                                          Visa_status)  ]\n",
    "\n",
    "  dataset[ , mv_status07       := ifelse( is.na(Master_status), \n",
    "                                          ifelse( is.na(Visa_status), 10, Visa_status), \n",
    "                                          Master_status)  ]\n",
    "\n",
    "\n",
    "    \n",
    "  #combino MasterCard y Visa\n",
    "  dataset[ , mv_Fvencimiento         := pmin( Master_Fvencimiento, Visa_Fvencimiento, na.rm = TRUE) ]\n",
    "  dataset[ , mv_Finiciomora          := pmin( Master_Finiciomora, Visa_Finiciomora, na.rm = TRUE) ]\n",
    "    \n",
    "    columnas_extendidas <-  copy( setdiff(  colnames(dataset), columnas_originales ) )\n",
    "\n",
    "    return (dataset)\n",
    "}\n",
    "#------------------------------------------------------------------------------\n",
    "dataset_enriq <- EnriquecerDataset( dataset_orig )\n"
   ]
  },
  {
   "cell_type": "code",
   "execution_count": 5,
   "id": "4ce027ec-4f29-4ad4-ab65-c0c23ab9001b",
   "metadata": {},
   "outputs": [
    {
     "data": {
      "text/html": [
       "<table class=\"dataframe\">\n",
       "<caption>A data.table: 10 × 1</caption>\n",
       "<thead>\n",
       "\t<tr><th scope=col>mttarjeta_visa_debitos_automaticos</th></tr>\n",
       "\t<tr><th scope=col>&lt;dbl&gt;</th></tr>\n",
       "</thead>\n",
       "<tbody>\n",
       "\t<tr><td> 2613.97</td></tr>\n",
       "\t<tr><td> 2985.28</td></tr>\n",
       "\t<tr><td>10085.93</td></tr>\n",
       "\t<tr><td> 4852.26</td></tr>\n",
       "\t<tr><td>36830.10</td></tr>\n",
       "\t<tr><td> 6014.69</td></tr>\n",
       "\t<tr><td>10374.01</td></tr>\n",
       "\t<tr><td>    0.00</td></tr>\n",
       "\t<tr><td>    0.00</td></tr>\n",
       "\t<tr><td>46233.12</td></tr>\n",
       "</tbody>\n",
       "</table>\n"
      ],
      "text/latex": [
       "A data.table: 10 × 1\n",
       "\\begin{tabular}{l}\n",
       " mttarjeta\\_visa\\_debitos\\_automaticos\\\\\n",
       " <dbl>\\\\\n",
       "\\hline\n",
       "\t  2613.97\\\\\n",
       "\t  2985.28\\\\\n",
       "\t 10085.93\\\\\n",
       "\t  4852.26\\\\\n",
       "\t 36830.10\\\\\n",
       "\t  6014.69\\\\\n",
       "\t 10374.01\\\\\n",
       "\t     0.00\\\\\n",
       "\t     0.00\\\\\n",
       "\t 46233.12\\\\\n",
       "\\end{tabular}\n"
      ],
      "text/markdown": [
       "\n",
       "A data.table: 10 × 1\n",
       "\n",
       "| mttarjeta_visa_debitos_automaticos &lt;dbl&gt; |\n",
       "|---|\n",
       "|  2613.97 |\n",
       "|  2985.28 |\n",
       "| 10085.93 |\n",
       "|  4852.26 |\n",
       "| 36830.10 |\n",
       "|  6014.69 |\n",
       "| 10374.01 |\n",
       "|     0.00 |\n",
       "|     0.00 |\n",
       "| 46233.12 |\n",
       "\n"
      ],
      "text/plain": [
       "   mttarjeta_visa_debitos_automaticos\n",
       "1   2613.97                          \n",
       "2   2985.28                          \n",
       "3  10085.93                          \n",
       "4   4852.26                          \n",
       "5  36830.10                          \n",
       "6   6014.69                          \n",
       "7  10374.01                          \n",
       "8      0.00                          \n",
       "9      0.00                          \n",
       "10 46233.12                          "
      ]
     },
     "metadata": {},
     "output_type": "display_data"
    }
   ],
   "source": [
    "as.data.table(sapply(dataset_enriq[, list(mttarjeta_visa_debitos_automaticos)], sample, 10))"
   ]
  },
  {
   "cell_type": "code",
   "execution_count": 6,
   "id": "6d5f1e41-9483-48ef-8bd9-bc304b722acf",
   "metadata": {},
   "outputs": [
    {
     "data": {
      "text/html": [
       "<table class=\"dataframe\">\n",
       "<caption>A data.table: 6 × 164</caption>\n",
       "<thead>\n",
       "\t<tr><th scope=col>numero_de_cliente</th><th scope=col>foto_mes</th><th scope=col>active_quarter</th><th scope=col>cliente_vip</th><th scope=col>internet</th><th scope=col>cliente_edad</th><th scope=col>cliente_antiguedad</th><th scope=col>mrentabilidad</th><th scope=col>mrentabilidad_annual</th><th scope=col>mcomisiones</th><th scope=col>⋯</th><th scope=col>clase_ternaria</th><th scope=col>mv_status01</th><th scope=col>mv_status02</th><th scope=col>mv_status03</th><th scope=col>mv_status04</th><th scope=col>mv_status05</th><th scope=col>mv_status06</th><th scope=col>mv_status07</th><th scope=col>mv_Fvencimiento</th><th scope=col>mv_Finiciomora</th></tr>\n",
       "\t<tr><th scope=col>&lt;int&gt;</th><th scope=col>&lt;int&gt;</th><th scope=col>&lt;int&gt;</th><th scope=col>&lt;int&gt;</th><th scope=col>&lt;int&gt;</th><th scope=col>&lt;int&gt;</th><th scope=col>&lt;int&gt;</th><th scope=col>&lt;dbl&gt;</th><th scope=col>&lt;dbl&gt;</th><th scope=col>&lt;dbl&gt;</th><th scope=col>⋯</th><th scope=col>&lt;chr&gt;</th><th scope=col>&lt;int&gt;</th><th scope=col>&lt;int&gt;</th><th scope=col>&lt;dbl&gt;</th><th scope=col>&lt;dbl&gt;</th><th scope=col>&lt;dbl&gt;</th><th scope=col>&lt;dbl&gt;</th><th scope=col>&lt;dbl&gt;</th><th scope=col>&lt;int&gt;</th><th scope=col>&lt;int&gt;</th></tr>\n",
       "</thead>\n",
       "<tbody>\n",
       "\t<tr><td>31115668</td><td>202101</td><td>1</td><td>0</td><td>0</td><td>56</td><td>132</td><td> 1897.12</td><td> 24324.75</td><td> 940.32</td><td>⋯</td><td>CONTINUA</td><td> 0</td><td> 0</td><td> 0</td><td> 0</td><td>   0</td><td> 0</td><td> 0</td><td>-2218</td><td>NA</td></tr>\n",
       "\t<tr><td>31115678</td><td>202101</td><td>1</td><td>0</td><td>0</td><td>48</td><td>100</td><td> -384.72</td><td> 33860.45</td><td>-515.53</td><td>⋯</td><td>CONTINUA</td><td>NA</td><td>NA</td><td>10</td><td>20</td><td>1010</td><td>10</td><td>10</td><td>   NA</td><td>NA</td></tr>\n",
       "\t<tr><td>31117415</td><td>202101</td><td>1</td><td>0</td><td>0</td><td>60</td><td> 53</td><td>-3622.66</td><td>-21310.32</td><td>2442.04</td><td>⋯</td><td>CONTINUA</td><td> 0</td><td> 0</td><td> 0</td><td> 0</td><td>   0</td><td> 0</td><td> 0</td><td>-1733</td><td>NA</td></tr>\n",
       "\t<tr><td>31117711</td><td>202101</td><td>1</td><td>0</td><td>0</td><td>46</td><td>273</td><td>14542.05</td><td>125727.99</td><td>1037.77</td><td>⋯</td><td>CONTINUA</td><td> 0</td><td> 0</td><td> 0</td><td> 0</td><td>   0</td><td> 0</td><td> 0</td><td>-1307</td><td>NA</td></tr>\n",
       "\t<tr><td>31118145</td><td>202101</td><td>1</td><td>0</td><td>0</td><td>47</td><td>192</td><td> 1868.27</td><td> 37305.29</td><td>1496.68</td><td>⋯</td><td>CONTINUA</td><td> 0</td><td> 0</td><td> 0</td><td> 0</td><td>   0</td><td> 0</td><td> 0</td><td>-1853</td><td>NA</td></tr>\n",
       "\t<tr><td>31118204</td><td>202101</td><td>1</td><td>0</td><td>0</td><td>68</td><td>258</td><td> 2301.86</td><td> 60781.98</td><td>3240.88</td><td>⋯</td><td>CONTINUA</td><td> 0</td><td>NA</td><td>10</td><td>10</td><td>  10</td><td> 0</td><td> 0</td><td> -180</td><td>NA</td></tr>\n",
       "</tbody>\n",
       "</table>\n"
      ],
      "text/latex": [
       "A data.table: 6 × 164\n",
       "\\begin{tabular}{lllllllllllllllllllll}\n",
       " numero\\_de\\_cliente & foto\\_mes & active\\_quarter & cliente\\_vip & internet & cliente\\_edad & cliente\\_antiguedad & mrentabilidad & mrentabilidad\\_annual & mcomisiones & ⋯ & clase\\_ternaria & mv\\_status01 & mv\\_status02 & mv\\_status03 & mv\\_status04 & mv\\_status05 & mv\\_status06 & mv\\_status07 & mv\\_Fvencimiento & mv\\_Finiciomora\\\\\n",
       " <int> & <int> & <int> & <int> & <int> & <int> & <int> & <dbl> & <dbl> & <dbl> & ⋯ & <chr> & <int> & <int> & <dbl> & <dbl> & <dbl> & <dbl> & <dbl> & <int> & <int>\\\\\n",
       "\\hline\n",
       "\t 31115668 & 202101 & 1 & 0 & 0 & 56 & 132 &  1897.12 &  24324.75 &  940.32 & ⋯ & CONTINUA &  0 &  0 &  0 &  0 &    0 &  0 &  0 & -2218 & NA\\\\\n",
       "\t 31115678 & 202101 & 1 & 0 & 0 & 48 & 100 &  -384.72 &  33860.45 & -515.53 & ⋯ & CONTINUA & NA & NA & 10 & 20 & 1010 & 10 & 10 &    NA & NA\\\\\n",
       "\t 31117415 & 202101 & 1 & 0 & 0 & 60 &  53 & -3622.66 & -21310.32 & 2442.04 & ⋯ & CONTINUA &  0 &  0 &  0 &  0 &    0 &  0 &  0 & -1733 & NA\\\\\n",
       "\t 31117711 & 202101 & 1 & 0 & 0 & 46 & 273 & 14542.05 & 125727.99 & 1037.77 & ⋯ & CONTINUA &  0 &  0 &  0 &  0 &    0 &  0 &  0 & -1307 & NA\\\\\n",
       "\t 31118145 & 202101 & 1 & 0 & 0 & 47 & 192 &  1868.27 &  37305.29 & 1496.68 & ⋯ & CONTINUA &  0 &  0 &  0 &  0 &    0 &  0 &  0 & -1853 & NA\\\\\n",
       "\t 31118204 & 202101 & 1 & 0 & 0 & 68 & 258 &  2301.86 &  60781.98 & 3240.88 & ⋯ & CONTINUA &  0 & NA & 10 & 10 &   10 &  0 &  0 &  -180 & NA\\\\\n",
       "\\end{tabular}\n"
      ],
      "text/markdown": [
       "\n",
       "A data.table: 6 × 164\n",
       "\n",
       "| numero_de_cliente &lt;int&gt; | foto_mes &lt;int&gt; | active_quarter &lt;int&gt; | cliente_vip &lt;int&gt; | internet &lt;int&gt; | cliente_edad &lt;int&gt; | cliente_antiguedad &lt;int&gt; | mrentabilidad &lt;dbl&gt; | mrentabilidad_annual &lt;dbl&gt; | mcomisiones &lt;dbl&gt; | ⋯ ⋯ | clase_ternaria &lt;chr&gt; | mv_status01 &lt;int&gt; | mv_status02 &lt;int&gt; | mv_status03 &lt;dbl&gt; | mv_status04 &lt;dbl&gt; | mv_status05 &lt;dbl&gt; | mv_status06 &lt;dbl&gt; | mv_status07 &lt;dbl&gt; | mv_Fvencimiento &lt;int&gt; | mv_Finiciomora &lt;int&gt; |\n",
       "|---|---|---|---|---|---|---|---|---|---|---|---|---|---|---|---|---|---|---|---|---|\n",
       "| 31115668 | 202101 | 1 | 0 | 0 | 56 | 132 |  1897.12 |  24324.75 |  940.32 | ⋯ | CONTINUA |  0 |  0 |  0 |  0 |    0 |  0 |  0 | -2218 | NA |\n",
       "| 31115678 | 202101 | 1 | 0 | 0 | 48 | 100 |  -384.72 |  33860.45 | -515.53 | ⋯ | CONTINUA | NA | NA | 10 | 20 | 1010 | 10 | 10 |    NA | NA |\n",
       "| 31117415 | 202101 | 1 | 0 | 0 | 60 |  53 | -3622.66 | -21310.32 | 2442.04 | ⋯ | CONTINUA |  0 |  0 |  0 |  0 |    0 |  0 |  0 | -1733 | NA |\n",
       "| 31117711 | 202101 | 1 | 0 | 0 | 46 | 273 | 14542.05 | 125727.99 | 1037.77 | ⋯ | CONTINUA |  0 |  0 |  0 |  0 |    0 |  0 |  0 | -1307 | NA |\n",
       "| 31118145 | 202101 | 1 | 0 | 0 | 47 | 192 |  1868.27 |  37305.29 | 1496.68 | ⋯ | CONTINUA |  0 |  0 |  0 |  0 |    0 |  0 |  0 | -1853 | NA |\n",
       "| 31118204 | 202101 | 1 | 0 | 0 | 68 | 258 |  2301.86 |  60781.98 | 3240.88 | ⋯ | CONTINUA |  0 | NA | 10 | 10 |   10 |  0 |  0 |  -180 | NA |\n",
       "\n"
      ],
      "text/plain": [
       "  numero_de_cliente foto_mes active_quarter cliente_vip internet cliente_edad\n",
       "1 31115668          202101   1              0           0        56          \n",
       "2 31115678          202101   1              0           0        48          \n",
       "3 31117415          202101   1              0           0        60          \n",
       "4 31117711          202101   1              0           0        46          \n",
       "5 31118145          202101   1              0           0        47          \n",
       "6 31118204          202101   1              0           0        68          \n",
       "  cliente_antiguedad mrentabilidad mrentabilidad_annual mcomisiones ⋯\n",
       "1 132                 1897.12       24324.75             940.32     ⋯\n",
       "2 100                 -384.72       33860.45            -515.53     ⋯\n",
       "3  53                -3622.66      -21310.32            2442.04     ⋯\n",
       "4 273                14542.05      125727.99            1037.77     ⋯\n",
       "5 192                 1868.27       37305.29            1496.68     ⋯\n",
       "6 258                 2301.86       60781.98            3240.88     ⋯\n",
       "  clase_ternaria mv_status01 mv_status02 mv_status03 mv_status04 mv_status05\n",
       "1 CONTINUA        0           0           0           0             0       \n",
       "2 CONTINUA       NA          NA          10          20          1010       \n",
       "3 CONTINUA        0           0           0           0             0       \n",
       "4 CONTINUA        0           0           0           0             0       \n",
       "5 CONTINUA        0           0           0           0             0       \n",
       "6 CONTINUA        0          NA          10          10            10       \n",
       "  mv_status06 mv_status07 mv_Fvencimiento mv_Finiciomora\n",
       "1  0           0          -2218           NA            \n",
       "2 10          10             NA           NA            \n",
       "3  0           0          -1733           NA            \n",
       "4  0           0          -1307           NA            \n",
       "5  0           0          -1853           NA            \n",
       "6  0           0           -180           NA            "
      ]
     },
     "metadata": {},
     "output_type": "display_data"
    }
   ],
   "source": [
    "head(dataset_orig)"
   ]
  },
  {
   "cell_type": "code",
   "execution_count": 7,
   "id": "04fc451a-cbef-419a-84ad-2143533545be",
   "metadata": {},
   "outputs": [],
   "source": [
    "  #grabo con nombre extendido\n",
    "  fwrite( dataset_enriq,\n",
    "          file=karchivo_salida,\n",
    "          sep= \",\" )"
   ]
  }
 ],
 "metadata": {
  "kernelspec": {
   "display_name": "R",
   "language": "R",
   "name": "ir"
  },
  "language_info": {
   "codemirror_mode": "r",
   "file_extension": ".r",
   "mimetype": "text/x-r-source",
   "name": "R",
   "pygments_lexer": "r",
   "version": "4.2.1"
  }
 },
 "nbformat": 4,
 "nbformat_minor": 5
}
