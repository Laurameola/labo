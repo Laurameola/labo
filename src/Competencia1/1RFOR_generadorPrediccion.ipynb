{
 "cells": [
  {
   "cell_type": "markdown",
   "metadata": {},
   "source": [
    "## Generador de Prediccion Estandar"
   ]
  },
  {
   "cell_type": "code",
   "execution_count": 1,
   "metadata": {},
   "outputs": [
    {
     "data": {
      "text/html": [
       "<table class=\"dataframe\">\n",
       "<caption>A matrix: 2 × 6 of type dbl</caption>\n",
       "<thead>\n",
       "\t<tr><th></th><th scope=col>used</th><th scope=col>(Mb)</th><th scope=col>gc trigger</th><th scope=col>(Mb)</th><th scope=col>max used</th><th scope=col>(Mb)</th></tr>\n",
       "</thead>\n",
       "<tbody>\n",
       "\t<tr><th scope=row>Ncells</th><td> 604524</td><td>32.3</td><td>1292120</td><td>69.1</td><td>1292120</td><td>69.1</td></tr>\n",
       "\t<tr><th scope=row>Vcells</th><td>1086805</td><td> 8.3</td><td>8388608</td><td>64.0</td><td>1632674</td><td>12.5</td></tr>\n",
       "</tbody>\n",
       "</table>\n"
      ],
      "text/latex": [
       "A matrix: 2 × 6 of type dbl\n",
       "\\begin{tabular}{r|llllll}\n",
       "  & used & (Mb) & gc trigger & (Mb) & max used & (Mb)\\\\\n",
       "\\hline\n",
       "\tNcells &  604524 & 32.3 & 1292120 & 69.1 & 1292120 & 69.1\\\\\n",
       "\tVcells & 1086805 &  8.3 & 8388608 & 64.0 & 1632674 & 12.5\\\\\n",
       "\\end{tabular}\n"
      ],
      "text/markdown": [
       "\n",
       "A matrix: 2 × 6 of type dbl\n",
       "\n",
       "| <!--/--> | used | (Mb) | gc trigger | (Mb) | max used | (Mb) |\n",
       "|---|---|---|---|---|---|---|\n",
       "| Ncells |  604524 | 32.3 | 1292120 | 69.1 | 1292120 | 69.1 |\n",
       "| Vcells | 1086805 |  8.3 | 8388608 | 64.0 | 1632674 | 12.5 |\n",
       "\n"
      ],
      "text/plain": [
       "       used    (Mb) gc trigger (Mb) max used (Mb)\n",
       "Ncells  604524 32.3 1292120    69.1 1292120  69.1\n",
       "Vcells 1086805  8.3 8388608    64.0 1632674  12.5"
      ]
     },
     "metadata": {},
     "output_type": "display_data"
    }
   ],
   "source": [
    "#Se limpia la memoria\n",
    "rm(list=ls())\n",
    "gc()"
   ]
  },
  {
   "cell_type": "code",
   "execution_count": 2,
   "metadata": {},
   "outputs": [],
   "source": [
    "semilla <- 100019\n",
    "set.seed(semilla)"
   ]
  },
  {
   "cell_type": "code",
   "execution_count": 3,
   "metadata": {},
   "outputs": [
    {
     "name": "stderr",
     "output_type": "stream",
     "text": [
      "Loading required package: data.table\n",
      "\n",
      "Loading required package: rpart\n",
      "\n",
      "Loading required package: rpart.plot\n",
      "\n",
      "Loading required package: ggplot2\n",
      "\n",
      "Loading required package: lattice\n",
      "\n"
     ]
    }
   ],
   "source": [
    "#cargo las librerias que necesito\n",
    "require(\"data.table\")\n",
    "require(\"rpart\")\n",
    "require(\"rpart.plot\")\n",
    "#Contiene funciones para evaluar performance de la clasificación\n",
    "library(\"ROCR\")\n",
    "\n",
    "library(\"caret\")\n",
    "library(\"ranger\")"
   ]
  },
  {
   "cell_type": "code",
   "execution_count": 4,
   "metadata": {},
   "outputs": [],
   "source": [
    "setwd(\"C:/_MCD/Labo1/code\")  #Establezco el Working Directory"
   ]
  },
  {
   "cell_type": "code",
   "execution_count": 5,
   "metadata": {},
   "outputs": [],
   "source": [
    "dataset  <- fread(\"./datasets/competencia1_2022_FE_DC2.csv\")\n",
    "\n",
    "#Completo missings\n",
    "dataset[is.na(dataset)] <- 0\n",
    "dataset[,'clase' := as.integer(dataset[,'clase_ternaria'] == 'BAJA+2')]\n",
    "dataset[ ,  'clase_ternaria' := NULL    ] "
   ]
  },
  {
   "cell_type": "code",
   "execution_count": 6,
   "metadata": {},
   "outputs": [],
   "source": [
    "dtrain  <- dataset[ foto_mes==202101 ]  #defino donde voy a entrenar\n",
    "dapply  <- dataset[ foto_mes==202103 ]  #defino donde voy a aplicar el modelo"
   ]
  },
  {
   "cell_type": "code",
   "execution_count": 7,
   "metadata": {},
   "outputs": [
    {
     "name": "stdout",
     "output_type": "stream",
     "text": [
      "Growing trees.. Progress: 11%. Estimated remaining time: 4 minutes, 53 seconds.\n",
      "Growing trees.. Progress: 25%. Estimated remaining time: 3 minutes, 27 seconds.\n",
      "Growing trees.. Progress: 36%. Estimated remaining time: 3 minutes, 0 seconds.\n",
      "Growing trees.. Progress: 49%. Estimated remaining time: 2 minutes, 23 seconds.\n",
      "Growing trees.. Progress: 60%. Estimated remaining time: 1 minute, 51 seconds.\n",
      "Growing trees.. Progress: 72%. Estimated remaining time: 1 minute, 16 seconds.\n",
      "Growing trees.. Progress: 85%. Estimated remaining time: 42 seconds.\n",
      "Growing trees.. Progress: 99%. Estimated remaining time: 3 seconds.\n"
     ]
    }
   ],
   "source": [
    "formula_obj  <-  formula(paste(\"clase ~ .\"))\n",
    "\n",
    "modelo  <- ranger( data = dtrain,  \n",
    "                   formula_obj,  \n",
    "                   probability=TRUE,\n",
    "                  alpha=0.800293529136106,\n",
    "                   num.trees= 223, \n",
    "                   min.node.size= 559, \n",
    "                   mtry= 71,\n",
    "                  max.depth=13,\n",
    "                   splitrule='gini'\n",
    "                 ) "
   ]
  },
  {
   "cell_type": "markdown",
   "metadata": {},
   "source": [
    "Ahora grafico el arbol, va a ser muy frondoso porque la profundidad es de 10"
   ]
  },
  {
   "cell_type": "markdown",
   "metadata": {},
   "source": [
    "Ahora aplico al modelo  a los datos muevos  y genero la salida para kaggle"
   ]
  },
  {
   "cell_type": "code",
   "execution_count": 8,
   "metadata": {},
   "outputs": [],
   "source": [
    "#Ganancia por TP\n",
    "kTPGain               <-  78000\n",
    "\n",
    "#Pérdida por FP\n",
    "kFPGain               <-  -2000"
   ]
  },
  {
   "cell_type": "markdown",
   "metadata": {},
   "source": [
    "aplico el modelo a los datos nuevos"
   ]
  },
  {
   "cell_type": "code",
   "execution_count": 9,
   "metadata": {},
   "outputs": [
    {
     "name": "stdout",
     "output_type": "stream",
     "text": [
      "[1] \"La Ganancia es: -48384000\"\n"
     ]
    }
   ],
   "source": [
    "#Calculo ganancia sobre dataset de pruebas\n",
    "dapply$score <- predict(modelo, dapply, type = 'response')$predictions[,2]\n",
    "\n",
    "#Selecciono los que estan por encima del umbral\n",
    "dapply$Predicted <- dapply$score > 1/40\n",
    "\n",
    "#Determino ganancia\n",
    "print(paste(\"La Ganancia es:\", 3*sum(dapply$Predicted*dapply[,clase]*kTPGain + \n",
    "                                     dapply$Predicted * (0 == dapply[,clase]) * kFPGain)))"
   ]
  },
  {
   "cell_type": "markdown",
   "metadata": {},
   "source": [
    "prediccion es una matriz con TRES columnas, llamadas \"BAJA+1\", \"BAJA+2\"  y \"CONTINUA\"\n",
    "cada columna es el vector de probabilidades "
   ]
  },
  {
   "cell_type": "markdown",
   "metadata": {},
   "source": [
    "agrego a dapply una columna nueva que es la probabilidad de BAJA+2"
   ]
  },
  {
   "cell_type": "code",
   "execution_count": 10,
   "metadata": {},
   "outputs": [
    {
     "data": {
      "text/plain": [
       "Ranger result\n",
       "\n",
       "Call:\n",
       " ranger(data = dtrain, formula_obj, probability = TRUE, alpha = 0.800293529136106,      num.trees = 223, min.node.size = 559, mtry = 71, max.depth = 13,      splitrule = \"gini\") \n",
       "\n",
       "Type:                             Probability estimation \n",
       "Number of trees:                  223 \n",
       "Sample size:                      161342 \n",
       "Number of independent variables:  269 \n",
       "Mtry:                             71 \n",
       "Target node size:                 559 \n",
       "Variable importance mode:         none \n",
       "Splitrule:                        gini \n",
       "OOB prediction error (Brier s.):  0.004997648 "
      ]
     },
     "metadata": {},
     "output_type": "display_data"
    }
   ],
   "source": [
    "modelo"
   ]
  },
  {
   "cell_type": "code",
   "execution_count": 11,
   "metadata": {},
   "outputs": [],
   "source": [
    "fwrite( dapply[ , list(numero_de_cliente, Predicted) ], #solo los campos para Kaggle\n",
    "        file= \"./exp/RANGER.csv\", \n",
    "        sep= \",\" )"
   ]
  },
  {
   "cell_type": "code",
   "execution_count": 12,
   "metadata": {},
   "outputs": [
    {
     "ename": "ERROR",
     "evalue": "Error in importance.ranger(modelo): No variable importance found. Please use 'importance' option when growing the forest.\n",
     "output_type": "error",
     "traceback": [
      "Error in importance.ranger(modelo): No variable importance found. Please use 'importance' option when growing the forest.\nTraceback:\n",
      "1. barplot(sort(importance(modelo), decreasing = TRUE)[1:15], horiz = TRUE)",
      "2. sort(importance(modelo), decreasing = TRUE)",
      "3. importance(modelo)",
      "4. importance.ranger(modelo)",
      "5. stop(\"No variable importance found. Please use 'importance' option when growing the forest.\")"
     ]
    }
   ],
   "source": [
    "par(las=2,mar=c(5,15,4,2))\n",
    "barplot(sort(importance(modelo),decreasing=TRUE)[1:15],horiz=TRUE)"
   ]
  }
 ],
 "metadata": {
  "kernelspec": {
   "display_name": "R",
   "language": "R",
   "name": "ir"
  },
  "language_info": {
   "codemirror_mode": "r",
   "file_extension": ".r",
   "mimetype": "text/x-r-source",
   "name": "R",
   "pygments_lexer": "r",
   "version": "4.2.1"
  }
 },
 "nbformat": 4,
 "nbformat_minor": 4
}
