{
 "cells": [
  {
   "cell_type": "markdown",
   "metadata": {},
   "source": [
    "## Generador de Prediccion Estandar"
   ]
  },
  {
   "cell_type": "code",
   "execution_count": 55,
   "metadata": {},
   "outputs": [
    {
     "data": {
      "text/html": [
       "<table class=\"dataframe\">\n",
       "<caption>A matrix: 2 × 6 of type dbl</caption>\n",
       "<thead>\n",
       "\t<tr><th></th><th scope=col>used</th><th scope=col>(Mb)</th><th scope=col>gc trigger</th><th scope=col>(Mb)</th><th scope=col>max used</th><th scope=col>(Mb)</th></tr>\n",
       "</thead>\n",
       "<tbody>\n",
       "\t<tr><th scope=row>Ncells</th><td>  799853</td><td> 42.8</td><td>  2848218</td><td> 152.2</td><td>  3362313</td><td> 179.6</td></tr>\n",
       "\t<tr><th scope=row>Vcells</th><td>63872614</td><td>487.4</td><td>303831654</td><td>2318.1</td><td>474700675</td><td>3621.7</td></tr>\n",
       "</tbody>\n",
       "</table>\n"
      ],
      "text/latex": [
       "A matrix: 2 × 6 of type dbl\n",
       "\\begin{tabular}{r|llllll}\n",
       "  & used & (Mb) & gc trigger & (Mb) & max used & (Mb)\\\\\n",
       "\\hline\n",
       "\tNcells &   799853 &  42.8 &   2848218 &  152.2 &   3362313 &  179.6\\\\\n",
       "\tVcells & 63872614 & 487.4 & 303831654 & 2318.1 & 474700675 & 3621.7\\\\\n",
       "\\end{tabular}\n"
      ],
      "text/markdown": [
       "\n",
       "A matrix: 2 × 6 of type dbl\n",
       "\n",
       "| <!--/--> | used | (Mb) | gc trigger | (Mb) | max used | (Mb) |\n",
       "|---|---|---|---|---|---|---|\n",
       "| Ncells |   799853 |  42.8 |   2848218 |  152.2 |   3362313 |  179.6 |\n",
       "| Vcells | 63872614 | 487.4 | 303831654 | 2318.1 | 474700675 | 3621.7 |\n",
       "\n"
      ],
      "text/plain": [
       "       used     (Mb)  gc trigger (Mb)   max used  (Mb)  \n",
       "Ncells   799853  42.8   2848218   152.2   3362313  179.6\n",
       "Vcells 63872614 487.4 303831654  2318.1 474700675 3621.7"
      ]
     },
     "metadata": {},
     "output_type": "display_data"
    }
   ],
   "source": [
    "#Se limpia la memoria\n",
    "rm(list=ls())\n",
    "gc()"
   ]
  },
  {
   "cell_type": "code",
   "execution_count": 56,
   "metadata": {},
   "outputs": [],
   "source": [
    "semilla <- 100019\n",
    "set.seed(semilla)"
   ]
  },
  {
   "cell_type": "code",
   "execution_count": 57,
   "metadata": {},
   "outputs": [],
   "source": [
    "#cargo las librerias que necesito\n",
    "require(\"data.table\")\n",
    "require(\"rpart\")\n",
    "require(\"rpart.plot\")\n",
    "#Contiene funciones para evaluar performance de la clasificación\n",
    "library(\"ROCR\")"
   ]
  },
  {
   "cell_type": "code",
   "execution_count": 58,
   "metadata": {},
   "outputs": [],
   "source": [
    "setwd(\"C:/_MCD/Labo1/code\")  #Establezco el Working Directory"
   ]
  },
  {
   "cell_type": "code",
   "execution_count": 59,
   "metadata": {},
   "outputs": [],
   "source": [
    "dataset  <- fread(\"./datasets/competencia1_2022_FE_default.csv\")\n",
    "#dataset  <- fread(\"./datasets/competencia1_2022.csv\")"
   ]
  },
  {
   "cell_type": "markdown",
   "metadata": {},
   "source": [
    "## Agrego columna Binaria"
   ]
  },
  {
   "cell_type": "code",
   "execution_count": 60,
   "metadata": {},
   "outputs": [],
   "source": [
    "dataset[ foto_mes==202101, \n",
    "         clase_binaria :=  ifelse( clase_ternaria==\"CONTINUA\", \"NO\", \"SI\" ) ]"
   ]
  },
  {
   "cell_type": "code",
   "execution_count": 61,
   "metadata": {},
   "outputs": [],
   "source": [
    "dtrain  <- dataset[ foto_mes==202101 ]  #defino donde voy a entrenar\n",
    "dapply  <- dataset[ foto_mes==202103 ]  #defino donde voy a aplicar el modelo"
   ]
  },
  {
   "cell_type": "markdown",
   "metadata": {},
   "source": [
    "## Obviamente rpart no puede ver  clase_ternaria para predecir  clase_binaria"
   ]
  },
  {
   "cell_type": "code",
   "execution_count": 62,
   "metadata": {},
   "outputs": [],
   "source": [
    "modelo  <- rpart(formula=   \"clase_binaria ~ . -clase_ternaria\",\n",
    "                 data =      dtrain,  #los datos donde voy a entrenar\n",
    "                 xval=       0,\n",
    "                 cp=       -0.80114, #esto significa no limitar la complejidad de los splits\n",
    "                 minsplit= 954,   #minima cantidad de registros para que se haga el split\n",
    "                 minbucket=  130,   #tamaño minimo de una hoja\n",
    "                 maxdepth=  7 )  #PRUEBO  una profundidad de 10"
   ]
  },
  {
   "cell_type": "markdown",
   "metadata": {},
   "source": [
    "Ahora grafico el arbol, va a ser muy frondoso porque la profundidad es de 10"
   ]
  },
  {
   "cell_type": "code",
   "execution_count": 63,
   "metadata": {},
   "outputs": [],
   "source": [
    "#prp(modelo, extra=101, digits=5, branch=1, type=4, varlen=0, faclen=0)"
   ]
  },
  {
   "cell_type": "markdown",
   "metadata": {},
   "source": [
    "Ahora aplico al modelo  a los datos muevos  y genero la salida para kaggle"
   ]
  },
  {
   "cell_type": "markdown",
   "metadata": {},
   "source": [
    "aplico el modelo a los datos nuevos"
   ]
  },
  {
   "cell_type": "code",
   "execution_count": 64,
   "metadata": {},
   "outputs": [],
   "source": [
    "prediccion  <- predict( modelo, dapply , type = \"prob\") #aplico el modelo"
   ]
  },
  {
   "cell_type": "markdown",
   "metadata": {},
   "source": [
    "prediccion es una matriz con dos columnas"
   ]
  },
  {
   "cell_type": "code",
   "execution_count": 65,
   "metadata": {},
   "outputs": [],
   "source": [
    "dfinal  <- copy( dapply[ , list(numero_de_cliente) ] )\n",
    "dfinal[ , prob_SI := prediccion[ , \"SI\"] ]"
   ]
  },
  {
   "cell_type": "code",
   "execution_count": 66,
   "metadata": {},
   "outputs": [],
   "source": [
    "dfinal[ , azar := runif( nrow(dapply) ) ]\n",
    "\n",
    "# ordeno en forma descentente, y cuando coincide la probabilidad, al azar\n",
    "setorder( dfinal, -prob_SI, azar )\n",
    "\n",
    "for( corte  in  c( 7500, 8000, 8500, 9000, 9500, 10000, 10500, 11000 ) )\n",
    "{\n",
    "  #le envio a los  corte  mejores,  de mayor probabilidad de prob_SI\n",
    "  dfinal[ , Predicted := 0L ]\n",
    "  dfinal[ 1:corte , Predicted := 1L ]\n",
    "\n",
    "  fwrite( dfinal[ , list(numero_de_cliente, Predicted) ], #solo los campos para Kaggle\n",
    "           file= paste0( \"./exp/competencia1/prediccion_con_corte_\",  corte, \".csv\"),\n",
    "           sep=  \",\" )\n",
    "}"
   ]
  },
  {
   "cell_type": "markdown",
   "metadata": {},
   "source": [
    "creo la carpeta donde va el experimento"
   ]
  },
  {
   "cell_type": "code",
   "execution_count": 67,
   "metadata": {},
   "outputs": [],
   "source": [
    "#dir.create( \"./exp/competencia1\" ) "
   ]
  },
  {
   "cell_type": "markdown",
   "metadata": {},
   "source": [
    "Hago lo mismo con train para evaluar en entrenamiento"
   ]
  },
  {
   "cell_type": "code",
   "execution_count": 68,
   "metadata": {},
   "outputs": [
    {
     "name": "stdout",
     "output_type": "stream",
     "text": [
      "[1] \"      Corte: 7500\"\n",
      "[1] \"      La Ganancia es: 25240000\"\n",
      "[1] \"      TP: 503\"\n",
      "[1] \"      Incentivados: 7500\"\n",
      "[1] \"     \"\n",
      "[1] \"      Corte: 8000\"\n",
      "[1] \"      La Ganancia es: 25360000\"\n",
      "[1] \"      TP: 517\"\n",
      "[1] \"      Incentivados: 8000\"\n",
      "[1] \"     \"\n",
      "[1] \"      Corte: 8500\"\n",
      "[1] \"      La Ganancia es: 25240000\"\n",
      "[1] \"      TP: 528\"\n",
      "[1] \"      Incentivados: 8500\"\n",
      "[1] \"     \"\n",
      "[1] \"      Corte: 9000\"\n",
      "[1] \"      La Ganancia es: 24880000\"\n",
      "[1] \"      TP: 536\"\n",
      "[1] \"      Incentivados: 9000\"\n",
      "[1] \"     \"\n",
      "[1] \"      Corte: 9500\"\n",
      "[1] \"      La Ganancia es: 25080000\"\n",
      "[1] \"      TP: 551\"\n",
      "[1] \"      Incentivados: 9500\"\n",
      "[1] \"     \"\n",
      "[1] \"      Corte: 10000\"\n",
      "[1] \"      La Ganancia es: 25120000\"\n",
      "[1] \"      TP: 564\"\n",
      "[1] \"      Incentivados: 10000\"\n",
      "[1] \"     \"\n",
      "[1] \"      Corte: 10500\"\n",
      "[1] \"      La Ganancia es: 24600000\"\n",
      "[1] \"      TP: 570\"\n",
      "[1] \"      Incentivados: 10500\"\n",
      "[1] \"     \"\n",
      "[1] \"      Corte: 11000\"\n",
      "[1] \"      La Ganancia es: 24080000\"\n",
      "[1] \"      TP: 576\"\n",
      "[1] \"      Incentivados: 11000\"\n",
      "[1] \"     \"\n"
     ]
    }
   ],
   "source": [
    "prediccion  <- predict( modelo, dtrain , type = \"prob\") #aplico el modelo\n",
    "\n",
    "dtrain[ , prob_SI := prediccion[ , \"SI\"] ]\n",
    "dtrain[ , azar := runif( nrow(dtrain) ) ]\n",
    "setorder( dtrain, -prob_SI, azar )\n",
    "\n",
    "for( corte  in  c( 7500, 8000, 8500, 9000, 9500, 10000, 10500, 11000 ) )\n",
    "{\n",
    "  #le envio a los  corte  mejores,  de mayor probabilidad de prob_SI\n",
    "  dtrain[ , Predicted := 0L ]\n",
    "  dtrain[ 1:corte , Predicted := 1L ]\n",
    "\n",
    "    dtrain[, clase := 0]\n",
    "    dtrain[ clase_ternaria=='BAJA+2' ,   clase:= 1]\n",
    "    \n",
    "    #Ganancia por TP\n",
    "kTPGain               <-  78000\n",
    "\n",
    "#Pérdida por FP\n",
    "kFPGain               <-  -2000\n",
    "\n",
    "#Calculo la ganancia\n",
    "dtrain[  , ganancia:= kFPGain ] #-1250\n",
    "dtrain[ clase_ternaria=='BAJA+2' ,   ganancia:= kTPGain] #48750\n",
    "sum( dtrain$ganancia )\n",
    "\n",
    "gan <- sum( dtrain[ dtrain$Predicted==1, ganancia] )\n",
    "\n",
    "#TP\n",
    "truepositive <- sum(dtrain$Predicted*dtrain[,clase])\n",
    "\n",
    "#Incentivados Totales\n",
    "incentivados <- sum(dtrain$Predicted)\n",
    "print(paste(\"      Corte:\",corte))\n",
    "print(paste(\"      La Ganancia es:\", gan))\n",
    "print(paste(\"      TP:\", truepositive))\n",
    "print(paste(\"      Incentivados:\",incentivados))\n",
    "print(\"     \")\n",
    "}"
   ]
  },
  {
   "cell_type": "markdown",
   "metadata": {},
   "source": [
    "### Curva ROC"
   ]
  },
  {
   "cell_type": "code",
   "execution_count": 69,
   "metadata": {},
   "outputs": [
    {
     "data": {
      "text/plain": [
       "n= 161342 \n",
       "\n",
       "node), split, n, loss, yval, (yprob)\n",
       "      * denotes terminal node\n",
       "\n",
       "  1) root 161342 1514 NO (0.9906162066 0.0093837934)  \n",
       "    2) ctrx_quarter>=13.5 152942  803 NO (0.9947496437 0.0052503563)  \n",
       "      4) mv_status01< 8 148384  683 NO (0.9953970779 0.0046029221)  \n",
       "        8) ctrx_quarter>=37.5 133545  330 NO (0.9975289228 0.0024710772)  \n",
       "         16) mpayroll>=8222.14 76831   51 NO (0.9993362054 0.0006637946)  \n",
       "           32) mpayroll< 1683172 76701   48 NO (0.9993741933 0.0006258067)  \n",
       "             64) cliente_edad< 63.5 73374   37 NO (0.9994957342 0.0005042658)  \n",
       "              128) cliente_antiguedad>=47.5 59321   17 NO (0.9997134236 0.0002865764) *\n",
       "              129) cliente_antiguedad< 47.5 14053   20 NO (0.9985768163 0.0014231837) *\n",
       "             65) cliente_edad>=63.5 3327   11 NO (0.9966937181 0.0033062819)  \n",
       "              130) ccomisiones_otras>=3 3183    7 NO (0.9978008168 0.0021991832) *\n",
       "              131) ccomisiones_otras< 3 144    4 NO (0.9722222222 0.0277777778) *\n",
       "           33) mpayroll>=1683172 130    3 NO (0.9769230769 0.0230769231) *\n",
       "         17) mpayroll< 8222.14 56714  279 NO (0.9950805798 0.0049194202)  \n",
       "           34) mtarjeta_visa_consumo>=3003.16 50539  189 NO (0.9962603138 0.0037396862)  \n",
       "             68) mpasivos_margen>=698.5 29269   52 NO (0.9982233763 0.0017766237)  \n",
       "              136) ccallcenter_transacciones< 12.5 29102   48 NO (0.9983506288 0.0016493712) *\n",
       "              137) ccallcenter_transacciones>=12.5 167    4 NO (0.9760479042 0.0239520958) *\n",
       "             69) mpasivos_margen< 698.5 21270  137 NO (0.9935590033 0.0064409967)  \n",
       "              138) ctrx_quarter>=46.5 18749  101 NO (0.9946130460 0.0053869540) *\n",
       "              139) ctrx_quarter< 46.5 2521   36 NO (0.9857199524 0.0142800476) *\n",
       "           35) mtarjeta_visa_consumo< 3003.16 6175   90 NO (0.9854251012 0.0145748988)  \n",
       "             70) mpasivos_margen>=104.88 4856   48 NO (0.9901153213 0.0098846787)  \n",
       "              140) ccallcenter_transacciones< 3.5 4688   41 NO (0.9912542662 0.0087457338) *\n",
       "              141) ccallcenter_transacciones>=3.5 168    7 NO (0.9583333333 0.0416666667) *\n",
       "             71) mpasivos_margen< 104.88 1319   42 NO (0.9681576952 0.0318423048)  \n",
       "              142) mprestamos_personales>=4090.525 400    2 NO (0.9950000000 0.0050000000) *\n",
       "              143) mprestamos_personales< 4090.525 919   40 NO (0.9564744287 0.0435255713) *\n",
       "        9) ctrx_quarter< 37.5 14839  353 NO (0.9762113350 0.0237886650)  \n",
       "         18) mpasivos_margen>=74.005 10599  139 NO (0.9868855552 0.0131144448)  \n",
       "           36) mcuenta_corriente>=-13344.9 10396  126 NO (0.9878799538 0.0121200462)  \n",
       "             72) mpasivos_margen>=237.575 6920   53 NO (0.9923410405 0.0076589595)  \n",
       "              144) ccallcenter_transacciones< 3.5 6783   46 NO (0.9932183400 0.0067816600) *\n",
       "              145) ccallcenter_transacciones>=3.5 137    7 NO (0.9489051095 0.0510948905) *\n",
       "             73) mpasivos_margen< 237.575 3476   73 NO (0.9789988493 0.0210011507)  \n",
       "              146) Master_Fvencimiento< -864 1956   25 NO (0.9872188139 0.0127811861) *\n",
       "              147) Master_Fvencimiento>=-864 1520   48 NO (0.9684210526 0.0315789474) *\n",
       "           37) mcuenta_corriente< -13344.9 203   13 NO (0.9359605911 0.0640394089) *\n",
       "         19) mpasivos_margen< 74.005 4240  214 NO (0.9495283019 0.0504716981)  \n",
       "           38) mprestamos_personales>=14851.38 763    3 NO (0.9960681520 0.0039318480) *\n",
       "           39) mprestamos_personales< 14851.38 3477  211 NO (0.9393155019 0.0606844981)  \n",
       "             78) Visa_msaldototal>=1624.09 1778   68 NO (0.9617547807 0.0382452193)  \n",
       "              156) Visa_Fvencimiento< -652 1548   45 NO (0.9709302326 0.0290697674) *\n",
       "              157) Visa_Fvencimiento>=-652 230   23 NO (0.9000000000 0.1000000000) *\n",
       "             79) Visa_msaldototal< 1624.09 1699  143 NO (0.9158328428 0.0841671572)  \n",
       "              158) cpayroll_trx>=0.5 333    2 NO (0.9939939940 0.0060060060) *\n",
       "              159) cpayroll_trx< 0.5 1366  141 NO (0.8967789165 0.1032210835) *\n",
       "      5) mv_status01>=8 4558  120 NO (0.9736726634 0.0263273366)  \n",
       "       10) mv_status04>=19.5 4416   81 NO (0.9816576087 0.0183423913)  \n",
       "         20) cpayroll_trx>=0.5 2664   11 NO (0.9958708709 0.0041291291)  \n",
       "           40) ccaja_ahorro< 3.5 2532    5 NO (0.9980252765 0.0019747235)  \n",
       "             80) mcuenta_corriente< 0.275 2402    3 NO (0.9987510408 0.0012489592)  \n",
       "              160) mpagomiscuentas< 9439.715 1928    0 NO (1.0000000000 0.0000000000) *\n",
       "              161) mpagomiscuentas>=9439.715 474    3 NO (0.9936708861 0.0063291139) *\n",
       "             81) mcuenta_corriente>=0.275 130    2 NO (0.9846153846 0.0153846154) *\n",
       "           41) ccaja_ahorro>=3.5 132    6 NO (0.9545454545 0.0454545455) *\n",
       "         21) cpayroll_trx< 0.5 1752   70 NO (0.9600456621 0.0399543379)  \n",
       "           42) mprestamos_personales>=23414.17 837    8 NO (0.9904420550 0.0095579450) *\n",
       "           43) mprestamos_personales< 23414.17 915   62 NO (0.9322404372 0.0677595628) *\n",
       "       11) mv_status04< 19.5 142   39 NO (0.7253521127 0.2746478873) *\n",
       "    3) ctrx_quarter< 13.5 8400  711 NO (0.9153571429 0.0846428571)  \n",
       "      6) mcuentas_saldo>=-1256.1 5472  295 NO (0.9460891813 0.0539108187)  \n",
       "       12) mcuentas_saldo>=365.59 3070  110 NO (0.9641693811 0.0358306189)  \n",
       "         24) mv_status03< 8 2162   55 NO (0.9745605920 0.0254394080)  \n",
       "           48) Master_fechaalta< 468 740    3 NO (0.9959459459 0.0040540541) *\n",
       "           49) Master_fechaalta>=468 1422   52 NO (0.9634317862 0.0365682138)  \n",
       "             98) mpasivos_margen>=168.025 668   12 NO (0.9820359281 0.0179640719) *\n",
       "             99) mpasivos_margen< 168.025 754   40 NO (0.9469496021 0.0530503979) *\n",
       "         25) mv_status03>=8 908   55 NO (0.9394273128 0.0605726872) *\n",
       "       13) mcuentas_saldo< 365.59 2402  185 NO (0.9229808493 0.0770191507)  \n",
       "         26) mprestamos_personales>=16083.32 340    2 NO (0.9941176471 0.0058823529) *\n",
       "         27) mprestamos_personales< 16083.32 2062  183 NO (0.9112512124 0.0887487876)  \n",
       "           54) cdescubierto_preacordado>=0.5 1795  127 NO (0.9292479109 0.0707520891)  \n",
       "            108) Visa_fechaalta< 113.5 317    3 NO (0.9905362776 0.0094637224) *\n",
       "            109) Visa_fechaalta>=113.5 1478  124 NO (0.9161028417 0.0838971583)  \n",
       "              218) mrentabilidad< -30.325 242    5 NO (0.9793388430 0.0206611570) *\n",
       "              219) mrentabilidad>=-30.325 1236  119 NO (0.9037216828 0.0962783172) *\n",
       "           55) cdescubierto_preacordado< 0.5 267   56 NO (0.7902621723 0.2097378277) *\n",
       "      7) mcuentas_saldo< -1256.1 2928  416 NO (0.8579234973 0.1420765027)  \n",
       "       14) cprestamos_personales>=1.5 600   20 NO (0.9666666667 0.0333333333) *\n",
       "       15) cprestamos_personales< 1.5 2328  396 NO (0.8298969072 0.1701030928)  \n",
       "         30) cdescubierto_preacordado>=0.5 2007  280 NO (0.8604882910 0.1395117090)  \n",
       "           60) mpasivos_margen>=8.05 668   59 NO (0.9116766467 0.0883233533) *\n",
       "           61) mpasivos_margen< 8.05 1339  221 NO (0.8349514563 0.1650485437)  \n",
       "            122) Visa_fechaalta< 720.5 472   44 NO (0.9067796610 0.0932203390) *\n",
       "            123) Visa_fechaalta>=720.5 867  177 NO (0.7958477509 0.2041522491) *\n",
       "         31) cdescubierto_preacordado< 0.5 321  116 NO (0.6386292835 0.3613707165) *"
      ]
     },
     "metadata": {},
     "output_type": "display_data"
    }
   ],
   "source": [
    "modelo"
   ]
  },
  {
   "cell_type": "code",
   "execution_count": 70,
   "metadata": {},
   "outputs": [
    {
     "name": "stderr",
     "output_type": "stream",
     "text": [
      "Warning message:\n",
      "\"labs do not fit even at cex 0.15, there may be some overplotting\"\n"
     ]
    },
    {
     "data": {
      "image/png": "[encoded data removed]",
      "text/plain": [
       "plot without title"
      ]
     },
     "metadata": {
      "image/png": {
       "height": 900,
       "width": 900
      }
     },
     "output_type": "display_data"
    }
   ],
   "source": [
    "#Arbol generado\n",
    "options(repr.plot.width=15, repr.plot.height=15)\n",
    "prp(modelo, extra=101, digits=5, branch=1, type=4, varlen=0, faclen=0, tweak=1.3)"
   ]
  }
 ],
 "metadata": {
  "kernelspec": {
   "display_name": "R",
   "language": "R",
   "name": "ir"
  },
  "language_info": {
   "codemirror_mode": "r",
   "file_extension": ".r",
   "mimetype": "text/x-r-source",
   "name": "R",
   "pygments_lexer": "r",
   "version": "4.2.1"
  }
 },
 "nbformat": 4,
 "nbformat_minor": 4
}
