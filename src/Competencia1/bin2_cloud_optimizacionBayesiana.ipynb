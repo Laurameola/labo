{
 "cells": [
  {
   "cell_type": "code",
   "execution_count": 18,
   "id": "60edea0a-4493-48e5-a379-bb4fe056c5ec",
   "metadata": {},
   "outputs": [
    {
     "data": {
      "text/html": [
       "<table class=\"dataframe\">\n",
       "<caption>A matrix: 2 × 6 of type dbl</caption>\n",
       "<thead>\n",
       "\t<tr><th></th><th scope=col>used</th><th scope=col>(Mb)</th><th scope=col>gc trigger</th><th scope=col>(Mb)</th><th scope=col>max used</th><th scope=col>(Mb)</th></tr>\n",
       "</thead>\n",
       "<tbody>\n",
       "\t<tr><th scope=row>Ncells</th><td>2342280</td><td>125.1</td><td> 4342497</td><td>232.0</td><td> 4342497</td><td>232</td></tr>\n",
       "\t<tr><th scope=row>Vcells</th><td>3955441</td><td> 30.2</td><td>47121738</td><td>359.6</td><td>73391990</td><td>560</td></tr>\n",
       "</tbody>\n",
       "</table>\n"
      ],
      "text/latex": [
       "A matrix: 2 × 6 of type dbl\n",
       "\\begin{tabular}{r|llllll}\n",
       "  & used & (Mb) & gc trigger & (Mb) & max used & (Mb)\\\\\n",
       "\\hline\n",
       "\tNcells & 2342280 & 125.1 &  4342497 & 232.0 &  4342497 & 232\\\\\n",
       "\tVcells & 3955441 &  30.2 & 47121738 & 359.6 & 73391990 & 560\\\\\n",
       "\\end{tabular}\n"
      ],
      "text/markdown": [
       "\n",
       "A matrix: 2 × 6 of type dbl\n",
       "\n",
       "| <!--/--> | used | (Mb) | gc trigger | (Mb) | max used | (Mb) |\n",
       "|---|---|---|---|---|---|---|\n",
       "| Ncells | 2342280 | 125.1 |  4342497 | 232.0 |  4342497 | 232 |\n",
       "| Vcells | 3955441 |  30.2 | 47121738 | 359.6 | 73391990 | 560 |\n",
       "\n"
      ],
      "text/plain": [
       "       used    (Mb)  gc trigger (Mb)  max used (Mb)\n",
       "Ncells 2342280 125.1  4342497   232.0  4342497 232 \n",
       "Vcells 3955441  30.2 47121738   359.6 73391990 560 "
      ]
     },
     "metadata": {},
     "output_type": "display_data"
    }
   ],
   "source": [
    "#limpio la memoria\n",
    "rm( list=ls() )  #remove all objects\n",
    "gc()             #garbage collection"
   ]
  },
  {
   "cell_type": "code",
   "execution_count": 19,
   "id": "13d6a7f3-92e4-42a7-ac68-5c63e8dd9463",
   "metadata": {},
   "outputs": [],
   "source": [
    "semilla <- 100019\n",
    "set.seed(semilla)"
   ]
  },
  {
   "cell_type": "code",
   "execution_count": 20,
   "id": "2092837f",
   "metadata": {
    "vscode": {
     "languageId": "r"
    }
   },
   "outputs": [],
   "source": [
    "#Optimizacion Bayesiana de hiperparametros de  rpart\n",
    "#funciona automaticamente con EXPERIMENTOS\n",
    "#va generando incrementalmente salidas para kaggle\n",
    "\n",
    "library(\"data.table\")\n",
    "library(\"rlist\")\n",
    "library(\"yaml\")\n",
    "\n",
    "library(\"rpart\")\n",
    "library(\"parallel\")\n",
    "\n",
    "#paquetes necesarios para la Bayesian Optimization\n",
    "library(\"DiceKriging\")\n",
    "library(\"mlrMBO\")\n",
    "\n",
    "library(\"stringr\")\n"
   ]
  },
  {
   "cell_type": "code",
   "execution_count": 21,
   "id": "cdbf9f90",
   "metadata": {
    "vscode": {
     "languageId": "r"
    }
   },
   "outputs": [],
   "source": [
    "#para poder usarlo en la PC y en la nube\n",
    "switch ( Sys.info()[['sysname']],\n",
    "         Windows = { directory.root   <-  \"M:\\\\\" },   #Microsoft Windows\n",
    "         Darwin  = { directory.root   <-  \"~/dm/\" },  #Apple MAC\n",
    "#         Linux   = { directory.root   <-  \"~/buckets/b1/\" }  #Entorno Google Cloud\n",
    "         Linux   = { directory.root   <-  \"~/\" }  #Hay un problema en el almacenamiento en cloud del BO por el momento se graba en el usuario\n",
    "       )\n",
    "#defino la carpeta donde trabajo\n",
    "\n",
    "#Hay un error en el almacenamiento \n",
    "\n",
    "setwd( directory.root )\n"
   ]
  },
  {
   "cell_type": "code",
   "execution_count": 22,
   "id": "0b489a50",
   "metadata": {
    "vscode": {
     "languageId": "r"
    }
   },
   "outputs": [],
   "source": [
    "kexperimento  <- NA   #NA si se corre la primera vez, un valor concreto si es para continuar procesando\n",
    "\n",
    "kscript           <- \"03.04 - BO Rpart\"\n",
    "kBO_iter    <-  400   #cantidad de iteraciones de la Optimizacion Bayesiana\n",
    "\n",
    "kcarpeta_datasets    <- \"./buckets/b1/datasets/\"                          #VM o Ubuntu\n",
    "\n",
    "#Archivo con datos etiquetados para entrenamiento\n",
    "karchivo_entrada      <-  paste0(kcarpeta_datasets, \"competencia1_2022_FE_DC2.csv\")\n",
    "\n",
    "\n",
    "#Ganancia por TP\n",
    "kTPGain               <-  78000\n",
    "\n",
    "#Pérdida por FP\n",
    "kFPGain               <-  -2000\n",
    "\n",
    "\n",
    "hs  <- makeParamSet(\n",
    "          makeNumericParam(\"cp\"       , lower= -1   , upper=    0.1),\n",
    "          makeIntegerParam(\"minsplit\" , lower=  1L  , upper= 8000L),  #la letra L al final significa ENTERO\n",
    "          makeIntegerParam(\"minbucket\", lower=  1L  , upper= 2000L),\n",
    "          makeIntegerParam(\"maxdepth\" , lower=  3L  , upper=   20L),\n",
    "          forbidden = quote( minbucket > 0.5*minsplit ) )\n",
    "\n",
    "\n",
    "ksemilla_azar  <- semilla"
   ]
  },
  {
   "cell_type": "markdown",
   "id": "426b9b91-0ff7-45dd-8245-a32801ff5b76",
   "metadata": {
    "vscode": {
     "languageId": "r"
    }
   },
   "source": [
    "#------------------------------------------------------------------------------\n",
    "#Funcion que lleva el registro de los experimentos\n",
    "\n",
    "get_experimento  <- function()\n",
    "{\n",
    "  if( !file.exists( \"./maestro.yaml\" ) )  cat( file=\"./maestro.yaml\", \"experimento: 1000\" )\n",
    "\n",
    "  exp  <- read_yaml( \"./maestro.yaml\" )\n",
    "  experimento_actual  <- exp$experimento\n",
    "\n",
    "  exp$experimento  <- as.integer(exp$experimento + 1)\n",
    "  Sys.chmod( \"./maestro.yaml\", mode = \"0644\", use_umask = TRUE)\n",
    "  write_yaml( exp, \"./maestro.yaml\" )\n",
    "  Sys.chmod( \"./maestro.yaml\", mode = \"0444\", use_umask = TRUE) #dejo el archivo readonly\n",
    "\n",
    "  return( experimento_actual )\n",
    "}"
   ]
  },
  {
   "cell_type": "code",
   "execution_count": 23,
   "id": "d2e38325-19a3-4e59-8b0a-26471a2c4fd5",
   "metadata": {
    "vscode": {
     "languageId": "r"
    }
   },
   "outputs": [],
   "source": [
    "#------------------------------------------------------------------------------\n",
    "#Funcion que lleva el registro de los experimentos\n",
    "\n",
    "get_experimento  <- function()\n",
    "{\n",
    "  if( !file.exists( \"./maestro.yaml\" ) )  cat( file=\"./maestro.yaml\", \"experimento: 1000\" )\n",
    "\n",
    "  exp  <- read_yaml( \"./maestro.yaml\" )\n",
    "  experimento_actual  <- exp$experimento\n",
    "\n",
    "  exp$experimento  <- as.integer(exp$experimento + 1)\n",
    "  Sys.chmod( \"./maestro.yaml\", mode = \"0644\", use_umask = TRUE)\n",
    "  write_yaml( exp, \"./maestro.yaml\" )\n",
    "  Sys.chmod( \"./maestro.yaml\", mode = \"0444\", use_umask = TRUE) #dejo el archivo readonly\n",
    "\n",
    "  return( experimento_actual )\n",
    "}"
   ]
  },
  {
   "cell_type": "code",
   "execution_count": 24,
   "id": "1e9841a2",
   "metadata": {
    "vscode": {
     "languageId": "r"
    }
   },
   "outputs": [],
   "source": [
    "#------------------------------------------------------------------------------\n",
    "#funcion para particionar, es la que Andres reemplaza con caret\n",
    "\n",
    "particionar  <- function( data, division, agrupa=\"\", campo=\"fold\", start=1, seed=NA )\n",
    "{\n",
    "  if( !is.na( seed)  )   set.seed( seed )\n",
    "\n",
    "  bloque  <- unlist( mapply(  function(x,y) { rep( y, x ) }, division, seq( from=start, length.out=length(division) )  ) )\n",
    "\n",
    "  data[ , (campo) :=  sample( rep( bloque, ceiling(.N/length(bloque))) )[1:.N],\n",
    "           by= agrupa ]\n",
    "}\n",
    "#------------------------------------------------------------------------------"
   ]
  },
  {
   "cell_type": "code",
   "execution_count": 25,
   "id": "c1e1901e",
   "metadata": {
    "vscode": {
     "languageId": "r"
    }
   },
   "outputs": [],
   "source": [
    "ArbolSimple  <- function( fold_test, data, param )\n",
    "{\n",
    "  #genero el modelo\n",
    "  modelo  <- rpart(\"clase_binaria ~ .  -clase_ternaria\",\n",
    "                   data= data[ fold != fold_test, ],  #entreno en todo MENOS el fold_test que uso para testing\n",
    "                   xval= 0,\n",
    "                   control= param )\n",
    "\n",
    "  #aplico el modelo a los datos de testing, fold==2\n",
    "  prediccion  <- predict( modelo, data[ fold==fold_test, ], type = \"prob\")\n",
    "\n",
    "   dtest <- copy( data[ fold==fold_test , list( clase_ternaria )] )\n",
    "  dtest[ , pred := prediccion[ ,\"SI\"] ]\n",
    "  dtest[ , azar := runif( nrow( dtest ) ) ]\n",
    "  setorder(  dtest, -pred, azar )\n",
    "\n",
    "  dtest[ , gan :=  ifelse( clase_ternaria==\"BAJA+2\", 78000, -2000 ) ]\n",
    "  dtest[ , gan_acum := cumsum( gan ) ]\n",
    "\n",
    "  #calculo la ganancia\n",
    "  dtest2   <- dtest[ (1:100)*100,  ]\n",
    "  idx_max  <- which.max( dtest2$gan_acum ) \n",
    "  ganancia_testing  <- dtest2[ (idx_max-1):(idx_max+1),  mean(gan_acum) ]\n",
    "\n",
    "\n",
    "  rm( dtest )\n",
    "  rm( dtest2 )\n",
    "  return( ganancia_testing )\n",
    "}"
   ]
  },
  {
   "cell_type": "code",
   "execution_count": 26,
   "id": "3f25f951",
   "metadata": {
    "vscode": {
     "languageId": "r"
    }
   },
   "outputs": [],
   "source": [
    "#------------------------------------------------------------------------------\n",
    "\n",
    "ArbolesCrossValidation  <- function( data, param, qfolds, pagrupa, semilla )\n",
    "{\n",
    "  divi  <- rep( 1, qfolds )\n",
    "  particionar( data, divi, seed=semilla, agrupa=pagrupa )\n",
    "\n",
    "  ganancias  <- mcmapply( ArbolSimple, \n",
    "                          seq(qfolds), # 1 2 3 4 5  \n",
    "                          MoreArgs= list( data, param), \n",
    "                          SIMPLIFY= FALSE,\n",
    "                          mc.cores= 5 )   #se puede subir a 5 si posee Linux o Mac OS\n",
    "\n",
    "  data[ , fold := NULL ]\n",
    "  #devuelvo la primer ganancia y el promedio\n",
    "  return( mean( unlist( ganancias )) *  qfolds )   #aqui normalizo la ganancia\n",
    "}"
   ]
  },
  {
   "cell_type": "code",
   "execution_count": 27,
   "id": "6ba36867",
   "metadata": {
    "vscode": {
     "languageId": "r"
    }
   },
   "outputs": [],
   "source": [
    "#------------------------------------------------------------------------------\n",
    "#esta funcion solo puede recibir los parametros que se estan optimizando\n",
    "#el resto de los parametros se pasan como variables globales\n",
    "\n",
    "EstimarGanancia  <- function( x )\n",
    "{\n",
    "   GLOBAL_iteracion  <<-  GLOBAL_iteracion + 1\n",
    "\n",
    "   xval_folds  <- 5\n",
    "   ganancia  <-  ArbolesCrossValidation( dtrain, param=x, qfolds= xval_folds, pagrupa=\"clase_ternaria\", semilla=ksemilla_azar )\n",
    "\n",
    "   #si tengo una ganancia superadora, genero el archivo para Kaggle\n",
    "   if(  ganancia > GLOBAL_ganancia_max )\n",
    "   {\n",
    "     GLOBAL_ganancia_max <<-  ganancia  #asigno la nueva maxima ganancia\n",
    "    \n",
    "     fwrite( x, \n",
    "             file= paste0(kkaggle, str_pad(GLOBAL_iteracion, 5, pad = \"0\"), \"_params.txt\" ),\n",
    "             sep=  \",\" )\n",
    "   write.table(ganancia, file = paste0(kkaggle, str_pad(GLOBAL_iteracion, 5, pad = \"0\"), \"_ganancia.txt\" ), sep = \"\\t\",\n",
    "            col.names = c(\"ganancia\"), row.names=FALSE)\n",
    "   }\n",
    "    write.table(ganancia, file = paste0(kkaggle, str_pad(GLOBAL_iteracion, 5, pad = \"0\"), \"_iteracion.txt\" ), sep = \"\\t\",\n",
    "            col.names = c(\"iteracion_ganancia\"), row.names=FALSE)\n",
    "   return( ganancia )\n",
    "}\n",
    "#------------------------------------------------------------------------------"
   ]
  },
  {
   "cell_type": "code",
   "execution_count": 28,
   "id": "3bdbd4cb",
   "metadata": {
    "vscode": {
     "languageId": "r"
    }
   },
   "outputs": [],
   "source": [
    "#Aqui empieza el programa\n",
    "\n",
    "if( is.na(kexperimento ) )   kexperimento <- get_experimento()  #creo el experimento"
   ]
  },
  {
   "cell_type": "code",
   "execution_count": 29,
   "id": "57f2a412",
   "metadata": {
    "vscode": {
     "languageId": "r"
    }
   },
   "outputs": [],
   "source": [
    "#en estos archivos quedan los resultados\n",
    "kbayesiana  <- paste0(\"./E\",  kexperimento, \"_rpart.RDATA\" )\n",
    "kkaggle     <- paste0(\"./E\",kexperimento, \"_rpart_kaggle_\" )"
   ]
  },
  {
   "cell_type": "code",
   "execution_count": 30,
   "id": "a555476f",
   "metadata": {
    "vscode": {
     "languageId": "r"
    }
   },
   "outputs": [],
   "source": [
    "GLOBAL_ganancia_max  <-  -Inf\n",
    "GLOBAL_iteracion  <- 0"
   ]
  },
  {
   "cell_type": "code",
   "execution_count": 31,
   "id": "81cc80f4",
   "metadata": {
    "vscode": {
     "languageId": "r"
    }
   },
   "outputs": [],
   "source": [
    "#cargo los datos\n",
    "dataset <- fread(karchivo_entrada)\n",
    "\n",
    "#Para hacer pruebas rapidas puedo reducir el dataset a una fraccion\n",
    "#subsample <- sample(1:nrow(dataset), .1 * nrow(dataset))\n",
    "#dataset <- dataset[subsample,]\n",
    "dataset[ foto_mes==202101, clase_binaria :=  ifelse( clase_ternaria==\"CONTINUA\", \"NO\", \"SI\" ) ]\n",
    "\n",
    "dtrain  <- dataset[ foto_mes==202101 ]  #defino donde voy a entrenar\n",
    "\n"
   ]
  },
  {
   "cell_type": "code",
   "execution_count": 32,
   "id": "c81db6a6",
   "metadata": {
    "vscode": {
     "languageId": "r"
    }
   },
   "outputs": [],
   "source": [
    "#Aqui comienza la configuracion de la Bayesian Optimization\n",
    "\n",
    "configureMlr( show.learner.output = FALSE)\n",
    "\n",
    "funcion_optimizar  <- EstimarGanancia\n",
    "\n",
    "#configuro la busqueda bayesiana,  los hiperparametros que se van a optimizar\n",
    "#por favor, no desesperarse por lo complejo\n",
    "obj.fun  <- makeSingleObjectiveFunction(\n",
    "              fn=       funcion_optimizar,\n",
    "              minimize= FALSE,   #estoy Maximizando la ganancia\n",
    "              noisy=    TRUE,\n",
    "              par.set=  hs,\n",
    "              has.simple.signature = FALSE\n",
    "             )\n",
    "\n",
    "ctrl  <- makeMBOControl( save.on.disk.at.time= 60,  save.file.path= kbayesiana)\n",
    "ctrl  <- setMBOControlTermination(ctrl, iters= kBO_iter )\n",
    "ctrl  <- setMBOControlInfill(ctrl, crit= makeMBOInfillCritEI())\n",
    "\n",
    "surr.km  <-  makeLearner(\"regr.km\", predict.type= \"se\", covtype= \"matern3_2\", control= list(trace= TRUE))"
   ]
  },
  {
   "cell_type": "code",
   "execution_count": null,
   "id": "9383ca74",
   "metadata": {
    "vscode": {
     "languageId": "r"
    }
   },
   "outputs": [
    {
     "name": "stderr",
     "output_type": "stream",
     "text": [
      "Computing y column(s) for design. Not provided.\n",
      "\n"
     ]
    }
   ],
   "source": [
    "#inicio la optimizacion bayesiana\n",
    "if(!file.exists(kbayesiana)) {\n",
    "  run  <- mbo(obj.fun, learner = surr.km, control = ctrl)\n",
    "} else  run  <- mboContinue( kbayesiana )   #retomo en caso que ya exista"
   ]
  },
  {
   "cell_type": "code",
   "execution_count": null,
   "id": "fd592624",
   "metadata": {
    "vscode": {
     "languageId": "r"
    }
   },
   "outputs": [],
   "source": [
    "quit( save=\"no\" )"
   ]
  }
 ],
 "metadata": {
  "kernelspec": {
   "display_name": "R",
   "language": "R",
   "name": "ir"
  },
  "language_info": {
   "codemirror_mode": "r",
   "file_extension": ".r",
   "mimetype": "text/x-r-source",
   "name": "R",
   "pygments_lexer": "r",
   "version": "4.2.1"
  },
  "vscode": {
   "interpreter": {
    "hash": "0b87cd2a2c92c59199cd604023601109306b45cac2bd778b8aa97bbc69631231"
   }
  }
 },
 "nbformat": 4,
 "nbformat_minor": 5
}
