{
 "cells": [
  {
   "cell_type": "code",
   "execution_count": 1,
   "metadata": {
    "papermill": {
     "duration": 1.629423,
     "end_time": "2020-09-04T19:00:49.168162",
     "exception": false,
     "start_time": "2020-09-04T19:00:47.538739",
     "status": "completed"
    },
    "tags": [],
    "vscode": {
     "languageId": "r"
    }
   },
   "outputs": [
    {
     "data": {
      "text/html": [
       "<table class=\"dataframe\">\n",
       "<caption>A matrix: 2 × 6 of type dbl</caption>\n",
       "<thead>\n",
       "\t<tr><th></th><th scope=col>used</th><th scope=col>(Mb)</th><th scope=col>gc trigger</th><th scope=col>(Mb)</th><th scope=col>max used</th><th scope=col>(Mb)</th></tr>\n",
       "</thead>\n",
       "<tbody>\n",
       "\t<tr><th scope=row>Ncells</th><td> 604603</td><td>32.3</td><td>1292120</td><td>69.1</td><td>1292120</td><td>69.1</td></tr>\n",
       "\t<tr><th scope=row>Vcells</th><td>1087177</td><td> 8.3</td><td>8388608</td><td>64.0</td><td>1632674</td><td>12.5</td></tr>\n",
       "</tbody>\n",
       "</table>\n"
      ],
      "text/latex": [
       "A matrix: 2 × 6 of type dbl\n",
       "\\begin{tabular}{r|llllll}\n",
       "  & used & (Mb) & gc trigger & (Mb) & max used & (Mb)\\\\\n",
       "\\hline\n",
       "\tNcells &  604603 & 32.3 & 1292120 & 69.1 & 1292120 & 69.1\\\\\n",
       "\tVcells & 1087177 &  8.3 & 8388608 & 64.0 & 1632674 & 12.5\\\\\n",
       "\\end{tabular}\n"
      ],
      "text/markdown": [
       "\n",
       "A matrix: 2 × 6 of type dbl\n",
       "\n",
       "| <!--/--> | used | (Mb) | gc trigger | (Mb) | max used | (Mb) |\n",
       "|---|---|---|---|---|---|---|\n",
       "| Ncells |  604603 | 32.3 | 1292120 | 69.1 | 1292120 | 69.1 |\n",
       "| Vcells | 1087177 |  8.3 | 8388608 | 64.0 | 1632674 | 12.5 |\n",
       "\n"
      ],
      "text/plain": [
       "       used    (Mb) gc trigger (Mb) max used (Mb)\n",
       "Ncells  604603 32.3 1292120    69.1 1292120  69.1\n",
       "Vcells 1087177  8.3 8388608    64.0 1632674  12.5"
      ]
     },
     "metadata": {},
     "output_type": "display_data"
    },
    {
     "name": "stderr",
     "output_type": "stream",
     "text": [
      "Loading required package: ggplot2\n",
      "\n",
      "Loading required package: lattice\n",
      "\n"
     ]
    }
   ],
   "source": [
    "#limpio la memoria\n",
    "rm(list=ls())\n",
    "gc()\n",
    "\n",
    "library(\"data.table\")\n",
    "library(\"ROCR\")\n",
    "\n",
    "\n",
    "library(\"caret\")\n",
    "\n",
    "library(\"ranger\")"
   ]
  },
  {
   "cell_type": "code",
   "execution_count": 2,
   "metadata": {
    "papermill": {
     "duration": 0.279475,
     "end_time": "2020-09-04T19:00:49.466032",
     "exception": false,
     "start_time": "2020-09-04T19:00:49.186557",
     "status": "completed"
    },
    "tags": [],
    "vscode": {
     "languageId": "r"
    }
   },
   "outputs": [],
   "source": [
    "\n",
    "#para poder usarlo en la PC y en la nube\n",
    "switch ( Sys.info()[['sysname']],\n",
    "         Windows = { directory.root   <-  \"C:/_MCD/Labo1/code\" },   #Microsoft Windows\n",
    "         Darwin  = { directory.root   <-  \"~/CloudL/UA/labo2022/\" },  #Apple MAC\n",
    "         Linux   = { directory.root   <-  \"~/buckets/b1/\" }  #Entorno Google Cloud\n",
    "       )\n",
    "#defino la carpeta donde trabajo\n",
    "setwd( directory.root )\n",
    "\n",
    "#Parametros entrada\n",
    "\n",
    "#kcarpeta_datasets    <- \"../input/laboratorio-de-implementacion-i-2021/\"   #KAGGLE\n",
    "kcarpeta_datasets    <- \"./datasets/\"                          #VM o Ubuntu\n",
    "\n",
    "#Archivo con datos etiquetados para entrenamiento\n",
    "karchivo_entrada      <-  paste0(kcarpeta_datasets, \"competencia1_2022_FE.csv\")\n",
    "\n",
    "#Formato para submit en Kaggle\n",
    "#karchivo_score      <-  \"../input/uamds2020ldi1f1/Sample_201910_Fase_I.txt\"\n",
    "\n",
    "#Separador de campos en archivos\n",
    "kcampos_separador     <-  \"\\t\"\n",
    "\n",
    "#Campo que identifica las muestras\n",
    "kcampo_id             <-  \"numero_de_cliente\"\n",
    "\n",
    "#Campo que contiene la clase a estimar\n",
    "kclase_nomcampo       <-  \"clase_ternaria\"\n",
    "\n",
    "#Valor de interés\n",
    "kclase_valor_positivo <-  \"BAJA+2\"\n",
    "\n",
    "#Campos a borrar para el entrenamiento\n",
    "kcampos_a_borrar      <-  c(kcampo_id,kclase_nomcampo,\"foto_mes\")\n",
    "\n",
    "#Campo que contendrá a la variable objetivo generada\n",
    "kobjetivo             <-  \"clase\"\n",
    "\n",
    "#Identificación del modelo\n",
    "kmodelo               <-  \"02-RPART\"\n",
    "\n",
    "#Ganancia por TP\n",
    "kTPGain               <-  78000\n",
    "\n",
    "#Pérdida por FP\n",
    "kFPGain               <-  -2000\n",
    "\n",
    "#Establezco semilla aleatoria\n",
    "set.seed(1)\n",
    "\n"
   ]
  },
  {
   "cell_type": "code",
   "execution_count": 3,
   "metadata": {
    "papermill": {
     "duration": 3.125502,
     "end_time": "2020-09-04T19:00:52.608890",
     "exception": false,
     "start_time": "2020-09-04T19:00:49.483388",
     "status": "completed"
    },
    "tags": [],
    "vscode": {
     "languageId": "r"
    }
   },
   "outputs": [],
   "source": [
    "#cargo los datos\n",
    "dataset <- fread(karchivo_entrada)\n",
    "\n",
    "#Para hacer pruebas rapidas puedo reducir el dataset a una fraccion\n",
    "#subsample <- sample(1:nrow(dataset), .1 * nrow(dataset))\n",
    "#dataset <- dataset[subsample,]\n",
    "\n",
    "#Genero la clase\n",
    "dataset[,'clase' := as.integer(dataset[,'clase_ternaria'] == 'BAJA+2')]"
   ]
  },
  {
   "cell_type": "code",
   "execution_count": 4,
   "metadata": {
    "papermill": {
     "duration": 1.110089,
     "end_time": "2020-09-04T19:00:53.738438",
     "exception": false,
     "start_time": "2020-09-04T19:00:52.628349",
     "status": "completed"
    },
    "tags": [],
    "vscode": {
     "languageId": "r"
    }
   },
   "outputs": [],
   "source": [
    "\n",
    "#Limpio campos a borrar\n",
    "dataset[ ,  'clase_ternaria' := NULL    ] \n",
    "\n",
    "#Completo missings\n",
    "dataset[is.na(dataset)] <- 0\n",
    "\n",
    "dtrain  <- dataset[ foto_mes==202101 ]  #defino donde voy a entrenar\n",
    "\n",
    "train_rows <- createDataPartition(dtrain$clase, p = .66, list = FALSE)\n",
    "\n",
    "#train_rows <- sample(1:nrow(dataset), .66 * nrow(dataset))\n",
    "dtest <- dtrain[-train_rows,]\n",
    "dtrain_split <- dtrain[train_rows,]\n",
    "\n",
    "dapply  <- dataset[ foto_mes==202103 ]  #defino donde voy a aplicar el modelo"
   ]
  },
  {
   "cell_type": "code",
   "execution_count": 5,
   "metadata": {
    "vscode": {
     "languageId": "r"
    }
   },
   "outputs": [],
   "source": [
    "# generacion del modelo\n",
    "formula_obj  <-  formula(paste(\"clase ~ .\"))"
   ]
  },
  {
   "cell_type": "code",
   "execution_count": 7,
   "metadata": {
    "vscode": {
     "languageId": "r"
    }
   },
   "outputs": [],
   "source": [
    "#train_rows <- sample(1:nrow(dataset), .66 * nrow(dataset))\n",
    "#dataset<-dataset[,..seleccionados]\n",
    "\n",
    "#train <- dataset[train_rows,]\n",
    "#test <- dataset[-train_rows,]"
   ]
  },
  {
   "cell_type": "code",
   "execution_count": 6,
   "metadata": {
    "vscode": {
     "languageId": "r"
    }
   },
   "outputs": [
    {
     "name": "stdout",
     "output_type": "stream",
     "text": [
      "[1] 34.29013\n"
     ]
    }
   ],
   "source": [
    "t0       <-  Sys.time()\n",
    "modelo  <- ranger( data = dtrain_split,  \n",
    "                   formula_obj,  \n",
    "                   probability=TRUE,\n",
    "                   num.trees= 900, \n",
    "                   min.node.size= 360, \n",
    "                   mtry= 4, \n",
    "                   splitrule='gini'\n",
    "                 ) \n",
    "t1       <-  Sys.time()\n",
    "\n",
    "tcorrida <-  as.numeric( t1 - t0, units = \"secs\")\n",
    "print( tcorrida)"
   ]
  },
  {
   "cell_type": "code",
   "execution_count": 7,
   "metadata": {
    "papermill": {
     "duration": 0.293419,
     "end_time": "2020-09-04T19:02:23.863598",
     "exception": false,
     "start_time": "2020-09-04T19:02:23.570179",
     "status": "completed"
    },
    "tags": [],
    "vscode": {
     "languageId": "r"
    }
   },
   "outputs": [
    {
     "name": "stdout",
     "output_type": "stream",
     "text": [
      "[1] \"La Ganancia es: 25404000\"\n"
     ]
    }
   ],
   "source": [
    "#Calculo ganancia sobre dataset de pruebas\n",
    "dtest$score <- predict(modelo, dtest, type = 'response')$predictions[,2]\n",
    "\n",
    "#Selecciono los que estan por encima del umbral\n",
    "dtest$Predicted <- dtest$score > 1/40\n",
    "\n",
    "#Determino ganancia\n",
    "print(paste(\"La Ganancia es:\", 3*sum(dtest$Predicted*dtest[,clase]*kTPGain + \n",
    "                                     dtest$Predicted * (0 == dtest[,clase]) * kFPGain)))"
   ]
  },
  {
   "cell_type": "code",
   "execution_count": 8,
   "metadata": {
    "vscode": {
     "languageId": "r"
    }
   },
   "outputs": [
    {
     "data": {
      "text/html": [
       "<ol>\n",
       "\t<li>0.903426355454593</li>\n",
       "</ol>\n"
      ],
      "text/latex": [
       "\\begin{enumerate}\n",
       "\\item 0.903426355454593\n",
       "\\end{enumerate}\n"
      ],
      "text/markdown": [
       "1. 0.903426355454593\n",
       "\n",
       "\n"
      ],
      "text/plain": [
       "[[1]]\n",
       "[1] 0.9034264\n"
      ]
     },
     "metadata": {},
     "output_type": "display_data"
    },
    {
     "data": {
      "image/png": "[encoded data removed]",
      "text/plain": [
       "plot without title"
      ]
     },
     "metadata": {
      "image/png": {
       "height": 900,
       "width": 900
      }
     },
     "output_type": "display_data"
    }
   ],
   "source": [
    "#ROC con curvas de nivel de ganancia\n",
    "pred <- prediction(dtest$score, dtest[,clase])\n",
    "perf <- performance(pred, measure = \"tpr\", x.measure = \"fpr\")\n",
    "\n",
    "performance( pred,\"auc\")@y.values\n",
    "\n",
    "tot_positivos = sum( dtest[,clase] )\n",
    "tot_negativos = nrow(dtest) - sum( dtest[,clase] )\n",
    "\n",
    "options(repr.plot.width=15, repr.plot.height=15)\n",
    "\n",
    "plot.new()  \n",
    "plot(perf,\n",
    "       add = TRUE,\n",
    "       lwd=.7,\n",
    "       main=\"ROC Curves\",\n",
    "       avg = \"vertical\")\n",
    "  grid(col=\"lightgray\")\n",
    "  axis(1, at=seq(0, 1, by=0.1))\n",
    "  axis(2, at=seq(0, 1, by=0.1))\n",
    "  abline(v=c(0.1, 0.3, 0.5, 0.7, 0.9), col=\"lightgray\", lty=\"dotted\")\n",
    "  abline(h=c(0.1, 0.3, 0.5, 0.7, 0.9), col=\"lightgray\", lty=\"dotted\")\n",
    "  lines(x=c(0, 1), y=c(0, 1), col=\"black\", lty=\"dotted\")\n",
    "\n",
    "par( new=TRUE)\n",
    "x <- seq(0, 1, len = 1500)\n",
    "y <- seq(0, 1, len = 1500)\n",
    "\n",
    "r <- outer(tot_negativos*x*kFPGain *3/1000000,tot_positivos*y*(kTPGain )*3/1000000,\"+\")\n",
    "\n",
    "contour(r, axes = FALSE, nlevels = 15)"
   ]
  },
  {
   "cell_type": "code",
   "execution_count": 9,
   "metadata": {
    "papermill": {
     "duration": 110.854829,
     "end_time": "2020-09-04T19:04:15.329508",
     "exception": false,
     "start_time": "2020-09-04T19:02:24.474679",
     "status": "completed"
    },
    "tags": [],
    "vscode": {
     "languageId": "r"
    }
   },
   "outputs": [
    {
     "name": "stdout",
     "output_type": "stream",
     "text": [
      "Growing trees.. Progress: 53%. Estimated remaining time: 27 seconds.\n",
      "[1] 67.95682\n"
     ]
    }
   ],
   "source": [
    "t0       <-  Sys.time()\n",
    "modelo  <- ranger( data = dtrain,  \n",
    "                   formula_obj,  \n",
    "                   probability=TRUE,\n",
    "                   importance='impurity',\n",
    "                   num.trees= 900, \n",
    "                   min.node.size= 360, \n",
    "                   mtry= 4, \n",
    "                   splitrule='gini'\n",
    "                 ) \n",
    "t1       <-  Sys.time()\n",
    "\n",
    "tcorrida <-  as.numeric( t1 - t0, units = \"secs\")\n",
    "print( tcorrida)\n"
   ]
  },
  {
   "cell_type": "code",
   "execution_count": 17,
   "metadata": {
    "papermill": {
     "duration": 2.186041,
     "end_time": "2020-09-04T19:04:18.120606",
     "exception": false,
     "start_time": "2020-09-04T19:04:15.934565",
     "status": "completed"
    },
    "tags": [],
    "vscode": {
     "languageId": "r"
    }
   },
   "outputs": [],
   "source": [
    "#Calculo ganancia sobre dataset de pruebas\n",
    "dapply$score <- predict(modelo, dapply, type = 'response')$predictions[,2]\n",
    "\n",
    "#Selecciono los que estan por encima del umbral\n",
    "dapply$Predicted <- dapply$score > 1/40\n",
    "\n",
    "\n",
    "fwrite( dapply[ , list(numero_de_cliente, Predicted) ], #solo los campos para Kaggle\n",
    "        file= \"./exp/RANGER.csv\", \n",
    "        sep= \",\" )"
   ]
  },
  {
   "cell_type": "code",
   "execution_count": 1,
   "metadata": {
    "vscode": {
     "languageId": "r"
    }
   },
   "outputs": [
    {
     "ename": "ERROR",
     "evalue": "Error in importance(modelo): no se pudo encontrar la función \"importance\"\n",
     "output_type": "error",
     "traceback": [
      "Error in importance(modelo): no se pudo encontrar la función \"importance\"\nTraceback:\n",
      "1. barplot(sort(importance(modelo), decreasing = TRUE)[1:15], horiz = TRUE)",
      "2. sort(importance(modelo), decreasing = TRUE)"
     ]
    }
   ],
   "source": [
    "par(las=2,mar=c(5,15,4,2))\n",
    "barplot(sort(importance(modelo),decreasing=TRUE)[1:15],horiz=TRUE)"
   ]
  },
  {
   "cell_type": "code",
   "execution_count": null,
   "metadata": {
    "vscode": {
     "languageId": "r"
    }
   },
   "outputs": [],
   "source": []
  }
 ],
 "metadata": {
  "kernelspec": {
   "display_name": "R",
   "language": "R",
   "name": "ir"
  },
  "language_info": {
   "codemirror_mode": "r",
   "file_extension": ".r",
   "mimetype": "text/x-r-source",
   "name": "R",
   "pygments_lexer": "r",
   "version": "4.2.1"
  },
  "papermill": {
   "duration": 216.919775,
   "end_time": "2020-09-04T19:04:21.680072",
   "environment_variables": {},
   "exception": null,
   "input_path": "__notebook__.ipynb",
   "output_path": "__notebook__.ipynb",
   "parameters": {},
   "start_time": "2020-09-04T19:00:44.760297",
   "version": "2.1.2"
  },
  "vscode": {
   "interpreter": {
    "hash": "0b87cd2a2c92c59199cd604023601109306b45cac2bd778b8aa97bbc69631231"
   }
  }
 },
 "nbformat": 4,
 "nbformat_minor": 4
}
