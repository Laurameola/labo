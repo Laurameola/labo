{
 "cells": [
  {
   "cell_type": "code",
   "execution_count": 1,
   "id": "8fb791cf-58f1-4863-b047-b4883f45b1d3",
   "metadata": {},
   "outputs": [],
   "source": [
    "library( \"data.table\")   \n",
    "library(ggplot2)\n"
   ]
  },
  {
   "cell_type": "code",
   "execution_count": 2,
   "id": "06ab8505-686a-4af7-af40-faada9755e96",
   "metadata": {},
   "outputs": [],
   "source": [
    "setwd(\"C:/_MCD/Labo1/code\")\n",
    "dataset  <- fread(\"./datasets/comp1/competencia1_2022.csv\")"
   ]
  },
  {
   "cell_type": "markdown",
   "id": "dd761c7b-b9c6-4a50-aa92-4b20562b64a4",
   "metadata": {},
   "source": [
    "## Filas y Columnas"
   ]
  },
  {
   "cell_type": "code",
   "execution_count": 3,
   "id": "6ccb522e-11bf-4e61-8962-db628eb2c93a",
   "metadata": {},
   "outputs": [
    {
     "data": {
      "text/html": [
       "324242"
      ],
      "text/latex": [
       "324242"
      ],
      "text/markdown": [
       "324242"
      ],
      "text/plain": [
       "[1] 324242"
      ]
     },
     "metadata": {},
     "output_type": "display_data"
    },
    {
     "data": {
      "text/html": [
       "155"
      ],
      "text/latex": [
       "155"
      ],
      "text/markdown": [
       "155"
      ],
      "text/plain": [
       "[1] 155"
      ]
     },
     "metadata": {},
     "output_type": "display_data"
    }
   ],
   "source": [
    "nrow(dataset)\n",
    "ncol(dataset)"
   ]
  },
  {
   "cell_type": "markdown",
   "id": "a0ad5ce8-eac2-43a1-9819-568a976362af",
   "metadata": {},
   "source": [
    "### Filas: 4.214.386\n",
    "### Columnas: 155"
   ]
  },
  {
   "cell_type": "code",
   "execution_count": 4,
   "id": "a4636741-479c-46b1-9857-28b5d30d9573",
   "metadata": {},
   "outputs": [],
   "source": [
    "#convierto foto_mes a caracter para los graficos\n",
    "dataset[, foto_mes:=as.character(foto_mes)]"
   ]
  },
  {
   "cell_type": "code",
   "execution_count": 5,
   "id": "086ae5ee-d711-46a0-8dc0-97f1165629c6",
   "metadata": {},
   "outputs": [
    {
     "data": {
      "text/html": [
       "162121"
      ],
      "text/latex": [
       "162121"
      ],
      "text/markdown": [
       "162121"
      ],
      "text/plain": [
       "[1] 162121"
      ]
     },
     "metadata": {},
     "output_type": "display_data"
    },
    {
     "data": {
      "text/html": [
       "'202101'"
      ],
      "text/latex": [
       "'202101'"
      ],
      "text/markdown": [
       "'202101'"
      ],
      "text/plain": [
       "[1] \"202101\""
      ]
     },
     "metadata": {},
     "output_type": "display_data"
    },
    {
     "data": {
      "text/html": [
       "'202103'"
      ],
      "text/latex": [
       "'202103'"
      ],
      "text/markdown": [
       "'202103'"
      ],
      "text/plain": [
       "[1] \"202103\""
      ]
     },
     "metadata": {},
     "output_type": "display_data"
    },
    {
     "data": {
      "text/html": [
       "2"
      ],
      "text/latex": [
       "2"
      ],
      "text/markdown": [
       "2"
      ],
      "text/plain": [
       "[1] 2"
      ]
     },
     "metadata": {},
     "output_type": "display_data"
    }
   ],
   "source": [
    "mesCant <- dataset[ , .N, foto_mes ]\n",
    "round(mean(mesCant[,N]))\n",
    "min(mesCant[,foto_mes])\n",
    "max(mesCant[,foto_mes])\n",
    "nrow(mesCant)"
   ]
  },
  {
   "cell_type": "markdown",
   "id": "b0022d85-259d-40fd-ad05-beb54d27c0ff",
   "metadata": {},
   "source": [
    "### Clientes Promedio x mes: 145.324\n",
    "### Primer mes: 201901\n",
    "### Último mes (a evaluar): 202105"
   ]
  },
  {
   "cell_type": "code",
   "execution_count": 6,
   "id": "4576ee35-cc51-4914-b84d-85243d68f603",
   "metadata": {},
   "outputs": [
    {
     "data": {
      "image/png": "[encoded data removed]",
      "text/plain": [
       "plot without title"
      ]
     },
     "metadata": {
      "image/png": {
       "height": 420,
       "width": 420
      }
     },
     "output_type": "display_data"
    }
   ],
   "source": [
    "barplot(N ~ foto_mes,mesCant)"
   ]
  },
  {
   "cell_type": "markdown",
   "id": "03c91f2e-2c8c-48eb-b83e-05548a61b7c1",
   "metadata": {},
   "source": [
    "Se observa que mes a mes crece la cantidad de clientes"
   ]
  },
  {
   "cell_type": "code",
   "execution_count": 7,
   "id": "f3a67738-9c74-4c98-9a53-b98e4a91b970",
   "metadata": {},
   "outputs": [],
   "source": [
    "cantMesClase <- dataset[,.N,list(foto_mes,clase_ternaria)]"
   ]
  },
  {
   "cell_type": "code",
   "execution_count": 8,
   "id": "a35e58b6-3393-45fb-afc3-4b52d30c9e49",
   "metadata": {},
   "outputs": [
    {
     "data": {
      "image/png": "[encoded data removed]",
      "text/plain": [
       "plot without title"
      ]
     },
     "metadata": {
      "image/png": {
       "height": 420,
       "width": 420
      }
     },
     "output_type": "display_data"
    }
   ],
   "source": [
    "barplot(N ~ foto_mes,cantMesClase[clase_ternaria==\"CONTINUA\"],col=\"lightgreen\")"
   ]
  },
  {
   "cell_type": "code",
   "execution_count": 9,
   "id": "8260bc99-11fc-4126-9160-05b0e308f8c9",
   "metadata": {},
   "outputs": [
    {
     "data": {
      "image/png": "[encoded data removed]",
      "text/plain": [
       "plot without title"
      ]
     },
     "metadata": {
      "image/png": {
       "height": 420,
       "width": 420
      }
     },
     "output_type": "display_data"
    }
   ],
   "source": [
    "barplot(N ~ foto_mes,cantMesClase[clase_ternaria==\"BAJA+1\"],col=\"orange\")"
   ]
  },
  {
   "cell_type": "code",
   "execution_count": 10,
   "id": "e8a4e3af-c53c-45f2-8246-da4b2839fbb6",
   "metadata": {},
   "outputs": [
    {
     "data": {
      "image/png": "[encoded data removed]",
      "text/plain": [
       "plot without title"
      ]
     },
     "metadata": {
      "image/png": {
       "height": 420,
       "width": 420
      }
     },
     "output_type": "display_data"
    }
   ],
   "source": [
    "barplot(N ~ foto_mes,cantMesClase[clase_ternaria==\"BAJA+2\"],col=\"red\")"
   ]
  },
  {
   "cell_type": "code",
   "execution_count": 11,
   "id": "0d988a29-1142-4dc4-8c3e-e901c1599d1f",
   "metadata": {},
   "outputs": [],
   "source": [
    "#cantMesClase\n",
    "cantMesClase[,clase_ternaria:=ifelse(clase_ternaria==\"\",\"NADA\",clase_ternaria)]\n",
    "cantMesClase[,clase_ternaria:=ifelse(clase_ternaria==\"BAJA+1\",\"BAJA_1\",clase_ternaria)]\n",
    "cantMesClase[,clase_ternaria:=ifelse(clase_ternaria==\"BAJA+2\",\"BAJA_2\",clase_ternaria)]\n",
    "\n",
    "aplanada <- dcast(cantMesClase, foto_mes ~ clase_ternaria, value.var=\"N\")\n",
    "aplanada[,TOTAL:=rowSums( cbind( BAJA_1,BAJA_2,CONTINUA,NADA) , na.rm=TRUE)]\n",
    "aplanada[is.na(aplanada), ] <- 0   "
   ]
  },
  {
   "cell_type": "code",
   "execution_count": 12,
   "id": "18e57f49-e396-44d7-8da9-6a894c81a367",
   "metadata": {},
   "outputs": [
    {
     "data": {
      "text/html": [
       "<table class=\"dataframe\">\n",
       "<caption>A data.table: 2 × 10</caption>\n",
       "<thead>\n",
       "\t<tr><th scope=col>foto_mes</th><th scope=col>BAJA_1</th><th scope=col>BAJA_2</th><th scope=col>CONTINUA</th><th scope=col>NADA</th><th scope=col>TOTAL</th><th scope=col>prop_BAJA_1</th><th scope=col>prop_BAJA_2</th><th scope=col>prop_CONTINUA</th><th scope=col>prop_NADA</th></tr>\n",
       "\t<tr><th scope=col>&lt;chr&gt;</th><th scope=col>&lt;dbl&gt;</th><th scope=col>&lt;dbl&gt;</th><th scope=col>&lt;dbl&gt;</th><th scope=col>&lt;dbl&gt;</th><th scope=col>&lt;dbl&gt;</th><th scope=col>&lt;dbl&gt;</th><th scope=col>&lt;dbl&gt;</th><th scope=col>&lt;dbl&gt;</th><th scope=col>&lt;dbl&gt;</th></tr>\n",
       "</thead>\n",
       "<tbody>\n",
       "\t<tr><td>202101</td><td>664</td><td>850</td><td>159828</td><td>     0</td><td>161342</td><td>0.4115481</td><td>0.5268312</td><td>99.06162</td><td>  0</td></tr>\n",
       "\t<tr><td>202103</td><td>  0</td><td>  0</td><td>     0</td><td>162900</td><td>162900</td><td>0.0000000</td><td>0.0000000</td><td> 0.00000</td><td>100</td></tr>\n",
       "</tbody>\n",
       "</table>\n"
      ],
      "text/latex": [
       "A data.table: 2 × 10\n",
       "\\begin{tabular}{llllllllll}\n",
       " foto\\_mes & BAJA\\_1 & BAJA\\_2 & CONTINUA & NADA & TOTAL & prop\\_BAJA\\_1 & prop\\_BAJA\\_2 & prop\\_CONTINUA & prop\\_NADA\\\\\n",
       " <chr> & <dbl> & <dbl> & <dbl> & <dbl> & <dbl> & <dbl> & <dbl> & <dbl> & <dbl>\\\\\n",
       "\\hline\n",
       "\t 202101 & 664 & 850 & 159828 &      0 & 161342 & 0.4115481 & 0.5268312 & 99.06162 &   0\\\\\n",
       "\t 202103 &   0 &   0 &      0 & 162900 & 162900 & 0.0000000 & 0.0000000 &  0.00000 & 100\\\\\n",
       "\\end{tabular}\n"
      ],
      "text/markdown": [
       "\n",
       "A data.table: 2 × 10\n",
       "\n",
       "| foto_mes &lt;chr&gt; | BAJA_1 &lt;dbl&gt; | BAJA_2 &lt;dbl&gt; | CONTINUA &lt;dbl&gt; | NADA &lt;dbl&gt; | TOTAL &lt;dbl&gt; | prop_BAJA_1 &lt;dbl&gt; | prop_BAJA_2 &lt;dbl&gt; | prop_CONTINUA &lt;dbl&gt; | prop_NADA &lt;dbl&gt; |\n",
       "|---|---|---|---|---|---|---|---|---|---|\n",
       "| 202101 | 664 | 850 | 159828 |      0 | 161342 | 0.4115481 | 0.5268312 | 99.06162 |   0 |\n",
       "| 202103 |   0 |   0 |      0 | 162900 | 162900 | 0.0000000 | 0.0000000 |  0.00000 | 100 |\n",
       "\n"
      ],
      "text/plain": [
       "  foto_mes BAJA_1 BAJA_2 CONTINUA NADA   TOTAL  prop_BAJA_1 prop_BAJA_2\n",
       "1 202101   664    850    159828        0 161342 0.4115481   0.5268312  \n",
       "2 202103     0      0         0   162900 162900 0.0000000   0.0000000  \n",
       "  prop_CONTINUA prop_NADA\n",
       "1 99.06162        0      \n",
       "2  0.00000      100      "
      ]
     },
     "metadata": {},
     "output_type": "display_data"
    }
   ],
   "source": [
    "aplanada[,prop_BAJA_1:=100*(BAJA_1/TOTAL)]\n",
    "aplanada[,prop_BAJA_2:=100*(BAJA_2/TOTAL)]\n",
    "aplanada[,prop_CONTINUA:=100*(CONTINUA/TOTAL)]\n",
    "aplanada[,prop_NADA:=100*(NADA/TOTAL)]\n",
    "\n",
    "aplanada"
   ]
  },
  {
   "cell_type": "markdown",
   "id": "8fa588be-a178-4207-be8b-8b4027ea3212",
   "metadata": {},
   "source": [
    "### Mes 202105 sin datos sobre ternaria\n",
    "### Mes 202104 solamente con datos BAJA+1"
   ]
  }
 ],
 "metadata": {
  "kernelspec": {
   "display_name": "R",
   "language": "R",
   "name": "ir"
  },
  "language_info": {
   "codemirror_mode": "r",
   "file_extension": ".r",
   "mimetype": "text/x-r-source",
   "name": "R",
   "pygments_lexer": "r",
   "version": "4.2.1"
  }
 },
 "nbformat": 4,
 "nbformat_minor": 5
}
