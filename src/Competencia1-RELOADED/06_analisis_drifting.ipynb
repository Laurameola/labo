{
 "cells": [
  {
   "cell_type": "code",
   "execution_count": 1,
   "id": "4360d714-798c-4fbe-8233-f6a441e27406",
   "metadata": {},
   "outputs": [
    {
     "data": {
      "text/html": [
       "<table class=\"dataframe\">\n",
       "<caption>A matrix: 2 × 6 of type dbl</caption>\n",
       "<thead>\n",
       "\t<tr><th></th><th scope=col>used</th><th scope=col>(Mb)</th><th scope=col>gc trigger</th><th scope=col>(Mb)</th><th scope=col>max used</th><th scope=col>(Mb)</th></tr>\n",
       "</thead>\n",
       "<tbody>\n",
       "\t<tr><th scope=row>Ncells</th><td> 604568</td><td>32.3</td><td>1292120</td><td>69.1</td><td>1292120</td><td>69.1</td></tr>\n",
       "\t<tr><th scope=row>Vcells</th><td>1087066</td><td> 8.3</td><td>8388608</td><td>64.0</td><td>1632674</td><td>12.5</td></tr>\n",
       "</tbody>\n",
       "</table>\n"
      ],
      "text/latex": [
       "A matrix: 2 × 6 of type dbl\n",
       "\\begin{tabular}{r|llllll}\n",
       "  & used & (Mb) & gc trigger & (Mb) & max used & (Mb)\\\\\n",
       "\\hline\n",
       "\tNcells &  604568 & 32.3 & 1292120 & 69.1 & 1292120 & 69.1\\\\\n",
       "\tVcells & 1087066 &  8.3 & 8388608 & 64.0 & 1632674 & 12.5\\\\\n",
       "\\end{tabular}\n"
      ],
      "text/markdown": [
       "\n",
       "A matrix: 2 × 6 of type dbl\n",
       "\n",
       "| <!--/--> | used | (Mb) | gc trigger | (Mb) | max used | (Mb) |\n",
       "|---|---|---|---|---|---|---|\n",
       "| Ncells |  604568 | 32.3 | 1292120 | 69.1 | 1292120 | 69.1 |\n",
       "| Vcells | 1087066 |  8.3 | 8388608 | 64.0 | 1632674 | 12.5 |\n",
       "\n"
      ],
      "text/plain": [
       "       used    (Mb) gc trigger (Mb) max used (Mb)\n",
       "Ncells  604568 32.3 1292120    69.1 1292120  69.1\n",
       "Vcells 1087066  8.3 8388608    64.0 1632674  12.5"
      ]
     },
     "metadata": {},
     "output_type": "display_data"
    },
    {
     "name": "stderr",
     "output_type": "stream",
     "text": [
      "Loading required package: data.table\n",
      "\n",
      "Loading required package: scales\n",
      "\n",
      "Loading required package: lightgbm\n",
      "\n",
      "Loading required package: R6\n",
      "\n"
     ]
    }
   ],
   "source": [
    "#limpio la memoria\n",
    "rm( list=ls() )  #remove all objects\n",
    "gc()             #garbage collection\n",
    "\n",
    "require(\"data.table\")\n",
    "require(\"scales\")\n",
    "require(\"lightgbm\")"
   ]
  },
  {
   "cell_type": "code",
   "execution_count": 2,
   "id": "82178bb1-15cd-4b5b-8b30-1d0b074605ff",
   "metadata": {},
   "outputs": [],
   "source": [
    "#Parametros del script\n",
    "setwd(\"C:/_MCD/Labo1/code\")  #Establezco el Working Directory\n",
    "#setwd(\"~/buckets/b1/\")\n",
    "\n",
    "#cargo el dataset\n",
    "dataset  <- fread(\"./datasets/comp1/competencia1_2022.csv\")   #donde entreno# FIN Parametros del script"
   ]
  },
  {
   "cell_type": "code",
   "execution_count": 3,
   "id": "c3430404-6afe-4a61-887b-358f89593a17",
   "metadata": {},
   "outputs": [],
   "source": [
    "graficar_campo  <- function( campo, periodos_analisis )\n",
    "{\n",
    "\n",
    "  #quito de grafico las colas del 5% de las densidades\n",
    "\n",
    "  tb_quantiles  <- data.table( qmin= numeric(),  qmax= numeric() )\n",
    "\n",
    "  for( periodo in periodos_analisis )\n",
    "  {\n",
    "    qu  <- quantile(  dataset[ foto_mes==periodo , get(campo) ] , prob= c(0.05, 0.95), na.rm=TRUE )\n",
    "    tb_quantiles  <- rbind( tb_quantiles, use.names=FALSE, as.list(qu) )\n",
    "  }\n",
    "\n",
    "  xxmin  <- tb_quantiles[ , min( qmin ) ]\n",
    "  xxmax  <- tb_quantiles[ , max( qmax ) ]\n",
    "\n",
    "  yymax  <- 0\n",
    "  for( per in periodos_analisis )\n",
    "  {\n",
    "    den  <- density( dataset[ foto_mes==per, get(campo) ],\n",
    "                     kernel=\"gaussian\", na.rm=TRUE )\n",
    "\n",
    "    mayor  <- max( den$y )\n",
    "    if( mayor > yymax ) yymax <- mayor \n",
    "  }\n",
    "\n",
    "  densidad_A  <- density( dataset[ foto_mes==periodos_analisis[1], get(campo) ],\n",
    "                          kernel=\"gaussian\", na.rm=TRUE )\n",
    "\n",
    "\n",
    "  plot( densidad_A,\n",
    "        col= GLOBAL_colores[1],\n",
    "        xlim= c( xxmin, xxmax ),\n",
    "        ylim= c( 0, yymax ),\n",
    "        main= paste0( campo  ) \n",
    "      )\n",
    "\n",
    "  for( per in 2:length(periodos_analisis) )\n",
    "  {\n",
    "    densidad_B  <- density( dataset[ foto_mes==periodos_analisis[ per ], get(campo) ],\n",
    "                            kernel=\"gaussian\", na.rm=TRUE )\n",
    "\n",
    "    lines(densidad_B, col= GLOBAL_colores[per], lty=1)\n",
    "  }\n",
    "  \n",
    "  legend(  \"topright\",  \n",
    "           legend= periodos_analisis,\n",
    "           col=GLOBAL_colores, lty=1 )\n",
    "\n",
    "}"
   ]
  },
  {
   "cell_type": "code",
   "execution_count": 4,
   "id": "0d097741-d9fd-4c67-bc21-5b2d630d4122",
   "metadata": {},
   "outputs": [],
   "source": [
    "kexperimento <- \"comp1-EDA\"\n",
    "#creo la carpeta donde va el experimento\n",
    "dir.create( paste0( \"./exp/\", kexperimento, \"/\"), showWarnings = FALSE )\n",
    "setwd(paste0( \"./exp/\", kexperimento, \"/\"))   #Establezco el Working Directory DEL EXPERIMENTO\n"
   ]
  },
  {
   "cell_type": "code",
   "execution_count": 5,
   "id": "9a1716ad-4cb3-4d67-828d-33e3ded916ba",
   "metadata": {},
   "outputs": [],
   "source": [
    "#creo la clase_binaria SI={ BAJA+1, BAJA+2 }    NO={ CONTINUA }\n",
    "dataset[ foto_mes<=202103, \n",
    "         clase01 :=  ifelse( clase_ternaria==\"CONTINUA\", 0, 1 ) ]\n",
    "\n",
    "dataset[  , foto_mes := as.character( foto_mes ) ]"
   ]
  },
  {
   "cell_type": "code",
   "execution_count": 6,
   "id": "29c59012-2bfb-43ff-b1c8-b1c7754ec81c",
   "metadata": {},
   "outputs": [],
   "source": [
    "#Se toman estos campos de otro script que hizo el entrenamiento con unos HP buenos\n",
    "campos_ordenados <- c(\"ctrx_quarter\",\"cpayroll_trx\",\"mcaja_ahorro\",\"mpayroll\",\"mcuentas_saldo\",\"mpasivos_margen\",\"mtarjeta_visa_consumo\",\"mprestamos_personales\",\"mrentabilidad_annual\",\"mcuenta_corriente\",\"mactivos_margen\",\"active_quarter\",\"ctarjeta_visa_transacciones\",\"cprestamos_personales\",\"Visa_fechaalta\",\"mcomisiones_mantenimiento\",\"cdescubierto_preacordado\",\"Visa_status\",\"Visa_mpagominimo\",\"Master_fechaalta\",\"cliente_edad\",\"mrentabilidad\",\"Master_Fvencimiento\",\"Visa_msaldototal\",\"numero_de_cliente\",\"Visa_Fvencimiento\",\"cproductos\",\"cliente_antiguedad\",\"ctarjeta_master\",\"Visa_msaldopesos\",\"ccaja_seguridad\",\"Master_mfinanciacion_limite\",\"mcuenta_debitos_automaticos\",\"Master_status\",\"mtransferencias_recibidas\",\"chomebanking_transacciones\",\"ccomisiones_mantenimiento\",\"mautoservicio\",\"ccajas_consultas\",\"mtarjeta_master_consumo\",\"ccomisiones_otras\",\"Visa_cconsumos\",\"Visa_mfinanciacion_limite\",\"mcaja_ahorro_dolares\",\"mttarjeta_visa_debitos_automaticos\",\"mcomisiones_otras\",\"mcomisiones\",\"Visa_mpagospesos\",\"Visa_mconsumospesos\",\"Master_mlimitecompra\",\"ccallcenter_transacciones\",\"thomebanking\",\"ccaja_ahorro\",\"tcallcenter\",\"Visa_mlimitecompra\",\"ctransferencias_recibidas\",\"Master_msaldototal\",\"Master_fultimo_cierre\",\"cmobile_app_trx\",\"mtransferencias_emitidas\",\"ctarjeta_debito_transacciones\",\"mpagomiscuentas\",\"Visa_fultimo_cierre\",\"ctarjeta_visa_debitos_automaticos\",\"Master_msaldopesos\",\"Visa_mconsumosdolares\",\"ctarjeta_visa\",\"ctarjeta_master_transacciones\",\"Visa_mconsumototal\",\"Master_mconsumospesos\",\"mplazo_fijo_dolares\",\"ctarjeta_debito\",\"Master_mpagominimo\",\"Master_mpagospesos\",\"ccuenta_debitos_automaticos\",\"ctransferencias_emitidas\",\"mextraccion_autoservicio\",\"Visa_mpagado\",\"ccajas_transacciones\",\"cextraccion_autoservicio\",\"cpagomiscuentas\",\"Master_cconsumos\",\"Visa_msaldodolares\",\"matm_other\",\"Master_mconsumototal\",\"matm\",\"ccajas_otras\",\"catm_trx\",\"cseguro_vida\",\"ccajas_depositos\",\"ccajas_extracciones\",\"cinversion1\",\"mcheques_depositados\",\"mttarjeta_master_debitos_automaticos\",\"Visa_mpagosdolares\",\"cplazo_fijo\",\"Master_madelantopesos\",\"Master_mpagado\",\"cseguro_accidentes_personales\",\"mforex_sell\",\"catm_trx_other\",\"Master_mpagosdolares\",\"Master_mconsumosdolares\",\"cseguro_vivienda\",\"mcaja_ahorro_adicional\",\"Visa_Finiciomora\",\"minversion2\",\"cinversion2\",\"ctarjeta_master_debitos_automaticos\",\"ccheques_emitidos\",\"Visa_delinquency\",\"Master_msaldodolares\",\"mcheques_emitidos\",\"Master_cadelantosefectivo\",\"Master_delinquency\",\"ccheques_depositados\",\"Visa_madelantopesos\",\"mtarjeta_visa_descuentos\",\"Visa_cadelantosefectivo\",\"Visa_madelantodolares\",\"cforex\",\"cliente_vip\",\"tcuentas\",\"ccuenta_corriente\",\"mcuenta_corriente_adicional\",\"cprestamos_prendarios\",\"mprestamos_prendarios\",\"cprestamos_hipotecarios\",\"mprestamos_hipotecarios\",\"mplazo_fijo_pesos\",\"minversion1_pesos\",\"minversion1_dolares\",\"cseguro_auto\",\"mpayroll2\",\"cpayroll2_trx\",\"cpagodeservicios\",\"mpagodeservicios\",\"ccajeros_propios_descuentos\",\"mcajeros_propios_descuentos\",\"ctarjeta_visa_descuentos\",\"ctarjeta_master_descuentos\",\"mtarjeta_master_descuentos\",\"cforex_buy\",\"mforex_buy\",\"cforex_sell\",\"ccheques_depositados_rechazados\",\"mcheques_depositados_rechazados\",\"ccheques_emitidos_rechazados\",\"mcheques_emitidos_rechazados\",\"Master_Finiciomora\",\"Master_madelantodolares\")"
   ]
  },
  {
   "cell_type": "code",
   "execution_count": 7,
   "id": "0a72879e-b7a8-4023-b5af-946cde0cf6c3",
   "metadata": {},
   "outputs": [],
   "source": [
    "periodos_analisis  <- c( 202101, 202103 )\n",
    "GLOBAL_colores <-  viridis_pal()(length( periodos_analisis ) )"
   ]
  },
  {
   "cell_type": "code",
   "execution_count": 8,
   "id": "8b159a7c-dc63-4305-a37f-66e6677c0a12",
   "metadata": {},
   "outputs": [
    {
     "name": "stdout",
     "output_type": "stream",
     "text": [
      "ctrx_quarter   cpayroll_trx   mcaja_ahorro   mpayroll   mcuentas_saldo   mpasivos_margen   mtarjeta_visa_consumo   mprestamos_personales   mrentabilidad_annual   mcuenta_corriente   mactivos_margen   active_quarter   ctarjeta_visa_transacciones   cprestamos_personales   Visa_fechaalta   mcomisiones_mantenimiento   cdescubierto_preacordado   Visa_status   Visa_mpagominimo   Master_fechaalta   cliente_edad   mrentabilidad   Master_Fvencimiento   Visa_msaldototal   numero_de_cliente   Visa_Fvencimiento   cproductos   cliente_antiguedad   ctarjeta_master   Visa_msaldopesos   ccaja_seguridad   Master_mfinanciacion_limite   mcuenta_debitos_automaticos   Master_status   mtransferencias_recibidas   chomebanking_transacciones   ccomisiones_mantenimiento   mautoservicio   ccajas_consultas   mtarjeta_master_consumo   ccomisiones_otras   Visa_cconsumos   Visa_mfinanciacion_limite   mcaja_ahorro_dolares   mttarjeta_visa_debitos_automaticos   mcomisiones_otras   mcomisiones   Visa_mpagospesos   Visa_mconsumospesos   Master_mlimitecompra   ccallcenter_transacciones   thomebanking   ccaja_ahorro   tcallcenter   Visa_mlimitecompra   ctransferencias_recibidas   Master_msaldototal   Master_fultimo_cierre   cmobile_app_trx   mtransferencias_emitidas   ctarjeta_debito_transacciones   mpagomiscuentas   Visa_fultimo_cierre   ctarjeta_visa_debitos_automaticos   Master_msaldopesos   Visa_mconsumosdolares   ctarjeta_visa   ctarjeta_master_transacciones   Visa_mconsumototal   Master_mconsumospesos   mplazo_fijo_dolares   ctarjeta_debito   Master_mpagominimo   Master_mpagospesos   ccuenta_debitos_automaticos   ctransferencias_emitidas   mextraccion_autoservicio   Visa_mpagado   ccajas_transacciones   cextraccion_autoservicio   cpagomiscuentas   Master_cconsumos   Visa_msaldodolares   matm_other   Master_mconsumototal   matm   ccajas_otras   catm_trx   cseguro_vida   ccajas_depositos   ccajas_extracciones   cinversion1   mcheques_depositados   mttarjeta_master_debitos_automaticos   Visa_mpagosdolares   cplazo_fijo   Master_madelantopesos   Master_mpagado   cseguro_accidentes_personales   mforex_sell   catm_trx_other   Master_mpagosdolares   Master_mconsumosdolares   cseguro_vivienda   mcaja_ahorro_adicional   Visa_Finiciomora   minversion2   cinversion2   ctarjeta_master_debitos_automaticos   ccheques_emitidos   Visa_delinquency   Master_msaldodolares   mcheques_emitidos   Master_cadelantosefectivo   Master_delinquency   ccheques_depositados   Visa_madelantopesos   mtarjeta_visa_descuentos   Visa_cadelantosefectivo   Visa_madelantodolares   cforex   cliente_vip   tcuentas   ccuenta_corriente   mcuenta_corriente_adicional   cprestamos_prendarios   mprestamos_prendarios   cprestamos_hipotecarios   mprestamos_hipotecarios   mplazo_fijo_pesos   minversion1_pesos   minversion1_dolares   cseguro_auto   mpayroll2   cpayroll2_trx   cpagodeservicios   mpagodeservicios   ccajeros_propios_descuentos   mcajeros_propios_descuentos   ctarjeta_visa_descuentos   ctarjeta_master_descuentos   mtarjeta_master_descuentos   cforex_buy   mforex_buy   cforex_sell   ccheques_depositados_rechazados   mcheques_depositados_rechazados   ccheques_emitidos_rechazados   mcheques_emitidos_rechazados   Master_Finiciomora   Master_madelantodolares   "
     ]
    },
    {
     "data": {
      "text/html": [
       "<strong>png:</strong> 2"
      ],
      "text/latex": [
       "\\textbf{png:} 2"
      ],
      "text/markdown": [
       "**png:** 2"
      ],
      "text/plain": [
       "png \n",
       "  2 "
      ]
     },
     "metadata": {},
     "output_type": "display_data"
    }
   ],
   "source": [
    "pdf(\"densidades_originales.pdf\")\n",
    "\n",
    "for( campo in  campos_ordenados )\n",
    "{\n",
    "  cat( campo, \"  \" )\n",
    "\n",
    "  graficar_campo( campo, periodos_analisis )\n",
    "}\n",
    "\n",
    "dev.off()"
   ]
  }
 ],
 "metadata": {
  "kernelspec": {
   "display_name": "R",
   "language": "R",
   "name": "ir"
  },
  "language_info": {
   "codemirror_mode": "r",
   "file_extension": ".r",
   "mimetype": "text/x-r-source",
   "name": "R",
   "pygments_lexer": "r",
   "version": "4.2.1"
  }
 },
 "nbformat": 4,
 "nbformat_minor": 5
}
