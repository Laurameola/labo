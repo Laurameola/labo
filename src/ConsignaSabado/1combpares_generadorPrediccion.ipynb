{
 "cells": [
  {
   "cell_type": "markdown",
   "metadata": {},
   "source": [
    "## Generador de Prediccion Estandar"
   ]
  },
  {
   "cell_type": "code",
   "execution_count": 15,
   "metadata": {},
   "outputs": [
    {
     "data": {
      "text/html": [
       "<table class=\"dataframe\">\n",
       "<caption>A matrix: 2 × 6 of type dbl</caption>\n",
       "<thead>\n",
       "\t<tr><th></th><th scope=col>used</th><th scope=col>(Mb)</th><th scope=col>gc trigger</th><th scope=col>(Mb)</th><th scope=col>max used</th><th scope=col>(Mb)</th></tr>\n",
       "</thead>\n",
       "<tbody>\n",
       "\t<tr><th scope=row>Ncells</th><td> 734635</td><td>39.3</td><td> 1292120</td><td> 69.1</td><td> 1292120</td><td> 69.1</td></tr>\n",
       "\t<tr><th scope=row>Vcells</th><td>1355888</td><td>10.4</td><td>79865702</td><td>609.4</td><td>82311621</td><td>628.0</td></tr>\n",
       "</tbody>\n",
       "</table>\n"
      ],
      "text/latex": [
       "A matrix: 2 × 6 of type dbl\n",
       "\\begin{tabular}{r|llllll}\n",
       "  & used & (Mb) & gc trigger & (Mb) & max used & (Mb)\\\\\n",
       "\\hline\n",
       "\tNcells &  734635 & 39.3 &  1292120 &  69.1 &  1292120 &  69.1\\\\\n",
       "\tVcells & 1355888 & 10.4 & 79865702 & 609.4 & 82311621 & 628.0\\\\\n",
       "\\end{tabular}\n"
      ],
      "text/markdown": [
       "\n",
       "A matrix: 2 × 6 of type dbl\n",
       "\n",
       "| <!--/--> | used | (Mb) | gc trigger | (Mb) | max used | (Mb) |\n",
       "|---|---|---|---|---|---|---|\n",
       "| Ncells |  734635 | 39.3 |  1292120 |  69.1 |  1292120 |  69.1 |\n",
       "| Vcells | 1355888 | 10.4 | 79865702 | 609.4 | 82311621 | 628.0 |\n",
       "\n"
      ],
      "text/plain": [
       "       used    (Mb) gc trigger (Mb)  max used (Mb) \n",
       "Ncells  734635 39.3  1292120    69.1  1292120  69.1\n",
       "Vcells 1355888 10.4 79865702   609.4 82311621 628.0"
      ]
     },
     "metadata": {},
     "output_type": "display_data"
    }
   ],
   "source": [
    "#Se limpia la memoria\n",
    "rm(list=ls())\n",
    "gc()"
   ]
  },
  {
   "cell_type": "code",
   "execution_count": 16,
   "metadata": {},
   "outputs": [],
   "source": [
    "semilla <- 100019\n",
    "set.seed(semilla)"
   ]
  },
  {
   "cell_type": "code",
   "execution_count": 17,
   "metadata": {},
   "outputs": [],
   "source": [
    "#cargo las librerias que necesito\n",
    "require(\"data.table\")\n",
    "require(\"rpart\")\n",
    "require(\"rpart.plot\")\n",
    "#Contiene funciones para evaluar performance de la clasificación\n",
    "library(\"ROCR\")"
   ]
  },
  {
   "cell_type": "code",
   "execution_count": 18,
   "metadata": {},
   "outputs": [],
   "source": [
    "setwd(\"C:/_MCD/Labo1/code\")  #Establezco el Working Directory"
   ]
  },
  {
   "cell_type": "code",
   "execution_count": 19,
   "metadata": {},
   "outputs": [],
   "source": [
    "dataset  <- fread(\"./datasets/competencia1_2022_FE_combPares.csv\")"
   ]
  },
  {
   "cell_type": "code",
   "execution_count": 20,
   "metadata": {},
   "outputs": [],
   "source": [
    "dtrain  <- dataset[ foto_mes==202101 ]  #defino donde voy a entrenar\n",
    "dapply  <- dataset[ foto_mes==202103 ]  #defino donde voy a aplicar el modelo"
   ]
  },
  {
   "cell_type": "code",
   "execution_count": 21,
   "metadata": {},
   "outputs": [],
   "source": [
    "modelo  <- rpart(formula=    \"clase_ternaria ~ .\", #quiero predecir clase_ternaria a partir de el resto de las variables\n",
    "                 data =      dtrain,  #los datos donde voy a entrenar\n",
    "                 xval=       0,\n",
    "                 cp=        -0.709, #esto significa no limitar la complejidad de los splits\n",
    "                 minsplit= 1414,   #minima cantidad de registros para que se haga el split\n",
    "                 minbucket=  137,   #tamaño minimo de una hoja\n",
    "                 maxdepth=  8 )  #PRUEBO  una profundidad de 10"
   ]
  },
  {
   "cell_type": "markdown",
   "metadata": {},
   "source": [
    "Ahora grafico el arbol, va a ser muy frondoso porque la profundidad es de 10"
   ]
  },
  {
   "cell_type": "code",
   "execution_count": 22,
   "metadata": {},
   "outputs": [],
   "source": [
    "#prp(modelo, extra=101, digits=5, branch=1, type=4, varlen=0, faclen=0)"
   ]
  },
  {
   "cell_type": "markdown",
   "metadata": {},
   "source": [
    "Ahora aplico al modelo  a los datos muevos  y genero la salida para kaggle"
   ]
  },
  {
   "cell_type": "markdown",
   "metadata": {},
   "source": [
    "aplico el modelo a los datos nuevos"
   ]
  },
  {
   "cell_type": "code",
   "execution_count": 23,
   "metadata": {},
   "outputs": [],
   "source": [
    "prediccion  <- predict( modelo, dapply , type = \"prob\") #aplico el modelo"
   ]
  },
  {
   "cell_type": "markdown",
   "metadata": {},
   "source": [
    "prediccion es una matriz con TRES columnas, llamadas \"BAJA+1\", \"BAJA+2\"  y \"CONTINUA\"\n",
    "cada columna es el vector de probabilidades "
   ]
  },
  {
   "cell_type": "markdown",
   "metadata": {},
   "source": [
    "agrego a dapply una columna nueva que es la probabilidad de BAJA+2"
   ]
  },
  {
   "cell_type": "code",
   "execution_count": 24,
   "metadata": {},
   "outputs": [],
   "source": [
    "dapply[ , prob_baja2 := prediccion[, \"BAJA+2\"] ]"
   ]
  },
  {
   "cell_type": "markdown",
   "metadata": {},
   "source": [
    "solo le envio estimulo a los registros con probabilidad de BAJA+2 mayor  a  1/40"
   ]
  },
  {
   "cell_type": "code",
   "execution_count": 25,
   "metadata": {},
   "outputs": [
    {
     "data": {
      "text/html": [
       "<table class=\"dataframe\">\n",
       "<caption>A data.table: 6 × 168</caption>\n",
       "<thead>\n",
       "\t<tr><th scope=col>numero_de_cliente</th><th scope=col>foto_mes</th><th scope=col>active_quarter</th><th scope=col>cliente_vip</th><th scope=col>internet</th><th scope=col>cliente_edad</th><th scope=col>cliente_antiguedad</th><th scope=col>mrentabilidad</th><th scope=col>mrentabilidad_annual</th><th scope=col>mcomisiones</th><th scope=col>⋯</th><th scope=col>minversion12</th><th scope=col>tarj_credito_status</th><th scope=col>tarj_credito_delinquency</th><th scope=col>tarj_credito_mfinanciacion_limite</th><th scope=col>dlg2</th><th scope=col>dlg3</th><th scope=col>dlg4</th><th scope=col>dlg5</th><th scope=col>dlg6</th><th scope=col>prob_baja2</th></tr>\n",
       "\t<tr><th scope=col>&lt;int&gt;</th><th scope=col>&lt;int&gt;</th><th scope=col>&lt;int&gt;</th><th scope=col>&lt;int&gt;</th><th scope=col>&lt;int&gt;</th><th scope=col>&lt;int&gt;</th><th scope=col>&lt;int&gt;</th><th scope=col>&lt;dbl&gt;</th><th scope=col>&lt;dbl&gt;</th><th scope=col>&lt;dbl&gt;</th><th scope=col>⋯</th><th scope=col>&lt;dbl&gt;</th><th scope=col>&lt;int&gt;</th><th scope=col>&lt;int&gt;</th><th scope=col>&lt;dbl&gt;</th><th scope=col>&lt;dbl&gt;</th><th scope=col>&lt;dbl&gt;</th><th scope=col>&lt;dbl&gt;</th><th scope=col>&lt;int&gt;</th><th scope=col>&lt;dbl&gt;</th><th scope=col>&lt;dbl&gt;</th></tr>\n",
       "</thead>\n",
       "<tbody>\n",
       "\t<tr><td>31115668</td><td>202103</td><td>1</td><td>0</td><td>0</td><td>56</td><td>134</td><td>  688.41</td><td> 26701.84</td><td>   98.82</td><td>⋯</td><td>0</td><td> 0</td><td> 0</td><td> 126684.0</td><td>  0.7374627</td><td> -0.2072046</td><td>1</td><td>1</td><td> 184.1434328</td><td>0.0003580883</td></tr>\n",
       "\t<tr><td>31115678</td><td>202103</td><td>1</td><td>0</td><td>0</td><td>48</td><td>102</td><td>   78.43</td><td> 24418.75</td><td>  -73.62</td><td>⋯</td><td>0</td><td>NA</td><td>NA</td><td>      0.0</td><td> -0.7217647</td><td>  3.7465649</td><td>1</td><td>1</td><td>   0.4080392</td><td>0.0003580883</td></tr>\n",
       "\t<tr><td>31117415</td><td>202103</td><td>1</td><td>0</td><td>0</td><td>60</td><td> 55</td><td> 8101.55</td><td>  3162.23</td><td>13399.50</td><td>⋯</td><td>0</td><td> 0</td><td> 0</td><td> 126684.0</td><td>243.6272727</td><td> -2.7542652</td><td>1</td><td>1</td><td>  47.9176364</td><td>0.0011389838</td></tr>\n",
       "\t<tr><td>31117711</td><td>202103</td><td>1</td><td>0</td><td>0</td><td>46</td><td>275</td><td>14825.78</td><td>138050.05</td><td> 1146.27</td><td>⋯</td><td>0</td><td> 0</td><td> 0</td><td>1041435.4</td><td>  4.1682545</td><td>  0.1194800</td><td>1</td><td>1</td><td>1143.0406182</td><td>0.0000000000</td></tr>\n",
       "\t<tr><td>31118145</td><td>202103</td><td>1</td><td>0</td><td>0</td><td>47</td><td>194</td><td> 2015.61</td><td> 31240.49</td><td> 1791.25</td><td>⋯</td><td>0</td><td> 0</td><td> 0</td><td> 139352.4</td><td>  9.2332474</td><td>156.1682650</td><td>1</td><td>1</td><td>  94.0925773</td><td>0.0184352518</td></tr>\n",
       "\t<tr><td>31118204</td><td>202103</td><td>1</td><td>0</td><td>0</td><td>68</td><td>260</td><td>14424.33</td><td> 71750.45</td><td> 3694.07</td><td>⋯</td><td>0</td><td> 0</td><td> 0</td><td> 354715.2</td><td> 14.2079615</td><td>  0.4202348</td><td>1</td><td>1</td><td> -72.2913462</td><td>0.0011389838</td></tr>\n",
       "</tbody>\n",
       "</table>\n"
      ],
      "text/latex": [
       "A data.table: 6 × 168\n",
       "\\begin{tabular}{lllllllllllllllllllll}\n",
       " numero\\_de\\_cliente & foto\\_mes & active\\_quarter & cliente\\_vip & internet & cliente\\_edad & cliente\\_antiguedad & mrentabilidad & mrentabilidad\\_annual & mcomisiones & ⋯ & minversion12 & tarj\\_credito\\_status & tarj\\_credito\\_delinquency & tarj\\_credito\\_mfinanciacion\\_limite & dlg2 & dlg3 & dlg4 & dlg5 & dlg6 & prob\\_baja2\\\\\n",
       " <int> & <int> & <int> & <int> & <int> & <int> & <int> & <dbl> & <dbl> & <dbl> & ⋯ & <dbl> & <int> & <int> & <dbl> & <dbl> & <dbl> & <dbl> & <int> & <dbl> & <dbl>\\\\\n",
       "\\hline\n",
       "\t 31115668 & 202103 & 1 & 0 & 0 & 56 & 134 &   688.41 &  26701.84 &    98.82 & ⋯ & 0 &  0 &  0 &  126684.0 &   0.7374627 &  -0.2072046 & 1 & 1 &  184.1434328 & 0.0003580883\\\\\n",
       "\t 31115678 & 202103 & 1 & 0 & 0 & 48 & 102 &    78.43 &  24418.75 &   -73.62 & ⋯ & 0 & NA & NA &       0.0 &  -0.7217647 &   3.7465649 & 1 & 1 &    0.4080392 & 0.0003580883\\\\\n",
       "\t 31117415 & 202103 & 1 & 0 & 0 & 60 &  55 &  8101.55 &   3162.23 & 13399.50 & ⋯ & 0 &  0 &  0 &  126684.0 & 243.6272727 &  -2.7542652 & 1 & 1 &   47.9176364 & 0.0011389838\\\\\n",
       "\t 31117711 & 202103 & 1 & 0 & 0 & 46 & 275 & 14825.78 & 138050.05 &  1146.27 & ⋯ & 0 &  0 &  0 & 1041435.4 &   4.1682545 &   0.1194800 & 1 & 1 & 1143.0406182 & 0.0000000000\\\\\n",
       "\t 31118145 & 202103 & 1 & 0 & 0 & 47 & 194 &  2015.61 &  31240.49 &  1791.25 & ⋯ & 0 &  0 &  0 &  139352.4 &   9.2332474 & 156.1682650 & 1 & 1 &   94.0925773 & 0.0184352518\\\\\n",
       "\t 31118204 & 202103 & 1 & 0 & 0 & 68 & 260 & 14424.33 &  71750.45 &  3694.07 & ⋯ & 0 &  0 &  0 &  354715.2 &  14.2079615 &   0.4202348 & 1 & 1 &  -72.2913462 & 0.0011389838\\\\\n",
       "\\end{tabular}\n"
      ],
      "text/markdown": [
       "\n",
       "A data.table: 6 × 168\n",
       "\n",
       "| numero_de_cliente &lt;int&gt; | foto_mes &lt;int&gt; | active_quarter &lt;int&gt; | cliente_vip &lt;int&gt; | internet &lt;int&gt; | cliente_edad &lt;int&gt; | cliente_antiguedad &lt;int&gt; | mrentabilidad &lt;dbl&gt; | mrentabilidad_annual &lt;dbl&gt; | mcomisiones &lt;dbl&gt; | ⋯ ⋯ | minversion12 &lt;dbl&gt; | tarj_credito_status &lt;int&gt; | tarj_credito_delinquency &lt;int&gt; | tarj_credito_mfinanciacion_limite &lt;dbl&gt; | dlg2 &lt;dbl&gt; | dlg3 &lt;dbl&gt; | dlg4 &lt;dbl&gt; | dlg5 &lt;int&gt; | dlg6 &lt;dbl&gt; | prob_baja2 &lt;dbl&gt; |\n",
       "|---|---|---|---|---|---|---|---|---|---|---|---|---|---|---|---|---|---|---|---|---|\n",
       "| 31115668 | 202103 | 1 | 0 | 0 | 56 | 134 |   688.41 |  26701.84 |    98.82 | ⋯ | 0 |  0 |  0 |  126684.0 |   0.7374627 |  -0.2072046 | 1 | 1 |  184.1434328 | 0.0003580883 |\n",
       "| 31115678 | 202103 | 1 | 0 | 0 | 48 | 102 |    78.43 |  24418.75 |   -73.62 | ⋯ | 0 | NA | NA |       0.0 |  -0.7217647 |   3.7465649 | 1 | 1 |    0.4080392 | 0.0003580883 |\n",
       "| 31117415 | 202103 | 1 | 0 | 0 | 60 |  55 |  8101.55 |   3162.23 | 13399.50 | ⋯ | 0 |  0 |  0 |  126684.0 | 243.6272727 |  -2.7542652 | 1 | 1 |   47.9176364 | 0.0011389838 |\n",
       "| 31117711 | 202103 | 1 | 0 | 0 | 46 | 275 | 14825.78 | 138050.05 |  1146.27 | ⋯ | 0 |  0 |  0 | 1041435.4 |   4.1682545 |   0.1194800 | 1 | 1 | 1143.0406182 | 0.0000000000 |\n",
       "| 31118145 | 202103 | 1 | 0 | 0 | 47 | 194 |  2015.61 |  31240.49 |  1791.25 | ⋯ | 0 |  0 |  0 |  139352.4 |   9.2332474 | 156.1682650 | 1 | 1 |   94.0925773 | 0.0184352518 |\n",
       "| 31118204 | 202103 | 1 | 0 | 0 | 68 | 260 | 14424.33 |  71750.45 |  3694.07 | ⋯ | 0 |  0 |  0 |  354715.2 |  14.2079615 |   0.4202348 | 1 | 1 |  -72.2913462 | 0.0011389838 |\n",
       "\n"
      ],
      "text/plain": [
       "  numero_de_cliente foto_mes active_quarter cliente_vip internet cliente_edad\n",
       "1 31115668          202103   1              0           0        56          \n",
       "2 31115678          202103   1              0           0        48          \n",
       "3 31117415          202103   1              0           0        60          \n",
       "4 31117711          202103   1              0           0        46          \n",
       "5 31118145          202103   1              0           0        47          \n",
       "6 31118204          202103   1              0           0        68          \n",
       "  cliente_antiguedad mrentabilidad mrentabilidad_annual mcomisiones ⋯\n",
       "1 134                  688.41       26701.84               98.82    ⋯\n",
       "2 102                   78.43       24418.75              -73.62    ⋯\n",
       "3  55                 8101.55        3162.23            13399.50    ⋯\n",
       "4 275                14825.78      138050.05             1146.27    ⋯\n",
       "5 194                 2015.61       31240.49             1791.25    ⋯\n",
       "6 260                14424.33       71750.45             3694.07    ⋯\n",
       "  minversion12 tarj_credito_status tarj_credito_delinquency\n",
       "1 0             0                   0                      \n",
       "2 0            NA                  NA                      \n",
       "3 0             0                   0                      \n",
       "4 0             0                   0                      \n",
       "5 0             0                   0                      \n",
       "6 0             0                   0                      \n",
       "  tarj_credito_mfinanciacion_limite dlg2        dlg3        dlg4 dlg5\n",
       "1  126684.0                           0.7374627  -0.2072046 1    1   \n",
       "2       0.0                          -0.7217647   3.7465649 1    1   \n",
       "3  126684.0                         243.6272727  -2.7542652 1    1   \n",
       "4 1041435.4                           4.1682545   0.1194800 1    1   \n",
       "5  139352.4                           9.2332474 156.1682650 1    1   \n",
       "6  354715.2                          14.2079615   0.4202348 1    1   \n",
       "  dlg6         prob_baja2  \n",
       "1  184.1434328 0.0003580883\n",
       "2    0.4080392 0.0003580883\n",
       "3   47.9176364 0.0011389838\n",
       "4 1143.0406182 0.0000000000\n",
       "5   94.0925773 0.0184352518\n",
       "6  -72.2913462 0.0011389838"
      ]
     },
     "metadata": {},
     "output_type": "display_data"
    }
   ],
   "source": [
    "head(dapply)"
   ]
  },
  {
   "cell_type": "code",
   "execution_count": 26,
   "metadata": {},
   "outputs": [
    {
     "data": {
      "text/html": [
       "162900"
      ],
      "text/latex": [
       "162900"
      ],
      "text/markdown": [
       "162900"
      ],
      "text/plain": [
       "[1] 162900"
      ]
     },
     "metadata": {},
     "output_type": "display_data"
    }
   ],
   "source": [
    "nrow(dapply)"
   ]
  },
  {
   "cell_type": "code",
   "execution_count": 27,
   "metadata": {},
   "outputs": [],
   "source": [
    "dapply[ , Predicted  := as.numeric(prob_baja2 > 1/40) ]"
   ]
  },
  {
   "cell_type": "code",
   "execution_count": 28,
   "metadata": {},
   "outputs": [],
   "source": [
    "fwrite( dapply[,list(numero_de_cliente, Predicted)],\n",
    "        file= \"normal.csv\", \n",
    "        sep= \",\" )"
   ]
  },
  {
   "cell_type": "markdown",
   "metadata": {},
   "source": [
    "creo la carpeta donde va el experimento"
   ]
  },
  {
   "cell_type": "code",
   "execution_count": 29,
   "metadata": {},
   "outputs": [],
   "source": [
    "#dir.create( \"./exp/competencia1\" ) "
   ]
  },
  {
   "cell_type": "markdown",
   "metadata": {},
   "source": [
    "Hago lo mismo con train para evaluar en entrenamiento"
   ]
  },
  {
   "cell_type": "code",
   "execution_count": 30,
   "metadata": {},
   "outputs": [],
   "source": [
    "prediccion  <- predict( modelo, dtrain , type = \"prob\") #aplico el modelo\n",
    "dtrain[ , prob_baja2 := prediccion[, \"BAJA+2\"] ]\n",
    "dtrain[ , Predicted  := as.numeric(prob_baja2 > 1/40) ]"
   ]
  },
  {
   "cell_type": "markdown",
   "metadata": {},
   "source": [
    "### Curva ROC"
   ]
  },
  {
   "cell_type": "code",
   "execution_count": 31,
   "metadata": {},
   "outputs": [],
   "source": [
    "dtrain[, clase := 0]\n",
    "dtrain[ clase_ternaria=='BAJA+2' ,   clase:= 1]"
   ]
  },
  {
   "cell_type": "code",
   "execution_count": 32,
   "metadata": {},
   "outputs": [],
   "source": [
    "#Calculo las metricas\n",
    "pred <- prediction(dtrain$Predicted, dtrain$clase)\n",
    "\n",
    "#Calculo las metricas\n",
    "perf <- performance(pred, measure = \"tpr\", x.measure = \"fpr\")\n",
    "\n",
    "#Grafico la ROC\n",
    "#plot(perf, col=rainbow(10))\n",
    "\n",
    "#Determino AUC\n",
    "#performance( pred,\"auc\")@y.values"
   ]
  },
  {
   "cell_type": "markdown",
   "metadata": {},
   "source": [
    "### Ganancia"
   ]
  },
  {
   "cell_type": "code",
   "execution_count": 33,
   "metadata": {},
   "outputs": [
    {
     "data": {
      "text/html": [
       "-254684000"
      ],
      "text/latex": [
       "-254684000"
      ],
      "text/markdown": [
       "-254684000"
      ],
      "text/plain": [
       "[1] -254684000"
      ]
     },
     "metadata": {},
     "output_type": "display_data"
    },
    {
     "name": "stdout",
     "output_type": "stream",
     "text": [
      "[1] \"La Ganancia es: 22674000\"\n",
      "[1] \"TP: 482\"\n",
      "[1] \"Incentivados: 7943\"\n"
     ]
    }
   ],
   "source": [
    "#Ganancia por TP\n",
    "kTPGain               <-  78000\n",
    "\n",
    "#Pérdida por FP\n",
    "kFPGain               <-  -2000\n",
    "\n",
    "#Calculo la ganancia\n",
    "dtrain[  , ganancia:= kFPGain ] #-1250\n",
    "dtrain[ clase_ternaria=='BAJA+2' ,   ganancia:= kTPGain] #48750\n",
    "sum( dtrain$ganancia )\n",
    "\n",
    "gan <- sum( dtrain[ dtrain$Predicted==1, ganancia] )\n",
    "\n",
    "#TP\n",
    "truepositive <- sum(dtrain$Predicted*dtrain[,clase])\n",
    "\n",
    "#Incentivados Totales\n",
    "incentivados <- sum(dtrain$Predicted)\n",
    "\n",
    "print(paste(\"La Ganancia es:\", gan))\n",
    "print(paste(\"TP:\", truepositive))\n",
    "print(paste(\"Incentivados:\",incentivados))"
   ]
  },
  {
   "cell_type": "markdown",
   "metadata": {},
   "source": [
    "grabo el dataset"
   ]
  },
  {
   "cell_type": "code",
   "execution_count": 34,
   "metadata": {},
   "outputs": [],
   "source": [
    "nombre_archivo_salida <- \"./exp/competencia1/inicial.csv\""
   ]
  },
  {
   "cell_type": "code",
   "execution_count": 35,
   "metadata": {},
   "outputs": [],
   "source": [
    "fwrite( dapply[ , list(numero_de_cliente, Predicted) ], #solo los campos para Kaggle\n",
    "        file= nombre_archivo_salida, \n",
    "        sep= \",\" )"
   ]
  },
  {
   "cell_type": "code",
   "execution_count": 36,
   "metadata": {},
   "outputs": [],
   "source": [
    "options(scipen=999)"
   ]
  },
  {
   "cell_type": "code",
   "execution_count": 37,
   "metadata": {},
   "outputs": [
    {
     "data": {
      "text/plain": [
       "n= 161342 \n",
       "\n",
       "node), split, n, loss, yval, (yprob)\n",
       "      * denotes terminal node\n",
       "\n",
       "  1) root 161342 1514 CONTINUA (0.0041154814 0.0052683120 0.9906162066)  \n",
       "    2) ctrx_quarter< 13.5 8400  711 CONTINUA (0.0347619048 0.0498809524 0.9153571429)  \n",
       "      4) mcuentas_saldo< -1256.1 2928  416 CONTINUA (0.0618169399 0.0802595628 0.8579234973)  \n",
       "        8) cprestamos_personales< 1.5 2328  396 CONTINUA (0.0743127148 0.0957903780 0.8298969072)  \n",
       "         16) cdescubierto_preacordado< 0.5 321  116 CONTINUA (0.1713395639 0.1900311526 0.6386292835) *\n",
       "         17) cdescubierto_preacordado>=0.5 2007  280 CONTINUA (0.0587942202 0.0807174888 0.8604882910)  \n",
       "           34) mpasivos_margen< 8.05 1339  221 CONTINUA (0.0634802091 0.1015683346 0.8349514563) *\n",
       "           35) mpasivos_margen>=8.05 668   59 CONTINUA (0.0494011976 0.0389221557 0.9116766467) *\n",
       "        9) cprestamos_personales>=1.5 600   20 CONTINUA (0.0133333333 0.0200000000 0.9666666667) *\n",
       "      5) mcuentas_saldo>=-1256.1 5472  295 CONTINUA (0.0202850877 0.0336257310 0.9460891813)  \n",
       "       10) dlg6< 2.909213 2157  176 CONTINUA (0.0296708391 0.0519239685 0.9184051924)  \n",
       "         20) mprestamos_personales< 16083.32 1866  174 CONTINUA (0.0332261522 0.0600214362 0.9067524116)  \n",
       "           40) cdescubierto_preacordado< 0.5 252   52 CONTINUA (0.0476190476 0.1587301587 0.7936507937) *\n",
       "           41) cdescubierto_preacordado>=0.5 1614  122 CONTINUA (0.0309789343 0.0446096654 0.9244114002)  \n",
       "             82) Visa_fechaalta>=113.5 1346  120 CONTINUA (0.0371471025 0.0520059435 0.9108469539) *\n",
       "             83) Visa_fechaalta< 113.5 268    2 CONTINUA (0.0000000000 0.0074626866 0.9925373134) *\n",
       "         21) mprestamos_personales>=16083.32 291    2 CONTINUA (0.0068728522 0.0000000000 0.9931271478) *\n",
       "       11) dlg6>=2.909213 3315  119 CONTINUA (0.0141779789 0.0217194570 0.9641025641)  \n",
       "         22) ctarjeta_visa< 0.5 680   45 CONTINUA (0.0176470588 0.0485294118 0.9338235294) *\n",
       "         23) ctarjeta_visa>=0.5 2635   74 CONTINUA (0.0132827324 0.0148007590 0.9719165085)  \n",
       "           46) mpasivos_margen< 168.025 1456   58 CONTINUA (0.0212912088 0.0185439560 0.9601648352)  \n",
       "             92) Visa_fechaalta>=4275.5 161   16 CONTINUA (0.0434782609 0.0559006211 0.9006211180) *\n",
       "             93) Visa_fechaalta< 4275.5 1295   42 CONTINUA (0.0185328185 0.0138996139 0.9675675676) *\n",
       "           47) mpasivos_margen>=168.025 1179   16 CONTINUA (0.0033927057 0.0101781170 0.9864291773) *\n",
       "    3) ctrx_quarter>=13.5 152942  803 CONTINUA (0.0024322946 0.0028180617 0.9947496437)  \n",
       "      6) mv_status01>=8 1374   65 CONTINUA (0.0269286754 0.0203784571 0.9526928675) *\n",
       "      7) mv_status01< 8 151568  738 CONTINUA (0.0022102291 0.0026588726 0.9951308983)  \n",
       "       14) ctrx_quarter< 36.5 14818  372 CONTINUA (0.0122148738 0.0128897287 0.9748953975)  \n",
       "         28) dlg3>=9.024797 1414  111 CONTINUA (0.0452616690 0.0332390382 0.9214992928)  \n",
       "           56) mpasivos_margen< 3.62 207   42 CONTINUA (0.1256038647 0.0772946860 0.7971014493) *\n",
       "           57) mpasivos_margen>=3.62 1207   69 CONTINUA (0.0314830157 0.0256835128 0.9428334714) *\n",
       "         29) dlg3< 9.024797 13404  261 CONTINUA (0.0087287377 0.0107430618 0.9805282005)  \n",
       "           58) mcaja_ahorro< 2231.04 5257  181 CONTINUA (0.0144569146 0.0199733688 0.9655697166)  \n",
       "            116) mprestamos_personales< 14198.98 4196  172 CONTINUA (0.0176358437 0.0233555767 0.9590085796)  \n",
       "              232) mtarjeta_visa_consumo< 4590.285 1762  111 CONTINUA (0.0289443814 0.0340522134 0.9370034052)  \n",
       "                464) Visa_Fvencimiento>=-925.5 356   39 CONTINUA (0.0533707865 0.0561797753 0.8904494382) *\n",
       "                465) Visa_Fvencimiento< -925.5 1406   72 CONTINUA (0.0227596017 0.0284495021 0.9487908962) *\n",
       "              233) mtarjeta_visa_consumo>=4590.285 2434   61 CONTINUA (0.0094494659 0.0156121611 0.9749383730)  \n",
       "                466) chomebanking_transacciones>=1.5 1432   48 CONTINUA (0.0125698324 0.0209497207 0.9664804469) *\n",
       "                467) chomebanking_transacciones< 1.5 1002   13 CONTINUA (0.0049900200 0.0079840319 0.9870259481) *\n",
       "            117) mprestamos_personales>=14198.98 1061    9 CONTINUA (0.0018850141 0.0065975495 0.9915174364) *\n",
       "           59) mcaja_ahorro>=2231.04 8147   80 CONTINUA (0.0050325273 0.0047870382 0.9901804345)  \n",
       "            118) cpayroll_trx< 0.5 5693   77 CONTINUA (0.0070261725 0.0064992096 0.9864746180)  \n",
       "              236) mtarjeta_visa_consumo< 3742.525 2416   59 CONTINUA (0.0136589404 0.0107615894 0.9755794702)  \n",
       "                472) tcallcenter>=0.5 143   10 CONTINUA (0.0629370629 0.0069930070 0.9300699301) *\n",
       "                473) tcallcenter< 0.5 2273   49 CONTINUA (0.0105587330 0.0109986802 0.9784425869) *\n",
       "              237) mtarjeta_visa_consumo>=3742.525 3277   18 CONTINUA (0.0021361001 0.0033567287 0.9945071712)  \n",
       "                474) mtransferencias_emitidas>=9325.35 228    6 CONTINUA (0.0131578947 0.0131578947 0.9736842105) *\n",
       "                475) mtransferencias_emitidas< 9325.35 3049   12 CONTINUA (0.0013119055 0.0026238111 0.9960642834) *\n",
       "            119) cpayroll_trx>=0.5 2454    3 CONTINUA (0.0004074980 0.0008149959 0.9987775061)  \n",
       "              238) mtransferencias_emitidas>=68571.85 144    2 CONTINUA (0.0000000000 0.0138888889 0.9861111111) *\n",
       "              239) mtransferencias_emitidas< 68571.85 2310    1 CONTINUA (0.0004329004 0.0000000000 0.9995670996)  \n",
       "                478) mtarjeta_master_consumo>=3051.455 137    1 CONTINUA (0.0072992701 0.0000000000 0.9927007299) *\n",
       "                479) mtarjeta_master_consumo< 3051.455 2173    0 CONTINUA (0.0000000000 0.0000000000 1.0000000000) *\n",
       "       15) ctrx_quarter>=36.5 136750  366 CONTINUA (0.0011261426 0.0015502742 0.9973235832)  \n",
       "         30) mpayroll< 8222.14 57990  309 CONTINUA (0.0022072771 0.0031212278 0.9946714951)  \n",
       "           60) mtarjeta_visa_consumo< 3003.16 7077  115 CONTINUA (0.0073477462 0.0089020772 0.9837501766)  \n",
       "            120) ccallcenter_transacciones>=1.5 450   24 CONTINUA (0.0333333333 0.0200000000 0.9466666667) *\n",
       "            121) ccallcenter_transacciones< 1.5 6627   91 CONTINUA (0.0055832202 0.0081484835 0.9862682964)  \n",
       "              242) mtransferencias_recibidas< 14094.76 3279   71 CONTINUA (0.0085391888 0.0131137542 0.9783470570)  \n",
       "                484) mcuenta_debitos_automaticos< 812.895 2224   66 CONTINUA (0.0112410072 0.0184352518 0.9703237410) *\n",
       "                485) mcuenta_debitos_automaticos>=812.895 1055    5 CONTINUA (0.0028436019 0.0018957346 0.9952606635) *\n",
       "              243) mtransferencias_recibidas>=14094.76 3348   20 CONTINUA (0.0026881720 0.0032855436 0.9940262843)  \n",
       "                486) mrentabilidad_annual< 14568.38 1108   14 CONTINUA (0.0045126354 0.0081227437 0.9873646209) *\n",
       "                487) mrentabilidad_annual>=14568.38 2240    6 CONTINUA (0.0017857143 0.0008928571 0.9973214286) *\n",
       "           61) mtarjeta_visa_consumo>=3003.16 50913  194 CONTINUA (0.0014927425 0.0023176792 0.9961895783)  \n",
       "            122) mpasivos_margen< 312.835 10498   90 CONTINUA (0.0026671747 0.0059058868 0.9914269385)  \n",
       "              244) Visa_msaldototal< 5998.06 1377   30 CONTINUA (0.0065359477 0.0152505447 0.9782135076) *\n",
       "              245) Visa_msaldototal>=5998.06 9121   60 CONTINUA (0.0020831049 0.0044951211 0.9934217739)  \n",
       "                490) ctrx_quarter< 46.5 1447   22 CONTINUA (0.0048375950 0.0103662751 0.9847961299) *\n",
       "                491) ctrx_quarter>=46.5 7674   38 CONTINUA (0.0015637217 0.0033880636 0.9950482148) *\n",
       "            123) mpasivos_margen>=312.835 40415  104 CONTINUA (0.0011876778 0.0013856241 0.9974266980)  \n",
       "              246) mcaja_ahorro< 94.985 2200   20 CONTINUA (0.0050000000 0.0040909091 0.9909090909)  \n",
       "                492) dlg2< 10.74402 652   12 CONTINUA (0.0122699387 0.0061349693 0.9815950920) *\n",
       "                493) dlg2>=10.74402 1548    8 CONTINUA (0.0019379845 0.0032299742 0.9948320413) *\n",
       "              247) mcaja_ahorro>=94.985 38215   84 CONTINUA (0.0009682062 0.0012298836 0.9978019102)  \n",
       "                494) cliente_antiguedad< 38.5 2218   15 CONTINUA (0.0040577096 0.0027051398 0.9932371506) *\n",
       "                495) cliente_antiguedad>=38.5 35997   69 CONTINUA (0.0007778426 0.0011389838 0.9980831736) *\n",
       "         31) mpayroll>=8222.14 78760   57 CONTINUA (0.0003301168 0.0003936008 0.9992762824)  \n",
       "           62) mpayroll>=1666901 137    3 CONTINUA (0.0218978102 0.0000000000 0.9781021898) *\n",
       "           63) mpayroll< 1666901 78623   54 CONTINUA (0.0002925353 0.0003942867 0.9993131781)  \n",
       "            126) ccajas_otras>=1.5 146    2 CONTINUA (0.0136986301 0.0000000000 0.9863013699) *\n",
       "            127) ccajas_otras< 1.5 78477   52 CONTINUA (0.0002675943 0.0003950202 0.9993373855)  \n",
       "              254) Visa_fechaalta>=9405.5 147    2 CONTINUA (0.0000000000 0.0136054422 0.9863945578) *\n",
       "              255) Visa_fechaalta< 9405.5 78330   50 CONTINUA (0.0002680965 0.0003702285 0.9993616750)  \n",
       "                510) dlg3>=412.7704 137    2 CONTINUA (0.0072992701 0.0072992701 0.9854014599) *\n",
       "                511) dlg3< 412.7704 78193   48 CONTINUA (0.0002557774 0.0003580883 0.9993861343) *"
      ]
     },
     "metadata": {},
     "output_type": "display_data"
    }
   ],
   "source": [
    "modelo"
   ]
  },
  {
   "cell_type": "code",
   "execution_count": 38,
   "metadata": {},
   "outputs": [
    {
     "name": "stderr",
     "output_type": "stream",
     "text": [
      "Warning message:\n",
      "\"labs do not fit even at cex 0.15, there may be some overplotting\"\n"
     ]
    },
    {
     "data": {
      "image/png": "[encoded data removed]",
      "text/plain": [
       "plot without title"
      ]
     },
     "metadata": {
      "image/png": {
       "height": 900,
       "width": 900
      }
     },
     "output_type": "display_data"
    }
   ],
   "source": [
    "#Arbol generado\n",
    "options(repr.plot.width=15, repr.plot.height=15)\n",
    "prp(modelo, extra=101, digits=5, branch=1, type=4, varlen=0, faclen=0, tweak=1.3)"
   ]
  },
  {
   "cell_type": "code",
   "execution_count": 39,
   "metadata": {},
   "outputs": [
    {
     "data": {
      "text/html": [
       "<style>\n",
       ".list-inline {list-style: none; margin:0; padding: 0}\n",
       ".list-inline>li {display: inline-block}\n",
       ".list-inline>li:not(:last-child)::after {content: \"\\00b7\"; padding: 0 .5ex}\n",
       "</style>\n",
       "<ol class=list-inline><li>'ctrx_quarter'</li><li>'mcuentas_saldo'</li><li>'cdescubierto_preacordado'</li><li>'dlg6'</li><li>'active_quarter'</li><li>'mcuenta_corriente'</li><li>'cprestamos_personales'</li><li>'mprestamos_personales'</li><li>'mv_status01'</li><li>'tarj_credito_status'</li><li>'ccomisiones_otras'</li><li>'mcaja_ahorro'</li><li>'dlg3'</li><li>'mpasivos_margen'</li><li>'mactivos_margen'</li><li>'mtarjeta_visa_consumo'</li><li>'dlg4'</li><li>'tcuentas'</li><li>'ctarjeta_visa_transacciones'</li><li>'cproductos'</li><li>'Visa_msaldopesos'</li><li>'Visa_msaldototal'</li><li>'Visa_fechaalta'</li><li>'Visa_Fvencimiento'</li><li>'tarj_credito_mfinanciacion_limite'</li><li>'dlg5'</li><li>'cliente_antiguedad'</li><li>'ctarjeta_visa'</li><li>'mrentabilidad_annual'</li><li>'Visa_mpagominimo'</li><li>'ccallcenter_transacciones'</li><li>'mpayroll'</li><li>'cpayroll_trx'</li><li>'tcallcenter'</li><li>'Master_fechaalta'</li><li>'mrentabilidad'</li><li>'mttarjeta_visa_debitos_automaticos'</li><li>'ctarjeta_visa_debitos_automaticos'</li><li>'Master_Fvencimiento'</li><li>'internet'</li><li>'mcuenta_debitos_automaticos'</li><li>'ctarjeta_master'</li><li>'mtransferencias_recibidas'</li><li>'numero_de_cliente'</li><li>'ccomisiones_mantenimiento'</li><li>'mcomisiones_mantenimiento'</li><li>'mcomisiones_otras'</li><li>'mcomisiones'</li><li>'ctransferencias_recibidas'</li><li>'mtransferencias_emitidas'</li><li>'chomebanking_transacciones'</li><li>'ccuenta_debitos_automaticos'</li><li>'thomebanking'</li><li>'ccajas_consultas'</li><li>'ctransferencias_emitidas'</li><li>'dlg2'</li><li>'mextraccion_autoservicio'</li><li>'cextraccion_autoservicio'</li><li>'cmobile_app_trx'</li><li>'minversion12'</li><li>'ccajas_otras'</li><li>'Visa_mfinanciacion_limite'</li><li>'Visa_mlimitecompra'</li><li>'mpagomiscuentas'</li><li>'mplazo_fijo_dolares'</li><li>'mtarjeta_master_consumo'</li><li>'ctarjeta_master_transacciones'</li><li>'cprestamos_hipotecarios'</li><li>'minversion2'</li><li>'ctarjeta_debito_transacciones'</li><li>'Visa_msaldodolares'</li><li>'mttarjeta_master_debitos_automaticos'</li><li>'matm_other'</li><li>'ctarjeta_master_debitos_automaticos'</li><li>'ccajas_depositos'</li><li>'cliente_edad'</li><li>'mpayroll2'</li><li>'ccaja_ahorro'</li><li>'cpayroll2_trx'</li><li>'ccheques_depositados'</li></ol>\n"
      ],
      "text/latex": [
       "\\begin{enumerate*}\n",
       "\\item 'ctrx\\_quarter'\n",
       "\\item 'mcuentas\\_saldo'\n",
       "\\item 'cdescubierto\\_preacordado'\n",
       "\\item 'dlg6'\n",
       "\\item 'active\\_quarter'\n",
       "\\item 'mcuenta\\_corriente'\n",
       "\\item 'cprestamos\\_personales'\n",
       "\\item 'mprestamos\\_personales'\n",
       "\\item 'mv\\_status01'\n",
       "\\item 'tarj\\_credito\\_status'\n",
       "\\item 'ccomisiones\\_otras'\n",
       "\\item 'mcaja\\_ahorro'\n",
       "\\item 'dlg3'\n",
       "\\item 'mpasivos\\_margen'\n",
       "\\item 'mactivos\\_margen'\n",
       "\\item 'mtarjeta\\_visa\\_consumo'\n",
       "\\item 'dlg4'\n",
       "\\item 'tcuentas'\n",
       "\\item 'ctarjeta\\_visa\\_transacciones'\n",
       "\\item 'cproductos'\n",
       "\\item 'Visa\\_msaldopesos'\n",
       "\\item 'Visa\\_msaldototal'\n",
       "\\item 'Visa\\_fechaalta'\n",
       "\\item 'Visa\\_Fvencimiento'\n",
       "\\item 'tarj\\_credito\\_mfinanciacion\\_limite'\n",
       "\\item 'dlg5'\n",
       "\\item 'cliente\\_antiguedad'\n",
       "\\item 'ctarjeta\\_visa'\n",
       "\\item 'mrentabilidad\\_annual'\n",
       "\\item 'Visa\\_mpagominimo'\n",
       "\\item 'ccallcenter\\_transacciones'\n",
       "\\item 'mpayroll'\n",
       "\\item 'cpayroll\\_trx'\n",
       "\\item 'tcallcenter'\n",
       "\\item 'Master\\_fechaalta'\n",
       "\\item 'mrentabilidad'\n",
       "\\item 'mttarjeta\\_visa\\_debitos\\_automaticos'\n",
       "\\item 'ctarjeta\\_visa\\_debitos\\_automaticos'\n",
       "\\item 'Master\\_Fvencimiento'\n",
       "\\item 'internet'\n",
       "\\item 'mcuenta\\_debitos\\_automaticos'\n",
       "\\item 'ctarjeta\\_master'\n",
       "\\item 'mtransferencias\\_recibidas'\n",
       "\\item 'numero\\_de\\_cliente'\n",
       "\\item 'ccomisiones\\_mantenimiento'\n",
       "\\item 'mcomisiones\\_mantenimiento'\n",
       "\\item 'mcomisiones\\_otras'\n",
       "\\item 'mcomisiones'\n",
       "\\item 'ctransferencias\\_recibidas'\n",
       "\\item 'mtransferencias\\_emitidas'\n",
       "\\item 'chomebanking\\_transacciones'\n",
       "\\item 'ccuenta\\_debitos\\_automaticos'\n",
       "\\item 'thomebanking'\n",
       "\\item 'ccajas\\_consultas'\n",
       "\\item 'ctransferencias\\_emitidas'\n",
       "\\item 'dlg2'\n",
       "\\item 'mextraccion\\_autoservicio'\n",
       "\\item 'cextraccion\\_autoservicio'\n",
       "\\item 'cmobile\\_app\\_trx'\n",
       "\\item 'minversion12'\n",
       "\\item 'ccajas\\_otras'\n",
       "\\item 'Visa\\_mfinanciacion\\_limite'\n",
       "\\item 'Visa\\_mlimitecompra'\n",
       "\\item 'mpagomiscuentas'\n",
       "\\item 'mplazo\\_fijo\\_dolares'\n",
       "\\item 'mtarjeta\\_master\\_consumo'\n",
       "\\item 'ctarjeta\\_master\\_transacciones'\n",
       "\\item 'cprestamos\\_hipotecarios'\n",
       "\\item 'minversion2'\n",
       "\\item 'ctarjeta\\_debito\\_transacciones'\n",
       "\\item 'Visa\\_msaldodolares'\n",
       "\\item 'mttarjeta\\_master\\_debitos\\_automaticos'\n",
       "\\item 'matm\\_other'\n",
       "\\item 'ctarjeta\\_master\\_debitos\\_automaticos'\n",
       "\\item 'ccajas\\_depositos'\n",
       "\\item 'cliente\\_edad'\n",
       "\\item 'mpayroll2'\n",
       "\\item 'ccaja\\_ahorro'\n",
       "\\item 'cpayroll2\\_trx'\n",
       "\\item 'ccheques\\_depositados'\n",
       "\\end{enumerate*}\n"
      ],
      "text/markdown": [
       "1. 'ctrx_quarter'\n",
       "2. 'mcuentas_saldo'\n",
       "3. 'cdescubierto_preacordado'\n",
       "4. 'dlg6'\n",
       "5. 'active_quarter'\n",
       "6. 'mcuenta_corriente'\n",
       "7. 'cprestamos_personales'\n",
       "8. 'mprestamos_personales'\n",
       "9. 'mv_status01'\n",
       "10. 'tarj_credito_status'\n",
       "11. 'ccomisiones_otras'\n",
       "12. 'mcaja_ahorro'\n",
       "13. 'dlg3'\n",
       "14. 'mpasivos_margen'\n",
       "15. 'mactivos_margen'\n",
       "16. 'mtarjeta_visa_consumo'\n",
       "17. 'dlg4'\n",
       "18. 'tcuentas'\n",
       "19. 'ctarjeta_visa_transacciones'\n",
       "20. 'cproductos'\n",
       "21. 'Visa_msaldopesos'\n",
       "22. 'Visa_msaldototal'\n",
       "23. 'Visa_fechaalta'\n",
       "24. 'Visa_Fvencimiento'\n",
       "25. 'tarj_credito_mfinanciacion_limite'\n",
       "26. 'dlg5'\n",
       "27. 'cliente_antiguedad'\n",
       "28. 'ctarjeta_visa'\n",
       "29. 'mrentabilidad_annual'\n",
       "30. 'Visa_mpagominimo'\n",
       "31. 'ccallcenter_transacciones'\n",
       "32. 'mpayroll'\n",
       "33. 'cpayroll_trx'\n",
       "34. 'tcallcenter'\n",
       "35. 'Master_fechaalta'\n",
       "36. 'mrentabilidad'\n",
       "37. 'mttarjeta_visa_debitos_automaticos'\n",
       "38. 'ctarjeta_visa_debitos_automaticos'\n",
       "39. 'Master_Fvencimiento'\n",
       "40. 'internet'\n",
       "41. 'mcuenta_debitos_automaticos'\n",
       "42. 'ctarjeta_master'\n",
       "43. 'mtransferencias_recibidas'\n",
       "44. 'numero_de_cliente'\n",
       "45. 'ccomisiones_mantenimiento'\n",
       "46. 'mcomisiones_mantenimiento'\n",
       "47. 'mcomisiones_otras'\n",
       "48. 'mcomisiones'\n",
       "49. 'ctransferencias_recibidas'\n",
       "50. 'mtransferencias_emitidas'\n",
       "51. 'chomebanking_transacciones'\n",
       "52. 'ccuenta_debitos_automaticos'\n",
       "53. 'thomebanking'\n",
       "54. 'ccajas_consultas'\n",
       "55. 'ctransferencias_emitidas'\n",
       "56. 'dlg2'\n",
       "57. 'mextraccion_autoservicio'\n",
       "58. 'cextraccion_autoservicio'\n",
       "59. 'cmobile_app_trx'\n",
       "60. 'minversion12'\n",
       "61. 'ccajas_otras'\n",
       "62. 'Visa_mfinanciacion_limite'\n",
       "63. 'Visa_mlimitecompra'\n",
       "64. 'mpagomiscuentas'\n",
       "65. 'mplazo_fijo_dolares'\n",
       "66. 'mtarjeta_master_consumo'\n",
       "67. 'ctarjeta_master_transacciones'\n",
       "68. 'cprestamos_hipotecarios'\n",
       "69. 'minversion2'\n",
       "70. 'ctarjeta_debito_transacciones'\n",
       "71. 'Visa_msaldodolares'\n",
       "72. 'mttarjeta_master_debitos_automaticos'\n",
       "73. 'matm_other'\n",
       "74. 'ctarjeta_master_debitos_automaticos'\n",
       "75. 'ccajas_depositos'\n",
       "76. 'cliente_edad'\n",
       "77. 'mpayroll2'\n",
       "78. 'ccaja_ahorro'\n",
       "79. 'cpayroll2_trx'\n",
       "80. 'ccheques_depositados'\n",
       "\n",
       "\n"
      ],
      "text/plain": [
       " [1] \"ctrx_quarter\"                        \n",
       " [2] \"mcuentas_saldo\"                      \n",
       " [3] \"cdescubierto_preacordado\"            \n",
       " [4] \"dlg6\"                                \n",
       " [5] \"active_quarter\"                      \n",
       " [6] \"mcuenta_corriente\"                   \n",
       " [7] \"cprestamos_personales\"               \n",
       " [8] \"mprestamos_personales\"               \n",
       " [9] \"mv_status01\"                         \n",
       "[10] \"tarj_credito_status\"                 \n",
       "[11] \"ccomisiones_otras\"                   \n",
       "[12] \"mcaja_ahorro\"                        \n",
       "[13] \"dlg3\"                                \n",
       "[14] \"mpasivos_margen\"                     \n",
       "[15] \"mactivos_margen\"                     \n",
       "[16] \"mtarjeta_visa_consumo\"               \n",
       "[17] \"dlg4\"                                \n",
       "[18] \"tcuentas\"                            \n",
       "[19] \"ctarjeta_visa_transacciones\"         \n",
       "[20] \"cproductos\"                          \n",
       "[21] \"Visa_msaldopesos\"                    \n",
       "[22] \"Visa_msaldototal\"                    \n",
       "[23] \"Visa_fechaalta\"                      \n",
       "[24] \"Visa_Fvencimiento\"                   \n",
       "[25] \"tarj_credito_mfinanciacion_limite\"   \n",
       "[26] \"dlg5\"                                \n",
       "[27] \"cliente_antiguedad\"                  \n",
       "[28] \"ctarjeta_visa\"                       \n",
       "[29] \"mrentabilidad_annual\"                \n",
       "[30] \"Visa_mpagominimo\"                    \n",
       "[31] \"ccallcenter_transacciones\"           \n",
       "[32] \"mpayroll\"                            \n",
       "[33] \"cpayroll_trx\"                        \n",
       "[34] \"tcallcenter\"                         \n",
       "[35] \"Master_fechaalta\"                    \n",
       "[36] \"mrentabilidad\"                       \n",
       "[37] \"mttarjeta_visa_debitos_automaticos\"  \n",
       "[38] \"ctarjeta_visa_debitos_automaticos\"   \n",
       "[39] \"Master_Fvencimiento\"                 \n",
       "[40] \"internet\"                            \n",
       "[41] \"mcuenta_debitos_automaticos\"         \n",
       "[42] \"ctarjeta_master\"                     \n",
       "[43] \"mtransferencias_recibidas\"           \n",
       "[44] \"numero_de_cliente\"                   \n",
       "[45] \"ccomisiones_mantenimiento\"           \n",
       "[46] \"mcomisiones_mantenimiento\"           \n",
       "[47] \"mcomisiones_otras\"                   \n",
       "[48] \"mcomisiones\"                         \n",
       "[49] \"ctransferencias_recibidas\"           \n",
       "[50] \"mtransferencias_emitidas\"            \n",
       "[51] \"chomebanking_transacciones\"          \n",
       "[52] \"ccuenta_debitos_automaticos\"         \n",
       "[53] \"thomebanking\"                        \n",
       "[54] \"ccajas_consultas\"                    \n",
       "[55] \"ctransferencias_emitidas\"            \n",
       "[56] \"dlg2\"                                \n",
       "[57] \"mextraccion_autoservicio\"            \n",
       "[58] \"cextraccion_autoservicio\"            \n",
       "[59] \"cmobile_app_trx\"                     \n",
       "[60] \"minversion12\"                        \n",
       "[61] \"ccajas_otras\"                        \n",
       "[62] \"Visa_mfinanciacion_limite\"           \n",
       "[63] \"Visa_mlimitecompra\"                  \n",
       "[64] \"mpagomiscuentas\"                     \n",
       "[65] \"mplazo_fijo_dolares\"                 \n",
       "[66] \"mtarjeta_master_consumo\"             \n",
       "[67] \"ctarjeta_master_transacciones\"       \n",
       "[68] \"cprestamos_hipotecarios\"             \n",
       "[69] \"minversion2\"                         \n",
       "[70] \"ctarjeta_debito_transacciones\"       \n",
       "[71] \"Visa_msaldodolares\"                  \n",
       "[72] \"mttarjeta_master_debitos_automaticos\"\n",
       "[73] \"matm_other\"                          \n",
       "[74] \"ctarjeta_master_debitos_automaticos\" \n",
       "[75] \"ccajas_depositos\"                    \n",
       "[76] \"cliente_edad\"                        \n",
       "[77] \"mpayroll2\"                           \n",
       "[78] \"ccaja_ahorro\"                        \n",
       "[79] \"cpayroll2_trx\"                       \n",
       "[80] \"ccheques_depositados\"                "
      ]
     },
     "metadata": {},
     "output_type": "display_data"
    }
   ],
   "source": [
    "names(modelo$variable.importance)"
   ]
  },
  {
   "cell_type": "code",
   "execution_count": null,
   "metadata": {},
   "outputs": [],
   "source": []
  }
 ],
 "metadata": {
  "kernelspec": {
   "display_name": "R",
   "language": "R",
   "name": "ir"
  },
  "language_info": {
   "codemirror_mode": "r",
   "file_extension": ".r",
   "mimetype": "text/x-r-source",
   "name": "R",
   "pygments_lexer": "r",
   "version": "4.2.1"
  }
 },
 "nbformat": 4,
 "nbformat_minor": 4
}
