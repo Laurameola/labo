{
 "cells": [
  {
   "cell_type": "code",
   "execution_count": 34,
   "id": "ef3a7418-9cf9-41d3-80f5-6cf6679c1875",
   "metadata": {},
   "outputs": [
    {
     "data": {
      "text/html": [
       "<table class=\"dataframe\">\n",
       "<caption>A matrix: 2 × 6 of type dbl</caption>\n",
       "<thead>\n",
       "\t<tr><th></th><th scope=col>used</th><th scope=col>(Mb)</th><th scope=col>gc trigger</th><th scope=col>(Mb)</th><th scope=col>max used</th><th scope=col>(Mb)</th></tr>\n",
       "</thead>\n",
       "<tbody>\n",
       "\t<tr><th scope=row>Ncells</th><td> 668438</td><td>35.7</td><td>  1292120</td><td> 69.1</td><td>  1292120</td><td> 69.1</td></tr>\n",
       "\t<tr><th scope=row>Vcells</th><td>1461287</td><td>11.2</td><td>100333152</td><td>765.5</td><td>125395738</td><td>956.7</td></tr>\n",
       "</tbody>\n",
       "</table>\n"
      ],
      "text/latex": [
       "A matrix: 2 × 6 of type dbl\n",
       "\\begin{tabular}{r|llllll}\n",
       "  & used & (Mb) & gc trigger & (Mb) & max used & (Mb)\\\\\n",
       "\\hline\n",
       "\tNcells &  668438 & 35.7 &   1292120 &  69.1 &   1292120 &  69.1\\\\\n",
       "\tVcells & 1461287 & 11.2 & 100333152 & 765.5 & 125395738 & 956.7\\\\\n",
       "\\end{tabular}\n"
      ],
      "text/markdown": [
       "\n",
       "A matrix: 2 × 6 of type dbl\n",
       "\n",
       "| <!--/--> | used | (Mb) | gc trigger | (Mb) | max used | (Mb) |\n",
       "|---|---|---|---|---|---|---|\n",
       "| Ncells |  668438 | 35.7 |   1292120 |  69.1 |   1292120 |  69.1 |\n",
       "| Vcells | 1461287 | 11.2 | 100333152 | 765.5 | 125395738 | 956.7 |\n",
       "\n"
      ],
      "text/plain": [
       "       used    (Mb) gc trigger (Mb)  max used  (Mb) \n",
       "Ncells  668438 35.7   1292120   69.1   1292120  69.1\n",
       "Vcells 1461287 11.2 100333152  765.5 125395738 956.7"
      ]
     },
     "metadata": {},
     "output_type": "display_data"
    }
   ],
   "source": [
    "#limpio la memoria\n",
    "rm( list=ls() )  #remove all objects\n",
    "gc()             #garbage collection"
   ]
  },
  {
   "cell_type": "code",
   "execution_count": 35,
   "id": "fee0fcbd-50e2-4893-8bc1-a2648e60d232",
   "metadata": {},
   "outputs": [],
   "source": [
    "semilla <- 100019\n",
    "set.seed(semilla)"
   ]
  },
  {
   "cell_type": "code",
   "execution_count": 36,
   "id": "de356078-5789-4244-93a9-f169fa0a8f86",
   "metadata": {},
   "outputs": [],
   "source": [
    "#Feature Engineering\n",
    "#creo nuevas variables dentro del mismo mes\n",
    "#Condimentar a gusto con nuevas variables\n",
    "\n",
    "require(\"data.table\")\n",
    "\n",
    "#Establezco el Working Directory\n",
    "setwd(\"C:/_MCD/Labo1/code\")  #Establezco el Working Directory\n",
    "\n",
    "kcarpeta_datasets    <- \"./datasets/\"   #KAGGLE\n",
    "#kcarpeta_datasets    <- \"./buckets/b1/datasets/\"                          #VM o Ubuntu\n",
    "\n",
    "#Archivo con datos etiquetados para entrenamiento\n",
    "karchivo_entrada      <-  paste0(kcarpeta_datasets, \"competencia1_2022.csv\")\n",
    "karchivo_salida      <-  paste0(kcarpeta_datasets, \"competencia1_2022_FE_monotonas.csv\")\n",
    "\n",
    "\n",
    "\n",
    "#lectura rapida del dataset  usando fread  de la libreria  data.table\n",
    "dataset_orig  <- fread(karchivo_entrada)\n",
    "\n"
   ]
  },
  {
   "cell_type": "code",
   "execution_count": 37,
   "id": "1069511e-1627-45a0-b841-d5c742f4dbe4",
   "metadata": {
    "vscode": {
     "languageId": "r"
    }
   },
   "outputs": [],
   "source": [
    "EnriquecerDataset <- function( dataset )\n",
    "{\n",
    "  columnas_originales <-  copy(colnames( dataset ))\n",
    "\n",
    "\n",
    "dataset[ , mv_status01       := pmax( Master_status,  Visa_status, na.rm = TRUE) ]\n",
    "\n",
    "\n",
    "dataset[ , log_mrentabilidad\t\t\t\t\t\t\t\t:= log(abs(mrentabilidad))]\n",
    "dataset[ , log_mrentabilidad_annual\t\t\t\t\t\t\t:= log(abs(mrentabilidad_annual))]\n",
    "dataset[ , log_mcuentas_saldo\t\t\t\t\t\t\t    := log(abs(mcuentas_saldo))]\n",
    "dataset[ , log_ctarjeta_debito\t\t\t\t\t\t        := log(abs(ctarjeta_debito))]\n",
    "dataset[ , log_ctarjeta_debito_transacciones\t\t\t\t:= log(abs(ctarjeta_debito_transacciones))]\t\t\t\n",
    "dataset[ , log_mprestamos_personales\t\t\t\t\t\t:= log(abs(mprestamos_personales))]\t\n",
    "dataset[ , log_cprestamos_prendarios                        := log(abs(cprestamos_prendarios))]\n",
    "dataset[ , log_cprestamos_hipotecarios                      := log(abs(cprestamos_hipotecarios))]\n",
    "dataset[ , log_cseguro_auto                                 := log(abs(cseguro_auto))]\n",
    "dataset[ , log_cseguro_vivienda                             := log(abs(cseguro_vivienda))]\n",
    "dataset[ , log_cseguro_accidentes_personales                := log(abs(cseguro_accidentes_personales))]\n",
    "dataset[ , log_cforex_buy                                   := log(abs(cforex_buy))]\n",
    "dataset[ , log_cforex_sell                                  := log(abs(cforex_sell))]\n",
    "dataset[ , log_matm                                         := log(abs(matm))]\n",
    "dataset[ , log_catm_trx_other                               := log(abs(catm_trx_other))]\n",
    "dataset[ , log_matm_other                                   := log(abs(matm_other ))]\n",
    "dataset[ , log_Visa_mfinanciacion_limite                    := log(abs(Visa_mfinanciacion_limite))]\n",
    "dataset[ , log_Visa_Fvencimiento                            := log(abs(Visa_Fvencimiento))]\n",
    "dataset[ , log_Visa_Finiciomora                             := log(abs(Visa_Finiciomora))]\n",
    "dataset[ , log_Visa_msaldototal                             := log(abs(Visa_msaldototal ))]\n",
    "dataset[ , log_Visa_mlimitecompra \t\t\t\t\t\t\t:= log(abs(Visa_mlimitecompra ))]\n",
    "dataset[ , log_Master_mlimitecompra\t\t\t\t\t\t\t:= log(abs(Master_mlimitecompra ))]\n",
    "dataset[ , sqrt_mrentabilidad\t\t\t\t\t\t\t\t:= sqrt(abs(mrentabilidad))]\n",
    "dataset[ , sqrt_mrentabilidad_annual\t\t\t\t\t\t:= sqrt(abs(mrentabilidad_annual))]\n",
    "dataset[ , sqrt_mcuentas_saldo                              := sqrt(abs(mcuentas_saldo))]\n",
    "dataset[ , sqrt_ctarjeta_debito                             := sqrt(abs(ctarjeta_debito))]\n",
    "dataset[ , sqrt_ctarjeta_debito_transacciones               := sqrt(abs(ctarjeta_debito_transacciones))]\n",
    "dataset[ , sqrt_mprestamos_personales                       := sqrt(abs(mprestamos_personales))]\n",
    "dataset[ , sqrt_cprestamos_prendarios                       := sqrt(abs(cprestamos_prendarios))]\n",
    "dataset[ , sqrt_cprestamos_hipotecarios                     := sqrt(abs(cprestamos_hipotecarios))]\n",
    "dataset[ , sqrt_cseguro_auto                                := sqrt(abs(cseguro_auto))]\n",
    "dataset[ , sqrt_cseguro_vivienda                            := sqrt(abs(cseguro_vivienda))]\n",
    "dataset[ , sqrt_cseguro_accidentes_personales               := sqrt(abs(cseguro_accidentes_personales))]\n",
    "dataset[ , sqrt_cforex_buy                                  := sqrt(abs(cforex_buy))]\n",
    "dataset[ , sqrt_cforex_sell                                 := sqrt(abs(cforex_sell))]\n",
    "dataset[ , sqrt_matm                                        := sqrt(abs(matm))]\n",
    "dataset[ , sqrt_catm_trx_other                              := sqrt(abs(catm_trx_other))]\n",
    "dataset[ , sqrt_matm_other                                  := sqrt(abs(matm_other))]\n",
    "dataset[ , sqrt_Visa_mfinanciacion_limite                   := sqrt(abs(Visa_mfinanciacion_limite))]\n",
    "dataset[ , sqrt_Visa_Fvencimiento                           := sqrt(abs(Visa_Fvencimiento))]\n",
    "dataset[ , sqrt_Visa_Finiciomora                            := sqrt(abs(Visa_Finiciomora))]\n",
    "dataset[ , sqrt_Visa_msaldototal                            := sqrt(abs(Visa_msaldototal))]\n",
    "dataset[ , sqrt_Visa_mlimitecompra                          := sqrt(abs(Visa_mlimitecompra))]\n",
    "dataset[ , sqrt_Master_mlimitecompra\t\t\t            := sqrt(abs(Master_mlimitecompra))]\n",
    "    \n",
    "    columnas_extendidas <-  copy( setdiff(  colnames(dataset), columnas_originales ) )\n",
    "\n",
    "    return (dataset)\n",
    "}\n",
    "#------------------------------------------------------------------------------\n",
    "dataset_enriq <- EnriquecerDataset( dataset_orig )\n"
   ]
  },
  {
   "cell_type": "code",
   "execution_count": 38,
   "id": "4ce027ec-4f29-4ad4-ab65-c0c23ab9001b",
   "metadata": {},
   "outputs": [
    {
     "data": {
      "text/html": [
       "<table class=\"dataframe\">\n",
       "<caption>A data.table: 10 × 1</caption>\n",
       "<thead>\n",
       "\t<tr><th scope=col>mttarjeta_visa_debitos_automaticos</th></tr>\n",
       "\t<tr><th scope=col>&lt;dbl&gt;</th></tr>\n",
       "</thead>\n",
       "<tbody>\n",
       "\t<tr><td> 2613.97</td></tr>\n",
       "\t<tr><td> 2985.28</td></tr>\n",
       "\t<tr><td>10085.93</td></tr>\n",
       "\t<tr><td> 4852.26</td></tr>\n",
       "\t<tr><td>36830.10</td></tr>\n",
       "\t<tr><td> 6014.69</td></tr>\n",
       "\t<tr><td>10374.01</td></tr>\n",
       "\t<tr><td>    0.00</td></tr>\n",
       "\t<tr><td>    0.00</td></tr>\n",
       "\t<tr><td>46233.12</td></tr>\n",
       "</tbody>\n",
       "</table>\n"
      ],
      "text/latex": [
       "A data.table: 10 × 1\n",
       "\\begin{tabular}{l}\n",
       " mttarjeta\\_visa\\_debitos\\_automaticos\\\\\n",
       " <dbl>\\\\\n",
       "\\hline\n",
       "\t  2613.97\\\\\n",
       "\t  2985.28\\\\\n",
       "\t 10085.93\\\\\n",
       "\t  4852.26\\\\\n",
       "\t 36830.10\\\\\n",
       "\t  6014.69\\\\\n",
       "\t 10374.01\\\\\n",
       "\t     0.00\\\\\n",
       "\t     0.00\\\\\n",
       "\t 46233.12\\\\\n",
       "\\end{tabular}\n"
      ],
      "text/markdown": [
       "\n",
       "A data.table: 10 × 1\n",
       "\n",
       "| mttarjeta_visa_debitos_automaticos &lt;dbl&gt; |\n",
       "|---|\n",
       "|  2613.97 |\n",
       "|  2985.28 |\n",
       "| 10085.93 |\n",
       "|  4852.26 |\n",
       "| 36830.10 |\n",
       "|  6014.69 |\n",
       "| 10374.01 |\n",
       "|     0.00 |\n",
       "|     0.00 |\n",
       "| 46233.12 |\n",
       "\n"
      ],
      "text/plain": [
       "   mttarjeta_visa_debitos_automaticos\n",
       "1   2613.97                          \n",
       "2   2985.28                          \n",
       "3  10085.93                          \n",
       "4   4852.26                          \n",
       "5  36830.10                          \n",
       "6   6014.69                          \n",
       "7  10374.01                          \n",
       "8      0.00                          \n",
       "9      0.00                          \n",
       "10 46233.12                          "
      ]
     },
     "metadata": {},
     "output_type": "display_data"
    }
   ],
   "source": [
    "as.data.table(sapply(dataset_enriq[, list(mttarjeta_visa_debitos_automaticos)], sample, 10))"
   ]
  },
  {
   "cell_type": "code",
   "execution_count": null,
   "id": "6d5f1e41-9483-48ef-8bd9-bc304b722acf",
   "metadata": {},
   "outputs": [],
   "source": []
  },
  {
   "cell_type": "code",
   "execution_count": 39,
   "id": "04fc451a-cbef-419a-84ad-2143533545be",
   "metadata": {},
   "outputs": [],
   "source": [
    "  #grabo con nombre extendido\n",
    "  fwrite( dataset_enriq,\n",
    "          file=karchivo_salida,\n",
    "          sep= \",\" )"
   ]
  }
 ],
 "metadata": {
  "kernelspec": {
   "display_name": "R",
   "language": "R",
   "name": "ir"
  },
  "language_info": {
   "codemirror_mode": "r",
   "file_extension": ".r",
   "mimetype": "text/x-r-source",
   "name": "R",
   "pygments_lexer": "r",
   "version": "4.2.1"
  }
 },
 "nbformat": 4,
 "nbformat_minor": 5
}
