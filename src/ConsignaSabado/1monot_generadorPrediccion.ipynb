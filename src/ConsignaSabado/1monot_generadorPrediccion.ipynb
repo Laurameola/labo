{
 "cells": [
  {
   "cell_type": "markdown",
   "metadata": {},
   "source": [
    "## Generador de Prediccion Estandar"
   ]
  },
  {
   "cell_type": "code",
   "execution_count": 196,
   "metadata": {},
   "outputs": [
    {
     "data": {
      "text/html": [
       "<table class=\"dataframe\">\n",
       "<caption>A matrix: 2 × 6 of type dbl</caption>\n",
       "<thead>\n",
       "\t<tr><th></th><th scope=col>used</th><th scope=col>(Mb)</th><th scope=col>gc trigger</th><th scope=col>(Mb)</th><th scope=col>max used</th><th scope=col>(Mb)</th></tr>\n",
       "</thead>\n",
       "<tbody>\n",
       "\t<tr><th scope=row>Ncells</th><td> 806812</td><td>43.1</td><td>  2717718</td><td> 145.2</td><td>  2717718</td><td> 145.2</td></tr>\n",
       "\t<tr><th scope=row>Vcells</th><td>1566057</td><td>12.0</td><td>209935052</td><td>1601.7</td><td>284568756</td><td>2171.1</td></tr>\n",
       "</tbody>\n",
       "</table>\n"
      ],
      "text/latex": [
       "A matrix: 2 × 6 of type dbl\n",
       "\\begin{tabular}{r|llllll}\n",
       "  & used & (Mb) & gc trigger & (Mb) & max used & (Mb)\\\\\n",
       "\\hline\n",
       "\tNcells &  806812 & 43.1 &   2717718 &  145.2 &   2717718 &  145.2\\\\\n",
       "\tVcells & 1566057 & 12.0 & 209935052 & 1601.7 & 284568756 & 2171.1\\\\\n",
       "\\end{tabular}\n"
      ],
      "text/markdown": [
       "\n",
       "A matrix: 2 × 6 of type dbl\n",
       "\n",
       "| <!--/--> | used | (Mb) | gc trigger | (Mb) | max used | (Mb) |\n",
       "|---|---|---|---|---|---|---|\n",
       "| Ncells |  806812 | 43.1 |   2717718 |  145.2 |   2717718 |  145.2 |\n",
       "| Vcells | 1566057 | 12.0 | 209935052 | 1601.7 | 284568756 | 2171.1 |\n",
       "\n"
      ],
      "text/plain": [
       "       used    (Mb) gc trigger (Mb)   max used  (Mb)  \n",
       "Ncells  806812 43.1   2717718   145.2   2717718  145.2\n",
       "Vcells 1566057 12.0 209935052  1601.7 284568756 2171.1"
      ]
     },
     "metadata": {},
     "output_type": "display_data"
    }
   ],
   "source": [
    "#Se limpia la memoria\n",
    "rm(list=ls())\n",
    "gc()"
   ]
  },
  {
   "cell_type": "code",
   "execution_count": 197,
   "metadata": {},
   "outputs": [],
   "source": [
    "semilla <- 100019\n",
    "set.seed(semilla)"
   ]
  },
  {
   "cell_type": "code",
   "execution_count": 198,
   "metadata": {},
   "outputs": [],
   "source": [
    "#cargo las librerias que necesito\n",
    "require(\"data.table\")\n",
    "require(\"rpart\")\n",
    "require(\"rpart.plot\")\n",
    "#Contiene funciones para evaluar performance de la clasificación\n",
    "library(\"ROCR\")"
   ]
  },
  {
   "cell_type": "code",
   "execution_count": 199,
   "metadata": {},
   "outputs": [],
   "source": [
    "setwd(\"C:/_MCD/Labo1/code\")  #Establezco el Working Directory"
   ]
  },
  {
   "cell_type": "code",
   "execution_count": 200,
   "metadata": {},
   "outputs": [],
   "source": [
    "dataset  <- fread(\"./datasets/competencia1_2022_FE_monotonas.csv\")"
   ]
  },
  {
   "cell_type": "code",
   "execution_count": 201,
   "metadata": {},
   "outputs": [],
   "source": [
    "dtrain  <- dataset[ foto_mes==202101 ]  #defino donde voy a entrenar\n",
    "dapply  <- dataset[ foto_mes==202103 ]  #defino donde voy a aplicar el modelo"
   ]
  },
  {
   "cell_type": "code",
   "execution_count": 202,
   "metadata": {},
   "outputs": [],
   "source": [
    "modelo  <- rpart(formula=    \"clase_ternaria ~ .\", #quiero predecir clase_ternaria a partir de el resto de las variables\n",
    "                 data =      dtrain,  #los datos donde voy a entrenar\n",
    "                 xval=       0,\n",
    "                 cp=        -0.483, #esto significa no limitar la complejidad de los splits\n",
    "                 minsplit= 531,   #minima cantidad de registros para que se haga el split\n",
    "                 minbucket=  21,   #tamaño minimo de una hoja\n",
    "                 maxdepth=  7 )  #PRUEBO  una profundidad de 10"
   ]
  },
  {
   "cell_type": "markdown",
   "metadata": {},
   "source": [
    "Ahora grafico el arbol, va a ser muy frondoso porque la profundidad es de 10"
   ]
  },
  {
   "cell_type": "code",
   "execution_count": 203,
   "metadata": {},
   "outputs": [],
   "source": [
    "#prp(modelo, extra=101, digits=5, branch=1, type=4, varlen=0, faclen=0)"
   ]
  },
  {
   "cell_type": "markdown",
   "metadata": {},
   "source": [
    "Ahora aplico al modelo  a los datos muevos  y genero la salida para kaggle"
   ]
  },
  {
   "cell_type": "markdown",
   "metadata": {},
   "source": [
    "aplico el modelo a los datos nuevos"
   ]
  },
  {
   "cell_type": "code",
   "execution_count": 204,
   "metadata": {},
   "outputs": [],
   "source": [
    "prediccion  <- predict( modelo, dapply , type = \"prob\") #aplico el modelo"
   ]
  },
  {
   "cell_type": "markdown",
   "metadata": {},
   "source": [
    "prediccion es una matriz con TRES columnas, llamadas \"BAJA+1\", \"BAJA+2\"  y \"CONTINUA\"\n",
    "cada columna es el vector de probabilidades "
   ]
  },
  {
   "cell_type": "markdown",
   "metadata": {},
   "source": [
    "agrego a dapply una columna nueva que es la probabilidad de BAJA+2"
   ]
  },
  {
   "cell_type": "code",
   "execution_count": 205,
   "metadata": {},
   "outputs": [],
   "source": [
    "dapply[ , prob_baja2 := prediccion[, \"BAJA+2\"] ]"
   ]
  },
  {
   "cell_type": "markdown",
   "metadata": {},
   "source": [
    "solo le envio estimulo a los registros con probabilidad de BAJA+2 mayor  a  1/40"
   ]
  },
  {
   "cell_type": "code",
   "execution_count": 206,
   "metadata": {},
   "outputs": [
    {
     "data": {
      "text/html": [
       "<table class=\"dataframe\">\n",
       "<caption>A data.table: 6 × 201</caption>\n",
       "<thead>\n",
       "\t<tr><th scope=col>numero_de_cliente</th><th scope=col>foto_mes</th><th scope=col>active_quarter</th><th scope=col>cliente_vip</th><th scope=col>internet</th><th scope=col>cliente_edad</th><th scope=col>cliente_antiguedad</th><th scope=col>mrentabilidad</th><th scope=col>mrentabilidad_annual</th><th scope=col>mcomisiones</th><th scope=col>⋯</th><th scope=col>sqrt_matm</th><th scope=col>sqrt_catm_trx_other</th><th scope=col>sqrt_matm_other</th><th scope=col>sqrt_Visa_mfinanciacion_limite</th><th scope=col>sqrt_Visa_Fvencimiento</th><th scope=col>sqrt_Visa_Finiciomora</th><th scope=col>sqrt_Visa_msaldototal</th><th scope=col>sqrt_Visa_mlimitecompra</th><th scope=col>sqrt_Master_mlimitecompra</th><th scope=col>prob_baja2</th></tr>\n",
       "\t<tr><th scope=col>&lt;int&gt;</th><th scope=col>&lt;int&gt;</th><th scope=col>&lt;int&gt;</th><th scope=col>&lt;int&gt;</th><th scope=col>&lt;int&gt;</th><th scope=col>&lt;int&gt;</th><th scope=col>&lt;int&gt;</th><th scope=col>&lt;dbl&gt;</th><th scope=col>&lt;dbl&gt;</th><th scope=col>&lt;dbl&gt;</th><th scope=col>⋯</th><th scope=col>&lt;dbl&gt;</th><th scope=col>&lt;dbl&gt;</th><th scope=col>&lt;dbl&gt;</th><th scope=col>&lt;dbl&gt;</th><th scope=col>&lt;dbl&gt;</th><th scope=col>&lt;dbl&gt;</th><th scope=col>&lt;dbl&gt;</th><th scope=col>&lt;dbl&gt;</th><th scope=col>&lt;dbl&gt;</th><th scope=col>&lt;dbl&gt;</th></tr>\n",
       "</thead>\n",
       "<tbody>\n",
       "\t<tr><td>31115668</td><td>202103</td><td>1</td><td>0</td><td>0</td><td>56</td><td>134</td><td>  688.41</td><td> 26701.84</td><td>   98.82</td><td>⋯</td><td>184.43698</td><td>1.414214</td><td>108.30512</td><td>251.6784</td><td>46.465041</td><td>NA</td><td>117.6923</td><td>265.2923</td><td>265.2923</td><td>0.0003654255</td></tr>\n",
       "\t<tr><td>31115678</td><td>202103</td><td>1</td><td>0</td><td>0</td><td>48</td><td>102</td><td>   78.43</td><td> 24418.75</td><td>  -73.62</td><td>⋯</td><td> 54.15256</td><td>1.732051</td><td> 64.07418</td><td>      NA</td><td>       NA</td><td>NA</td><td>      NA</td><td>      NA</td><td>      NA</td><td>0.0007902015</td></tr>\n",
       "\t<tr><td>31117415</td><td>202103</td><td>1</td><td>0</td><td>0</td><td>60</td><td> 55</td><td> 8101.55</td><td>  3162.23</td><td>13399.50</td><td>⋯</td><td>132.64615</td><td>1.000000</td><td> 68.49818</td><td>251.6784</td><td>40.914545</td><td>NA</td><td>168.5846</td><td>265.2923</td><td>265.2923</td><td>0.0039325352</td></tr>\n",
       "\t<tr><td>31117711</td><td>202103</td><td>1</td><td>0</td><td>0</td><td>46</td><td>275</td><td>14825.78</td><td>138050.05</td><td> 1146.27</td><td>⋯</td><td>  0.00000</td><td>0.000000</td><td>  0.00000</td><td>721.6077</td><td> 9.486833</td><td>NA</td><td>118.3093</td><td>760.6965</td><td>760.6965</td><td>0.0003654255</td></tr>\n",
       "\t<tr><td>31118145</td><td>202103</td><td>1</td><td>0</td><td>0</td><td>47</td><td>194</td><td> 2015.61</td><td> 31240.49</td><td> 1791.25</td><td>⋯</td><td>  0.00000</td><td>0.000000</td><td>  0.00000</td><td>251.6784</td><td>42.355637</td><td>NA</td><td> 33.6000</td><td>265.2923</td><td>290.6131</td><td>0.0030872138</td></tr>\n",
       "\t<tr><td>31118204</td><td>202103</td><td>1</td><td>0</td><td>0</td><td>68</td><td>260</td><td>14424.33</td><td> 71750.45</td><td> 3694.07</td><td>⋯</td><td>  0.00000</td><td>0.000000</td><td>  0.00000</td><td>595.5797</td><td>11.000000</td><td>NA</td><td>210.1990</td><td>627.7961</td><td>      NA</td><td>0.0039325352</td></tr>\n",
       "</tbody>\n",
       "</table>\n"
      ],
      "text/latex": [
       "A data.table: 6 × 201\n",
       "\\begin{tabular}{lllllllllllllllllllll}\n",
       " numero\\_de\\_cliente & foto\\_mes & active\\_quarter & cliente\\_vip & internet & cliente\\_edad & cliente\\_antiguedad & mrentabilidad & mrentabilidad\\_annual & mcomisiones & ⋯ & sqrt\\_matm & sqrt\\_catm\\_trx\\_other & sqrt\\_matm\\_other & sqrt\\_Visa\\_mfinanciacion\\_limite & sqrt\\_Visa\\_Fvencimiento & sqrt\\_Visa\\_Finiciomora & sqrt\\_Visa\\_msaldototal & sqrt\\_Visa\\_mlimitecompra & sqrt\\_Master\\_mlimitecompra & prob\\_baja2\\\\\n",
       " <int> & <int> & <int> & <int> & <int> & <int> & <int> & <dbl> & <dbl> & <dbl> & ⋯ & <dbl> & <dbl> & <dbl> & <dbl> & <dbl> & <dbl> & <dbl> & <dbl> & <dbl> & <dbl>\\\\\n",
       "\\hline\n",
       "\t 31115668 & 202103 & 1 & 0 & 0 & 56 & 134 &   688.41 &  26701.84 &    98.82 & ⋯ & 184.43698 & 1.414214 & 108.30512 & 251.6784 & 46.465041 & NA & 117.6923 & 265.2923 & 265.2923 & 0.0003654255\\\\\n",
       "\t 31115678 & 202103 & 1 & 0 & 0 & 48 & 102 &    78.43 &  24418.75 &   -73.62 & ⋯ &  54.15256 & 1.732051 &  64.07418 &       NA &        NA & NA &       NA &       NA &       NA & 0.0007902015\\\\\n",
       "\t 31117415 & 202103 & 1 & 0 & 0 & 60 &  55 &  8101.55 &   3162.23 & 13399.50 & ⋯ & 132.64615 & 1.000000 &  68.49818 & 251.6784 & 40.914545 & NA & 168.5846 & 265.2923 & 265.2923 & 0.0039325352\\\\\n",
       "\t 31117711 & 202103 & 1 & 0 & 0 & 46 & 275 & 14825.78 & 138050.05 &  1146.27 & ⋯ &   0.00000 & 0.000000 &   0.00000 & 721.6077 &  9.486833 & NA & 118.3093 & 760.6965 & 760.6965 & 0.0003654255\\\\\n",
       "\t 31118145 & 202103 & 1 & 0 & 0 & 47 & 194 &  2015.61 &  31240.49 &  1791.25 & ⋯ &   0.00000 & 0.000000 &   0.00000 & 251.6784 & 42.355637 & NA &  33.6000 & 265.2923 & 290.6131 & 0.0030872138\\\\\n",
       "\t 31118204 & 202103 & 1 & 0 & 0 & 68 & 260 & 14424.33 &  71750.45 &  3694.07 & ⋯ &   0.00000 & 0.000000 &   0.00000 & 595.5797 & 11.000000 & NA & 210.1990 & 627.7961 &       NA & 0.0039325352\\\\\n",
       "\\end{tabular}\n"
      ],
      "text/markdown": [
       "\n",
       "A data.table: 6 × 201\n",
       "\n",
       "| numero_de_cliente &lt;int&gt; | foto_mes &lt;int&gt; | active_quarter &lt;int&gt; | cliente_vip &lt;int&gt; | internet &lt;int&gt; | cliente_edad &lt;int&gt; | cliente_antiguedad &lt;int&gt; | mrentabilidad &lt;dbl&gt; | mrentabilidad_annual &lt;dbl&gt; | mcomisiones &lt;dbl&gt; | ⋯ ⋯ | sqrt_matm &lt;dbl&gt; | sqrt_catm_trx_other &lt;dbl&gt; | sqrt_matm_other &lt;dbl&gt; | sqrt_Visa_mfinanciacion_limite &lt;dbl&gt; | sqrt_Visa_Fvencimiento &lt;dbl&gt; | sqrt_Visa_Finiciomora &lt;dbl&gt; | sqrt_Visa_msaldototal &lt;dbl&gt; | sqrt_Visa_mlimitecompra &lt;dbl&gt; | sqrt_Master_mlimitecompra &lt;dbl&gt; | prob_baja2 &lt;dbl&gt; |\n",
       "|---|---|---|---|---|---|---|---|---|---|---|---|---|---|---|---|---|---|---|---|---|\n",
       "| 31115668 | 202103 | 1 | 0 | 0 | 56 | 134 |   688.41 |  26701.84 |    98.82 | ⋯ | 184.43698 | 1.414214 | 108.30512 | 251.6784 | 46.465041 | NA | 117.6923 | 265.2923 | 265.2923 | 0.0003654255 |\n",
       "| 31115678 | 202103 | 1 | 0 | 0 | 48 | 102 |    78.43 |  24418.75 |   -73.62 | ⋯ |  54.15256 | 1.732051 |  64.07418 |       NA |        NA | NA |       NA |       NA |       NA | 0.0007902015 |\n",
       "| 31117415 | 202103 | 1 | 0 | 0 | 60 |  55 |  8101.55 |   3162.23 | 13399.50 | ⋯ | 132.64615 | 1.000000 |  68.49818 | 251.6784 | 40.914545 | NA | 168.5846 | 265.2923 | 265.2923 | 0.0039325352 |\n",
       "| 31117711 | 202103 | 1 | 0 | 0 | 46 | 275 | 14825.78 | 138050.05 |  1146.27 | ⋯ |   0.00000 | 0.000000 |   0.00000 | 721.6077 |  9.486833 | NA | 118.3093 | 760.6965 | 760.6965 | 0.0003654255 |\n",
       "| 31118145 | 202103 | 1 | 0 | 0 | 47 | 194 |  2015.61 |  31240.49 |  1791.25 | ⋯ |   0.00000 | 0.000000 |   0.00000 | 251.6784 | 42.355637 | NA |  33.6000 | 265.2923 | 290.6131 | 0.0030872138 |\n",
       "| 31118204 | 202103 | 1 | 0 | 0 | 68 | 260 | 14424.33 |  71750.45 |  3694.07 | ⋯ |   0.00000 | 0.000000 |   0.00000 | 595.5797 | 11.000000 | NA | 210.1990 | 627.7961 |       NA | 0.0039325352 |\n",
       "\n"
      ],
      "text/plain": [
       "  numero_de_cliente foto_mes active_quarter cliente_vip internet cliente_edad\n",
       "1 31115668          202103   1              0           0        56          \n",
       "2 31115678          202103   1              0           0        48          \n",
       "3 31117415          202103   1              0           0        60          \n",
       "4 31117711          202103   1              0           0        46          \n",
       "5 31118145          202103   1              0           0        47          \n",
       "6 31118204          202103   1              0           0        68          \n",
       "  cliente_antiguedad mrentabilidad mrentabilidad_annual mcomisiones ⋯ sqrt_matm\n",
       "1 134                  688.41       26701.84               98.82    ⋯ 184.43698\n",
       "2 102                   78.43       24418.75              -73.62    ⋯  54.15256\n",
       "3  55                 8101.55        3162.23            13399.50    ⋯ 132.64615\n",
       "4 275                14825.78      138050.05             1146.27    ⋯   0.00000\n",
       "5 194                 2015.61       31240.49             1791.25    ⋯   0.00000\n",
       "6 260                14424.33       71750.45             3694.07    ⋯   0.00000\n",
       "  sqrt_catm_trx_other sqrt_matm_other sqrt_Visa_mfinanciacion_limite\n",
       "1 1.414214            108.30512       251.6784                      \n",
       "2 1.732051             64.07418             NA                      \n",
       "3 1.000000             68.49818       251.6784                      \n",
       "4 0.000000              0.00000       721.6077                      \n",
       "5 0.000000              0.00000       251.6784                      \n",
       "6 0.000000              0.00000       595.5797                      \n",
       "  sqrt_Visa_Fvencimiento sqrt_Visa_Finiciomora sqrt_Visa_msaldototal\n",
       "1 46.465041              NA                    117.6923             \n",
       "2        NA              NA                          NA             \n",
       "3 40.914545              NA                    168.5846             \n",
       "4  9.486833              NA                    118.3093             \n",
       "5 42.355637              NA                     33.6000             \n",
       "6 11.000000              NA                    210.1990             \n",
       "  sqrt_Visa_mlimitecompra sqrt_Master_mlimitecompra prob_baja2  \n",
       "1 265.2923                265.2923                  0.0003654255\n",
       "2       NA                      NA                  0.0007902015\n",
       "3 265.2923                265.2923                  0.0039325352\n",
       "4 760.6965                760.6965                  0.0003654255\n",
       "5 265.2923                290.6131                  0.0030872138\n",
       "6 627.7961                      NA                  0.0039325352"
      ]
     },
     "metadata": {},
     "output_type": "display_data"
    }
   ],
   "source": [
    "head(dapply)"
   ]
  },
  {
   "cell_type": "code",
   "execution_count": 207,
   "metadata": {},
   "outputs": [
    {
     "data": {
      "text/html": [
       "162900"
      ],
      "text/latex": [
       "162900"
      ],
      "text/markdown": [
       "162900"
      ],
      "text/plain": [
       "[1] 162900"
      ]
     },
     "metadata": {},
     "output_type": "display_data"
    }
   ],
   "source": [
    "nrow(dapply)"
   ]
  },
  {
   "cell_type": "code",
   "execution_count": 208,
   "metadata": {},
   "outputs": [],
   "source": [
    "dapply[ , Predicted  := as.numeric(prob_baja2 > 1/40) ]"
   ]
  },
  {
   "cell_type": "code",
   "execution_count": 209,
   "metadata": {},
   "outputs": [],
   "source": [
    "fwrite( dapply[,list(numero_de_cliente, Predicted)],\n",
    "        file= \"normal.csv\", \n",
    "        sep= \",\" )"
   ]
  },
  {
   "cell_type": "markdown",
   "metadata": {},
   "source": [
    "creo la carpeta donde va el experimento"
   ]
  },
  {
   "cell_type": "code",
   "execution_count": 210,
   "metadata": {},
   "outputs": [],
   "source": [
    "#dir.create( \"./exp/competencia1\" ) "
   ]
  },
  {
   "cell_type": "markdown",
   "metadata": {},
   "source": [
    "Hago lo mismo con train para evaluar en entrenamiento"
   ]
  },
  {
   "cell_type": "code",
   "execution_count": 211,
   "metadata": {},
   "outputs": [],
   "source": [
    "prediccion  <- predict( modelo, dtrain , type = \"prob\") #aplico el modelo\n",
    "dtrain[ , prob_baja2 := prediccion[, \"BAJA+2\"] ]\n",
    "dtrain[ , Predicted  := as.numeric(prob_baja2 > 1/40) ]"
   ]
  },
  {
   "cell_type": "markdown",
   "metadata": {},
   "source": [
    "### Curva ROC"
   ]
  },
  {
   "cell_type": "code",
   "execution_count": 212,
   "metadata": {},
   "outputs": [],
   "source": [
    "dtrain[, clase := 0]\n",
    "dtrain[ clase_ternaria=='BAJA+2' ,   clase:= 1]"
   ]
  },
  {
   "cell_type": "code",
   "execution_count": 213,
   "metadata": {},
   "outputs": [],
   "source": [
    "#Calculo las metricas\n",
    "pred <- prediction(dtrain$Predicted, dtrain$clase)\n",
    "\n",
    "#Calculo las metricas\n",
    "perf <- performance(pred, measure = \"tpr\", x.measure = \"fpr\")\n",
    "\n",
    "#Grafico la ROC\n",
    "#plot(perf, col=rainbow(10))\n",
    "\n",
    "#Determino AUC\n",
    "#performance( pred,\"auc\")@y.values"
   ]
  },
  {
   "cell_type": "markdown",
   "metadata": {},
   "source": [
    "### Ganancia"
   ]
  },
  {
   "cell_type": "code",
   "execution_count": 214,
   "metadata": {},
   "outputs": [
    {
     "data": {
      "text/html": [
       "-254684000"
      ],
      "text/latex": [
       "-254684000"
      ],
      "text/markdown": [
       "-254684000"
      ],
      "text/plain": [
       "[1] -254684000"
      ]
     },
     "metadata": {},
     "output_type": "display_data"
    },
    {
     "name": "stdout",
     "output_type": "stream",
     "text": [
      "[1] \"La Ganancia es: 27088000\"\n",
      "[1] \"TP: 532\"\n",
      "[1] \"Incentivados: 7736\"\n"
     ]
    }
   ],
   "source": [
    "#Ganancia por TP\n",
    "kTPGain               <-  78000\n",
    "\n",
    "#Pérdida por FP\n",
    "kFPGain               <-  -2000\n",
    "\n",
    "#Calculo la ganancia\n",
    "dtrain[  , ganancia:= kFPGain ] #-1250\n",
    "dtrain[ clase_ternaria=='BAJA+2' ,   ganancia:= kTPGain] #48750\n",
    "sum( dtrain$ganancia )\n",
    "\n",
    "gan <- sum( dtrain[ dtrain$Predicted==1, ganancia] )\n",
    "\n",
    "#TP\n",
    "truepositive <- sum(dtrain$Predicted*dtrain[,clase])\n",
    "\n",
    "#Incentivados Totales\n",
    "incentivados <- sum(dtrain$Predicted)\n",
    "\n",
    "print(paste(\"La Ganancia es:\", gan))\n",
    "print(paste(\"TP:\", truepositive))\n",
    "print(paste(\"Incentivados:\",incentivados))"
   ]
  },
  {
   "cell_type": "markdown",
   "metadata": {},
   "source": [
    "grabo el dataset"
   ]
  },
  {
   "cell_type": "code",
   "execution_count": 215,
   "metadata": {},
   "outputs": [],
   "source": [
    "nombre_archivo_salida <- \"./exp/competencia1/inicial.csv\""
   ]
  },
  {
   "cell_type": "code",
   "execution_count": 216,
   "metadata": {},
   "outputs": [],
   "source": [
    "fwrite( dapply[ , list(numero_de_cliente, Predicted) ], #solo los campos para Kaggle\n",
    "        file= nombre_archivo_salida, \n",
    "        sep= \",\" )"
   ]
  },
  {
   "cell_type": "code",
   "execution_count": 217,
   "metadata": {},
   "outputs": [],
   "source": [
    "options(scipen=999)"
   ]
  },
  {
   "cell_type": "code",
   "execution_count": 218,
   "metadata": {},
   "outputs": [
    {
     "data": {
      "text/plain": [
       "n= 161342 \n",
       "\n",
       "node), split, n, loss, yval, (yprob)\n",
       "      * denotes terminal node\n",
       "\n",
       "  1) root 161342 1514 CONTINUA (0.0041154814 0.0052683120 0.9906162066)  \n",
       "    2) ctrx_quarter< 13.5 8400  711 CONTINUA (0.0347619048 0.0498809524 0.9153571429)  \n",
       "      4) mcuentas_saldo< -1256.1 2928  416 CONTINUA (0.0618169399 0.0802595628 0.8579234973)  \n",
       "        8) cprestamos_personales< 1.5 2328  396 CONTINUA (0.0743127148 0.0957903780 0.8298969072)  \n",
       "         16) cdescubierto_preacordado< 0.5 321  116 CONTINUA (0.1713395639 0.1900311526 0.6386292835) *\n",
       "         17) cdescubierto_preacordado>=0.5 2007  280 CONTINUA (0.0587942202 0.0807174888 0.8604882910)  \n",
       "           34) mpasivos_margen< 8.05 1339  221 CONTINUA (0.0634802091 0.1015683346 0.8349514563)  \n",
       "             68) Visa_fechaalta>=720.5 867  177 CONTINUA (0.0807381776 0.1234140715 0.7958477509)  \n",
       "              136) log_mrentabilidad>=7.018767 700  160 CONTINUA (0.0928571429 0.1357142857 0.7714285714) *\n",
       "              137) log_mrentabilidad< 7.018767 167   17 CONTINUA (0.0299401198 0.0718562874 0.8982035928) *\n",
       "             69) Visa_fechaalta< 720.5 472   44 CONTINUA (0.0317796610 0.0614406780 0.9067796610) *\n",
       "           35) mpasivos_margen>=8.05 668   59 CONTINUA (0.0494011976 0.0389221557 0.9116766467)  \n",
       "             70) mcuenta_corriente>=-1653.825 133   23 CONTINUA (0.1052631579 0.0676691729 0.8270676692) *\n",
       "             71) mcuenta_corriente< -1653.825 535   36 CONTINUA (0.0355140187 0.0317757009 0.9327102804)  \n",
       "              142) log_Visa_Fvencimiento< 5.934208 25    6 CONTINUA (0.1200000000 0.1200000000 0.7600000000) *\n",
       "              143) log_Visa_Fvencimiento>=5.934208 510   30 CONTINUA (0.0313725490 0.0274509804 0.9411764706) *\n",
       "        9) cprestamos_personales>=1.5 600   20 CONTINUA (0.0133333333 0.0200000000 0.9666666667)  \n",
       "         18) Visa_mfinanciacion_limite>=190026 38    6 CONTINUA (0.0789473684 0.0789473684 0.8421052632) *\n",
       "         19) Visa_mfinanciacion_limite< 190026 562   14 CONTINUA (0.0088967972 0.0160142349 0.9750889680)  \n",
       "           38) ctrx_quarter< 0.5 191   12 CONTINUA (0.0209424084 0.0418848168 0.9371727749) *\n",
       "           39) ctrx_quarter>=0.5 371    2 CONTINUA (0.0026954178 0.0026954178 0.9946091644) *\n",
       "      5) mcuentas_saldo>=-1256.1 5472  295 CONTINUA (0.0202850877 0.0336257310 0.9460891813)  \n",
       "       10) log_mprestamos_personales< 9.207746 4623  278 CONTINUA (0.0229288341 0.0372052780 0.9398658880)  \n",
       "         20) cdescubierto_preacordado< 0.5 437   75 CONTINUA (0.0457665904 0.1258581236 0.8283752860) *\n",
       "         21) cdescubierto_preacordado>=0.5 4186  203 CONTINUA (0.0205446727 0.0279503106 0.9515050167)  \n",
       "           42) log_mcuentas_saldo< 4.850662 1273   94 CONTINUA (0.0322073841 0.0416339356 0.9261586803)  \n",
       "             84) Visa_fechaalta>=113.5 988   91 CONTINUA (0.0414979757 0.0506072874 0.9078947368)  \n",
       "              168) mrentabilidad>=-32.16 817   88 CONTINUA (0.0489596083 0.0587515300 0.8922888617) *\n",
       "              169) mrentabilidad< -32.16 171    3 CONTINUA (0.0058479532 0.0116959064 0.9824561404) *\n",
       "             85) Visa_fechaalta< 113.5 285    3 CONTINUA (0.0000000000 0.0105263158 0.9894736842) *\n",
       "           43) log_mcuentas_saldo>=4.850662 2913  109 CONTINUA (0.0154479918 0.0219704772 0.9625815311)  \n",
       "             86) ctarjeta_master< 0.5 410   38 CONTINUA (0.0414634146 0.0512195122 0.9073170732) *\n",
       "             87) ctarjeta_master>=0.5 2503   71 CONTINUA (0.0111865761 0.0171793847 0.9716340392)  \n",
       "              174) Visa_fechaalta>=4253.5 360   24 CONTINUA (0.0194444444 0.0472222222 0.9333333333) *\n",
       "              175) Visa_fechaalta< 4253.5 2143   47 CONTINUA (0.0097993467 0.0121325245 0.9780681288) *\n",
       "       11) log_mprestamos_personales>=9.207746 849   17 CONTINUA (0.0058892815 0.0141342756 0.9799764429)  \n",
       "         22) mprestamos_personales< 52827.76 176   13 CONTINUA (0.0170454545 0.0568181818 0.9261363636) *\n",
       "         23) mprestamos_personales>=52827.76 673    4 CONTINUA (0.0029717682 0.0029717682 0.9940564636)  \n",
       "           46) log_mrentabilidad_annual>=10.84883 45    2 CONTINUA (0.0222222222 0.0222222222 0.9555555556) *\n",
       "           47) log_mrentabilidad_annual< 10.84883 628    2 CONTINUA (0.0015923567 0.0015923567 0.9968152866)  \n",
       "             94) mcaja_ahorro_dolares>=737.795 21    1 CONTINUA (0.0000000000 0.0476190476 0.9523809524) *\n",
       "             95) mcaja_ahorro_dolares< 737.795 607    1 CONTINUA (0.0016474465 0.0000000000 0.9983525535)  \n",
       "              190) chomebanking_transacciones>=22 21    1 CONTINUA (0.0476190476 0.0000000000 0.9523809524) *\n",
       "              191) chomebanking_transacciones< 22 586    0 CONTINUA (0.0000000000 0.0000000000 1.0000000000) *\n",
       "    3) ctrx_quarter>=13.5 152942  803 CONTINUA (0.0024322946 0.0028180617 0.9947496437)  \n",
       "      6) Visa_status>=8 4526  118 CONTINUA (0.0128148475 0.0132567388 0.9739284136)  \n",
       "       12) mttarjeta_visa_debitos_automaticos>=1863.265 29   11 CONTINUA (0.1034482759 0.2758620690 0.6206896552) *\n",
       "       13) mttarjeta_visa_debitos_automaticos< 1863.265 4497  107 CONTINUA (0.0122303758 0.0115632644 0.9762063598)  \n",
       "         26) Master_mfinanciacion_limite>=228031.2 26   13 BAJA+1 (0.5000000000 0.0384615385 0.4615384615) *\n",
       "         27) Master_mfinanciacion_limite< 228031.2 4471   93 CONTINUA (0.0093938716 0.0114068441 0.9791992843)  \n",
       "           54) cpayroll_trx< 0.5 1786   81 CONTINUA (0.0201567749 0.0251959686 0.9546472564)  \n",
       "            108) mprestamos_personales< 23414.17 945   73 CONTINUA (0.0359788360 0.0412698413 0.9227513228)  \n",
       "              216) tcallcenter>=0.5 83   21 CONTINUA (0.1807228916 0.0722891566 0.7469879518) *\n",
       "              217) tcallcenter< 0.5 862   52 CONTINUA (0.0220417633 0.0382830626 0.9396751740) *\n",
       "            109) mprestamos_personales>=23414.17 841    8 CONTINUA (0.0023781213 0.0071343639 0.9904875149)  \n",
       "              218) ccajas_depositos>=0.5 25    2 CONTINUA (0.0000000000 0.0800000000 0.9200000000) *\n",
       "              219) ccajas_depositos< 0.5 816    6 CONTINUA (0.0024509804 0.0049019608 0.9926470588) *\n",
       "           55) cpayroll_trx>=0.5 2685   12 CONTINUA (0.0022346369 0.0022346369 0.9955307263)  \n",
       "            110) ccaja_ahorro>=3.5 133    7 CONTINUA (0.0375939850 0.0150375940 0.9473684211) *\n",
       "            111) ccaja_ahorro< 3.5 2552    5 CONTINUA (0.0003918495 0.0015673981 0.9980407524)  \n",
       "              222) mcuenta_corriente>=5107.86 21    2 CONTINUA (0.0000000000 0.0952380952 0.9047619048) *\n",
       "              223) mcuenta_corriente< 5107.86 2531    3 CONTINUA (0.0003951008 0.0007902015 0.9988146977) *\n",
       "      7) Visa_status< 8 148416  685 CONTINUA (0.0021156749 0.0024997305 0.9953845947)  \n",
       "       14) ctrx_quarter< 37.5 14844  354 CONTINUA (0.0115871733 0.0122608461 0.9761519806)  \n",
       "         28) mpasivos_margen< 74.005 4244  215 CONTINUA (0.0256833176 0.0249764373 0.9493402451)  \n",
       "           56) mprestamos_personales< 14851.38 3481  212 CONTINUA (0.0313128411 0.0295891985 0.9390979604)  \n",
       "            112) sqrt_Visa_msaldototal< 40.3 1664  142 CONTINUA (0.0456730769 0.0396634615 0.9146634615)  \n",
       "              224) cpayroll_trx< 0.5 1355  140 CONTINUA (0.0546125461 0.0487084871 0.8966789668) *\n",
       "              225) cpayroll_trx>=0.5 309    2 CONTINUA (0.0064724919 0.0000000000 0.9935275081) *\n",
       "            113) sqrt_Visa_msaldototal>=40.3 1817   70 CONTINUA (0.0181618052 0.0203632361 0.9614749587)  \n",
       "              226) Visa_Fvencimiento>=-652 233   24 CONTINUA (0.0515021459 0.0515021459 0.8969957082) *\n",
       "              227) Visa_Fvencimiento< -652 1584   46 CONTINUA (0.0132575758 0.0157828283 0.9709595960) *\n",
       "           57) mprestamos_personales>=14851.38 763    3 CONTINUA (0.0000000000 0.0039318480 0.9960681520)  \n",
       "            114) Visa_Fvencimiento>=-164.5 51    2 CONTINUA (0.0000000000 0.0392156863 0.9607843137) *\n",
       "            115) Visa_Fvencimiento< -164.5 712    1 CONTINUA (0.0000000000 0.0014044944 0.9985955056)  \n",
       "              230) ctrx_quarter< 14.5 28    1 CONTINUA (0.0000000000 0.0357142857 0.9642857143) *\n",
       "              231) ctrx_quarter>=14.5 684    0 CONTINUA (0.0000000000 0.0000000000 1.0000000000) *\n",
       "         29) mpasivos_margen>=74.005 10600  139 CONTINUA (0.0059433962 0.0071698113 0.9868867925)  \n",
       "           58) mcuenta_corriente< -13344.9 203   13 CONTINUA (0.0147783251 0.0492610837 0.9359605911) *\n",
       "           59) mcuenta_corriente>=-13344.9 10397  126 CONTINUA (0.0057708955 0.0063479850 0.9878811196)  \n",
       "            118) mpasivos_margen< 237.575 3476   73 CONTINUA (0.0103567319 0.0106444189 0.9789988493)  \n",
       "              236) Visa_mpagospesos>=-1457.11 1077   34 CONTINUA (0.0194986072 0.0120705664 0.9684308264) *\n",
       "              237) Visa_mpagospesos< -1457.11 2399   39 CONTINUA (0.0062526053 0.0100041684 0.9837432263) *\n",
       "            119) mpasivos_margen>=237.575 6921   53 CONTINUA (0.0034677070 0.0041901459 0.9923421471)  \n",
       "              238) Visa_cconsumos>=12.5 27    3 CONTINUA (0.1111111111 0.0000000000 0.8888888889) *\n",
       "              239) Visa_cconsumos< 12.5 6894   50 CONTINUA (0.0030461271 0.0042065564 0.9927473165) *\n",
       "       15) ctrx_quarter>=37.5 133572  331 CONTINUA (0.0010630971 0.0014149672 0.9975219357)  \n",
       "         30) mpayroll< 8222.14 56731  280 CONTINUA (0.0021152456 0.0028203275 0.9950644269)  \n",
       "           60) mtarjeta_visa_consumo< 3003.16 6178   91 CONTINUA (0.0071220460 0.0076076400 0.9852703140)  \n",
       "            120) sqrt_mcuentas_saldo< 121.5733 2270   63 CONTINUA (0.0132158590 0.0145374449 0.9722466960)  \n",
       "              240) ctarjeta_visa_debitos_automaticos>=4.5 21    4 CONTINUA (0.1428571429 0.0476190476 0.8095238095) *\n",
       "              241) ctarjeta_visa_debitos_automaticos< 4.5 2249   59 CONTINUA (0.0120053357 0.0142285460 0.9737661183) *\n",
       "            121) sqrt_mcuentas_saldo>=121.5733 3908   28 CONTINUA (0.0035823951 0.0035823951 0.9928352098)  \n",
       "              242) ccallcenter_transacciones>=9.5 21    3 CONTINUA (0.0476190476 0.0952380952 0.8571428571) *\n",
       "              243) ccallcenter_transacciones< 9.5 3887   25 CONTINUA (0.0033444816 0.0030872138 0.9935683046) *\n",
       "           61) mtarjeta_visa_consumo>=3003.16 50553  189 CONTINUA (0.0015033727 0.0022352778 0.9962613495)  \n",
       "            122) mpasivos_margen< 409.87 13366  101 CONTINUA (0.0025437678 0.0050127188 0.9924435134)  \n",
       "              244) ctrx_quarter< 46.5 1923   33 CONTINUA (0.0057202288 0.0114404576 0.9828393136) *\n",
       "              245) ctrx_quarter>=46.5 11443   68 CONTINUA (0.0020099624 0.0039325352 0.9940575024) *\n",
       "            123) mpasivos_margen>=409.87 37187   88 CONTINUA (0.0011294270 0.0012369914 0.9976335816)  \n",
       "              246) log_mcuentas_saldo< 1.593176 133    4 CONTINUA (0.0225563910 0.0075187970 0.9699248120) *\n",
       "              247) log_mcuentas_saldo>=1.593176 37054   84 CONTINUA (0.0010525179 0.0012144438 0.9977330383) *\n",
       "         31) mpayroll>=8222.14 76841   51 CONTINUA (0.0002863055 0.0003774027 0.9993362918)  \n",
       "           62) mpayroll>=1830581 114    3 CONTINUA (0.0263157895 0.0000000000 0.9736842105) *\n",
       "           63) mpayroll< 1830581 76727   48 CONTINUA (0.0002476312 0.0003779634 0.9993744054)  \n",
       "            126) ccuenta_debitos_automaticos>=28.5 21    1 CONTINUA (0.0476190476 0.0000000000 0.9523809524) *\n",
       "            127) ccuenta_debitos_automaticos< 28.5 76706   47 CONTINUA (0.0002346622 0.0003780669 0.9993872709)  \n",
       "              254) cliente_edad>=80.5 83    2 CONTINUA (0.0120481928 0.0120481928 0.9759036145) *\n",
       "              255) cliente_edad< 80.5 76623   45 CONTINUA (0.0002218655 0.0003654255 0.9994127090) *"
      ]
     },
     "metadata": {},
     "output_type": "display_data"
    }
   ],
   "source": [
    "modelo"
   ]
  },
  {
   "cell_type": "code",
   "execution_count": 219,
   "metadata": {},
   "outputs": [
    {
     "name": "stderr",
     "output_type": "stream",
     "text": [
      "Warning message:\n",
      "\"labs do not fit even at cex 0.15, there may be some overplotting\"\n"
     ]
    },
    {
     "data": {
      "image/png": "[encoded data removed]",
      "text/plain": [
       "plot without title"
      ]
     },
     "metadata": {
      "image/png": {
       "height": 900,
       "width": 900
      }
     },
     "output_type": "display_data"
    }
   ],
   "source": [
    "#Arbol generado\n",
    "options(repr.plot.width=15, repr.plot.height=15)\n",
    "prp(modelo, extra=101, digits=5, branch=1, type=4, varlen=0, faclen=0, tweak=1.3)"
   ]
  },
  {
   "cell_type": "code",
   "execution_count": 220,
   "metadata": {},
   "outputs": [
    {
     "data": {
      "text/html": [
       "<style>\n",
       ".list-inline {list-style: none; margin:0; padding: 0}\n",
       ".list-inline>li {display: inline-block}\n",
       ".list-inline>li:not(:last-child)::after {content: \"\\00b7\"; padding: 0 .5ex}\n",
       "</style>\n",
       "<ol class=list-inline><li>'ctrx_quarter'</li><li>'cdescubierto_preacordado'</li><li>'mcuentas_saldo'</li><li>'mprestamos_personales'</li><li>'sqrt_mprestamos_personales'</li><li>'active_quarter'</li><li>'mcuenta_corriente'</li><li>'cprestamos_personales'</li><li>'Visa_status'</li><li>'ccomisiones_otras'</li><li>'mv_status01'</li><li>'mpasivos_margen'</li><li>'mactivos_margen'</li><li>'mcomisiones_mantenimiento'</li><li>'mcaja_ahorro'</li><li>'mcomisiones'</li><li>'sqrt_mrentabilidad'</li><li>'ctarjeta_visa'</li><li>'Visa_fechaalta'</li><li>'mpayroll'</li><li>'cpayroll_trx'</li><li>'log_Visa_Fvencimiento'</li><li>'sqrt_Visa_Fvencimiento'</li><li>'Visa_Fvencimiento'</li><li>'mttarjeta_visa_debitos_automaticos'</li><li>'log_mprestamos_personales'</li><li>'cliente_antiguedad'</li><li>'sqrt_mcuentas_saldo'</li><li>'log_mcuentas_saldo'</li><li>'sqrt_mrentabilidad_annual'</li><li>'ccallcenter_transacciones'</li><li>'mtarjeta_visa_consumo'</li><li>'mrentabilidad'</li><li>'log_Master_mlimitecompra'</li><li>'Master_mfinanciacion_limite'</li><li>'Master_mlimitecompra'</li><li>'sqrt_Master_mlimitecompra'</li><li>'cproductos'</li><li>'Visa_mfinanciacion_limite'</li><li>'Visa_mlimitecompra'</li><li>'ctarjeta_visa_debitos_automaticos'</li><li>'tcallcenter'</li><li>'mcomisiones_otras'</li><li>'Master_fechaalta'</li><li>'log_mrentabilidad'</li><li>'ctarjeta_visa_transacciones'</li><li>'sqrt_Visa_msaldototal'</li><li>'Visa_msaldopesos'</li><li>'Visa_msaldototal'</li><li>'tcuentas'</li><li>'Visa_mpagominimo'</li><li>'mrentabilidad_annual'</li><li>'ctarjeta_master'</li><li>'ccomisiones_mantenimiento'</li><li>'log_mrentabilidad_annual'</li><li>'log_Visa_mfinanciacion_limite'</li><li>'log_Visa_mlimitecompra'</li><li>'sqrt_Visa_mfinanciacion_limite'</li><li>'sqrt_Visa_mlimitecompra'</li><li>'mextraccion_autoservicio'</li><li>'Visa_cconsumos'</li><li>'cextraccion_autoservicio'</li><li>'ccaja_ahorro'</li><li>'log_Visa_msaldototal'</li><li>'matm'</li><li>'sqrt_matm'</li><li>'Visa_mpagospesos'</li><li>'ccajas_depositos'</li><li>'mttarjeta_master_debitos_automaticos'</li><li>'ctarjeta_master_debitos_automaticos'</li><li>'numero_de_cliente'</li><li>'internet'</li><li>'ccuenta_debitos_automaticos'</li><li>'chomebanking_transacciones'</li><li>'mcaja_ahorro_dolares'</li><li>'cliente_edad'</li><li>'ctarjeta_debito_transacciones'</li><li>'Master_status'</li><li>'ccheques_depositados'</li><li>'mcheques_depositados'</li><li>'cinversion2'</li><li>'minversion2'</li><li>'mautoservicio'</li><li>'mcaja_ahorro_adicional'</li><li>'ctransferencias_recibidas'</li><li>'matm_other'</li><li>'mtransferencias_emitidas'</li><li>'sqrt_matm_other'</li></ol>\n"
      ],
      "text/latex": [
       "\\begin{enumerate*}\n",
       "\\item 'ctrx\\_quarter'\n",
       "\\item 'cdescubierto\\_preacordado'\n",
       "\\item 'mcuentas\\_saldo'\n",
       "\\item 'mprestamos\\_personales'\n",
       "\\item 'sqrt\\_mprestamos\\_personales'\n",
       "\\item 'active\\_quarter'\n",
       "\\item 'mcuenta\\_corriente'\n",
       "\\item 'cprestamos\\_personales'\n",
       "\\item 'Visa\\_status'\n",
       "\\item 'ccomisiones\\_otras'\n",
       "\\item 'mv\\_status01'\n",
       "\\item 'mpasivos\\_margen'\n",
       "\\item 'mactivos\\_margen'\n",
       "\\item 'mcomisiones\\_mantenimiento'\n",
       "\\item 'mcaja\\_ahorro'\n",
       "\\item 'mcomisiones'\n",
       "\\item 'sqrt\\_mrentabilidad'\n",
       "\\item 'ctarjeta\\_visa'\n",
       "\\item 'Visa\\_fechaalta'\n",
       "\\item 'mpayroll'\n",
       "\\item 'cpayroll\\_trx'\n",
       "\\item 'log\\_Visa\\_Fvencimiento'\n",
       "\\item 'sqrt\\_Visa\\_Fvencimiento'\n",
       "\\item 'Visa\\_Fvencimiento'\n",
       "\\item 'mttarjeta\\_visa\\_debitos\\_automaticos'\n",
       "\\item 'log\\_mprestamos\\_personales'\n",
       "\\item 'cliente\\_antiguedad'\n",
       "\\item 'sqrt\\_mcuentas\\_saldo'\n",
       "\\item 'log\\_mcuentas\\_saldo'\n",
       "\\item 'sqrt\\_mrentabilidad\\_annual'\n",
       "\\item 'ccallcenter\\_transacciones'\n",
       "\\item 'mtarjeta\\_visa\\_consumo'\n",
       "\\item 'mrentabilidad'\n",
       "\\item 'log\\_Master\\_mlimitecompra'\n",
       "\\item 'Master\\_mfinanciacion\\_limite'\n",
       "\\item 'Master\\_mlimitecompra'\n",
       "\\item 'sqrt\\_Master\\_mlimitecompra'\n",
       "\\item 'cproductos'\n",
       "\\item 'Visa\\_mfinanciacion\\_limite'\n",
       "\\item 'Visa\\_mlimitecompra'\n",
       "\\item 'ctarjeta\\_visa\\_debitos\\_automaticos'\n",
       "\\item 'tcallcenter'\n",
       "\\item 'mcomisiones\\_otras'\n",
       "\\item 'Master\\_fechaalta'\n",
       "\\item 'log\\_mrentabilidad'\n",
       "\\item 'ctarjeta\\_visa\\_transacciones'\n",
       "\\item 'sqrt\\_Visa\\_msaldototal'\n",
       "\\item 'Visa\\_msaldopesos'\n",
       "\\item 'Visa\\_msaldototal'\n",
       "\\item 'tcuentas'\n",
       "\\item 'Visa\\_mpagominimo'\n",
       "\\item 'mrentabilidad\\_annual'\n",
       "\\item 'ctarjeta\\_master'\n",
       "\\item 'ccomisiones\\_mantenimiento'\n",
       "\\item 'log\\_mrentabilidad\\_annual'\n",
       "\\item 'log\\_Visa\\_mfinanciacion\\_limite'\n",
       "\\item 'log\\_Visa\\_mlimitecompra'\n",
       "\\item 'sqrt\\_Visa\\_mfinanciacion\\_limite'\n",
       "\\item 'sqrt\\_Visa\\_mlimitecompra'\n",
       "\\item 'mextraccion\\_autoservicio'\n",
       "\\item 'Visa\\_cconsumos'\n",
       "\\item 'cextraccion\\_autoservicio'\n",
       "\\item 'ccaja\\_ahorro'\n",
       "\\item 'log\\_Visa\\_msaldototal'\n",
       "\\item 'matm'\n",
       "\\item 'sqrt\\_matm'\n",
       "\\item 'Visa\\_mpagospesos'\n",
       "\\item 'ccajas\\_depositos'\n",
       "\\item 'mttarjeta\\_master\\_debitos\\_automaticos'\n",
       "\\item 'ctarjeta\\_master\\_debitos\\_automaticos'\n",
       "\\item 'numero\\_de\\_cliente'\n",
       "\\item 'internet'\n",
       "\\item 'ccuenta\\_debitos\\_automaticos'\n",
       "\\item 'chomebanking\\_transacciones'\n",
       "\\item 'mcaja\\_ahorro\\_dolares'\n",
       "\\item 'cliente\\_edad'\n",
       "\\item 'ctarjeta\\_debito\\_transacciones'\n",
       "\\item 'Master\\_status'\n",
       "\\item 'ccheques\\_depositados'\n",
       "\\item 'mcheques\\_depositados'\n",
       "\\item 'cinversion2'\n",
       "\\item 'minversion2'\n",
       "\\item 'mautoservicio'\n",
       "\\item 'mcaja\\_ahorro\\_adicional'\n",
       "\\item 'ctransferencias\\_recibidas'\n",
       "\\item 'matm\\_other'\n",
       "\\item 'mtransferencias\\_emitidas'\n",
       "\\item 'sqrt\\_matm\\_other'\n",
       "\\end{enumerate*}\n"
      ],
      "text/markdown": [
       "1. 'ctrx_quarter'\n",
       "2. 'cdescubierto_preacordado'\n",
       "3. 'mcuentas_saldo'\n",
       "4. 'mprestamos_personales'\n",
       "5. 'sqrt_mprestamos_personales'\n",
       "6. 'active_quarter'\n",
       "7. 'mcuenta_corriente'\n",
       "8. 'cprestamos_personales'\n",
       "9. 'Visa_status'\n",
       "10. 'ccomisiones_otras'\n",
       "11. 'mv_status01'\n",
       "12. 'mpasivos_margen'\n",
       "13. 'mactivos_margen'\n",
       "14. 'mcomisiones_mantenimiento'\n",
       "15. 'mcaja_ahorro'\n",
       "16. 'mcomisiones'\n",
       "17. 'sqrt_mrentabilidad'\n",
       "18. 'ctarjeta_visa'\n",
       "19. 'Visa_fechaalta'\n",
       "20. 'mpayroll'\n",
       "21. 'cpayroll_trx'\n",
       "22. 'log_Visa_Fvencimiento'\n",
       "23. 'sqrt_Visa_Fvencimiento'\n",
       "24. 'Visa_Fvencimiento'\n",
       "25. 'mttarjeta_visa_debitos_automaticos'\n",
       "26. 'log_mprestamos_personales'\n",
       "27. 'cliente_antiguedad'\n",
       "28. 'sqrt_mcuentas_saldo'\n",
       "29. 'log_mcuentas_saldo'\n",
       "30. 'sqrt_mrentabilidad_annual'\n",
       "31. 'ccallcenter_transacciones'\n",
       "32. 'mtarjeta_visa_consumo'\n",
       "33. 'mrentabilidad'\n",
       "34. 'log_Master_mlimitecompra'\n",
       "35. 'Master_mfinanciacion_limite'\n",
       "36. 'Master_mlimitecompra'\n",
       "37. 'sqrt_Master_mlimitecompra'\n",
       "38. 'cproductos'\n",
       "39. 'Visa_mfinanciacion_limite'\n",
       "40. 'Visa_mlimitecompra'\n",
       "41. 'ctarjeta_visa_debitos_automaticos'\n",
       "42. 'tcallcenter'\n",
       "43. 'mcomisiones_otras'\n",
       "44. 'Master_fechaalta'\n",
       "45. 'log_mrentabilidad'\n",
       "46. 'ctarjeta_visa_transacciones'\n",
       "47. 'sqrt_Visa_msaldototal'\n",
       "48. 'Visa_msaldopesos'\n",
       "49. 'Visa_msaldototal'\n",
       "50. 'tcuentas'\n",
       "51. 'Visa_mpagominimo'\n",
       "52. 'mrentabilidad_annual'\n",
       "53. 'ctarjeta_master'\n",
       "54. 'ccomisiones_mantenimiento'\n",
       "55. 'log_mrentabilidad_annual'\n",
       "56. 'log_Visa_mfinanciacion_limite'\n",
       "57. 'log_Visa_mlimitecompra'\n",
       "58. 'sqrt_Visa_mfinanciacion_limite'\n",
       "59. 'sqrt_Visa_mlimitecompra'\n",
       "60. 'mextraccion_autoservicio'\n",
       "61. 'Visa_cconsumos'\n",
       "62. 'cextraccion_autoservicio'\n",
       "63. 'ccaja_ahorro'\n",
       "64. 'log_Visa_msaldototal'\n",
       "65. 'matm'\n",
       "66. 'sqrt_matm'\n",
       "67. 'Visa_mpagospesos'\n",
       "68. 'ccajas_depositos'\n",
       "69. 'mttarjeta_master_debitos_automaticos'\n",
       "70. 'ctarjeta_master_debitos_automaticos'\n",
       "71. 'numero_de_cliente'\n",
       "72. 'internet'\n",
       "73. 'ccuenta_debitos_automaticos'\n",
       "74. 'chomebanking_transacciones'\n",
       "75. 'mcaja_ahorro_dolares'\n",
       "76. 'cliente_edad'\n",
       "77. 'ctarjeta_debito_transacciones'\n",
       "78. 'Master_status'\n",
       "79. 'ccheques_depositados'\n",
       "80. 'mcheques_depositados'\n",
       "81. 'cinversion2'\n",
       "82. 'minversion2'\n",
       "83. 'mautoservicio'\n",
       "84. 'mcaja_ahorro_adicional'\n",
       "85. 'ctransferencias_recibidas'\n",
       "86. 'matm_other'\n",
       "87. 'mtransferencias_emitidas'\n",
       "88. 'sqrt_matm_other'\n",
       "\n",
       "\n"
      ],
      "text/plain": [
       " [1] \"ctrx_quarter\"                        \n",
       " [2] \"cdescubierto_preacordado\"            \n",
       " [3] \"mcuentas_saldo\"                      \n",
       " [4] \"mprestamos_personales\"               \n",
       " [5] \"sqrt_mprestamos_personales\"          \n",
       " [6] \"active_quarter\"                      \n",
       " [7] \"mcuenta_corriente\"                   \n",
       " [8] \"cprestamos_personales\"               \n",
       " [9] \"Visa_status\"                         \n",
       "[10] \"ccomisiones_otras\"                   \n",
       "[11] \"mv_status01\"                         \n",
       "[12] \"mpasivos_margen\"                     \n",
       "[13] \"mactivos_margen\"                     \n",
       "[14] \"mcomisiones_mantenimiento\"           \n",
       "[15] \"mcaja_ahorro\"                        \n",
       "[16] \"mcomisiones\"                         \n",
       "[17] \"sqrt_mrentabilidad\"                  \n",
       "[18] \"ctarjeta_visa\"                       \n",
       "[19] \"Visa_fechaalta\"                      \n",
       "[20] \"mpayroll\"                            \n",
       "[21] \"cpayroll_trx\"                        \n",
       "[22] \"log_Visa_Fvencimiento\"               \n",
       "[23] \"sqrt_Visa_Fvencimiento\"              \n",
       "[24] \"Visa_Fvencimiento\"                   \n",
       "[25] \"mttarjeta_visa_debitos_automaticos\"  \n",
       "[26] \"log_mprestamos_personales\"           \n",
       "[27] \"cliente_antiguedad\"                  \n",
       "[28] \"sqrt_mcuentas_saldo\"                 \n",
       "[29] \"log_mcuentas_saldo\"                  \n",
       "[30] \"sqrt_mrentabilidad_annual\"           \n",
       "[31] \"ccallcenter_transacciones\"           \n",
       "[32] \"mtarjeta_visa_consumo\"               \n",
       "[33] \"mrentabilidad\"                       \n",
       "[34] \"log_Master_mlimitecompra\"            \n",
       "[35] \"Master_mfinanciacion_limite\"         \n",
       "[36] \"Master_mlimitecompra\"                \n",
       "[37] \"sqrt_Master_mlimitecompra\"           \n",
       "[38] \"cproductos\"                          \n",
       "[39] \"Visa_mfinanciacion_limite\"           \n",
       "[40] \"Visa_mlimitecompra\"                  \n",
       "[41] \"ctarjeta_visa_debitos_automaticos\"   \n",
       "[42] \"tcallcenter\"                         \n",
       "[43] \"mcomisiones_otras\"                   \n",
       "[44] \"Master_fechaalta\"                    \n",
       "[45] \"log_mrentabilidad\"                   \n",
       "[46] \"ctarjeta_visa_transacciones\"         \n",
       "[47] \"sqrt_Visa_msaldototal\"               \n",
       "[48] \"Visa_msaldopesos\"                    \n",
       "[49] \"Visa_msaldototal\"                    \n",
       "[50] \"tcuentas\"                            \n",
       "[51] \"Visa_mpagominimo\"                    \n",
       "[52] \"mrentabilidad_annual\"                \n",
       "[53] \"ctarjeta_master\"                     \n",
       "[54] \"ccomisiones_mantenimiento\"           \n",
       "[55] \"log_mrentabilidad_annual\"            \n",
       "[56] \"log_Visa_mfinanciacion_limite\"       \n",
       "[57] \"log_Visa_mlimitecompra\"              \n",
       "[58] \"sqrt_Visa_mfinanciacion_limite\"      \n",
       "[59] \"sqrt_Visa_mlimitecompra\"             \n",
       "[60] \"mextraccion_autoservicio\"            \n",
       "[61] \"Visa_cconsumos\"                      \n",
       "[62] \"cextraccion_autoservicio\"            \n",
       "[63] \"ccaja_ahorro\"                        \n",
       "[64] \"log_Visa_msaldototal\"                \n",
       "[65] \"matm\"                                \n",
       "[66] \"sqrt_matm\"                           \n",
       "[67] \"Visa_mpagospesos\"                    \n",
       "[68] \"ccajas_depositos\"                    \n",
       "[69] \"mttarjeta_master_debitos_automaticos\"\n",
       "[70] \"ctarjeta_master_debitos_automaticos\" \n",
       "[71] \"numero_de_cliente\"                   \n",
       "[72] \"internet\"                            \n",
       "[73] \"ccuenta_debitos_automaticos\"         \n",
       "[74] \"chomebanking_transacciones\"          \n",
       "[75] \"mcaja_ahorro_dolares\"                \n",
       "[76] \"cliente_edad\"                        \n",
       "[77] \"ctarjeta_debito_transacciones\"       \n",
       "[78] \"Master_status\"                       \n",
       "[79] \"ccheques_depositados\"                \n",
       "[80] \"mcheques_depositados\"                \n",
       "[81] \"cinversion2\"                         \n",
       "[82] \"minversion2\"                         \n",
       "[83] \"mautoservicio\"                       \n",
       "[84] \"mcaja_ahorro_adicional\"              \n",
       "[85] \"ctransferencias_recibidas\"           \n",
       "[86] \"matm_other\"                          \n",
       "[87] \"mtransferencias_emitidas\"            \n",
       "[88] \"sqrt_matm_other\"                     "
      ]
     },
     "metadata": {},
     "output_type": "display_data"
    }
   ],
   "source": [
    "names(modelo$variable.importance)"
   ]
  },
  {
   "cell_type": "code",
   "execution_count": null,
   "metadata": {},
   "outputs": [],
   "source": []
  }
 ],
 "metadata": {
  "kernelspec": {
   "display_name": "R",
   "language": "R",
   "name": "ir"
  },
  "language_info": {
   "codemirror_mode": "r",
   "file_extension": ".r",
   "mimetype": "text/x-r-source",
   "name": "R",
   "pygments_lexer": "r",
   "version": "4.2.1"
  }
 },
 "nbformat": 4,
 "nbformat_minor": 4
}
