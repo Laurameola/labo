{
 "cells": [
  {
   "cell_type": "code",
   "execution_count": 1,
   "id": "ef3a7418-9cf9-41d3-80f5-6cf6679c1875",
   "metadata": {},
   "outputs": [
    {
     "data": {
      "text/html": [
       "<table class=\"dataframe\">\n",
       "<caption>A matrix: 2 × 6 of type dbl</caption>\n",
       "<thead>\n",
       "\t<tr><th></th><th scope=col>used</th><th scope=col>(Mb)</th><th scope=col>gc trigger</th><th scope=col>(Mb)</th><th scope=col>max used</th><th scope=col>(Mb)</th></tr>\n",
       "</thead>\n",
       "<tbody>\n",
       "\t<tr><th scope=row>Ncells</th><td> 604520</td><td>32.3</td><td>1292120</td><td>69.1</td><td>1292120</td><td>69.1</td></tr>\n",
       "\t<tr><th scope=row>Vcells</th><td>1086848</td><td> 8.3</td><td>8388608</td><td>64.0</td><td>1632674</td><td>12.5</td></tr>\n",
       "</tbody>\n",
       "</table>\n"
      ],
      "text/latex": [
       "A matrix: 2 × 6 of type dbl\n",
       "\\begin{tabular}{r|llllll}\n",
       "  & used & (Mb) & gc trigger & (Mb) & max used & (Mb)\\\\\n",
       "\\hline\n",
       "\tNcells &  604520 & 32.3 & 1292120 & 69.1 & 1292120 & 69.1\\\\\n",
       "\tVcells & 1086848 &  8.3 & 8388608 & 64.0 & 1632674 & 12.5\\\\\n",
       "\\end{tabular}\n"
      ],
      "text/markdown": [
       "\n",
       "A matrix: 2 × 6 of type dbl\n",
       "\n",
       "| <!--/--> | used | (Mb) | gc trigger | (Mb) | max used | (Mb) |\n",
       "|---|---|---|---|---|---|---|\n",
       "| Ncells |  604520 | 32.3 | 1292120 | 69.1 | 1292120 | 69.1 |\n",
       "| Vcells | 1086848 |  8.3 | 8388608 | 64.0 | 1632674 | 12.5 |\n",
       "\n"
      ],
      "text/plain": [
       "       used    (Mb) gc trigger (Mb) max used (Mb)\n",
       "Ncells  604520 32.3 1292120    69.1 1292120  69.1\n",
       "Vcells 1086848  8.3 8388608    64.0 1632674  12.5"
      ]
     },
     "metadata": {},
     "output_type": "display_data"
    }
   ],
   "source": [
    "#limpio la memoria\n",
    "rm( list=ls() )  #remove all objects\n",
    "gc()             #garbage collection"
   ]
  },
  {
   "cell_type": "code",
   "execution_count": 2,
   "id": "fee0fcbd-50e2-4893-8bc1-a2648e60d232",
   "metadata": {},
   "outputs": [],
   "source": [
    "semilla <- 100019\n",
    "set.seed(semilla)"
   ]
  },
  {
   "cell_type": "code",
   "execution_count": 3,
   "id": "de356078-5789-4244-93a9-f169fa0a8f86",
   "metadata": {},
   "outputs": [
    {
     "name": "stderr",
     "output_type": "stream",
     "text": [
      "Loading required package: data.table\n",
      "\n"
     ]
    }
   ],
   "source": [
    "#Feature Engineering\n",
    "#creo nuevas variables dentro del mismo mes\n",
    "#Condimentar a gusto con nuevas variables\n",
    "\n",
    "require(\"data.table\")\n",
    "\n",
    "#Establezco el Working Directory\n",
    "setwd(\"C:/_MCD/Labo1/code\")  #Establezco el Working Directory\n",
    "\n",
    "kcarpeta_datasets    <- \"./datasets/\"   #KAGGLE\n",
    "#kcarpeta_datasets    <- \"./buckets/b1/datasets/\"                          #VM o Ubuntu\n",
    "\n",
    "#Archivo con datos etiquetados para entrenamiento\n",
    "karchivo_entrada      <-  paste0(kcarpeta_datasets, \"competencia1_2022.csv\")\n",
    "karchivo_salida      <-  paste0(kcarpeta_datasets, \"competencia1_2022_FE_combPares.csv\")\n",
    "\n",
    "\n",
    "\n",
    "#lectura rapida del dataset  usando fread  de la libreria  data.table\n",
    "dataset_orig  <- fread(karchivo_entrada)\n",
    "\n"
   ]
  },
  {
   "cell_type": "code",
   "execution_count": 4,
   "id": "1069511e-1627-45a0-b841-d5c742f4dbe4",
   "metadata": {
    "vscode": {
     "languageId": "r"
    }
   },
   "outputs": [],
   "source": [
    "EnriquecerDataset <- function( dataset )\n",
    "{\n",
    "  columnas_originales <-  copy(colnames( dataset ))\n",
    "\n",
    "\n",
    "dataset[ , mv_status01       := pmax( Master_status,  Visa_status, na.rm = TRUE) ]\n",
    "\n",
    "    \n",
    "  dataset[ , minversion1                := rowSums( cbind( minversion1_pesos, minversion1_dolares) , na.rm=TRUE ) ]\n",
    "    dataset[ , cinversion12                := rowSums( cbind( cinversion1, cinversion2) , na.rm=TRUE ) ]\n",
    "    dataset[ , minversion12                := rowSums( cbind( minversion1, minversion2) , na.rm=TRUE ) ]\n",
    "     dataset[ , tarj_credito_status       := pmax( Master_status,  Visa_status, na.rm = TRUE) ]\n",
    "    dataset[ , tarj_credito_delinquency       := pmax( Master_delinquency,  Visa_delinquency, na.rm = TRUE) ]\n",
    "    dataset[ , tarj_credito_mfinanciacion_limite    := rowSums( cbind(Master_mfinanciacion_limite,Visa_mfinanciacion_limite ) , na.rm=TRUE ) ]\n",
    "    dataset[,dlg2 := ifelse(cliente_antiguedad==0,0,(mcomisiones/cliente_antiguedad))]\n",
    "    dataset[,dlg3 := ifelse(mactivos_margen==0,0,(mcomisiones/mactivos_margen))]\n",
    "    dataset[,dlg4 := ifelse(tcuentas==0,0,(ccuenta_corriente/tcuentas))]\n",
    "    dataset[,dlg5 := ifelse(tcuentas==0,0,(tcuentas*tcuentas))]\n",
    "    dataset[,dlg6 := ifelse(cliente_antiguedad==0,0,(mcuentas_saldo/cliente_antiguedad))]\n",
    "  \n",
    "    columnas_extendidas <-  copy( setdiff(  colnames(dataset), columnas_originales ) )\n",
    "\n",
    "    return (dataset)\n",
    "}\n",
    "#------------------------------------------------------------------------------\n",
    "dataset_enriq <- EnriquecerDataset( dataset_orig )\n"
   ]
  },
  {
   "cell_type": "code",
   "execution_count": 5,
   "id": "4ce027ec-4f29-4ad4-ab65-c0c23ab9001b",
   "metadata": {},
   "outputs": [
    {
     "data": {
      "text/html": [
       "<table class=\"dataframe\">\n",
       "<caption>A data.table: 10 × 1</caption>\n",
       "<thead>\n",
       "\t<tr><th scope=col>mttarjeta_visa_debitos_automaticos</th></tr>\n",
       "\t<tr><th scope=col>&lt;dbl&gt;</th></tr>\n",
       "</thead>\n",
       "<tbody>\n",
       "\t<tr><td> 2613.97</td></tr>\n",
       "\t<tr><td> 2985.28</td></tr>\n",
       "\t<tr><td>10085.93</td></tr>\n",
       "\t<tr><td> 4852.26</td></tr>\n",
       "\t<tr><td>36830.10</td></tr>\n",
       "\t<tr><td> 6014.69</td></tr>\n",
       "\t<tr><td>10374.01</td></tr>\n",
       "\t<tr><td>    0.00</td></tr>\n",
       "\t<tr><td>    0.00</td></tr>\n",
       "\t<tr><td>46233.12</td></tr>\n",
       "</tbody>\n",
       "</table>\n"
      ],
      "text/latex": [
       "A data.table: 10 × 1\n",
       "\\begin{tabular}{l}\n",
       " mttarjeta\\_visa\\_debitos\\_automaticos\\\\\n",
       " <dbl>\\\\\n",
       "\\hline\n",
       "\t  2613.97\\\\\n",
       "\t  2985.28\\\\\n",
       "\t 10085.93\\\\\n",
       "\t  4852.26\\\\\n",
       "\t 36830.10\\\\\n",
       "\t  6014.69\\\\\n",
       "\t 10374.01\\\\\n",
       "\t     0.00\\\\\n",
       "\t     0.00\\\\\n",
       "\t 46233.12\\\\\n",
       "\\end{tabular}\n"
      ],
      "text/markdown": [
       "\n",
       "A data.table: 10 × 1\n",
       "\n",
       "| mttarjeta_visa_debitos_automaticos &lt;dbl&gt; |\n",
       "|---|\n",
       "|  2613.97 |\n",
       "|  2985.28 |\n",
       "| 10085.93 |\n",
       "|  4852.26 |\n",
       "| 36830.10 |\n",
       "|  6014.69 |\n",
       "| 10374.01 |\n",
       "|     0.00 |\n",
       "|     0.00 |\n",
       "| 46233.12 |\n",
       "\n"
      ],
      "text/plain": [
       "   mttarjeta_visa_debitos_automaticos\n",
       "1   2613.97                          \n",
       "2   2985.28                          \n",
       "3  10085.93                          \n",
       "4   4852.26                          \n",
       "5  36830.10                          \n",
       "6   6014.69                          \n",
       "7  10374.01                          \n",
       "8      0.00                          \n",
       "9      0.00                          \n",
       "10 46233.12                          "
      ]
     },
     "metadata": {},
     "output_type": "display_data"
    }
   ],
   "source": [
    "as.data.table(sapply(dataset_enriq[, list(mttarjeta_visa_debitos_automaticos)], sample, 10))"
   ]
  },
  {
   "cell_type": "code",
   "execution_count": null,
   "id": "6d5f1e41-9483-48ef-8bd9-bc304b722acf",
   "metadata": {},
   "outputs": [],
   "source": []
  },
  {
   "cell_type": "code",
   "execution_count": 6,
   "id": "04fc451a-cbef-419a-84ad-2143533545be",
   "metadata": {},
   "outputs": [],
   "source": [
    "  #grabo con nombre extendido\n",
    "  fwrite( dataset_enriq,\n",
    "          file=karchivo_salida,\n",
    "          sep= \",\" )"
   ]
  }
 ],
 "metadata": {
  "kernelspec": {
   "display_name": "R",
   "language": "R",
   "name": "ir"
  },
  "language_info": {
   "codemirror_mode": "r",
   "file_extension": ".r",
   "mimetype": "text/x-r-source",
   "name": "R",
   "pygments_lexer": "r",
   "version": "4.2.1"
  }
 },
 "nbformat": 4,
 "nbformat_minor": 5
}
